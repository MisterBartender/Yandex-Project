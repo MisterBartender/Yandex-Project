{
 "cells": [
  {
   "cell_type": "markdown",
   "metadata": {},
   "source": [
    "# Рекомендация тарифов"
   ]
  },
  {
   "cell_type": "markdown",
   "metadata": {},
   "source": [
    "**Описание проекта**\n",
    "\n",
    "В вашем распоряжении данные о поведении клиентов, которые уже перешли на эти тарифы (из проекта курса «Статистический анализ данных»). Нужно построить модель для задачи классификации, которая выберет подходящий тариф. Предобработка данных не понадобится — вы её уже сделали.\n",
    "\n",
    "Постройте модель с максимально большим значением *accuracy*. Чтобы сдать проект успешно, нужно довести долю правильных ответов по крайней мере до 0.75. Проверьте *accuracy* на тестовой выборке самостоятельно.\n",
    "\n",
    "**Описание данных**\n",
    "- сalls — количество звонков,\n",
    "- minutes — суммарная длительность звонков в минутах,\n",
    "- messages — количество sms-сообщений,\n",
    "- mb_used — израсходованный интернет-трафик в Мб,\n",
    "- is_ultra — каким тарифом пользовался в течение месяца («Ультра» — 1, «Смарт» — 0).\n",
    "\n",
    "**План и цели работы**\n",
    "\n",
    "[1. Изучение предоставленных данных.](#section1)\n",
    "\n",
    "[2. Разбивка данных на выборки.](#section2)\n",
    "\n",
    "[3. Исследование моделей.](#section3)\n",
    "\n",
    "- [Дерево предсказаний](#section3.1)\n",
    "- [Случайный лес](#section3.2)\n",
    "- [Логистическая регрессия](#section3.3)\n",
    "\n",
    "[4. Проверка моделей на тестовой выборке.](#section4)\n",
    "\n",
    "[5. Проверка модели на адекватность.](#section5)\n",
    "\n",
    "[6. Общий вывод.](#section6)"
   ]
  },
  {
   "cell_type": "markdown",
   "metadata": {},
   "source": [
    "<a id='section1'></a>\n",
    "## Изучение предоставленных данных"
   ]
  },
  {
   "cell_type": "code",
   "execution_count": 1,
   "metadata": {},
   "outputs": [],
   "source": [
    "# импорт необходимых библиотек\n",
    "import pandas as pd\n",
    "import numpy as np\n",
    "# Импорт функции из бибилиотеки sklearn\n",
    "from sklearn.model_selection import train_test_split\n",
    "# Импорт метода дерева принятия решений\n",
    "from sklearn.tree import DecisionTreeClassifier\n",
    "# Импорт метода оценки доли правильных ответов\n",
    "from sklearn.metrics import accuracy_score\n",
    "# Импортируем алгоритм случайного леса\n",
    "from sklearn.ensemble import RandomForestClassifier\n",
    "from sklearn.linear_model import LogisticRegression\n",
    "import random"
   ]
  },
  {
   "cell_type": "code",
   "execution_count": 2,
   "metadata": {},
   "outputs": [],
   "source": [
    "# сохраним данные в переменную\n",
    "df = pd.read_csv('/datasets/users_behavior.csv')"
   ]
  },
  {
   "cell_type": "code",
   "execution_count": 3,
   "metadata": {},
   "outputs": [
    {
     "data": {
      "text/html": [
       "<div>\n",
       "<style scoped>\n",
       "    .dataframe tbody tr th:only-of-type {\n",
       "        vertical-align: middle;\n",
       "    }\n",
       "\n",
       "    .dataframe tbody tr th {\n",
       "        vertical-align: top;\n",
       "    }\n",
       "\n",
       "    .dataframe thead th {\n",
       "        text-align: right;\n",
       "    }\n",
       "</style>\n",
       "<table border=\"1\" class=\"dataframe\">\n",
       "  <thead>\n",
       "    <tr style=\"text-align: right;\">\n",
       "      <th></th>\n",
       "      <th>calls</th>\n",
       "      <th>minutes</th>\n",
       "      <th>messages</th>\n",
       "      <th>mb_used</th>\n",
       "      <th>is_ultra</th>\n",
       "    </tr>\n",
       "  </thead>\n",
       "  <tbody>\n",
       "    <tr>\n",
       "      <th>2755</th>\n",
       "      <td>63.0</td>\n",
       "      <td>543.38</td>\n",
       "      <td>17.0</td>\n",
       "      <td>17229.84</td>\n",
       "      <td>0</td>\n",
       "    </tr>\n",
       "    <tr>\n",
       "      <th>719</th>\n",
       "      <td>1.0</td>\n",
       "      <td>8.33</td>\n",
       "      <td>5.0</td>\n",
       "      <td>2346.71</td>\n",
       "      <td>0</td>\n",
       "    </tr>\n",
       "    <tr>\n",
       "      <th>1972</th>\n",
       "      <td>5.0</td>\n",
       "      <td>13.39</td>\n",
       "      <td>0.0</td>\n",
       "      <td>2292.07</td>\n",
       "      <td>0</td>\n",
       "    </tr>\n",
       "    <tr>\n",
       "      <th>286</th>\n",
       "      <td>45.0</td>\n",
       "      <td>314.64</td>\n",
       "      <td>14.0</td>\n",
       "      <td>7332.79</td>\n",
       "      <td>0</td>\n",
       "    </tr>\n",
       "    <tr>\n",
       "      <th>2686</th>\n",
       "      <td>32.0</td>\n",
       "      <td>218.95</td>\n",
       "      <td>0.0</td>\n",
       "      <td>36180.51</td>\n",
       "      <td>1</td>\n",
       "    </tr>\n",
       "  </tbody>\n",
       "</table>\n",
       "</div>"
      ],
      "text/plain": [
       "      calls  minutes  messages   mb_used  is_ultra\n",
       "2755   63.0   543.38      17.0  17229.84         0\n",
       "719     1.0     8.33       5.0   2346.71         0\n",
       "1972    5.0    13.39       0.0   2292.07         0\n",
       "286    45.0   314.64      14.0   7332.79         0\n",
       "2686   32.0   218.95       0.0  36180.51         1"
      ]
     },
     "metadata": {},
     "output_type": "display_data"
    },
    {
     "name": "stdout",
     "output_type": "stream",
     "text": [
      "<class 'pandas.core.frame.DataFrame'>\n",
      "RangeIndex: 3214 entries, 0 to 3213\n",
      "Data columns (total 5 columns):\n",
      " #   Column    Non-Null Count  Dtype  \n",
      "---  ------    --------------  -----  \n",
      " 0   calls     3214 non-null   float64\n",
      " 1   minutes   3214 non-null   float64\n",
      " 2   messages  3214 non-null   float64\n",
      " 3   mb_used   3214 non-null   float64\n",
      " 4   is_ultra  3214 non-null   int64  \n",
      "dtypes: float64(4), int64(1)\n",
      "memory usage: 125.7 KB\n"
     ]
    },
    {
     "data": {
      "text/plain": [
       "None"
      ]
     },
     "metadata": {},
     "output_type": "display_data"
    }
   ],
   "source": [
    "# посмотрим на таблицу и информацию по ней\n",
    "display(df.sample(5))\n",
    "display(df.info())"
   ]
  },
  {
   "cell_type": "markdown",
   "metadata": {},
   "source": [
    "**Вывод:**\n",
    "\n",
    "- пропуски отсутствуют\n",
    "- типы данных соответствуют\n",
    "- в предобработке данные не нуждаются"
   ]
  },
  {
   "cell_type": "markdown",
   "metadata": {},
   "source": [
    "<a id='section2'></a>\n",
    "## Разбивка данных на выборки"
   ]
  },
  {
   "cell_type": "markdown",
   "metadata": {},
   "source": [
    "Разобьём данные на три выборки: *обучающую*, *валидационную* и *тестовую* в отношении 3-1-1 с помощью метода train_test_split()."
   ]
  },
  {
   "cell_type": "code",
   "execution_count": 4,
   "metadata": {},
   "outputs": [],
   "source": [
    "# Поделим датафрейм на обучающую выборку и выборку, которую позже разделим на валидационную и тестовую\n",
    "df_train, df_divide = train_test_split(df, test_size = 0.40, random_state = 12345)\n",
    "\n",
    "# Поделим df_divide валидационную и тестовую выборку\n",
    "df_valid, df_test = train_test_split(df_divide, test_size = 0.50, random_state = 12345)"
   ]
  },
  {
   "cell_type": "code",
   "execution_count": 5,
   "metadata": {},
   "outputs": [
    {
     "name": "stdout",
     "output_type": "stream",
     "text": [
      "1928\n",
      "643\n",
      "643\n"
     ]
    }
   ],
   "source": [
    "print(len(df_train))\n",
    "print(len(df_valid))\n",
    "print(len(df_test))"
   ]
  },
  {
   "cell_type": "markdown",
   "metadata": {},
   "source": [
    "**Вывод:** выборки были разделены."
   ]
  },
  {
   "cell_type": "markdown",
   "metadata": {},
   "source": [
    "<a id='section3'></a>\n",
    "## Исследование моделей"
   ]
  },
  {
   "cell_type": "markdown",
   "metadata": {},
   "source": [
    "Разделим наши датафреймы на целевой признак который нужно предсказать и признаки, которые помогут нам его предсказать:"
   ]
  },
  {
   "cell_type": "code",
   "execution_count": 6,
   "metadata": {},
   "outputs": [],
   "source": [
    "# features и target - целевой признак\n",
    "# обучающего датафрейма\n",
    "features_train = df_train.drop(['is_ultra'], axis = 1)\n",
    "target_train = df_train['is_ultra']\n",
    "\n",
    "# валидационного датафрейма\n",
    "features_valid = df_valid.drop(['is_ultra'], axis = 1)  \n",
    "target_valid = df_valid['is_ultra']\n",
    "\n",
    "# тестового датафрейма\n",
    "features_test = df_valid.drop(['is_ultra'], axis = 1)\n",
    "target_test = df_valid['is_ultra']"
   ]
  },
  {
   "cell_type": "markdown",
   "metadata": {},
   "source": [
    "<a id='section3.1'></a>\n",
    "**Модель дерево предсказаний**"
   ]
  },
  {
   "cell_type": "code",
   "execution_count": 7,
   "metadata": {},
   "outputs": [
    {
     "name": "stdout",
     "output_type": "stream",
     "text": [
      "max_depth: 1 accuracy: 0.7542768273716952\n",
      "max_depth: 3 accuracy: 0.7853810264385692\n",
      "max_depth: 5 accuracy: 0.7791601866251944\n",
      "max_depth: 7 accuracy: 0.7822706065318819\n",
      "max_depth: 9 accuracy: 0.7822706065318819\n",
      "max_depth: 11 accuracy: 0.7620528771384136\n",
      "max_depth: 13 accuracy: 0.7558320373250389\n",
      "max_depth: 15 accuracy: 0.7465007776049767\n",
      "max_depth: 17 accuracy: 0.7356143079315708\n",
      "max_depth: 19 accuracy: 0.7278382581648523\n",
      "max_depth: 21 accuracy: 0.7278382581648523\n",
      "max_depth: 23 accuracy: 0.7169517884914464\n",
      "max_depth: 25 accuracy: 0.713841368584759\n",
      "max_depth: 27 accuracy: 0.713841368584759\n",
      "max_depth: 29 accuracy: 0.713841368584759\n"
     ]
    }
   ],
   "source": [
    "for depth in range(1,30,2):\n",
    "    model_tree = DecisionTreeClassifier(random_state = 12345, max_depth = depth) # имя\n",
    "    \n",
    "    model_tree.fit(features_train, target_train) # обучение\n",
    "    \n",
    "    prediction_tree = model_tree.predict(features_valid) # проверка\n",
    "    \n",
    "    print('max_depth:',depth,end='')\n",
    "    print(' accuracy:',accuracy_score(prediction_tree,target_valid))"
   ]
  },
  {
   "cell_type": "markdown",
   "metadata": {},
   "source": [
    "При max_depth = 3, accuracy = 0.7853810"
   ]
  },
  {
   "cell_type": "markdown",
   "metadata": {},
   "source": [
    "<a id='section3.2'></a>\n",
    "**Алгорит случайного леса**"
   ]
  },
  {
   "cell_type": "code",
   "execution_count": 8,
   "metadata": {},
   "outputs": [
    {
     "name": "stdout",
     "output_type": "stream",
     "text": [
      "n_estimators: 1 accuracy: 0.7713841368584758\n",
      "n_estimators: 3 accuracy: 0.7869362363919129\n",
      "n_estimators: 5 accuracy: 0.7853810264385692\n",
      "n_estimators: 7 accuracy: 0.7900466562986003\n",
      "n_estimators: 9 accuracy: 0.7947122861586314\n",
      "n_estimators: 11 accuracy: 0.7900466562986003\n",
      "n_estimators: 13 accuracy: 0.7962674961119751\n",
      "n_estimators: 15 accuracy: 0.80248833592535\n",
      "n_estimators: 17 accuracy: 0.8009331259720062\n",
      "n_estimators: 19 accuracy: 0.8009331259720062\n",
      "n_estimators: 21 accuracy: 0.8009331259720062\n",
      "n_estimators: 23 accuracy: 0.80248833592535\n",
      "n_estimators: 25 accuracy: 0.7993779160186625\n",
      "n_estimators: 27 accuracy: 0.7978227060653188\n",
      "n_estimators: 29 accuracy: 0.7978227060653188\n"
     ]
    }
   ],
   "source": [
    "for estim in range(1,30,2):    \n",
    "    model_forest=RandomForestClassifier(max_depth = 9, n_estimators = estim, \n",
    "                                        random_state = 12345, min_samples_leaf = 5) # имя\n",
    "    \n",
    "    model_forest.fit(features_train, target_train) # обучение\n",
    "    \n",
    "    prediction_forest=model_forest.predict(features_valid) # проверка\n",
    "    \n",
    "    print('n_estimators:',estim,end=\"\")\n",
    "    print(' accuracy:',accuracy_score(prediction_forest,target_valid))"
   ]
  },
  {
   "cell_type": "markdown",
   "metadata": {},
   "source": [
    "При max_depth = 9, max_samples_leaf = 5 и n_estimators= 15 (лучшее значение), accuracy = 0.8024883"
   ]
  },
  {
   "cell_type": "markdown",
   "metadata": {},
   "source": [
    "<a id='section3.3'></a>\n",
    "**Логостическая регрессия**"
   ]
  },
  {
   "cell_type": "code",
   "execution_count": 9,
   "metadata": {},
   "outputs": [
    {
     "name": "stdout",
     "output_type": "stream",
     "text": [
      "accuracy: 0.7107309486780715\n"
     ]
    }
   ],
   "source": [
    "model_logistic_Reg=LogisticRegression()\n",
    "\n",
    "model_logistic_Reg.fit(features_train,target_train) # обучение\n",
    "\n",
    "predict_LogisticReg=model_logistic_Reg.predict(features_valid) # провка\n",
    "\n",
    "print('accuracy:',accuracy_score(predict_LogisticReg,target_valid))"
   ]
  },
  {
   "cell_type": "markdown",
   "metadata": {},
   "source": [
    "Модель не переобучивается. accuracy = 0.7107309 (Самое низкое)"
   ]
  },
  {
   "cell_type": "markdown",
   "metadata": {},
   "source": [
    "**Вывод:**\n",
    "\n",
    "После обучение трёх разных моделей, были получены следующие результаты\n",
    "\n",
    "- \"Дерево предсказания\" (при гиперпараметрах max_depth = 3): 0.7853810\n",
    "- \"Случайный лес\" (при гиперпараметрах max_depth = 9, max_samples_leaf = 5 и n_estimators = 15): 0.8024883\n",
    "- \"Логистическая регрессия\": 0.7107309\n",
    "\n",
    "\"Случайный лес\" - лучшая получившаяся модель."
   ]
  },
  {
   "cell_type": "markdown",
   "metadata": {},
   "source": [
    "<a id='section4'></a>\n",
    "## Проверка моделей на тестовой выборке"
   ]
  },
  {
   "cell_type": "markdown",
   "metadata": {},
   "source": [
    "Тест данных на модели \"**Дерево предсказаний**\""
   ]
  },
  {
   "cell_type": "code",
   "execution_count": 10,
   "metadata": {},
   "outputs": [
    {
     "name": "stdout",
     "output_type": "stream",
     "text": [
      " accuracy: 0.7853810264385692\n"
     ]
    }
   ],
   "source": [
    "model_tree = DecisionTreeClassifier(random_state = 12345, max_depth = 3)\n",
    "\n",
    "model_tree.fit(features_train, target_train)\n",
    "\n",
    "prediction_tree = model_tree.predict(features_test)\n",
    "\n",
    "print(' accuracy:',accuracy_score(prediction_tree,target_test))"
   ]
  },
  {
   "cell_type": "markdown",
   "metadata": {},
   "source": [
    "Тест данных на модели \"**Случайный лес**\""
   ]
  },
  {
   "cell_type": "code",
   "execution_count": 11,
   "metadata": {},
   "outputs": [
    {
     "name": "stdout",
     "output_type": "stream",
     "text": [
      " accuracy: 0.80248833592535\n"
     ]
    }
   ],
   "source": [
    "model_forest = RandomForestClassifier(max_depth = 9, n_estimators = 15, random_state = 12345, min_samples_leaf = 5)\n",
    "\n",
    "model_forest.fit(features_train, target_train)\n",
    "\n",
    "prediction_forest = model_forest.predict(features_test)\n",
    "\n",
    "print(' accuracy:',accuracy_score(prediction_forest, target_test))"
   ]
  },
  {
   "cell_type": "markdown",
   "metadata": {},
   "source": [
    "Тест данных на модели \"**Логистическая регрессия**\""
   ]
  },
  {
   "cell_type": "code",
   "execution_count": 12,
   "metadata": {},
   "outputs": [
    {
     "name": "stdout",
     "output_type": "stream",
     "text": [
      "accuracy: 0.7107309486780715\n"
     ]
    }
   ],
   "source": [
    "model_logistic_Reg = LogisticRegression()\n",
    "\n",
    "model_logistic_Reg.fit(features_train, target_train)\n",
    "\n",
    "predict_LogisticReg = model_logistic_Reg.predict(features_test)\n",
    "\n",
    "print('accuracy:',accuracy_score(predict_LogisticReg, target_test))"
   ]
  },
  {
   "cell_type": "markdown",
   "metadata": {},
   "source": [
    "**Вывод:**\n",
    "\n",
    "Модели проверены на тестовой выборке. Метрики качества валидационной модели равны метрикам качества тестовой выборки."
   ]
  },
  {
   "cell_type": "markdown",
   "metadata": {},
   "source": [
    "<a id='section5'></a>\n",
    "## (бонус) Проверка модели на адекватность"
   ]
  },
  {
   "cell_type": "markdown",
   "metadata": {},
   "source": [
    "Проверим адекватность модели через функцию, предсказывающую значение признака is_ultra по типу \"орёл-решка\""
   ]
  },
  {
   "cell_type": "code",
   "execution_count": 13,
   "metadata": {},
   "outputs": [
    {
     "name": "stdout",
     "output_type": "stream",
     "text": [
      "accuracy = 0.5085537\n"
     ]
    }
   ],
   "source": [
    "\n",
    "random_predictions = np.random.randint(low = 0, high = 2, size = 643) \n",
    "\n",
    "accuracy = accuracy_score(target_test, random_predictions) # доля правильных ответов\n",
    "\n",
    "print('accuracy =','{:.7f}'.format(accuracy)) # выведем долю правильных ответов"
   ]
  },
  {
   "cell_type": "markdown",
   "metadata": {},
   "source": [
    "## Общий вывод"
   ]
  },
  {
   "cell_type": "markdown",
   "metadata": {},
   "source": [
    "Наиболее адекватные предсказания делает модель \"Случайный лес\", это видно по точности предсказания на валидационной и на тестовой выборке."
   ]
  }
 ],
 "metadata": {
  "ExecuteTimeLog": [
   {
    "duration": 417,
    "start_time": "2022-06-10T07:29:59.824Z"
   },
   {
    "duration": 88,
    "start_time": "2022-06-10T07:30:58.025Z"
   },
   {
    "duration": 28,
    "start_time": "2022-06-10T07:32:28.238Z"
   },
   {
    "duration": 42,
    "start_time": "2022-06-10T07:33:44.351Z"
   },
   {
    "duration": 365,
    "start_time": "2022-06-10T07:34:16.088Z"
   },
   {
    "duration": 74,
    "start_time": "2022-06-10T07:34:16.460Z"
   },
   {
    "duration": 122,
    "start_time": "2022-06-10T07:34:39.757Z"
   },
   {
    "duration": 21,
    "start_time": "2022-06-10T07:36:01.881Z"
   },
   {
    "duration": 11,
    "start_time": "2022-06-10T07:36:39.723Z"
   },
   {
    "duration": 19,
    "start_time": "2022-06-10T07:41:11.573Z"
   },
   {
    "duration": 651,
    "start_time": "2022-06-10T07:50:08.134Z"
   },
   {
    "duration": 7,
    "start_time": "2022-06-10T07:51:38.144Z"
   },
   {
    "duration": 6,
    "start_time": "2022-06-10T08:18:21.486Z"
   },
   {
    "duration": 42,
    "start_time": "2022-06-10T08:19:19.248Z"
   },
   {
    "duration": 129,
    "start_time": "2022-06-10T08:21:03.753Z"
   },
   {
    "duration": 138,
    "start_time": "2022-06-10T08:21:12.089Z"
   },
   {
    "duration": 81,
    "start_time": "2022-06-10T08:21:37.449Z"
   },
   {
    "duration": 89,
    "start_time": "2022-06-10T08:21:50.633Z"
   },
   {
    "duration": 920,
    "start_time": "2022-06-10T08:23:31.086Z"
   },
   {
    "duration": 85,
    "start_time": "2022-06-10T08:23:47.112Z"
   },
   {
    "duration": 13,
    "start_time": "2022-06-10T08:28:11.786Z"
   },
   {
    "duration": 294,
    "start_time": "2022-06-10T08:28:12.231Z"
   },
   {
    "duration": 1687,
    "start_time": "2022-06-10T08:28:46.344Z"
   },
   {
    "duration": 270,
    "start_time": "2022-06-10T08:29:02.696Z"
   },
   {
    "duration": 273,
    "start_time": "2022-06-10T08:29:59.530Z"
   },
   {
    "duration": 118,
    "start_time": "2022-06-10T08:30:07.254Z"
   },
   {
    "duration": 96,
    "start_time": "2022-06-10T08:30:21.032Z"
   },
   {
    "duration": 294,
    "start_time": "2022-06-10T08:36:03.302Z"
   },
   {
    "duration": 110,
    "start_time": "2022-06-10T08:36:15.088Z"
   },
   {
    "duration": 318,
    "start_time": "2022-06-10T08:38:57.257Z"
   },
   {
    "duration": 377,
    "start_time": "2022-06-10T08:39:08.898Z"
   },
   {
    "duration": 383,
    "start_time": "2022-06-10T08:39:25.911Z"
   },
   {
    "duration": 264,
    "start_time": "2022-06-10T08:39:35.901Z"
   },
   {
    "duration": 415,
    "start_time": "2022-06-10T08:39:47.102Z"
   },
   {
    "duration": 25233,
    "start_time": "2022-06-10T08:39:52.249Z"
   },
   {
    "duration": 366,
    "start_time": "2022-06-10T08:40:34.222Z"
   },
   {
    "duration": 101,
    "start_time": "2022-06-10T08:42:13.525Z"
   },
   {
    "duration": 60,
    "start_time": "2022-06-10T08:42:27.494Z"
   },
   {
    "duration": 95,
    "start_time": "2022-06-10T08:42:34.152Z"
   },
   {
    "duration": 414,
    "start_time": "2022-06-10T09:34:36.992Z"
   },
   {
    "duration": 416,
    "start_time": "2022-06-10T09:36:47.818Z"
   },
   {
    "duration": 420,
    "start_time": "2022-06-10T09:36:58.399Z"
   },
   {
    "duration": 643,
    "start_time": "2022-06-10T09:37:13.709Z"
   },
   {
    "duration": 660,
    "start_time": "2022-06-10T09:37:43.711Z"
   },
   {
    "duration": 1581,
    "start_time": "2022-06-10T09:38:03.089Z"
   },
   {
    "duration": 452,
    "start_time": "2022-06-10T09:38:22.584Z"
   },
   {
    "duration": 277,
    "start_time": "2022-06-10T09:38:59.919Z"
   },
   {
    "duration": 399,
    "start_time": "2022-06-10T09:39:30.738Z"
   },
   {
    "duration": 436,
    "start_time": "2022-06-10T09:40:17.753Z"
   },
   {
    "duration": 135,
    "start_time": "2022-06-10T09:41:41.351Z"
   },
   {
    "duration": 106,
    "start_time": "2022-06-10T09:42:03.216Z"
   },
   {
    "duration": 2,
    "start_time": "2022-06-10T09:44:18.617Z"
   },
   {
    "duration": 406,
    "start_time": "2022-06-10T09:44:19.051Z"
   },
   {
    "duration": 377,
    "start_time": "2022-06-10T09:55:30.828Z"
   },
   {
    "duration": 594,
    "start_time": "2022-06-10T09:55:44.508Z"
   },
   {
    "duration": 427,
    "start_time": "2022-06-10T10:15:43.509Z"
   },
   {
    "duration": 118,
    "start_time": "2022-06-10T10:17:48.613Z"
   },
   {
    "duration": 111,
    "start_time": "2022-06-10T10:20:32.223Z"
   },
   {
    "duration": 110,
    "start_time": "2022-06-10T10:20:38.182Z"
   },
   {
    "duration": 115,
    "start_time": "2022-06-10T10:20:41.653Z"
   },
   {
    "duration": 114,
    "start_time": "2022-06-10T10:20:56.211Z"
   },
   {
    "duration": 3,
    "start_time": "2022-06-10T10:31:21.911Z"
   },
   {
    "duration": 208,
    "start_time": "2022-06-10T10:33:53.864Z"
   },
   {
    "duration": 166,
    "start_time": "2022-06-10T10:34:20.712Z"
   },
   {
    "duration": 184,
    "start_time": "2022-06-10T10:34:55.491Z"
   },
   {
    "duration": 1180,
    "start_time": "2022-06-10T10:37:29.039Z"
   },
   {
    "duration": 29,
    "start_time": "2022-06-10T10:37:30.221Z"
   },
   {
    "duration": 49,
    "start_time": "2022-06-10T10:37:30.253Z"
   },
   {
    "duration": 49,
    "start_time": "2022-06-10T10:37:30.307Z"
   },
   {
    "duration": 70,
    "start_time": "2022-06-10T10:37:30.361Z"
   },
   {
    "duration": 73,
    "start_time": "2022-06-10T10:37:30.434Z"
   },
   {
    "duration": 174,
    "start_time": "2022-06-10T10:37:30.509Z"
   },
   {
    "duration": 14,
    "start_time": "2022-06-10T10:37:30.685Z"
   },
   {
    "duration": 3019,
    "start_time": "2022-06-10T10:43:01.226Z"
   },
   {
    "duration": 1211,
    "start_time": "2022-06-10T10:43:24.478Z"
   },
   {
    "duration": 1131,
    "start_time": "2022-06-10T10:43:50.316Z"
   },
   {
    "duration": 1072,
    "start_time": "2022-06-10T10:44:08.930Z"
   },
   {
    "duration": 1095,
    "start_time": "2022-06-10T10:44:38.889Z"
   },
   {
    "duration": 1055,
    "start_time": "2022-06-10T10:45:33.855Z"
   },
   {
    "duration": 954,
    "start_time": "2022-06-10T10:45:39.640Z"
   },
   {
    "duration": 1019,
    "start_time": "2022-06-10T10:45:43.467Z"
   },
   {
    "duration": 1115,
    "start_time": "2022-06-10T10:45:49.538Z"
   },
   {
    "duration": 1301,
    "start_time": "2022-06-10T10:45:56.737Z"
   },
   {
    "duration": 1541,
    "start_time": "2022-06-10T10:46:10.044Z"
   },
   {
    "duration": 53,
    "start_time": "2022-06-10T10:46:11.588Z"
   },
   {
    "duration": 53,
    "start_time": "2022-06-10T10:46:11.644Z"
   },
   {
    "duration": 51,
    "start_time": "2022-06-10T10:46:11.698Z"
   },
   {
    "duration": 93,
    "start_time": "2022-06-10T10:46:11.752Z"
   },
   {
    "duration": 426,
    "start_time": "2022-06-10T10:46:11.847Z"
   },
   {
    "duration": 239,
    "start_time": "2022-06-10T10:46:12.275Z"
   },
   {
    "duration": 84,
    "start_time": "2022-06-10T10:46:12.518Z"
   },
   {
    "duration": 1197,
    "start_time": "2022-06-10T10:46:12.605Z"
   },
   {
    "duration": 862,
    "start_time": "2022-06-10T10:46:46.235Z"
   },
   {
    "duration": 1605,
    "start_time": "2022-06-10T10:46:51.586Z"
   },
   {
    "duration": 1229,
    "start_time": "2022-06-10T10:46:56.800Z"
   },
   {
    "duration": 4,
    "start_time": "2022-06-10T10:49:08.618Z"
   },
   {
    "duration": 4,
    "start_time": "2022-06-10T10:49:29.751Z"
   },
   {
    "duration": 10,
    "start_time": "2022-06-10T10:49:50.840Z"
   },
   {
    "duration": 7,
    "start_time": "2022-06-10T10:49:55.208Z"
   },
   {
    "duration": 194,
    "start_time": "2022-06-10T10:50:00.750Z"
   },
   {
    "duration": 6,
    "start_time": "2022-06-10T10:53:40.427Z"
   },
   {
    "duration": 6,
    "start_time": "2022-06-10T10:53:43.999Z"
   },
   {
    "duration": 182,
    "start_time": "2022-06-10T10:53:45.513Z"
   },
   {
    "duration": 3,
    "start_time": "2022-06-10T10:57:17.131Z"
   },
   {
    "duration": 43,
    "start_time": "2022-06-10T10:57:17.458Z"
   },
   {
    "duration": 729,
    "start_time": "2022-06-10T10:58:13.154Z"
   },
   {
    "duration": 815,
    "start_time": "2022-06-10T10:58:18.419Z"
   },
   {
    "duration": 814,
    "start_time": "2022-06-10T10:58:28.099Z"
   },
   {
    "duration": 931,
    "start_time": "2022-06-10T10:58:33.901Z"
   },
   {
    "duration": 1071,
    "start_time": "2022-06-10T10:58:37.920Z"
   },
   {
    "duration": 893,
    "start_time": "2022-06-10T10:58:42.411Z"
   },
   {
    "duration": 806,
    "start_time": "2022-06-10T10:58:50.518Z"
   },
   {
    "duration": 891,
    "start_time": "2022-06-10T10:58:54.604Z"
   },
   {
    "duration": 865,
    "start_time": "2022-06-10T10:58:58.031Z"
   },
   {
    "duration": 823,
    "start_time": "2022-06-10T10:59:03.782Z"
   },
   {
    "duration": 844,
    "start_time": "2022-06-10T10:59:07.739Z"
   },
   {
    "duration": 1302,
    "start_time": "2022-06-10T11:25:39.475Z"
   },
   {
    "duration": 49,
    "start_time": "2022-06-10T11:25:40.782Z"
   },
   {
    "duration": 45,
    "start_time": "2022-06-10T11:25:40.833Z"
   },
   {
    "duration": 39,
    "start_time": "2022-06-10T11:25:40.884Z"
   },
   {
    "duration": 12,
    "start_time": "2022-06-10T11:25:40.925Z"
   },
   {
    "duration": 17,
    "start_time": "2022-06-10T11:25:40.939Z"
   },
   {
    "duration": 90,
    "start_time": "2022-06-10T11:25:40.958Z"
   },
   {
    "duration": 213,
    "start_time": "2022-06-10T11:25:41.049Z"
   },
   {
    "duration": 19,
    "start_time": "2022-06-10T11:25:41.268Z"
   },
   {
    "duration": 953,
    "start_time": "2022-06-10T11:25:41.290Z"
   },
   {
    "duration": 3,
    "start_time": "2022-06-10T11:25:42.245Z"
   },
   {
    "duration": 46,
    "start_time": "2022-06-10T11:25:42.250Z"
   },
   {
    "duration": 32,
    "start_time": "2022-06-10T11:25:42.303Z"
   },
   {
    "duration": 52,
    "start_time": "2022-06-10T11:25:42.337Z"
   },
   {
    "duration": 39,
    "start_time": "2022-06-10T11:25:42.391Z"
   },
   {
    "duration": 81,
    "start_time": "2022-06-10T11:26:43.492Z"
   },
   {
    "duration": 80,
    "start_time": "2022-06-10T11:27:00.428Z"
   },
   {
    "duration": 1285,
    "start_time": "2022-06-10T11:42:31.608Z"
   },
   {
    "duration": 45,
    "start_time": "2022-06-10T11:42:32.895Z"
   },
   {
    "duration": 52,
    "start_time": "2022-06-10T11:42:32.942Z"
   },
   {
    "duration": 21,
    "start_time": "2022-06-10T11:42:33.007Z"
   },
   {
    "duration": 67,
    "start_time": "2022-06-10T11:42:33.032Z"
   },
   {
    "duration": 23,
    "start_time": "2022-06-10T11:42:33.104Z"
   },
   {
    "duration": 100,
    "start_time": "2022-06-10T11:42:33.130Z"
   },
   {
    "duration": 179,
    "start_time": "2022-06-10T11:42:33.232Z"
   },
   {
    "duration": 16,
    "start_time": "2022-06-10T11:42:33.413Z"
   },
   {
    "duration": 933,
    "start_time": "2022-06-10T11:42:33.431Z"
   },
   {
    "duration": 3,
    "start_time": "2022-06-10T11:42:34.366Z"
   },
   {
    "duration": 56,
    "start_time": "2022-06-10T11:42:34.370Z"
   },
   {
    "duration": 10,
    "start_time": "2022-06-10T11:42:34.428Z"
   },
   {
    "duration": 71,
    "start_time": "2022-06-10T11:42:34.442Z"
   },
   {
    "duration": 29,
    "start_time": "2022-06-10T11:42:34.515Z"
   },
   {
    "duration": 8,
    "start_time": "2022-06-10T11:57:32.939Z"
   },
   {
    "duration": 156,
    "start_time": "2022-06-10T12:05:10.392Z"
   },
   {
    "duration": 7,
    "start_time": "2022-06-10T12:05:18.584Z"
   },
   {
    "duration": 12,
    "start_time": "2022-06-10T12:05:25.645Z"
   },
   {
    "duration": 7,
    "start_time": "2022-06-10T12:06:34.524Z"
   },
   {
    "duration": 5,
    "start_time": "2022-06-10T12:06:38.301Z"
   },
   {
    "duration": 5,
    "start_time": "2022-06-10T12:06:42.684Z"
   },
   {
    "duration": 4,
    "start_time": "2022-06-10T12:06:45.902Z"
   },
   {
    "duration": 1738,
    "start_time": "2022-06-10T12:10:39.016Z"
   },
   {
    "duration": 55,
    "start_time": "2022-06-10T12:10:40.756Z"
   },
   {
    "duration": 42,
    "start_time": "2022-06-10T12:10:40.814Z"
   },
   {
    "duration": 15,
    "start_time": "2022-06-10T12:10:40.858Z"
   },
   {
    "duration": 58,
    "start_time": "2022-06-10T12:10:40.877Z"
   },
   {
    "duration": 25,
    "start_time": "2022-06-10T12:10:40.937Z"
   },
   {
    "duration": 115,
    "start_time": "2022-06-10T12:10:40.964Z"
   },
   {
    "duration": 201,
    "start_time": "2022-06-10T12:10:41.086Z"
   },
   {
    "duration": 17,
    "start_time": "2022-06-10T12:10:41.290Z"
   },
   {
    "duration": 918,
    "start_time": "2022-06-10T12:10:41.309Z"
   },
   {
    "duration": 3,
    "start_time": "2022-06-10T12:10:42.229Z"
   },
   {
    "duration": 44,
    "start_time": "2022-06-10T12:10:42.234Z"
   },
   {
    "duration": 16,
    "start_time": "2022-06-10T12:10:42.280Z"
   },
   {
    "duration": 84,
    "start_time": "2022-06-10T12:10:42.302Z"
   },
   {
    "duration": 31,
    "start_time": "2022-06-10T12:10:42.389Z"
   },
   {
    "duration": 7,
    "start_time": "2022-06-10T12:10:42.422Z"
   },
   {
    "duration": 1215,
    "start_time": "2022-06-11T09:03:35.722Z"
   },
   {
    "duration": 123,
    "start_time": "2022-06-11T09:03:36.939Z"
   },
   {
    "duration": 27,
    "start_time": "2022-06-11T09:03:37.064Z"
   },
   {
    "duration": 7,
    "start_time": "2022-06-11T09:03:37.094Z"
   },
   {
    "duration": 6,
    "start_time": "2022-06-11T09:03:37.103Z"
   },
   {
    "duration": 10,
    "start_time": "2022-06-11T09:03:37.111Z"
   },
   {
    "duration": 163,
    "start_time": "2022-06-11T09:03:37.123Z"
   },
   {
    "duration": 853,
    "start_time": "2022-06-11T09:03:37.288Z"
   },
   {
    "duration": 35,
    "start_time": "2022-06-11T09:03:38.145Z"
   },
   {
    "duration": 9,
    "start_time": "2022-06-11T09:03:38.184Z"
   },
   {
    "duration": 68,
    "start_time": "2022-06-11T09:03:38.195Z"
   },
   {
    "duration": 33,
    "start_time": "2022-06-11T09:03:38.265Z"
   },
   {
    "duration": 5,
    "start_time": "2022-06-11T09:03:38.302Z"
   }
  ],
  "kernelspec": {
   "display_name": "Python 3 (ipykernel)",
   "language": "python",
   "name": "python3"
  },
  "language_info": {
   "codemirror_mode": {
    "name": "ipython",
    "version": 3
   },
   "file_extension": ".py",
   "mimetype": "text/x-python",
   "name": "python",
   "nbconvert_exporter": "python",
   "pygments_lexer": "ipython3",
   "version": "3.9.5"
  },
  "toc": {
   "base_numbering": 1,
   "nav_menu": {},
   "number_sections": true,
   "sideBar": true,
   "skip_h1_title": true,
   "title_cell": "Table of Contents",
   "title_sidebar": "Contents",
   "toc_cell": false,
   "toc_position": {
    "height": "calc(100% - 180px)",
    "left": "10px",
    "top": "150px",
    "width": "323.903px"
   },
   "toc_section_display": true,
   "toc_window_display": true
  }
 },
 "nbformat": 4,
 "nbformat_minor": 2
}

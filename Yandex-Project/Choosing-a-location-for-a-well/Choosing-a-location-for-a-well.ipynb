{
 "cells": [
  {
   "cell_type": "markdown",
   "metadata": {},
   "source": [
    "# Выбор локации для скважины"
   ]
  },
  {
   "cell_type": "markdown",
   "metadata": {},
   "source": [
    "**Описание проекта**\n",
    "\n",
    "Допустим, вы работаете в добывающей компании «ГлавРосГосНефть». Нужно решить, где бурить новую скважину.\n",
    "\n",
    "Вам предоставлены пробы нефти в трёх регионах: в каждом 10 000 месторождений, где измерили качество нефти и объём её запасов. \n",
    "\n",
    "**Цели и задачи**\n",
    "\n",
    "- Gостроить модель машинного обучения, которая поможет определить регион, где добыча принесёт наибольшую прибыль.\n",
    "- Проанализировать возможную прибыль и риски техникой Bootstrap.\n",
    "\n",
    "**Шаги для выбора локации**\n",
    "\n",
    "- В избранном регионе ищут месторождения, для каждого определяют значения признаков;\n",
    "- Строят модель и оценивают объём запасов;\n",
    "- Выбирают месторождения с самым высокими оценками значений. Количество месторождений зависит от бюджета компании и стоимости разработки одной скважины;\n",
    "- Прибыль равна суммарной прибыли отобранных месторождений.\n",
    "\n",
    "**Описание данных**\n",
    "\n",
    "- Данные геологоразведки трёх регионов находятся в файлах: geo_data_0.csv, geo_data_1.csv, geo_data_2.csv\n",
    "- id — уникальный идентификатор скважины.\n",
    "- f0, f1, f2 — три признака точек (неважно, что они означают, но сами признаки значимы).\n",
    "- product — объём запасов в скважине (тыс. баррелей).\n",
    "\n",
    "**Условия задачи**\n",
    "- Для обучения модели подходит только линейная регрессия (остальные — недостаточно предсказуемые).\n",
    "- При разведке региона исследуют 500 точек, из которых с помощью машинного обучения выбирают 200 лучших для разработки.\n",
    "- Бюджет на разработку скважин в регионе — 10 млрд рублей.\n",
    "- При нынешних ценах один баррель сырья приносит 450 рублей дохода. Доход с каждой единицы продукта составляет 450 тыс. рублей, поскольку объём указан в тысячах баррелей.\n",
    "- После оценки рисков нужно оставить лишь те регионы, в которых вероятность убытков меньше 2.5%. Среди них выбирают регион с наибольшей средней прибылью.\n",
    "\n",
    "**План выполнения работы**\n",
    "\n",
    "[1  Загрузка и подготовка данных](#section1)\n",
    "\n",
    "[1.1  Загрузка данных](#section1.1)\n",
    "\n",
    "[1.2  Погдотовка данных](#section1.2)\n",
    "\n",
    "[2  Обучение и проверка модели](#section2)\n",
    "\n",
    "[2.1  Разбитие данных на обучающую и валидационную выборки в соотношении 75:25](#section2.1)\n",
    "\n",
    "   - [2.1.1  обучающий/валидационный набор для первого региона](#section2.1.1)\n",
    "\n",
    "   - [2.1.2  обучающий/валидационный набор для второго региона](#section2.1.2)\n",
    "\n",
    "   - [2.1.3  обучающий/валидационный набор для третьего региона](#section2.1.3)\n",
    "   \n",
    "\n",
    "[2.2  Обучение/предсказание моделей](#section2.2)\n",
    "\n",
    "\n",
    "[2.3  Результат предсказаний для всех регионов](#section2.3)\n",
    "\n",
    "[3  Подготовка к расчёту прибыли](#section3)\n",
    "\n",
    "[4  Расчёт прибыли и рисков](#section4)\n",
    "\n",
    "[4.1  Расчёт прибыли](#section4.1)\n",
    "\n",
    "[4.2  Расчёт рисков](#section4.2)\n",
    "\n",
    "[5  Общий вывод](#section5)\n"
   ]
  },
  {
   "cell_type": "markdown",
   "metadata": {},
   "source": [
    "<a id='section1'></a>\n",
    "## Загрузка и подготовка данных"
   ]
  },
  {
   "cell_type": "markdown",
   "metadata": {},
   "source": [
    "<a id='section1.1'></a>\n",
    "### Загрузка данных"
   ]
  },
  {
   "cell_type": "code",
   "execution_count": 1,
   "metadata": {},
   "outputs": [],
   "source": [
    "# добавляем необходимые библиотеки для работы\n",
    "import pandas as pd\n",
    "from sklearn.model_selection import train_test_split\n",
    "import numpy as np\n",
    "from sklearn.linear_model import LinearRegression\n",
    "from sklearn.metrics import mean_squared_error\n",
    "from sklearn.preprocessing import StandardScaler\n",
    "from numpy import sqrt"
   ]
  },
  {
   "cell_type": "code",
   "execution_count": 2,
   "metadata": {},
   "outputs": [],
   "source": [
    "# сохраним данные геологоразведки в переменных\n",
    "df_0 = pd.read_csv('/datasets/geo_data_0.csv')\n",
    "df_1 = pd.read_csv('/datasets/geo_data_1.csv')\n",
    "df_2 = pd.read_csv('/datasets/geo_data_2.csv')"
   ]
  },
  {
   "cell_type": "code",
   "execution_count": 3,
   "metadata": {},
   "outputs": [
    {
     "data": {
      "text/html": [
       "<div>\n",
       "<style scoped>\n",
       "    .dataframe tbody tr th:only-of-type {\n",
       "        vertical-align: middle;\n",
       "    }\n",
       "\n",
       "    .dataframe tbody tr th {\n",
       "        vertical-align: top;\n",
       "    }\n",
       "\n",
       "    .dataframe thead th {\n",
       "        text-align: right;\n",
       "    }\n",
       "</style>\n",
       "<table border=\"1\" class=\"dataframe\">\n",
       "  <thead>\n",
       "    <tr style=\"text-align: right;\">\n",
       "      <th></th>\n",
       "      <th>id</th>\n",
       "      <th>f0</th>\n",
       "      <th>f1</th>\n",
       "      <th>f2</th>\n",
       "      <th>product</th>\n",
       "    </tr>\n",
       "  </thead>\n",
       "  <tbody>\n",
       "    <tr>\n",
       "      <th>0</th>\n",
       "      <td>txEyH</td>\n",
       "      <td>0.705745</td>\n",
       "      <td>-0.497823</td>\n",
       "      <td>1.221170</td>\n",
       "      <td>105.280062</td>\n",
       "    </tr>\n",
       "    <tr>\n",
       "      <th>1</th>\n",
       "      <td>2acmU</td>\n",
       "      <td>1.334711</td>\n",
       "      <td>-0.340164</td>\n",
       "      <td>4.365080</td>\n",
       "      <td>73.037750</td>\n",
       "    </tr>\n",
       "    <tr>\n",
       "      <th>2</th>\n",
       "      <td>409Wp</td>\n",
       "      <td>1.022732</td>\n",
       "      <td>0.151990</td>\n",
       "      <td>1.419926</td>\n",
       "      <td>85.265647</td>\n",
       "    </tr>\n",
       "    <tr>\n",
       "      <th>3</th>\n",
       "      <td>iJLyR</td>\n",
       "      <td>-0.032172</td>\n",
       "      <td>0.139033</td>\n",
       "      <td>2.978566</td>\n",
       "      <td>168.620776</td>\n",
       "    </tr>\n",
       "    <tr>\n",
       "      <th>4</th>\n",
       "      <td>Xdl7t</td>\n",
       "      <td>1.988431</td>\n",
       "      <td>0.155413</td>\n",
       "      <td>4.751769</td>\n",
       "      <td>154.036647</td>\n",
       "    </tr>\n",
       "  </tbody>\n",
       "</table>\n",
       "</div>"
      ],
      "text/plain": [
       "      id        f0        f1        f2     product\n",
       "0  txEyH  0.705745 -0.497823  1.221170  105.280062\n",
       "1  2acmU  1.334711 -0.340164  4.365080   73.037750\n",
       "2  409Wp  1.022732  0.151990  1.419926   85.265647\n",
       "3  iJLyR -0.032172  0.139033  2.978566  168.620776\n",
       "4  Xdl7t  1.988431  0.155413  4.751769  154.036647"
      ]
     },
     "metadata": {},
     "output_type": "display_data"
    },
    {
     "name": "stdout",
     "output_type": "stream",
     "text": [
      "<class 'pandas.core.frame.DataFrame'>\n",
      "RangeIndex: 100000 entries, 0 to 99999\n",
      "Data columns (total 5 columns):\n",
      " #   Column   Non-Null Count   Dtype  \n",
      "---  ------   --------------   -----  \n",
      " 0   id       100000 non-null  object \n",
      " 1   f0       100000 non-null  float64\n",
      " 2   f1       100000 non-null  float64\n",
      " 3   f2       100000 non-null  float64\n",
      " 4   product  100000 non-null  float64\n",
      "dtypes: float64(4), object(1)\n",
      "memory usage: 3.8+ MB\n",
      "None\n",
      "                  f0             f1             f2        product\n",
      "count  100000.000000  100000.000000  100000.000000  100000.000000\n",
      "mean        0.500419       0.250143       2.502647      92.500000\n",
      "std         0.871832       0.504433       3.248248      44.288691\n",
      "min        -1.408605      -0.848218     -12.088328       0.000000\n",
      "25%        -0.072580      -0.200881       0.287748      56.497507\n",
      "50%         0.502360       0.250252       2.515969      91.849972\n",
      "75%         1.073581       0.700646       4.715088     128.564089\n",
      "max         2.362331       1.343769      16.003790     185.364347\n",
      "\n",
      "количество дубликатов: 0\n"
     ]
    }
   ],
   "source": [
    "# посмотрим на на имеющиеся таблицы, общий вид, информацию и проверим на наличие дубликатов\n",
    "display(df_0.head())\n",
    "print(df_0.info())\n",
    "print(df_0.describe())\n",
    "print()\n",
    "print(f'количество дубликатов: {df_0.duplicated().sum()}')"
   ]
  },
  {
   "cell_type": "code",
   "execution_count": 4,
   "metadata": {},
   "outputs": [
    {
     "data": {
      "text/html": [
       "<div>\n",
       "<style scoped>\n",
       "    .dataframe tbody tr th:only-of-type {\n",
       "        vertical-align: middle;\n",
       "    }\n",
       "\n",
       "    .dataframe tbody tr th {\n",
       "        vertical-align: top;\n",
       "    }\n",
       "\n",
       "    .dataframe thead th {\n",
       "        text-align: right;\n",
       "    }\n",
       "</style>\n",
       "<table border=\"1\" class=\"dataframe\">\n",
       "  <thead>\n",
       "    <tr style=\"text-align: right;\">\n",
       "      <th></th>\n",
       "      <th>id</th>\n",
       "      <th>f0</th>\n",
       "      <th>f1</th>\n",
       "      <th>f2</th>\n",
       "      <th>product</th>\n",
       "    </tr>\n",
       "  </thead>\n",
       "  <tbody>\n",
       "    <tr>\n",
       "      <th>0</th>\n",
       "      <td>kBEdx</td>\n",
       "      <td>-15.001348</td>\n",
       "      <td>-8.276000</td>\n",
       "      <td>-0.005876</td>\n",
       "      <td>3.179103</td>\n",
       "    </tr>\n",
       "    <tr>\n",
       "      <th>1</th>\n",
       "      <td>62mP7</td>\n",
       "      <td>14.272088</td>\n",
       "      <td>-3.475083</td>\n",
       "      <td>0.999183</td>\n",
       "      <td>26.953261</td>\n",
       "    </tr>\n",
       "    <tr>\n",
       "      <th>2</th>\n",
       "      <td>vyE1P</td>\n",
       "      <td>6.263187</td>\n",
       "      <td>-5.948386</td>\n",
       "      <td>5.001160</td>\n",
       "      <td>134.766305</td>\n",
       "    </tr>\n",
       "    <tr>\n",
       "      <th>3</th>\n",
       "      <td>KcrkZ</td>\n",
       "      <td>-13.081196</td>\n",
       "      <td>-11.506057</td>\n",
       "      <td>4.999415</td>\n",
       "      <td>137.945408</td>\n",
       "    </tr>\n",
       "    <tr>\n",
       "      <th>4</th>\n",
       "      <td>AHL4O</td>\n",
       "      <td>12.702195</td>\n",
       "      <td>-8.147433</td>\n",
       "      <td>5.004363</td>\n",
       "      <td>134.766305</td>\n",
       "    </tr>\n",
       "  </tbody>\n",
       "</table>\n",
       "</div>"
      ],
      "text/plain": [
       "      id         f0         f1        f2     product\n",
       "0  kBEdx -15.001348  -8.276000 -0.005876    3.179103\n",
       "1  62mP7  14.272088  -3.475083  0.999183   26.953261\n",
       "2  vyE1P   6.263187  -5.948386  5.001160  134.766305\n",
       "3  KcrkZ -13.081196 -11.506057  4.999415  137.945408\n",
       "4  AHL4O  12.702195  -8.147433  5.004363  134.766305"
      ]
     },
     "metadata": {},
     "output_type": "display_data"
    },
    {
     "name": "stdout",
     "output_type": "stream",
     "text": [
      "<class 'pandas.core.frame.DataFrame'>\n",
      "RangeIndex: 100000 entries, 0 to 99999\n",
      "Data columns (total 5 columns):\n",
      " #   Column   Non-Null Count   Dtype  \n",
      "---  ------   --------------   -----  \n",
      " 0   id       100000 non-null  object \n",
      " 1   f0       100000 non-null  float64\n",
      " 2   f1       100000 non-null  float64\n",
      " 3   f2       100000 non-null  float64\n",
      " 4   product  100000 non-null  float64\n",
      "dtypes: float64(4), object(1)\n",
      "memory usage: 3.8+ MB\n",
      "None\n",
      "                  f0             f1             f2        product\n",
      "count  100000.000000  100000.000000  100000.000000  100000.000000\n",
      "mean        1.141296      -4.796579       2.494541      68.825000\n",
      "std         8.965932       5.119872       1.703572      45.944423\n",
      "min       -31.609576     -26.358598      -0.018144       0.000000\n",
      "25%        -6.298551      -8.267985       1.000021      26.953261\n",
      "50%         1.153055      -4.813172       2.011479      57.085625\n",
      "75%         8.621015      -1.332816       3.999904     107.813044\n",
      "max        29.421755      18.734063       5.019721     137.945408\n",
      "\n",
      "количество дубликатов: 0\n"
     ]
    }
   ],
   "source": [
    "display(df_1.head())\n",
    "print(df_1.info())\n",
    "print(df_1.describe())\n",
    "print()\n",
    "print(f'количество дубликатов: {df_1.duplicated().sum()}')"
   ]
  },
  {
   "cell_type": "code",
   "execution_count": 5,
   "metadata": {},
   "outputs": [
    {
     "data": {
      "text/html": [
       "<div>\n",
       "<style scoped>\n",
       "    .dataframe tbody tr th:only-of-type {\n",
       "        vertical-align: middle;\n",
       "    }\n",
       "\n",
       "    .dataframe tbody tr th {\n",
       "        vertical-align: top;\n",
       "    }\n",
       "\n",
       "    .dataframe thead th {\n",
       "        text-align: right;\n",
       "    }\n",
       "</style>\n",
       "<table border=\"1\" class=\"dataframe\">\n",
       "  <thead>\n",
       "    <tr style=\"text-align: right;\">\n",
       "      <th></th>\n",
       "      <th>id</th>\n",
       "      <th>f0</th>\n",
       "      <th>f1</th>\n",
       "      <th>f2</th>\n",
       "      <th>product</th>\n",
       "    </tr>\n",
       "  </thead>\n",
       "  <tbody>\n",
       "    <tr>\n",
       "      <th>0</th>\n",
       "      <td>fwXo0</td>\n",
       "      <td>-1.146987</td>\n",
       "      <td>0.963328</td>\n",
       "      <td>-0.828965</td>\n",
       "      <td>27.758673</td>\n",
       "    </tr>\n",
       "    <tr>\n",
       "      <th>1</th>\n",
       "      <td>WJtFt</td>\n",
       "      <td>0.262778</td>\n",
       "      <td>0.269839</td>\n",
       "      <td>-2.530187</td>\n",
       "      <td>56.069697</td>\n",
       "    </tr>\n",
       "    <tr>\n",
       "      <th>2</th>\n",
       "      <td>ovLUW</td>\n",
       "      <td>0.194587</td>\n",
       "      <td>0.289035</td>\n",
       "      <td>-5.586433</td>\n",
       "      <td>62.871910</td>\n",
       "    </tr>\n",
       "    <tr>\n",
       "      <th>3</th>\n",
       "      <td>q6cA6</td>\n",
       "      <td>2.236060</td>\n",
       "      <td>-0.553760</td>\n",
       "      <td>0.930038</td>\n",
       "      <td>114.572842</td>\n",
       "    </tr>\n",
       "    <tr>\n",
       "      <th>4</th>\n",
       "      <td>WPMUX</td>\n",
       "      <td>-0.515993</td>\n",
       "      <td>1.716266</td>\n",
       "      <td>5.899011</td>\n",
       "      <td>149.600746</td>\n",
       "    </tr>\n",
       "  </tbody>\n",
       "</table>\n",
       "</div>"
      ],
      "text/plain": [
       "      id        f0        f1        f2     product\n",
       "0  fwXo0 -1.146987  0.963328 -0.828965   27.758673\n",
       "1  WJtFt  0.262778  0.269839 -2.530187   56.069697\n",
       "2  ovLUW  0.194587  0.289035 -5.586433   62.871910\n",
       "3  q6cA6  2.236060 -0.553760  0.930038  114.572842\n",
       "4  WPMUX -0.515993  1.716266  5.899011  149.600746"
      ]
     },
     "metadata": {},
     "output_type": "display_data"
    },
    {
     "name": "stdout",
     "output_type": "stream",
     "text": [
      "<class 'pandas.core.frame.DataFrame'>\n",
      "RangeIndex: 100000 entries, 0 to 99999\n",
      "Data columns (total 5 columns):\n",
      " #   Column   Non-Null Count   Dtype  \n",
      "---  ------   --------------   -----  \n",
      " 0   id       100000 non-null  object \n",
      " 1   f0       100000 non-null  float64\n",
      " 2   f1       100000 non-null  float64\n",
      " 3   f2       100000 non-null  float64\n",
      " 4   product  100000 non-null  float64\n",
      "dtypes: float64(4), object(1)\n",
      "memory usage: 3.8+ MB\n",
      "None\n",
      "                  f0             f1             f2        product\n",
      "count  100000.000000  100000.000000  100000.000000  100000.000000\n",
      "mean        0.002023      -0.002081       2.495128      95.000000\n",
      "std         1.732045       1.730417       3.473445      44.749921\n",
      "min        -8.760004      -7.084020     -11.970335       0.000000\n",
      "25%        -1.162288      -1.174820       0.130359      59.450441\n",
      "50%         0.009424      -0.009482       2.484236      94.925613\n",
      "75%         1.158535       1.163678       4.858794     130.595027\n",
      "max         7.238262       7.844801      16.739402     190.029838\n",
      "\n",
      "количество дубликатов: 0\n"
     ]
    }
   ],
   "source": [
    "display(df_2.head())\n",
    "print(df_2.info())\n",
    "print(df_2.describe())\n",
    "print()\n",
    "print(f'количество дубликатов: {df_2.duplicated().sum()}')"
   ]
  },
  {
   "cell_type": "markdown",
   "metadata": {},
   "source": [
    "**Вывод:**\n",
    "- пропусков нет\n",
    "- дубликатов нет\n",
    "- название столбцов корректное\n",
    "- типы данных соответствуют описанию\n",
    "- id — уникальный идентификатор скважины - для обучение не нужен\n",
    "- features: f0, f1, f2\n",
    "- target: product"
   ]
  },
  {
   "cell_type": "markdown",
   "metadata": {},
   "source": [
    "<a id='section1.2'></a>\n",
    "### Погдотовка данных"
   ]
  },
  {
   "cell_type": "code",
   "execution_count": 6,
   "metadata": {},
   "outputs": [],
   "source": [
    "# Разбиваем на параметры и целевой признак для каждого из регионов\n",
    "features_0 = df_0[['f0','f1','f2']]\n",
    "target_0 = df_0[['product']]\n",
    "\n",
    "features_1 = df_1[['f0','f1','f2']]\n",
    "target_1 = df_1[['product']]\n",
    "\n",
    "features_2 = df_2[['f0','f1','f2']]\n",
    "target_2 = df_2[['product']]\n"
   ]
  },
  {
   "cell_type": "code",
   "execution_count": 7,
   "metadata": {},
   "outputs": [
    {
     "name": "stdout",
     "output_type": "stream",
     "text": [
      "<class 'pandas.core.frame.DataFrame'>\n",
      "RangeIndex: 100000 entries, 0 to 99999\n",
      "Data columns (total 3 columns):\n",
      " #   Column  Non-Null Count   Dtype  \n",
      "---  ------  --------------   -----  \n",
      " 0   f0      100000 non-null  float64\n",
      " 1   f1      100000 non-null  float64\n",
      " 2   f2      100000 non-null  float64\n",
      "dtypes: float64(3)\n",
      "memory usage: 2.3 MB\n",
      "None\n",
      "<class 'pandas.core.frame.DataFrame'>\n",
      "RangeIndex: 100000 entries, 0 to 99999\n",
      "Data columns (total 1 columns):\n",
      " #   Column   Non-Null Count   Dtype  \n",
      "---  ------   --------------   -----  \n",
      " 0   product  100000 non-null  float64\n",
      "dtypes: float64(1)\n",
      "memory usage: 781.4 KB\n",
      "None\n"
     ]
    }
   ],
   "source": [
    "# проверим результат\n",
    "print(features_0.info())\n",
    "print(target_0.info())"
   ]
  },
  {
   "cell_type": "code",
   "execution_count": 8,
   "metadata": {},
   "outputs": [
    {
     "name": "stdout",
     "output_type": "stream",
     "text": [
      "<class 'pandas.core.frame.DataFrame'>\n",
      "RangeIndex: 100000 entries, 0 to 99999\n",
      "Data columns (total 3 columns):\n",
      " #   Column  Non-Null Count   Dtype  \n",
      "---  ------  --------------   -----  \n",
      " 0   f0      100000 non-null  float64\n",
      " 1   f1      100000 non-null  float64\n",
      " 2   f2      100000 non-null  float64\n",
      "dtypes: float64(3)\n",
      "memory usage: 2.3 MB\n",
      "None\n",
      "<class 'pandas.core.frame.DataFrame'>\n",
      "RangeIndex: 100000 entries, 0 to 99999\n",
      "Data columns (total 1 columns):\n",
      " #   Column   Non-Null Count   Dtype  \n",
      "---  ------   --------------   -----  \n",
      " 0   product  100000 non-null  float64\n",
      "dtypes: float64(1)\n",
      "memory usage: 781.4 KB\n",
      "None\n"
     ]
    }
   ],
   "source": [
    "print(features_1.info())\n",
    "print(target_1.info())"
   ]
  },
  {
   "cell_type": "code",
   "execution_count": 9,
   "metadata": {},
   "outputs": [
    {
     "name": "stdout",
     "output_type": "stream",
     "text": [
      "<class 'pandas.core.frame.DataFrame'>\n",
      "RangeIndex: 100000 entries, 0 to 99999\n",
      "Data columns (total 3 columns):\n",
      " #   Column  Non-Null Count   Dtype  \n",
      "---  ------  --------------   -----  \n",
      " 0   f0      100000 non-null  float64\n",
      " 1   f1      100000 non-null  float64\n",
      " 2   f2      100000 non-null  float64\n",
      "dtypes: float64(3)\n",
      "memory usage: 2.3 MB\n",
      "None\n",
      "<class 'pandas.core.frame.DataFrame'>\n",
      "RangeIndex: 100000 entries, 0 to 99999\n",
      "Data columns (total 1 columns):\n",
      " #   Column   Non-Null Count   Dtype  \n",
      "---  ------   --------------   -----  \n",
      " 0   product  100000 non-null  float64\n",
      "dtypes: float64(1)\n",
      "memory usage: 781.4 KB\n",
      "None\n"
     ]
    }
   ],
   "source": [
    "print(features_2.info())\n",
    "print(target_2.info())"
   ]
  },
  {
   "cell_type": "code",
   "execution_count": 10,
   "metadata": {},
   "outputs": [],
   "source": [
    "# выведем значение random_state в константу для обращения к ней в последующем коде\n",
    "state = 12345"
   ]
  },
  {
   "cell_type": "markdown",
   "metadata": {},
   "source": [
    "<a id='section2'></a>\n",
    "## Обучение и проверка модели"
   ]
  },
  {
   "cell_type": "markdown",
   "metadata": {},
   "source": [
    "<a id='section2.1'></a>\n",
    "### Разбитие данных на обучающую и валидационную выборки в соотношении 75:25"
   ]
  },
  {
   "cell_type": "code",
   "execution_count": 11,
   "metadata": {},
   "outputs": [],
   "source": [
    "# функуия для создания обучающей и валидационной выборки\n",
    "def create_function(features, target):\n",
    "    features_train, features_valid, target_train, target_valid = train_test_split(features, target,\n",
    "                                                                                  train_size = 0.75,\n",
    "                                                                                  random_state = state,\n",
    "                                                                                  shuffle = False)\n",
    "    return features_train, features_valid, target_train, target_valid"
   ]
  },
  {
   "cell_type": "markdown",
   "metadata": {},
   "source": [
    "<a id='section2.1.1'></a>\n",
    "#### обучающий/валидационный набор для первого региона"
   ]
  },
  {
   "cell_type": "code",
   "execution_count": 12,
   "metadata": {},
   "outputs": [],
   "source": [
    "features_train_0, features_valid_0, target_train_0, target_valid_0 = create_function(features = features_0,\n",
    "                                                                                 target = target_0)"
   ]
  },
  {
   "cell_type": "code",
   "execution_count": 13,
   "metadata": {},
   "outputs": [
    {
     "name": "stdout",
     "output_type": "stream",
     "text": [
      "(75000, 3)\n",
      "(75000, 1)\n",
      "(25000, 3)\n",
      "(25000, 1)\n"
     ]
    }
   ],
   "source": [
    "print(features_train_0.shape)\n",
    "print(target_train_0.shape)\n",
    "print(features_valid_0.shape)\n",
    "print(target_valid_0.shape)"
   ]
  },
  {
   "cell_type": "markdown",
   "metadata": {},
   "source": [
    "<a id='section2.1.2'></a>\n",
    "#### обучающий/валидационный набор для второго региона"
   ]
  },
  {
   "cell_type": "code",
   "execution_count": 14,
   "metadata": {},
   "outputs": [],
   "source": [
    "features_train_1, features_valid_1, target_train_1, target_valid_1 = create_function(features = features_1,\n",
    "                                                                                 target = target_1)"
   ]
  },
  {
   "cell_type": "code",
   "execution_count": 15,
   "metadata": {},
   "outputs": [
    {
     "name": "stdout",
     "output_type": "stream",
     "text": [
      "(75000, 3)\n",
      "(75000, 1)\n",
      "(25000, 3)\n",
      "(25000, 1)\n"
     ]
    }
   ],
   "source": [
    "print(features_train_1.shape)\n",
    "print(target_train_1.shape)\n",
    "print(features_valid_1.shape)\n",
    "print(target_valid_1.shape)"
   ]
  },
  {
   "cell_type": "markdown",
   "metadata": {},
   "source": [
    "<a id='section2.1.3'></a>\n",
    "#### обучающий/валидационный набор для третьего региона"
   ]
  },
  {
   "cell_type": "code",
   "execution_count": 16,
   "metadata": {},
   "outputs": [],
   "source": [
    "features_train_2, features_valid_2, target_train_2, target_valid_2 = create_function(features = features_2,\n",
    "                                                                                 target = target_2)"
   ]
  },
  {
   "cell_type": "code",
   "execution_count": 17,
   "metadata": {},
   "outputs": [
    {
     "name": "stdout",
     "output_type": "stream",
     "text": [
      "(75000, 3)\n",
      "(75000, 1)\n",
      "(25000, 3)\n",
      "(25000, 1)\n"
     ]
    }
   ],
   "source": [
    "print(features_train_2.shape)\n",
    "print(target_train_2.shape)\n",
    "print(features_valid_2.shape)\n",
    "print(target_valid_2.shape)"
   ]
  },
  {
   "cell_type": "markdown",
   "metadata": {},
   "source": [
    "<a id='section2.2'></a>\n",
    "### Обучение/предсказание моделей"
   ]
  },
  {
   "cell_type": "code",
   "execution_count": 18,
   "metadata": {},
   "outputs": [],
   "source": [
    "# функция обучения/предсказания модели\n",
    "def learning_function(features_train, target_train, features_valid, target_valid):\n",
    "    scaler = StandardScaler()\n",
    "\n",
    "    scaler.fit(features_train)\n",
    "\n",
    "    features_train = scaler.transform(features_train)\n",
    "    features_valid = scaler.transform(features_valid)\n",
    "\n",
    "    model = LinearRegression()\n",
    "    model.fit(features_train, target_train)\n",
    "\n",
    "    predicted_valid = model.predict(features_valid)\n",
    "    return model.score(features_valid, target_valid), predicted_valid"
   ]
  },
  {
   "cell_type": "markdown",
   "metadata": {},
   "source": [
    "**Предсказание для первого региона**"
   ]
  },
  {
   "cell_type": "code",
   "execution_count": 19,
   "metadata": {},
   "outputs": [],
   "source": [
    "model_score_0, predicted_valid_0 = learning_function(features_train = features_train_0,\n",
    "                                                 target_train = target_train_0,\n",
    "                                                 features_valid = features_valid_0,\n",
    "                                                 target_valid = target_valid_0)"
   ]
  },
  {
   "cell_type": "markdown",
   "metadata": {},
   "source": [
    "**Предсказание для второго региона**"
   ]
  },
  {
   "cell_type": "code",
   "execution_count": 20,
   "metadata": {},
   "outputs": [],
   "source": [
    "model_score_1, predicted_valid_1 = learning_function(features_train = features_train_1,\n",
    "                                                 target_train = target_train_1,\n",
    "                                                 features_valid = features_valid_1,\n",
    "                                                 target_valid = target_valid_1)"
   ]
  },
  {
   "cell_type": "markdown",
   "metadata": {},
   "source": [
    "**Предсказание для третьего региона**"
   ]
  },
  {
   "cell_type": "code",
   "execution_count": 21,
   "metadata": {},
   "outputs": [],
   "source": [
    "model_score_2, predicted_valid_2 = learning_function(features_train = features_train_2,\n",
    "                                                 target_train = target_train_2,\n",
    "                                                 features_valid = features_valid_2,\n",
    "                                                 target_valid = target_valid_2)"
   ]
  },
  {
   "cell_type": "markdown",
   "metadata": {},
   "source": [
    "<a id='section2.3'></a>\n",
    "### Результат предсказаний для всех регионов"
   ]
  },
  {
   "cell_type": "code",
   "execution_count": 22,
   "metadata": {},
   "outputs": [],
   "source": [
    "target_predict_0 = pd.concat([target_valid_0.reset_index(drop = True), pd.DataFrame(predicted_valid_0)], axis = 1)\n",
    "target_predict_1 = pd.concat([target_valid_1.reset_index(drop = True), pd.DataFrame(predicted_valid_1)], axis = 1)\n",
    "target_predict_2 = pd.concat([target_valid_2.reset_index(drop = True), pd.DataFrame(predicted_valid_2)], axis = 1)\n",
    "\n",
    "target_predict_0 = target_predict_0.rename(columns = {0:'predicted_product'})\n",
    "target_predict_1 = target_predict_1.rename(columns = {0:'predicted_product'})\n",
    "target_predict_2 = target_predict_2.rename(columns = {0:'predicted_product'})"
   ]
  },
  {
   "cell_type": "code",
   "execution_count": 23,
   "metadata": {},
   "outputs": [
    {
     "data": {
      "text/html": [
       "<div>\n",
       "<style scoped>\n",
       "    .dataframe tbody tr th:only-of-type {\n",
       "        vertical-align: middle;\n",
       "    }\n",
       "\n",
       "    .dataframe tbody tr th {\n",
       "        vertical-align: top;\n",
       "    }\n",
       "\n",
       "    .dataframe thead th {\n",
       "        text-align: right;\n",
       "    }\n",
       "</style>\n",
       "<table border=\"1\" class=\"dataframe\">\n",
       "  <thead>\n",
       "    <tr style=\"text-align: right;\">\n",
       "      <th></th>\n",
       "      <th>volume_of_materials</th>\n",
       "      <th>volume_forecast</th>\n",
       "      <th>average_forecast_volume</th>\n",
       "      <th>RMSE</th>\n",
       "      <th>R2-score</th>\n",
       "    </tr>\n",
       "  </thead>\n",
       "  <tbody>\n",
       "    <tr>\n",
       "      <th>0</th>\n",
       "      <td>2.310666e+06</td>\n",
       "      <td>2.314842e+06</td>\n",
       "      <td>92.593681</td>\n",
       "      <td>37.650563</td>\n",
       "      <td>0.273593</td>\n",
       "    </tr>\n",
       "    <tr>\n",
       "      <th>1</th>\n",
       "      <td>1.723502e+06</td>\n",
       "      <td>1.723938e+06</td>\n",
       "      <td>68.957534</td>\n",
       "      <td>0.894446</td>\n",
       "      <td>0.999622</td>\n",
       "    </tr>\n",
       "    <tr>\n",
       "      <th>2</th>\n",
       "      <td>2.372809e+06</td>\n",
       "      <td>2.381887e+06</td>\n",
       "      <td>95.275462</td>\n",
       "      <td>40.003681</td>\n",
       "      <td>0.202021</td>\n",
       "    </tr>\n",
       "  </tbody>\n",
       "</table>\n",
       "</div>"
      ],
      "text/plain": [
       "   volume_of_materials  volume_forecast  average_forecast_volume       RMSE  \\\n",
       "0         2.310666e+06     2.314842e+06                92.593681  37.650563   \n",
       "1         1.723502e+06     1.723938e+06                68.957534   0.894446   \n",
       "2         2.372809e+06     2.381887e+06                95.275462  40.003681   \n",
       "\n",
       "   R2-score  \n",
       "0  0.273593  \n",
       "1  0.999622  \n",
       "2  0.202021  "
      ]
     },
     "metadata": {},
     "output_type": "display_data"
    }
   ],
   "source": [
    "# объеденим в общую таблицу \n",
    "df_results = pd.DataFrame({'volume_of_materials'        :[target_valid_0['product'].sum(), # всего материала\n",
    "                                                               target_valid_1['product'].sum(),\n",
    "                                                               target_valid_2['product'].sum()],\n",
    "                              'volume_forecast'      : [predicted_valid_0.sum(), # пронозируемый объём \n",
    "                                                                predicted_valid_1.sum(),\n",
    "                                                                predicted_valid_2.sum()],\n",
    "                              'average_forecast_volume' : [predicted_valid_0.mean(), # средний прогнозируемый объем материала\n",
    "                                                                predicted_valid_1.mean(),\n",
    "                                                                predicted_valid_2.mean()],\n",
    "                              'RMSE'                         : [sqrt(mean_squared_error(target_valid_0, predicted_valid_0)),\n",
    "                                                                sqrt(mean_squared_error(target_valid_1, predicted_valid_1)),\n",
    "                                                                sqrt(mean_squared_error(target_valid_2, predicted_valid_2))],\n",
    "                              'R2-score'                     : [model_score_0,\n",
    "                                                                model_score_1,\n",
    "                                                                model_score_2]\n",
    "}\n",
    ")\n",
    "\n",
    "display(df_results)"
   ]
  },
  {
   "cell_type": "markdown",
   "metadata": {},
   "source": [
    "**Вывод:**\n",
    "- минимальное значение RMSE было получено для второго региона\n",
    "- максимальное качество имеет модель второго региона\n",
    "- наиболее перспективные регионы по запасу сырья - первый и третий регионы"
   ]
  },
  {
   "cell_type": "markdown",
   "metadata": {},
   "source": [
    "<a id='section3'></a>\n",
    "## Подготовка к расчёту прибыли"
   ]
  },
  {
   "cell_type": "markdown",
   "metadata": {},
   "source": [
    "- При разведке региона исследуют 500 точек, из которых с помощью машинного обучения выбирают 200 лучших для разработки\n",
    "\n",
    "- Бюджет на разработку скважин в регионе — 10 млрд рублей\n",
    "\n",
    "- При нынешних ценах один баррель сырья приносит 450 рублей дохода. Доход с каждой единицы продукта составляет 450 тыс. рублей, поскольку объём указан в тысячах баррелей\n",
    "\n",
    "- После оценки рисков нужно оставить лишь те регионы, в которых вероятность убытков меньше 2.5%. Среди них выбирают регион с наибольшей средней прибылью"
   ]
  },
  {
   "cell_type": "code",
   "execution_count": 24,
   "metadata": {},
   "outputs": [],
   "source": [
    "# бюджет на разработку\n",
    "BUDGET = 10**10\n",
    "# Доход с каждой единицы продукта\n",
    "INCOME = 4.5*10**5"
   ]
  },
  {
   "cell_type": "code",
   "execution_count": 25,
   "metadata": {},
   "outputs": [
    {
     "name": "stdout",
     "output_type": "stream",
     "text": [
      "22222.2 тыс. баррелей сырья необходимо для обеспечения безубыточности\n"
     ]
    }
   ],
   "source": [
    "breakeven = BUDGET/INCOME\n",
    "print('{:.1f} тыс. баррелей сырья необходимо для обеспечения безубыточности'.format(breakeven))"
   ]
  },
  {
   "cell_type": "code",
   "execution_count": 26,
   "metadata": {},
   "outputs": [
    {
     "name": "stdout",
     "output_type": "stream",
     "text": [
      "111.1 тыс. баррелей сырья необходимо для обеспечения безубыточности c одной из 200 скважин взятых для разработки\n"
     ]
    }
   ],
   "source": [
    "breakeven_1 = breakeven/200\n",
    "print('{:.1f} тыс. баррелей сырья необходимо для обеспечения безубыточности c одной из 200 скважин взятых для разработки'\n",
    "      .format(breakeven_1))"
   ]
  },
  {
   "cell_type": "markdown",
   "metadata": {},
   "source": [
    "**Вывод:**\n",
    "- 22222.2 тыс. баррелей сырья необходимо для обеспечения безубыточности\n",
    "- Минимальный объём продукта для безубыточной разработки составляет 111.1. Данный показатель рассчитан при условии выбора 200 лучших скважин из 500 в выборке\n",
    "- Данное значение превышает средние значения запасов скважин по всем регионам"
   ]
  },
  {
   "cell_type": "markdown",
   "metadata": {},
   "source": [
    "<a id='section4'></a>\n",
    "## Расчёт прибыли и рисков "
   ]
  },
  {
   "cell_type": "markdown",
   "metadata": {},
   "source": [
    "<a id='section4.1'></a>\n",
    "### Расчёт прибыли"
   ]
  },
  {
   "cell_type": "markdown",
   "metadata": {},
   "source": [
    "Напишем функцию для расчёта прибыли по выбранным скважинам и предсказаниям модели:\n",
    "\n",
    "- Выберем скважины с максимальными значениями предсказаний. Количество скважин зависит от бюджета компании и стоимости разработки одной скважины. В нашем случае выберем случайно 500 точек и отберём 200 с максимальным показателем объёма сырья\n",
    "- Просуммируем целевое значение объёма сырья, соответствующее этим предсказаниям\n",
    "- Рассчитаем прибыль для полученного объёма сырья"
   ]
  },
  {
   "cell_type": "code",
   "execution_count": 27,
   "metadata": {},
   "outputs": [],
   "source": [
    "target_valid_0 = pd.Series(target_valid_0['product']).reset_index(drop=True)\n",
    "target_valid_1 = pd.Series(target_valid_1['product']).reset_index(drop=True)\n",
    "target_valid_2 = pd.Series(target_valid_2['product']).reset_index(drop=True)"
   ]
  },
  {
   "cell_type": "code",
   "execution_count": 28,
   "metadata": {},
   "outputs": [],
   "source": [
    "predicted_valid_0 = pd.Series(*predicted_valid_0.reshape(1,-1))\n",
    "predicted_valid_1 = pd.Series(*predicted_valid_1.reshape(1,-1))\n",
    "predicted_valid_2 = pd.Series(*predicted_valid_2.reshape(1,-1))"
   ]
  },
  {
   "cell_type": "code",
   "execution_count": 29,
   "metadata": {},
   "outputs": [],
   "source": [
    "def show_predicted_income(region, top_wells_mean, volume, income):\n",
    "    print(region)\n",
    "    print('Средний запас сырья среди скважин с максимальным показателем: {:.1f}'.format(top_wells_mean))\n",
    "    print('Суммарный целевой объём сырья: {:.1f}'.format(volume))\n",
    "    print('Прибыль для полученного объёма сырья: {:.1f}'.format(income))"
   ]
  },
  {
   "cell_type": "code",
   "execution_count": 30,
   "metadata": {},
   "outputs": [],
   "source": [
    "# Функция берёт выборку размера 500, выбирает 200 наивысших значений\n",
    "# и считает \n",
    "# - среднее значение объёма сырья для выбранных скважин\n",
    "# - суммарный целевой объём сырья\n",
    "# - прибыль для полученного объёма сырья\n",
    "\n",
    "def predicted_income(target, predicts, region, state, replace = False, show_res = True, return_res = False):\n",
    "    sample_preds = predicts.sample(n = 500, \n",
    "                                   replace = replace, \n",
    "                                   random_state = state)\n",
    "    \n",
    "    top_preds = sample_preds.sort_values(ascending = False)[:200]\n",
    "    top_targets = target[top_preds.index]\n",
    "    top_wells_mean = top_targets.mean()\n",
    "    volume = sum(top_targets)\n",
    "    income = volume * INCOME - BUDGET\n",
    "    if show_res:\n",
    "        show_predicted_income(region, top_wells_mean, volume, income)\n",
    "    if return_res:\n",
    "        return income"
   ]
  },
  {
   "cell_type": "code",
   "execution_count": 31,
   "metadata": {},
   "outputs": [
    {
     "name": "stdout",
     "output_type": "stream",
     "text": [
      "***** Первый регион *****\n",
      "Средний запас сырья среди скважин с максимальным показателем: 112.9\n",
      "Суммарный целевой объём сырья: 22581.7\n",
      "Прибыль для полученного объёма сырья: 161746408.4\n"
     ]
    }
   ],
   "source": [
    "predicted_income(target_valid_0, predicted_valid_0, '***** Первый регион *****', state)"
   ]
  },
  {
   "cell_type": "code",
   "execution_count": 32,
   "metadata": {},
   "outputs": [
    {
     "name": "stdout",
     "output_type": "stream",
     "text": [
      "***** Второй регион *****\n",
      "Средний запас сырья среди скважин с максимальным показателем: 119.0\n",
      "Суммарный целевой объём сырья: 23795.9\n",
      "Прибыль для полученного объёма сырья: 708136675.6\n"
     ]
    }
   ],
   "source": [
    "predicted_income(target_valid_1, predicted_valid_1, '***** Второй регион *****', state)"
   ]
  },
  {
   "cell_type": "code",
   "execution_count": 33,
   "metadata": {},
   "outputs": [
    {
     "name": "stdout",
     "output_type": "stream",
     "text": [
      "*****Третий регион *****\n",
      "Средний запас сырья среди скважин с максимальным показателем: 113.1\n",
      "Суммарный целевой объём сырья: 22611.3\n",
      "Прибыль для полученного объёма сырья: 175067490.3\n"
     ]
    }
   ],
   "source": [
    "predicted_income(target_valid_2, predicted_valid_2, '*****Третий регион *****', state)"
   ]
  },
  {
   "cell_type": "markdown",
   "metadata": {},
   "source": [
    "<a id='section4.1'></a>\n",
    "### Расчёт рисков"
   ]
  },
  {
   "cell_type": "markdown",
   "metadata": {},
   "source": [
    "- С помощью техники Bootstrap найдём распределение прибыли (1000 выборок)\n",
    "- Найдём среднюю прибыль, 95%-й доверительный интервал и расчитаем риск убытка (отрицательную прибыль)"
   ]
  },
  {
   "cell_type": "code",
   "execution_count": 34,
   "metadata": {},
   "outputs": [],
   "source": [
    "def show_risks(region, income_mean, conf_int_left, conf_int_right, loss_rate):\n",
    "    print('*****', region, '*****')\n",
    "    print('Средняя прибыль {:.2f}'.format(income_mean))\n",
    "    print('95% доверительный интервал: {:.2f} : {:.2f}'.format(conf_int_left, conf_int_right))\n",
    "    print('Риск убытков: {:.2f} %'.format(loss_rate * 100))"
   ]
  },
  {
   "cell_type": "code",
   "execution_count": 35,
   "metadata": {},
   "outputs": [],
   "source": [
    "# функция реализует технику Bootstrap, количество выборок = bootstrap_samples = 1000\n",
    "# Функция берёт выборку размера 500, выбирает 200 наивысших значений\n",
    "# Считает общую прибыль и сохраняет в список\n",
    "# \n",
    "def risk_calc(target, predicts, region):\n",
    "    bootstrap_samples = 1000\n",
    "    alpha = 0.05\n",
    "    incomes = []\n",
    "    state = np.random.RandomState(12345)\n",
    "    for _ in range(bootstrap_samples):\n",
    "        income = predicted_income(target, predicts, region, state, replace = True, show_res = False, return_res = True)\n",
    "        incomes.append(income)\n",
    "\n",
    "    incomes = pd.Series(incomes)\n",
    "    income_mean = incomes.mean()\n",
    "    # 95% доверительный интервал (считается с помощью функции quantile)\n",
    "    conf_int_left = incomes.quantile(alpha / 2)\n",
    "    conf_int_right = incomes.quantile(1 - alpha / 2)\n",
    "    \n",
    "    loss_count = 0\n",
    "    for inc in incomes :\n",
    "        if inc < 0 :\n",
    "            loss_count += 1\n",
    "    loss_rate = loss_count / bootstrap_samples\n",
    "    show_risks(region, income_mean, conf_int_left, conf_int_right, loss_rate)"
   ]
  },
  {
   "cell_type": "code",
   "execution_count": 36,
   "metadata": {},
   "outputs": [
    {
     "name": "stdout",
     "output_type": "stream",
     "text": [
      "***** Первый регион *****\n",
      "Средняя прибыль 394011456.02\n",
      "95% доверительный интервал: -81754411.95 : 882384873.08\n",
      "Риск убытков: 5.90 %\n"
     ]
    }
   ],
   "source": [
    "risk_calc(target_valid_0, predicted_valid_0, 'Первый регион')"
   ]
  },
  {
   "cell_type": "code",
   "execution_count": 37,
   "metadata": {},
   "outputs": [
    {
     "name": "stdout",
     "output_type": "stream",
     "text": [
      "***** Второй регион *****\n",
      "Средняя прибыль 476964651.27\n",
      "95% доверительный интервал: 77413262.46 : 868054001.58\n",
      "Риск убытков: 1.30 %\n"
     ]
    }
   ],
   "source": [
    "risk_calc(target_valid_1, predicted_valid_1, 'Второй регион')"
   ]
  },
  {
   "cell_type": "code",
   "execution_count": 38,
   "metadata": {},
   "outputs": [
    {
     "name": "stdout",
     "output_type": "stream",
     "text": [
      "***** Третий регион *****\n",
      "Средняя прибыль 383653173.51\n",
      "95% доверительный интервал: -119815929.36 : 896347708.87\n",
      "Риск убытков: 6.60 %\n"
     ]
    }
   ],
   "source": [
    "risk_calc(target_valid_2, predicted_valid_2, 'Третий регион')"
   ]
  },
  {
   "cell_type": "markdown",
   "metadata": {},
   "source": [
    "**Вывод:**\n",
    "- Средний запас сырья с одной скважины превосходит необходимый объём равный 111.1,  и равен: 112.9 для первого региона, 119.0 для второго региона и 113.1 для третьего региона (при расчёте показателей из 200 наилучших из 500 скважин)\n",
    "- При применении техники Bootstrap:\n",
    "  - Второй регион оказался с максимальной оценкой средней прибыли 476964651.27\n",
    "  - Только второй регион прогнозирует прибыльную разработку по доверительному интервалу 95 %\n",
    "  - Только второй регион имеет минимальный риск убытков и составляет 1.3 %\n"
   ]
  },
  {
   "cell_type": "markdown",
   "metadata": {},
   "source": [
    "<a id='section5'></a>\n",
    "## Общий вывод"
   ]
  },
  {
   "cell_type": "markdown",
   "metadata": {},
   "source": [
    "**При начальном построении модели и предсказаний:**\n",
    "- В первом и третьем регионах достаточно высокий средний показатель запаса предсказанного сырья. Однако RMSE для данных регионов также высок (37.65 для первого и 40.00 для третьего). Это может свидетельствовать о неоднозначности показателя, неточности модели регрессии\n",
    "- Во втором регионе средний показатель запаса предсказанного сырья составляет 68.95 (ниже остальных регионов), при этом RMSE в данном регионе гораздо ниже чем в первом и в третьем (0.89), что свидетельствует о точности предсказаний и качестве построенной модели\n",
    "- Средние показатели предсказанного сырья для одной скважины ниже теоретически необходимых (111.11)\n",
    "\n",
    "**При расчёте показателей из 200 наилучших из 500 скважин:**\n",
    "- Средний запас сырья с одной скважины среди всех регионов превосходит минимально необходимый объём\n",
    "\n",
    "**При применении техники Bootstrap:**\n",
    "- Оценка средней прибыли максимальна для второго региона (476.96 млн.)\n",
    "- Второй регион прогнозирует прибыльную разработку по 95% доверительному интервалу\n",
    "- Риск убытков для второго региона 1.3 %\n",
    "\n",
    "**Рекомендуемый регион для разработки - второй**"
   ]
  }
 ],
 "metadata": {
  "ExecuteTimeLog": [
   {
    "duration": 1140,
    "start_time": "2022-07-10T06:55:24.141Z"
   },
   {
    "duration": 142,
    "start_time": "2022-07-10T06:55:26.020Z"
   },
   {
    "duration": 1168,
    "start_time": "2022-07-10T06:57:26.995Z"
   },
   {
    "duration": 156,
    "start_time": "2022-07-10T06:57:28.165Z"
   },
   {
    "duration": 1887,
    "start_time": "2022-07-10T06:58:50.705Z"
   },
   {
    "duration": 22,
    "start_time": "2022-07-10T07:00:53.847Z"
   },
   {
    "duration": 9,
    "start_time": "2022-07-10T07:01:04.447Z"
   },
   {
    "duration": 28,
    "start_time": "2022-07-10T07:01:22.087Z"
   },
   {
    "duration": 23,
    "start_time": "2022-07-10T07:02:00.515Z"
   },
   {
    "duration": 62,
    "start_time": "2022-07-10T07:02:26.736Z"
   },
   {
    "duration": 53,
    "start_time": "2022-07-10T07:03:11.531Z"
   },
   {
    "duration": 98,
    "start_time": "2022-07-10T07:03:30.636Z"
   },
   {
    "duration": 94,
    "start_time": "2022-07-10T07:04:14.493Z"
   },
   {
    "duration": 96,
    "start_time": "2022-07-10T07:04:32.484Z"
   },
   {
    "duration": 103,
    "start_time": "2022-07-10T07:05:01.032Z"
   },
   {
    "duration": 101,
    "start_time": "2022-07-10T07:05:03.124Z"
   },
   {
    "duration": 1088,
    "start_time": "2022-07-10T07:34:03.854Z"
   },
   {
    "duration": 399,
    "start_time": "2022-07-10T07:34:10.911Z"
   },
   {
    "duration": 114,
    "start_time": "2022-07-10T07:34:11.312Z"
   },
   {
    "duration": 110,
    "start_time": "2022-07-10T07:34:11.429Z"
   },
   {
    "duration": 113,
    "start_time": "2022-07-10T07:34:11.541Z"
   },
   {
    "duration": 6,
    "start_time": "2022-07-10T07:37:26.028Z"
   },
   {
    "duration": 16,
    "start_time": "2022-07-10T07:39:16.969Z"
   },
   {
    "duration": 12,
    "start_time": "2022-07-10T07:40:29.047Z"
   },
   {
    "duration": 24,
    "start_time": "2022-07-10T07:41:42.487Z"
   },
   {
    "duration": 16,
    "start_time": "2022-07-10T07:42:10.671Z"
   },
   {
    "duration": 20,
    "start_time": "2022-07-10T07:42:23.490Z"
   },
   {
    "duration": 17,
    "start_time": "2022-07-10T07:43:00.847Z"
   },
   {
    "duration": 3,
    "start_time": "2022-07-10T07:43:24.249Z"
   },
   {
    "duration": 3,
    "start_time": "2022-07-10T07:46:48.519Z"
   },
   {
    "duration": 4,
    "start_time": "2022-07-10T07:48:36.412Z"
   },
   {
    "duration": 129,
    "start_time": "2022-07-10T07:50:33.991Z"
   },
   {
    "duration": 3,
    "start_time": "2022-07-10T07:50:52.586Z"
   },
   {
    "duration": 14,
    "start_time": "2022-07-10T07:50:53.891Z"
   },
   {
    "duration": 14,
    "start_time": "2022-07-10T07:52:22.943Z"
   },
   {
    "duration": 14,
    "start_time": "2022-07-10T07:52:50.418Z"
   },
   {
    "duration": 4,
    "start_time": "2022-07-10T07:53:05.078Z"
   },
   {
    "duration": 10,
    "start_time": "2022-07-10T07:53:39.775Z"
   },
   {
    "duration": 5,
    "start_time": "2022-07-10T07:53:57.338Z"
   },
   {
    "duration": 11,
    "start_time": "2022-07-10T07:54:32.622Z"
   },
   {
    "duration": 4,
    "start_time": "2022-07-10T07:54:33.141Z"
   },
   {
    "duration": 8,
    "start_time": "2022-07-10T07:54:34.358Z"
   },
   {
    "duration": 7,
    "start_time": "2022-07-10T07:54:40.559Z"
   },
   {
    "duration": 4,
    "start_time": "2022-07-10T07:54:41.172Z"
   },
   {
    "duration": 9,
    "start_time": "2022-07-10T07:58:13.738Z"
   },
   {
    "duration": 5,
    "start_time": "2022-07-10T07:58:14.169Z"
   },
   {
    "duration": 10,
    "start_time": "2022-07-10T07:58:15.057Z"
   },
   {
    "duration": 4,
    "start_time": "2022-07-10T07:58:15.498Z"
   },
   {
    "duration": 19,
    "start_time": "2022-07-10T07:58:16.390Z"
   },
   {
    "duration": 5,
    "start_time": "2022-07-10T07:58:17.053Z"
   },
   {
    "duration": 3,
    "start_time": "2022-07-10T07:59:16.252Z"
   },
   {
    "duration": 4,
    "start_time": "2022-07-10T08:01:03.070Z"
   },
   {
    "duration": 25,
    "start_time": "2022-07-10T08:03:44.121Z"
   },
   {
    "duration": 21,
    "start_time": "2022-07-10T08:05:01.953Z"
   },
   {
    "duration": 21,
    "start_time": "2022-07-10T08:05:03.174Z"
   },
   {
    "duration": 9,
    "start_time": "2022-07-10T08:08:55.173Z"
   },
   {
    "duration": 19,
    "start_time": "2022-07-10T08:11:45.075Z"
   },
   {
    "duration": 23,
    "start_time": "2022-07-10T08:16:29.785Z"
   },
   {
    "duration": 20,
    "start_time": "2022-07-10T08:16:52.667Z"
   },
   {
    "duration": 4,
    "start_time": "2022-07-10T08:38:47.181Z"
   },
   {
    "duration": 19,
    "start_time": "2022-07-10T08:41:52.594Z"
   },
   {
    "duration": 1170,
    "start_time": "2022-07-10T08:44:16.785Z"
   },
   {
    "duration": 393,
    "start_time": "2022-07-10T08:44:17.957Z"
   },
   {
    "duration": 109,
    "start_time": "2022-07-10T08:44:18.352Z"
   },
   {
    "duration": 107,
    "start_time": "2022-07-10T08:44:18.463Z"
   },
   {
    "duration": 109,
    "start_time": "2022-07-10T08:44:18.573Z"
   },
   {
    "duration": 19,
    "start_time": "2022-07-10T08:44:18.684Z"
   },
   {
    "duration": 24,
    "start_time": "2022-07-10T08:44:18.706Z"
   },
   {
    "duration": 17,
    "start_time": "2022-07-10T08:44:18.731Z"
   },
   {
    "duration": 16,
    "start_time": "2022-07-10T08:44:18.750Z"
   },
   {
    "duration": 3,
    "start_time": "2022-07-10T08:44:18.767Z"
   },
   {
    "duration": 27,
    "start_time": "2022-07-10T08:44:18.772Z"
   },
   {
    "duration": 25,
    "start_time": "2022-07-10T08:44:18.802Z"
   },
   {
    "duration": 5,
    "start_time": "2022-07-10T08:44:18.829Z"
   },
   {
    "duration": 13,
    "start_time": "2022-07-10T08:44:18.837Z"
   },
   {
    "duration": 4,
    "start_time": "2022-07-10T08:44:18.851Z"
   },
   {
    "duration": 11,
    "start_time": "2022-07-10T08:44:18.857Z"
   },
   {
    "duration": 4,
    "start_time": "2022-07-10T08:44:18.869Z"
   },
   {
    "duration": 5,
    "start_time": "2022-07-10T08:44:18.899Z"
   },
   {
    "duration": 97,
    "start_time": "2022-07-10T08:44:18.906Z"
   },
   {
    "duration": 113,
    "start_time": "2022-07-10T08:44:19.005Z"
   },
   {
    "duration": 182,
    "start_time": "2022-07-10T08:44:19.120Z"
   },
   {
    "duration": 92,
    "start_time": "2022-07-10T08:44:19.306Z"
   },
   {
    "duration": 33,
    "start_time": "2022-07-10T08:44:19.401Z"
   },
   {
    "duration": 4,
    "start_time": "2022-07-10T08:44:19.436Z"
   },
   {
    "duration": 1055,
    "start_time": "2022-07-10T22:13:19.416Z"
   },
   {
    "duration": 700,
    "start_time": "2022-07-10T22:13:20.473Z"
   },
   {
    "duration": 108,
    "start_time": "2022-07-10T22:13:21.175Z"
   },
   {
    "duration": 101,
    "start_time": "2022-07-10T22:13:21.285Z"
   },
   {
    "duration": 96,
    "start_time": "2022-07-10T22:13:21.387Z"
   },
   {
    "duration": 12,
    "start_time": "2022-07-10T22:13:21.485Z"
   },
   {
    "duration": 32,
    "start_time": "2022-07-10T22:13:21.499Z"
   },
   {
    "duration": 16,
    "start_time": "2022-07-10T22:13:21.533Z"
   },
   {
    "duration": 18,
    "start_time": "2022-07-10T22:13:21.551Z"
   },
   {
    "duration": 2,
    "start_time": "2022-07-10T22:13:21.572Z"
   },
   {
    "duration": 2,
    "start_time": "2022-07-10T22:13:22.528Z"
   },
   {
    "duration": 9,
    "start_time": "2022-07-10T22:13:22.960Z"
   },
   {
    "duration": 3,
    "start_time": "2022-07-10T22:13:23.169Z"
   },
   {
    "duration": 11,
    "start_time": "2022-07-10T22:13:23.617Z"
   },
   {
    "duration": 3,
    "start_time": "2022-07-10T22:13:23.825Z"
   },
   {
    "duration": 10,
    "start_time": "2022-07-10T22:13:24.289Z"
   },
   {
    "duration": 4,
    "start_time": "2022-07-10T22:13:24.499Z"
   },
   {
    "duration": 4,
    "start_time": "2022-07-10T22:13:24.935Z"
   },
   {
    "duration": 24,
    "start_time": "2022-07-10T22:13:25.386Z"
   },
   {
    "duration": 20,
    "start_time": "2022-07-10T22:13:25.784Z"
   },
   {
    "duration": 19,
    "start_time": "2022-07-10T22:13:26.276Z"
   },
   {
    "duration": 9,
    "start_time": "2022-07-10T22:13:26.752Z"
   },
   {
    "duration": 17,
    "start_time": "2022-07-10T22:13:27.048Z"
   },
   {
    "duration": 4,
    "start_time": "2022-07-10T22:13:28.307Z"
   },
   {
    "duration": 4,
    "start_time": "2022-07-10T22:13:39.536Z"
   },
   {
    "duration": 60,
    "start_time": "2022-07-10T22:23:00.481Z"
   },
   {
    "duration": 3,
    "start_time": "2022-07-10T22:23:06.372Z"
   },
   {
    "duration": 4,
    "start_time": "2022-07-10T22:23:08.241Z"
   },
   {
    "duration": 101,
    "start_time": "2022-07-10T22:25:18.225Z"
   },
   {
    "duration": 14,
    "start_time": "2022-07-10T22:25:28.469Z"
   },
   {
    "duration": 4,
    "start_time": "2022-07-10T22:27:36.865Z"
   },
   {
    "duration": 5937,
    "start_time": "2022-07-10T22:27:38.025Z"
   },
   {
    "duration": 8,
    "start_time": "2022-07-10T22:27:56.951Z"
   },
   {
    "duration": 16,
    "start_time": "2022-07-10T22:30:17.880Z"
   },
   {
    "duration": 8,
    "start_time": "2022-07-10T22:30:26.223Z"
   },
   {
    "duration": 6380,
    "start_time": "2022-07-10T22:30:29.818Z"
   },
   {
    "duration": 9,
    "start_time": "2022-07-10T22:30:36.200Z"
   },
   {
    "duration": 10,
    "start_time": "2022-07-10T22:35:12.092Z"
   },
   {
    "duration": 4,
    "start_time": "2022-07-10T22:36:03.541Z"
   },
   {
    "duration": 3,
    "start_time": "2022-07-10T22:36:04.713Z"
   },
   {
    "duration": 3,
    "start_time": "2022-07-10T22:36:05.241Z"
   },
   {
    "duration": 6010,
    "start_time": "2022-07-10T22:36:05.569Z"
   },
   {
    "duration": 9,
    "start_time": "2022-07-10T22:36:11.581Z"
   },
   {
    "duration": 5,
    "start_time": "2022-07-10T22:43:11.828Z"
   },
   {
    "duration": 3,
    "start_time": "2022-07-10T22:43:26.073Z"
   },
   {
    "duration": 4,
    "start_time": "2022-07-10T22:43:27.441Z"
   },
   {
    "duration": 5951,
    "start_time": "2022-07-10T22:43:28.681Z"
   },
   {
    "duration": 9,
    "start_time": "2022-07-10T22:43:34.633Z"
   },
   {
    "duration": 1005,
    "start_time": "2022-07-10T22:43:46.007Z"
   },
   {
    "duration": 394,
    "start_time": "2022-07-10T22:43:47.014Z"
   },
   {
    "duration": 98,
    "start_time": "2022-07-10T22:43:47.410Z"
   },
   {
    "duration": 93,
    "start_time": "2022-07-10T22:43:47.510Z"
   },
   {
    "duration": 95,
    "start_time": "2022-07-10T22:43:47.605Z"
   },
   {
    "duration": 24,
    "start_time": "2022-07-10T22:43:47.702Z"
   },
   {
    "duration": 17,
    "start_time": "2022-07-10T22:43:47.728Z"
   },
   {
    "duration": 13,
    "start_time": "2022-07-10T22:43:47.746Z"
   },
   {
    "duration": 14,
    "start_time": "2022-07-10T22:43:47.761Z"
   },
   {
    "duration": 3,
    "start_time": "2022-07-10T22:43:47.776Z"
   },
   {
    "duration": 9,
    "start_time": "2022-07-10T22:43:47.781Z"
   },
   {
    "duration": 36,
    "start_time": "2022-07-10T22:43:47.791Z"
   },
   {
    "duration": 4,
    "start_time": "2022-07-10T22:43:47.829Z"
   },
   {
    "duration": 13,
    "start_time": "2022-07-10T22:43:47.835Z"
   },
   {
    "duration": 3,
    "start_time": "2022-07-10T22:43:47.850Z"
   },
   {
    "duration": 12,
    "start_time": "2022-07-10T22:43:47.854Z"
   },
   {
    "duration": 3,
    "start_time": "2022-07-10T22:43:47.867Z"
   },
   {
    "duration": 7,
    "start_time": "2022-07-10T22:43:47.872Z"
   },
   {
    "duration": 52,
    "start_time": "2022-07-10T22:43:47.880Z"
   },
   {
    "duration": 198,
    "start_time": "2022-07-10T22:43:47.936Z"
   },
   {
    "duration": 196,
    "start_time": "2022-07-10T22:43:48.137Z"
   },
   {
    "duration": 189,
    "start_time": "2022-07-10T22:43:48.335Z"
   },
   {
    "duration": 21,
    "start_time": "2022-07-10T22:43:48.526Z"
   },
   {
    "duration": 5,
    "start_time": "2022-07-10T22:43:48.548Z"
   },
   {
    "duration": 14,
    "start_time": "2022-07-10T22:43:48.554Z"
   },
   {
    "duration": 5,
    "start_time": "2022-07-10T22:43:48.570Z"
   },
   {
    "duration": 6032,
    "start_time": "2022-07-10T22:43:48.577Z"
   },
   {
    "duration": 14,
    "start_time": "2022-07-10T22:43:54.611Z"
   },
   {
    "duration": 26,
    "start_time": "2022-07-10T22:43:54.627Z"
   },
   {
    "duration": 91,
    "start_time": "2022-07-10T22:44:55.025Z"
   },
   {
    "duration": 3,
    "start_time": "2022-07-10T22:53:23.924Z"
   },
   {
    "duration": 3,
    "start_time": "2022-07-10T22:54:16.316Z"
   },
   {
    "duration": 3,
    "start_time": "2022-07-10T22:54:21.024Z"
   },
   {
    "duration": 3,
    "start_time": "2022-07-10T22:54:49.672Z"
   },
   {
    "duration": 3,
    "start_time": "2022-07-10T22:54:58.804Z"
   },
   {
    "duration": 4,
    "start_time": "2022-07-10T22:55:06.104Z"
   },
   {
    "duration": 4,
    "start_time": "2022-07-10T22:56:03.880Z"
   },
   {
    "duration": 3,
    "start_time": "2022-07-10T22:56:03.988Z"
   },
   {
    "duration": 3,
    "start_time": "2022-07-10T22:59:40.692Z"
   },
   {
    "duration": 4,
    "start_time": "2022-07-10T22:59:41.184Z"
   },
   {
    "duration": 3,
    "start_time": "2022-07-10T23:01:15.633Z"
   },
   {
    "duration": 3,
    "start_time": "2022-07-10T23:01:16.224Z"
   },
   {
    "duration": 3,
    "start_time": "2022-07-10T23:01:18.925Z"
   },
   {
    "duration": 2,
    "start_time": "2022-07-10T23:02:55.282Z"
   },
   {
    "duration": 3,
    "start_time": "2022-07-10T23:02:55.833Z"
   },
   {
    "duration": 4,
    "start_time": "2022-07-10T23:02:56.573Z"
   },
   {
    "duration": 3,
    "start_time": "2022-07-10T23:03:18.653Z"
   },
   {
    "duration": 3,
    "start_time": "2022-07-10T23:03:18.894Z"
   },
   {
    "duration": 3,
    "start_time": "2022-07-10T23:03:19.313Z"
   },
   {
    "duration": 1115,
    "start_time": "2022-07-10T23:03:46.332Z"
   },
   {
    "duration": 335,
    "start_time": "2022-07-10T23:03:47.448Z"
   },
   {
    "duration": 97,
    "start_time": "2022-07-10T23:03:47.784Z"
   },
   {
    "duration": 92,
    "start_time": "2022-07-10T23:03:47.883Z"
   },
   {
    "duration": 97,
    "start_time": "2022-07-10T23:03:47.978Z"
   },
   {
    "duration": 12,
    "start_time": "2022-07-10T23:03:48.077Z"
   },
   {
    "duration": 18,
    "start_time": "2022-07-10T23:03:48.091Z"
   },
   {
    "duration": 26,
    "start_time": "2022-07-10T23:03:48.110Z"
   },
   {
    "duration": 14,
    "start_time": "2022-07-10T23:03:48.138Z"
   },
   {
    "duration": 3,
    "start_time": "2022-07-10T23:03:48.153Z"
   },
   {
    "duration": 6,
    "start_time": "2022-07-10T23:03:48.157Z"
   },
   {
    "duration": 11,
    "start_time": "2022-07-10T23:03:48.165Z"
   },
   {
    "duration": 4,
    "start_time": "2022-07-10T23:03:48.177Z"
   },
   {
    "duration": 42,
    "start_time": "2022-07-10T23:03:48.183Z"
   },
   {
    "duration": 3,
    "start_time": "2022-07-10T23:03:48.227Z"
   },
   {
    "duration": 12,
    "start_time": "2022-07-10T23:03:48.231Z"
   },
   {
    "duration": 4,
    "start_time": "2022-07-10T23:03:48.244Z"
   },
   {
    "duration": 6,
    "start_time": "2022-07-10T23:03:48.249Z"
   },
   {
    "duration": 72,
    "start_time": "2022-07-10T23:03:48.256Z"
   },
   {
    "duration": 111,
    "start_time": "2022-07-10T23:03:48.331Z"
   },
   {
    "duration": 108,
    "start_time": "2022-07-10T23:03:48.526Z"
   },
   {
    "duration": 96,
    "start_time": "2022-07-10T23:03:48.636Z"
   },
   {
    "duration": 16,
    "start_time": "2022-07-10T23:03:48.825Z"
   },
   {
    "duration": 2,
    "start_time": "2022-07-10T23:03:48.843Z"
   },
   {
    "duration": 102,
    "start_time": "2022-07-10T23:03:48.846Z"
   },
   {
    "duration": 0,
    "start_time": "2022-07-10T23:03:48.950Z"
   },
   {
    "duration": 3,
    "start_time": "2022-07-10T23:03:55.590Z"
   },
   {
    "duration": 3,
    "start_time": "2022-07-10T23:03:57.025Z"
   },
   {
    "duration": 5,
    "start_time": "2022-07-10T23:09:12.614Z"
   },
   {
    "duration": 3,
    "start_time": "2022-07-10T23:09:14.057Z"
   },
   {
    "duration": 9,
    "start_time": "2022-07-10T23:09:14.863Z"
   },
   {
    "duration": 9,
    "start_time": "2022-07-10T23:09:34.997Z"
   },
   {
    "duration": 13,
    "start_time": "2022-07-10T23:12:13.973Z"
   },
   {
    "duration": 13,
    "start_time": "2022-07-10T23:16:58.896Z"
   },
   {
    "duration": 12,
    "start_time": "2022-07-10T23:18:56.801Z"
   },
   {
    "duration": 13,
    "start_time": "2022-07-10T23:19:42.276Z"
   },
   {
    "duration": 5,
    "start_time": "2022-07-10T23:27:01.533Z"
   },
   {
    "duration": 14,
    "start_time": "2022-07-10T23:28:05.728Z"
   },
   {
    "duration": 9,
    "start_time": "2022-07-10T23:28:49.573Z"
   },
   {
    "duration": 4,
    "start_time": "2022-07-10T23:29:03.393Z"
   },
   {
    "duration": 939,
    "start_time": "2022-07-10T23:30:10.057Z"
   },
   {
    "duration": 345,
    "start_time": "2022-07-10T23:30:10.997Z"
   },
   {
    "duration": 109,
    "start_time": "2022-07-10T23:30:11.344Z"
   },
   {
    "duration": 94,
    "start_time": "2022-07-10T23:30:11.455Z"
   },
   {
    "duration": 102,
    "start_time": "2022-07-10T23:30:11.551Z"
   },
   {
    "duration": 11,
    "start_time": "2022-07-10T23:30:11.655Z"
   },
   {
    "duration": 15,
    "start_time": "2022-07-10T23:30:11.739Z"
   },
   {
    "duration": 14,
    "start_time": "2022-07-10T23:30:11.989Z"
   },
   {
    "duration": 14,
    "start_time": "2022-07-10T23:30:12.171Z"
   },
   {
    "duration": 2,
    "start_time": "2022-07-10T23:30:12.308Z"
   },
   {
    "duration": 4,
    "start_time": "2022-07-10T23:30:12.996Z"
   },
   {
    "duration": 10,
    "start_time": "2022-07-10T23:30:13.409Z"
   },
   {
    "duration": 4,
    "start_time": "2022-07-10T23:30:13.629Z"
   },
   {
    "duration": 10,
    "start_time": "2022-07-10T23:30:14.058Z"
   },
   {
    "duration": 3,
    "start_time": "2022-07-10T23:30:14.297Z"
   },
   {
    "duration": 9,
    "start_time": "2022-07-10T23:30:14.738Z"
   },
   {
    "duration": 4,
    "start_time": "2022-07-10T23:30:14.917Z"
   },
   {
    "duration": 3,
    "start_time": "2022-07-10T23:30:15.346Z"
   },
   {
    "duration": 23,
    "start_time": "2022-07-10T23:30:15.769Z"
   },
   {
    "duration": 20,
    "start_time": "2022-07-10T23:30:16.229Z"
   },
   {
    "duration": 19,
    "start_time": "2022-07-10T23:30:16.669Z"
   },
   {
    "duration": 91,
    "start_time": "2022-07-10T23:30:17.413Z"
   },
   {
    "duration": 8,
    "start_time": "2022-07-10T23:30:53.189Z"
   },
   {
    "duration": 17,
    "start_time": "2022-07-10T23:30:56.741Z"
   },
   {
    "duration": 17,
    "start_time": "2022-07-10T23:31:07.557Z"
   },
   {
    "duration": 2,
    "start_time": "2022-07-10T23:31:09.129Z"
   },
   {
    "duration": 4,
    "start_time": "2022-07-10T23:31:09.397Z"
   },
   {
    "duration": 3,
    "start_time": "2022-07-10T23:31:10.389Z"
   },
   {
    "duration": 4,
    "start_time": "2022-07-10T23:31:17.377Z"
   },
   {
    "duration": 8,
    "start_time": "2022-07-10T23:31:51.169Z"
   },
   {
    "duration": 16,
    "start_time": "2022-07-10T23:31:51.757Z"
   },
   {
    "duration": 2,
    "start_time": "2022-07-10T23:31:55.569Z"
   },
   {
    "duration": 3,
    "start_time": "2022-07-10T23:31:55.769Z"
   },
   {
    "duration": 3,
    "start_time": "2022-07-10T23:31:56.037Z"
   },
   {
    "duration": 4,
    "start_time": "2022-07-10T23:42:54.729Z"
   },
   {
    "duration": 13,
    "start_time": "2022-07-10T23:43:36.068Z"
   },
   {
    "duration": 7,
    "start_time": "2022-07-10T23:46:21.736Z"
   },
   {
    "duration": 3,
    "start_time": "2022-07-10T23:47:11.485Z"
   },
   {
    "duration": 4,
    "start_time": "2022-07-10T23:47:12.597Z"
   },
   {
    "duration": 8,
    "start_time": "2022-07-10T23:47:14.148Z"
   },
   {
    "duration": 9,
    "start_time": "2022-07-10T23:47:53.276Z"
   },
   {
    "duration": 4,
    "start_time": "2022-07-10T23:48:11.916Z"
   },
   {
    "duration": 10,
    "start_time": "2022-07-10T23:48:13.216Z"
   },
   {
    "duration": 11,
    "start_time": "2022-07-10T23:48:28.605Z"
   },
   {
    "duration": 2,
    "start_time": "2022-07-10T23:49:18.069Z"
   },
   {
    "duration": 4,
    "start_time": "2022-07-10T23:49:22.876Z"
   },
   {
    "duration": 4,
    "start_time": "2022-07-10T23:49:23.337Z"
   },
   {
    "duration": 19,
    "start_time": "2022-07-10T23:49:24.029Z"
   },
   {
    "duration": 3,
    "start_time": "2022-07-10T23:49:45.208Z"
   },
   {
    "duration": 3,
    "start_time": "2022-07-10T23:49:49.796Z"
   },
   {
    "duration": 4,
    "start_time": "2022-07-10T23:49:50.266Z"
   },
   {
    "duration": 25,
    "start_time": "2022-07-10T23:49:51.061Z"
   },
   {
    "duration": 8,
    "start_time": "2022-07-10T23:52:45.776Z"
   },
   {
    "duration": 6,
    "start_time": "2022-07-10T23:53:08.502Z"
   },
   {
    "duration": 5,
    "start_time": "2022-07-10T23:55:11.835Z"
   },
   {
    "duration": 84,
    "start_time": "2022-07-11T00:00:43.543Z"
   },
   {
    "duration": 11,
    "start_time": "2022-07-11T00:01:10.570Z"
   },
   {
    "duration": 1032,
    "start_time": "2022-07-11T00:01:33.474Z"
   },
   {
    "duration": 376,
    "start_time": "2022-07-11T00:01:34.508Z"
   },
   {
    "duration": 109,
    "start_time": "2022-07-11T00:01:34.886Z"
   },
   {
    "duration": 105,
    "start_time": "2022-07-11T00:01:34.998Z"
   },
   {
    "duration": 93,
    "start_time": "2022-07-11T00:01:35.104Z"
   },
   {
    "duration": 25,
    "start_time": "2022-07-11T00:01:35.199Z"
   },
   {
    "duration": 20,
    "start_time": "2022-07-11T00:01:35.226Z"
   },
   {
    "duration": 15,
    "start_time": "2022-07-11T00:01:35.282Z"
   },
   {
    "duration": 15,
    "start_time": "2022-07-11T00:01:35.487Z"
   },
   {
    "duration": 3,
    "start_time": "2022-07-11T00:01:35.714Z"
   },
   {
    "duration": 3,
    "start_time": "2022-07-11T00:01:36.374Z"
   },
   {
    "duration": 9,
    "start_time": "2022-07-11T00:01:36.807Z"
   },
   {
    "duration": 4,
    "start_time": "2022-07-11T00:01:37.054Z"
   },
   {
    "duration": 10,
    "start_time": "2022-07-11T00:01:37.594Z"
   },
   {
    "duration": 3,
    "start_time": "2022-07-11T00:01:37.834Z"
   },
   {
    "duration": 9,
    "start_time": "2022-07-11T00:01:38.346Z"
   },
   {
    "duration": 3,
    "start_time": "2022-07-11T00:01:38.587Z"
   },
   {
    "duration": 4,
    "start_time": "2022-07-11T00:01:39.082Z"
   },
   {
    "duration": 98,
    "start_time": "2022-07-11T00:01:39.526Z"
   },
   {
    "duration": 20,
    "start_time": "2022-07-11T00:01:39.926Z"
   },
   {
    "duration": 28,
    "start_time": "2022-07-11T00:01:40.366Z"
   },
   {
    "duration": 8,
    "start_time": "2022-07-11T00:01:40.882Z"
   },
   {
    "duration": 17,
    "start_time": "2022-07-11T00:01:41.096Z"
   },
   {
    "duration": 3,
    "start_time": "2022-07-11T00:01:42.096Z"
   },
   {
    "duration": 3,
    "start_time": "2022-07-11T00:01:42.362Z"
   },
   {
    "duration": 3,
    "start_time": "2022-07-11T00:01:42.746Z"
   },
   {
    "duration": 5,
    "start_time": "2022-07-11T00:01:44.294Z"
   },
   {
    "duration": 112,
    "start_time": "2022-07-11T00:01:45.531Z"
   },
   {
    "duration": 6,
    "start_time": "2022-07-11T00:01:58.194Z"
   },
   {
    "duration": 82,
    "start_time": "2022-07-11T00:02:00.265Z"
   },
   {
    "duration": 84,
    "start_time": "2022-07-11T00:03:02.570Z"
   },
   {
    "duration": 1066,
    "start_time": "2022-07-11T00:03:32.938Z"
   },
   {
    "duration": 370,
    "start_time": "2022-07-11T00:03:34.629Z"
   },
   {
    "duration": 157,
    "start_time": "2022-07-11T00:03:35.002Z"
   },
   {
    "duration": 87,
    "start_time": "2022-07-11T00:03:36.389Z"
   },
   {
    "duration": 90,
    "start_time": "2022-07-11T00:03:38.050Z"
   },
   {
    "duration": 13,
    "start_time": "2022-07-11T00:03:39.497Z"
   },
   {
    "duration": 14,
    "start_time": "2022-07-11T00:03:48.796Z"
   },
   {
    "duration": 13,
    "start_time": "2022-07-11T00:03:49.350Z"
   },
   {
    "duration": 14,
    "start_time": "2022-07-11T00:03:49.730Z"
   },
   {
    "duration": 3,
    "start_time": "2022-07-11T00:03:50.037Z"
   },
   {
    "duration": 4,
    "start_time": "2022-07-11T00:03:51.157Z"
   },
   {
    "duration": 9,
    "start_time": "2022-07-11T00:03:51.769Z"
   },
   {
    "duration": 3,
    "start_time": "2022-07-11T00:03:52.031Z"
   },
   {
    "duration": 10,
    "start_time": "2022-07-11T00:03:52.498Z"
   },
   {
    "duration": 4,
    "start_time": "2022-07-11T00:03:52.809Z"
   },
   {
    "duration": 10,
    "start_time": "2022-07-11T00:03:53.398Z"
   },
   {
    "duration": 4,
    "start_time": "2022-07-11T00:03:53.709Z"
   },
   {
    "duration": 3,
    "start_time": "2022-07-11T00:03:54.194Z"
   },
   {
    "duration": 80,
    "start_time": "2022-07-11T00:03:54.644Z"
   },
   {
    "duration": 21,
    "start_time": "2022-07-11T00:03:55.209Z"
   },
   {
    "duration": 20,
    "start_time": "2022-07-11T00:03:56.110Z"
   },
   {
    "duration": 8,
    "start_time": "2022-07-11T00:03:56.680Z"
   },
   {
    "duration": 19,
    "start_time": "2022-07-11T00:03:56.978Z"
   },
   {
    "duration": 3,
    "start_time": "2022-07-11T00:03:58.289Z"
   },
   {
    "duration": 3,
    "start_time": "2022-07-11T00:03:58.689Z"
   },
   {
    "duration": 4,
    "start_time": "2022-07-11T00:03:59.289Z"
   },
   {
    "duration": 5,
    "start_time": "2022-07-11T00:04:02.669Z"
   },
   {
    "duration": 102,
    "start_time": "2022-07-11T00:04:05.237Z"
   },
   {
    "duration": 17,
    "start_time": "2022-07-11T00:05:41.377Z"
   },
   {
    "duration": 10,
    "start_time": "2022-07-11T00:06:29.017Z"
   },
   {
    "duration": 5,
    "start_time": "2022-07-11T00:06:46.369Z"
   },
   {
    "duration": 1065,
    "start_time": "2022-07-11T00:07:16.730Z"
   },
   {
    "duration": 341,
    "start_time": "2022-07-11T00:07:17.797Z"
   },
   {
    "duration": 108,
    "start_time": "2022-07-11T00:07:18.140Z"
   },
   {
    "duration": 91,
    "start_time": "2022-07-11T00:07:18.250Z"
   },
   {
    "duration": 101,
    "start_time": "2022-07-11T00:07:18.342Z"
   },
   {
    "duration": 13,
    "start_time": "2022-07-11T00:07:18.473Z"
   },
   {
    "duration": 15,
    "start_time": "2022-07-11T00:07:18.890Z"
   },
   {
    "duration": 15,
    "start_time": "2022-07-11T00:07:19.149Z"
   },
   {
    "duration": 14,
    "start_time": "2022-07-11T00:07:19.410Z"
   },
   {
    "duration": 2,
    "start_time": "2022-07-11T00:07:19.638Z"
   },
   {
    "duration": 3,
    "start_time": "2022-07-11T00:07:20.405Z"
   },
   {
    "duration": 10,
    "start_time": "2022-07-11T00:07:20.749Z"
   },
   {
    "duration": 4,
    "start_time": "2022-07-11T00:07:20.949Z"
   },
   {
    "duration": 9,
    "start_time": "2022-07-11T00:07:21.378Z"
   },
   {
    "duration": 4,
    "start_time": "2022-07-11T00:07:21.569Z"
   },
   {
    "duration": 10,
    "start_time": "2022-07-11T00:07:22.048Z"
   },
   {
    "duration": 3,
    "start_time": "2022-07-11T00:07:22.250Z"
   },
   {
    "duration": 3,
    "start_time": "2022-07-11T00:07:22.718Z"
   },
   {
    "duration": 27,
    "start_time": "2022-07-11T00:07:23.229Z"
   },
   {
    "duration": 21,
    "start_time": "2022-07-11T00:07:23.830Z"
   },
   {
    "duration": 21,
    "start_time": "2022-07-11T00:07:24.490Z"
   },
   {
    "duration": 8,
    "start_time": "2022-07-11T00:07:25.118Z"
   },
   {
    "duration": 18,
    "start_time": "2022-07-11T00:07:25.415Z"
   },
   {
    "duration": 4,
    "start_time": "2022-07-11T00:07:26.629Z"
   },
   {
    "duration": 3,
    "start_time": "2022-07-11T00:07:27.050Z"
   },
   {
    "duration": 3,
    "start_time": "2022-07-11T00:07:27.719Z"
   },
   {
    "duration": 8,
    "start_time": "2022-07-11T00:07:32.289Z"
   },
   {
    "duration": 101,
    "start_time": "2022-07-11T00:07:36.565Z"
   },
   {
    "duration": 14,
    "start_time": "2022-07-11T00:07:44.039Z"
   },
   {
    "duration": 16,
    "start_time": "2022-07-11T00:10:52.529Z"
   },
   {
    "duration": 10,
    "start_time": "2022-07-11T00:11:03.365Z"
   },
   {
    "duration": 12,
    "start_time": "2022-07-11T00:11:42.010Z"
   },
   {
    "duration": 4,
    "start_time": "2022-07-11T00:12:00.242Z"
   },
   {
    "duration": 14,
    "start_time": "2022-07-11T00:12:04.105Z"
   },
   {
    "duration": 13,
    "start_time": "2022-07-11T00:12:09.619Z"
   },
   {
    "duration": 14,
    "start_time": "2022-07-11T00:15:32.305Z"
   },
   {
    "duration": 4,
    "start_time": "2022-07-11T00:15:42.517Z"
   },
   {
    "duration": 11,
    "start_time": "2022-07-11T00:16:14.956Z"
   },
   {
    "duration": 10,
    "start_time": "2022-07-11T00:20:33.148Z"
   },
   {
    "duration": 12,
    "start_time": "2022-07-11T00:21:26.217Z"
   },
   {
    "duration": 8,
    "start_time": "2022-07-11T00:21:34.924Z"
   },
   {
    "duration": 19,
    "start_time": "2022-07-11T00:22:00.786Z"
   },
   {
    "duration": 17,
    "start_time": "2022-07-11T00:23:04.117Z"
   },
   {
    "duration": 8,
    "start_time": "2022-07-11T00:24:23.117Z"
   },
   {
    "duration": 17,
    "start_time": "2022-07-11T00:24:23.897Z"
   },
   {
    "duration": 13,
    "start_time": "2022-07-11T00:26:50.779Z"
   },
   {
    "duration": 13,
    "start_time": "2022-07-11T00:27:03.328Z"
   },
   {
    "duration": 14,
    "start_time": "2022-07-11T00:28:38.755Z"
   },
   {
    "duration": 5,
    "start_time": "2022-07-11T00:28:53.740Z"
   },
   {
    "duration": 13,
    "start_time": "2022-07-11T00:29:00.013Z"
   },
   {
    "duration": 10,
    "start_time": "2022-07-11T00:29:10.720Z"
   },
   {
    "duration": 1013,
    "start_time": "2022-07-11T00:29:47.666Z"
   },
   {
    "duration": 335,
    "start_time": "2022-07-11T00:29:48.681Z"
   },
   {
    "duration": 106,
    "start_time": "2022-07-11T00:29:49.018Z"
   },
   {
    "duration": 81,
    "start_time": "2022-07-11T00:29:49.125Z"
   },
   {
    "duration": 92,
    "start_time": "2022-07-11T00:29:49.209Z"
   },
   {
    "duration": 23,
    "start_time": "2022-07-11T00:29:49.303Z"
   },
   {
    "duration": 20,
    "start_time": "2022-07-11T00:29:49.328Z"
   },
   {
    "duration": 13,
    "start_time": "2022-07-11T00:29:49.349Z"
   },
   {
    "duration": 13,
    "start_time": "2022-07-11T00:29:49.364Z"
   },
   {
    "duration": 2,
    "start_time": "2022-07-11T00:29:49.378Z"
   },
   {
    "duration": 7,
    "start_time": "2022-07-11T00:29:49.381Z"
   },
   {
    "duration": 34,
    "start_time": "2022-07-11T00:29:49.390Z"
   },
   {
    "duration": 4,
    "start_time": "2022-07-11T00:29:49.425Z"
   },
   {
    "duration": 12,
    "start_time": "2022-07-11T00:29:49.431Z"
   },
   {
    "duration": 3,
    "start_time": "2022-07-11T00:29:49.444Z"
   },
   {
    "duration": 17,
    "start_time": "2022-07-11T00:29:49.449Z"
   },
   {
    "duration": 3,
    "start_time": "2022-07-11T00:29:49.468Z"
   },
   {
    "duration": 6,
    "start_time": "2022-07-11T00:29:49.472Z"
   },
   {
    "duration": 145,
    "start_time": "2022-07-11T00:29:49.479Z"
   },
   {
    "duration": 98,
    "start_time": "2022-07-11T00:29:49.626Z"
   },
   {
    "duration": 109,
    "start_time": "2022-07-11T00:29:49.726Z"
   },
   {
    "duration": 86,
    "start_time": "2022-07-11T00:29:49.838Z"
   },
   {
    "duration": 118,
    "start_time": "2022-07-11T00:29:49.927Z"
   },
   {
    "duration": 10,
    "start_time": "2022-07-11T00:29:50.046Z"
   },
   {
    "duration": 6,
    "start_time": "2022-07-11T00:29:50.058Z"
   },
   {
    "duration": 15,
    "start_time": "2022-07-11T00:29:50.066Z"
   },
   {
    "duration": 9,
    "start_time": "2022-07-11T00:29:50.082Z"
   },
   {
    "duration": 6,
    "start_time": "2022-07-11T00:29:50.093Z"
   },
   {
    "duration": 11,
    "start_time": "2022-07-11T00:29:50.100Z"
   },
   {
    "duration": 93,
    "start_time": "2022-07-11T00:29:50.113Z"
   },
   {
    "duration": 18,
    "start_time": "2022-07-11T00:30:18.501Z"
   },
   {
    "duration": 12,
    "start_time": "2022-07-11T00:31:38.084Z"
   },
   {
    "duration": 9,
    "start_time": "2022-07-11T00:31:47.633Z"
   },
   {
    "duration": 12,
    "start_time": "2022-07-11T00:32:25.957Z"
   },
   {
    "duration": 3,
    "start_time": "2022-07-11T00:32:49.441Z"
   },
   {
    "duration": 5,
    "start_time": "2022-07-11T00:32:51.293Z"
   },
   {
    "duration": 5,
    "start_time": "2022-07-11T00:33:00.842Z"
   },
   {
    "duration": 12,
    "start_time": "2022-07-11T00:33:03.837Z"
   },
   {
    "duration": 10,
    "start_time": "2022-07-11T00:33:21.961Z"
   },
   {
    "duration": 103,
    "start_time": "2022-07-11T00:33:43.658Z"
   },
   {
    "duration": 1013,
    "start_time": "2022-07-11T00:34:03.396Z"
   },
   {
    "duration": 351,
    "start_time": "2022-07-11T00:34:04.411Z"
   },
   {
    "duration": 99,
    "start_time": "2022-07-11T00:34:04.764Z"
   },
   {
    "duration": 92,
    "start_time": "2022-07-11T00:34:04.865Z"
   },
   {
    "duration": 92,
    "start_time": "2022-07-11T00:34:04.960Z"
   },
   {
    "duration": 13,
    "start_time": "2022-07-11T00:34:05.053Z"
   },
   {
    "duration": 18,
    "start_time": "2022-07-11T00:34:05.067Z"
   },
   {
    "duration": 14,
    "start_time": "2022-07-11T00:34:05.086Z"
   },
   {
    "duration": 29,
    "start_time": "2022-07-11T00:34:05.101Z"
   },
   {
    "duration": 2,
    "start_time": "2022-07-11T00:34:05.132Z"
   },
   {
    "duration": 6,
    "start_time": "2022-07-11T00:34:05.135Z"
   },
   {
    "duration": 11,
    "start_time": "2022-07-11T00:34:05.142Z"
   },
   {
    "duration": 3,
    "start_time": "2022-07-11T00:34:05.155Z"
   },
   {
    "duration": 9,
    "start_time": "2022-07-11T00:34:05.161Z"
   },
   {
    "duration": 3,
    "start_time": "2022-07-11T00:34:05.171Z"
   },
   {
    "duration": 13,
    "start_time": "2022-07-11T00:34:05.176Z"
   },
   {
    "duration": 36,
    "start_time": "2022-07-11T00:34:05.190Z"
   },
   {
    "duration": 4,
    "start_time": "2022-07-11T00:34:05.228Z"
   },
   {
    "duration": 91,
    "start_time": "2022-07-11T00:34:05.234Z"
   },
   {
    "duration": 113,
    "start_time": "2022-07-11T00:34:05.327Z"
   },
   {
    "duration": 195,
    "start_time": "2022-07-11T00:34:05.443Z"
   },
   {
    "duration": 185,
    "start_time": "2022-07-11T00:34:05.640Z"
   },
   {
    "duration": 16,
    "start_time": "2022-07-11T00:34:05.827Z"
   },
   {
    "duration": 3,
    "start_time": "2022-07-11T00:34:05.845Z"
   },
   {
    "duration": 7,
    "start_time": "2022-07-11T00:34:05.850Z"
   },
   {
    "duration": 6,
    "start_time": "2022-07-11T00:34:05.859Z"
   },
   {
    "duration": 7,
    "start_time": "2022-07-11T00:34:05.866Z"
   },
   {
    "duration": 4,
    "start_time": "2022-07-11T00:34:05.875Z"
   },
   {
    "duration": 11,
    "start_time": "2022-07-11T00:34:05.880Z"
   },
   {
    "duration": 38,
    "start_time": "2022-07-11T00:34:05.893Z"
   },
   {
    "duration": 105,
    "start_time": "2022-07-11T00:34:05.933Z"
   },
   {
    "duration": 32,
    "start_time": "2022-07-11T00:35:01.598Z"
   },
   {
    "duration": 7,
    "start_time": "2022-07-11T00:35:30.755Z"
   },
   {
    "duration": 9,
    "start_time": "2022-07-11T00:36:25.778Z"
   },
   {
    "duration": 8,
    "start_time": "2022-07-11T00:37:09.590Z"
   },
   {
    "duration": 19,
    "start_time": "2022-07-11T00:37:49.120Z"
   },
   {
    "duration": 9,
    "start_time": "2022-07-11T00:37:58.631Z"
   },
   {
    "duration": 8,
    "start_time": "2022-07-11T00:38:39.418Z"
   },
   {
    "duration": 3,
    "start_time": "2022-07-11T00:38:46.259Z"
   },
   {
    "duration": 5,
    "start_time": "2022-07-11T00:38:48.438Z"
   },
   {
    "duration": 12,
    "start_time": "2022-07-11T00:38:57.599Z"
   },
   {
    "duration": 1006,
    "start_time": "2022-07-11T00:39:19.068Z"
   },
   {
    "duration": 349,
    "start_time": "2022-07-11T00:39:20.076Z"
   },
   {
    "duration": 104,
    "start_time": "2022-07-11T00:39:20.427Z"
   },
   {
    "duration": 99,
    "start_time": "2022-07-11T00:39:20.533Z"
   },
   {
    "duration": 93,
    "start_time": "2022-07-11T00:39:20.635Z"
   },
   {
    "duration": 12,
    "start_time": "2022-07-11T00:39:20.730Z"
   },
   {
    "duration": 18,
    "start_time": "2022-07-11T00:39:20.744Z"
   },
   {
    "duration": 14,
    "start_time": "2022-07-11T00:39:20.764Z"
   },
   {
    "duration": 43,
    "start_time": "2022-07-11T00:39:20.780Z"
   },
   {
    "duration": 3,
    "start_time": "2022-07-11T00:39:20.825Z"
   },
   {
    "duration": 5,
    "start_time": "2022-07-11T00:39:20.830Z"
   },
   {
    "duration": 11,
    "start_time": "2022-07-11T00:39:20.837Z"
   },
   {
    "duration": 4,
    "start_time": "2022-07-11T00:39:20.849Z"
   },
   {
    "duration": 10,
    "start_time": "2022-07-11T00:39:20.857Z"
   },
   {
    "duration": 4,
    "start_time": "2022-07-11T00:39:20.868Z"
   },
   {
    "duration": 11,
    "start_time": "2022-07-11T00:39:20.873Z"
   },
   {
    "duration": 4,
    "start_time": "2022-07-11T00:39:20.886Z"
   },
   {
    "duration": 4,
    "start_time": "2022-07-11T00:39:20.924Z"
   },
   {
    "duration": 96,
    "start_time": "2022-07-11T00:39:20.929Z"
   },
   {
    "duration": 106,
    "start_time": "2022-07-11T00:39:21.028Z"
   },
   {
    "duration": 191,
    "start_time": "2022-07-11T00:39:21.137Z"
   },
   {
    "duration": 198,
    "start_time": "2022-07-11T00:39:21.331Z"
   },
   {
    "duration": 20,
    "start_time": "2022-07-11T00:39:21.531Z"
   },
   {
    "duration": 7,
    "start_time": "2022-07-11T00:39:21.553Z"
   },
   {
    "duration": 6,
    "start_time": "2022-07-11T00:39:21.561Z"
   },
   {
    "duration": 6,
    "start_time": "2022-07-11T00:39:21.568Z"
   },
   {
    "duration": 9,
    "start_time": "2022-07-11T00:39:21.576Z"
   },
   {
    "duration": 4,
    "start_time": "2022-07-11T00:39:21.587Z"
   },
   {
    "duration": 9,
    "start_time": "2022-07-11T00:39:21.592Z"
   },
   {
    "duration": 123,
    "start_time": "2022-07-11T00:39:21.602Z"
   },
   {
    "duration": 12,
    "start_time": "2022-07-11T00:39:36.253Z"
   },
   {
    "duration": 9,
    "start_time": "2022-07-11T00:40:17.739Z"
   },
   {
    "duration": 12,
    "start_time": "2022-07-11T00:40:32.863Z"
   },
   {
    "duration": 10,
    "start_time": "2022-07-11T00:40:49.963Z"
   },
   {
    "duration": 5,
    "start_time": "2022-07-11T00:41:44.630Z"
   },
   {
    "duration": 9,
    "start_time": "2022-07-11T00:42:41.623Z"
   },
   {
    "duration": 3,
    "start_time": "2022-07-11T00:42:49.572Z"
   },
   {
    "duration": 6,
    "start_time": "2022-07-11T00:42:51.415Z"
   },
   {
    "duration": 10,
    "start_time": "2022-07-11T00:43:23.255Z"
   },
   {
    "duration": 1076,
    "start_time": "2022-07-11T00:43:54.589Z"
   },
   {
    "duration": 344,
    "start_time": "2022-07-11T00:43:55.668Z"
   },
   {
    "duration": 100,
    "start_time": "2022-07-11T00:43:56.014Z"
   },
   {
    "duration": 84,
    "start_time": "2022-07-11T00:43:56.124Z"
   },
   {
    "duration": 99,
    "start_time": "2022-07-11T00:43:56.210Z"
   },
   {
    "duration": 20,
    "start_time": "2022-07-11T00:43:56.311Z"
   },
   {
    "duration": 19,
    "start_time": "2022-07-11T00:43:56.333Z"
   },
   {
    "duration": 14,
    "start_time": "2022-07-11T00:43:56.354Z"
   },
   {
    "duration": 16,
    "start_time": "2022-07-11T00:43:56.369Z"
   },
   {
    "duration": 2,
    "start_time": "2022-07-11T00:43:56.387Z"
   },
   {
    "duration": 41,
    "start_time": "2022-07-11T00:43:56.391Z"
   },
   {
    "duration": 14,
    "start_time": "2022-07-11T00:43:56.434Z"
   },
   {
    "duration": 3,
    "start_time": "2022-07-11T00:43:56.450Z"
   },
   {
    "duration": 15,
    "start_time": "2022-07-11T00:43:56.455Z"
   },
   {
    "duration": 4,
    "start_time": "2022-07-11T00:43:56.471Z"
   },
   {
    "duration": 11,
    "start_time": "2022-07-11T00:43:56.477Z"
   },
   {
    "duration": 5,
    "start_time": "2022-07-11T00:43:56.489Z"
   },
   {
    "duration": 16,
    "start_time": "2022-07-11T00:43:56.495Z"
   },
   {
    "duration": 33,
    "start_time": "2022-07-11T00:43:56.513Z"
   },
   {
    "duration": 111,
    "start_time": "2022-07-11T00:43:56.623Z"
   },
   {
    "duration": 188,
    "start_time": "2022-07-11T00:43:56.737Z"
   },
   {
    "duration": 100,
    "start_time": "2022-07-11T00:43:56.930Z"
   },
   {
    "duration": 18,
    "start_time": "2022-07-11T00:43:57.031Z"
   },
   {
    "duration": 6,
    "start_time": "2022-07-11T00:43:57.050Z"
   },
   {
    "duration": 7,
    "start_time": "2022-07-11T00:43:57.057Z"
   },
   {
    "duration": 8,
    "start_time": "2022-07-11T00:43:57.065Z"
   },
   {
    "duration": 15,
    "start_time": "2022-07-11T00:43:57.075Z"
   },
   {
    "duration": 4,
    "start_time": "2022-07-11T00:43:57.092Z"
   },
   {
    "duration": 36,
    "start_time": "2022-07-11T00:43:57.098Z"
   },
   {
    "duration": 5,
    "start_time": "2022-07-11T00:45:33.320Z"
   },
   {
    "duration": 4,
    "start_time": "2022-07-11T00:45:33.920Z"
   },
   {
    "duration": 2430,
    "start_time": "2022-07-11T00:45:34.480Z"
   },
   {
    "duration": 2455,
    "start_time": "2022-07-11T00:46:00.941Z"
   },
   {
    "duration": 18,
    "start_time": "2022-07-11T00:49:03.717Z"
   },
   {
    "duration": 5,
    "start_time": "2022-07-11T00:49:13.407Z"
   },
   {
    "duration": 3,
    "start_time": "2022-07-11T00:49:14.237Z"
   },
   {
    "duration": 2855,
    "start_time": "2022-07-11T00:49:14.857Z"
   },
   {
    "duration": 2894,
    "start_time": "2022-07-11T00:50:02.217Z"
   },
   {
    "duration": 5,
    "start_time": "2022-07-11T00:50:49.697Z"
   },
   {
    "duration": 3,
    "start_time": "2022-07-11T00:50:50.707Z"
   },
   {
    "duration": 2813,
    "start_time": "2022-07-11T00:50:51.117Z"
   },
   {
    "duration": 2795,
    "start_time": "2022-07-11T00:51:31.597Z"
   },
   {
    "duration": 4,
    "start_time": "2022-07-11T00:54:07.948Z"
   },
   {
    "duration": 3,
    "start_time": "2022-07-11T00:54:08.628Z"
   },
   {
    "duration": 2771,
    "start_time": "2022-07-11T00:54:09.387Z"
   },
   {
    "duration": 5,
    "start_time": "2022-07-11T00:58:23.957Z"
   },
   {
    "duration": 5,
    "start_time": "2022-07-11T00:58:24.567Z"
   },
   {
    "duration": 2617,
    "start_time": "2022-07-11T00:58:25.208Z"
   },
   {
    "duration": 5,
    "start_time": "2022-07-11T00:59:08.151Z"
   },
   {
    "duration": 4,
    "start_time": "2022-07-11T00:59:33.567Z"
   },
   {
    "duration": 2619,
    "start_time": "2022-07-11T00:59:34.127Z"
   },
   {
    "duration": 2558,
    "start_time": "2022-07-11T00:59:45.137Z"
   },
   {
    "duration": 2667,
    "start_time": "2022-07-11T01:00:00.847Z"
   },
   {
    "duration": 1029,
    "start_time": "2022-07-11T01:00:25.255Z"
   },
   {
    "duration": 364,
    "start_time": "2022-07-11T01:00:26.285Z"
   },
   {
    "duration": 111,
    "start_time": "2022-07-11T01:00:26.651Z"
   },
   {
    "duration": 95,
    "start_time": "2022-07-11T01:00:26.764Z"
   },
   {
    "duration": 99,
    "start_time": "2022-07-11T01:00:26.861Z"
   },
   {
    "duration": 13,
    "start_time": "2022-07-11T01:00:26.962Z"
   },
   {
    "duration": 21,
    "start_time": "2022-07-11T01:00:26.977Z"
   },
   {
    "duration": 26,
    "start_time": "2022-07-11T01:00:27.000Z"
   },
   {
    "duration": 14,
    "start_time": "2022-07-11T01:00:27.027Z"
   },
   {
    "duration": 2,
    "start_time": "2022-07-11T01:00:27.044Z"
   },
   {
    "duration": 8,
    "start_time": "2022-07-11T01:00:27.048Z"
   },
   {
    "duration": 13,
    "start_time": "2022-07-11T01:00:27.058Z"
   },
   {
    "duration": 4,
    "start_time": "2022-07-11T01:00:27.073Z"
   },
   {
    "duration": 12,
    "start_time": "2022-07-11T01:00:27.079Z"
   },
   {
    "duration": 3,
    "start_time": "2022-07-11T01:00:27.093Z"
   },
   {
    "duration": 39,
    "start_time": "2022-07-11T01:00:27.098Z"
   },
   {
    "duration": 5,
    "start_time": "2022-07-11T01:00:27.139Z"
   },
   {
    "duration": 12,
    "start_time": "2022-07-11T01:00:27.145Z"
   },
   {
    "duration": 69,
    "start_time": "2022-07-11T01:00:27.159Z"
   },
   {
    "duration": 109,
    "start_time": "2022-07-11T01:00:27.232Z"
   },
   {
    "duration": 188,
    "start_time": "2022-07-11T01:00:27.343Z"
   },
   {
    "duration": 100,
    "start_time": "2022-07-11T01:00:27.533Z"
   },
   {
    "duration": 19,
    "start_time": "2022-07-11T01:00:27.724Z"
   },
   {
    "duration": 2,
    "start_time": "2022-07-11T01:00:27.744Z"
   },
   {
    "duration": 6,
    "start_time": "2022-07-11T01:00:27.748Z"
   },
   {
    "duration": 6,
    "start_time": "2022-07-11T01:00:27.756Z"
   },
   {
    "duration": 7,
    "start_time": "2022-07-11T01:00:27.764Z"
   },
   {
    "duration": 4,
    "start_time": "2022-07-11T01:00:27.774Z"
   },
   {
    "duration": 121,
    "start_time": "2022-07-11T01:00:27.780Z"
   },
   {
    "duration": 0,
    "start_time": "2022-07-11T01:00:27.902Z"
   },
   {
    "duration": 0,
    "start_time": "2022-07-11T01:00:27.904Z"
   },
   {
    "duration": 0,
    "start_time": "2022-07-11T01:00:27.905Z"
   },
   {
    "duration": 17,
    "start_time": "2022-07-11T01:01:42.220Z"
   },
   {
    "duration": 5,
    "start_time": "2022-07-11T01:01:45.710Z"
   },
   {
    "duration": 4,
    "start_time": "2022-07-11T01:01:46.560Z"
   },
   {
    "duration": 1420,
    "start_time": "2022-07-11T01:01:47.390Z"
   },
   {
    "duration": 4,
    "start_time": "2022-07-11T01:02:01.119Z"
   },
   {
    "duration": 2830,
    "start_time": "2022-07-11T01:02:03.150Z"
   },
   {
    "duration": 3,
    "start_time": "2022-07-11T01:02:35.925Z"
   },
   {
    "duration": 2807,
    "start_time": "2022-07-11T01:02:37.065Z"
   },
   {
    "duration": 5,
    "start_time": "2022-07-11T01:03:08.434Z"
   },
   {
    "duration": 5,
    "start_time": "2022-07-11T01:03:09.834Z"
   },
   {
    "duration": 2445,
    "start_time": "2022-07-11T01:03:10.525Z"
   },
   {
    "duration": 6,
    "start_time": "2022-07-11T01:05:45.064Z"
   },
   {
    "duration": 3,
    "start_time": "2022-07-11T01:05:45.804Z"
   },
   {
    "duration": 2389,
    "start_time": "2022-07-11T01:05:46.508Z"
   },
   {
    "duration": 2439,
    "start_time": "2022-07-11T01:10:16.684Z"
   },
   {
    "duration": 2375,
    "start_time": "2022-07-11T01:10:19.125Z"
   },
   {
    "duration": 2381,
    "start_time": "2022-07-11T01:10:21.502Z"
   },
   {
    "duration": 6,
    "start_time": "2022-07-11T01:12:44.688Z"
   },
   {
    "duration": 4,
    "start_time": "2022-07-11T01:12:45.238Z"
   },
   {
    "duration": 2435,
    "start_time": "2022-07-11T01:12:45.969Z"
   },
   {
    "duration": 2473,
    "start_time": "2022-07-11T01:12:52.484Z"
   },
   {
    "duration": 2520,
    "start_time": "2022-07-11T01:12:54.959Z"
   },
   {
    "duration": 18,
    "start_time": "2022-07-11T01:13:18.433Z"
   },
   {
    "duration": 17,
    "start_time": "2022-07-11T01:13:29.973Z"
   },
   {
    "duration": 18,
    "start_time": "2022-07-11T01:14:30.633Z"
   },
   {
    "duration": 17,
    "start_time": "2022-07-11T01:14:36.003Z"
   },
   {
    "duration": 18,
    "start_time": "2022-07-11T01:15:02.912Z"
   },
   {
    "duration": 5,
    "start_time": "2022-07-11T01:15:17.233Z"
   },
   {
    "duration": 5,
    "start_time": "2022-07-11T01:15:22.302Z"
   },
   {
    "duration": 2432,
    "start_time": "2022-07-11T01:15:22.983Z"
   },
   {
    "duration": 2469,
    "start_time": "2022-07-11T01:15:26.513Z"
   },
   {
    "duration": 2444,
    "start_time": "2022-07-11T01:15:29.693Z"
   },
   {
    "duration": 2427,
    "start_time": "2022-07-11T01:18:31.843Z"
   },
   {
    "duration": 2537,
    "start_time": "2022-07-11T01:29:06.383Z"
   },
   {
    "duration": 2452,
    "start_time": "2022-07-11T01:29:33.013Z"
   },
   {
    "duration": 2424,
    "start_time": "2022-07-11T01:29:35.467Z"
   },
   {
    "duration": 1011,
    "start_time": "2022-07-11T01:34:31.739Z"
   },
   {
    "duration": 340,
    "start_time": "2022-07-11T01:34:32.752Z"
   },
   {
    "duration": 97,
    "start_time": "2022-07-11T01:34:33.094Z"
   },
   {
    "duration": 89,
    "start_time": "2022-07-11T01:34:33.193Z"
   },
   {
    "duration": 89,
    "start_time": "2022-07-11T01:34:33.284Z"
   },
   {
    "duration": 12,
    "start_time": "2022-07-11T01:34:33.375Z"
   },
   {
    "duration": 15,
    "start_time": "2022-07-11T01:34:33.389Z"
   },
   {
    "duration": 30,
    "start_time": "2022-07-11T01:34:33.406Z"
   },
   {
    "duration": 13,
    "start_time": "2022-07-11T01:34:33.437Z"
   },
   {
    "duration": 7,
    "start_time": "2022-07-11T01:34:33.452Z"
   },
   {
    "duration": 8,
    "start_time": "2022-07-11T01:34:33.460Z"
   },
   {
    "duration": 16,
    "start_time": "2022-07-11T01:34:33.469Z"
   },
   {
    "duration": 4,
    "start_time": "2022-07-11T01:34:33.486Z"
   },
   {
    "duration": 10,
    "start_time": "2022-07-11T01:34:33.492Z"
   },
   {
    "duration": 21,
    "start_time": "2022-07-11T01:34:33.503Z"
   },
   {
    "duration": 9,
    "start_time": "2022-07-11T01:34:33.526Z"
   },
   {
    "duration": 4,
    "start_time": "2022-07-11T01:34:33.536Z"
   },
   {
    "duration": 5,
    "start_time": "2022-07-11T01:34:33.541Z"
   },
   {
    "duration": 76,
    "start_time": "2022-07-11T01:34:33.548Z"
   },
   {
    "duration": 110,
    "start_time": "2022-07-11T01:34:33.626Z"
   },
   {
    "duration": 190,
    "start_time": "2022-07-11T01:34:33.739Z"
   },
   {
    "duration": 193,
    "start_time": "2022-07-11T01:34:33.931Z"
   },
   {
    "duration": 20,
    "start_time": "2022-07-11T01:34:34.126Z"
   },
   {
    "duration": 3,
    "start_time": "2022-07-11T01:34:34.147Z"
   },
   {
    "duration": 7,
    "start_time": "2022-07-11T01:34:34.151Z"
   },
   {
    "duration": 5,
    "start_time": "2022-07-11T01:34:34.160Z"
   },
   {
    "duration": 8,
    "start_time": "2022-07-11T01:34:34.166Z"
   },
   {
    "duration": 6,
    "start_time": "2022-07-11T01:34:34.176Z"
   },
   {
    "duration": 18,
    "start_time": "2022-07-11T01:34:34.183Z"
   },
   {
    "duration": 24,
    "start_time": "2022-07-11T01:34:34.202Z"
   },
   {
    "duration": 9,
    "start_time": "2022-07-11T01:34:34.228Z"
   },
   {
    "duration": 2516,
    "start_time": "2022-07-11T01:34:34.239Z"
   },
   {
    "duration": 2437,
    "start_time": "2022-07-11T01:34:36.757Z"
   },
   {
    "duration": 2392,
    "start_time": "2022-07-11T01:34:39.196Z"
   },
   {
    "duration": 990,
    "start_time": "2022-07-11T01:39:14.528Z"
   },
   {
    "duration": 336,
    "start_time": "2022-07-11T01:39:15.520Z"
   },
   {
    "duration": 96,
    "start_time": "2022-07-11T01:39:15.857Z"
   },
   {
    "duration": 93,
    "start_time": "2022-07-11T01:39:15.954Z"
   },
   {
    "duration": 92,
    "start_time": "2022-07-11T01:39:16.049Z"
   },
   {
    "duration": 12,
    "start_time": "2022-07-11T01:39:16.142Z"
   },
   {
    "duration": 18,
    "start_time": "2022-07-11T01:39:16.156Z"
   },
   {
    "duration": 13,
    "start_time": "2022-07-11T01:39:16.176Z"
   },
   {
    "duration": 34,
    "start_time": "2022-07-11T01:39:16.190Z"
   },
   {
    "duration": 2,
    "start_time": "2022-07-11T01:39:16.225Z"
   },
   {
    "duration": 7,
    "start_time": "2022-07-11T01:39:16.228Z"
   },
   {
    "duration": 15,
    "start_time": "2022-07-11T01:39:16.236Z"
   },
   {
    "duration": 4,
    "start_time": "2022-07-11T01:39:16.253Z"
   },
   {
    "duration": 12,
    "start_time": "2022-07-11T01:39:16.260Z"
   },
   {
    "duration": 3,
    "start_time": "2022-07-11T01:39:16.274Z"
   },
   {
    "duration": 19,
    "start_time": "2022-07-11T01:39:16.279Z"
   },
   {
    "duration": 24,
    "start_time": "2022-07-11T01:39:16.300Z"
   },
   {
    "duration": 3,
    "start_time": "2022-07-11T01:39:16.326Z"
   },
   {
    "duration": 28,
    "start_time": "2022-07-11T01:39:16.331Z"
   },
   {
    "duration": 169,
    "start_time": "2022-07-11T01:39:16.360Z"
   },
   {
    "duration": 200,
    "start_time": "2022-07-11T01:39:16.532Z"
   },
   {
    "duration": 97,
    "start_time": "2022-07-11T01:39:16.734Z"
   },
   {
    "duration": 110,
    "start_time": "2022-07-11T01:39:16.834Z"
   },
   {
    "duration": 3,
    "start_time": "2022-07-11T01:39:16.946Z"
   },
   {
    "duration": 9,
    "start_time": "2022-07-11T01:39:16.950Z"
   },
   {
    "duration": 6,
    "start_time": "2022-07-11T01:39:16.960Z"
   },
   {
    "duration": 9,
    "start_time": "2022-07-11T01:39:16.967Z"
   },
   {
    "duration": 7,
    "start_time": "2022-07-11T01:39:16.977Z"
   },
   {
    "duration": 18,
    "start_time": "2022-07-11T01:39:16.985Z"
   },
   {
    "duration": 21,
    "start_time": "2022-07-11T01:39:17.004Z"
   },
   {
    "duration": 8,
    "start_time": "2022-07-11T01:39:17.026Z"
   },
   {
    "duration": 2410,
    "start_time": "2022-07-11T01:39:17.036Z"
   },
   {
    "duration": 2408,
    "start_time": "2022-07-11T01:39:19.447Z"
   },
   {
    "duration": 2389,
    "start_time": "2022-07-11T01:39:21.856Z"
   },
   {
    "duration": 1018,
    "start_time": "2022-07-11T01:45:25.478Z"
   },
   {
    "duration": 349,
    "start_time": "2022-07-11T01:45:26.498Z"
   },
   {
    "duration": 109,
    "start_time": "2022-07-11T01:45:26.849Z"
   },
   {
    "duration": 101,
    "start_time": "2022-07-11T01:45:26.959Z"
   },
   {
    "duration": 115,
    "start_time": "2022-07-11T01:45:27.063Z"
   },
   {
    "duration": 14,
    "start_time": "2022-07-11T01:45:27.180Z"
   },
   {
    "duration": 27,
    "start_time": "2022-07-11T01:45:27.197Z"
   },
   {
    "duration": 18,
    "start_time": "2022-07-11T01:45:27.226Z"
   },
   {
    "duration": 19,
    "start_time": "2022-07-11T01:45:27.246Z"
   },
   {
    "duration": 4,
    "start_time": "2022-07-11T01:45:27.266Z"
   },
   {
    "duration": 8,
    "start_time": "2022-07-11T01:45:27.272Z"
   },
   {
    "duration": 42,
    "start_time": "2022-07-11T01:45:27.282Z"
   },
   {
    "duration": 4,
    "start_time": "2022-07-11T01:45:27.325Z"
   },
   {
    "duration": 10,
    "start_time": "2022-07-11T01:45:27.332Z"
   },
   {
    "duration": 3,
    "start_time": "2022-07-11T01:45:27.343Z"
   },
   {
    "duration": 11,
    "start_time": "2022-07-11T01:45:27.348Z"
   },
   {
    "duration": 3,
    "start_time": "2022-07-11T01:45:27.361Z"
   },
   {
    "duration": 4,
    "start_time": "2022-07-11T01:45:27.366Z"
   },
   {
    "duration": 56,
    "start_time": "2022-07-11T01:45:27.371Z"
   },
   {
    "duration": 110,
    "start_time": "2022-07-11T01:45:27.428Z"
   },
   {
    "duration": 110,
    "start_time": "2022-07-11T01:45:27.623Z"
   },
   {
    "duration": 98,
    "start_time": "2022-07-11T01:45:27.735Z"
   },
   {
    "duration": 17,
    "start_time": "2022-07-11T01:45:27.924Z"
   },
   {
    "duration": 3,
    "start_time": "2022-07-11T01:45:27.942Z"
   },
   {
    "duration": 6,
    "start_time": "2022-07-11T01:45:27.946Z"
   },
   {
    "duration": 11,
    "start_time": "2022-07-11T01:45:27.954Z"
   },
   {
    "duration": 10,
    "start_time": "2022-07-11T01:45:27.966Z"
   },
   {
    "duration": 6,
    "start_time": "2022-07-11T01:45:27.977Z"
   },
   {
    "duration": 21,
    "start_time": "2022-07-11T01:45:27.984Z"
   },
   {
    "duration": 18,
    "start_time": "2022-07-11T01:45:28.007Z"
   },
   {
    "duration": 8,
    "start_time": "2022-07-11T01:45:28.027Z"
   },
   {
    "duration": 2464,
    "start_time": "2022-07-11T01:45:28.037Z"
   },
   {
    "duration": 2390,
    "start_time": "2022-07-11T01:45:30.503Z"
   },
   {
    "duration": 2431,
    "start_time": "2022-07-11T01:45:32.894Z"
   },
   {
    "duration": 4,
    "start_time": "2022-07-11T01:45:55.665Z"
   },
   {
    "duration": 2485,
    "start_time": "2022-07-11T01:45:56.049Z"
   },
   {
    "duration": 2365,
    "start_time": "2022-07-11T01:45:58.536Z"
   },
   {
    "duration": 2404,
    "start_time": "2022-07-11T01:46:00.902Z"
   },
   {
    "duration": 1023,
    "start_time": "2022-07-11T01:47:25.379Z"
   },
   {
    "duration": 345,
    "start_time": "2022-07-11T01:47:26.404Z"
   },
   {
    "duration": 116,
    "start_time": "2022-07-11T01:47:26.751Z"
   },
   {
    "duration": 91,
    "start_time": "2022-07-11T01:47:26.868Z"
   },
   {
    "duration": 96,
    "start_time": "2022-07-11T01:47:26.961Z"
   },
   {
    "duration": 12,
    "start_time": "2022-07-11T01:47:27.059Z"
   },
   {
    "duration": 17,
    "start_time": "2022-07-11T01:47:27.073Z"
   },
   {
    "duration": 38,
    "start_time": "2022-07-11T01:47:27.092Z"
   },
   {
    "duration": 18,
    "start_time": "2022-07-11T01:47:27.133Z"
   },
   {
    "duration": 4,
    "start_time": "2022-07-11T01:47:27.153Z"
   },
   {
    "duration": 9,
    "start_time": "2022-07-11T01:47:27.159Z"
   },
   {
    "duration": 16,
    "start_time": "2022-07-11T01:47:27.170Z"
   },
   {
    "duration": 11,
    "start_time": "2022-07-11T01:47:27.187Z"
   },
   {
    "duration": 14,
    "start_time": "2022-07-11T01:47:27.223Z"
   },
   {
    "duration": 4,
    "start_time": "2022-07-11T01:47:27.240Z"
   },
   {
    "duration": 20,
    "start_time": "2022-07-11T01:47:27.246Z"
   },
   {
    "duration": 7,
    "start_time": "2022-07-11T01:47:27.268Z"
   },
   {
    "duration": 4,
    "start_time": "2022-07-11T01:47:27.277Z"
   },
   {
    "duration": 45,
    "start_time": "2022-07-11T01:47:27.283Z"
   },
   {
    "duration": 201,
    "start_time": "2022-07-11T01:47:27.330Z"
   },
   {
    "duration": 197,
    "start_time": "2022-07-11T01:47:27.534Z"
   },
   {
    "duration": 101,
    "start_time": "2022-07-11T01:47:27.734Z"
   },
   {
    "duration": 18,
    "start_time": "2022-07-11T01:47:27.925Z"
   },
   {
    "duration": 2,
    "start_time": "2022-07-11T01:47:27.944Z"
   },
   {
    "duration": 5,
    "start_time": "2022-07-11T01:47:27.948Z"
   },
   {
    "duration": 5,
    "start_time": "2022-07-11T01:47:27.954Z"
   },
   {
    "duration": 10,
    "start_time": "2022-07-11T01:47:27.960Z"
   },
   {
    "duration": 5,
    "start_time": "2022-07-11T01:47:27.971Z"
   },
   {
    "duration": 20,
    "start_time": "2022-07-11T01:47:27.978Z"
   },
   {
    "duration": 26,
    "start_time": "2022-07-11T01:47:27.999Z"
   },
   {
    "duration": 9,
    "start_time": "2022-07-11T01:47:28.026Z"
   },
   {
    "duration": 2387,
    "start_time": "2022-07-11T01:47:28.037Z"
   },
   {
    "duration": 2368,
    "start_time": "2022-07-11T01:47:30.425Z"
   },
   {
    "duration": 2390,
    "start_time": "2022-07-11T01:47:32.795Z"
   },
   {
    "duration": 1150,
    "start_time": "2022-07-11T08:27:57.121Z"
   },
   {
    "duration": 724,
    "start_time": "2022-07-11T08:27:58.273Z"
   },
   {
    "duration": 102,
    "start_time": "2022-07-11T08:27:58.999Z"
   },
   {
    "duration": 96,
    "start_time": "2022-07-11T08:27:59.103Z"
   },
   {
    "duration": 106,
    "start_time": "2022-07-11T08:27:59.201Z"
   },
   {
    "duration": 22,
    "start_time": "2022-07-11T08:27:59.309Z"
   },
   {
    "duration": 41,
    "start_time": "2022-07-11T08:27:59.334Z"
   },
   {
    "duration": 20,
    "start_time": "2022-07-11T08:27:59.377Z"
   },
   {
    "duration": 29,
    "start_time": "2022-07-11T08:27:59.399Z"
   },
   {
    "duration": 9,
    "start_time": "2022-07-11T08:27:59.430Z"
   },
   {
    "duration": 14,
    "start_time": "2022-07-11T08:27:59.440Z"
   },
   {
    "duration": 36,
    "start_time": "2022-07-11T08:27:59.456Z"
   },
   {
    "duration": 26,
    "start_time": "2022-07-11T08:27:59.494Z"
   },
   {
    "duration": 29,
    "start_time": "2022-07-11T08:27:59.523Z"
   },
   {
    "duration": 18,
    "start_time": "2022-07-11T08:27:59.554Z"
   },
   {
    "duration": 24,
    "start_time": "2022-07-11T08:27:59.574Z"
   },
   {
    "duration": 16,
    "start_time": "2022-07-11T08:27:59.599Z"
   },
   {
    "duration": 41,
    "start_time": "2022-07-11T08:27:59.617Z"
   },
   {
    "duration": 78,
    "start_time": "2022-07-11T08:27:59.660Z"
   },
   {
    "duration": 204,
    "start_time": "2022-07-11T08:27:59.740Z"
   },
   {
    "duration": 187,
    "start_time": "2022-07-11T08:27:59.947Z"
   },
   {
    "duration": 95,
    "start_time": "2022-07-11T08:28:00.137Z"
   },
   {
    "duration": 18,
    "start_time": "2022-07-11T08:28:00.323Z"
   },
   {
    "duration": 56,
    "start_time": "2022-07-11T08:28:00.343Z"
   },
   {
    "duration": 29,
    "start_time": "2022-07-11T08:28:00.400Z"
   },
   {
    "duration": 17,
    "start_time": "2022-07-11T08:28:00.431Z"
   },
   {
    "duration": 80,
    "start_time": "2022-07-11T08:28:00.450Z"
   },
   {
    "duration": 27,
    "start_time": "2022-07-11T08:28:00.532Z"
   },
   {
    "duration": 38,
    "start_time": "2022-07-11T08:28:00.560Z"
   },
   {
    "duration": 34,
    "start_time": "2022-07-11T08:28:00.600Z"
   },
   {
    "duration": 72,
    "start_time": "2022-07-11T08:28:00.635Z"
   },
   {
    "duration": 2704,
    "start_time": "2022-07-11T08:28:00.709Z"
   },
   {
    "duration": 2712,
    "start_time": "2022-07-11T08:28:03.414Z"
   },
   {
    "duration": 2683,
    "start_time": "2022-07-11T08:28:06.128Z"
   },
   {
    "duration": 1018,
    "start_time": "2022-07-11T08:38:35.968Z"
   },
   {
    "duration": 343,
    "start_time": "2022-07-11T08:38:36.988Z"
   },
   {
    "duration": 108,
    "start_time": "2022-07-11T08:38:37.333Z"
   },
   {
    "duration": 98,
    "start_time": "2022-07-11T08:38:37.442Z"
   },
   {
    "duration": 101,
    "start_time": "2022-07-11T08:38:37.542Z"
   },
   {
    "duration": 12,
    "start_time": "2022-07-11T08:38:37.645Z"
   },
   {
    "duration": 19,
    "start_time": "2022-07-11T08:38:37.659Z"
   },
   {
    "duration": 14,
    "start_time": "2022-07-11T08:38:37.679Z"
   },
   {
    "duration": 36,
    "start_time": "2022-07-11T08:38:37.695Z"
   },
   {
    "duration": 2,
    "start_time": "2022-07-11T08:38:37.733Z"
   },
   {
    "duration": 7,
    "start_time": "2022-07-11T08:38:37.737Z"
   },
   {
    "duration": 13,
    "start_time": "2022-07-11T08:38:37.746Z"
   },
   {
    "duration": 4,
    "start_time": "2022-07-11T08:38:37.761Z"
   },
   {
    "duration": 11,
    "start_time": "2022-07-11T08:38:37.767Z"
   },
   {
    "duration": 4,
    "start_time": "2022-07-11T08:38:37.780Z"
   },
   {
    "duration": 11,
    "start_time": "2022-07-11T08:38:37.786Z"
   },
   {
    "duration": 5,
    "start_time": "2022-07-11T08:38:37.823Z"
   },
   {
    "duration": 16,
    "start_time": "2022-07-11T08:38:37.830Z"
   },
   {
    "duration": 42,
    "start_time": "2022-07-11T08:38:37.848Z"
   },
   {
    "duration": 113,
    "start_time": "2022-07-11T08:38:37.927Z"
   },
   {
    "duration": 113,
    "start_time": "2022-07-11T08:38:38.124Z"
   },
   {
    "duration": 89,
    "start_time": "2022-07-11T08:38:38.239Z"
   },
   {
    "duration": 116,
    "start_time": "2022-07-11T08:38:38.330Z"
   },
   {
    "duration": 2,
    "start_time": "2022-07-11T08:38:38.448Z"
   },
   {
    "duration": 10,
    "start_time": "2022-07-11T08:38:38.452Z"
   },
   {
    "duration": 8,
    "start_time": "2022-07-11T08:38:38.464Z"
   },
   {
    "duration": 14,
    "start_time": "2022-07-11T08:38:38.473Z"
   },
   {
    "duration": 13,
    "start_time": "2022-07-11T08:38:38.488Z"
   },
   {
    "duration": 19,
    "start_time": "2022-07-11T08:38:38.503Z"
   },
   {
    "duration": 5,
    "start_time": "2022-07-11T08:38:38.524Z"
   },
   {
    "duration": 108,
    "start_time": "2022-07-11T08:38:38.531Z"
   },
   {
    "duration": 1173,
    "start_time": "2022-07-11T08:39:50.132Z"
   },
   {
    "duration": 379,
    "start_time": "2022-07-11T08:39:51.307Z"
   },
   {
    "duration": 117,
    "start_time": "2022-07-11T08:39:51.688Z"
   },
   {
    "duration": 96,
    "start_time": "2022-07-11T08:39:51.807Z"
   },
   {
    "duration": 129,
    "start_time": "2022-07-11T08:39:51.905Z"
   },
   {
    "duration": 13,
    "start_time": "2022-07-11T08:39:52.036Z"
   },
   {
    "duration": 370,
    "start_time": "2022-07-11T08:39:52.051Z"
   },
   {
    "duration": 27,
    "start_time": "2022-07-11T08:39:52.423Z"
   },
   {
    "duration": 17,
    "start_time": "2022-07-11T08:39:52.451Z"
   },
   {
    "duration": 2,
    "start_time": "2022-07-11T08:39:52.470Z"
   },
   {
    "duration": 3,
    "start_time": "2022-07-11T08:39:52.893Z"
   },
   {
    "duration": 10,
    "start_time": "2022-07-11T08:39:53.281Z"
   },
   {
    "duration": 4,
    "start_time": "2022-07-11T08:39:53.487Z"
   },
   {
    "duration": 9,
    "start_time": "2022-07-11T08:39:53.859Z"
   },
   {
    "duration": 3,
    "start_time": "2022-07-11T08:39:54.049Z"
   },
   {
    "duration": 11,
    "start_time": "2022-07-11T08:39:54.441Z"
   },
   {
    "duration": 5,
    "start_time": "2022-07-11T08:39:54.651Z"
   },
   {
    "duration": 4,
    "start_time": "2022-07-11T08:39:55.005Z"
   },
   {
    "duration": 30,
    "start_time": "2022-07-11T08:39:55.400Z"
   },
   {
    "duration": 20,
    "start_time": "2022-07-11T08:39:56.065Z"
   },
   {
    "duration": 20,
    "start_time": "2022-07-11T08:39:56.224Z"
   },
   {
    "duration": 8,
    "start_time": "2022-07-11T08:39:57.073Z"
   },
   {
    "duration": 17,
    "start_time": "2022-07-11T08:39:57.525Z"
   },
   {
    "duration": 3,
    "start_time": "2022-07-11T08:39:58.715Z"
   },
   {
    "duration": 4,
    "start_time": "2022-07-11T08:39:59.132Z"
   },
   {
    "duration": 3,
    "start_time": "2022-07-11T08:39:59.527Z"
   },
   {
    "duration": 4,
    "start_time": "2022-07-11T08:40:01.185Z"
   },
   {
    "duration": 4,
    "start_time": "2022-07-11T08:40:03.121Z"
   },
   {
    "duration": 4,
    "start_time": "2022-07-11T08:40:06.414Z"
   },
   {
    "duration": 4,
    "start_time": "2022-07-11T08:41:39.452Z"
   },
   {
    "duration": 6,
    "start_time": "2022-07-11T08:41:39.994Z"
   },
   {
    "duration": 99,
    "start_time": "2022-07-11T08:41:41.026Z"
   },
   {
    "duration": 4,
    "start_time": "2022-07-11T08:42:12.734Z"
   },
   {
    "duration": 4,
    "start_time": "2022-07-11T08:42:13.046Z"
   },
   {
    "duration": 14,
    "start_time": "2022-07-11T08:42:13.605Z"
   },
   {
    "duration": 5,
    "start_time": "2022-07-11T08:42:29.574Z"
   },
   {
    "duration": 7,
    "start_time": "2022-07-11T08:42:30.087Z"
   },
   {
    "duration": 3,
    "start_time": "2022-07-11T08:43:06.657Z"
   },
   {
    "duration": 5,
    "start_time": "2022-07-11T08:43:06.941Z"
   },
   {
    "duration": 6,
    "start_time": "2022-07-11T08:43:07.335Z"
   },
   {
    "duration": 4,
    "start_time": "2022-07-11T08:43:46.133Z"
   },
   {
    "duration": 5,
    "start_time": "2022-07-11T08:43:46.707Z"
   },
   {
    "duration": 6,
    "start_time": "2022-07-11T08:44:36.205Z"
   },
   {
    "duration": 6,
    "start_time": "2022-07-11T08:44:36.986Z"
   },
   {
    "duration": 6,
    "start_time": "2022-07-11T08:45:01.121Z"
   },
   {
    "duration": 6,
    "start_time": "2022-07-11T08:45:01.871Z"
   },
   {
    "duration": 4,
    "start_time": "2022-07-11T08:48:32.136Z"
   },
   {
    "duration": 6,
    "start_time": "2022-07-11T08:48:32.826Z"
   },
   {
    "duration": 9,
    "start_time": "2022-07-11T08:48:41.500Z"
   },
   {
    "duration": 4,
    "start_time": "2022-07-11T08:48:51.893Z"
   },
   {
    "duration": 5,
    "start_time": "2022-07-11T08:48:52.533Z"
   },
   {
    "duration": 6,
    "start_time": "2022-07-11T08:48:58.575Z"
   },
   {
    "duration": 6,
    "start_time": "2022-07-11T08:49:02.453Z"
   },
   {
    "duration": 3,
    "start_time": "2022-07-11T08:49:17.573Z"
   },
   {
    "duration": 5,
    "start_time": "2022-07-11T08:49:17.866Z"
   },
   {
    "duration": 6,
    "start_time": "2022-07-11T08:49:18.114Z"
   },
   {
    "duration": 5,
    "start_time": "2022-07-11T08:49:52.815Z"
   },
   {
    "duration": 13,
    "start_time": "2022-07-11T08:49:53.394Z"
   },
   {
    "duration": 5,
    "start_time": "2022-07-11T08:50:51.453Z"
   },
   {
    "duration": 987,
    "start_time": "2022-07-11T08:50:52.013Z"
   },
   {
    "duration": 4,
    "start_time": "2022-07-11T08:51:35.095Z"
   },
   {
    "duration": 4,
    "start_time": "2022-07-11T08:51:35.575Z"
   },
   {
    "duration": 897,
    "start_time": "2022-07-11T08:51:36.056Z"
   },
   {
    "duration": 5,
    "start_time": "2022-07-11T08:52:01.053Z"
   },
   {
    "duration": 13,
    "start_time": "2022-07-11T08:52:01.512Z"
   },
   {
    "duration": 5,
    "start_time": "2022-07-11T08:53:26.942Z"
   },
   {
    "duration": 12,
    "start_time": "2022-07-11T08:53:27.574Z"
   },
   {
    "duration": 5,
    "start_time": "2022-07-11T08:53:39.214Z"
   },
   {
    "duration": 7,
    "start_time": "2022-07-11T08:53:40.232Z"
   },
   {
    "duration": 9,
    "start_time": "2022-07-11T08:53:41.367Z"
   },
   {
    "duration": 6,
    "start_time": "2022-07-11T08:53:46.007Z"
   },
   {
    "duration": 7,
    "start_time": "2022-07-11T08:53:51.142Z"
   },
   {
    "duration": 4,
    "start_time": "2022-07-11T08:53:52.194Z"
   },
   {
    "duration": 6,
    "start_time": "2022-07-11T08:53:52.752Z"
   },
   {
    "duration": 946,
    "start_time": "2022-07-11T08:53:53.244Z"
   },
   {
    "duration": 5,
    "start_time": "2022-07-11T08:55:19.940Z"
   },
   {
    "duration": 6,
    "start_time": "2022-07-11T08:55:20.446Z"
   },
   {
    "duration": 7,
    "start_time": "2022-07-11T08:55:22.176Z"
   },
   {
    "duration": 6,
    "start_time": "2022-07-11T08:55:22.740Z"
   },
   {
    "duration": 4,
    "start_time": "2022-07-11T08:55:25.974Z"
   },
   {
    "duration": 5,
    "start_time": "2022-07-11T08:55:26.543Z"
   },
   {
    "duration": 673,
    "start_time": "2022-07-11T08:55:27.164Z"
   },
   {
    "duration": 4,
    "start_time": "2022-07-11T08:55:40.160Z"
   },
   {
    "duration": 6,
    "start_time": "2022-07-11T08:55:40.524Z"
   },
   {
    "duration": 6,
    "start_time": "2022-07-11T08:55:41.204Z"
   },
   {
    "duration": 6,
    "start_time": "2022-07-11T08:55:41.605Z"
   },
   {
    "duration": 4,
    "start_time": "2022-07-11T08:55:42.152Z"
   },
   {
    "duration": 4,
    "start_time": "2022-07-11T08:55:42.589Z"
   },
   {
    "duration": 685,
    "start_time": "2022-07-11T08:55:43.455Z"
   },
   {
    "duration": 9,
    "start_time": "2022-07-11T08:56:11.344Z"
   },
   {
    "duration": 8,
    "start_time": "2022-07-11T08:56:30.084Z"
   },
   {
    "duration": 6,
    "start_time": "2022-07-11T08:56:30.585Z"
   },
   {
    "duration": 722,
    "start_time": "2022-07-11T08:57:10.624Z"
   },
   {
    "duration": 747,
    "start_time": "2022-07-11T08:57:12.713Z"
   },
   {
    "duration": 4,
    "start_time": "2022-07-11T08:59:15.964Z"
   },
   {
    "duration": 5,
    "start_time": "2022-07-11T08:59:16.333Z"
   },
   {
    "duration": 677,
    "start_time": "2022-07-11T08:59:16.726Z"
   },
   {
    "duration": 688,
    "start_time": "2022-07-11T08:59:17.405Z"
   },
   {
    "duration": 691,
    "start_time": "2022-07-11T08:59:18.095Z"
   },
   {
    "duration": 728,
    "start_time": "2022-07-11T08:59:52.961Z"
   },
   {
    "duration": 6,
    "start_time": "2022-07-11T09:00:49.776Z"
   },
   {
    "duration": 7,
    "start_time": "2022-07-11T09:00:50.536Z"
   },
   {
    "duration": 6,
    "start_time": "2022-07-11T09:01:02.149Z"
   },
   {
    "duration": 4,
    "start_time": "2022-07-11T09:05:31.632Z"
   },
   {
    "duration": 726,
    "start_time": "2022-07-11T09:05:31.959Z"
   },
   {
    "duration": 773,
    "start_time": "2022-07-11T09:05:32.687Z"
   },
   {
    "duration": 707,
    "start_time": "2022-07-11T09:05:33.462Z"
   },
   {
    "duration": 1255,
    "start_time": "2022-07-11T09:06:14.231Z"
   },
   {
    "duration": 371,
    "start_time": "2022-07-11T09:06:15.488Z"
   },
   {
    "duration": 110,
    "start_time": "2022-07-11T09:06:15.861Z"
   },
   {
    "duration": 108,
    "start_time": "2022-07-11T09:06:15.973Z"
   },
   {
    "duration": 106,
    "start_time": "2022-07-11T09:06:16.083Z"
   },
   {
    "duration": 13,
    "start_time": "2022-07-11T09:06:16.191Z"
   },
   {
    "duration": 27,
    "start_time": "2022-07-11T09:06:16.206Z"
   },
   {
    "duration": 16,
    "start_time": "2022-07-11T09:06:16.234Z"
   },
   {
    "duration": 15,
    "start_time": "2022-07-11T09:06:16.251Z"
   },
   {
    "duration": 3,
    "start_time": "2022-07-11T09:06:16.269Z"
   },
   {
    "duration": 12,
    "start_time": "2022-07-11T09:06:16.273Z"
   },
   {
    "duration": 35,
    "start_time": "2022-07-11T09:06:16.287Z"
   },
   {
    "duration": 4,
    "start_time": "2022-07-11T09:06:16.324Z"
   },
   {
    "duration": 13,
    "start_time": "2022-07-11T09:06:16.329Z"
   },
   {
    "duration": 4,
    "start_time": "2022-07-11T09:06:16.343Z"
   },
   {
    "duration": 17,
    "start_time": "2022-07-11T09:06:16.349Z"
   },
   {
    "duration": 4,
    "start_time": "2022-07-11T09:06:16.367Z"
   },
   {
    "duration": 8,
    "start_time": "2022-07-11T09:06:16.372Z"
   },
   {
    "duration": 50,
    "start_time": "2022-07-11T09:06:16.382Z"
   },
   {
    "duration": 197,
    "start_time": "2022-07-11T09:06:16.434Z"
   },
   {
    "duration": 200,
    "start_time": "2022-07-11T09:06:16.634Z"
   },
   {
    "duration": 92,
    "start_time": "2022-07-11T09:06:16.836Z"
   },
   {
    "duration": 112,
    "start_time": "2022-07-11T09:06:16.931Z"
   },
   {
    "duration": 3,
    "start_time": "2022-07-11T09:06:17.045Z"
   },
   {
    "duration": 7,
    "start_time": "2022-07-11T09:06:17.049Z"
   },
   {
    "duration": 6,
    "start_time": "2022-07-11T09:06:17.058Z"
   },
   {
    "duration": 19,
    "start_time": "2022-07-11T09:06:17.066Z"
   },
   {
    "duration": 20,
    "start_time": "2022-07-11T09:06:17.088Z"
   },
   {
    "duration": 5,
    "start_time": "2022-07-11T09:06:17.110Z"
   },
   {
    "duration": 11,
    "start_time": "2022-07-11T09:06:17.117Z"
   },
   {
    "duration": 15,
    "start_time": "2022-07-11T09:06:17.129Z"
   },
   {
    "duration": 7,
    "start_time": "2022-07-11T09:06:17.145Z"
   },
   {
    "duration": 7,
    "start_time": "2022-07-11T09:06:17.153Z"
   },
   {
    "duration": 6,
    "start_time": "2022-07-11T09:06:17.162Z"
   },
   {
    "duration": 13,
    "start_time": "2022-07-11T09:06:17.170Z"
   },
   {
    "duration": 746,
    "start_time": "2022-07-11T09:06:17.185Z"
   },
   {
    "duration": 741,
    "start_time": "2022-07-11T09:06:17.933Z"
   },
   {
    "duration": 732,
    "start_time": "2022-07-11T09:06:18.676Z"
   },
   {
    "duration": 1041,
    "start_time": "2022-07-11T18:32:20.284Z"
   },
   {
    "duration": 733,
    "start_time": "2022-07-11T18:32:21.327Z"
   },
   {
    "duration": 97,
    "start_time": "2022-07-11T18:32:22.062Z"
   },
   {
    "duration": 92,
    "start_time": "2022-07-11T18:32:22.161Z"
   },
   {
    "duration": 102,
    "start_time": "2022-07-11T18:32:22.254Z"
   },
   {
    "duration": 12,
    "start_time": "2022-07-11T18:32:22.358Z"
   },
   {
    "duration": 16,
    "start_time": "2022-07-11T18:32:22.372Z"
   },
   {
    "duration": 13,
    "start_time": "2022-07-11T18:32:22.390Z"
   },
   {
    "duration": 38,
    "start_time": "2022-07-11T18:32:22.404Z"
   },
   {
    "duration": 2,
    "start_time": "2022-07-11T18:32:22.445Z"
   },
   {
    "duration": 6,
    "start_time": "2022-07-11T18:32:22.449Z"
   },
   {
    "duration": 13,
    "start_time": "2022-07-11T18:32:22.457Z"
   },
   {
    "duration": 3,
    "start_time": "2022-07-11T18:32:22.472Z"
   },
   {
    "duration": 13,
    "start_time": "2022-07-11T18:32:22.477Z"
   },
   {
    "duration": 4,
    "start_time": "2022-07-11T18:32:22.492Z"
   },
   {
    "duration": 11,
    "start_time": "2022-07-11T18:32:22.498Z"
   },
   {
    "duration": 4,
    "start_time": "2022-07-11T18:32:22.510Z"
   },
   {
    "duration": 28,
    "start_time": "2022-07-11T18:32:22.515Z"
   },
   {
    "duration": 37,
    "start_time": "2022-07-11T18:32:22.545Z"
   },
   {
    "duration": 166,
    "start_time": "2022-07-11T18:32:22.583Z"
   },
   {
    "duration": 203,
    "start_time": "2022-07-11T18:32:22.753Z"
   },
   {
    "duration": 90,
    "start_time": "2022-07-11T18:32:22.957Z"
   },
   {
    "duration": 117,
    "start_time": "2022-07-11T18:32:23.049Z"
   },
   {
    "duration": 4,
    "start_time": "2022-07-11T18:32:23.168Z"
   },
   {
    "duration": 9,
    "start_time": "2022-07-11T18:32:23.173Z"
   },
   {
    "duration": 15,
    "start_time": "2022-07-11T18:32:23.184Z"
   },
   {
    "duration": 15,
    "start_time": "2022-07-11T18:32:23.200Z"
   },
   {
    "duration": 9,
    "start_time": "2022-07-11T18:32:23.218Z"
   },
   {
    "duration": 6,
    "start_time": "2022-07-11T18:32:23.228Z"
   },
   {
    "duration": 5,
    "start_time": "2022-07-11T18:32:23.236Z"
   },
   {
    "duration": 13,
    "start_time": "2022-07-11T18:32:23.242Z"
   },
   {
    "duration": 5,
    "start_time": "2022-07-11T18:32:23.257Z"
   },
   {
    "duration": 10,
    "start_time": "2022-07-11T18:32:23.264Z"
   },
   {
    "duration": 4,
    "start_time": "2022-07-11T18:32:23.275Z"
   },
   {
    "duration": 13,
    "start_time": "2022-07-11T18:32:23.280Z"
   },
   {
    "duration": 658,
    "start_time": "2022-07-11T18:32:23.294Z"
   },
   {
    "duration": 721,
    "start_time": "2022-07-11T18:32:23.954Z"
   },
   {
    "duration": 687,
    "start_time": "2022-07-11T18:32:24.676Z"
   },
   {
    "duration": 1059,
    "start_time": "2022-07-11T18:35:20.780Z"
   },
   {
    "duration": 321,
    "start_time": "2022-07-11T18:35:21.841Z"
   },
   {
    "duration": 94,
    "start_time": "2022-07-11T18:35:22.164Z"
   },
   {
    "duration": 82,
    "start_time": "2022-07-11T18:35:22.260Z"
   },
   {
    "duration": 104,
    "start_time": "2022-07-11T18:35:22.344Z"
   },
   {
    "duration": 12,
    "start_time": "2022-07-11T18:35:22.450Z"
   },
   {
    "duration": 18,
    "start_time": "2022-07-11T18:35:22.464Z"
   },
   {
    "duration": 15,
    "start_time": "2022-07-11T18:35:22.483Z"
   },
   {
    "duration": 13,
    "start_time": "2022-07-11T18:35:22.499Z"
   },
   {
    "duration": 2,
    "start_time": "2022-07-11T18:35:22.514Z"
   },
   {
    "duration": 6,
    "start_time": "2022-07-11T18:35:22.542Z"
   },
   {
    "duration": 12,
    "start_time": "2022-07-11T18:35:22.549Z"
   },
   {
    "duration": 4,
    "start_time": "2022-07-11T18:35:22.562Z"
   },
   {
    "duration": 10,
    "start_time": "2022-07-11T18:35:22.569Z"
   },
   {
    "duration": 3,
    "start_time": "2022-07-11T18:35:22.581Z"
   },
   {
    "duration": 10,
    "start_time": "2022-07-11T18:35:22.586Z"
   },
   {
    "duration": 4,
    "start_time": "2022-07-11T18:35:22.598Z"
   },
   {
    "duration": 39,
    "start_time": "2022-07-11T18:35:22.603Z"
   },
   {
    "duration": 28,
    "start_time": "2022-07-11T18:35:22.644Z"
   },
   {
    "duration": 172,
    "start_time": "2022-07-11T18:35:22.674Z"
   },
   {
    "duration": 198,
    "start_time": "2022-07-11T18:35:22.848Z"
   },
   {
    "duration": 103,
    "start_time": "2022-07-11T18:35:23.048Z"
   },
   {
    "duration": 16,
    "start_time": "2022-07-11T18:35:23.243Z"
   },
   {
    "duration": 2,
    "start_time": "2022-07-11T18:35:23.261Z"
   },
   {
    "duration": 16,
    "start_time": "2022-07-11T18:35:23.264Z"
   },
   {
    "duration": 8,
    "start_time": "2022-07-11T18:35:23.281Z"
   },
   {
    "duration": 8,
    "start_time": "2022-07-11T18:35:23.290Z"
   },
   {
    "duration": 7,
    "start_time": "2022-07-11T18:35:23.299Z"
   },
   {
    "duration": 5,
    "start_time": "2022-07-11T18:35:23.307Z"
   },
   {
    "duration": 8,
    "start_time": "2022-07-11T18:35:23.313Z"
   },
   {
    "duration": 10,
    "start_time": "2022-07-11T18:35:23.322Z"
   },
   {
    "duration": 5,
    "start_time": "2022-07-11T18:35:23.342Z"
   },
   {
    "duration": 9,
    "start_time": "2022-07-11T18:35:23.348Z"
   },
   {
    "duration": 5,
    "start_time": "2022-07-11T18:35:23.358Z"
   },
   {
    "duration": 6,
    "start_time": "2022-07-11T18:35:23.364Z"
   },
   {
    "duration": 671,
    "start_time": "2022-07-11T18:35:23.371Z"
   },
   {
    "duration": 719,
    "start_time": "2022-07-11T18:35:24.044Z"
   },
   {
    "duration": 665,
    "start_time": "2022-07-11T18:35:24.765Z"
   },
   {
    "duration": 3,
    "start_time": "2022-07-11T18:44:16.183Z"
   },
   {
    "duration": 642,
    "start_time": "2022-07-11T18:44:19.856Z"
   },
   {
    "duration": 669,
    "start_time": "2022-07-11T18:44:21.342Z"
   },
   {
    "duration": 700,
    "start_time": "2022-07-11T18:44:22.389Z"
   },
   {
    "duration": 5,
    "start_time": "2022-07-11T18:45:02.249Z"
   },
   {
    "duration": 6,
    "start_time": "2022-07-11T18:45:11.504Z"
   },
   {
    "duration": 6,
    "start_time": "2022-07-11T18:45:22.354Z"
   },
   {
    "duration": 1063,
    "start_time": "2022-07-11T19:21:03.270Z"
   },
   {
    "duration": 387,
    "start_time": "2022-07-11T19:21:04.334Z"
   },
   {
    "duration": 100,
    "start_time": "2022-07-11T19:21:04.722Z"
   },
   {
    "duration": 84,
    "start_time": "2022-07-11T19:21:04.825Z"
   },
   {
    "duration": 102,
    "start_time": "2022-07-11T19:21:04.910Z"
   },
   {
    "duration": 12,
    "start_time": "2022-07-11T19:21:05.013Z"
   },
   {
    "duration": 25,
    "start_time": "2022-07-11T19:21:05.027Z"
   },
   {
    "duration": 14,
    "start_time": "2022-07-11T19:21:05.053Z"
   },
   {
    "duration": 14,
    "start_time": "2022-07-11T19:21:05.069Z"
   },
   {
    "duration": 2,
    "start_time": "2022-07-11T19:21:05.085Z"
   },
   {
    "duration": 7,
    "start_time": "2022-07-11T19:21:05.089Z"
   },
   {
    "duration": 14,
    "start_time": "2022-07-11T19:21:05.097Z"
   },
   {
    "duration": 30,
    "start_time": "2022-07-11T19:21:05.113Z"
   },
   {
    "duration": 14,
    "start_time": "2022-07-11T19:21:05.144Z"
   },
   {
    "duration": 3,
    "start_time": "2022-07-11T19:21:05.161Z"
   },
   {
    "duration": 13,
    "start_time": "2022-07-11T19:21:05.166Z"
   },
   {
    "duration": 4,
    "start_time": "2022-07-11T19:21:05.181Z"
   },
   {
    "duration": 6,
    "start_time": "2022-07-11T19:21:05.187Z"
   },
   {
    "duration": 51,
    "start_time": "2022-07-11T19:21:05.194Z"
   },
   {
    "duration": 106,
    "start_time": "2022-07-11T19:21:05.247Z"
   },
   {
    "duration": 190,
    "start_time": "2022-07-11T19:21:05.356Z"
   },
   {
    "duration": 103,
    "start_time": "2022-07-11T19:21:05.547Z"
   },
   {
    "duration": 23,
    "start_time": "2022-07-11T19:21:05.741Z"
   },
   {
    "duration": 6,
    "start_time": "2022-07-11T19:21:05.766Z"
   },
   {
    "duration": 6,
    "start_time": "2022-07-11T19:21:05.773Z"
   },
   {
    "duration": 6,
    "start_time": "2022-07-11T19:21:05.780Z"
   },
   {
    "duration": 10,
    "start_time": "2022-07-11T19:21:05.788Z"
   },
   {
    "duration": 4,
    "start_time": "2022-07-11T19:21:05.801Z"
   },
   {
    "duration": 11,
    "start_time": "2022-07-11T19:21:05.807Z"
   },
   {
    "duration": 8,
    "start_time": "2022-07-11T19:21:05.820Z"
   },
   {
    "duration": 14,
    "start_time": "2022-07-11T19:21:05.829Z"
   },
   {
    "duration": 12,
    "start_time": "2022-07-11T19:21:05.845Z"
   },
   {
    "duration": 20,
    "start_time": "2022-07-11T19:21:05.858Z"
   },
   {
    "duration": 8,
    "start_time": "2022-07-11T19:21:05.880Z"
   },
   {
    "duration": 5,
    "start_time": "2022-07-11T19:21:05.890Z"
   },
   {
    "duration": 741,
    "start_time": "2022-07-11T19:21:05.896Z"
   },
   {
    "duration": 646,
    "start_time": "2022-07-11T19:21:06.639Z"
   },
   {
    "duration": 674,
    "start_time": "2022-07-11T19:21:07.286Z"
   },
   {
    "duration": 1041,
    "start_time": "2022-07-11T19:25:53.274Z"
   },
   {
    "duration": 378,
    "start_time": "2022-07-11T19:25:54.316Z"
   },
   {
    "duration": 103,
    "start_time": "2022-07-11T19:25:54.695Z"
   },
   {
    "duration": 94,
    "start_time": "2022-07-11T19:25:54.800Z"
   },
   {
    "duration": 99,
    "start_time": "2022-07-11T19:25:54.896Z"
   },
   {
    "duration": 12,
    "start_time": "2022-07-11T19:25:54.996Z"
   },
   {
    "duration": 18,
    "start_time": "2022-07-11T19:25:55.009Z"
   },
   {
    "duration": 24,
    "start_time": "2022-07-11T19:25:55.029Z"
   },
   {
    "duration": 14,
    "start_time": "2022-07-11T19:25:55.055Z"
   },
   {
    "duration": 2,
    "start_time": "2022-07-11T19:25:55.071Z"
   },
   {
    "duration": 7,
    "start_time": "2022-07-11T19:25:55.075Z"
   },
   {
    "duration": 10,
    "start_time": "2022-07-11T19:25:55.084Z"
   },
   {
    "duration": 4,
    "start_time": "2022-07-11T19:25:55.096Z"
   },
   {
    "duration": 9,
    "start_time": "2022-07-11T19:25:55.104Z"
   },
   {
    "duration": 5,
    "start_time": "2022-07-11T19:25:55.142Z"
   },
   {
    "duration": 13,
    "start_time": "2022-07-11T19:25:55.148Z"
   },
   {
    "duration": 4,
    "start_time": "2022-07-11T19:25:55.162Z"
   },
   {
    "duration": 18,
    "start_time": "2022-07-11T19:25:55.168Z"
   },
   {
    "duration": 61,
    "start_time": "2022-07-11T19:25:55.188Z"
   },
   {
    "duration": 98,
    "start_time": "2022-07-11T19:25:55.251Z"
   },
   {
    "duration": 201,
    "start_time": "2022-07-11T19:25:55.351Z"
   },
   {
    "duration": 89,
    "start_time": "2022-07-11T19:25:55.554Z"
   },
   {
    "duration": 121,
    "start_time": "2022-07-11T19:25:55.647Z"
   },
   {
    "duration": 3,
    "start_time": "2022-07-11T19:25:55.769Z"
   },
   {
    "duration": 6,
    "start_time": "2022-07-11T19:25:55.774Z"
   },
   {
    "duration": 6,
    "start_time": "2022-07-11T19:25:55.781Z"
   },
   {
    "duration": 10,
    "start_time": "2022-07-11T19:25:55.789Z"
   },
   {
    "duration": 6,
    "start_time": "2022-07-11T19:25:55.800Z"
   },
   {
    "duration": 6,
    "start_time": "2022-07-11T19:25:55.807Z"
   },
   {
    "duration": 8,
    "start_time": "2022-07-11T19:25:55.815Z"
   },
   {
    "duration": 10,
    "start_time": "2022-07-11T19:25:55.824Z"
   },
   {
    "duration": 11,
    "start_time": "2022-07-11T19:25:55.836Z"
   },
   {
    "duration": 6,
    "start_time": "2022-07-11T19:25:55.848Z"
   },
   {
    "duration": 3,
    "start_time": "2022-07-11T19:25:55.856Z"
   },
   {
    "duration": 5,
    "start_time": "2022-07-11T19:25:55.860Z"
   },
   {
    "duration": 699,
    "start_time": "2022-07-11T19:25:55.866Z"
   },
   {
    "duration": 663,
    "start_time": "2022-07-11T19:25:56.566Z"
   },
   {
    "duration": 669,
    "start_time": "2022-07-11T19:25:57.230Z"
   }
  ],
  "kernelspec": {
   "display_name": "Python 3 (ipykernel)",
   "language": "python",
   "name": "python3"
  },
  "language_info": {
   "codemirror_mode": {
    "name": "ipython",
    "version": 3
   },
   "file_extension": ".py",
   "mimetype": "text/x-python",
   "name": "python",
   "nbconvert_exporter": "python",
   "pygments_lexer": "ipython3",
   "version": "3.9.5"
  },
  "toc": {
   "base_numbering": 1,
   "nav_menu": {},
   "number_sections": true,
   "sideBar": true,
   "skip_h1_title": true,
   "title_cell": "Table of Contents",
   "title_sidebar": "Contents",
   "toc_cell": true,
   "toc_position": {},
   "toc_section_display": true,
   "toc_window_display": true
  }
 },
 "nbformat": 4,
 "nbformat_minor": 2
}

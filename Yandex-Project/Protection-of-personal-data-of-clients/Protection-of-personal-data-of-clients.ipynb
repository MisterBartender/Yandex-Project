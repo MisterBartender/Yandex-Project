{
 "cells": [
  {
   "cell_type": "markdown",
   "metadata": {},
   "source": [
    "# Защита персональных данных клиентов"
   ]
  },
  {
   "cell_type": "markdown",
   "metadata": {},
   "source": [
    "**Условия задачи**\n",
    "\n",
    "Вам нужно защитить данные клиентов страховой компании «Хоть потоп». Разработайте такой метод преобразования данных, чтобы по ним было сложно восстановить персональную информацию. Обоснуйте корректность его работы.\n",
    "\n",
    "Нужно защитить данные, чтобы при преобразовании качество моделей машинного обучения не ухудшилось. Подбирать наилучшую модель не требуется.\n",
    "\n",
    "\n",
    "**Описание данных**\n",
    "\n",
    "Набор данных находится в файле /datasets/insurance.csv. \n",
    "\n",
    "- **Признаки**: пол, возраст и зарплата застрахованного, количество членов его семьи.\n",
    "- **Целевой признак**: количество страховых выплат клиенту за последние 5 лет.\n",
    "\n",
    "**План выполнения работы**\n",
    "\n",
    "[1  Загрузка данных](#section1)\n",
    "\n",
    "[2  Умножение матриц](#section2)\n",
    "\n",
    "[3  Алгоритм преобразования](#section3)\n",
    "\n",
    "[4  Проверка алгоритма](#section4)\n",
    "\n",
    "- [4.1  Определение признаков и целевого признака](#section4.1)\n",
    "\n",
    "- [4.2  Обучение модели без преобразование и получение метрики R2](#section4.2)\n",
    "\n",
    "- [4.3  Создание рандомной обратимой матрицы](#section4.3)\n",
    "\n",
    "- [4.5  Умножение обратимой матрицы на матрицу признаков](#section4.4)\n",
    "\n",
    "- [4.6  Обучение преобразованной модели и получение метрики R2](#section4.5)\n",
    "\n",
    "- [4.7  Сравнение метрик R2 полученных на преобразованной модели и модели начальной](#section4.6)\n",
    "\n",
    "- [4.8  Для проверки расшифруем полученную матрицу и сравним результат с начальной](#section4.7)\n",
    "\n",
    "[5  Общий вывод](#section5)"
   ]
  },
  {
   "cell_type": "markdown",
   "metadata": {},
   "source": [
    "<a id='section1'></a>\n",
    "## Загрузка данных"
   ]
  },
  {
   "cell_type": "code",
   "execution_count": 1,
   "metadata": {},
   "outputs": [],
   "source": [
    "# Загружаем необходимы библиотеки для работы\n",
    "import pandas as pd\n",
    "import numpy as np\n",
    "from sklearn.metrics import r2_score\n",
    "from sklearn.preprocessing import StandardScaler\n",
    "from sklearn.linear_model import LinearRegression"
   ]
  },
  {
   "cell_type": "code",
   "execution_count": 2,
   "metadata": {},
   "outputs": [],
   "source": [
    "# сохраним датафрейм в переменную\n",
    "df = pd.read_csv('/datasets/insurance.csv')"
   ]
  },
  {
   "cell_type": "code",
   "execution_count": 3,
   "metadata": {},
   "outputs": [
    {
     "data": {
      "text/html": [
       "<div>\n",
       "<style scoped>\n",
       "    .dataframe tbody tr th:only-of-type {\n",
       "        vertical-align: middle;\n",
       "    }\n",
       "\n",
       "    .dataframe tbody tr th {\n",
       "        vertical-align: top;\n",
       "    }\n",
       "\n",
       "    .dataframe thead th {\n",
       "        text-align: right;\n",
       "    }\n",
       "</style>\n",
       "<table border=\"1\" class=\"dataframe\">\n",
       "  <thead>\n",
       "    <tr style=\"text-align: right;\">\n",
       "      <th></th>\n",
       "      <th>Пол</th>\n",
       "      <th>Возраст</th>\n",
       "      <th>Зарплата</th>\n",
       "      <th>Члены семьи</th>\n",
       "      <th>Страховые выплаты</th>\n",
       "    </tr>\n",
       "  </thead>\n",
       "  <tbody>\n",
       "    <tr>\n",
       "      <th>0</th>\n",
       "      <td>1</td>\n",
       "      <td>41.0</td>\n",
       "      <td>49600.0</td>\n",
       "      <td>1</td>\n",
       "      <td>0</td>\n",
       "    </tr>\n",
       "    <tr>\n",
       "      <th>1</th>\n",
       "      <td>0</td>\n",
       "      <td>46.0</td>\n",
       "      <td>38000.0</td>\n",
       "      <td>1</td>\n",
       "      <td>1</td>\n",
       "    </tr>\n",
       "    <tr>\n",
       "      <th>2</th>\n",
       "      <td>0</td>\n",
       "      <td>29.0</td>\n",
       "      <td>21000.0</td>\n",
       "      <td>0</td>\n",
       "      <td>0</td>\n",
       "    </tr>\n",
       "    <tr>\n",
       "      <th>3</th>\n",
       "      <td>0</td>\n",
       "      <td>21.0</td>\n",
       "      <td>41700.0</td>\n",
       "      <td>2</td>\n",
       "      <td>0</td>\n",
       "    </tr>\n",
       "    <tr>\n",
       "      <th>4</th>\n",
       "      <td>1</td>\n",
       "      <td>28.0</td>\n",
       "      <td>26100.0</td>\n",
       "      <td>0</td>\n",
       "      <td>0</td>\n",
       "    </tr>\n",
       "    <tr>\n",
       "      <th>...</th>\n",
       "      <td>...</td>\n",
       "      <td>...</td>\n",
       "      <td>...</td>\n",
       "      <td>...</td>\n",
       "      <td>...</td>\n",
       "    </tr>\n",
       "    <tr>\n",
       "      <th>4995</th>\n",
       "      <td>0</td>\n",
       "      <td>28.0</td>\n",
       "      <td>35700.0</td>\n",
       "      <td>2</td>\n",
       "      <td>0</td>\n",
       "    </tr>\n",
       "    <tr>\n",
       "      <th>4996</th>\n",
       "      <td>0</td>\n",
       "      <td>34.0</td>\n",
       "      <td>52400.0</td>\n",
       "      <td>1</td>\n",
       "      <td>0</td>\n",
       "    </tr>\n",
       "    <tr>\n",
       "      <th>4997</th>\n",
       "      <td>0</td>\n",
       "      <td>20.0</td>\n",
       "      <td>33900.0</td>\n",
       "      <td>2</td>\n",
       "      <td>0</td>\n",
       "    </tr>\n",
       "    <tr>\n",
       "      <th>4998</th>\n",
       "      <td>1</td>\n",
       "      <td>22.0</td>\n",
       "      <td>32700.0</td>\n",
       "      <td>3</td>\n",
       "      <td>0</td>\n",
       "    </tr>\n",
       "    <tr>\n",
       "      <th>4999</th>\n",
       "      <td>1</td>\n",
       "      <td>28.0</td>\n",
       "      <td>40600.0</td>\n",
       "      <td>1</td>\n",
       "      <td>0</td>\n",
       "    </tr>\n",
       "  </tbody>\n",
       "</table>\n",
       "<p>5000 rows × 5 columns</p>\n",
       "</div>"
      ],
      "text/plain": [
       "      Пол  Возраст  Зарплата  Члены семьи  Страховые выплаты\n",
       "0       1     41.0   49600.0            1                  0\n",
       "1       0     46.0   38000.0            1                  1\n",
       "2       0     29.0   21000.0            0                  0\n",
       "3       0     21.0   41700.0            2                  0\n",
       "4       1     28.0   26100.0            0                  0\n",
       "...   ...      ...       ...          ...                ...\n",
       "4995    0     28.0   35700.0            2                  0\n",
       "4996    0     34.0   52400.0            1                  0\n",
       "4997    0     20.0   33900.0            2                  0\n",
       "4998    1     22.0   32700.0            3                  0\n",
       "4999    1     28.0   40600.0            1                  0\n",
       "\n",
       "[5000 rows x 5 columns]"
      ]
     },
     "execution_count": 3,
     "metadata": {},
     "output_type": "execute_result"
    }
   ],
   "source": [
    "# посмотрим общий вид таблицы\n",
    "df"
   ]
  },
  {
   "cell_type": "code",
   "execution_count": 4,
   "metadata": {},
   "outputs": [
    {
     "name": "stdout",
     "output_type": "stream",
     "text": [
      "<class 'pandas.core.frame.DataFrame'>\n",
      "RangeIndex: 5000 entries, 0 to 4999\n",
      "Data columns (total 5 columns):\n",
      " #   Column             Non-Null Count  Dtype  \n",
      "---  ------             --------------  -----  \n",
      " 0   Пол                5000 non-null   int64  \n",
      " 1   Возраст            5000 non-null   float64\n",
      " 2   Зарплата           5000 non-null   float64\n",
      " 3   Члены семьи        5000 non-null   int64  \n",
      " 4   Страховые выплаты  5000 non-null   int64  \n",
      "dtypes: float64(2), int64(3)\n",
      "memory usage: 195.4 KB\n"
     ]
    }
   ],
   "source": [
    "# смотрим на общую информацию по таблице\n",
    "df.info()"
   ]
  },
  {
   "cell_type": "code",
   "execution_count": 5,
   "metadata": {},
   "outputs": [
    {
     "data": {
      "text/plain": [
       "153"
      ]
     },
     "execution_count": 5,
     "metadata": {},
     "output_type": "execute_result"
    }
   ],
   "source": [
    "# проверим наличие дубликатов\n",
    "df.duplicated().sum()"
   ]
  },
  {
   "cell_type": "markdown",
   "metadata": {},
   "source": [
    "Дубликаты имеются, однако вариативность данных достаточно низкая, и вполне возможно получить данные пользователей с совпадениями. По условию задачи требуется защитить данные и в данном случае оставим дубликаты без изменений."
   ]
  },
  {
   "cell_type": "code",
   "execution_count": 6,
   "metadata": {},
   "outputs": [
    {
     "data": {
      "text/plain": [
       "Пол                  0\n",
       "Возраст              0\n",
       "Зарплата             0\n",
       "Члены семьи          0\n",
       "Страховые выплаты    0\n",
       "dtype: int64"
      ]
     },
     "execution_count": 6,
     "metadata": {},
     "output_type": "execute_result"
    }
   ],
   "source": [
    "# посмотрим наличие пропусков\n",
    "df.isna().sum()"
   ]
  },
  {
   "cell_type": "code",
   "execution_count": 7,
   "metadata": {},
   "outputs": [
    {
     "data": {
      "text/html": [
       "<div>\n",
       "<style scoped>\n",
       "    .dataframe tbody tr th:only-of-type {\n",
       "        vertical-align: middle;\n",
       "    }\n",
       "\n",
       "    .dataframe tbody tr th {\n",
       "        vertical-align: top;\n",
       "    }\n",
       "\n",
       "    .dataframe thead th {\n",
       "        text-align: right;\n",
       "    }\n",
       "</style>\n",
       "<table border=\"1\" class=\"dataframe\">\n",
       "  <thead>\n",
       "    <tr style=\"text-align: right;\">\n",
       "      <th></th>\n",
       "      <th>Пол</th>\n",
       "      <th>Возраст</th>\n",
       "      <th>Зарплата</th>\n",
       "      <th>Члены семьи</th>\n",
       "      <th>Страховые выплаты</th>\n",
       "    </tr>\n",
       "  </thead>\n",
       "  <tbody>\n",
       "    <tr>\n",
       "      <th>count</th>\n",
       "      <td>5000.000000</td>\n",
       "      <td>5000.000000</td>\n",
       "      <td>5000.000000</td>\n",
       "      <td>5000.000000</td>\n",
       "      <td>5000.000000</td>\n",
       "    </tr>\n",
       "    <tr>\n",
       "      <th>mean</th>\n",
       "      <td>0.499000</td>\n",
       "      <td>30.952800</td>\n",
       "      <td>39916.360000</td>\n",
       "      <td>1.194200</td>\n",
       "      <td>0.148000</td>\n",
       "    </tr>\n",
       "    <tr>\n",
       "      <th>std</th>\n",
       "      <td>0.500049</td>\n",
       "      <td>8.440807</td>\n",
       "      <td>9900.083569</td>\n",
       "      <td>1.091387</td>\n",
       "      <td>0.463183</td>\n",
       "    </tr>\n",
       "    <tr>\n",
       "      <th>min</th>\n",
       "      <td>0.000000</td>\n",
       "      <td>18.000000</td>\n",
       "      <td>5300.000000</td>\n",
       "      <td>0.000000</td>\n",
       "      <td>0.000000</td>\n",
       "    </tr>\n",
       "    <tr>\n",
       "      <th>25%</th>\n",
       "      <td>0.000000</td>\n",
       "      <td>24.000000</td>\n",
       "      <td>33300.000000</td>\n",
       "      <td>0.000000</td>\n",
       "      <td>0.000000</td>\n",
       "    </tr>\n",
       "    <tr>\n",
       "      <th>50%</th>\n",
       "      <td>0.000000</td>\n",
       "      <td>30.000000</td>\n",
       "      <td>40200.000000</td>\n",
       "      <td>1.000000</td>\n",
       "      <td>0.000000</td>\n",
       "    </tr>\n",
       "    <tr>\n",
       "      <th>75%</th>\n",
       "      <td>1.000000</td>\n",
       "      <td>37.000000</td>\n",
       "      <td>46600.000000</td>\n",
       "      <td>2.000000</td>\n",
       "      <td>0.000000</td>\n",
       "    </tr>\n",
       "    <tr>\n",
       "      <th>max</th>\n",
       "      <td>1.000000</td>\n",
       "      <td>65.000000</td>\n",
       "      <td>79000.000000</td>\n",
       "      <td>6.000000</td>\n",
       "      <td>5.000000</td>\n",
       "    </tr>\n",
       "  </tbody>\n",
       "</table>\n",
       "</div>"
      ],
      "text/plain": [
       "               Пол      Возраст      Зарплата  Члены семьи  Страховые выплаты\n",
       "count  5000.000000  5000.000000   5000.000000  5000.000000        5000.000000\n",
       "mean      0.499000    30.952800  39916.360000     1.194200           0.148000\n",
       "std       0.500049     8.440807   9900.083569     1.091387           0.463183\n",
       "min       0.000000    18.000000   5300.000000     0.000000           0.000000\n",
       "25%       0.000000    24.000000  33300.000000     0.000000           0.000000\n",
       "50%       0.000000    30.000000  40200.000000     1.000000           0.000000\n",
       "75%       1.000000    37.000000  46600.000000     2.000000           0.000000\n",
       "max       1.000000    65.000000  79000.000000     6.000000           5.000000"
      ]
     },
     "execution_count": 7,
     "metadata": {},
     "output_type": "execute_result"
    }
   ],
   "source": [
    "# посмотрим на распределение данных, есть ли какие-то вбросы в данных, значения которые не укладываются в \"нормальные\"\n",
    "df.describe()"
   ]
  },
  {
   "cell_type": "markdown",
   "metadata": {},
   "source": [
    "**Вывод:**\n",
    "- Данные предоставлены в предобработанном виде и готовы для дальнейшего исследования\n",
    "- Аномалии в данных не наблюдаются"
   ]
  },
  {
   "cell_type": "markdown",
   "metadata": {},
   "source": [
    "<a id='section2'></a>\n",
    "## Умножение матриц"
   ]
  },
  {
   "cell_type": "markdown",
   "metadata": {},
   "source": [
    "Обозначения:\n",
    "\n",
    "- $X$ — матрица признаков (нулевой столбец состоит из единиц)\n",
    "\n",
    "- $y$ — вектор целевого признака\n",
    "\n",
    "- $P$ — матрица, на которую умножаются признаки\n",
    "\n",
    "- $w$ — вектор весов линейной регрессии (нулевой элемент равен сдвигу)"
   ]
  },
  {
   "cell_type": "markdown",
   "metadata": {},
   "source": [
    "Предсказания:\n",
    "\n",
    "$$\n",
    "a = Xw\n",
    "$$\n",
    "\n",
    "Задача обучения:\n",
    "\n",
    "$$\n",
    "w = \\arg\\min_w MSE(Xw, y)\n",
    "$$\n",
    "\n",
    "Формула обучения:\n",
    "\n",
    "$$\n",
    "w = (X^T X)^{-1} X^T y\n",
    "$$"
   ]
  },
  {
   "cell_type": "markdown",
   "metadata": {},
   "source": [
    "**Ответ:**\n",
    "При умножение признаки на обратимую матрицу, качество линейной регресии не изменится\n",
    "\n",
    "**Обоснование:**\n",
    "\n",
    "Формула Squared Error:\n",
    "$$\n",
    "SE = \\sum_ {i = 1} ^ {n} (y_i + a_i)^2\n",
    "$$\n",
    "\n",
    "Формула предсказания в матричной виде:\n",
    "\n",
    "$$\n",
    "a = Xw = X(X^T X)^{-1}X^T y\n",
    "$$\n",
    "\n",
    "Пусть матрица Z является обратимой:\n",
    "Умножаем матрицу X на обратимую Z в формуле предсказания:\n",
    "\n",
    "$$\n",
    "a^{'} = (XZ)((XZ)^TXZ)^{-1}(XZ)^Ty\n",
    "$$\n",
    "\n",
    "\n",
    "Преобразуем формулу с помошью свойства транспортирования матрицы:\n",
    "\n",
    "$$\n",
    "(AB)^T = B^TA^T\n",
    "$$\n",
    "$$\n",
    "a^{'} = (XZ)(Z^TX^TXZ)^{-1}Z^TX^Ty\n",
    "$$\n",
    "\n",
    "Преобразуем формулу с помошью следующего свойства свойства:\n",
    "\n",
    "$$\n",
    "(ABС)^{-1} = С^{-1}B^{-1}A^{-1}\n",
    "$$\n",
    "$$\n",
    "a^{'} = (XZ)Z^{-1}(X^TX)^{-1}(Z^T)^{-1}Z^TX^Ty\n",
    "$$\n",
    "\n",
    "Применяем тождетсва:\n",
    "\n",
    "$$\n",
    "AA^{-1} = A^{-1}A = E  \n",
    "$$\n",
    "\n",
    "Где:\n",
    "\n",
    "$\n",
    "E \n",
    "$ — единичная матрица\n",
    "\n",
    "$$\n",
    "a^{'} = XE(X^TX)^{-1}EX^Ty\n",
    "$$\n",
    "\n",
    "Применяем тождетсва:\n",
    "\n",
    "$$\n",
    "AE = EA = A\n",
    "$$\n",
    "$$\n",
    "a^{'} = X(X^TX)^{-1}X^Ty\n",
    "$$\n",
    "\n",
    "Получаем что:\n",
    "\n",
    "$$\n",
    "a = a^{'}\n",
    "$$\n",
    "\n",
    "Соответсвено :\n",
    "\n",
    "$$\n",
    "\\sum_ {i = 1} ^ {n} (y_i + a_i)^2 = \\sum_ {i = 1} ^ {n} (y_i + a_i^{'})^2\n",
    "$$\n",
    " \n",
    "Что является доказательством предположения того что при умножения признаки на обратимую матрицу, качество линейной регресии не изменится."
   ]
  },
  {
   "cell_type": "markdown",
   "metadata": {},
   "source": [
    "<a id='section3'></a>\n",
    "## Алгоритм преобразования"
   ]
  },
  {
   "cell_type": "markdown",
   "metadata": {},
   "source": [
    "**Алгоритм**\n",
    "- Определение признаков и целевого признака\n",
    "- Обучение модели без преобразование и получение метрики R2\n",
    "- Создание рандомной обратимой матрицы\n",
    "- Умножение обратимой матрицы на матрицу признаков\n",
    "- Обучение преобразованной модели и получение метрики R2\n",
    "- Сравнение метрик R2 полученных на преобразованной модели и модели начальной \n",
    "- Для проверки расшифруем полученную матрицу и сравним результат с начальной\n",
    "- Вывод"
   ]
  },
  {
   "cell_type": "markdown",
   "metadata": {},
   "source": [
    "**Обоснование**\n",
    "\n",
    "Алгоритм основан на доказательстве в предыдущем пункте"
   ]
  },
  {
   "cell_type": "markdown",
   "metadata": {},
   "source": [
    "<a id='section4'></a>\n",
    "## Проверка алгоритма"
   ]
  },
  {
   "cell_type": "markdown",
   "metadata": {},
   "source": [
    "<a id='section4.1'></a>\n",
    "### Определение признаков и целевого признака"
   ]
  },
  {
   "cell_type": "code",
   "execution_count": 8,
   "metadata": {},
   "outputs": [],
   "source": [
    "features = df.drop('Страховые выплаты', axis=1)\n",
    "target = df['Страховые выплаты']"
   ]
  },
  {
   "cell_type": "markdown",
   "metadata": {},
   "source": [
    "<a id='section4.2'></a>\n",
    "### Обучение модели без преобразование и получение метрики R2"
   ]
  },
  {
   "cell_type": "code",
   "execution_count": 9,
   "metadata": {},
   "outputs": [],
   "source": [
    "class LinearRegression:\n",
    "    def fit(self, train_features, train_target):\n",
    "        X = np.concatenate((np.ones((train_features.shape[0], 1)), train_features), axis=1)\n",
    "        y = train_target\n",
    "        w = np.linalg.inv((X.T @ X)).dot(X.T).dot(y)\n",
    "        self.w = w[1:]\n",
    "        self.w0 = w[0]\n",
    "        print(w)\n",
    "        \n",
    "    def predict(self, test_features):\n",
    "        return test_features.dot(self.w) + self.w0"
   ]
  },
  {
   "cell_type": "code",
   "execution_count": 10,
   "metadata": {},
   "outputs": [
    {
     "name": "stdout",
     "output_type": "stream",
     "text": [
      "[-9.38235504e-01  7.92580543e-03  3.57083050e-02 -1.70080492e-07\n",
      " -1.35676623e-02]\n"
     ]
    }
   ],
   "source": [
    "model_zero = LinearRegression()\n",
    "model_zero.fit(features, target)\n",
    "predictions = model_zero.predict(features)\n",
    "R2_zero = r2_score(target, predictions)"
   ]
  },
  {
   "cell_type": "markdown",
   "metadata": {},
   "source": [
    "<a id='section4.3'></a>\n",
    "### Создание рандомной обратимой матрицы"
   ]
  },
  {
   "cell_type": "code",
   "execution_count": 11,
   "metadata": {},
   "outputs": [],
   "source": [
    "# Создание рандомной матрицы\n",
    "random_matrix = np.random.normal(0, 1, (features.shape[1], features.shape[1]))"
   ]
  },
  {
   "cell_type": "markdown",
   "metadata": {},
   "source": [
    "Создание обратимой матрицы через np.linalg.inv() и проверка через умножение рандомной и обратимой, должна получится единичная матрица"
   ]
  },
  {
   "cell_type": "code",
   "execution_count": 12,
   "metadata": {},
   "outputs": [
    {
     "data": {
      "text/plain": [
       "array([[ 1.00000000e+00, -1.98157100e-17, -3.95275185e-17,\n",
       "         1.15349142e-16],\n",
       "       [-1.05854737e-16,  1.00000000e+00, -3.34863499e-17,\n",
       "        -1.49376218e-17],\n",
       "       [ 1.43664884e-17,  2.90122843e-17,  1.00000000e+00,\n",
       "        -2.01350736e-18],\n",
       "       [ 2.65085043e-16,  1.18794076e-16, -1.70602328e-17,\n",
       "         1.00000000e+00]])"
      ]
     },
     "execution_count": 12,
     "metadata": {},
     "output_type": "execute_result"
    }
   ],
   "source": [
    "random_matrix @ np.linalg.inv(random_matrix)"
   ]
  },
  {
   "cell_type": "markdown",
   "metadata": {},
   "source": [
    "<a id='section4.4'></a>\n",
    "### Умножение обратимой матрицы на матрицу признаков"
   ]
  },
  {
   "cell_type": "code",
   "execution_count": 13,
   "metadata": {},
   "outputs": [],
   "source": [
    "secret_features = features.dot(random_matrix)"
   ]
  },
  {
   "cell_type": "markdown",
   "metadata": {},
   "source": [
    "<a id='section4.5'></a>\n",
    "### Обучение преобразованной модели и получение метрики R2"
   ]
  },
  {
   "cell_type": "code",
   "execution_count": 14,
   "metadata": {},
   "outputs": [
    {
     "name": "stdout",
     "output_type": "stream",
     "text": [
      "[-0.93823553  0.00196286 -0.01198092  0.01664193  0.00887001]\n"
     ]
    }
   ],
   "source": [
    "model_secret = LinearRegression()\n",
    "model_secret.fit(secret_features, target)\n",
    "predictions = model_secret.predict(secret_features)\n",
    "R2_secret = r2_score(target, predictions)"
   ]
  },
  {
   "cell_type": "markdown",
   "metadata": {},
   "source": [
    "<a id='section4.6'></a>\n",
    "### Сравнение метрик R2 полученных на преобразованной модели и модели начальной "
   ]
  },
  {
   "cell_type": "code",
   "execution_count": 15,
   "metadata": {},
   "outputs": [
    {
     "data": {
      "text/html": [
       "<div>\n",
       "<style scoped>\n",
       "    .dataframe tbody tr th:only-of-type {\n",
       "        vertical-align: middle;\n",
       "    }\n",
       "\n",
       "    .dataframe tbody tr th {\n",
       "        vertical-align: top;\n",
       "    }\n",
       "\n",
       "    .dataframe thead th {\n",
       "        text-align: right;\n",
       "    }\n",
       "</style>\n",
       "<table border=\"1\" class=\"dataframe\">\n",
       "  <thead>\n",
       "    <tr style=\"text-align: right;\">\n",
       "      <th></th>\n",
       "      <th>Тип данных</th>\n",
       "      <th>R2-score</th>\n",
       "    </tr>\n",
       "  </thead>\n",
       "  <tbody>\n",
       "    <tr>\n",
       "      <th>0</th>\n",
       "      <td>нешифрованные данные</td>\n",
       "      <td>0.424946</td>\n",
       "    </tr>\n",
       "    <tr>\n",
       "      <th>1</th>\n",
       "      <td>шифрованные данные</td>\n",
       "      <td>0.424946</td>\n",
       "    </tr>\n",
       "  </tbody>\n",
       "</table>\n",
       "</div>"
      ],
      "text/plain": [
       "             Тип данных  R2-score\n",
       "0  нешифрованные данные  0.424946\n",
       "1    шифрованные данные  0.424946"
      ]
     },
     "execution_count": 15,
     "metadata": {},
     "output_type": "execute_result"
    }
   ],
   "source": [
    "df_r2_result = pd.DataFrame({'Тип данных' : 'нешифрованные данные',\n",
    "                                    'R2-score'   : R2_zero}, index=[0])\n",
    "df_r2_result = df_r2_result.append({'Тип данных' : 'шифрованные данные',\n",
    "                                                  'R2-score'   : R2_secret}, ignore_index = True).reset_index(drop = True)\n",
    "df_r2_result"
   ]
  },
  {
   "cell_type": "markdown",
   "metadata": {},
   "source": [
    "<a id='section4.7'></a>\n",
    "### Для проверки расшифруем полученную матрицу и сравним результат с начальной"
   ]
  },
  {
   "cell_type": "code",
   "execution_count": 16,
   "metadata": {},
   "outputs": [],
   "source": [
    "def decode(secret_features):\n",
    "    decoded_features = round(abs(secret_features.dot(np.linalg.inv(random_matrix))))\n",
    "    for i in decoded_features.iloc[:, [0, 3]]:\n",
    "        decoded_features[i] = decoded_features[i].astype(int)\n",
    "    decoded_features.columns = features.columns\n",
    "    return decoded_features"
   ]
  },
  {
   "cell_type": "code",
   "execution_count": 17,
   "metadata": {},
   "outputs": [
    {
     "data": {
      "text/html": [
       "<div>\n",
       "<style scoped>\n",
       "    .dataframe tbody tr th:only-of-type {\n",
       "        vertical-align: middle;\n",
       "    }\n",
       "\n",
       "    .dataframe tbody tr th {\n",
       "        vertical-align: top;\n",
       "    }\n",
       "\n",
       "    .dataframe thead th {\n",
       "        text-align: right;\n",
       "    }\n",
       "</style>\n",
       "<table border=\"1\" class=\"dataframe\">\n",
       "  <thead>\n",
       "    <tr style=\"text-align: right;\">\n",
       "      <th></th>\n",
       "      <th>Пол</th>\n",
       "      <th>Возраст</th>\n",
       "      <th>Зарплата</th>\n",
       "      <th>Члены семьи</th>\n",
       "    </tr>\n",
       "  </thead>\n",
       "  <tbody>\n",
       "    <tr>\n",
       "      <th>0</th>\n",
       "      <td>1</td>\n",
       "      <td>41.0</td>\n",
       "      <td>49600.0</td>\n",
       "      <td>1</td>\n",
       "    </tr>\n",
       "    <tr>\n",
       "      <th>1</th>\n",
       "      <td>0</td>\n",
       "      <td>46.0</td>\n",
       "      <td>38000.0</td>\n",
       "      <td>1</td>\n",
       "    </tr>\n",
       "    <tr>\n",
       "      <th>2</th>\n",
       "      <td>0</td>\n",
       "      <td>29.0</td>\n",
       "      <td>21000.0</td>\n",
       "      <td>0</td>\n",
       "    </tr>\n",
       "    <tr>\n",
       "      <th>3</th>\n",
       "      <td>0</td>\n",
       "      <td>21.0</td>\n",
       "      <td>41700.0</td>\n",
       "      <td>2</td>\n",
       "    </tr>\n",
       "    <tr>\n",
       "      <th>4</th>\n",
       "      <td>1</td>\n",
       "      <td>28.0</td>\n",
       "      <td>26100.0</td>\n",
       "      <td>0</td>\n",
       "    </tr>\n",
       "    <tr>\n",
       "      <th>...</th>\n",
       "      <td>...</td>\n",
       "      <td>...</td>\n",
       "      <td>...</td>\n",
       "      <td>...</td>\n",
       "    </tr>\n",
       "    <tr>\n",
       "      <th>4995</th>\n",
       "      <td>0</td>\n",
       "      <td>28.0</td>\n",
       "      <td>35700.0</td>\n",
       "      <td>2</td>\n",
       "    </tr>\n",
       "    <tr>\n",
       "      <th>4996</th>\n",
       "      <td>0</td>\n",
       "      <td>34.0</td>\n",
       "      <td>52400.0</td>\n",
       "      <td>1</td>\n",
       "    </tr>\n",
       "    <tr>\n",
       "      <th>4997</th>\n",
       "      <td>0</td>\n",
       "      <td>20.0</td>\n",
       "      <td>33900.0</td>\n",
       "      <td>2</td>\n",
       "    </tr>\n",
       "    <tr>\n",
       "      <th>4998</th>\n",
       "      <td>1</td>\n",
       "      <td>22.0</td>\n",
       "      <td>32700.0</td>\n",
       "      <td>3</td>\n",
       "    </tr>\n",
       "    <tr>\n",
       "      <th>4999</th>\n",
       "      <td>1</td>\n",
       "      <td>28.0</td>\n",
       "      <td>40600.0</td>\n",
       "      <td>1</td>\n",
       "    </tr>\n",
       "  </tbody>\n",
       "</table>\n",
       "<p>5000 rows × 4 columns</p>\n",
       "</div>"
      ],
      "text/plain": [
       "      Пол  Возраст  Зарплата  Члены семьи\n",
       "0       1     41.0   49600.0            1\n",
       "1       0     46.0   38000.0            1\n",
       "2       0     29.0   21000.0            0\n",
       "3       0     21.0   41700.0            2\n",
       "4       1     28.0   26100.0            0\n",
       "...   ...      ...       ...          ...\n",
       "4995    0     28.0   35700.0            2\n",
       "4996    0     34.0   52400.0            1\n",
       "4997    0     20.0   33900.0            2\n",
       "4998    1     22.0   32700.0            3\n",
       "4999    1     28.0   40600.0            1\n",
       "\n",
       "[5000 rows x 4 columns]"
      ]
     },
     "execution_count": 17,
     "metadata": {},
     "output_type": "execute_result"
    }
   ],
   "source": [
    "decode(secret_features)"
   ]
  },
  {
   "cell_type": "code",
   "execution_count": 18,
   "metadata": {},
   "outputs": [
    {
     "data": {
      "text/html": [
       "<div>\n",
       "<style scoped>\n",
       "    .dataframe tbody tr th:only-of-type {\n",
       "        vertical-align: middle;\n",
       "    }\n",
       "\n",
       "    .dataframe tbody tr th {\n",
       "        vertical-align: top;\n",
       "    }\n",
       "\n",
       "    .dataframe thead th {\n",
       "        text-align: right;\n",
       "    }\n",
       "</style>\n",
       "<table border=\"1\" class=\"dataframe\">\n",
       "  <thead>\n",
       "    <tr style=\"text-align: right;\">\n",
       "      <th></th>\n",
       "      <th>Пол</th>\n",
       "      <th>Возраст</th>\n",
       "      <th>Зарплата</th>\n",
       "      <th>Члены семьи</th>\n",
       "      <th>Страховые выплаты</th>\n",
       "    </tr>\n",
       "  </thead>\n",
       "  <tbody>\n",
       "    <tr>\n",
       "      <th>0</th>\n",
       "      <td>1</td>\n",
       "      <td>41.0</td>\n",
       "      <td>49600.0</td>\n",
       "      <td>1</td>\n",
       "      <td>0</td>\n",
       "    </tr>\n",
       "    <tr>\n",
       "      <th>1</th>\n",
       "      <td>0</td>\n",
       "      <td>46.0</td>\n",
       "      <td>38000.0</td>\n",
       "      <td>1</td>\n",
       "      <td>1</td>\n",
       "    </tr>\n",
       "    <tr>\n",
       "      <th>2</th>\n",
       "      <td>0</td>\n",
       "      <td>29.0</td>\n",
       "      <td>21000.0</td>\n",
       "      <td>0</td>\n",
       "      <td>0</td>\n",
       "    </tr>\n",
       "    <tr>\n",
       "      <th>3</th>\n",
       "      <td>0</td>\n",
       "      <td>21.0</td>\n",
       "      <td>41700.0</td>\n",
       "      <td>2</td>\n",
       "      <td>0</td>\n",
       "    </tr>\n",
       "    <tr>\n",
       "      <th>4</th>\n",
       "      <td>1</td>\n",
       "      <td>28.0</td>\n",
       "      <td>26100.0</td>\n",
       "      <td>0</td>\n",
       "      <td>0</td>\n",
       "    </tr>\n",
       "    <tr>\n",
       "      <th>...</th>\n",
       "      <td>...</td>\n",
       "      <td>...</td>\n",
       "      <td>...</td>\n",
       "      <td>...</td>\n",
       "      <td>...</td>\n",
       "    </tr>\n",
       "    <tr>\n",
       "      <th>4995</th>\n",
       "      <td>0</td>\n",
       "      <td>28.0</td>\n",
       "      <td>35700.0</td>\n",
       "      <td>2</td>\n",
       "      <td>0</td>\n",
       "    </tr>\n",
       "    <tr>\n",
       "      <th>4996</th>\n",
       "      <td>0</td>\n",
       "      <td>34.0</td>\n",
       "      <td>52400.0</td>\n",
       "      <td>1</td>\n",
       "      <td>0</td>\n",
       "    </tr>\n",
       "    <tr>\n",
       "      <th>4997</th>\n",
       "      <td>0</td>\n",
       "      <td>20.0</td>\n",
       "      <td>33900.0</td>\n",
       "      <td>2</td>\n",
       "      <td>0</td>\n",
       "    </tr>\n",
       "    <tr>\n",
       "      <th>4998</th>\n",
       "      <td>1</td>\n",
       "      <td>22.0</td>\n",
       "      <td>32700.0</td>\n",
       "      <td>3</td>\n",
       "      <td>0</td>\n",
       "    </tr>\n",
       "    <tr>\n",
       "      <th>4999</th>\n",
       "      <td>1</td>\n",
       "      <td>28.0</td>\n",
       "      <td>40600.0</td>\n",
       "      <td>1</td>\n",
       "      <td>0</td>\n",
       "    </tr>\n",
       "  </tbody>\n",
       "</table>\n",
       "<p>5000 rows × 5 columns</p>\n",
       "</div>"
      ],
      "text/plain": [
       "      Пол  Возраст  Зарплата  Члены семьи  Страховые выплаты\n",
       "0       1     41.0   49600.0            1                  0\n",
       "1       0     46.0   38000.0            1                  1\n",
       "2       0     29.0   21000.0            0                  0\n",
       "3       0     21.0   41700.0            2                  0\n",
       "4       1     28.0   26100.0            0                  0\n",
       "...   ...      ...       ...          ...                ...\n",
       "4995    0     28.0   35700.0            2                  0\n",
       "4996    0     34.0   52400.0            1                  0\n",
       "4997    0     20.0   33900.0            2                  0\n",
       "4998    1     22.0   32700.0            3                  0\n",
       "4999    1     28.0   40600.0            1                  0\n",
       "\n",
       "[5000 rows x 5 columns]"
      ]
     },
     "execution_count": 18,
     "metadata": {},
     "output_type": "execute_result"
    }
   ],
   "source": [
    "df"
   ]
  },
  {
   "cell_type": "markdown",
   "metadata": {},
   "source": [
    "<a id='section5'></a>\n",
    "## Общий вывод"
   ]
  },
  {
   "cell_type": "markdown",
   "metadata": {},
   "source": [
    "- Умножив признаки на обратимую матрицу, качество линейной регрессии не изменилось\n",
    "\n",
    "- Предложенный алгоритм преобразования данных справляется для решения задачи шифрования признаков\n",
    "\n",
    "- Зашифрованные данные так же пригодны для предсказаний с помощью линейной регресии\n",
    "\n",
    "- Алгоритм позволяет дешифровать данные при необходимости\n",
    "\n",
    "- Случайность реализованная в алгоритме каждый раз меняется при запуске, что делает зашифрованные данные каждый раз новыми. Такой вид исходных данных сложно востановить, не имея исходных данных\n",
    "\n",
    "- Реализованный алгоритм полностью удовлетворяет поставленной задаче: \"Защиты персональных данных клиентов страховой компании\""
   ]
  }
 ],
 "metadata": {
  "ExecuteTimeLog": [
   {
    "duration": 1818,
    "start_time": "2022-08-04T09:22:14.320Z"
   },
   {
    "duration": 100,
    "start_time": "2022-08-04T09:22:41.519Z"
   },
   {
    "duration": 28,
    "start_time": "2022-08-04T09:22:44.124Z"
   },
   {
    "duration": 19,
    "start_time": "2022-08-04T09:22:54.476Z"
   },
   {
    "duration": 13,
    "start_time": "2022-08-04T09:23:09.220Z"
   },
   {
    "duration": 13,
    "start_time": "2022-08-04T09:23:20.836Z"
   },
   {
    "duration": 12,
    "start_time": "2022-08-04T09:23:35.232Z"
   },
   {
    "duration": 123,
    "start_time": "2022-08-04T09:24:08.320Z"
   },
   {
    "duration": 11,
    "start_time": "2022-08-04T09:24:19.655Z"
   },
   {
    "duration": 9,
    "start_time": "2022-08-04T09:24:30.852Z"
   },
   {
    "duration": 7,
    "start_time": "2022-08-04T09:27:13.864Z"
   },
   {
    "duration": 9,
    "start_time": "2022-08-04T09:27:33.547Z"
   },
   {
    "duration": 28,
    "start_time": "2022-08-04T09:30:07.759Z"
   },
   {
    "duration": 7,
    "start_time": "2022-08-04T09:45:46.773Z"
   },
   {
    "duration": 6,
    "start_time": "2022-08-04T09:53:33.208Z"
   },
   {
    "duration": 52,
    "start_time": "2022-08-04T09:57:19.528Z"
   },
   {
    "duration": 10,
    "start_time": "2022-08-04T09:58:39.912Z"
   },
   {
    "duration": 11,
    "start_time": "2022-08-04T09:58:54.143Z"
   },
   {
    "duration": 9,
    "start_time": "2022-08-04T10:00:54.718Z"
   },
   {
    "duration": 5,
    "start_time": "2022-08-04T10:08:21.222Z"
   },
   {
    "duration": 5,
    "start_time": "2022-08-04T10:12:00.552Z"
   },
   {
    "duration": 7,
    "start_time": "2022-08-04T10:12:06.022Z"
   },
   {
    "duration": 15,
    "start_time": "2022-08-04T10:12:26.933Z"
   },
   {
    "duration": 6,
    "start_time": "2022-08-04T10:13:23.014Z"
   },
   {
    "duration": 97,
    "start_time": "2022-08-04T10:14:56.885Z"
   },
   {
    "duration": 15,
    "start_time": "2022-08-04T10:16:41.989Z"
   },
   {
    "duration": 4,
    "start_time": "2022-08-04T10:16:55.713Z"
   },
   {
    "duration": 8,
    "start_time": "2022-08-04T10:18:43.165Z"
   },
   {
    "duration": 4,
    "start_time": "2022-08-04T11:29:40.292Z"
   },
   {
    "duration": 12,
    "start_time": "2022-08-04T11:29:40.898Z"
   },
   {
    "duration": 5,
    "start_time": "2022-08-04T11:30:03.511Z"
   },
   {
    "duration": 12,
    "start_time": "2022-08-04T11:30:03.985Z"
   },
   {
    "duration": 3,
    "start_time": "2022-08-04T11:30:21.085Z"
   },
   {
    "duration": 15,
    "start_time": "2022-08-04T11:30:21.461Z"
   },
   {
    "duration": 3,
    "start_time": "2022-08-04T11:30:22.185Z"
   },
   {
    "duration": 10,
    "start_time": "2022-08-04T11:30:22.521Z"
   },
   {
    "duration": 11,
    "start_time": "2022-08-04T11:31:27.180Z"
   },
   {
    "duration": 4,
    "start_time": "2022-08-04T11:32:56.097Z"
   },
   {
    "duration": 6,
    "start_time": "2022-08-04T11:33:10.936Z"
   },
   {
    "duration": 85,
    "start_time": "2022-08-04T11:33:50.132Z"
   },
   {
    "duration": 3,
    "start_time": "2022-08-04T11:33:50.413Z"
   },
   {
    "duration": 5,
    "start_time": "2022-08-04T11:33:54.796Z"
   },
   {
    "duration": 4,
    "start_time": "2022-08-04T11:34:08.988Z"
   },
   {
    "duration": 56,
    "start_time": "2022-08-04T11:34:16.712Z"
   },
   {
    "duration": 3,
    "start_time": "2022-08-04T11:34:59.368Z"
   },
   {
    "duration": 5,
    "start_time": "2022-08-04T11:37:33.529Z"
   },
   {
    "duration": 12,
    "start_time": "2022-08-04T11:38:03.871Z"
   },
   {
    "duration": 50,
    "start_time": "2022-08-04T11:40:03.419Z"
   },
   {
    "duration": 1471,
    "start_time": "2022-08-04T11:41:03.046Z"
   },
   {
    "duration": 29,
    "start_time": "2022-08-04T11:41:04.518Z"
   },
   {
    "duration": 15,
    "start_time": "2022-08-04T11:41:04.549Z"
   },
   {
    "duration": 13,
    "start_time": "2022-08-04T11:41:04.566Z"
   },
   {
    "duration": 24,
    "start_time": "2022-08-04T11:41:04.580Z"
   },
   {
    "duration": 12,
    "start_time": "2022-08-04T11:41:04.605Z"
   },
   {
    "duration": 41,
    "start_time": "2022-08-04T11:41:04.619Z"
   },
   {
    "duration": 4,
    "start_time": "2022-08-04T11:41:04.662Z"
   },
   {
    "duration": 15,
    "start_time": "2022-08-04T11:41:04.668Z"
   },
   {
    "duration": 83,
    "start_time": "2022-08-04T11:41:04.685Z"
   },
   {
    "duration": 101,
    "start_time": "2022-08-04T11:41:04.770Z"
   },
   {
    "duration": 10,
    "start_time": "2022-08-04T11:41:04.873Z"
   },
   {
    "duration": 18,
    "start_time": "2022-08-04T11:41:04.885Z"
   },
   {
    "duration": 100,
    "start_time": "2022-08-04T11:41:04.969Z"
   },
   {
    "duration": 109,
    "start_time": "2022-08-04T11:41:05.072Z"
   },
   {
    "duration": 14,
    "start_time": "2022-08-04T11:41:05.183Z"
   },
   {
    "duration": 3,
    "start_time": "2022-08-04T11:41:05.199Z"
   },
   {
    "duration": 65,
    "start_time": "2022-08-04T11:41:05.203Z"
   },
   {
    "duration": 4,
    "start_time": "2022-08-04T11:47:05.821Z"
   },
   {
    "duration": 8,
    "start_time": "2022-08-04T11:54:45.392Z"
   },
   {
    "duration": 7,
    "start_time": "2022-08-04T11:55:06.423Z"
   },
   {
    "duration": 110,
    "start_time": "2022-08-04T11:55:22.328Z"
   },
   {
    "duration": 8,
    "start_time": "2022-08-04T11:55:27.192Z"
   },
   {
    "duration": 3,
    "start_time": "2022-08-04T11:55:29.885Z"
   },
   {
    "duration": 6,
    "start_time": "2022-08-04T11:55:34.360Z"
   },
   {
    "duration": 5,
    "start_time": "2022-08-04T11:55:40.327Z"
   },
   {
    "duration": 6,
    "start_time": "2022-08-04T11:57:07.719Z"
   },
   {
    "duration": 8,
    "start_time": "2022-08-04T11:57:17.252Z"
   },
   {
    "duration": 7,
    "start_time": "2022-08-04T11:57:56.832Z"
   },
   {
    "duration": 9,
    "start_time": "2022-08-04T11:58:00.472Z"
   },
   {
    "duration": 12,
    "start_time": "2022-08-04T11:58:05.588Z"
   },
   {
    "duration": 15,
    "start_time": "2022-08-04T11:59:02.148Z"
   },
   {
    "duration": 107,
    "start_time": "2022-08-04T12:03:16.268Z"
   },
   {
    "duration": 4,
    "start_time": "2022-08-04T12:03:27.121Z"
   },
   {
    "duration": 4,
    "start_time": "2022-08-04T12:04:02.656Z"
   },
   {
    "duration": 3,
    "start_time": "2022-08-04T12:04:29.732Z"
   },
   {
    "duration": 6,
    "start_time": "2022-08-04T12:04:36.072Z"
   },
   {
    "duration": 10,
    "start_time": "2022-08-04T12:05:26.284Z"
   },
   {
    "duration": 6,
    "start_time": "2022-08-04T12:05:27.276Z"
   },
   {
    "duration": 75,
    "start_time": "2022-08-04T12:08:42.031Z"
   },
   {
    "duration": 14,
    "start_time": "2022-08-04T12:10:49.074Z"
   },
   {
    "duration": 12,
    "start_time": "2022-08-04T12:11:08.967Z"
   },
   {
    "duration": 83,
    "start_time": "2022-08-04T12:11:16.972Z"
   },
   {
    "duration": 25,
    "start_time": "2022-08-04T12:11:55.533Z"
   },
   {
    "duration": 71,
    "start_time": "2022-08-04T12:12:26.963Z"
   },
   {
    "duration": 97,
    "start_time": "2022-08-04T12:14:07.755Z"
   },
   {
    "duration": 11,
    "start_time": "2022-08-04T12:14:14.426Z"
   },
   {
    "duration": 1113,
    "start_time": "2022-08-04T12:32:08.101Z"
   },
   {
    "duration": 29,
    "start_time": "2022-08-04T12:32:09.216Z"
   },
   {
    "duration": 24,
    "start_time": "2022-08-04T12:32:09.247Z"
   },
   {
    "duration": 12,
    "start_time": "2022-08-04T12:32:09.273Z"
   },
   {
    "duration": 7,
    "start_time": "2022-08-04T12:32:09.287Z"
   },
   {
    "duration": 7,
    "start_time": "2022-08-04T12:32:09.295Z"
   },
   {
    "duration": 65,
    "start_time": "2022-08-04T12:32:09.304Z"
   },
   {
    "duration": 4,
    "start_time": "2022-08-04T12:32:09.371Z"
   },
   {
    "duration": 6,
    "start_time": "2022-08-04T12:32:09.377Z"
   },
   {
    "duration": 87,
    "start_time": "2022-08-04T12:32:09.386Z"
   },
   {
    "duration": 98,
    "start_time": "2022-08-04T12:32:09.476Z"
   },
   {
    "duration": 7,
    "start_time": "2022-08-04T12:32:09.576Z"
   },
   {
    "duration": 7,
    "start_time": "2022-08-04T12:32:09.585Z"
   },
   {
    "duration": 259,
    "start_time": "2022-08-04T12:32:09.594Z"
   },
   {
    "duration": 0,
    "start_time": "2022-08-04T12:32:09.854Z"
   },
   {
    "duration": 0,
    "start_time": "2022-08-04T12:32:09.855Z"
   },
   {
    "duration": 0,
    "start_time": "2022-08-04T12:32:09.868Z"
   },
   {
    "duration": 0,
    "start_time": "2022-08-04T12:32:09.869Z"
   },
   {
    "duration": 1198,
    "start_time": "2022-08-04T12:34:06.144Z"
   },
   {
    "duration": 28,
    "start_time": "2022-08-04T12:34:07.344Z"
   },
   {
    "duration": 20,
    "start_time": "2022-08-04T12:34:07.374Z"
   },
   {
    "duration": 17,
    "start_time": "2022-08-04T12:34:07.396Z"
   },
   {
    "duration": 20,
    "start_time": "2022-08-04T12:34:07.415Z"
   },
   {
    "duration": 9,
    "start_time": "2022-08-04T12:34:07.437Z"
   },
   {
    "duration": 39,
    "start_time": "2022-08-04T12:34:07.448Z"
   },
   {
    "duration": 4,
    "start_time": "2022-08-04T12:34:07.489Z"
   },
   {
    "duration": 29,
    "start_time": "2022-08-04T12:34:07.494Z"
   },
   {
    "duration": 42,
    "start_time": "2022-08-04T12:34:07.527Z"
   },
   {
    "duration": 99,
    "start_time": "2022-08-04T12:34:07.571Z"
   },
   {
    "duration": 99,
    "start_time": "2022-08-04T12:34:07.672Z"
   },
   {
    "duration": 7,
    "start_time": "2022-08-04T12:34:07.773Z"
   },
   {
    "duration": 256,
    "start_time": "2022-08-04T12:34:07.781Z"
   },
   {
    "duration": 0,
    "start_time": "2022-08-04T12:34:08.039Z"
   },
   {
    "duration": 0,
    "start_time": "2022-08-04T12:34:08.040Z"
   },
   {
    "duration": 0,
    "start_time": "2022-08-04T12:34:08.042Z"
   },
   {
    "duration": 0,
    "start_time": "2022-08-04T12:34:08.043Z"
   },
   {
    "duration": 1301,
    "start_time": "2022-08-04T12:35:31.899Z"
   },
   {
    "duration": 28,
    "start_time": "2022-08-04T12:35:33.202Z"
   },
   {
    "duration": 24,
    "start_time": "2022-08-04T12:35:33.232Z"
   },
   {
    "duration": 10,
    "start_time": "2022-08-04T12:35:33.259Z"
   },
   {
    "duration": 9,
    "start_time": "2022-08-04T12:35:33.270Z"
   },
   {
    "duration": 7,
    "start_time": "2022-08-04T12:35:33.280Z"
   },
   {
    "duration": 24,
    "start_time": "2022-08-04T12:35:33.289Z"
   },
   {
    "duration": 4,
    "start_time": "2022-08-04T12:35:33.314Z"
   },
   {
    "duration": 9,
    "start_time": "2022-08-04T12:35:33.319Z"
   },
   {
    "duration": 43,
    "start_time": "2022-08-04T12:35:33.330Z"
   },
   {
    "duration": 94,
    "start_time": "2022-08-04T12:35:33.374Z"
   },
   {
    "duration": 8,
    "start_time": "2022-08-04T12:35:33.469Z"
   },
   {
    "duration": 17,
    "start_time": "2022-08-04T12:35:33.568Z"
   },
   {
    "duration": 186,
    "start_time": "2022-08-04T12:35:33.587Z"
   },
   {
    "duration": 0,
    "start_time": "2022-08-04T12:35:33.774Z"
   },
   {
    "duration": 0,
    "start_time": "2022-08-04T12:35:33.775Z"
   },
   {
    "duration": 0,
    "start_time": "2022-08-04T12:35:33.776Z"
   },
   {
    "duration": 0,
    "start_time": "2022-08-04T12:35:33.777Z"
   },
   {
    "duration": 9,
    "start_time": "2022-08-04T12:35:52.733Z"
   },
   {
    "duration": 7,
    "start_time": "2022-08-04T12:35:58.199Z"
   },
   {
    "duration": 12,
    "start_time": "2022-08-04T12:36:00.134Z"
   },
   {
    "duration": 4,
    "start_time": "2022-08-04T12:36:01.383Z"
   },
   {
    "duration": 8,
    "start_time": "2022-08-04T12:36:01.736Z"
   },
   {
    "duration": 13,
    "start_time": "2022-08-04T12:36:02.032Z"
   },
   {
    "duration": 33,
    "start_time": "2022-08-04T12:36:18.035Z"
   },
   {
    "duration": 14,
    "start_time": "2022-08-04T12:36:19.029Z"
   },
   {
    "duration": 1146,
    "start_time": "2022-08-04T12:36:23.755Z"
   },
   {
    "duration": 31,
    "start_time": "2022-08-04T12:36:24.903Z"
   },
   {
    "duration": 21,
    "start_time": "2022-08-04T12:36:24.936Z"
   },
   {
    "duration": 11,
    "start_time": "2022-08-04T12:36:24.959Z"
   },
   {
    "duration": 11,
    "start_time": "2022-08-04T12:36:24.971Z"
   },
   {
    "duration": 6,
    "start_time": "2022-08-04T12:36:24.984Z"
   },
   {
    "duration": 24,
    "start_time": "2022-08-04T12:36:24.991Z"
   },
   {
    "duration": 4,
    "start_time": "2022-08-04T12:36:25.017Z"
   },
   {
    "duration": 9,
    "start_time": "2022-08-04T12:36:25.023Z"
   },
   {
    "duration": 38,
    "start_time": "2022-08-04T12:36:25.035Z"
   },
   {
    "duration": 100,
    "start_time": "2022-08-04T12:36:25.075Z"
   },
   {
    "duration": 100,
    "start_time": "2022-08-04T12:36:25.177Z"
   },
   {
    "duration": 6,
    "start_time": "2022-08-04T12:36:25.279Z"
   },
   {
    "duration": 86,
    "start_time": "2022-08-04T12:36:25.286Z"
   },
   {
    "duration": 103,
    "start_time": "2022-08-04T12:36:25.373Z"
   },
   {
    "duration": 3,
    "start_time": "2022-08-04T12:36:25.568Z"
   },
   {
    "duration": 19,
    "start_time": "2022-08-04T12:36:25.573Z"
   },
   {
    "duration": 17,
    "start_time": "2022-08-04T12:36:25.667Z"
   },
   {
    "duration": 1028,
    "start_time": "2022-08-07T20:12:14.775Z"
   },
   {
    "duration": 71,
    "start_time": "2022-08-07T20:12:15.805Z"
   },
   {
    "duration": 23,
    "start_time": "2022-08-07T20:12:15.878Z"
   },
   {
    "duration": 13,
    "start_time": "2022-08-07T20:12:15.903Z"
   },
   {
    "duration": 11,
    "start_time": "2022-08-07T20:12:15.918Z"
   },
   {
    "duration": 9,
    "start_time": "2022-08-07T20:12:15.931Z"
   },
   {
    "duration": 33,
    "start_time": "2022-08-07T20:12:15.942Z"
   },
   {
    "duration": 4,
    "start_time": "2022-08-07T20:12:15.978Z"
   },
   {
    "duration": 5,
    "start_time": "2022-08-07T20:12:16.008Z"
   },
   {
    "duration": 93,
    "start_time": "2022-08-07T20:12:16.015Z"
   },
   {
    "duration": 100,
    "start_time": "2022-08-07T20:12:16.111Z"
   },
   {
    "duration": 27,
    "start_time": "2022-08-07T20:12:16.214Z"
   },
   {
    "duration": 66,
    "start_time": "2022-08-07T20:12:16.243Z"
   },
   {
    "duration": 16,
    "start_time": "2022-08-07T20:12:16.312Z"
   },
   {
    "duration": 113,
    "start_time": "2022-08-07T20:12:16.409Z"
   },
   {
    "duration": 18,
    "start_time": "2022-08-07T20:12:16.523Z"
   },
   {
    "duration": 66,
    "start_time": "2022-08-07T20:12:16.544Z"
   },
   {
    "duration": 99,
    "start_time": "2022-08-07T20:12:16.612Z"
   }
  ],
  "kernelspec": {
   "display_name": "Python 3 (ipykernel)",
   "language": "python",
   "name": "python3"
  },
  "language_info": {
   "codemirror_mode": {
    "name": "ipython",
    "version": 3
   },
   "file_extension": ".py",
   "mimetype": "text/x-python",
   "name": "python",
   "nbconvert_exporter": "python",
   "pygments_lexer": "ipython3",
   "version": "3.9.5"
  },
  "toc": {
   "base_numbering": 1,
   "nav_menu": {},
   "number_sections": true,
   "sideBar": true,
   "skip_h1_title": true,
   "title_cell": "Содержание",
   "title_sidebar": "Contents",
   "toc_cell": true,
   "toc_position": {},
   "toc_section_display": true,
   "toc_window_display": true
  }
 },
 "nbformat": 4,
 "nbformat_minor": 2
}

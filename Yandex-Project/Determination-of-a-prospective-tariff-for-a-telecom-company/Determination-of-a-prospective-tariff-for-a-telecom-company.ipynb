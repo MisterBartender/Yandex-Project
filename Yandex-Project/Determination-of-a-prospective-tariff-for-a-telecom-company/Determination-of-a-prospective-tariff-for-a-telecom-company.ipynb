{
 "cells": [
  {
   "cell_type": "markdown",
   "metadata": {},
   "source": [
    "# Определение перспективного тарифа для телеком-компании"
   ]
  },
  {
   "cell_type": "markdown",
   "metadata": {},
   "source": [
    "Клиентам предлагают два тарифных плана: «Смарт» и «Ультра». Чтобы скорректировать рекламный бюджет, коммерческий департамент хочет понять, какой тариф приносит больше денег.\n",
    "\n",
    "В этом проекте предстоит сделать предварительный анализ тарифов на небольшой выборке клиентов на основе данных 500 пользователей «Мегалайна». Нужно проанализировать поведение клиентов и сделать вывод — какой тариф лучше.\n",
    "\n",
    "**Описание тарифов**\n",
    "\n",
    "Тариф **«Смарт»**\n",
    " - Ежемесячная плата: 550 рублей\n",
    " - Включено 500 минут разговора, 50 сообщений и 15 Гб интернет-трафика\n",
    " - Стоимость услуг сверх тарифного пакета: минута разговора: 3 рубля; сообщение: 3 рубля\n",
    " - 1 Гб интернет-трафика: 200 рублей\n",
    " \n",
    "Тариф **«Ультра»**\n",
    " - Ежемесячная плата: 1950 рублей\n",
    " - Включено 3000 минут разговора, 1000 сообщений и 30 Гб интернет-трафика\n",
    " - Стоимость услуг сверх тарифного пакета: минута разговора: 1 рубль; сообщение: 1 рубль\n",
    " - 1 Гб интернет-трафика: 150 рублей\n",
    " \n",
    " **Необходимо посчитать для каждого пользователя:**\n",
    " - количество сделанных звонков и израсходованных минут разговора по месяцам;\n",
    " - количество отправленных сообщений по месяцам;\n",
    " - объем израсходованного интернет-трафика по месяцам;\n",
    " - помесячную выручку с каждого пользователя (вычтите бесплатный лимит из суммарного количества звонков, сообщений и интернет\n",
    " - трафика; остаток умножьте на значение из тарифного плана; прибавьте абонентскую плату, соответствующую тарифному плану).\n",
    "\n",
    "**Цель исследования** - проверить гипотезы\n",
    " - средняя выручка пользователей тарифов «Ультра» и «Смарт» различаются;\n",
    " - средняя выручка пользователей из Москвы отличается от выручки пользователей из других регионов.\n",
    "\n",
    "**Ход исследования**\n",
    "\n",
    "[1 Изучение данных из файлов](#section1) (Загрузка данных, импорт необходимых библиотек)\n",
    "\n",
    " - [1.1 Общая информация и предобработка данных](#section1.1) (Просмотрт общей информации и предобработка данных в соответствующей таблице) \n",
    " \n",
    "  - [users](#section1.1.1)\n",
    "  - [tariffs](#section1.1.2)\n",
    "  - [messages](#section1.1.3)\n",
    "  - [internet](#section1.1.4)\n",
    "  - [calls](#section1.1.5)\n",
    "  \n",
    " - [1.2 Рассчеты данных](#section1.2) - Определение для каждого пользователя выручки в месяц\n",
    " \n",
    "[2 Анализ данных](#section2) - ответ на вопрос: \"Сколько пользователю требуется минут общения, кол-ва сообщений и интернет трафика в среднем в месяц\"\n",
    "\n",
    "[3 Проверка гипотез](#section3)\n",
    " - [средняя выручка пользователей тарифов «Ультра» и «Смарт» различаются](#section3.2)\n",
    " - [средняя выручка пользователей из Москвы отличается от выручки пользователей из других регионов](#section3.2)\n",
    " \n",
    "[4 Общий вывод](#section4)"
   ]
  },
  {
   "cell_type": "markdown",
   "metadata": {},
   "source": [
    "<a id='section1'></a>\n",
    "## Изучение данных из файлов"
   ]
  },
  {
   "cell_type": "code",
   "execution_count": 1,
   "metadata": {},
   "outputs": [],
   "source": [
    "# импорт библиотеки\n",
    "import pandas as pd\n",
    "import matplotlib.pyplot as plt\n",
    "%matplotlib inline\n",
    "import numpy as np\n",
    "import seaborn as sns\n",
    "sns.set(color_codes=True)\n",
    "from scipy import stats as st"
   ]
  },
  {
   "cell_type": "code",
   "execution_count": 2,
   "metadata": {},
   "outputs": [],
   "source": [
    "# сохраним датасеты в переменные\n",
    "calls = pd.read_csv('/datasets/calls.csv')\n",
    "internet = pd.read_csv('/datasets/internet.csv', index_col=0)\n",
    "messages = pd.read_csv('/datasets/messages.csv')\n",
    "tariffs = pd.read_csv('/datasets/tariffs.csv')\n",
    "users = pd.read_csv('/datasets/users.csv')"
   ]
  },
  {
   "cell_type": "markdown",
   "metadata": {},
   "source": [
    "<a id='section1.1'></a>\n",
    "### Общая информация и предобработка данных"
   ]
  },
  {
   "cell_type": "markdown",
   "metadata": {},
   "source": [
    "<a id='section1.1.1'></a>\n",
    "#### Таблица users"
   ]
  },
  {
   "cell_type": "code",
   "execution_count": 3,
   "metadata": {},
   "outputs": [
    {
     "data": {
      "text/html": [
       "<div>\n",
       "<style scoped>\n",
       "    .dataframe tbody tr th:only-of-type {\n",
       "        vertical-align: middle;\n",
       "    }\n",
       "\n",
       "    .dataframe tbody tr th {\n",
       "        vertical-align: top;\n",
       "    }\n",
       "\n",
       "    .dataframe thead th {\n",
       "        text-align: right;\n",
       "    }\n",
       "</style>\n",
       "<table border=\"1\" class=\"dataframe\">\n",
       "  <thead>\n",
       "    <tr style=\"text-align: right;\">\n",
       "      <th></th>\n",
       "      <th>user_id</th>\n",
       "      <th>age</th>\n",
       "      <th>churn_date</th>\n",
       "      <th>city</th>\n",
       "      <th>first_name</th>\n",
       "      <th>last_name</th>\n",
       "      <th>reg_date</th>\n",
       "      <th>tariff</th>\n",
       "    </tr>\n",
       "  </thead>\n",
       "  <tbody>\n",
       "    <tr>\n",
       "      <th>329</th>\n",
       "      <td>1329</td>\n",
       "      <td>36</td>\n",
       "      <td>NaN</td>\n",
       "      <td>Набережные Челны</td>\n",
       "      <td>Юна</td>\n",
       "      <td>Золотова</td>\n",
       "      <td>2018-10-08</td>\n",
       "      <td>smart</td>\n",
       "    </tr>\n",
       "    <tr>\n",
       "      <th>403</th>\n",
       "      <td>1403</td>\n",
       "      <td>18</td>\n",
       "      <td>NaN</td>\n",
       "      <td>Брянск</td>\n",
       "      <td>Ахмет</td>\n",
       "      <td>Амелин</td>\n",
       "      <td>2018-05-20</td>\n",
       "      <td>ultra</td>\n",
       "    </tr>\n",
       "    <tr>\n",
       "      <th>158</th>\n",
       "      <td>1158</td>\n",
       "      <td>45</td>\n",
       "      <td>NaN</td>\n",
       "      <td>Новокузнецк</td>\n",
       "      <td>Игорь</td>\n",
       "      <td>Андрейчук</td>\n",
       "      <td>2018-02-03</td>\n",
       "      <td>smart</td>\n",
       "    </tr>\n",
       "    <tr>\n",
       "      <th>189</th>\n",
       "      <td>1189</td>\n",
       "      <td>39</td>\n",
       "      <td>NaN</td>\n",
       "      <td>Санкт-Петербург</td>\n",
       "      <td>Аюна</td>\n",
       "      <td>Зубкова</td>\n",
       "      <td>2018-01-30</td>\n",
       "      <td>smart</td>\n",
       "    </tr>\n",
       "    <tr>\n",
       "      <th>14</th>\n",
       "      <td>1014</td>\n",
       "      <td>64</td>\n",
       "      <td>NaN</td>\n",
       "      <td>Чебоксары</td>\n",
       "      <td>Яков</td>\n",
       "      <td>Акинфьев</td>\n",
       "      <td>2018-05-15</td>\n",
       "      <td>smart</td>\n",
       "    </tr>\n",
       "    <tr>\n",
       "      <th>398</th>\n",
       "      <td>1398</td>\n",
       "      <td>58</td>\n",
       "      <td>NaN</td>\n",
       "      <td>Махачкала</td>\n",
       "      <td>Рауль</td>\n",
       "      <td>Ахмедов</td>\n",
       "      <td>2018-12-06</td>\n",
       "      <td>smart</td>\n",
       "    </tr>\n",
       "    <tr>\n",
       "      <th>220</th>\n",
       "      <td>1220</td>\n",
       "      <td>59</td>\n",
       "      <td>NaN</td>\n",
       "      <td>Ростов-на-Дону</td>\n",
       "      <td>Рубен</td>\n",
       "      <td>Астапов</td>\n",
       "      <td>2018-11-22</td>\n",
       "      <td>smart</td>\n",
       "    </tr>\n",
       "    <tr>\n",
       "      <th>424</th>\n",
       "      <td>1424</td>\n",
       "      <td>27</td>\n",
       "      <td>NaN</td>\n",
       "      <td>Москва</td>\n",
       "      <td>Розалия</td>\n",
       "      <td>Ёрохова</td>\n",
       "      <td>2018-06-20</td>\n",
       "      <td>ultra</td>\n",
       "    </tr>\n",
       "    <tr>\n",
       "      <th>161</th>\n",
       "      <td>1161</td>\n",
       "      <td>65</td>\n",
       "      <td>2018-11-07</td>\n",
       "      <td>Набережные Челны</td>\n",
       "      <td>Татьяна</td>\n",
       "      <td>Голованова</td>\n",
       "      <td>2018-07-03</td>\n",
       "      <td>smart</td>\n",
       "    </tr>\n",
       "    <tr>\n",
       "      <th>256</th>\n",
       "      <td>1256</td>\n",
       "      <td>55</td>\n",
       "      <td>NaN</td>\n",
       "      <td>Санкт-Петербург</td>\n",
       "      <td>Алевтина</td>\n",
       "      <td>Панфилова</td>\n",
       "      <td>2018-09-28</td>\n",
       "      <td>smart</td>\n",
       "    </tr>\n",
       "  </tbody>\n",
       "</table>\n",
       "</div>"
      ],
      "text/plain": [
       "     user_id  age  churn_date              city first_name   last_name  \\\n",
       "329     1329   36         NaN  Набережные Челны        Юна    Золотова   \n",
       "403     1403   18         NaN            Брянск      Ахмет      Амелин   \n",
       "158     1158   45         NaN       Новокузнецк      Игорь   Андрейчук   \n",
       "189     1189   39         NaN   Санкт-Петербург       Аюна     Зубкова   \n",
       "14      1014   64         NaN         Чебоксары       Яков    Акинфьев   \n",
       "398     1398   58         NaN         Махачкала      Рауль     Ахмедов   \n",
       "220     1220   59         NaN    Ростов-на-Дону      Рубен     Астапов   \n",
       "424     1424   27         NaN            Москва    Розалия     Ёрохова   \n",
       "161     1161   65  2018-11-07  Набережные Челны    Татьяна  Голованова   \n",
       "256     1256   55         NaN   Санкт-Петербург   Алевтина   Панфилова   \n",
       "\n",
       "       reg_date tariff  \n",
       "329  2018-10-08  smart  \n",
       "403  2018-05-20  ultra  \n",
       "158  2018-02-03  smart  \n",
       "189  2018-01-30  smart  \n",
       "14   2018-05-15  smart  \n",
       "398  2018-12-06  smart  \n",
       "220  2018-11-22  smart  \n",
       "424  2018-06-20  ultra  \n",
       "161  2018-07-03  smart  \n",
       "256  2018-09-28  smart  "
      ]
     },
     "execution_count": 3,
     "metadata": {},
     "output_type": "execute_result"
    }
   ],
   "source": [
    "# Посмотрим рандомные строки таблицы\n",
    "users.sample(10)"
   ]
  },
  {
   "cell_type": "markdown",
   "metadata": {},
   "source": [
    "Таблица **users** (информация о пользователях):\n",
    " - user_id — уникальный идентификатор пользователя\n",
    " - first_name — имя пользователя\n",
    " - last_name — фамилия пользователя\n",
    " - age — возраст пользователя (годы)\n",
    " - reg_date — дата подключения тарифа (день, месяц, год)\n",
    " - churn_date — дата прекращения пользования тарифом (если значение пропущено, то тариф ещё действовал на момент выгрузки данных)\n",
    " - city — город проживания пользователя\n",
    " - tariff — название тарифного плана"
   ]
  },
  {
   "cell_type": "markdown",
   "metadata": {},
   "source": [
    "Дубликаты"
   ]
  },
  {
   "cell_type": "code",
   "execution_count": 4,
   "metadata": {},
   "outputs": [
    {
     "name": "stdout",
     "output_type": "stream",
     "text": [
      "Число явных дубликатов: 0\n"
     ]
    }
   ],
   "source": [
    "# проверим на явные дубликаты\n",
    "print(f'Число явных дубликатов: {users.duplicated().sum()}')"
   ]
  },
  {
   "cell_type": "markdown",
   "metadata": {},
   "source": [
    "Пропуски"
   ]
  },
  {
   "cell_type": "code",
   "execution_count": 5,
   "metadata": {},
   "outputs": [
    {
     "name": "stdout",
     "output_type": "stream",
     "text": [
      "<class 'pandas.core.frame.DataFrame'>\n",
      "RangeIndex: 500 entries, 0 to 499\n",
      "Data columns (total 8 columns):\n",
      " #   Column      Non-Null Count  Dtype \n",
      "---  ------      --------------  ----- \n",
      " 0   user_id     500 non-null    int64 \n",
      " 1   age         500 non-null    int64 \n",
      " 2   churn_date  38 non-null     object\n",
      " 3   city        500 non-null    object\n",
      " 4   first_name  500 non-null    object\n",
      " 5   last_name   500 non-null    object\n",
      " 6   reg_date    500 non-null    object\n",
      " 7   tariff      500 non-null    object\n",
      "dtypes: int64(2), object(6)\n",
      "memory usage: 31.4+ KB\n"
     ]
    }
   ],
   "source": [
    "users.info()"
   ]
  },
  {
   "cell_type": "markdown",
   "metadata": {},
   "source": [
    "Пропуски только в столбце \"churrn_date\", из условия - это данные прекращения пользования тарифом, можно сделать вывод, что на момент выгрузки данных, тариф был активен, по причине ненадобности этих данных, предположу, что пока можно оставить без изменения."
   ]
  },
  {
   "cell_type": "markdown",
   "metadata": {},
   "source": [
    "Изменим тип данных в **red_date**"
   ]
  },
  {
   "cell_type": "code",
   "execution_count": 6,
   "metadata": {},
   "outputs": [],
   "source": [
    "users['reg_date'] = pd.to_datetime(users['reg_date'], format = '%Y-%m-%dT%H:%M:%S')"
   ]
  },
  {
   "cell_type": "code",
   "execution_count": 7,
   "metadata": {},
   "outputs": [],
   "source": [
    "# переименую столбец tariff в tariff_name, чтобы различать его с таблицей\n",
    "users.rename(columns = {'tariff' : 'tariff_name'}, inplace = True)"
   ]
  },
  {
   "cell_type": "markdown",
   "metadata": {},
   "source": [
    "Посмотрим результат"
   ]
  },
  {
   "cell_type": "code",
   "execution_count": 8,
   "metadata": {},
   "outputs": [
    {
     "data": {
      "text/html": [
       "<div>\n",
       "<style scoped>\n",
       "    .dataframe tbody tr th:only-of-type {\n",
       "        vertical-align: middle;\n",
       "    }\n",
       "\n",
       "    .dataframe tbody tr th {\n",
       "        vertical-align: top;\n",
       "    }\n",
       "\n",
       "    .dataframe thead th {\n",
       "        text-align: right;\n",
       "    }\n",
       "</style>\n",
       "<table border=\"1\" class=\"dataframe\">\n",
       "  <thead>\n",
       "    <tr style=\"text-align: right;\">\n",
       "      <th></th>\n",
       "      <th>user_id</th>\n",
       "      <th>age</th>\n",
       "      <th>churn_date</th>\n",
       "      <th>city</th>\n",
       "      <th>first_name</th>\n",
       "      <th>last_name</th>\n",
       "      <th>reg_date</th>\n",
       "      <th>tariff_name</th>\n",
       "    </tr>\n",
       "  </thead>\n",
       "  <tbody>\n",
       "    <tr>\n",
       "      <th>113</th>\n",
       "      <td>1113</td>\n",
       "      <td>52</td>\n",
       "      <td>NaN</td>\n",
       "      <td>Чита</td>\n",
       "      <td>Харитон</td>\n",
       "      <td>Булгаков</td>\n",
       "      <td>2018-01-24</td>\n",
       "      <td>smart</td>\n",
       "    </tr>\n",
       "    <tr>\n",
       "      <th>16</th>\n",
       "      <td>1016</td>\n",
       "      <td>58</td>\n",
       "      <td>NaN</td>\n",
       "      <td>Омск</td>\n",
       "      <td>Марица</td>\n",
       "      <td>Сазонова</td>\n",
       "      <td>2018-11-21</td>\n",
       "      <td>ultra</td>\n",
       "    </tr>\n",
       "    <tr>\n",
       "      <th>235</th>\n",
       "      <td>1235</td>\n",
       "      <td>26</td>\n",
       "      <td>NaN</td>\n",
       "      <td>Москва</td>\n",
       "      <td>Агафья</td>\n",
       "      <td>Басова</td>\n",
       "      <td>2018-10-06</td>\n",
       "      <td>smart</td>\n",
       "    </tr>\n",
       "    <tr>\n",
       "      <th>334</th>\n",
       "      <td>1334</td>\n",
       "      <td>45</td>\n",
       "      <td>NaN</td>\n",
       "      <td>Владивосток</td>\n",
       "      <td>Пётр</td>\n",
       "      <td>Минаев</td>\n",
       "      <td>2018-11-16</td>\n",
       "      <td>smart</td>\n",
       "    </tr>\n",
       "    <tr>\n",
       "      <th>65</th>\n",
       "      <td>1065</td>\n",
       "      <td>53</td>\n",
       "      <td>2018-12-09</td>\n",
       "      <td>Москва</td>\n",
       "      <td>Роза</td>\n",
       "      <td>Игнатова</td>\n",
       "      <td>2018-03-08</td>\n",
       "      <td>smart</td>\n",
       "    </tr>\n",
       "  </tbody>\n",
       "</table>\n",
       "</div>"
      ],
      "text/plain": [
       "     user_id  age  churn_date         city first_name last_name   reg_date  \\\n",
       "113     1113   52         NaN         Чита    Харитон  Булгаков 2018-01-24   \n",
       "16      1016   58         NaN         Омск     Марица  Сазонова 2018-11-21   \n",
       "235     1235   26         NaN       Москва     Агафья    Басова 2018-10-06   \n",
       "334     1334   45         NaN  Владивосток       Пётр    Минаев 2018-11-16   \n",
       "65      1065   53  2018-12-09       Москва       Роза  Игнатова 2018-03-08   \n",
       "\n",
       "    tariff_name  \n",
       "113       smart  \n",
       "16        ultra  \n",
       "235       smart  \n",
       "334       smart  \n",
       "65        smart  "
      ]
     },
     "execution_count": 8,
     "metadata": {},
     "output_type": "execute_result"
    }
   ],
   "source": [
    "users.sample(5)"
   ]
  },
  {
   "cell_type": "markdown",
   "metadata": {},
   "source": [
    "<a id='section1.1.2'></a>\n",
    "#### Таблица tariffs"
   ]
  },
  {
   "cell_type": "code",
   "execution_count": 9,
   "metadata": {},
   "outputs": [
    {
     "data": {
      "text/html": [
       "<div>\n",
       "<style scoped>\n",
       "    .dataframe tbody tr th:only-of-type {\n",
       "        vertical-align: middle;\n",
       "    }\n",
       "\n",
       "    .dataframe tbody tr th {\n",
       "        vertical-align: top;\n",
       "    }\n",
       "\n",
       "    .dataframe thead th {\n",
       "        text-align: right;\n",
       "    }\n",
       "</style>\n",
       "<table border=\"1\" class=\"dataframe\">\n",
       "  <thead>\n",
       "    <tr style=\"text-align: right;\">\n",
       "      <th></th>\n",
       "      <th>messages_included</th>\n",
       "      <th>mb_per_month_included</th>\n",
       "      <th>minutes_included</th>\n",
       "      <th>rub_monthly_fee</th>\n",
       "      <th>rub_per_gb</th>\n",
       "      <th>rub_per_message</th>\n",
       "      <th>rub_per_minute</th>\n",
       "      <th>tariff_name</th>\n",
       "    </tr>\n",
       "  </thead>\n",
       "  <tbody>\n",
       "    <tr>\n",
       "      <th>0</th>\n",
       "      <td>50</td>\n",
       "      <td>15360</td>\n",
       "      <td>500</td>\n",
       "      <td>550</td>\n",
       "      <td>200</td>\n",
       "      <td>3</td>\n",
       "      <td>3</td>\n",
       "      <td>smart</td>\n",
       "    </tr>\n",
       "    <tr>\n",
       "      <th>1</th>\n",
       "      <td>1000</td>\n",
       "      <td>30720</td>\n",
       "      <td>3000</td>\n",
       "      <td>1950</td>\n",
       "      <td>150</td>\n",
       "      <td>1</td>\n",
       "      <td>1</td>\n",
       "      <td>ultra</td>\n",
       "    </tr>\n",
       "  </tbody>\n",
       "</table>\n",
       "</div>"
      ],
      "text/plain": [
       "   messages_included  mb_per_month_included  minutes_included  \\\n",
       "0                 50                  15360               500   \n",
       "1               1000                  30720              3000   \n",
       "\n",
       "   rub_monthly_fee  rub_per_gb  rub_per_message  rub_per_minute tariff_name  \n",
       "0              550         200                3               3       smart  \n",
       "1             1950         150                1               1       ultra  "
      ]
     },
     "execution_count": 9,
     "metadata": {},
     "output_type": "execute_result"
    }
   ],
   "source": [
    "tariffs"
   ]
  },
  {
   "cell_type": "markdown",
   "metadata": {},
   "source": [
    "Таблица **tariffs** (информация о тарифах):\n",
    " - tariff_name — название тарифа\n",
    " - rub_monthly_fee — ежемесячная абонентская плата в рублях\n",
    " - minutes_included — количество минут разговора в месяц, включённых в абонентскую плату\n",
    " - messages_included — количество сообщений в месяц, включённых в абонентскую плату\n",
    " - mb_per_month_included — объём интернет-трафика, включённого в абонентскую плату (в мегабайтах)\n",
    " - rub_per_minute — стоимость минуты разговора сверх тарифного пакета (например, если в тарифе 100 минут разговора в месяц, то со  101 минуты будет взиматься плата)\n",
    " - rub_per_message — стоимость отправки сообщения сверх тарифного пакета\n",
    " - rub_per_gb — стоимость дополнительного гигабайта интернет-трафика сверх тарифного пакета (1 гигабайт = 1024 мегабайта)"
   ]
  },
  {
   "cell_type": "code",
   "execution_count": 10,
   "metadata": {},
   "outputs": [
    {
     "name": "stdout",
     "output_type": "stream",
     "text": [
      "<class 'pandas.core.frame.DataFrame'>\n",
      "RangeIndex: 2 entries, 0 to 1\n",
      "Data columns (total 8 columns):\n",
      " #   Column                 Non-Null Count  Dtype \n",
      "---  ------                 --------------  ----- \n",
      " 0   messages_included      2 non-null      int64 \n",
      " 1   mb_per_month_included  2 non-null      int64 \n",
      " 2   minutes_included       2 non-null      int64 \n",
      " 3   rub_monthly_fee        2 non-null      int64 \n",
      " 4   rub_per_gb             2 non-null      int64 \n",
      " 5   rub_per_message        2 non-null      int64 \n",
      " 6   rub_per_minute         2 non-null      int64 \n",
      " 7   tariff_name            2 non-null      object\n",
      "dtypes: int64(7), object(1)\n",
      "memory usage: 256.0+ bytes\n"
     ]
    }
   ],
   "source": [
    "tariffs.info()"
   ]
  },
  {
   "cell_type": "markdown",
   "metadata": {},
   "source": [
    "Таблица имеет общую информацию по тарифам, оставляем как есть"
   ]
  },
  {
   "cell_type": "markdown",
   "metadata": {},
   "source": [
    "<a id='section1.1.3'></a>\n",
    "#### Таблица messages"
   ]
  },
  {
   "cell_type": "markdown",
   "metadata": {},
   "source": [
    "Посмотрим таблицу и информацию по ней"
   ]
  },
  {
   "cell_type": "code",
   "execution_count": 11,
   "metadata": {},
   "outputs": [
    {
     "name": "stdout",
     "output_type": "stream",
     "text": [
      "<class 'pandas.core.frame.DataFrame'>\n",
      "RangeIndex: 123036 entries, 0 to 123035\n",
      "Data columns (total 3 columns):\n",
      " #   Column        Non-Null Count   Dtype \n",
      "---  ------        --------------   ----- \n",
      " 0   id            123036 non-null  object\n",
      " 1   message_date  123036 non-null  object\n",
      " 2   user_id       123036 non-null  int64 \n",
      "dtypes: int64(1), object(2)\n",
      "memory usage: 2.8+ MB\n"
     ]
    }
   ],
   "source": [
    "messages.info()"
   ]
  },
  {
   "cell_type": "code",
   "execution_count": 12,
   "metadata": {},
   "outputs": [
    {
     "data": {
      "text/html": [
       "<div>\n",
       "<style scoped>\n",
       "    .dataframe tbody tr th:only-of-type {\n",
       "        vertical-align: middle;\n",
       "    }\n",
       "\n",
       "    .dataframe tbody tr th {\n",
       "        vertical-align: top;\n",
       "    }\n",
       "\n",
       "    .dataframe thead th {\n",
       "        text-align: right;\n",
       "    }\n",
       "</style>\n",
       "<table border=\"1\" class=\"dataframe\">\n",
       "  <thead>\n",
       "    <tr style=\"text-align: right;\">\n",
       "      <th></th>\n",
       "      <th>id</th>\n",
       "      <th>message_date</th>\n",
       "      <th>user_id</th>\n",
       "    </tr>\n",
       "  </thead>\n",
       "  <tbody>\n",
       "    <tr>\n",
       "      <th>46849</th>\n",
       "      <td>1203_234</td>\n",
       "      <td>2018-11-08</td>\n",
       "      <td>1203</td>\n",
       "    </tr>\n",
       "    <tr>\n",
       "      <th>56787</th>\n",
       "      <td>1251_251</td>\n",
       "      <td>2018-08-07</td>\n",
       "      <td>1251</td>\n",
       "    </tr>\n",
       "    <tr>\n",
       "      <th>75801</th>\n",
       "      <td>1321_79</td>\n",
       "      <td>2018-12-21</td>\n",
       "      <td>1321</td>\n",
       "    </tr>\n",
       "    <tr>\n",
       "      <th>33555</th>\n",
       "      <td>1146_353</td>\n",
       "      <td>2018-09-13</td>\n",
       "      <td>1146</td>\n",
       "    </tr>\n",
       "    <tr>\n",
       "      <th>72207</th>\n",
       "      <td>1304_3</td>\n",
       "      <td>2018-12-06</td>\n",
       "      <td>1304</td>\n",
       "    </tr>\n",
       "  </tbody>\n",
       "</table>\n",
       "</div>"
      ],
      "text/plain": [
       "             id message_date  user_id\n",
       "46849  1203_234   2018-11-08     1203\n",
       "56787  1251_251   2018-08-07     1251\n",
       "75801   1321_79   2018-12-21     1321\n",
       "33555  1146_353   2018-09-13     1146\n",
       "72207    1304_3   2018-12-06     1304"
      ]
     },
     "execution_count": 12,
     "metadata": {},
     "output_type": "execute_result"
    }
   ],
   "source": [
    "messages.sample(5)"
   ]
  },
  {
   "cell_type": "markdown",
   "metadata": {},
   "source": [
    "Таблица **messages** (информация о сообщениях):\n",
    " - id — уникальный номер сообщения\n",
    " - message_date — дата сообщения\n",
    " - user_id — идентификатор пользователя, отправившего сообщение"
   ]
  },
  {
   "cell_type": "markdown",
   "metadata": {},
   "source": [
    "пропусков нет\n",
    "\n",
    "приведем **message_date** к нужному типу данных"
   ]
  },
  {
   "cell_type": "code",
   "execution_count": 13,
   "metadata": {},
   "outputs": [],
   "source": [
    "messages['message_date'] = pd.to_datetime(messages['message_date'], format = '%Y-%m-%dT%H:%M:%S')"
   ]
  },
  {
   "cell_type": "code",
   "execution_count": 14,
   "metadata": {},
   "outputs": [
    {
     "name": "stdout",
     "output_type": "stream",
     "text": [
      "<class 'pandas.core.frame.DataFrame'>\n",
      "RangeIndex: 123036 entries, 0 to 123035\n",
      "Data columns (total 3 columns):\n",
      " #   Column        Non-Null Count   Dtype         \n",
      "---  ------        --------------   -----         \n",
      " 0   id            123036 non-null  object        \n",
      " 1   message_date  123036 non-null  datetime64[ns]\n",
      " 2   user_id       123036 non-null  int64         \n",
      "dtypes: datetime64[ns](1), int64(1), object(1)\n",
      "memory usage: 2.8+ MB\n"
     ]
    }
   ],
   "source": [
    "# проверим\n",
    "messages.info()"
   ]
  },
  {
   "cell_type": "markdown",
   "metadata": {},
   "source": [
    "<a id='section1.1.4'></a>\n",
    "####  Таблица internet"
   ]
  },
  {
   "cell_type": "markdown",
   "metadata": {},
   "source": [
    "Посмотрим таблицу и информацию по ней"
   ]
  },
  {
   "cell_type": "code",
   "execution_count": 15,
   "metadata": {},
   "outputs": [
    {
     "data": {
      "text/html": [
       "<div>\n",
       "<style scoped>\n",
       "    .dataframe tbody tr th:only-of-type {\n",
       "        vertical-align: middle;\n",
       "    }\n",
       "\n",
       "    .dataframe tbody tr th {\n",
       "        vertical-align: top;\n",
       "    }\n",
       "\n",
       "    .dataframe thead th {\n",
       "        text-align: right;\n",
       "    }\n",
       "</style>\n",
       "<table border=\"1\" class=\"dataframe\">\n",
       "  <thead>\n",
       "    <tr style=\"text-align: right;\">\n",
       "      <th></th>\n",
       "      <th>id</th>\n",
       "      <th>mb_used</th>\n",
       "      <th>session_date</th>\n",
       "      <th>user_id</th>\n",
       "    </tr>\n",
       "  </thead>\n",
       "  <tbody>\n",
       "    <tr>\n",
       "      <th>51101</th>\n",
       "      <td>1174_309</td>\n",
       "      <td>745.22</td>\n",
       "      <td>2018-07-05</td>\n",
       "      <td>1174</td>\n",
       "    </tr>\n",
       "    <tr>\n",
       "      <th>99392</th>\n",
       "      <td>1332_366</td>\n",
       "      <td>475.51</td>\n",
       "      <td>2018-09-16</td>\n",
       "      <td>1332</td>\n",
       "    </tr>\n",
       "    <tr>\n",
       "      <th>131378</th>\n",
       "      <td>1436_344</td>\n",
       "      <td>746.90</td>\n",
       "      <td>2018-11-30</td>\n",
       "      <td>1436</td>\n",
       "    </tr>\n",
       "    <tr>\n",
       "      <th>63867</th>\n",
       "      <td>1217_435</td>\n",
       "      <td>0.00</td>\n",
       "      <td>2018-04-25</td>\n",
       "      <td>1217</td>\n",
       "    </tr>\n",
       "    <tr>\n",
       "      <th>148628</th>\n",
       "      <td>1496_576</td>\n",
       "      <td>124.98</td>\n",
       "      <td>2018-08-10</td>\n",
       "      <td>1496</td>\n",
       "    </tr>\n",
       "  </tbody>\n",
       "</table>\n",
       "</div>"
      ],
      "text/plain": [
       "              id  mb_used session_date  user_id\n",
       "51101   1174_309   745.22   2018-07-05     1174\n",
       "99392   1332_366   475.51   2018-09-16     1332\n",
       "131378  1436_344   746.90   2018-11-30     1436\n",
       "63867   1217_435     0.00   2018-04-25     1217\n",
       "148628  1496_576   124.98   2018-08-10     1496"
      ]
     },
     "execution_count": 15,
     "metadata": {},
     "output_type": "execute_result"
    }
   ],
   "source": [
    "internet.sample(5)"
   ]
  },
  {
   "cell_type": "markdown",
   "metadata": {},
   "source": [
    "Таблица **internet** (информация об интернет-сессиях):\n",
    " - id — уникальный номер сессии\n",
    " - mb_used — объём потраченного за сессию интернет-трафика (в мегабайтах)\n",
    " - session_date — дата интернет-сессии\n",
    " - user_id — идентификатор пользователя"
   ]
  },
  {
   "cell_type": "code",
   "execution_count": 16,
   "metadata": {},
   "outputs": [
    {
     "name": "stdout",
     "output_type": "stream",
     "text": [
      "<class 'pandas.core.frame.DataFrame'>\n",
      "Int64Index: 149396 entries, 0 to 149395\n",
      "Data columns (total 4 columns):\n",
      " #   Column        Non-Null Count   Dtype  \n",
      "---  ------        --------------   -----  \n",
      " 0   id            149396 non-null  object \n",
      " 1   mb_used       149396 non-null  float64\n",
      " 2   session_date  149396 non-null  object \n",
      " 3   user_id       149396 non-null  int64  \n",
      "dtypes: float64(1), int64(1), object(2)\n",
      "memory usage: 5.7+ MB\n"
     ]
    }
   ],
   "source": [
    "internet.info()"
   ]
  },
  {
   "cell_type": "markdown",
   "metadata": {},
   "source": [
    "пропусков нет\n",
    "\n",
    "приведем **session_date** к нужному типу данных"
   ]
  },
  {
   "cell_type": "code",
   "execution_count": 17,
   "metadata": {},
   "outputs": [],
   "source": [
    "internet['session_date'] = pd.to_datetime(internet['session_date'], format = '%Y-%m-%dT%H:%M:%S')"
   ]
  },
  {
   "cell_type": "markdown",
   "metadata": {},
   "source": [
    "Посмотрим на распределение использования интернет-трафика"
   ]
  },
  {
   "cell_type": "code",
   "execution_count": 18,
   "metadata": {},
   "outputs": [
    {
     "data": {
      "image/png": "[encoded data removed]",
      "text/plain": [
       "<Figure size 648x360 with 1 Axes>"
      ]
     },
     "metadata": {},
     "output_type": "display_data"
    }
   ],
   "source": [
    "internet['mb_used'].plot(kind='hist', ec='black', bins=44, figsize = (9,5))\n",
    "plt.title('Распределение расхода трафика')\n",
    "plt.xlabel('Кол-во трафика за сессию')\n",
    "plt.ylabel('Всего записей')\n",
    "plt.show()"
   ]
  },
  {
   "cell_type": "markdown",
   "metadata": {},
   "source": [
    "Достаточно много занчений около нуля. Так по условию задачи \"Мегалайн\" - округлять использования трафика и звонков в большую сторону, сделаем это с помощью np.ceil:"
   ]
  },
  {
   "cell_type": "code",
   "execution_count": 19,
   "metadata": {},
   "outputs": [],
   "source": [
    "internet['mb_used'] = internet['mb_used'].apply(np.ceil)\n",
    "# отбросим дробную часть\n",
    "internet['mb_used'] = internet['mb_used'].astype(int)"
   ]
  },
  {
   "cell_type": "markdown",
   "metadata": {},
   "source": [
    "Проверим сколько нулевых значений осталось"
   ]
  },
  {
   "cell_type": "code",
   "execution_count": 20,
   "metadata": {},
   "outputs": [
    {
     "data": {
      "text/html": [
       "<div>\n",
       "<style scoped>\n",
       "    .dataframe tbody tr th:only-of-type {\n",
       "        vertical-align: middle;\n",
       "    }\n",
       "\n",
       "    .dataframe tbody tr th {\n",
       "        vertical-align: top;\n",
       "    }\n",
       "\n",
       "    .dataframe thead th {\n",
       "        text-align: right;\n",
       "    }\n",
       "</style>\n",
       "<table border=\"1\" class=\"dataframe\">\n",
       "  <thead>\n",
       "    <tr style=\"text-align: right;\">\n",
       "      <th></th>\n",
       "      <th>id</th>\n",
       "      <th>mb_used</th>\n",
       "      <th>session_date</th>\n",
       "      <th>user_id</th>\n",
       "    </tr>\n",
       "  </thead>\n",
       "  <tbody>\n",
       "    <tr>\n",
       "      <th>11</th>\n",
       "      <td>1000_11</td>\n",
       "      <td>0</td>\n",
       "      <td>2018-08-28</td>\n",
       "      <td>1000</td>\n",
       "    </tr>\n",
       "    <tr>\n",
       "      <th>38</th>\n",
       "      <td>1000_38</td>\n",
       "      <td>0</td>\n",
       "      <td>2018-11-27</td>\n",
       "      <td>1000</td>\n",
       "    </tr>\n",
       "    <tr>\n",
       "      <th>46</th>\n",
       "      <td>1000_46</td>\n",
       "      <td>0</td>\n",
       "      <td>2018-06-30</td>\n",
       "      <td>1000</td>\n",
       "    </tr>\n",
       "    <tr>\n",
       "      <th>67</th>\n",
       "      <td>1000_67</td>\n",
       "      <td>0</td>\n",
       "      <td>2018-06-16</td>\n",
       "      <td>1000</td>\n",
       "    </tr>\n",
       "    <tr>\n",
       "      <th>72</th>\n",
       "      <td>1000_72</td>\n",
       "      <td>0</td>\n",
       "      <td>2018-06-15</td>\n",
       "      <td>1000</td>\n",
       "    </tr>\n",
       "    <tr>\n",
       "      <th>...</th>\n",
       "      <td>...</td>\n",
       "      <td>...</td>\n",
       "      <td>...</td>\n",
       "      <td>...</td>\n",
       "    </tr>\n",
       "    <tr>\n",
       "      <th>149380</th>\n",
       "      <td>1499_141</td>\n",
       "      <td>0</td>\n",
       "      <td>2018-12-11</td>\n",
       "      <td>1499</td>\n",
       "    </tr>\n",
       "    <tr>\n",
       "      <th>149381</th>\n",
       "      <td>1499_142</td>\n",
       "      <td>0</td>\n",
       "      <td>2018-11-01</td>\n",
       "      <td>1499</td>\n",
       "    </tr>\n",
       "    <tr>\n",
       "      <th>149383</th>\n",
       "      <td>1499_144</td>\n",
       "      <td>0</td>\n",
       "      <td>2018-11-27</td>\n",
       "      <td>1499</td>\n",
       "    </tr>\n",
       "    <tr>\n",
       "      <th>149386</th>\n",
       "      <td>1499_147</td>\n",
       "      <td>0</td>\n",
       "      <td>2018-10-21</td>\n",
       "      <td>1499</td>\n",
       "    </tr>\n",
       "    <tr>\n",
       "      <th>149393</th>\n",
       "      <td>1499_154</td>\n",
       "      <td>0</td>\n",
       "      <td>2018-10-27</td>\n",
       "      <td>1499</td>\n",
       "    </tr>\n",
       "  </tbody>\n",
       "</table>\n",
       "<p>19598 rows × 4 columns</p>\n",
       "</div>"
      ],
      "text/plain": [
       "              id  mb_used session_date  user_id\n",
       "11       1000_11        0   2018-08-28     1000\n",
       "38       1000_38        0   2018-11-27     1000\n",
       "46       1000_46        0   2018-06-30     1000\n",
       "67       1000_67        0   2018-06-16     1000\n",
       "72       1000_72        0   2018-06-15     1000\n",
       "...          ...      ...          ...      ...\n",
       "149380  1499_141        0   2018-12-11     1499\n",
       "149381  1499_142        0   2018-11-01     1499\n",
       "149383  1499_144        0   2018-11-27     1499\n",
       "149386  1499_147        0   2018-10-21     1499\n",
       "149393  1499_154        0   2018-10-27     1499\n",
       "\n",
       "[19598 rows x 4 columns]"
      ]
     },
     "execution_count": 20,
     "metadata": {},
     "output_type": "execute_result"
    }
   ],
   "source": [
    "internet.query('mb_used == 0')"
   ]
  },
  {
   "cell_type": "markdown",
   "metadata": {},
   "source": [
    "Предположу, что это сессии когда было подключение к интернету, но рафик не расходовался. Эти данные не понадобятся для исследования, но и удалять пока надобности нет, просто оставлю как есть."
   ]
  },
  {
   "cell_type": "markdown",
   "metadata": {},
   "source": [
    "<a id='section1.1.5'></a>\n",
    "#### Таблица calls"
   ]
  },
  {
   "cell_type": "markdown",
   "metadata": {},
   "source": [
    "По аналогии посмотрим информацию и случайные строки"
   ]
  },
  {
   "cell_type": "code",
   "execution_count": 21,
   "metadata": {},
   "outputs": [
    {
     "data": {
      "text/html": [
       "<div>\n",
       "<style scoped>\n",
       "    .dataframe tbody tr th:only-of-type {\n",
       "        vertical-align: middle;\n",
       "    }\n",
       "\n",
       "    .dataframe tbody tr th {\n",
       "        vertical-align: top;\n",
       "    }\n",
       "\n",
       "    .dataframe thead th {\n",
       "        text-align: right;\n",
       "    }\n",
       "</style>\n",
       "<table border=\"1\" class=\"dataframe\">\n",
       "  <thead>\n",
       "    <tr style=\"text-align: right;\">\n",
       "      <th></th>\n",
       "      <th>id</th>\n",
       "      <th>call_date</th>\n",
       "      <th>duration</th>\n",
       "      <th>user_id</th>\n",
       "    </tr>\n",
       "  </thead>\n",
       "  <tbody>\n",
       "    <tr>\n",
       "      <th>106</th>\n",
       "      <td>1000_106</td>\n",
       "      <td>2018-08-13</td>\n",
       "      <td>7.41</td>\n",
       "      <td>1000</td>\n",
       "    </tr>\n",
       "    <tr>\n",
       "      <th>186107</th>\n",
       "      <td>1460_25</td>\n",
       "      <td>2018-07-08</td>\n",
       "      <td>11.02</td>\n",
       "      <td>1460</td>\n",
       "    </tr>\n",
       "    <tr>\n",
       "      <th>194968</th>\n",
       "      <td>1477_716</td>\n",
       "      <td>2018-12-03</td>\n",
       "      <td>0.00</td>\n",
       "      <td>1477</td>\n",
       "    </tr>\n",
       "    <tr>\n",
       "      <th>129637</th>\n",
       "      <td>1331_533</td>\n",
       "      <td>2018-12-13</td>\n",
       "      <td>3.16</td>\n",
       "      <td>1331</td>\n",
       "    </tr>\n",
       "    <tr>\n",
       "      <th>6682</th>\n",
       "      <td>1018_470</td>\n",
       "      <td>2018-12-26</td>\n",
       "      <td>7.28</td>\n",
       "      <td>1018</td>\n",
       "    </tr>\n",
       "  </tbody>\n",
       "</table>\n",
       "</div>"
      ],
      "text/plain": [
       "              id   call_date  duration  user_id\n",
       "106     1000_106  2018-08-13      7.41     1000\n",
       "186107   1460_25  2018-07-08     11.02     1460\n",
       "194968  1477_716  2018-12-03      0.00     1477\n",
       "129637  1331_533  2018-12-13      3.16     1331\n",
       "6682    1018_470  2018-12-26      7.28     1018"
      ]
     },
     "execution_count": 21,
     "metadata": {},
     "output_type": "execute_result"
    }
   ],
   "source": [
    "calls.sample(5)"
   ]
  },
  {
   "cell_type": "markdown",
   "metadata": {},
   "source": [
    "Таблица **calls** (информация о звонках):\n",
    " - id — уникальный номер звонка\n",
    " - call_date — дата звонка\n",
    " - duration — длительность звонка в минутах\n",
    " - user_id — идентификатор пользователя, сделавшего звонок"
   ]
  },
  {
   "cell_type": "code",
   "execution_count": 22,
   "metadata": {},
   "outputs": [
    {
     "name": "stdout",
     "output_type": "stream",
     "text": [
      "<class 'pandas.core.frame.DataFrame'>\n",
      "RangeIndex: 202607 entries, 0 to 202606\n",
      "Data columns (total 4 columns):\n",
      " #   Column     Non-Null Count   Dtype  \n",
      "---  ------     --------------   -----  \n",
      " 0   id         202607 non-null  object \n",
      " 1   call_date  202607 non-null  object \n",
      " 2   duration   202607 non-null  float64\n",
      " 3   user_id    202607 non-null  int64  \n",
      "dtypes: float64(1), int64(1), object(2)\n",
      "memory usage: 6.2+ MB\n"
     ]
    }
   ],
   "source": [
    "calls.info()"
   ]
  },
  {
   "cell_type": "markdown",
   "metadata": {},
   "source": [
    "пропусков нет\n",
    "\n",
    "приведем **call_date** к нужному типу данных"
   ]
  },
  {
   "cell_type": "code",
   "execution_count": 23,
   "metadata": {},
   "outputs": [],
   "source": [
    "calls['call_date'] = pd.to_datetime(calls['call_date'], format = '%Y-%m-%dT%H:%M:%S')"
   ]
  },
  {
   "cell_type": "code",
   "execution_count": 24,
   "metadata": {},
   "outputs": [
    {
     "data": {
      "image/png": "[encoded data removed]",
      "text/plain": [
       "<Figure size 648x360 with 1 Axes>"
      ]
     },
     "metadata": {},
     "output_type": "display_data"
    }
   ],
   "source": [
    "calls['duration'].plot(kind='hist', ec='black', bins=44, figsize = (9,5))\n",
    "plt.title('Распределение звонков')\n",
    "plt.xlabel('Время звонков')\n",
    "plt.ylabel('Всего записей')\n",
    "plt.show()"
   ]
  },
  {
   "cell_type": "markdown",
   "metadata": {},
   "source": [
    "Наблюдается схожая проблема как и с трафиком интернета, для начала так же округлим значения до целого, если есть околонулевые звонки"
   ]
  },
  {
   "cell_type": "code",
   "execution_count": 25,
   "metadata": {},
   "outputs": [],
   "source": [
    "calls['duration'] = calls['duration'].apply(np.ceil)\n",
    "# так же отбросим друбную часть\n",
    "calls['duration'] = calls['duration'].astype(int)"
   ]
  },
  {
   "cell_type": "markdown",
   "metadata": {},
   "source": [
    "Посмотрим на звонки с продолжительность 0 минут"
   ]
  },
  {
   "cell_type": "code",
   "execution_count": 26,
   "metadata": {},
   "outputs": [
    {
     "data": {
      "text/html": [
       "<div>\n",
       "<style scoped>\n",
       "    .dataframe tbody tr th:only-of-type {\n",
       "        vertical-align: middle;\n",
       "    }\n",
       "\n",
       "    .dataframe tbody tr th {\n",
       "        vertical-align: top;\n",
       "    }\n",
       "\n",
       "    .dataframe thead th {\n",
       "        text-align: right;\n",
       "    }\n",
       "</style>\n",
       "<table border=\"1\" class=\"dataframe\">\n",
       "  <thead>\n",
       "    <tr style=\"text-align: right;\">\n",
       "      <th></th>\n",
       "      <th>id</th>\n",
       "      <th>call_date</th>\n",
       "      <th>duration</th>\n",
       "      <th>user_id</th>\n",
       "    </tr>\n",
       "  </thead>\n",
       "  <tbody>\n",
       "    <tr>\n",
       "      <th>0</th>\n",
       "      <td>1000_0</td>\n",
       "      <td>2018-07-25</td>\n",
       "      <td>0</td>\n",
       "      <td>1000</td>\n",
       "    </tr>\n",
       "    <tr>\n",
       "      <th>1</th>\n",
       "      <td>1000_1</td>\n",
       "      <td>2018-08-17</td>\n",
       "      <td>0</td>\n",
       "      <td>1000</td>\n",
       "    </tr>\n",
       "    <tr>\n",
       "      <th>5</th>\n",
       "      <td>1000_5</td>\n",
       "      <td>2018-11-02</td>\n",
       "      <td>0</td>\n",
       "      <td>1000</td>\n",
       "    </tr>\n",
       "    <tr>\n",
       "      <th>6</th>\n",
       "      <td>1000_6</td>\n",
       "      <td>2018-10-18</td>\n",
       "      <td>0</td>\n",
       "      <td>1000</td>\n",
       "    </tr>\n",
       "    <tr>\n",
       "      <th>9</th>\n",
       "      <td>1000_9</td>\n",
       "      <td>2018-08-15</td>\n",
       "      <td>0</td>\n",
       "      <td>1000</td>\n",
       "    </tr>\n",
       "    <tr>\n",
       "      <th>...</th>\n",
       "      <td>...</td>\n",
       "      <td>...</td>\n",
       "      <td>...</td>\n",
       "      <td>...</td>\n",
       "    </tr>\n",
       "    <tr>\n",
       "      <th>202590</th>\n",
       "      <td>1499_203</td>\n",
       "      <td>2018-12-03</td>\n",
       "      <td>0</td>\n",
       "      <td>1499</td>\n",
       "    </tr>\n",
       "    <tr>\n",
       "      <th>202592</th>\n",
       "      <td>1499_205</td>\n",
       "      <td>2018-10-13</td>\n",
       "      <td>0</td>\n",
       "      <td>1499</td>\n",
       "    </tr>\n",
       "    <tr>\n",
       "      <th>202593</th>\n",
       "      <td>1499_206</td>\n",
       "      <td>2018-12-26</td>\n",
       "      <td>0</td>\n",
       "      <td>1499</td>\n",
       "    </tr>\n",
       "    <tr>\n",
       "      <th>202594</th>\n",
       "      <td>1499_207</td>\n",
       "      <td>2018-10-28</td>\n",
       "      <td>0</td>\n",
       "      <td>1499</td>\n",
       "    </tr>\n",
       "    <tr>\n",
       "      <th>202596</th>\n",
       "      <td>1499_209</td>\n",
       "      <td>2018-12-16</td>\n",
       "      <td>0</td>\n",
       "      <td>1499</td>\n",
       "    </tr>\n",
       "  </tbody>\n",
       "</table>\n",
       "<p>39613 rows × 4 columns</p>\n",
       "</div>"
      ],
      "text/plain": [
       "              id  call_date  duration  user_id\n",
       "0         1000_0 2018-07-25         0     1000\n",
       "1         1000_1 2018-08-17         0     1000\n",
       "5         1000_5 2018-11-02         0     1000\n",
       "6         1000_6 2018-10-18         0     1000\n",
       "9         1000_9 2018-08-15         0     1000\n",
       "...          ...        ...       ...      ...\n",
       "202590  1499_203 2018-12-03         0     1499\n",
       "202592  1499_205 2018-10-13         0     1499\n",
       "202593  1499_206 2018-12-26         0     1499\n",
       "202594  1499_207 2018-10-28         0     1499\n",
       "202596  1499_209 2018-12-16         0     1499\n",
       "\n",
       "[39613 rows x 4 columns]"
      ]
     },
     "execution_count": 26,
     "metadata": {},
     "output_type": "execute_result"
    }
   ],
   "source": [
    "calls.query('duration == 0')"
   ]
  },
  {
   "cell_type": "markdown",
   "metadata": {},
   "source": [
    "По условию, данные звонки предполагаю информацию о пропущенных звонках, и удаление не требуется"
   ]
  },
  {
   "cell_type": "markdown",
   "metadata": {},
   "source": [
    "#### Добавление столбцов \"месяц\""
   ]
  },
  {
   "cell_type": "markdown",
   "metadata": {},
   "source": [
    "Добавим стобы \"Месяц\" в таблице со звонками, сообщениями и трафиком интернета"
   ]
  },
  {
   "cell_type": "code",
   "execution_count": 27,
   "metadata": {},
   "outputs": [],
   "source": [
    "calls['month_name'] = calls['call_date'].dt.month_name()\n",
    "internet['month_name'] = internet['session_date'].dt.month_name()\n",
    "messages['month_name'] = messages['message_date'].dt.month_name()"
   ]
  },
  {
   "cell_type": "markdown",
   "metadata": {},
   "source": [
    "Посмотрим на результат"
   ]
  },
  {
   "cell_type": "code",
   "execution_count": 28,
   "metadata": {},
   "outputs": [
    {
     "data": {
      "text/html": [
       "<div>\n",
       "<style scoped>\n",
       "    .dataframe tbody tr th:only-of-type {\n",
       "        vertical-align: middle;\n",
       "    }\n",
       "\n",
       "    .dataframe tbody tr th {\n",
       "        vertical-align: top;\n",
       "    }\n",
       "\n",
       "    .dataframe thead th {\n",
       "        text-align: right;\n",
       "    }\n",
       "</style>\n",
       "<table border=\"1\" class=\"dataframe\">\n",
       "  <thead>\n",
       "    <tr style=\"text-align: right;\">\n",
       "      <th></th>\n",
       "      <th>id</th>\n",
       "      <th>call_date</th>\n",
       "      <th>duration</th>\n",
       "      <th>user_id</th>\n",
       "      <th>month_name</th>\n",
       "    </tr>\n",
       "  </thead>\n",
       "  <tbody>\n",
       "    <tr>\n",
       "      <th>52205</th>\n",
       "      <td>1130_493</td>\n",
       "      <td>2018-04-03</td>\n",
       "      <td>1</td>\n",
       "      <td>1130</td>\n",
       "      <td>April</td>\n",
       "    </tr>\n",
       "    <tr>\n",
       "      <th>30150</th>\n",
       "      <td>1076_442</td>\n",
       "      <td>2018-07-28</td>\n",
       "      <td>1</td>\n",
       "      <td>1076</td>\n",
       "      <td>July</td>\n",
       "    </tr>\n",
       "    <tr>\n",
       "      <th>10671</th>\n",
       "      <td>1027_541</td>\n",
       "      <td>2018-08-27</td>\n",
       "      <td>9</td>\n",
       "      <td>1027</td>\n",
       "      <td>August</td>\n",
       "    </tr>\n",
       "  </tbody>\n",
       "</table>\n",
       "</div>"
      ],
      "text/plain": [
       "             id  call_date  duration  user_id month_name\n",
       "52205  1130_493 2018-04-03         1     1130      April\n",
       "30150  1076_442 2018-07-28         1     1076       July\n",
       "10671  1027_541 2018-08-27         9     1027     August"
      ]
     },
     "execution_count": 28,
     "metadata": {},
     "output_type": "execute_result"
    }
   ],
   "source": [
    "calls.sample(3)"
   ]
  },
  {
   "cell_type": "code",
   "execution_count": 29,
   "metadata": {},
   "outputs": [
    {
     "data": {
      "text/html": [
       "<div>\n",
       "<style scoped>\n",
       "    .dataframe tbody tr th:only-of-type {\n",
       "        vertical-align: middle;\n",
       "    }\n",
       "\n",
       "    .dataframe tbody tr th {\n",
       "        vertical-align: top;\n",
       "    }\n",
       "\n",
       "    .dataframe thead th {\n",
       "        text-align: right;\n",
       "    }\n",
       "</style>\n",
       "<table border=\"1\" class=\"dataframe\">\n",
       "  <thead>\n",
       "    <tr style=\"text-align: right;\">\n",
       "      <th></th>\n",
       "      <th>id</th>\n",
       "      <th>mb_used</th>\n",
       "      <th>session_date</th>\n",
       "      <th>user_id</th>\n",
       "      <th>month_name</th>\n",
       "    </tr>\n",
       "  </thead>\n",
       "  <tbody>\n",
       "    <tr>\n",
       "      <th>28888</th>\n",
       "      <td>1100_254</td>\n",
       "      <td>157</td>\n",
       "      <td>2018-12-29</td>\n",
       "      <td>1100</td>\n",
       "      <td>December</td>\n",
       "    </tr>\n",
       "    <tr>\n",
       "      <th>93121</th>\n",
       "      <td>1314_475</td>\n",
       "      <td>795</td>\n",
       "      <td>2018-08-11</td>\n",
       "      <td>1314</td>\n",
       "      <td>August</td>\n",
       "    </tr>\n",
       "    <tr>\n",
       "      <th>75417</th>\n",
       "      <td>1253_156</td>\n",
       "      <td>434</td>\n",
       "      <td>2018-10-31</td>\n",
       "      <td>1253</td>\n",
       "      <td>October</td>\n",
       "    </tr>\n",
       "  </tbody>\n",
       "</table>\n",
       "</div>"
      ],
      "text/plain": [
       "             id  mb_used session_date  user_id month_name\n",
       "28888  1100_254      157   2018-12-29     1100   December\n",
       "93121  1314_475      795   2018-08-11     1314     August\n",
       "75417  1253_156      434   2018-10-31     1253    October"
      ]
     },
     "execution_count": 29,
     "metadata": {},
     "output_type": "execute_result"
    }
   ],
   "source": [
    "internet.sample(3)"
   ]
  },
  {
   "cell_type": "code",
   "execution_count": 30,
   "metadata": {},
   "outputs": [
    {
     "data": {
      "text/html": [
       "<div>\n",
       "<style scoped>\n",
       "    .dataframe tbody tr th:only-of-type {\n",
       "        vertical-align: middle;\n",
       "    }\n",
       "\n",
       "    .dataframe tbody tr th {\n",
       "        vertical-align: top;\n",
       "    }\n",
       "\n",
       "    .dataframe thead th {\n",
       "        text-align: right;\n",
       "    }\n",
       "</style>\n",
       "<table border=\"1\" class=\"dataframe\">\n",
       "  <thead>\n",
       "    <tr style=\"text-align: right;\">\n",
       "      <th></th>\n",
       "      <th>id</th>\n",
       "      <th>message_date</th>\n",
       "      <th>user_id</th>\n",
       "      <th>month_name</th>\n",
       "    </tr>\n",
       "  </thead>\n",
       "  <tbody>\n",
       "    <tr>\n",
       "      <th>53998</th>\n",
       "      <td>1239_63</td>\n",
       "      <td>2018-07-16</td>\n",
       "      <td>1239</td>\n",
       "      <td>July</td>\n",
       "    </tr>\n",
       "    <tr>\n",
       "      <th>56558</th>\n",
       "      <td>1251_22</td>\n",
       "      <td>2018-04-02</td>\n",
       "      <td>1251</td>\n",
       "      <td>April</td>\n",
       "    </tr>\n",
       "    <tr>\n",
       "      <th>49137</th>\n",
       "      <td>1217_412</td>\n",
       "      <td>2018-03-28</td>\n",
       "      <td>1217</td>\n",
       "      <td>March</td>\n",
       "    </tr>\n",
       "  </tbody>\n",
       "</table>\n",
       "</div>"
      ],
      "text/plain": [
       "             id message_date  user_id month_name\n",
       "53998   1239_63   2018-07-16     1239       July\n",
       "56558   1251_22   2018-04-02     1251      April\n",
       "49137  1217_412   2018-03-28     1217      March"
      ]
     },
     "execution_count": 30,
     "metadata": {},
     "output_type": "execute_result"
    }
   ],
   "source": [
    "messages.sample(3)"
   ]
  },
  {
   "cell_type": "markdown",
   "metadata": {},
   "source": [
    "<a id='section1.2'></a>\n",
    "### Рассчёты данных"
   ]
  },
  {
   "cell_type": "markdown",
   "metadata": {},
   "source": [
    "Из каждого датафрейма возмём необходимую информацию и соеденим в одну таблицу "
   ]
  },
  {
   "cell_type": "code",
   "execution_count": 31,
   "metadata": {},
   "outputs": [],
   "source": [
    "# для звонков\n",
    "total_calls = calls.groupby(['user_id', 'month_name'])['duration'].agg(['count', 'sum'])\n",
    "# для сообщений\n",
    "total_messages = messages.groupby(['user_id', 'month_name'])['id'].count()\n",
    "# для интернет трафика\n",
    "total_internet = internet.groupby(['user_id', 'month_name']).sum()['mb_used']\n",
    "# для пользователей, просто удалим не нужные столбцы\n",
    "total_users = users.drop(columns = ['age', 'churn_date', 'first_name', 'last_name', 'reg_date'], axis=1)"
   ]
  },
  {
   "cell_type": "markdown",
   "metadata": {},
   "source": [
    "Объеденим полученные таблицы в одну "
   ]
  },
  {
   "cell_type": "code",
   "execution_count": 32,
   "metadata": {},
   "outputs": [
    {
     "data": {
      "text/html": [
       "<div>\n",
       "<style scoped>\n",
       "    .dataframe tbody tr th:only-of-type {\n",
       "        vertical-align: middle;\n",
       "    }\n",
       "\n",
       "    .dataframe tbody tr th {\n",
       "        vertical-align: top;\n",
       "    }\n",
       "\n",
       "    .dataframe thead th {\n",
       "        text-align: right;\n",
       "    }\n",
       "</style>\n",
       "<table border=\"1\" class=\"dataframe\">\n",
       "  <thead>\n",
       "    <tr style=\"text-align: right;\">\n",
       "      <th></th>\n",
       "      <th>user_id</th>\n",
       "      <th>month_name</th>\n",
       "      <th>count</th>\n",
       "      <th>sum</th>\n",
       "      <th>id</th>\n",
       "      <th>mb_used</th>\n",
       "    </tr>\n",
       "  </thead>\n",
       "  <tbody>\n",
       "    <tr>\n",
       "      <th>0</th>\n",
       "      <td>1000</td>\n",
       "      <td>August</td>\n",
       "      <td>52.0</td>\n",
       "      <td>408.0</td>\n",
       "      <td>81.0</td>\n",
       "      <td>14070.0</td>\n",
       "    </tr>\n",
       "    <tr>\n",
       "      <th>1</th>\n",
       "      <td>1000</td>\n",
       "      <td>December</td>\n",
       "      <td>46.0</td>\n",
       "      <td>333.0</td>\n",
       "      <td>70.0</td>\n",
       "      <td>9827.0</td>\n",
       "    </tr>\n",
       "    <tr>\n",
       "      <th>2</th>\n",
       "      <td>1000</td>\n",
       "      <td>July</td>\n",
       "      <td>47.0</td>\n",
       "      <td>340.0</td>\n",
       "      <td>75.0</td>\n",
       "      <td>14016.0</td>\n",
       "    </tr>\n",
       "    <tr>\n",
       "      <th>3</th>\n",
       "      <td>1000</td>\n",
       "      <td>June</td>\n",
       "      <td>43.0</td>\n",
       "      <td>172.0</td>\n",
       "      <td>60.0</td>\n",
       "      <td>23257.0</td>\n",
       "    </tr>\n",
       "    <tr>\n",
       "      <th>4</th>\n",
       "      <td>1000</td>\n",
       "      <td>May</td>\n",
       "      <td>22.0</td>\n",
       "      <td>159.0</td>\n",
       "      <td>22.0</td>\n",
       "      <td>2256.0</td>\n",
       "    </tr>\n",
       "  </tbody>\n",
       "</table>\n",
       "</div>"
      ],
      "text/plain": [
       "   user_id month_name  count    sum    id  mb_used\n",
       "0     1000     August   52.0  408.0  81.0  14070.0\n",
       "1     1000   December   46.0  333.0  70.0   9827.0\n",
       "2     1000       July   47.0  340.0  75.0  14016.0\n",
       "3     1000       June   43.0  172.0  60.0  23257.0\n",
       "4     1000        May   22.0  159.0  22.0   2256.0"
      ]
     },
     "execution_count": 32,
     "metadata": {},
     "output_type": "execute_result"
    }
   ],
   "source": [
    "df = pd.concat([total_calls, total_messages, total_internet], axis=1)\n",
    "df = df.reset_index()\n",
    "df.head()"
   ]
  },
  {
   "cell_type": "code",
   "execution_count": 33,
   "metadata": {},
   "outputs": [
    {
     "data": {
      "text/html": [
       "<div>\n",
       "<style scoped>\n",
       "    .dataframe tbody tr th:only-of-type {\n",
       "        vertical-align: middle;\n",
       "    }\n",
       "\n",
       "    .dataframe tbody tr th {\n",
       "        vertical-align: top;\n",
       "    }\n",
       "\n",
       "    .dataframe thead th {\n",
       "        text-align: right;\n",
       "    }\n",
       "</style>\n",
       "<table border=\"1\" class=\"dataframe\">\n",
       "  <thead>\n",
       "    <tr style=\"text-align: right;\">\n",
       "      <th></th>\n",
       "      <th>user_id</th>\n",
       "      <th>month_name</th>\n",
       "      <th>count</th>\n",
       "      <th>sum</th>\n",
       "      <th>id</th>\n",
       "      <th>mb_used</th>\n",
       "    </tr>\n",
       "  </thead>\n",
       "  <tbody>\n",
       "    <tr>\n",
       "      <th>0</th>\n",
       "      <td>1000</td>\n",
       "      <td>August</td>\n",
       "      <td>52.0</td>\n",
       "      <td>408.0</td>\n",
       "      <td>81.0</td>\n",
       "      <td>14070.0</td>\n",
       "    </tr>\n",
       "    <tr>\n",
       "      <th>1</th>\n",
       "      <td>1000</td>\n",
       "      <td>December</td>\n",
       "      <td>46.0</td>\n",
       "      <td>333.0</td>\n",
       "      <td>70.0</td>\n",
       "      <td>9827.0</td>\n",
       "    </tr>\n",
       "    <tr>\n",
       "      <th>2</th>\n",
       "      <td>1000</td>\n",
       "      <td>July</td>\n",
       "      <td>47.0</td>\n",
       "      <td>340.0</td>\n",
       "      <td>75.0</td>\n",
       "      <td>14016.0</td>\n",
       "    </tr>\n",
       "    <tr>\n",
       "      <th>3</th>\n",
       "      <td>1000</td>\n",
       "      <td>June</td>\n",
       "      <td>43.0</td>\n",
       "      <td>172.0</td>\n",
       "      <td>60.0</td>\n",
       "      <td>23257.0</td>\n",
       "    </tr>\n",
       "    <tr>\n",
       "      <th>4</th>\n",
       "      <td>1000</td>\n",
       "      <td>May</td>\n",
       "      <td>22.0</td>\n",
       "      <td>159.0</td>\n",
       "      <td>22.0</td>\n",
       "      <td>2256.0</td>\n",
       "    </tr>\n",
       "    <tr>\n",
       "      <th>...</th>\n",
       "      <td>...</td>\n",
       "      <td>...</td>\n",
       "      <td>...</td>\n",
       "      <td>...</td>\n",
       "      <td>...</td>\n",
       "      <td>...</td>\n",
       "    </tr>\n",
       "    <tr>\n",
       "      <th>3209</th>\n",
       "      <td>1498</td>\n",
       "      <td>September</td>\n",
       "      <td>59.0</td>\n",
       "      <td>471.0</td>\n",
       "      <td>44.0</td>\n",
       "      <td>22166.0</td>\n",
       "    </tr>\n",
       "    <tr>\n",
       "      <th>3210</th>\n",
       "      <td>1499</td>\n",
       "      <td>December</td>\n",
       "      <td>69.0</td>\n",
       "      <td>492.0</td>\n",
       "      <td>66.0</td>\n",
       "      <td>13077.0</td>\n",
       "    </tr>\n",
       "    <tr>\n",
       "      <th>3211</th>\n",
       "      <td>1499</td>\n",
       "      <td>November</td>\n",
       "      <td>74.0</td>\n",
       "      <td>612.0</td>\n",
       "      <td>59.0</td>\n",
       "      <td>17984.0</td>\n",
       "    </tr>\n",
       "    <tr>\n",
       "      <th>3212</th>\n",
       "      <td>1499</td>\n",
       "      <td>October</td>\n",
       "      <td>68.0</td>\n",
       "      <td>449.0</td>\n",
       "      <td>48.0</td>\n",
       "      <td>17809.0</td>\n",
       "    </tr>\n",
       "    <tr>\n",
       "      <th>3213</th>\n",
       "      <td>1499</td>\n",
       "      <td>September</td>\n",
       "      <td>9.0</td>\n",
       "      <td>70.0</td>\n",
       "      <td>11.0</td>\n",
       "      <td>1848.0</td>\n",
       "    </tr>\n",
       "  </tbody>\n",
       "</table>\n",
       "<p>3214 rows × 6 columns</p>\n",
       "</div>"
      ],
      "text/plain": [
       "      user_id month_name  count    sum    id  mb_used\n",
       "0        1000     August   52.0  408.0  81.0  14070.0\n",
       "1        1000   December   46.0  333.0  70.0   9827.0\n",
       "2        1000       July   47.0  340.0  75.0  14016.0\n",
       "3        1000       June   43.0  172.0  60.0  23257.0\n",
       "4        1000        May   22.0  159.0  22.0   2256.0\n",
       "...       ...        ...    ...    ...   ...      ...\n",
       "3209     1498  September   59.0  471.0  44.0  22166.0\n",
       "3210     1499   December   69.0  492.0  66.0  13077.0\n",
       "3211     1499   November   74.0  612.0  59.0  17984.0\n",
       "3212     1499    October   68.0  449.0  48.0  17809.0\n",
       "3213     1499  September    9.0   70.0  11.0   1848.0\n",
       "\n",
       "[3214 rows x 6 columns]"
      ]
     },
     "execution_count": 33,
     "metadata": {},
     "output_type": "execute_result"
    }
   ],
   "source": [
    "df"
   ]
  },
  {
   "cell_type": "code",
   "execution_count": 34,
   "metadata": {},
   "outputs": [],
   "source": [
    "# переименуем столбцы\n",
    "df.rename(columns = {'count' : 'amount_calls', 'sum' : 'duration', 'id' : 'amount_messages', \\\n",
    "                     'mb_used' : 'amount_internet'}, inplace = True)"
   ]
  },
  {
   "cell_type": "code",
   "execution_count": 35,
   "metadata": {},
   "outputs": [
    {
     "data": {
      "text/html": [
       "<div>\n",
       "<style scoped>\n",
       "    .dataframe tbody tr th:only-of-type {\n",
       "        vertical-align: middle;\n",
       "    }\n",
       "\n",
       "    .dataframe tbody tr th {\n",
       "        vertical-align: top;\n",
       "    }\n",
       "\n",
       "    .dataframe thead th {\n",
       "        text-align: right;\n",
       "    }\n",
       "</style>\n",
       "<table border=\"1\" class=\"dataframe\">\n",
       "  <thead>\n",
       "    <tr style=\"text-align: right;\">\n",
       "      <th></th>\n",
       "      <th>user_id</th>\n",
       "      <th>month_name</th>\n",
       "      <th>amount_calls</th>\n",
       "      <th>duration</th>\n",
       "      <th>amount_messages</th>\n",
       "      <th>amount_internet</th>\n",
       "    </tr>\n",
       "  </thead>\n",
       "  <tbody>\n",
       "    <tr>\n",
       "      <th>0</th>\n",
       "      <td>1000</td>\n",
       "      <td>August</td>\n",
       "      <td>52.0</td>\n",
       "      <td>408.0</td>\n",
       "      <td>81.0</td>\n",
       "      <td>14070.0</td>\n",
       "    </tr>\n",
       "    <tr>\n",
       "      <th>1</th>\n",
       "      <td>1000</td>\n",
       "      <td>December</td>\n",
       "      <td>46.0</td>\n",
       "      <td>333.0</td>\n",
       "      <td>70.0</td>\n",
       "      <td>9827.0</td>\n",
       "    </tr>\n",
       "    <tr>\n",
       "      <th>2</th>\n",
       "      <td>1000</td>\n",
       "      <td>July</td>\n",
       "      <td>47.0</td>\n",
       "      <td>340.0</td>\n",
       "      <td>75.0</td>\n",
       "      <td>14016.0</td>\n",
       "    </tr>\n",
       "    <tr>\n",
       "      <th>3</th>\n",
       "      <td>1000</td>\n",
       "      <td>June</td>\n",
       "      <td>43.0</td>\n",
       "      <td>172.0</td>\n",
       "      <td>60.0</td>\n",
       "      <td>23257.0</td>\n",
       "    </tr>\n",
       "    <tr>\n",
       "      <th>4</th>\n",
       "      <td>1000</td>\n",
       "      <td>May</td>\n",
       "      <td>22.0</td>\n",
       "      <td>159.0</td>\n",
       "      <td>22.0</td>\n",
       "      <td>2256.0</td>\n",
       "    </tr>\n",
       "    <tr>\n",
       "      <th>...</th>\n",
       "      <td>...</td>\n",
       "      <td>...</td>\n",
       "      <td>...</td>\n",
       "      <td>...</td>\n",
       "      <td>...</td>\n",
       "      <td>...</td>\n",
       "    </tr>\n",
       "    <tr>\n",
       "      <th>3209</th>\n",
       "      <td>1498</td>\n",
       "      <td>September</td>\n",
       "      <td>59.0</td>\n",
       "      <td>471.0</td>\n",
       "      <td>44.0</td>\n",
       "      <td>22166.0</td>\n",
       "    </tr>\n",
       "    <tr>\n",
       "      <th>3210</th>\n",
       "      <td>1499</td>\n",
       "      <td>December</td>\n",
       "      <td>69.0</td>\n",
       "      <td>492.0</td>\n",
       "      <td>66.0</td>\n",
       "      <td>13077.0</td>\n",
       "    </tr>\n",
       "    <tr>\n",
       "      <th>3211</th>\n",
       "      <td>1499</td>\n",
       "      <td>November</td>\n",
       "      <td>74.0</td>\n",
       "      <td>612.0</td>\n",
       "      <td>59.0</td>\n",
       "      <td>17984.0</td>\n",
       "    </tr>\n",
       "    <tr>\n",
       "      <th>3212</th>\n",
       "      <td>1499</td>\n",
       "      <td>October</td>\n",
       "      <td>68.0</td>\n",
       "      <td>449.0</td>\n",
       "      <td>48.0</td>\n",
       "      <td>17809.0</td>\n",
       "    </tr>\n",
       "    <tr>\n",
       "      <th>3213</th>\n",
       "      <td>1499</td>\n",
       "      <td>September</td>\n",
       "      <td>9.0</td>\n",
       "      <td>70.0</td>\n",
       "      <td>11.0</td>\n",
       "      <td>1848.0</td>\n",
       "    </tr>\n",
       "  </tbody>\n",
       "</table>\n",
       "<p>3214 rows × 6 columns</p>\n",
       "</div>"
      ],
      "text/plain": [
       "      user_id month_name  amount_calls  duration  amount_messages  \\\n",
       "0        1000     August          52.0     408.0             81.0   \n",
       "1        1000   December          46.0     333.0             70.0   \n",
       "2        1000       July          47.0     340.0             75.0   \n",
       "3        1000       June          43.0     172.0             60.0   \n",
       "4        1000        May          22.0     159.0             22.0   \n",
       "...       ...        ...           ...       ...              ...   \n",
       "3209     1498  September          59.0     471.0             44.0   \n",
       "3210     1499   December          69.0     492.0             66.0   \n",
       "3211     1499   November          74.0     612.0             59.0   \n",
       "3212     1499    October          68.0     449.0             48.0   \n",
       "3213     1499  September           9.0      70.0             11.0   \n",
       "\n",
       "      amount_internet  \n",
       "0             14070.0  \n",
       "1              9827.0  \n",
       "2             14016.0  \n",
       "3             23257.0  \n",
       "4              2256.0  \n",
       "...               ...  \n",
       "3209          22166.0  \n",
       "3210          13077.0  \n",
       "3211          17984.0  \n",
       "3212          17809.0  \n",
       "3213           1848.0  \n",
       "\n",
       "[3214 rows x 6 columns]"
      ]
     },
     "execution_count": 35,
     "metadata": {},
     "output_type": "execute_result"
    }
   ],
   "source": [
    "# проверим результат\n",
    "df"
   ]
  },
  {
   "cell_type": "markdown",
   "metadata": {},
   "source": [
    "Добавим тариф для каждого пользователя а так же город"
   ]
  },
  {
   "cell_type": "code",
   "execution_count": 36,
   "metadata": {},
   "outputs": [],
   "source": [
    "df = pd.merge(df, total_users, how='outer', on='user_id')"
   ]
  },
  {
   "cell_type": "code",
   "execution_count": 37,
   "metadata": {},
   "outputs": [
    {
     "data": {
      "text/html": [
       "<div>\n",
       "<style scoped>\n",
       "    .dataframe tbody tr th:only-of-type {\n",
       "        vertical-align: middle;\n",
       "    }\n",
       "\n",
       "    .dataframe tbody tr th {\n",
       "        vertical-align: top;\n",
       "    }\n",
       "\n",
       "    .dataframe thead th {\n",
       "        text-align: right;\n",
       "    }\n",
       "</style>\n",
       "<table border=\"1\" class=\"dataframe\">\n",
       "  <thead>\n",
       "    <tr style=\"text-align: right;\">\n",
       "      <th></th>\n",
       "      <th>user_id</th>\n",
       "      <th>month_name</th>\n",
       "      <th>amount_calls</th>\n",
       "      <th>duration</th>\n",
       "      <th>amount_messages</th>\n",
       "      <th>amount_internet</th>\n",
       "      <th>city</th>\n",
       "      <th>tariff_name</th>\n",
       "    </tr>\n",
       "  </thead>\n",
       "  <tbody>\n",
       "    <tr>\n",
       "      <th>0</th>\n",
       "      <td>1000</td>\n",
       "      <td>August</td>\n",
       "      <td>52.0</td>\n",
       "      <td>408.0</td>\n",
       "      <td>81.0</td>\n",
       "      <td>14070.0</td>\n",
       "      <td>Краснодар</td>\n",
       "      <td>ultra</td>\n",
       "    </tr>\n",
       "    <tr>\n",
       "      <th>1</th>\n",
       "      <td>1000</td>\n",
       "      <td>December</td>\n",
       "      <td>46.0</td>\n",
       "      <td>333.0</td>\n",
       "      <td>70.0</td>\n",
       "      <td>9827.0</td>\n",
       "      <td>Краснодар</td>\n",
       "      <td>ultra</td>\n",
       "    </tr>\n",
       "    <tr>\n",
       "      <th>2</th>\n",
       "      <td>1000</td>\n",
       "      <td>July</td>\n",
       "      <td>47.0</td>\n",
       "      <td>340.0</td>\n",
       "      <td>75.0</td>\n",
       "      <td>14016.0</td>\n",
       "      <td>Краснодар</td>\n",
       "      <td>ultra</td>\n",
       "    </tr>\n",
       "    <tr>\n",
       "      <th>3</th>\n",
       "      <td>1000</td>\n",
       "      <td>June</td>\n",
       "      <td>43.0</td>\n",
       "      <td>172.0</td>\n",
       "      <td>60.0</td>\n",
       "      <td>23257.0</td>\n",
       "      <td>Краснодар</td>\n",
       "      <td>ultra</td>\n",
       "    </tr>\n",
       "    <tr>\n",
       "      <th>4</th>\n",
       "      <td>1000</td>\n",
       "      <td>May</td>\n",
       "      <td>22.0</td>\n",
       "      <td>159.0</td>\n",
       "      <td>22.0</td>\n",
       "      <td>2256.0</td>\n",
       "      <td>Краснодар</td>\n",
       "      <td>ultra</td>\n",
       "    </tr>\n",
       "    <tr>\n",
       "      <th>...</th>\n",
       "      <td>...</td>\n",
       "      <td>...</td>\n",
       "      <td>...</td>\n",
       "      <td>...</td>\n",
       "      <td>...</td>\n",
       "      <td>...</td>\n",
       "      <td>...</td>\n",
       "      <td>...</td>\n",
       "    </tr>\n",
       "    <tr>\n",
       "      <th>3211</th>\n",
       "      <td>1499</td>\n",
       "      <td>November</td>\n",
       "      <td>74.0</td>\n",
       "      <td>612.0</td>\n",
       "      <td>59.0</td>\n",
       "      <td>17984.0</td>\n",
       "      <td>Пермь</td>\n",
       "      <td>smart</td>\n",
       "    </tr>\n",
       "    <tr>\n",
       "      <th>3212</th>\n",
       "      <td>1499</td>\n",
       "      <td>October</td>\n",
       "      <td>68.0</td>\n",
       "      <td>449.0</td>\n",
       "      <td>48.0</td>\n",
       "      <td>17809.0</td>\n",
       "      <td>Пермь</td>\n",
       "      <td>smart</td>\n",
       "    </tr>\n",
       "    <tr>\n",
       "      <th>3213</th>\n",
       "      <td>1499</td>\n",
       "      <td>September</td>\n",
       "      <td>9.0</td>\n",
       "      <td>70.0</td>\n",
       "      <td>11.0</td>\n",
       "      <td>1848.0</td>\n",
       "      <td>Пермь</td>\n",
       "      <td>smart</td>\n",
       "    </tr>\n",
       "    <tr>\n",
       "      <th>3214</th>\n",
       "      <td>1128</td>\n",
       "      <td>NaN</td>\n",
       "      <td>NaN</td>\n",
       "      <td>NaN</td>\n",
       "      <td>NaN</td>\n",
       "      <td>NaN</td>\n",
       "      <td>Волжский</td>\n",
       "      <td>ultra</td>\n",
       "    </tr>\n",
       "    <tr>\n",
       "      <th>3215</th>\n",
       "      <td>1371</td>\n",
       "      <td>NaN</td>\n",
       "      <td>NaN</td>\n",
       "      <td>NaN</td>\n",
       "      <td>NaN</td>\n",
       "      <td>NaN</td>\n",
       "      <td>Омск</td>\n",
       "      <td>smart</td>\n",
       "    </tr>\n",
       "  </tbody>\n",
       "</table>\n",
       "<p>3216 rows × 8 columns</p>\n",
       "</div>"
      ],
      "text/plain": [
       "      user_id month_name  amount_calls  duration  amount_messages  \\\n",
       "0        1000     August          52.0     408.0             81.0   \n",
       "1        1000   December          46.0     333.0             70.0   \n",
       "2        1000       July          47.0     340.0             75.0   \n",
       "3        1000       June          43.0     172.0             60.0   \n",
       "4        1000        May          22.0     159.0             22.0   \n",
       "...       ...        ...           ...       ...              ...   \n",
       "3211     1499   November          74.0     612.0             59.0   \n",
       "3212     1499    October          68.0     449.0             48.0   \n",
       "3213     1499  September           9.0      70.0             11.0   \n",
       "3214     1128        NaN           NaN       NaN              NaN   \n",
       "3215     1371        NaN           NaN       NaN              NaN   \n",
       "\n",
       "      amount_internet       city tariff_name  \n",
       "0             14070.0  Краснодар       ultra  \n",
       "1              9827.0  Краснодар       ultra  \n",
       "2             14016.0  Краснодар       ultra  \n",
       "3             23257.0  Краснодар       ultra  \n",
       "4              2256.0  Краснодар       ultra  \n",
       "...               ...        ...         ...  \n",
       "3211          17984.0      Пермь       smart  \n",
       "3212          17809.0      Пермь       smart  \n",
       "3213           1848.0      Пермь       smart  \n",
       "3214              NaN   Волжский       ultra  \n",
       "3215              NaN       Омск       smart  \n",
       "\n",
       "[3216 rows x 8 columns]"
      ]
     },
     "execution_count": 37,
     "metadata": {},
     "output_type": "execute_result"
    }
   ],
   "source": [
    "df"
   ]
  },
  {
   "cell_type": "code",
   "execution_count": 38,
   "metadata": {},
   "outputs": [
    {
     "name": "stdout",
     "output_type": "stream",
     "text": [
      "<class 'pandas.core.frame.DataFrame'>\n",
      "Int64Index: 3216 entries, 0 to 3215\n",
      "Data columns (total 8 columns):\n",
      " #   Column           Non-Null Count  Dtype  \n",
      "---  ------           --------------  -----  \n",
      " 0   user_id          3216 non-null   int64  \n",
      " 1   month_name       3214 non-null   object \n",
      " 2   amount_calls     3174 non-null   float64\n",
      " 3   duration         3174 non-null   float64\n",
      " 4   amount_messages  2717 non-null   float64\n",
      " 5   amount_internet  3203 non-null   float64\n",
      " 6   city             3216 non-null   object \n",
      " 7   tariff_name      3216 non-null   object \n",
      "dtypes: float64(4), int64(1), object(3)\n",
      "memory usage: 226.1+ KB\n"
     ]
    }
   ],
   "source": [
    "df.info()"
   ]
  },
  {
   "cell_type": "markdown",
   "metadata": {},
   "source": [
    "Выявлены пропуски по каждому из столбцов, Возможно пользователи ни разу не звонили, не отправляли сообщения или не выходили в интернет, посмотрим,  есть ли такие в выборке"
   ]
  },
  {
   "cell_type": "code",
   "execution_count": 39,
   "metadata": {},
   "outputs": [
    {
     "data": {
      "text/html": [
       "<div>\n",
       "<style scoped>\n",
       "    .dataframe tbody tr th:only-of-type {\n",
       "        vertical-align: middle;\n",
       "    }\n",
       "\n",
       "    .dataframe tbody tr th {\n",
       "        vertical-align: top;\n",
       "    }\n",
       "\n",
       "    .dataframe thead th {\n",
       "        text-align: right;\n",
       "    }\n",
       "</style>\n",
       "<table border=\"1\" class=\"dataframe\">\n",
       "  <thead>\n",
       "    <tr style=\"text-align: right;\">\n",
       "      <th></th>\n",
       "      <th>user_id</th>\n",
       "      <th>month_name</th>\n",
       "      <th>amount_calls</th>\n",
       "      <th>duration</th>\n",
       "      <th>amount_messages</th>\n",
       "      <th>amount_internet</th>\n",
       "      <th>city</th>\n",
       "      <th>tariff_name</th>\n",
       "    </tr>\n",
       "  </thead>\n",
       "  <tbody>\n",
       "    <tr>\n",
       "      <th>3214</th>\n",
       "      <td>1128</td>\n",
       "      <td>NaN</td>\n",
       "      <td>NaN</td>\n",
       "      <td>NaN</td>\n",
       "      <td>NaN</td>\n",
       "      <td>NaN</td>\n",
       "      <td>Волжский</td>\n",
       "      <td>ultra</td>\n",
       "    </tr>\n",
       "    <tr>\n",
       "      <th>3215</th>\n",
       "      <td>1371</td>\n",
       "      <td>NaN</td>\n",
       "      <td>NaN</td>\n",
       "      <td>NaN</td>\n",
       "      <td>NaN</td>\n",
       "      <td>NaN</td>\n",
       "      <td>Омск</td>\n",
       "      <td>smart</td>\n",
       "    </tr>\n",
       "  </tbody>\n",
       "</table>\n",
       "</div>"
      ],
      "text/plain": [
       "      user_id month_name  amount_calls  duration  amount_messages  \\\n",
       "3214     1128        NaN           NaN       NaN              NaN   \n",
       "3215     1371        NaN           NaN       NaN              NaN   \n",
       "\n",
       "      amount_internet      city tariff_name  \n",
       "3214              NaN  Волжский       ultra  \n",
       "3215              NaN      Омск       smart  "
      ]
     },
     "execution_count": 39,
     "metadata": {},
     "output_type": "execute_result"
    }
   ],
   "source": [
    "df[(df['duration'].isnull()) & (df['amount_messages'].isnull()) &\n",
    "                 (df['amount_internet'].isnull())]"
   ]
  },
  {
   "cell_type": "markdown",
   "metadata": {},
   "source": [
    "По данным из таблицы users - это пользователи, которые отключились от тарифов в течении недели, и данных об использовании им звонков, сообщений или интернета нет, по этому большой ценности для расчетов они не представляют."
   ]
  },
  {
   "cell_type": "code",
   "execution_count": 40,
   "metadata": {},
   "outputs": [],
   "source": [
    "df = df.drop(labels = [3214,3215],axis = 0)"
   ]
  },
  {
   "cell_type": "markdown",
   "metadata": {},
   "source": [
    "Остальные пропуски вероятно связаны с тем, что в какие-то периоды пользователи не использовали одну из услуг связи, по этому заменим пропуски на нули, это и будет означать, что они не пользовались определенными услугами связи в определенный период."
   ]
  },
  {
   "cell_type": "code",
   "execution_count": 41,
   "metadata": {},
   "outputs": [
    {
     "name": "stdout",
     "output_type": "stream",
     "text": [
      "<class 'pandas.core.frame.DataFrame'>\n",
      "Int64Index: 3214 entries, 0 to 3213\n",
      "Data columns (total 8 columns):\n",
      " #   Column           Non-Null Count  Dtype  \n",
      "---  ------           --------------  -----  \n",
      " 0   user_id          3214 non-null   int64  \n",
      " 1   month_name       3214 non-null   object \n",
      " 2   amount_calls     3214 non-null   float64\n",
      " 3   duration         3214 non-null   float64\n",
      " 4   amount_messages  3214 non-null   float64\n",
      " 5   amount_internet  3214 non-null   float64\n",
      " 6   city             3214 non-null   object \n",
      " 7   tariff_name      3214 non-null   object \n",
      "dtypes: float64(4), int64(1), object(3)\n",
      "memory usage: 226.0+ KB\n"
     ]
    }
   ],
   "source": [
    "df = df.fillna(0)\n",
    "df.info()"
   ]
  },
  {
   "cell_type": "markdown",
   "metadata": {},
   "source": [
    "<a id='section1.2.1'></a>\n",
    "**Посчитаем для каждого пользователя выручку в месяц**"
   ]
  },
  {
   "cell_type": "markdown",
   "metadata": {},
   "source": [
    "исключим безлимитный лимит из сумарного кол-ва звонков, сообщений и интернет трафика, остаток умножим на значение тарифа, прибавим абонентскую плату"
   ]
  },
  {
   "cell_type": "code",
   "execution_count": 42,
   "metadata": {},
   "outputs": [
    {
     "data": {
      "text/html": [
       "<div>\n",
       "<style scoped>\n",
       "    .dataframe tbody tr th:only-of-type {\n",
       "        vertical-align: middle;\n",
       "    }\n",
       "\n",
       "    .dataframe tbody tr th {\n",
       "        vertical-align: top;\n",
       "    }\n",
       "\n",
       "    .dataframe thead th {\n",
       "        text-align: right;\n",
       "    }\n",
       "</style>\n",
       "<table border=\"1\" class=\"dataframe\">\n",
       "  <thead>\n",
       "    <tr style=\"text-align: right;\">\n",
       "      <th></th>\n",
       "      <th>user_id</th>\n",
       "      <th>month_name</th>\n",
       "      <th>amount_calls</th>\n",
       "      <th>duration</th>\n",
       "      <th>amount_messages</th>\n",
       "      <th>amount_internet</th>\n",
       "      <th>city</th>\n",
       "      <th>tariff_name</th>\n",
       "      <th>revenues</th>\n",
       "    </tr>\n",
       "  </thead>\n",
       "  <tbody>\n",
       "    <tr>\n",
       "      <th>0</th>\n",
       "      <td>1000</td>\n",
       "      <td>August</td>\n",
       "      <td>52.0</td>\n",
       "      <td>408.0</td>\n",
       "      <td>81.0</td>\n",
       "      <td>14070.0</td>\n",
       "      <td>Краснодар</td>\n",
       "      <td>ultra</td>\n",
       "      <td>1950.000000</td>\n",
       "    </tr>\n",
       "    <tr>\n",
       "      <th>1</th>\n",
       "      <td>1000</td>\n",
       "      <td>December</td>\n",
       "      <td>46.0</td>\n",
       "      <td>333.0</td>\n",
       "      <td>70.0</td>\n",
       "      <td>9827.0</td>\n",
       "      <td>Краснодар</td>\n",
       "      <td>ultra</td>\n",
       "      <td>1950.000000</td>\n",
       "    </tr>\n",
       "    <tr>\n",
       "      <th>2</th>\n",
       "      <td>1000</td>\n",
       "      <td>July</td>\n",
       "      <td>47.0</td>\n",
       "      <td>340.0</td>\n",
       "      <td>75.0</td>\n",
       "      <td>14016.0</td>\n",
       "      <td>Краснодар</td>\n",
       "      <td>ultra</td>\n",
       "      <td>1950.000000</td>\n",
       "    </tr>\n",
       "    <tr>\n",
       "      <th>3</th>\n",
       "      <td>1000</td>\n",
       "      <td>June</td>\n",
       "      <td>43.0</td>\n",
       "      <td>172.0</td>\n",
       "      <td>60.0</td>\n",
       "      <td>23257.0</td>\n",
       "      <td>Краснодар</td>\n",
       "      <td>ultra</td>\n",
       "      <td>1950.000000</td>\n",
       "    </tr>\n",
       "    <tr>\n",
       "      <th>4</th>\n",
       "      <td>1000</td>\n",
       "      <td>May</td>\n",
       "      <td>22.0</td>\n",
       "      <td>159.0</td>\n",
       "      <td>22.0</td>\n",
       "      <td>2256.0</td>\n",
       "      <td>Краснодар</td>\n",
       "      <td>ultra</td>\n",
       "      <td>1950.000000</td>\n",
       "    </tr>\n",
       "    <tr>\n",
       "      <th>...</th>\n",
       "      <td>...</td>\n",
       "      <td>...</td>\n",
       "      <td>...</td>\n",
       "      <td>...</td>\n",
       "      <td>...</td>\n",
       "      <td>...</td>\n",
       "      <td>...</td>\n",
       "      <td>...</td>\n",
       "      <td>...</td>\n",
       "    </tr>\n",
       "    <tr>\n",
       "      <th>3209</th>\n",
       "      <td>1498</td>\n",
       "      <td>September</td>\n",
       "      <td>59.0</td>\n",
       "      <td>471.0</td>\n",
       "      <td>44.0</td>\n",
       "      <td>22166.0</td>\n",
       "      <td>Владикавказ</td>\n",
       "      <td>smart</td>\n",
       "      <td>1879.296875</td>\n",
       "    </tr>\n",
       "    <tr>\n",
       "      <th>3210</th>\n",
       "      <td>1499</td>\n",
       "      <td>December</td>\n",
       "      <td>69.0</td>\n",
       "      <td>492.0</td>\n",
       "      <td>66.0</td>\n",
       "      <td>13077.0</td>\n",
       "      <td>Пермь</td>\n",
       "      <td>smart</td>\n",
       "      <td>598.000000</td>\n",
       "    </tr>\n",
       "    <tr>\n",
       "      <th>3211</th>\n",
       "      <td>1499</td>\n",
       "      <td>November</td>\n",
       "      <td>74.0</td>\n",
       "      <td>612.0</td>\n",
       "      <td>59.0</td>\n",
       "      <td>17984.0</td>\n",
       "      <td>Пермь</td>\n",
       "      <td>smart</td>\n",
       "      <td>1425.500000</td>\n",
       "    </tr>\n",
       "    <tr>\n",
       "      <th>3212</th>\n",
       "      <td>1499</td>\n",
       "      <td>October</td>\n",
       "      <td>68.0</td>\n",
       "      <td>449.0</td>\n",
       "      <td>48.0</td>\n",
       "      <td>17809.0</td>\n",
       "      <td>Пермь</td>\n",
       "      <td>smart</td>\n",
       "      <td>1028.320312</td>\n",
       "    </tr>\n",
       "    <tr>\n",
       "      <th>3213</th>\n",
       "      <td>1499</td>\n",
       "      <td>September</td>\n",
       "      <td>9.0</td>\n",
       "      <td>70.0</td>\n",
       "      <td>11.0</td>\n",
       "      <td>1848.0</td>\n",
       "      <td>Пермь</td>\n",
       "      <td>smart</td>\n",
       "      <td>550.000000</td>\n",
       "    </tr>\n",
       "  </tbody>\n",
       "</table>\n",
       "<p>3214 rows × 9 columns</p>\n",
       "</div>"
      ],
      "text/plain": [
       "      user_id month_name  amount_calls  duration  amount_messages  \\\n",
       "0        1000     August          52.0     408.0             81.0   \n",
       "1        1000   December          46.0     333.0             70.0   \n",
       "2        1000       July          47.0     340.0             75.0   \n",
       "3        1000       June          43.0     172.0             60.0   \n",
       "4        1000        May          22.0     159.0             22.0   \n",
       "...       ...        ...           ...       ...              ...   \n",
       "3209     1498  September          59.0     471.0             44.0   \n",
       "3210     1499   December          69.0     492.0             66.0   \n",
       "3211     1499   November          74.0     612.0             59.0   \n",
       "3212     1499    October          68.0     449.0             48.0   \n",
       "3213     1499  September           9.0      70.0             11.0   \n",
       "\n",
       "      amount_internet         city tariff_name     revenues  \n",
       "0             14070.0    Краснодар       ultra  1950.000000  \n",
       "1              9827.0    Краснодар       ultra  1950.000000  \n",
       "2             14016.0    Краснодар       ultra  1950.000000  \n",
       "3             23257.0    Краснодар       ultra  1950.000000  \n",
       "4              2256.0    Краснодар       ultra  1950.000000  \n",
       "...               ...          ...         ...          ...  \n",
       "3209          22166.0  Владикавказ       smart  1879.296875  \n",
       "3210          13077.0        Пермь       smart   598.000000  \n",
       "3211          17984.0        Пермь       smart  1425.500000  \n",
       "3212          17809.0        Пермь       smart  1028.320312  \n",
       "3213           1848.0        Пермь       smart   550.000000  \n",
       "\n",
       "[3214 rows x 9 columns]"
      ]
     },
     "execution_count": 42,
     "metadata": {},
     "output_type": "execute_result"
    }
   ],
   "source": [
    "# функция подсчета выручки в месяц каждого пользователя по отдельности\n",
    "def revenue_function(row):\n",
    "    amount_messages = row['amount_messages']\n",
    "    amount_internet = row['amount_internet']\n",
    "    tariff_name = row['tariff_name']\n",
    "    duration = row['duration']\n",
    "    amount_calls = row['amount_calls']\n",
    "    \n",
    "    if tariff_name == 'smart':\n",
    "        limit_duration = duration - tariffs.at[0, 'minutes_included']\n",
    "        limit_internet = amount_internet - tariffs.at[0, 'mb_per_month_included']\n",
    "        limit_messages = amount_messages - tariffs.at[0, 'messages_included']\n",
    "        \n",
    "        if limit_duration < 0: limit_duration = 0\n",
    "        if limit_internet < 0: limit_internet = 0\n",
    "        if limit_messages < 0: limit_messages = 0\n",
    "        \n",
    "        return (tariffs.at[0, 'rub_per_message'] * limit_messages + \n",
    "                   (tariffs.at[0, 'rub_per_gb'] / 1024) * limit_internet + \n",
    "                   tariffs.at[0, 'rub_per_minute'] * limit_duration + \n",
    "                   tariffs.at[0, 'rub_monthly_fee']\n",
    "                  ) \n",
    "    else:\n",
    "        limit_duration = duration - tariffs.at[1, 'minutes_included']\n",
    "        limit_internet = amount_internet - tariffs.at[1, 'mb_per_month_included']\n",
    "        limit_messages = amount_messages - tariffs.at[1, 'messages_included']\n",
    "        \n",
    "        if limit_duration < 0: limit_duration = 0\n",
    "        if limit_internet < 0: limit_internet = 0\n",
    "        if limit_messages < 0: limit_messages = 0\n",
    "        \n",
    "        return (tariffs.at[1, 'rub_per_message'] * limit_messages + \n",
    "                   (tariffs.at[1, 'rub_per_gb'] / 1024) * limit_internet + \n",
    "                   tariffs.at[1, 'rub_per_minute'] * limit_duration + \n",
    "                   tariffs.at[1, 'rub_monthly_fee']\n",
    "                  )\n",
    "\n",
    "df['revenues'] = df.apply(revenue_function, axis=1)\n",
    "df"
   ]
  },
  {
   "cell_type": "markdown",
   "metadata": {},
   "source": [
    "<a id='section2'></a>\n",
    "## Анализ данных"
   ]
  },
  {
   "cell_type": "markdown",
   "metadata": {},
   "source": [
    "Ответим на вопрос: \"**Сколько пользователю требуется минут общения, кол-ва сообщений и интернет трафика в среднем в месяц**\""
   ]
  },
  {
   "cell_type": "code",
   "execution_count": 43,
   "metadata": {},
   "outputs": [
    {
     "data": {
      "text/html": [
       "<div>\n",
       "<style scoped>\n",
       "    .dataframe tbody tr th:only-of-type {\n",
       "        vertical-align: middle;\n",
       "    }\n",
       "\n",
       "    .dataframe tbody tr th {\n",
       "        vertical-align: top;\n",
       "    }\n",
       "\n",
       "    .dataframe thead th {\n",
       "        text-align: right;\n",
       "    }\n",
       "</style>\n",
       "<table border=\"1\" class=\"dataframe\">\n",
       "  <thead>\n",
       "    <tr style=\"text-align: right;\">\n",
       "      <th></th>\n",
       "      <th>amount_internet</th>\n",
       "      <th>amount_messages</th>\n",
       "      <th>duration</th>\n",
       "      <th>revenues</th>\n",
       "      <th>tariff_name</th>\n",
       "    </tr>\n",
       "    <tr>\n",
       "      <th>user_id</th>\n",
       "      <th></th>\n",
       "      <th></th>\n",
       "      <th></th>\n",
       "      <th></th>\n",
       "      <th></th>\n",
       "    </tr>\n",
       "  </thead>\n",
       "  <tbody>\n",
       "    <tr>\n",
       "      <th>1000</th>\n",
       "      <td>14325.5</td>\n",
       "      <td>65.0</td>\n",
       "      <td>339.0</td>\n",
       "      <td>1950.000000</td>\n",
       "      <td>ultra</td>\n",
       "    </tr>\n",
       "    <tr>\n",
       "      <th>1001</th>\n",
       "      <td>16252.5</td>\n",
       "      <td>0.0</td>\n",
       "      <td>422.0</td>\n",
       "      <td>851.953125</td>\n",
       "      <td>smart</td>\n",
       "    </tr>\n",
       "    <tr>\n",
       "      <th>1002</th>\n",
       "      <td>17601.0</td>\n",
       "      <td>11.0</td>\n",
       "      <td>214.0</td>\n",
       "      <td>987.695312</td>\n",
       "      <td>smart</td>\n",
       "    </tr>\n",
       "    <tr>\n",
       "      <th>1003</th>\n",
       "      <td>11368.0</td>\n",
       "      <td>83.0</td>\n",
       "      <td>824.0</td>\n",
       "      <td>1950.000000</td>\n",
       "      <td>ultra</td>\n",
       "    </tr>\n",
       "    <tr>\n",
       "      <th>1004</th>\n",
       "      <td>17828.5</td>\n",
       "      <td>154.5</td>\n",
       "      <td>132.5</td>\n",
       "      <td>1950.000000</td>\n",
       "      <td>ultra</td>\n",
       "    </tr>\n",
       "    <tr>\n",
       "      <th>...</th>\n",
       "      <td>...</td>\n",
       "      <td>...</td>\n",
       "      <td>...</td>\n",
       "      <td>...</td>\n",
       "      <td>...</td>\n",
       "    </tr>\n",
       "    <tr>\n",
       "      <th>1495</th>\n",
       "      <td>29393.0</td>\n",
       "      <td>82.0</td>\n",
       "      <td>954.0</td>\n",
       "      <td>1950.000000</td>\n",
       "      <td>ultra</td>\n",
       "    </tr>\n",
       "    <tr>\n",
       "      <th>1496</th>\n",
       "      <td>24067.5</td>\n",
       "      <td>41.5</td>\n",
       "      <td>524.0</td>\n",
       "      <td>2396.605469</td>\n",
       "      <td>smart</td>\n",
       "    </tr>\n",
       "    <tr>\n",
       "      <th>1497</th>\n",
       "      <td>14174.0</td>\n",
       "      <td>17.0</td>\n",
       "      <td>490.0</td>\n",
       "      <td>550.000000</td>\n",
       "      <td>smart</td>\n",
       "    </tr>\n",
       "    <tr>\n",
       "      <th>1498</th>\n",
       "      <td>21385.0</td>\n",
       "      <td>43.0</td>\n",
       "      <td>323.5</td>\n",
       "      <td>1726.757812</td>\n",
       "      <td>smart</td>\n",
       "    </tr>\n",
       "    <tr>\n",
       "      <th>1499</th>\n",
       "      <td>15443.0</td>\n",
       "      <td>53.5</td>\n",
       "      <td>470.5</td>\n",
       "      <td>813.160156</td>\n",
       "      <td>smart</td>\n",
       "    </tr>\n",
       "  </tbody>\n",
       "</table>\n",
       "<p>498 rows × 5 columns</p>\n",
       "</div>"
      ],
      "text/plain": [
       "         amount_internet  amount_messages  duration     revenues tariff_name\n",
       "user_id                                                                     \n",
       "1000             14325.5             65.0     339.0  1950.000000       ultra\n",
       "1001             16252.5              0.0     422.0   851.953125       smart\n",
       "1002             17601.0             11.0     214.0   987.695312       smart\n",
       "1003             11368.0             83.0     824.0  1950.000000       ultra\n",
       "1004             17828.5            154.5     132.5  1950.000000       ultra\n",
       "...                  ...              ...       ...          ...         ...\n",
       "1495             29393.0             82.0     954.0  1950.000000       ultra\n",
       "1496             24067.5             41.5     524.0  2396.605469       smart\n",
       "1497             14174.0             17.0     490.0   550.000000       smart\n",
       "1498             21385.0             43.0     323.5  1726.757812       smart\n",
       "1499             15443.0             53.5     470.5   813.160156       smart\n",
       "\n",
       "[498 rows x 5 columns]"
      ]
     },
     "execution_count": 43,
     "metadata": {},
     "output_type": "execute_result"
    }
   ],
   "source": [
    "# возмем медианное значение, по причине наличия вбросов в виде использованных минут, сообщений и трафика равных нулю\n",
    "median_df = df.pivot_table(index='user_id', values=['duration', 'amount_messages', 'amount_internet', 'revenues'], aggfunc='median')\n",
    "for user_id in users['user_id']:\n",
    "    median_df.loc[user_id, 'tariff_name'] = users.loc[user_id-1000, 'tariff_name']\n",
    "# снова появились 2 пользователя, которые отключились в течении месяца, не знаю, в каком моменте их пропустил, по этой причине удалил\n",
    "median_df = median_df.drop(labels = [1128,1371],axis = 0)\n",
    "median_df"
   ]
  },
  {
   "cell_type": "markdown",
   "metadata": {},
   "source": [
    "Посчитаем медиану, дисперсию и стандартное отклонение по каждому тарифу."
   ]
  },
  {
   "cell_type": "code",
   "execution_count": 44,
   "metadata": {},
   "outputs": [],
   "source": [
    "variance = median_df.pivot_table(index = ['tariff_name'], values = ['duration', 'amount_messages', 'amount_internet'], \n",
    "                                  aggfunc=['mean', 'var', 'std'])\n",
    "variance.rename(columns = {'duration' : 'calls', 'amount_messages' : 'sms', 'amount_internet' : 'internet'}, inplace = True)"
   ]
  },
  {
   "cell_type": "code",
   "execution_count": 45,
   "metadata": {},
   "outputs": [
    {
     "data": {
      "text/html": [
       "<div>\n",
       "<style scoped>\n",
       "    .dataframe tbody tr th:only-of-type {\n",
       "        vertical-align: middle;\n",
       "    }\n",
       "\n",
       "    .dataframe tbody tr th {\n",
       "        vertical-align: top;\n",
       "    }\n",
       "\n",
       "    .dataframe thead tr th {\n",
       "        text-align: left;\n",
       "    }\n",
       "\n",
       "    .dataframe thead tr:last-of-type th {\n",
       "        text-align: right;\n",
       "    }\n",
       "</style>\n",
       "<table border=\"1\" class=\"dataframe\">\n",
       "  <thead>\n",
       "    <tr>\n",
       "      <th></th>\n",
       "      <th colspan=\"3\" halign=\"left\">mean</th>\n",
       "      <th colspan=\"3\" halign=\"left\">var</th>\n",
       "      <th colspan=\"3\" halign=\"left\">std</th>\n",
       "    </tr>\n",
       "    <tr>\n",
       "      <th></th>\n",
       "      <th>internet</th>\n",
       "      <th>sms</th>\n",
       "      <th>calls</th>\n",
       "      <th>internet</th>\n",
       "      <th>sms</th>\n",
       "      <th>calls</th>\n",
       "      <th>internet</th>\n",
       "      <th>sms</th>\n",
       "      <th>calls</th>\n",
       "    </tr>\n",
       "    <tr>\n",
       "      <th>tariff_name</th>\n",
       "      <th></th>\n",
       "      <th></th>\n",
       "      <th></th>\n",
       "      <th></th>\n",
       "      <th></th>\n",
       "      <th></th>\n",
       "      <th></th>\n",
       "      <th></th>\n",
       "      <th></th>\n",
       "    </tr>\n",
       "  </thead>\n",
       "  <tbody>\n",
       "    <tr>\n",
       "      <th>smart</th>\n",
       "      <td>16853.828571</td>\n",
       "      <td>33.770000</td>\n",
       "      <td>437.468571</td>\n",
       "      <td>1.746858e+07</td>\n",
       "      <td>784.596662</td>\n",
       "      <td>25685.390127</td>\n",
       "      <td>4179.542704</td>\n",
       "      <td>28.010653</td>\n",
       "      <td>160.266622</td>\n",
       "    </tr>\n",
       "    <tr>\n",
       "      <th>ultra</th>\n",
       "      <td>20322.489865</td>\n",
       "      <td>56.983108</td>\n",
       "      <td>557.503378</td>\n",
       "      <td>7.923080e+07</td>\n",
       "      <td>2424.263318</td>\n",
       "      <td>92290.576519</td>\n",
       "      <td>8901.168701</td>\n",
       "      <td>49.236809</td>\n",
       "      <td>303.793641</td>\n",
       "    </tr>\n",
       "  </tbody>\n",
       "</table>\n",
       "</div>"
      ],
      "text/plain": [
       "                     mean                                  var               \\\n",
       "                 internet        sms       calls      internet          sms   \n",
       "tariff_name                                                                   \n",
       "smart        16853.828571  33.770000  437.468571  1.746858e+07   784.596662   \n",
       "ultra        20322.489865  56.983108  557.503378  7.923080e+07  2424.263318   \n",
       "\n",
       "                                   std                         \n",
       "                    calls     internet        sms       calls  \n",
       "tariff_name                                                    \n",
       "smart        25685.390127  4179.542704  28.010653  160.266622  \n",
       "ultra        92290.576519  8901.168701  49.236809  303.793641  "
      ]
     },
     "execution_count": 45,
     "metadata": {},
     "output_type": "execute_result"
    }
   ],
   "source": [
    "variance"
   ]
  },
  {
   "cell_type": "code",
   "execution_count": 46,
   "metadata": {},
   "outputs": [
    {
     "data": {
      "image/png": "[encoded data removed]",
      "text/plain": [
       "<Figure size 360x360 with 1 Axes>"
      ]
     },
     "metadata": {},
     "output_type": "display_data"
    },
    {
     "data": {
      "image/png": "[encoded data removed]",
      "text/plain": [
       "<Figure size 360x360 with 1 Axes>"
      ]
     },
     "metadata": {},
     "output_type": "display_data"
    },
    {
     "data": {
      "image/png": "[encoded data removed]",
      "text/plain": [
       "<Figure size 360x360 with 1 Axes>"
      ]
     },
     "metadata": {},
     "output_type": "display_data"
    }
   ],
   "source": [
    "for column in ['duration', 'amount_internet', 'amount_messages']:    \n",
    "    sns.catplot(x=\"tariff_name\", y=column, kind=\"box\", data=median_df, orient='v')"
   ]
  },
  {
   "cell_type": "markdown",
   "metadata": {},
   "source": [
    "Большую дисперсию по звонкам, сообщениям и итернет трафику имеет тариф \"Ультра\", по сравнению с тарифом \"Смарт\". Медианы также смещены в большую сторону, по вышеперечисленным признакам. Большее кол-во вбросов существенно выше у тарифа \"Смарт\", что может говорить о том, что пользователям данного тарифа чаще всего не хватает пакета предоставляемых услуг"
   ]
  },
  {
   "cell_type": "markdown",
   "metadata": {},
   "source": [
    "Посмотрим на среднее распределение звонков, итернет трафика и сообщений по тарифас \"Смарт\" и \"Ультра\" по месяцам пользования"
   ]
  },
  {
   "cell_type": "code",
   "execution_count": 47,
   "metadata": {},
   "outputs": [
    {
     "data": {
      "image/png": "[encoded data removed]",
      "text/plain": [
       "<Figure size 978.175x360 with 1 Axes>"
      ]
     },
     "metadata": {},
     "output_type": "display_data"
    },
    {
     "data": {
      "image/png": "[encoded data removed]",
      "text/plain": [
       "<Figure size 978.175x360 with 1 Axes>"
      ]
     },
     "metadata": {},
     "output_type": "display_data"
    },
    {
     "data": {
      "image/png": "[encoded data removed]",
      "text/plain": [
       "<Figure size 978.175x360 with 1 Axes>"
      ]
     },
     "metadata": {},
     "output_type": "display_data"
    }
   ],
   "source": [
    "for time in ['duration', 'amount_internet', 'amount_messages']:\n",
    "    sns.catplot(x=\"month_name\", y=time, hue='tariff_name', kind=\"bar\", data=df, ci=None, \n",
    "                order=['January', 'February', 'March', 'April', 'May', 'June', 'July', \n",
    "                       'August', 'September', 'October', 'November', 'December'], aspect=2.5)"
   ]
  },
  {
   "cell_type": "markdown",
   "metadata": {},
   "source": [
    "Из общего можно выделить тенденцию повышения пользования услугами, с каждым последующим месяцем. Пользователя каждого тарифа не превышают своего лимита, кроме пользователей тарифа \"Смарт\" улугой \"интернет\", им чаще не хватает предоставленного им интернет трафика."
   ]
  },
  {
   "cell_type": "markdown",
   "metadata": {},
   "source": [
    "Общий **вывод** по каждой из услуг"
   ]
  },
  {
   "cell_type": "markdown",
   "metadata": {},
   "source": [
    "**Звонки**"
   ]
  },
  {
   "cell_type": "markdown",
   "metadata": {},
   "source": [
    "В основном, на тарифе \"Смарт\" люди разговаривают в месяц в течение 300-550 минут. Причем медиана равна 440 минуте, когда лимит общения по тарифу за абонентскую плату - 500 минут, т.е. клиенты регулярно выбирают почти полный лимит голосовой связи.\n",
    "С тарифом \"Ультра\" схожая ситуация по кол-ву использованых минут общения, чуть больше 550 в среднем, но по максимум они не используют предоставленные им минуты для общения.\n",
    "Но по итогу, медиана тарифа \"Ультра\" больше, чем медиана \"Смарт\"."
   ]
  },
  {
   "cell_type": "markdown",
   "metadata": {},
   "source": [
    "**Интернет**"
   ]
  },
  {
   "cell_type": "markdown",
   "metadata": {},
   "source": [
    "Пользователи с тарифом \"Смарт\" в среднем в месяц используют от 14500 до 20000 Мб трафика. Причем медиана равна 16,8 Гб, что выходит за пределы, установленные абонентской платой - в 15 Гб. По факту, пользователи тарифа \"Смарт\" регулярно используют дополнительные пакеты с интернет-трафиком, когда основной заканчивается.\n",
    "Клиенты с тарифом Ультра активней пользуются интернетом - медиана равна 20 Гб, но учитывая, что лимит в 30 Гб, у них есть ещё большой запас по количеству оставшегося для использования трафика."
   ]
  },
  {
   "cell_type": "markdown",
   "metadata": {},
   "source": [
    "**Сообщения**"
   ]
  },
  {
   "cell_type": "markdown",
   "metadata": {},
   "source": [
    "По обоим тарифам ситуация схожая - большая часть пользователей не отправляет сообщения. Однако, можно увидеть наростающую по кол-ву отправляемых сообщений у клиентов тарифа \"Ультра\". В обоих тарифах имееются вбросы в виде дополнительном использовании сообщений, могу предположить, что это может быть связано с использованием например смс-рассылок, но в целом по медианным показателям, пользователи \"Смарт\" и \"Ультра\" не выходят за рамки предоставленных услуг по отправке сообщений."
   ]
  },
  {
   "cell_type": "markdown",
   "metadata": {},
   "source": [
    "<a id='section3'></a>\n",
    "## Проверка гипотез"
   ]
  },
  {
   "cell_type": "markdown",
   "metadata": {},
   "source": [
    "<a id='section3.1'></a>\n",
    "### Гипотеза 1"
   ]
  },
  {
   "cell_type": "markdown",
   "metadata": {},
   "source": [
    "**Н0 (Нулевая гипотеза)** - средняя выручка пользователей тарифа \"Ультра\" равна средней выручке пользователей тарифа \"Смарт\".\n",
    "\n",
    "**Н1 (альтернативная гипотеза)** - средняя выручка пользователей тарифов \"Ультра\" и \"Смарт\" различаются.\n",
    "\n",
    "alpha = 1%"
   ]
  },
  {
   "cell_type": "code",
   "execution_count": 48,
   "metadata": {},
   "outputs": [
    {
     "data": {
      "text/html": [
       "<div>\n",
       "<style scoped>\n",
       "    .dataframe tbody tr th:only-of-type {\n",
       "        vertical-align: middle;\n",
       "    }\n",
       "\n",
       "    .dataframe tbody tr th {\n",
       "        vertical-align: top;\n",
       "    }\n",
       "\n",
       "    .dataframe thead th {\n",
       "        text-align: right;\n",
       "    }\n",
       "</style>\n",
       "<table border=\"1\" class=\"dataframe\">\n",
       "  <thead>\n",
       "    <tr style=\"text-align: right;\">\n",
       "      <th></th>\n",
       "      <th>revenues</th>\n",
       "    </tr>\n",
       "    <tr>\n",
       "      <th>tariff_name</th>\n",
       "      <th></th>\n",
       "    </tr>\n",
       "  </thead>\n",
       "  <tbody>\n",
       "    <tr>\n",
       "      <th>smart</th>\n",
       "      <td>1058.837891</td>\n",
       "    </tr>\n",
       "    <tr>\n",
       "      <th>ultra</th>\n",
       "      <td>1950.000000</td>\n",
       "    </tr>\n",
       "  </tbody>\n",
       "</table>\n",
       "</div>"
      ],
      "text/plain": [
       "                revenues\n",
       "tariff_name             \n",
       "smart        1058.837891\n",
       "ultra        1950.000000"
      ]
     },
     "execution_count": 48,
     "metadata": {},
     "output_type": "execute_result"
    }
   ],
   "source": [
    "median_df.pivot_table(index='tariff_name', values='revenues', aggfunc='median')"
   ]
  },
  {
   "cell_type": "code",
   "execution_count": 49,
   "metadata": {},
   "outputs": [
    {
     "name": "stdout",
     "output_type": "stream",
     "text": [
      "P-value: 2.3103649869650044e-58\n",
      "Отвергаем нулевую гипотезу\n"
     ]
    }
   ],
   "source": [
    "ultra = median_df.query('tariff_name == \"ultra\"')['revenues']\n",
    "smart = median_df.query('tariff_name == \"smart\"')['revenues']\n",
    "\n",
    "alpha = .01\n",
    "\n",
    "results = st.ttest_ind(\n",
    "    ultra, \n",
    "    smart, \n",
    "    equal_var=False)\n",
    "\n",
    "print('P-value:', results.pvalue)\n",
    "\n",
    "if (results.pvalue < alpha):\n",
    "    print(\"Отвергаем нулевую гипотезу\")\n",
    "else:\n",
    "    print(\"Не получилось отвергнуть нулевую гипотезу\")"
   ]
  },
  {
   "cell_type": "markdown",
   "metadata": {},
   "source": [
    "**Вывод:**\n",
    "\n",
    "Исходя из полученного значения P-value, можно сказать следующее, что это слишком низкая вероятность для того, чтобы делать выводы о значимом равенстве между метриками. **Нулевую гипотезу отвергаем**.\n",
    "Значит, сформулированная **альтернативная гипотеза**, о том, что средняя выручка пользователей тарифов различаются - **не отвергается**."
   ]
  },
  {
   "cell_type": "markdown",
   "metadata": {},
   "source": [
    "<a id='section3.2'></a>\n",
    "### Гипотеза 2"
   ]
  },
  {
   "cell_type": "markdown",
   "metadata": {},
   "source": [
    "**H0 (Нулевая гипотеза)** - средняя выручка пользователей из Москвы равна средней выручке пользователей из других регионов.\n",
    "\n",
    "**H1 (альтернативная гипотеза)** - средняя выручка пользователей из Москвы отличается от средней выручке пользователей из других регионов.\n",
    "\n",
    "alpha = 1%"
   ]
  },
  {
   "cell_type": "code",
   "execution_count": 50,
   "metadata": {},
   "outputs": [],
   "source": [
    "#создадим две отдельные таблицы, в одной будут все клиенты из Москвы, во второй - остальные регионы\n",
    "moscow = df[df['city'] == 'Москва']\n",
    "regions = df[df['city'] != 'Москва']"
   ]
  },
  {
   "cell_type": "code",
   "execution_count": 51,
   "metadata": {},
   "outputs": [
    {
     "name": "stdout",
     "output_type": "stream",
     "text": [
      "P-value: 0.4549775646471024\n",
      "Не удалось отвергнуть нулевую гипотезу\n"
     ]
    }
   ],
   "source": [
    "#проверим соотношения пользователей разных тарифов в наших выборках\n",
    "moscow.pivot_table(index = 'tariff_name', values = 'revenues', aggfunc = 'count')\n",
    "regions.pivot_table(index = 'tariff_name', values = 'revenues', aggfunc = 'count')\n",
    "\n",
    "alpha = 0.01\n",
    "results = st.ttest_ind(moscow['revenues'], \n",
    "                       regions['revenues'], \n",
    "                       equal_var = False)\n",
    "print('P-value:', results.pvalue)\n",
    "\n",
    "if (results.pvalue < alpha):\n",
    "    print(\"Отвергаем нулевую гипотезу\")\n",
    "else:\n",
    "    print(\"Не удалось отвергнуть нулевую гипотезу\")"
   ]
  },
  {
   "cell_type": "code",
   "execution_count": 52,
   "metadata": {},
   "outputs": [
    {
     "data": {
      "text/html": [
       "<div>\n",
       "<style scoped>\n",
       "    .dataframe tbody tr th:only-of-type {\n",
       "        vertical-align: middle;\n",
       "    }\n",
       "\n",
       "    .dataframe tbody tr th {\n",
       "        vertical-align: top;\n",
       "    }\n",
       "\n",
       "    .dataframe thead th {\n",
       "        text-align: right;\n",
       "    }\n",
       "</style>\n",
       "<table border=\"1\" class=\"dataframe\">\n",
       "  <thead>\n",
       "    <tr style=\"text-align: right;\">\n",
       "      <th></th>\n",
       "      <th>revenues</th>\n",
       "    </tr>\n",
       "    <tr>\n",
       "      <th>region</th>\n",
       "      <th></th>\n",
       "    </tr>\n",
       "  </thead>\n",
       "  <tbody>\n",
       "    <tr>\n",
       "      <th>Другие регионы</th>\n",
       "      <td>1518.078125</td>\n",
       "    </tr>\n",
       "    <tr>\n",
       "      <th>Москва</th>\n",
       "      <td>1704.632812</td>\n",
       "    </tr>\n",
       "  </tbody>\n",
       "</table>\n",
       "</div>"
      ],
      "text/plain": [
       "                   revenues\n",
       "region                     \n",
       "Другие регионы  1518.078125\n",
       "Москва          1704.632812"
      ]
     },
     "execution_count": 52,
     "metadata": {},
     "output_type": "execute_result"
    }
   ],
   "source": [
    "def region_city(city):\n",
    "    if city == 'Москва': return 'Москва'\n",
    "    else: return 'Другие регионы'\n",
    "    \n",
    "df['region'] = df['city'].apply(region_city)\n",
    "df.pivot_table(index='region', values='revenues', aggfunc='median')"
   ]
  },
  {
   "cell_type": "markdown",
   "metadata": {},
   "source": [
    "**Вывод:**\n",
    "\n",
    "Из полученного значения P-value следует, что есть большая вероятность того, что отличие средних значений наших выборок случайно. **Нулевая гипотеза не отвергается**, которая говорит о равенстве средних значений. **Альтернативную гипотезу отвергаем**."
   ]
  },
  {
   "cell_type": "markdown",
   "metadata": {},
   "source": [
    "<a id='section4'></a>\n",
    "## Общий вывод"
   ]
  },
  {
   "cell_type": "markdown",
   "metadata": {},
   "source": [
    "По результатам исследования доходы от тарифа **\"Ультра\"** больше чем от тарифа **\"Смарт\"** (1950 и 1159 соответственно).\n",
    "\n",
    "Основными различиями тарифов можно выделить следующие: \n",
    " - пользователям \"Смарт\" не хватает предоставляемых им услуг тарифным планом, в большинстве случаев по интернет трафику.\n",
    " - пользователи \"Ультра\" не используют пакет услуг в полном объёме.\n",
    " - средние доходы от пользователей Москвы практически не отличаются от доходов других регионов, разница статистически не значимая (P-value: 0.4550) и равна 186 руб."
   ]
  }
 ],
 "metadata": {
  "ExecuteTimeLog": [
   {
    "duration": 501,
    "start_time": "2022-05-10T07:20:11.498Z"
   },
   {
    "duration": 446,
    "start_time": "2022-05-10T07:21:00.022Z"
   },
   {
    "duration": 2,
    "start_time": "2022-05-10T07:24:45.067Z"
   },
   {
    "duration": 389,
    "start_time": "2022-05-10T07:24:47.678Z"
   },
   {
    "duration": 59,
    "start_time": "2022-05-10T07:34:33.933Z"
   },
   {
    "duration": 20,
    "start_time": "2022-05-10T07:34:41.287Z"
   },
   {
    "duration": 16,
    "start_time": "2022-05-10T07:34:46.170Z"
   },
   {
    "duration": 6,
    "start_time": "2022-05-10T07:36:55.255Z"
   },
   {
    "duration": 6,
    "start_time": "2022-05-10T07:38:00.338Z"
   },
   {
    "duration": 10,
    "start_time": "2022-05-10T07:40:06.014Z"
   },
   {
    "duration": 4,
    "start_time": "2022-05-10T07:51:38.134Z"
   },
   {
    "duration": 3,
    "start_time": "2022-05-10T07:53:16.318Z"
   },
   {
    "duration": 3,
    "start_time": "2022-05-10T07:54:44.752Z"
   },
   {
    "duration": 11,
    "start_time": "2022-05-10T07:55:12.276Z"
   },
   {
    "duration": 10,
    "start_time": "2022-05-10T07:58:15.026Z"
   },
   {
    "duration": 9,
    "start_time": "2022-05-10T07:58:44.879Z"
   },
   {
    "duration": 11,
    "start_time": "2022-05-10T07:58:50.720Z"
   },
   {
    "duration": 18,
    "start_time": "2022-05-10T07:59:09.813Z"
   },
   {
    "duration": 18,
    "start_time": "2022-05-10T08:00:43.184Z"
   },
   {
    "duration": 679,
    "start_time": "2022-05-10T08:05:59.034Z"
   },
   {
    "duration": 649,
    "start_time": "2022-05-10T08:06:28.523Z"
   },
   {
    "duration": 7,
    "start_time": "2022-05-10T08:06:38.795Z"
   },
   {
    "duration": 8,
    "start_time": "2022-05-10T08:07:11.775Z"
   },
   {
    "duration": 12,
    "start_time": "2022-05-10T08:09:04.936Z"
   },
   {
    "duration": 22,
    "start_time": "2022-05-10T08:10:01.713Z"
   },
   {
    "duration": 24,
    "start_time": "2022-05-10T08:11:07.525Z"
   },
   {
    "duration": 11,
    "start_time": "2022-05-10T09:17:50.360Z"
   },
   {
    "duration": 15,
    "start_time": "2022-05-10T09:17:54.595Z"
   },
   {
    "duration": 13,
    "start_time": "2022-05-10T09:18:44.127Z"
   },
   {
    "duration": 13,
    "start_time": "2022-05-10T09:19:04.852Z"
   },
   {
    "duration": 823,
    "start_time": "2022-05-10T09:20:05.392Z"
   },
   {
    "duration": 592,
    "start_time": "2022-05-10T09:26:00.689Z"
   },
   {
    "duration": 240,
    "start_time": "2022-05-10T09:26:08.336Z"
   },
   {
    "duration": 203,
    "start_time": "2022-05-10T09:26:14.526Z"
   },
   {
    "duration": 19,
    "start_time": "2022-05-10T09:27:37.261Z"
   },
   {
    "duration": 17,
    "start_time": "2022-05-10T09:31:30.927Z"
   },
   {
    "duration": 16,
    "start_time": "2022-05-10T09:31:39.329Z"
   },
   {
    "duration": 16,
    "start_time": "2022-05-10T09:35:17.084Z"
   },
   {
    "duration": 2,
    "start_time": "2022-05-10T09:35:50.573Z"
   },
   {
    "duration": 5,
    "start_time": "2022-05-10T09:35:51.476Z"
   },
   {
    "duration": 194,
    "start_time": "2022-05-10T09:36:20.312Z"
   },
   {
    "duration": 21,
    "start_time": "2022-05-10T09:36:25.387Z"
   },
   {
    "duration": 22,
    "start_time": "2022-05-10T09:37:35.763Z"
   },
   {
    "duration": 202,
    "start_time": "2022-05-10T09:38:36.967Z"
   },
   {
    "duration": 232,
    "start_time": "2022-05-10T09:40:07.787Z"
   },
   {
    "duration": 260,
    "start_time": "2022-05-10T09:40:12.396Z"
   },
   {
    "duration": 228,
    "start_time": "2022-05-10T09:40:28.442Z"
   },
   {
    "duration": 13,
    "start_time": "2022-05-10T09:41:06.777Z"
   },
   {
    "duration": 241,
    "start_time": "2022-05-10T09:41:22.418Z"
   },
   {
    "duration": 2831,
    "start_time": "2022-05-10T09:42:44.195Z"
   },
   {
    "duration": 5,
    "start_time": "2022-05-10T09:43:07.267Z"
   },
   {
    "duration": 202,
    "start_time": "2022-05-10T09:43:31.165Z"
   },
   {
    "duration": 8,
    "start_time": "2022-05-10T09:43:37.247Z"
   },
   {
    "duration": 25,
    "start_time": "2022-05-10T09:44:00.112Z"
   },
   {
    "duration": 18,
    "start_time": "2022-05-10T09:44:10.449Z"
   },
   {
    "duration": 2991,
    "start_time": "2022-05-10T09:51:14.748Z"
   },
   {
    "duration": 2846,
    "start_time": "2022-05-10T09:51:59.218Z"
   },
   {
    "duration": 480,
    "start_time": "2022-05-10T09:53:32.197Z"
   },
   {
    "duration": 544,
    "start_time": "2022-05-10T09:53:32.679Z"
   },
   {
    "duration": 25,
    "start_time": "2022-05-10T09:53:33.225Z"
   },
   {
    "duration": 7,
    "start_time": "2022-05-10T09:53:33.252Z"
   },
   {
    "duration": 19,
    "start_time": "2022-05-10T09:53:33.260Z"
   },
   {
    "duration": 9,
    "start_time": "2022-05-10T09:53:33.280Z"
   },
   {
    "duration": 6,
    "start_time": "2022-05-10T09:53:33.290Z"
   },
   {
    "duration": 19,
    "start_time": "2022-05-10T09:53:33.298Z"
   },
   {
    "duration": 12,
    "start_time": "2022-05-10T09:53:33.319Z"
   },
   {
    "duration": 12,
    "start_time": "2022-05-10T09:53:33.335Z"
   },
   {
    "duration": 27,
    "start_time": "2022-05-10T09:53:33.348Z"
   },
   {
    "duration": 47,
    "start_time": "2022-05-10T09:53:33.376Z"
   },
   {
    "duration": 19,
    "start_time": "2022-05-10T09:53:33.425Z"
   },
   {
    "duration": 11,
    "start_time": "2022-05-10T09:53:33.446Z"
   },
   {
    "duration": 58,
    "start_time": "2022-05-10T09:53:33.459Z"
   },
   {
    "duration": 39,
    "start_time": "2022-05-10T09:53:33.518Z"
   },
   {
    "duration": 506,
    "start_time": "2022-05-10T09:53:33.559Z"
   },
   {
    "duration": 2,
    "start_time": "2022-05-10T09:53:34.068Z"
   },
   {
    "duration": 8,
    "start_time": "2022-05-10T09:53:34.072Z"
   },
   {
    "duration": 40,
    "start_time": "2022-05-10T09:53:34.082Z"
   },
   {
    "duration": 20,
    "start_time": "2022-05-10T09:53:34.124Z"
   },
   {
    "duration": 179,
    "start_time": "2022-05-10T09:53:34.145Z"
   },
   {
    "duration": 13,
    "start_time": "2022-05-10T09:53:34.325Z"
   },
   {
    "duration": 17,
    "start_time": "2022-05-10T09:53:34.340Z"
   },
   {
    "duration": 259,
    "start_time": "2022-05-10T09:53:34.359Z"
   },
   {
    "duration": 4,
    "start_time": "2022-05-10T09:53:34.620Z"
   },
   {
    "duration": 17,
    "start_time": "2022-05-10T09:53:34.626Z"
   },
   {
    "duration": 3252,
    "start_time": "2022-05-10T09:53:34.647Z"
   },
   {
    "duration": 2909,
    "start_time": "2022-05-10T09:53:46.508Z"
   },
   {
    "duration": 31,
    "start_time": "2022-05-10T09:57:52.963Z"
   },
   {
    "duration": 356,
    "start_time": "2022-05-10T09:58:14.094Z"
   },
   {
    "duration": 191,
    "start_time": "2022-05-10T10:00:04.659Z"
   },
   {
    "duration": 4,
    "start_time": "2022-05-10T10:00:43.183Z"
   },
   {
    "duration": 191,
    "start_time": "2022-05-10T10:00:49.359Z"
   },
   {
    "duration": 295,
    "start_time": "2022-05-10T10:00:58.734Z"
   },
   {
    "duration": 249,
    "start_time": "2022-05-10T10:01:11.337Z"
   },
   {
    "duration": 244,
    "start_time": "2022-05-10T10:01:40.087Z"
   },
   {
    "duration": 237,
    "start_time": "2022-05-10T10:01:52.601Z"
   },
   {
    "duration": 850,
    "start_time": "2022-05-10T10:02:01.877Z"
   },
   {
    "duration": 433,
    "start_time": "2022-05-10T10:02:02.729Z"
   },
   {
    "duration": 15,
    "start_time": "2022-05-10T10:02:03.164Z"
   },
   {
    "duration": 9,
    "start_time": "2022-05-10T10:02:03.182Z"
   },
   {
    "duration": 26,
    "start_time": "2022-05-10T10:02:03.193Z"
   },
   {
    "duration": 17,
    "start_time": "2022-05-10T10:02:03.221Z"
   },
   {
    "duration": 5,
    "start_time": "2022-05-10T10:02:03.240Z"
   },
   {
    "duration": 13,
    "start_time": "2022-05-10T10:02:03.247Z"
   },
   {
    "duration": 12,
    "start_time": "2022-05-10T10:02:03.262Z"
   },
   {
    "duration": 15,
    "start_time": "2022-05-10T10:02:03.277Z"
   },
   {
    "duration": 27,
    "start_time": "2022-05-10T10:02:03.294Z"
   },
   {
    "duration": 26,
    "start_time": "2022-05-10T10:02:03.323Z"
   },
   {
    "duration": 14,
    "start_time": "2022-05-10T10:02:03.350Z"
   },
   {
    "duration": 12,
    "start_time": "2022-05-10T10:02:03.366Z"
   },
   {
    "duration": 52,
    "start_time": "2022-05-10T10:02:03.380Z"
   },
   {
    "duration": 25,
    "start_time": "2022-05-10T10:02:03.434Z"
   },
   {
    "duration": 222,
    "start_time": "2022-05-10T10:02:03.460Z"
   },
   {
    "duration": 3,
    "start_time": "2022-05-10T10:02:03.683Z"
   },
   {
    "duration": 14,
    "start_time": "2022-05-10T10:02:03.688Z"
   },
   {
    "duration": 34,
    "start_time": "2022-05-10T10:02:03.706Z"
   },
   {
    "duration": 27,
    "start_time": "2022-05-10T10:02:03.742Z"
   },
   {
    "duration": 241,
    "start_time": "2022-05-10T10:02:03.770Z"
   },
   {
    "duration": 16,
    "start_time": "2022-05-10T10:02:04.013Z"
   },
   {
    "duration": 17,
    "start_time": "2022-05-10T10:02:04.031Z"
   },
   {
    "duration": 269,
    "start_time": "2022-05-10T10:02:04.050Z"
   },
   {
    "duration": 7,
    "start_time": "2022-05-10T10:02:04.321Z"
   },
   {
    "duration": 32,
    "start_time": "2022-05-10T10:02:04.330Z"
   },
   {
    "duration": 51,
    "start_time": "2022-05-10T10:02:04.366Z"
   },
   {
    "duration": 184,
    "start_time": "2022-05-10T10:02:04.418Z"
   },
   {
    "duration": 199,
    "start_time": "2022-05-10T10:03:16.815Z"
   },
   {
    "duration": 176,
    "start_time": "2022-05-10T10:03:21.087Z"
   },
   {
    "duration": 183,
    "start_time": "2022-05-10T10:03:24.821Z"
   },
   {
    "duration": 193,
    "start_time": "2022-05-10T10:03:34.191Z"
   },
   {
    "duration": 214,
    "start_time": "2022-05-10T10:03:39.711Z"
   },
   {
    "duration": 183,
    "start_time": "2022-05-10T10:03:45.251Z"
   },
   {
    "duration": 8,
    "start_time": "2022-05-10T10:09:55.255Z"
   },
   {
    "duration": 9,
    "start_time": "2022-05-10T10:10:48.686Z"
   },
   {
    "duration": 70,
    "start_time": "2022-05-10T10:14:08.179Z"
   },
   {
    "duration": 4,
    "start_time": "2022-05-10T10:18:14.136Z"
   },
   {
    "duration": 1349,
    "start_time": "2022-05-10T10:18:43.065Z"
   },
   {
    "duration": 10,
    "start_time": "2022-05-10T10:18:50.805Z"
   },
   {
    "duration": 2551,
    "start_time": "2022-05-10T10:21:48.651Z"
   },
   {
    "duration": 641,
    "start_time": "2022-05-10T10:22:07.924Z"
   },
   {
    "duration": 382,
    "start_time": "2022-05-10T10:22:08.566Z"
   },
   {
    "duration": 14,
    "start_time": "2022-05-10T10:22:08.950Z"
   },
   {
    "duration": 9,
    "start_time": "2022-05-10T10:22:08.965Z"
   },
   {
    "duration": 15,
    "start_time": "2022-05-10T10:22:08.976Z"
   },
   {
    "duration": 7,
    "start_time": "2022-05-10T10:22:08.992Z"
   },
   {
    "duration": 8,
    "start_time": "2022-05-10T10:22:09.001Z"
   },
   {
    "duration": 12,
    "start_time": "2022-05-10T10:22:09.010Z"
   },
   {
    "duration": 14,
    "start_time": "2022-05-10T10:22:09.024Z"
   },
   {
    "duration": 11,
    "start_time": "2022-05-10T10:22:09.041Z"
   },
   {
    "duration": 16,
    "start_time": "2022-05-10T10:22:09.054Z"
   },
   {
    "duration": 28,
    "start_time": "2022-05-10T10:22:09.072Z"
   },
   {
    "duration": 12,
    "start_time": "2022-05-10T10:22:09.102Z"
   },
   {
    "duration": 16,
    "start_time": "2022-05-10T10:22:09.116Z"
   },
   {
    "duration": 23,
    "start_time": "2022-05-10T10:22:09.133Z"
   },
   {
    "duration": 23,
    "start_time": "2022-05-10T10:22:09.157Z"
   },
   {
    "duration": 196,
    "start_time": "2022-05-10T10:22:09.201Z"
   },
   {
    "duration": 3,
    "start_time": "2022-05-10T10:22:09.399Z"
   },
   {
    "duration": 7,
    "start_time": "2022-05-10T10:22:09.403Z"
   },
   {
    "duration": 21,
    "start_time": "2022-05-10T10:22:09.411Z"
   },
   {
    "duration": 18,
    "start_time": "2022-05-10T10:22:09.433Z"
   },
   {
    "duration": 200,
    "start_time": "2022-05-10T10:22:09.452Z"
   },
   {
    "duration": 13,
    "start_time": "2022-05-10T10:22:09.654Z"
   },
   {
    "duration": 18,
    "start_time": "2022-05-10T10:22:09.669Z"
   },
   {
    "duration": 235,
    "start_time": "2022-05-10T10:22:09.688Z"
   },
   {
    "duration": 4,
    "start_time": "2022-05-10T10:22:09.925Z"
   },
   {
    "duration": 23,
    "start_time": "2022-05-10T10:22:09.930Z"
   },
   {
    "duration": 2750,
    "start_time": "2022-05-10T10:22:09.956Z"
   },
   {
    "duration": 0,
    "start_time": "2022-05-10T10:22:12.708Z"
   },
   {
    "duration": 0,
    "start_time": "2022-05-10T10:22:12.709Z"
   },
   {
    "duration": 0,
    "start_time": "2022-05-10T10:22:12.710Z"
   },
   {
    "duration": 147,
    "start_time": "2022-05-10T10:22:55.644Z"
   },
   {
    "duration": 181,
    "start_time": "2022-05-10T10:23:05.315Z"
   },
   {
    "duration": 212,
    "start_time": "2022-05-10T10:23:56.852Z"
   },
   {
    "duration": 190,
    "start_time": "2022-05-10T10:24:03.780Z"
   },
   {
    "duration": 184,
    "start_time": "2022-05-10T10:24:14.363Z"
   },
   {
    "duration": 4,
    "start_time": "2022-05-10T10:24:59.113Z"
   },
   {
    "duration": 1338,
    "start_time": "2022-05-10T10:25:00.237Z"
   },
   {
    "duration": 11,
    "start_time": "2022-05-10T10:25:01.577Z"
   },
   {
    "duration": 2728,
    "start_time": "2022-05-10T10:28:20.365Z"
   },
   {
    "duration": 2604,
    "start_time": "2022-05-10T10:28:44.171Z"
   },
   {
    "duration": 7,
    "start_time": "2022-05-10T10:29:46.395Z"
   },
   {
    "duration": 55,
    "start_time": "2022-05-10T10:29:58.612Z"
   },
   {
    "duration": 123,
    "start_time": "2022-05-10T10:31:08.142Z"
   },
   {
    "duration": 605,
    "start_time": "2022-05-10T10:31:13.831Z"
   },
   {
    "duration": 367,
    "start_time": "2022-05-10T10:31:14.438Z"
   },
   {
    "duration": 14,
    "start_time": "2022-05-10T10:31:14.807Z"
   },
   {
    "duration": 6,
    "start_time": "2022-05-10T10:31:14.824Z"
   },
   {
    "duration": 10,
    "start_time": "2022-05-10T10:31:14.831Z"
   },
   {
    "duration": 5,
    "start_time": "2022-05-10T10:31:14.842Z"
   },
   {
    "duration": 4,
    "start_time": "2022-05-10T10:31:14.849Z"
   },
   {
    "duration": 11,
    "start_time": "2022-05-10T10:31:14.855Z"
   },
   {
    "duration": 37,
    "start_time": "2022-05-10T10:31:14.867Z"
   },
   {
    "duration": 12,
    "start_time": "2022-05-10T10:31:14.906Z"
   },
   {
    "duration": 16,
    "start_time": "2022-05-10T10:31:14.920Z"
   },
   {
    "duration": 21,
    "start_time": "2022-05-10T10:31:14.937Z"
   },
   {
    "duration": 41,
    "start_time": "2022-05-10T10:31:14.959Z"
   },
   {
    "duration": 11,
    "start_time": "2022-05-10T10:31:15.002Z"
   },
   {
    "duration": 28,
    "start_time": "2022-05-10T10:31:15.015Z"
   },
   {
    "duration": 25,
    "start_time": "2022-05-10T10:31:15.044Z"
   },
   {
    "duration": 208,
    "start_time": "2022-05-10T10:31:15.070Z"
   },
   {
    "duration": 2,
    "start_time": "2022-05-10T10:31:15.280Z"
   },
   {
    "duration": 16,
    "start_time": "2022-05-10T10:31:15.284Z"
   },
   {
    "duration": 17,
    "start_time": "2022-05-10T10:31:15.301Z"
   },
   {
    "duration": 18,
    "start_time": "2022-05-10T10:31:15.320Z"
   },
   {
    "duration": 194,
    "start_time": "2022-05-10T10:31:15.340Z"
   },
   {
    "duration": 12,
    "start_time": "2022-05-10T10:31:15.535Z"
   },
   {
    "duration": 16,
    "start_time": "2022-05-10T10:31:15.549Z"
   },
   {
    "duration": 227,
    "start_time": "2022-05-10T10:31:15.566Z"
   },
   {
    "duration": 6,
    "start_time": "2022-05-10T10:31:15.795Z"
   },
   {
    "duration": 23,
    "start_time": "2022-05-10T10:31:15.803Z"
   },
   {
    "duration": 78,
    "start_time": "2022-05-10T10:31:15.829Z"
   },
   {
    "duration": 10,
    "start_time": "2022-05-10T10:33:22.412Z"
   },
   {
    "duration": 9,
    "start_time": "2022-05-10T10:37:06.538Z"
   },
   {
    "duration": 24,
    "start_time": "2022-05-10T10:37:30.645Z"
   },
   {
    "duration": 23,
    "start_time": "2022-05-10T10:38:32.249Z"
   },
   {
    "duration": 31,
    "start_time": "2022-05-10T10:40:47.671Z"
   },
   {
    "duration": 198,
    "start_time": "2022-05-10T10:41:22.321Z"
   },
   {
    "duration": 158,
    "start_time": "2022-05-10T10:41:36.794Z"
   },
   {
    "duration": 38,
    "start_time": "2022-05-10T10:42:19.669Z"
   },
   {
    "duration": 22,
    "start_time": "2022-05-10T10:42:20.423Z"
   },
   {
    "duration": 21,
    "start_time": "2022-05-10T10:42:20.974Z"
   },
   {
    "duration": 670,
    "start_time": "2022-05-10T10:44:27.269Z"
   },
   {
    "duration": 386,
    "start_time": "2022-05-10T10:44:27.941Z"
   },
   {
    "duration": 14,
    "start_time": "2022-05-10T10:44:28.329Z"
   },
   {
    "duration": 7,
    "start_time": "2022-05-10T10:44:28.345Z"
   },
   {
    "duration": 11,
    "start_time": "2022-05-10T10:44:28.353Z"
   },
   {
    "duration": 6,
    "start_time": "2022-05-10T10:44:28.366Z"
   },
   {
    "duration": 6,
    "start_time": "2022-05-10T10:44:28.374Z"
   },
   {
    "duration": 15,
    "start_time": "2022-05-10T10:44:28.381Z"
   },
   {
    "duration": 10,
    "start_time": "2022-05-10T10:44:28.398Z"
   },
   {
    "duration": 8,
    "start_time": "2022-05-10T10:44:28.411Z"
   },
   {
    "duration": 16,
    "start_time": "2022-05-10T10:44:28.421Z"
   },
   {
    "duration": 19,
    "start_time": "2022-05-10T10:44:28.439Z"
   },
   {
    "duration": 43,
    "start_time": "2022-05-10T10:44:28.460Z"
   },
   {
    "duration": 12,
    "start_time": "2022-05-10T10:44:28.505Z"
   },
   {
    "duration": 23,
    "start_time": "2022-05-10T10:44:28.518Z"
   },
   {
    "duration": 25,
    "start_time": "2022-05-10T10:44:28.543Z"
   },
   {
    "duration": 220,
    "start_time": "2022-05-10T10:44:28.570Z"
   },
   {
    "duration": 2,
    "start_time": "2022-05-10T10:44:28.792Z"
   },
   {
    "duration": 3,
    "start_time": "2022-05-10T10:44:28.801Z"
   },
   {
    "duration": 19,
    "start_time": "2022-05-10T10:44:28.806Z"
   },
   {
    "duration": 20,
    "start_time": "2022-05-10T10:44:28.826Z"
   },
   {
    "duration": 203,
    "start_time": "2022-05-10T10:44:28.848Z"
   },
   {
    "duration": 13,
    "start_time": "2022-05-10T10:44:29.053Z"
   },
   {
    "duration": 54,
    "start_time": "2022-05-10T10:44:29.067Z"
   },
   {
    "duration": 51,
    "start_time": "2022-05-10T10:44:29.123Z"
   },
   {
    "duration": 335,
    "start_time": "2022-05-10T10:44:29.176Z"
   },
   {
    "duration": 5,
    "start_time": "2022-05-10T10:44:29.513Z"
   },
   {
    "duration": 24,
    "start_time": "2022-05-10T10:44:29.521Z"
   },
   {
    "duration": 212,
    "start_time": "2022-05-10T10:44:29.546Z"
   },
   {
    "duration": 41,
    "start_time": "2022-05-10T10:44:29.760Z"
   },
   {
    "duration": 25,
    "start_time": "2022-05-10T10:44:29.803Z"
   },
   {
    "duration": 23,
    "start_time": "2022-05-10T10:44:29.830Z"
   },
   {
    "duration": 6,
    "start_time": "2022-05-10T10:51:59.562Z"
   },
   {
    "duration": 22,
    "start_time": "2022-05-10T10:52:00.916Z"
   },
   {
    "duration": 6,
    "start_time": "2022-05-10T10:52:42.658Z"
   },
   {
    "duration": 5,
    "start_time": "2022-05-10T10:53:00.101Z"
   },
   {
    "duration": 12,
    "start_time": "2022-05-10T10:53:01.692Z"
   },
   {
    "duration": 711,
    "start_time": "2022-05-10T10:53:10.224Z"
   },
   {
    "duration": 544,
    "start_time": "2022-05-10T10:53:10.937Z"
   },
   {
    "duration": 19,
    "start_time": "2022-05-10T10:53:11.483Z"
   },
   {
    "duration": 7,
    "start_time": "2022-05-10T10:53:11.505Z"
   },
   {
    "duration": 13,
    "start_time": "2022-05-10T10:53:11.514Z"
   },
   {
    "duration": 4,
    "start_time": "2022-05-10T10:53:11.529Z"
   },
   {
    "duration": 7,
    "start_time": "2022-05-10T10:53:11.535Z"
   },
   {
    "duration": 17,
    "start_time": "2022-05-10T10:53:11.543Z"
   },
   {
    "duration": 10,
    "start_time": "2022-05-10T10:53:11.562Z"
   },
   {
    "duration": 14,
    "start_time": "2022-05-10T10:53:11.600Z"
   },
   {
    "duration": 17,
    "start_time": "2022-05-10T10:53:11.615Z"
   },
   {
    "duration": 16,
    "start_time": "2022-05-10T10:53:11.633Z"
   },
   {
    "duration": 12,
    "start_time": "2022-05-10T10:53:11.650Z"
   },
   {
    "duration": 43,
    "start_time": "2022-05-10T10:53:11.664Z"
   },
   {
    "duration": 23,
    "start_time": "2022-05-10T10:53:11.709Z"
   },
   {
    "duration": 202,
    "start_time": "2022-05-10T10:53:11.734Z"
   },
   {
    "duration": 2,
    "start_time": "2022-05-10T10:53:11.938Z"
   },
   {
    "duration": 7,
    "start_time": "2022-05-10T10:53:11.942Z"
   },
   {
    "duration": 25,
    "start_time": "2022-05-10T10:53:11.950Z"
   },
   {
    "duration": 67,
    "start_time": "2022-05-10T10:53:11.977Z"
   },
   {
    "duration": 191,
    "start_time": "2022-05-10T10:53:12.045Z"
   },
   {
    "duration": 12,
    "start_time": "2022-05-10T10:53:12.238Z"
   },
   {
    "duration": 34,
    "start_time": "2022-05-10T10:53:12.251Z"
   },
   {
    "duration": 39,
    "start_time": "2022-05-10T10:53:12.287Z"
   },
   {
    "duration": 235,
    "start_time": "2022-05-10T10:53:12.328Z"
   },
   {
    "duration": 5,
    "start_time": "2022-05-10T10:53:12.565Z"
   },
   {
    "duration": 30,
    "start_time": "2022-05-10T10:53:12.571Z"
   },
   {
    "duration": 163,
    "start_time": "2022-05-10T10:53:12.604Z"
   },
   {
    "duration": 0,
    "start_time": "2022-05-10T10:53:12.769Z"
   },
   {
    "duration": 0,
    "start_time": "2022-05-10T10:53:12.770Z"
   },
   {
    "duration": 0,
    "start_time": "2022-05-10T10:53:12.772Z"
   },
   {
    "duration": 17,
    "start_time": "2022-05-10T10:54:06.485Z"
   },
   {
    "duration": 19,
    "start_time": "2022-05-10T10:55:00.259Z"
   },
   {
    "duration": 135,
    "start_time": "2022-05-10T10:55:12.279Z"
   },
   {
    "duration": 28,
    "start_time": "2022-05-10T10:55:14.117Z"
   },
   {
    "duration": 18,
    "start_time": "2022-05-10T10:55:14.409Z"
   },
   {
    "duration": 17,
    "start_time": "2022-05-10T10:55:14.852Z"
   },
   {
    "duration": 959,
    "start_time": "2022-05-11T06:29:41.517Z"
   },
   {
    "duration": 392,
    "start_time": "2022-05-11T06:29:42.478Z"
   },
   {
    "duration": 16,
    "start_time": "2022-05-11T06:29:42.872Z"
   },
   {
    "duration": 7,
    "start_time": "2022-05-11T06:29:42.890Z"
   },
   {
    "duration": 13,
    "start_time": "2022-05-11T06:29:42.899Z"
   },
   {
    "duration": 8,
    "start_time": "2022-05-11T06:29:42.914Z"
   },
   {
    "duration": 12,
    "start_time": "2022-05-11T06:29:42.924Z"
   },
   {
    "duration": 49,
    "start_time": "2022-05-11T06:29:42.938Z"
   },
   {
    "duration": 16,
    "start_time": "2022-05-11T06:29:42.989Z"
   },
   {
    "duration": 14,
    "start_time": "2022-05-11T06:29:43.007Z"
   },
   {
    "duration": 52,
    "start_time": "2022-05-11T06:29:43.022Z"
   },
   {
    "duration": 33,
    "start_time": "2022-05-11T06:29:43.077Z"
   },
   {
    "duration": 24,
    "start_time": "2022-05-11T06:29:43.112Z"
   },
   {
    "duration": 39,
    "start_time": "2022-05-11T06:29:43.140Z"
   },
   {
    "duration": 61,
    "start_time": "2022-05-11T06:29:43.181Z"
   },
   {
    "duration": 27,
    "start_time": "2022-05-11T06:29:43.243Z"
   },
   {
    "duration": 226,
    "start_time": "2022-05-11T06:29:43.272Z"
   },
   {
    "duration": 3,
    "start_time": "2022-05-11T06:29:43.499Z"
   },
   {
    "duration": 9,
    "start_time": "2022-05-11T06:29:43.504Z"
   },
   {
    "duration": 22,
    "start_time": "2022-05-11T06:29:43.515Z"
   },
   {
    "duration": 35,
    "start_time": "2022-05-11T06:29:43.539Z"
   },
   {
    "duration": 27,
    "start_time": "2022-05-11T06:29:43.576Z"
   },
   {
    "duration": 34,
    "start_time": "2022-05-11T06:29:43.605Z"
   },
   {
    "duration": 223,
    "start_time": "2022-05-11T06:29:43.641Z"
   },
   {
    "duration": 11,
    "start_time": "2022-05-11T06:29:43.867Z"
   },
   {
    "duration": 20,
    "start_time": "2022-05-11T06:29:43.880Z"
   },
   {
    "duration": 159,
    "start_time": "2022-05-11T06:29:43.902Z"
   },
   {
    "duration": 40,
    "start_time": "2022-05-11T06:29:44.063Z"
   },
   {
    "duration": 23,
    "start_time": "2022-05-11T06:29:44.105Z"
   },
   {
    "duration": 49,
    "start_time": "2022-05-11T06:29:44.130Z"
   },
   {
    "duration": 625,
    "start_time": "2022-05-11T07:32:42.097Z"
   },
   {
    "duration": 374,
    "start_time": "2022-05-11T07:32:42.724Z"
   },
   {
    "duration": 15,
    "start_time": "2022-05-11T07:32:43.099Z"
   },
   {
    "duration": 6,
    "start_time": "2022-05-11T07:32:43.115Z"
   },
   {
    "duration": 10,
    "start_time": "2022-05-11T07:32:43.123Z"
   },
   {
    "duration": 6,
    "start_time": "2022-05-11T07:32:43.135Z"
   },
   {
    "duration": 12,
    "start_time": "2022-05-11T07:32:43.142Z"
   },
   {
    "duration": 24,
    "start_time": "2022-05-11T07:32:43.155Z"
   },
   {
    "duration": 7,
    "start_time": "2022-05-11T07:32:43.181Z"
   },
   {
    "duration": 21,
    "start_time": "2022-05-11T07:32:43.190Z"
   },
   {
    "duration": 10,
    "start_time": "2022-05-11T07:32:43.213Z"
   },
   {
    "duration": 55,
    "start_time": "2022-05-11T07:32:43.225Z"
   },
   {
    "duration": 15,
    "start_time": "2022-05-11T07:32:43.282Z"
   },
   {
    "duration": 13,
    "start_time": "2022-05-11T07:32:43.299Z"
   },
   {
    "duration": 26,
    "start_time": "2022-05-11T07:32:43.313Z"
   },
   {
    "duration": 55,
    "start_time": "2022-05-11T07:32:43.340Z"
   },
   {
    "duration": 224,
    "start_time": "2022-05-11T07:32:43.397Z"
   },
   {
    "duration": 3,
    "start_time": "2022-05-11T07:32:43.623Z"
   },
   {
    "duration": 13,
    "start_time": "2022-05-11T07:32:43.627Z"
   },
   {
    "duration": 34,
    "start_time": "2022-05-11T07:32:43.641Z"
   },
   {
    "duration": 12,
    "start_time": "2022-05-11T07:32:43.677Z"
   },
   {
    "duration": 25,
    "start_time": "2022-05-11T07:32:43.691Z"
   },
   {
    "duration": 85,
    "start_time": "2022-05-11T07:32:43.718Z"
   },
   {
    "duration": 212,
    "start_time": "2022-05-11T07:32:43.805Z"
   },
   {
    "duration": 33,
    "start_time": "2022-05-11T07:32:44.019Z"
   },
   {
    "duration": 285,
    "start_time": "2022-05-11T07:32:44.054Z"
   },
   {
    "duration": 6,
    "start_time": "2022-05-11T07:32:44.340Z"
   },
   {
    "duration": 37,
    "start_time": "2022-05-11T07:32:44.348Z"
   },
   {
    "duration": 139,
    "start_time": "2022-05-11T07:32:44.386Z"
   },
   {
    "duration": 29,
    "start_time": "2022-05-11T07:32:44.527Z"
   },
   {
    "duration": 36,
    "start_time": "2022-05-11T07:32:44.558Z"
   },
   {
    "duration": 24,
    "start_time": "2022-05-11T07:32:44.596Z"
   },
   {
    "duration": 647,
    "start_time": "2022-05-11T07:36:03.390Z"
   },
   {
    "duration": 408,
    "start_time": "2022-05-11T07:36:04.039Z"
   },
   {
    "duration": 14,
    "start_time": "2022-05-11T07:36:04.449Z"
   },
   {
    "duration": 10,
    "start_time": "2022-05-11T07:36:04.464Z"
   },
   {
    "duration": 10,
    "start_time": "2022-05-11T07:36:04.476Z"
   },
   {
    "duration": 7,
    "start_time": "2022-05-11T07:36:04.488Z"
   },
   {
    "duration": 6,
    "start_time": "2022-05-11T07:36:04.496Z"
   },
   {
    "duration": 15,
    "start_time": "2022-05-11T07:36:04.503Z"
   },
   {
    "duration": 9,
    "start_time": "2022-05-11T07:36:04.519Z"
   },
   {
    "duration": 20,
    "start_time": "2022-05-11T07:36:04.530Z"
   },
   {
    "duration": 10,
    "start_time": "2022-05-11T07:36:04.552Z"
   },
   {
    "duration": 22,
    "start_time": "2022-05-11T07:36:04.563Z"
   },
   {
    "duration": 14,
    "start_time": "2022-05-11T07:36:04.587Z"
   },
   {
    "duration": 12,
    "start_time": "2022-05-11T07:36:04.604Z"
   },
   {
    "duration": 21,
    "start_time": "2022-05-11T07:36:04.618Z"
   },
   {
    "duration": 35,
    "start_time": "2022-05-11T07:36:04.641Z"
   },
   {
    "duration": 240,
    "start_time": "2022-05-11T07:36:04.678Z"
   },
   {
    "duration": 2,
    "start_time": "2022-05-11T07:36:04.920Z"
   },
   {
    "duration": 8,
    "start_time": "2022-05-11T07:36:04.924Z"
   },
   {
    "duration": 40,
    "start_time": "2022-05-11T07:36:04.934Z"
   },
   {
    "duration": 14,
    "start_time": "2022-05-11T07:36:04.976Z"
   },
   {
    "duration": 81,
    "start_time": "2022-05-11T07:36:04.992Z"
   },
   {
    "duration": 36,
    "start_time": "2022-05-11T07:36:05.076Z"
   },
   {
    "duration": 248,
    "start_time": "2022-05-11T07:36:05.113Z"
   },
   {
    "duration": 14,
    "start_time": "2022-05-11T07:36:05.363Z"
   },
   {
    "duration": 30,
    "start_time": "2022-05-11T07:36:05.379Z"
   },
   {
    "duration": 154,
    "start_time": "2022-05-11T07:36:05.411Z"
   },
   {
    "duration": 37,
    "start_time": "2022-05-11T07:36:05.572Z"
   },
   {
    "duration": 28,
    "start_time": "2022-05-11T07:36:05.610Z"
   },
   {
    "duration": 42,
    "start_time": "2022-05-11T07:36:05.640Z"
   },
   {
    "duration": 94,
    "start_time": "2022-05-11T08:08:38.022Z"
   },
   {
    "duration": 15,
    "start_time": "2022-05-11T08:08:42.551Z"
   },
   {
    "duration": 8,
    "start_time": "2022-05-11T08:09:22.007Z"
   },
   {
    "duration": 7,
    "start_time": "2022-05-11T08:09:34.196Z"
   },
   {
    "duration": 93,
    "start_time": "2022-05-11T08:15:58.195Z"
   },
   {
    "duration": 12,
    "start_time": "2022-05-11T08:15:59.138Z"
   },
   {
    "duration": 19,
    "start_time": "2022-05-11T08:17:58.595Z"
   },
   {
    "duration": 13,
    "start_time": "2022-05-11T08:18:21.309Z"
   },
   {
    "duration": 1761,
    "start_time": "2022-05-11T08:19:06.998Z"
   },
   {
    "duration": 83,
    "start_time": "2022-05-11T08:19:14.664Z"
   },
   {
    "duration": 3,
    "start_time": "2022-05-11T08:19:15.141Z"
   },
   {
    "duration": 136,
    "start_time": "2022-05-11T08:20:09.241Z"
   },
   {
    "duration": 30,
    "start_time": "2022-05-11T08:20:30.651Z"
   },
   {
    "duration": 8,
    "start_time": "2022-05-11T08:22:18.056Z"
   },
   {
    "duration": 4,
    "start_time": "2022-05-11T08:26:33.712Z"
   },
   {
    "duration": 677,
    "start_time": "2022-05-11T08:26:46.875Z"
   },
   {
    "duration": 441,
    "start_time": "2022-05-11T08:26:47.554Z"
   },
   {
    "duration": 16,
    "start_time": "2022-05-11T08:26:47.997Z"
   },
   {
    "duration": 7,
    "start_time": "2022-05-11T08:26:48.015Z"
   },
   {
    "duration": 13,
    "start_time": "2022-05-11T08:26:48.023Z"
   },
   {
    "duration": 10,
    "start_time": "2022-05-11T08:26:48.038Z"
   },
   {
    "duration": 13,
    "start_time": "2022-05-11T08:26:48.049Z"
   },
   {
    "duration": 48,
    "start_time": "2022-05-11T08:26:48.064Z"
   },
   {
    "duration": 15,
    "start_time": "2022-05-11T08:26:48.114Z"
   },
   {
    "duration": 23,
    "start_time": "2022-05-11T08:26:48.131Z"
   },
   {
    "duration": 10,
    "start_time": "2022-05-11T08:26:48.156Z"
   },
   {
    "duration": 35,
    "start_time": "2022-05-11T08:26:48.167Z"
   },
   {
    "duration": 20,
    "start_time": "2022-05-11T08:26:48.204Z"
   },
   {
    "duration": 16,
    "start_time": "2022-05-11T08:26:48.227Z"
   },
   {
    "duration": 40,
    "start_time": "2022-05-11T08:26:48.245Z"
   },
   {
    "duration": 40,
    "start_time": "2022-05-11T08:26:48.287Z"
   },
   {
    "duration": 295,
    "start_time": "2022-05-11T08:26:48.329Z"
   },
   {
    "duration": 4,
    "start_time": "2022-05-11T08:26:48.626Z"
   },
   {
    "duration": 8,
    "start_time": "2022-05-11T08:26:48.632Z"
   },
   {
    "duration": 30,
    "start_time": "2022-05-11T08:26:48.642Z"
   },
   {
    "duration": 15,
    "start_time": "2022-05-11T08:26:48.680Z"
   },
   {
    "duration": 45,
    "start_time": "2022-05-11T08:26:48.697Z"
   },
   {
    "duration": 36,
    "start_time": "2022-05-11T08:26:48.744Z"
   },
   {
    "duration": 235,
    "start_time": "2022-05-11T08:26:48.784Z"
   },
   {
    "duration": 7,
    "start_time": "2022-05-11T08:26:49.022Z"
   },
   {
    "duration": 21,
    "start_time": "2022-05-11T08:26:49.031Z"
   },
   {
    "duration": 172,
    "start_time": "2022-05-11T08:26:49.073Z"
   },
   {
    "duration": 43,
    "start_time": "2022-05-11T08:26:49.249Z"
   },
   {
    "duration": 37,
    "start_time": "2022-05-11T08:26:49.294Z"
   },
   {
    "duration": 22,
    "start_time": "2022-05-11T08:26:49.332Z"
   },
   {
    "duration": 92,
    "start_time": "2022-05-11T08:26:49.356Z"
   },
   {
    "duration": 98,
    "start_time": "2022-05-11T08:26:49.450Z"
   },
   {
    "duration": 3,
    "start_time": "2022-05-11T08:26:49.549Z"
   },
   {
    "duration": 23,
    "start_time": "2022-05-11T08:26:49.554Z"
   },
   {
    "duration": 4,
    "start_time": "2022-05-11T08:27:59.409Z"
   },
   {
    "duration": 16,
    "start_time": "2022-05-11T08:28:00.094Z"
   },
   {
    "duration": 773,
    "start_time": "2022-05-11T08:31:22.668Z"
   },
   {
    "duration": 484,
    "start_time": "2022-05-11T08:31:23.442Z"
   },
   {
    "duration": 17,
    "start_time": "2022-05-11T08:31:23.928Z"
   },
   {
    "duration": 7,
    "start_time": "2022-05-11T08:31:23.947Z"
   },
   {
    "duration": 13,
    "start_time": "2022-05-11T08:31:23.956Z"
   },
   {
    "duration": 49,
    "start_time": "2022-05-11T08:31:23.971Z"
   },
   {
    "duration": 6,
    "start_time": "2022-05-11T08:31:24.022Z"
   },
   {
    "duration": 13,
    "start_time": "2022-05-11T08:31:24.030Z"
   },
   {
    "duration": 10,
    "start_time": "2022-05-11T08:31:24.045Z"
   },
   {
    "duration": 24,
    "start_time": "2022-05-11T08:31:24.058Z"
   },
   {
    "duration": 48,
    "start_time": "2022-05-11T08:31:24.084Z"
   },
   {
    "duration": 23,
    "start_time": "2022-05-11T08:31:24.134Z"
   },
   {
    "duration": 21,
    "start_time": "2022-05-11T08:31:24.159Z"
   },
   {
    "duration": 52,
    "start_time": "2022-05-11T08:31:24.182Z"
   },
   {
    "duration": 27,
    "start_time": "2022-05-11T08:31:24.236Z"
   },
   {
    "duration": 46,
    "start_time": "2022-05-11T08:31:24.265Z"
   },
   {
    "duration": 286,
    "start_time": "2022-05-11T08:31:24.322Z"
   },
   {
    "duration": 3,
    "start_time": "2022-05-11T08:31:24.609Z"
   },
   {
    "duration": 24,
    "start_time": "2022-05-11T08:31:24.614Z"
   },
   {
    "duration": 26,
    "start_time": "2022-05-11T08:31:24.640Z"
   },
   {
    "duration": 22,
    "start_time": "2022-05-11T08:31:24.668Z"
   },
   {
    "duration": 54,
    "start_time": "2022-05-11T08:31:24.692Z"
   },
   {
    "duration": 40,
    "start_time": "2022-05-11T08:31:24.748Z"
   },
   {
    "duration": 265,
    "start_time": "2022-05-11T08:31:24.790Z"
   },
   {
    "duration": 7,
    "start_time": "2022-05-11T08:31:25.057Z"
   },
   {
    "duration": 24,
    "start_time": "2022-05-11T08:31:25.066Z"
   },
   {
    "duration": 192,
    "start_time": "2022-05-11T08:31:25.091Z"
   },
   {
    "duration": 39,
    "start_time": "2022-05-11T08:31:25.289Z"
   },
   {
    "duration": 25,
    "start_time": "2022-05-11T08:31:25.330Z"
   },
   {
    "duration": 33,
    "start_time": "2022-05-11T08:31:25.357Z"
   },
   {
    "duration": 106,
    "start_time": "2022-05-11T08:31:25.392Z"
   },
   {
    "duration": 116,
    "start_time": "2022-05-11T08:31:25.500Z"
   },
   {
    "duration": 4,
    "start_time": "2022-05-11T08:31:25.618Z"
   },
   {
    "duration": 21,
    "start_time": "2022-05-11T08:31:25.625Z"
   },
   {
    "duration": 13,
    "start_time": "2022-05-11T08:37:43.929Z"
   },
   {
    "duration": 16,
    "start_time": "2022-05-11T08:39:14.813Z"
   },
   {
    "duration": 12,
    "start_time": "2022-05-11T08:40:38.198Z"
   },
   {
    "duration": 110,
    "start_time": "2022-05-11T08:43:57.700Z"
   },
   {
    "duration": 13,
    "start_time": "2022-05-11T08:44:11.649Z"
   },
   {
    "duration": 17,
    "start_time": "2022-05-11T08:45:57.996Z"
   },
   {
    "duration": 9,
    "start_time": "2022-05-11T08:47:58.865Z"
   },
   {
    "duration": 11,
    "start_time": "2022-05-11T08:48:54.845Z"
   },
   {
    "duration": 9,
    "start_time": "2022-05-11T08:49:59.694Z"
   },
   {
    "duration": 13,
    "start_time": "2022-05-11T08:50:12.375Z"
   },
   {
    "duration": 11,
    "start_time": "2022-05-11T08:51:42.337Z"
   },
   {
    "duration": 11,
    "start_time": "2022-05-11T08:52:13.966Z"
   },
   {
    "duration": 10,
    "start_time": "2022-05-11T08:52:31.293Z"
   },
   {
    "duration": 10,
    "start_time": "2022-05-11T08:58:10.308Z"
   },
   {
    "duration": 9,
    "start_time": "2022-05-11T08:58:21.163Z"
   },
   {
    "duration": 8,
    "start_time": "2022-05-11T08:59:55.458Z"
   },
   {
    "duration": 47,
    "start_time": "2022-05-11T09:03:57.958Z"
   },
   {
    "duration": 27,
    "start_time": "2022-05-11T09:04:04.098Z"
   },
   {
    "duration": 736,
    "start_time": "2022-05-11T09:04:53.526Z"
   },
   {
    "duration": 489,
    "start_time": "2022-05-11T09:04:54.264Z"
   },
   {
    "duration": 15,
    "start_time": "2022-05-11T09:04:54.755Z"
   },
   {
    "duration": 44,
    "start_time": "2022-05-11T09:04:54.773Z"
   },
   {
    "duration": 39,
    "start_time": "2022-05-11T09:04:54.819Z"
   },
   {
    "duration": 8,
    "start_time": "2022-05-11T09:04:54.860Z"
   },
   {
    "duration": 66,
    "start_time": "2022-05-11T09:04:54.870Z"
   },
   {
    "duration": 20,
    "start_time": "2022-05-11T09:04:54.939Z"
   },
   {
    "duration": 21,
    "start_time": "2022-05-11T09:04:54.961Z"
   },
   {
    "duration": 92,
    "start_time": "2022-05-11T09:04:54.986Z"
   },
   {
    "duration": 21,
    "start_time": "2022-05-11T09:04:55.080Z"
   },
   {
    "duration": 71,
    "start_time": "2022-05-11T09:04:55.104Z"
   },
   {
    "duration": 32,
    "start_time": "2022-05-11T09:04:55.178Z"
   },
   {
    "duration": 46,
    "start_time": "2022-05-11T09:04:55.213Z"
   },
   {
    "duration": 44,
    "start_time": "2022-05-11T09:04:55.261Z"
   },
   {
    "duration": 58,
    "start_time": "2022-05-11T09:04:55.307Z"
   },
   {
    "duration": 282,
    "start_time": "2022-05-11T09:04:55.368Z"
   },
   {
    "duration": 3,
    "start_time": "2022-05-11T09:04:55.652Z"
   },
   {
    "duration": 26,
    "start_time": "2022-05-11T09:04:55.658Z"
   },
   {
    "duration": 61,
    "start_time": "2022-05-11T09:04:55.688Z"
   },
   {
    "duration": 13,
    "start_time": "2022-05-11T09:04:55.750Z"
   },
   {
    "duration": 52,
    "start_time": "2022-05-11T09:04:55.765Z"
   },
   {
    "duration": 52,
    "start_time": "2022-05-11T09:04:55.819Z"
   },
   {
    "duration": 258,
    "start_time": "2022-05-11T09:04:55.874Z"
   },
   {
    "duration": 7,
    "start_time": "2022-05-11T09:04:56.137Z"
   },
   {
    "duration": 26,
    "start_time": "2022-05-11T09:04:56.146Z"
   },
   {
    "duration": 211,
    "start_time": "2022-05-11T09:04:56.175Z"
   },
   {
    "duration": 42,
    "start_time": "2022-05-11T09:04:56.393Z"
   },
   {
    "duration": 25,
    "start_time": "2022-05-11T09:04:56.436Z"
   },
   {
    "duration": 41,
    "start_time": "2022-05-11T09:04:56.463Z"
   },
   {
    "duration": 112,
    "start_time": "2022-05-11T09:04:56.508Z"
   },
   {
    "duration": 110,
    "start_time": "2022-05-11T09:04:56.624Z"
   },
   {
    "duration": 4,
    "start_time": "2022-05-11T09:04:56.736Z"
   },
   {
    "duration": 20,
    "start_time": "2022-05-11T09:04:56.741Z"
   },
   {
    "duration": 55,
    "start_time": "2022-05-11T09:04:56.763Z"
   },
   {
    "duration": 19,
    "start_time": "2022-05-11T09:04:56.820Z"
   },
   {
    "duration": 20,
    "start_time": "2022-05-11T09:04:56.841Z"
   },
   {
    "duration": 97,
    "start_time": "2022-05-11T09:14:35.147Z"
   },
   {
    "duration": 81,
    "start_time": "2022-05-11T09:16:30.405Z"
   },
   {
    "duration": 116,
    "start_time": "2022-05-11T09:16:31.727Z"
   },
   {
    "duration": 84,
    "start_time": "2022-05-11T09:17:09.971Z"
   },
   {
    "duration": 13,
    "start_time": "2022-05-11T09:17:11.602Z"
   },
   {
    "duration": 712,
    "start_time": "2022-05-11T09:17:43.074Z"
   },
   {
    "duration": 437,
    "start_time": "2022-05-11T09:17:43.796Z"
   },
   {
    "duration": 14,
    "start_time": "2022-05-11T09:17:44.235Z"
   },
   {
    "duration": 6,
    "start_time": "2022-05-11T09:17:44.252Z"
   },
   {
    "duration": 10,
    "start_time": "2022-05-11T09:17:44.260Z"
   },
   {
    "duration": 43,
    "start_time": "2022-05-11T09:17:44.272Z"
   },
   {
    "duration": 8,
    "start_time": "2022-05-11T09:17:44.317Z"
   },
   {
    "duration": 16,
    "start_time": "2022-05-11T09:17:44.327Z"
   },
   {
    "duration": 11,
    "start_time": "2022-05-11T09:17:44.345Z"
   },
   {
    "duration": 23,
    "start_time": "2022-05-11T09:17:44.359Z"
   },
   {
    "duration": 44,
    "start_time": "2022-05-11T09:17:44.385Z"
   },
   {
    "duration": 30,
    "start_time": "2022-05-11T09:17:44.431Z"
   },
   {
    "duration": 16,
    "start_time": "2022-05-11T09:17:44.463Z"
   },
   {
    "duration": 47,
    "start_time": "2022-05-11T09:17:44.481Z"
   },
   {
    "duration": 22,
    "start_time": "2022-05-11T09:17:44.530Z"
   },
   {
    "duration": 32,
    "start_time": "2022-05-11T09:17:44.554Z"
   },
   {
    "duration": 242,
    "start_time": "2022-05-11T09:17:44.589Z"
   },
   {
    "duration": 3,
    "start_time": "2022-05-11T09:17:44.833Z"
   },
   {
    "duration": 9,
    "start_time": "2022-05-11T09:17:44.838Z"
   },
   {
    "duration": 41,
    "start_time": "2022-05-11T09:17:44.849Z"
   },
   {
    "duration": 16,
    "start_time": "2022-05-11T09:17:44.892Z"
   },
   {
    "duration": 27,
    "start_time": "2022-05-11T09:17:44.911Z"
   },
   {
    "duration": 54,
    "start_time": "2022-05-11T09:17:44.940Z"
   },
   {
    "duration": 229,
    "start_time": "2022-05-11T09:17:44.996Z"
   },
   {
    "duration": 6,
    "start_time": "2022-05-11T09:17:45.227Z"
   },
   {
    "duration": 21,
    "start_time": "2022-05-11T09:17:45.234Z"
   },
   {
    "duration": 176,
    "start_time": "2022-05-11T09:17:45.272Z"
   },
   {
    "duration": 55,
    "start_time": "2022-05-11T09:17:45.451Z"
   },
   {
    "duration": 29,
    "start_time": "2022-05-11T09:17:45.508Z"
   },
   {
    "duration": 22,
    "start_time": "2022-05-11T09:17:45.539Z"
   },
   {
    "duration": 115,
    "start_time": "2022-05-11T09:17:45.563Z"
   },
   {
    "duration": 81,
    "start_time": "2022-05-11T09:17:45.687Z"
   },
   {
    "duration": 0,
    "start_time": "2022-05-11T09:17:45.770Z"
   },
   {
    "duration": 0,
    "start_time": "2022-05-11T09:17:45.771Z"
   },
   {
    "duration": 0,
    "start_time": "2022-05-11T09:17:45.772Z"
   },
   {
    "duration": 0,
    "start_time": "2022-05-11T09:17:45.781Z"
   },
   {
    "duration": 0,
    "start_time": "2022-05-11T09:17:45.782Z"
   },
   {
    "duration": 84,
    "start_time": "2022-05-11T09:17:52.394Z"
   },
   {
    "duration": 13,
    "start_time": "2022-05-11T09:17:53.451Z"
   },
   {
    "duration": 101,
    "start_time": "2022-05-11T09:17:59.325Z"
   },
   {
    "duration": 4,
    "start_time": "2022-05-11T09:18:03.074Z"
   },
   {
    "duration": 14,
    "start_time": "2022-05-11T09:18:03.610Z"
   },
   {
    "duration": 12,
    "start_time": "2022-05-11T09:18:04.158Z"
   },
   {
    "duration": 12,
    "start_time": "2022-05-11T09:18:05.888Z"
   },
   {
    "duration": 13,
    "start_time": "2022-05-11T09:18:09.714Z"
   },
   {
    "duration": 9,
    "start_time": "2022-05-11T09:42:32.942Z"
   },
   {
    "duration": 15,
    "start_time": "2022-05-11T09:42:42.196Z"
   },
   {
    "duration": 13,
    "start_time": "2022-05-11T09:42:48.315Z"
   },
   {
    "duration": 9,
    "start_time": "2022-05-11T09:49:30.425Z"
   },
   {
    "duration": 9,
    "start_time": "2022-05-11T09:50:58.294Z"
   },
   {
    "duration": 8,
    "start_time": "2022-05-11T09:51:20.290Z"
   },
   {
    "duration": 7,
    "start_time": "2022-05-11T09:51:39.212Z"
   },
   {
    "duration": 107,
    "start_time": "2022-05-11T09:51:54.895Z"
   },
   {
    "duration": 119,
    "start_time": "2022-05-11T09:52:05.251Z"
   },
   {
    "duration": 81,
    "start_time": "2022-05-11T09:56:53.596Z"
   },
   {
    "duration": 87,
    "start_time": "2022-05-11T09:57:45.813Z"
   },
   {
    "duration": 11,
    "start_time": "2022-05-11T09:57:48.209Z"
   },
   {
    "duration": 9,
    "start_time": "2022-05-11T09:59:06.700Z"
   },
   {
    "duration": 22,
    "start_time": "2022-05-11T09:59:09.923Z"
   },
   {
    "duration": 34,
    "start_time": "2022-05-11T10:00:40.831Z"
   },
   {
    "duration": 758,
    "start_time": "2022-05-11T10:01:29.637Z"
   },
   {
    "duration": 471,
    "start_time": "2022-05-11T10:01:30.398Z"
   },
   {
    "duration": 36,
    "start_time": "2022-05-11T10:01:30.871Z"
   },
   {
    "duration": 12,
    "start_time": "2022-05-11T10:01:30.909Z"
   },
   {
    "duration": 12,
    "start_time": "2022-05-11T10:01:31.211Z"
   },
   {
    "duration": 14,
    "start_time": "2022-05-11T10:01:31.794Z"
   },
   {
    "duration": 3,
    "start_time": "2022-05-11T10:01:31.950Z"
   },
   {
    "duration": 15,
    "start_time": "2022-05-11T10:01:32.326Z"
   },
   {
    "duration": 10,
    "start_time": "2022-05-11T10:01:32.704Z"
   },
   {
    "duration": 29,
    "start_time": "2022-05-11T10:01:33.607Z"
   },
   {
    "duration": 19,
    "start_time": "2022-05-11T10:01:33.793Z"
   },
   {
    "duration": 35,
    "start_time": "2022-05-11T10:01:34.299Z"
   },
   {
    "duration": 29,
    "start_time": "2022-05-11T10:01:34.470Z"
   },
   {
    "duration": 14,
    "start_time": "2022-05-11T10:01:35.025Z"
   },
   {
    "duration": 23,
    "start_time": "2022-05-11T10:01:35.403Z"
   },
   {
    "duration": 43,
    "start_time": "2022-05-11T10:01:35.769Z"
   },
   {
    "duration": 297,
    "start_time": "2022-05-11T10:01:36.185Z"
   },
   {
    "duration": 2,
    "start_time": "2022-05-11T10:01:36.561Z"
   },
   {
    "duration": 9,
    "start_time": "2022-05-11T10:01:36.773Z"
   },
   {
    "duration": 25,
    "start_time": "2022-05-11T10:01:37.196Z"
   },
   {
    "duration": 13,
    "start_time": "2022-05-11T10:01:38.039Z"
   },
   {
    "duration": 38,
    "start_time": "2022-05-11T10:01:38.491Z"
   },
   {
    "duration": 35,
    "start_time": "2022-05-11T10:01:38.923Z"
   },
   {
    "duration": 225,
    "start_time": "2022-05-11T10:01:39.148Z"
   },
   {
    "duration": 10,
    "start_time": "2022-05-11T10:01:39.690Z"
   },
   {
    "duration": 21,
    "start_time": "2022-05-11T10:01:40.615Z"
   },
   {
    "duration": 158,
    "start_time": "2022-05-11T10:01:42.013Z"
   },
   {
    "duration": 34,
    "start_time": "2022-05-11T10:01:42.525Z"
   },
   {
    "duration": 28,
    "start_time": "2022-05-11T10:01:42.756Z"
   },
   {
    "duration": 24,
    "start_time": "2022-05-11T10:01:43.348Z"
   },
   {
    "duration": 115,
    "start_time": "2022-05-11T10:01:44.596Z"
   },
   {
    "duration": 82,
    "start_time": "2022-05-11T10:05:53.156Z"
   },
   {
    "duration": 15,
    "start_time": "2022-05-11T10:06:01.972Z"
   },
   {
    "duration": 9,
    "start_time": "2022-05-11T10:06:30.544Z"
   },
   {
    "duration": 10,
    "start_time": "2022-05-11T10:06:45.495Z"
   },
   {
    "duration": 99,
    "start_time": "2022-05-11T10:09:38.102Z"
   },
   {
    "duration": 487,
    "start_time": "2022-05-11T10:10:07.143Z"
   },
   {
    "duration": 46,
    "start_time": "2022-05-11T10:10:08.435Z"
   },
   {
    "duration": 16,
    "start_time": "2022-05-11T10:10:31.040Z"
   },
   {
    "duration": 38,
    "start_time": "2022-05-11T10:11:14.109Z"
   },
   {
    "duration": 34,
    "start_time": "2022-05-11T10:12:43.493Z"
   },
   {
    "duration": 3,
    "start_time": "2022-05-11T10:12:45.319Z"
   },
   {
    "duration": 14,
    "start_time": "2022-05-11T10:12:46.329Z"
   },
   {
    "duration": 14,
    "start_time": "2022-05-11T10:12:46.694Z"
   },
   {
    "duration": 9,
    "start_time": "2022-05-11T10:12:48.238Z"
   },
   {
    "duration": 11,
    "start_time": "2022-05-11T10:12:50.700Z"
   },
   {
    "duration": 7,
    "start_time": "2022-05-11T10:12:51.252Z"
   },
   {
    "duration": 18,
    "start_time": "2022-05-11T10:12:51.914Z"
   },
   {
    "duration": 14,
    "start_time": "2022-05-11T10:59:07.467Z"
   },
   {
    "duration": 20,
    "start_time": "2022-05-11T10:59:28.151Z"
   },
   {
    "duration": 26,
    "start_time": "2022-05-11T11:00:20.127Z"
   },
   {
    "duration": 17,
    "start_time": "2022-05-11T11:00:37.553Z"
   },
   {
    "duration": 21,
    "start_time": "2022-05-11T11:17:34.019Z"
   },
   {
    "duration": 1532,
    "start_time": "2022-05-11T11:19:46.359Z"
   },
   {
    "duration": 1894,
    "start_time": "2022-05-11T11:21:47.363Z"
   },
   {
    "duration": 26,
    "start_time": "2022-05-11T11:23:42.747Z"
   },
   {
    "duration": 24,
    "start_time": "2022-05-11T11:25:52.081Z"
   },
   {
    "duration": 29,
    "start_time": "2022-05-11T11:35:46.070Z"
   },
   {
    "duration": 27,
    "start_time": "2022-05-11T11:36:33.923Z"
   },
   {
    "duration": 31,
    "start_time": "2022-05-11T11:38:01.135Z"
   },
   {
    "duration": 1361,
    "start_time": "2022-05-11T11:41:58.353Z"
   },
   {
    "duration": 27,
    "start_time": "2022-05-11T11:45:01.181Z"
   },
   {
    "duration": 11,
    "start_time": "2022-05-11T11:45:56.969Z"
   },
   {
    "duration": 1412,
    "start_time": "2022-05-11T11:47:30.966Z"
   },
   {
    "duration": 646,
    "start_time": "2022-05-11T11:48:22.889Z"
   },
   {
    "duration": 382,
    "start_time": "2022-05-11T11:48:23.537Z"
   },
   {
    "duration": 17,
    "start_time": "2022-05-11T11:48:23.921Z"
   },
   {
    "duration": 7,
    "start_time": "2022-05-11T11:48:23.940Z"
   },
   {
    "duration": 14,
    "start_time": "2022-05-11T11:48:23.948Z"
   },
   {
    "duration": 13,
    "start_time": "2022-05-11T11:48:23.964Z"
   },
   {
    "duration": 10,
    "start_time": "2022-05-11T11:48:23.978Z"
   },
   {
    "duration": 20,
    "start_time": "2022-05-11T11:48:23.990Z"
   },
   {
    "duration": 17,
    "start_time": "2022-05-11T11:48:24.012Z"
   },
   {
    "duration": 16,
    "start_time": "2022-05-11T11:48:24.032Z"
   },
   {
    "duration": 32,
    "start_time": "2022-05-11T11:48:24.050Z"
   },
   {
    "duration": 15,
    "start_time": "2022-05-11T11:48:24.085Z"
   },
   {
    "duration": 25,
    "start_time": "2022-05-11T11:48:24.103Z"
   },
   {
    "duration": 17,
    "start_time": "2022-05-11T11:48:24.130Z"
   },
   {
    "duration": 16,
    "start_time": "2022-05-11T11:48:24.174Z"
   },
   {
    "duration": 42,
    "start_time": "2022-05-11T11:48:24.192Z"
   },
   {
    "duration": 65,
    "start_time": "2022-05-11T11:48:24.237Z"
   },
   {
    "duration": 237,
    "start_time": "2022-05-11T11:48:24.304Z"
   },
   {
    "duration": 3,
    "start_time": "2022-05-11T11:48:24.543Z"
   },
   {
    "duration": 19,
    "start_time": "2022-05-11T11:48:24.547Z"
   },
   {
    "duration": 27,
    "start_time": "2022-05-11T11:48:24.568Z"
   },
   {
    "duration": 14,
    "start_time": "2022-05-11T11:48:24.596Z"
   },
   {
    "duration": 27,
    "start_time": "2022-05-11T11:48:24.612Z"
   },
   {
    "duration": 53,
    "start_time": "2022-05-11T11:48:24.641Z"
   },
   {
    "duration": 211,
    "start_time": "2022-05-11T11:48:24.696Z"
   },
   {
    "duration": 6,
    "start_time": "2022-05-11T11:48:24.909Z"
   },
   {
    "duration": 22,
    "start_time": "2022-05-11T11:48:24.917Z"
   },
   {
    "duration": 175,
    "start_time": "2022-05-11T11:48:24.942Z"
   },
   {
    "duration": 36,
    "start_time": "2022-05-11T11:48:25.119Z"
   },
   {
    "duration": 47,
    "start_time": "2022-05-11T11:48:25.157Z"
   },
   {
    "duration": 26,
    "start_time": "2022-05-11T11:48:25.206Z"
   },
   {
    "duration": 94,
    "start_time": "2022-05-11T11:48:25.235Z"
   },
   {
    "duration": 98,
    "start_time": "2022-05-11T11:48:25.331Z"
   },
   {
    "duration": 4,
    "start_time": "2022-05-11T11:48:25.431Z"
   },
   {
    "duration": 36,
    "start_time": "2022-05-11T11:48:25.438Z"
   },
   {
    "duration": 12,
    "start_time": "2022-05-11T11:48:25.476Z"
   },
   {
    "duration": 13,
    "start_time": "2022-05-11T11:48:25.490Z"
   },
   {
    "duration": 20,
    "start_time": "2022-05-11T11:48:25.505Z"
   },
   {
    "duration": 7,
    "start_time": "2022-05-11T11:48:25.527Z"
   },
   {
    "duration": 39,
    "start_time": "2022-05-11T11:48:25.535Z"
   },
   {
    "duration": 1376,
    "start_time": "2022-05-11T11:48:25.576Z"
   },
   {
    "duration": 1308,
    "start_time": "2022-05-11T11:50:44.390Z"
   },
   {
    "duration": 205,
    "start_time": "2022-05-11T11:52:28.534Z"
   },
   {
    "duration": 4,
    "start_time": "2022-05-11T11:54:18.315Z"
   },
   {
    "duration": 13,
    "start_time": "2022-05-11T11:54:22.841Z"
   },
   {
    "duration": 223,
    "start_time": "2022-05-11T11:54:46.793Z"
   },
   {
    "duration": 1577,
    "start_time": "2022-05-11T11:55:32.922Z"
   },
   {
    "duration": 643,
    "start_time": "2022-05-11T11:55:38.709Z"
   },
   {
    "duration": 405,
    "start_time": "2022-05-11T11:55:39.354Z"
   },
   {
    "duration": 19,
    "start_time": "2022-05-11T11:55:39.760Z"
   },
   {
    "duration": 9,
    "start_time": "2022-05-11T11:55:39.782Z"
   },
   {
    "duration": 16,
    "start_time": "2022-05-11T11:55:39.793Z"
   },
   {
    "duration": 8,
    "start_time": "2022-05-11T11:55:39.811Z"
   },
   {
    "duration": 17,
    "start_time": "2022-05-11T11:55:39.821Z"
   },
   {
    "duration": 17,
    "start_time": "2022-05-11T11:55:39.840Z"
   },
   {
    "duration": 18,
    "start_time": "2022-05-11T11:55:39.859Z"
   },
   {
    "duration": 20,
    "start_time": "2022-05-11T11:55:39.888Z"
   },
   {
    "duration": 7,
    "start_time": "2022-05-11T11:55:39.910Z"
   },
   {
    "duration": 6,
    "start_time": "2022-05-11T11:55:39.918Z"
   },
   {
    "duration": 22,
    "start_time": "2022-05-11T11:55:39.925Z"
   },
   {
    "duration": 11,
    "start_time": "2022-05-11T11:55:39.949Z"
   },
   {
    "duration": 35,
    "start_time": "2022-05-11T11:55:39.962Z"
   },
   {
    "duration": 16,
    "start_time": "2022-05-11T11:55:39.999Z"
   },
   {
    "duration": 13,
    "start_time": "2022-05-11T11:55:40.017Z"
   },
   {
    "duration": 72,
    "start_time": "2022-05-11T11:55:40.033Z"
   },
   {
    "duration": 39,
    "start_time": "2022-05-11T11:55:40.107Z"
   },
   {
    "duration": 263,
    "start_time": "2022-05-11T11:55:40.148Z"
   },
   {
    "duration": 2,
    "start_time": "2022-05-11T11:55:40.413Z"
   },
   {
    "duration": 8,
    "start_time": "2022-05-11T11:55:40.417Z"
   },
   {
    "duration": 22,
    "start_time": "2022-05-11T11:55:40.427Z"
   },
   {
    "duration": 43,
    "start_time": "2022-05-11T11:55:40.451Z"
   },
   {
    "duration": 35,
    "start_time": "2022-05-11T11:55:40.496Z"
   },
   {
    "duration": 65,
    "start_time": "2022-05-11T11:55:40.533Z"
   },
   {
    "duration": 228,
    "start_time": "2022-05-11T11:55:40.601Z"
   },
   {
    "duration": 7,
    "start_time": "2022-05-11T11:55:40.832Z"
   },
   {
    "duration": 42,
    "start_time": "2022-05-11T11:55:40.842Z"
   },
   {
    "duration": 174,
    "start_time": "2022-05-11T11:55:40.889Z"
   },
   {
    "duration": 39,
    "start_time": "2022-05-11T11:55:41.065Z"
   },
   {
    "duration": 22,
    "start_time": "2022-05-11T11:55:41.106Z"
   },
   {
    "duration": 54,
    "start_time": "2022-05-11T11:55:41.130Z"
   },
   {
    "duration": 105,
    "start_time": "2022-05-11T11:55:41.186Z"
   },
   {
    "duration": 105,
    "start_time": "2022-05-11T11:55:41.292Z"
   },
   {
    "duration": 4,
    "start_time": "2022-05-11T11:55:41.398Z"
   },
   {
    "duration": 17,
    "start_time": "2022-05-11T11:55:41.404Z"
   },
   {
    "duration": 14,
    "start_time": "2022-05-11T11:55:41.423Z"
   },
   {
    "duration": 37,
    "start_time": "2022-05-11T11:55:41.439Z"
   },
   {
    "duration": 31,
    "start_time": "2022-05-11T11:55:41.477Z"
   },
   {
    "duration": 8,
    "start_time": "2022-05-11T11:55:41.510Z"
   },
   {
    "duration": 26,
    "start_time": "2022-05-11T11:55:41.520Z"
   },
   {
    "duration": 246,
    "start_time": "2022-05-11T11:55:41.548Z"
   },
   {
    "duration": 216,
    "start_time": "2022-05-11T11:57:13.191Z"
   },
   {
    "duration": 87,
    "start_time": "2022-05-11T14:10:49.519Z"
   },
   {
    "duration": 136,
    "start_time": "2022-05-11T14:10:58.287Z"
   },
   {
    "duration": 125,
    "start_time": "2022-05-11T14:12:22.696Z"
   },
   {
    "duration": 16,
    "start_time": "2022-05-11T14:13:45.968Z"
   },
   {
    "duration": 12,
    "start_time": "2022-05-11T14:14:12.588Z"
   },
   {
    "duration": 720,
    "start_time": "2022-05-11T14:14:44.415Z"
   },
   {
    "duration": 453,
    "start_time": "2022-05-11T14:14:45.137Z"
   },
   {
    "duration": 23,
    "start_time": "2022-05-11T14:14:45.592Z"
   },
   {
    "duration": 6,
    "start_time": "2022-05-11T14:14:45.617Z"
   },
   {
    "duration": 12,
    "start_time": "2022-05-11T14:14:45.626Z"
   },
   {
    "duration": 10,
    "start_time": "2022-05-11T14:14:45.640Z"
   },
   {
    "duration": 7,
    "start_time": "2022-05-11T14:14:45.652Z"
   },
   {
    "duration": 32,
    "start_time": "2022-05-11T14:14:45.674Z"
   },
   {
    "duration": 13,
    "start_time": "2022-05-11T14:14:45.707Z"
   },
   {
    "duration": 14,
    "start_time": "2022-05-11T14:14:45.722Z"
   },
   {
    "duration": 29,
    "start_time": "2022-05-11T14:14:45.738Z"
   },
   {
    "duration": 33,
    "start_time": "2022-05-11T14:14:45.769Z"
   },
   {
    "duration": 26,
    "start_time": "2022-05-11T14:14:45.803Z"
   },
   {
    "duration": 18,
    "start_time": "2022-05-11T14:14:45.832Z"
   },
   {
    "duration": 15,
    "start_time": "2022-05-11T14:14:45.851Z"
   },
   {
    "duration": 43,
    "start_time": "2022-05-11T14:14:45.867Z"
   },
   {
    "duration": 29,
    "start_time": "2022-05-11T14:14:45.913Z"
   },
   {
    "duration": 281,
    "start_time": "2022-05-11T14:14:45.944Z"
   },
   {
    "duration": 3,
    "start_time": "2022-05-11T14:14:46.226Z"
   },
   {
    "duration": 8,
    "start_time": "2022-05-11T14:14:46.231Z"
   },
   {
    "duration": 51,
    "start_time": "2022-05-11T14:14:46.241Z"
   },
   {
    "duration": 13,
    "start_time": "2022-05-11T14:14:46.293Z"
   },
   {
    "duration": 26,
    "start_time": "2022-05-11T14:14:46.308Z"
   },
   {
    "duration": 69,
    "start_time": "2022-05-11T14:14:46.336Z"
   },
   {
    "duration": 224,
    "start_time": "2022-05-11T14:14:46.408Z"
   },
   {
    "duration": 6,
    "start_time": "2022-05-11T14:14:46.634Z"
   },
   {
    "duration": 43,
    "start_time": "2022-05-11T14:14:46.642Z"
   },
   {
    "duration": 181,
    "start_time": "2022-05-11T14:14:46.687Z"
   },
   {
    "duration": 39,
    "start_time": "2022-05-11T14:14:46.870Z"
   },
   {
    "duration": 24,
    "start_time": "2022-05-11T14:14:46.911Z"
   },
   {
    "duration": 41,
    "start_time": "2022-05-11T14:14:46.937Z"
   },
   {
    "duration": 108,
    "start_time": "2022-05-11T14:14:46.980Z"
   },
   {
    "duration": 112,
    "start_time": "2022-05-11T14:14:47.090Z"
   },
   {
    "duration": 5,
    "start_time": "2022-05-11T14:14:47.204Z"
   },
   {
    "duration": 25,
    "start_time": "2022-05-11T14:14:47.210Z"
   },
   {
    "duration": 13,
    "start_time": "2022-05-11T14:14:47.237Z"
   },
   {
    "duration": 25,
    "start_time": "2022-05-11T14:14:47.252Z"
   },
   {
    "duration": 23,
    "start_time": "2022-05-11T14:14:47.282Z"
   },
   {
    "duration": 8,
    "start_time": "2022-05-11T14:14:47.307Z"
   },
   {
    "duration": 27,
    "start_time": "2022-05-11T14:14:47.317Z"
   },
   {
    "duration": 233,
    "start_time": "2022-05-11T14:14:47.349Z"
   },
   {
    "duration": 137,
    "start_time": "2022-05-11T14:14:47.586Z"
   },
   {
    "duration": 11,
    "start_time": "2022-05-11T14:14:47.725Z"
   },
   {
    "duration": 249,
    "start_time": "2022-05-11T14:18:39.964Z"
   },
   {
    "duration": 162,
    "start_time": "2022-05-11T14:18:44.071Z"
   },
   {
    "duration": 744,
    "start_time": "2022-05-11T14:19:36.670Z"
   },
   {
    "duration": 425,
    "start_time": "2022-05-11T14:19:37.416Z"
   },
   {
    "duration": 16,
    "start_time": "2022-05-11T14:19:37.843Z"
   },
   {
    "duration": 6,
    "start_time": "2022-05-11T14:19:37.861Z"
   },
   {
    "duration": 16,
    "start_time": "2022-05-11T14:19:38.174Z"
   },
   {
    "duration": 5,
    "start_time": "2022-05-11T14:19:38.691Z"
   },
   {
    "duration": 4,
    "start_time": "2022-05-11T14:19:38.859Z"
   },
   {
    "duration": 12,
    "start_time": "2022-05-11T14:19:39.194Z"
   },
   {
    "duration": 8,
    "start_time": "2022-05-11T14:19:39.530Z"
   },
   {
    "duration": 10,
    "start_time": "2022-05-11T14:19:39.859Z"
   },
   {
    "duration": 26,
    "start_time": "2022-05-11T14:19:40.562Z"
   },
   {
    "duration": 12,
    "start_time": "2022-05-11T14:19:40.722Z"
   },
   {
    "duration": 31,
    "start_time": "2022-05-11T14:19:41.370Z"
   },
   {
    "duration": 17,
    "start_time": "2022-05-11T14:19:41.544Z"
   },
   {
    "duration": 15,
    "start_time": "2022-05-11T14:19:42.059Z"
   },
   {
    "duration": 28,
    "start_time": "2022-05-11T14:19:42.464Z"
   },
   {
    "duration": 36,
    "start_time": "2022-05-11T14:19:42.868Z"
   },
   {
    "duration": 230,
    "start_time": "2022-05-11T14:19:43.341Z"
   },
   {
    "duration": 3,
    "start_time": "2022-05-11T14:19:43.818Z"
   },
   {
    "duration": 5,
    "start_time": "2022-05-11T14:19:44.050Z"
   },
   {
    "duration": 25,
    "start_time": "2022-05-11T14:19:44.541Z"
   },
   {
    "duration": 15,
    "start_time": "2022-05-11T14:19:45.543Z"
   },
   {
    "duration": 29,
    "start_time": "2022-05-11T14:19:46.135Z"
   },
   {
    "duration": 41,
    "start_time": "2022-05-11T14:19:46.648Z"
   },
   {
    "duration": 216,
    "start_time": "2022-05-11T14:19:46.891Z"
   },
   {
    "duration": 6,
    "start_time": "2022-05-11T14:19:47.398Z"
   },
   {
    "duration": 20,
    "start_time": "2022-05-11T14:19:47.951Z"
   },
   {
    "duration": 159,
    "start_time": "2022-05-11T14:19:49.050Z"
   },
   {
    "duration": 38,
    "start_time": "2022-05-11T14:19:49.590Z"
   },
   {
    "duration": 27,
    "start_time": "2022-05-11T14:19:49.871Z"
   },
   {
    "duration": 21,
    "start_time": "2022-05-11T14:19:50.348Z"
   },
   {
    "duration": 87,
    "start_time": "2022-05-11T14:19:51.524Z"
   },
   {
    "duration": 102,
    "start_time": "2022-05-11T14:19:52.065Z"
   },
   {
    "duration": 4,
    "start_time": "2022-05-11T14:19:52.352Z"
   },
   {
    "duration": 16,
    "start_time": "2022-05-11T14:19:52.662Z"
   },
   {
    "duration": 13,
    "start_time": "2022-05-11T14:19:52.958Z"
   },
   {
    "duration": 10,
    "start_time": "2022-05-11T14:19:53.857Z"
   },
   {
    "duration": 13,
    "start_time": "2022-05-11T14:19:54.819Z"
   },
   {
    "duration": 8,
    "start_time": "2022-05-11T14:19:55.573Z"
   },
   {
    "duration": 17,
    "start_time": "2022-05-11T14:19:56.055Z"
   },
   {
    "duration": 206,
    "start_time": "2022-05-11T14:19:57.824Z"
   },
   {
    "duration": 85,
    "start_time": "2022-05-11T14:20:27.921Z"
   },
   {
    "duration": 82,
    "start_time": "2022-05-11T14:20:32.874Z"
   },
   {
    "duration": 25,
    "start_time": "2022-05-11T14:20:35.878Z"
   },
   {
    "duration": 22,
    "start_time": "2022-05-11T14:21:14.952Z"
   },
   {
    "duration": 21,
    "start_time": "2022-05-11T14:21:22.240Z"
   },
   {
    "duration": 689,
    "start_time": "2022-05-11T14:21:42.692Z"
   },
   {
    "duration": 439,
    "start_time": "2022-05-11T14:21:43.383Z"
   },
   {
    "duration": 16,
    "start_time": "2022-05-11T14:21:43.823Z"
   },
   {
    "duration": 7,
    "start_time": "2022-05-11T14:21:43.841Z"
   },
   {
    "duration": 12,
    "start_time": "2022-05-11T14:21:43.851Z"
   },
   {
    "duration": 19,
    "start_time": "2022-05-11T14:21:43.865Z"
   },
   {
    "duration": 14,
    "start_time": "2022-05-11T14:21:43.886Z"
   },
   {
    "duration": 14,
    "start_time": "2022-05-11T14:21:43.902Z"
   },
   {
    "duration": 12,
    "start_time": "2022-05-11T14:21:43.917Z"
   },
   {
    "duration": 23,
    "start_time": "2022-05-11T14:21:43.931Z"
   },
   {
    "duration": 24,
    "start_time": "2022-05-11T14:21:43.955Z"
   },
   {
    "duration": 17,
    "start_time": "2022-05-11T14:21:43.981Z"
   },
   {
    "duration": 24,
    "start_time": "2022-05-11T14:21:44.000Z"
   },
   {
    "duration": 16,
    "start_time": "2022-05-11T14:21:44.027Z"
   },
   {
    "duration": 42,
    "start_time": "2022-05-11T14:21:44.044Z"
   },
   {
    "duration": 22,
    "start_time": "2022-05-11T14:21:44.088Z"
   },
   {
    "duration": 27,
    "start_time": "2022-05-11T14:21:44.111Z"
   },
   {
    "duration": 271,
    "start_time": "2022-05-11T14:21:44.140Z"
   },
   {
    "duration": 2,
    "start_time": "2022-05-11T14:21:44.413Z"
   },
   {
    "duration": 13,
    "start_time": "2022-05-11T14:21:44.417Z"
   },
   {
    "duration": 25,
    "start_time": "2022-05-11T14:21:44.432Z"
   },
   {
    "duration": 32,
    "start_time": "2022-05-11T14:21:44.459Z"
   },
   {
    "duration": 31,
    "start_time": "2022-05-11T14:21:44.493Z"
   },
   {
    "duration": 60,
    "start_time": "2022-05-11T14:21:44.525Z"
   },
   {
    "duration": 222,
    "start_time": "2022-05-11T14:21:44.587Z"
   },
   {
    "duration": 7,
    "start_time": "2022-05-11T14:21:44.810Z"
   },
   {
    "duration": 22,
    "start_time": "2022-05-11T14:21:44.819Z"
   },
   {
    "duration": 197,
    "start_time": "2022-05-11T14:21:44.843Z"
   },
   {
    "duration": 56,
    "start_time": "2022-05-11T14:21:45.042Z"
   },
   {
    "duration": 29,
    "start_time": "2022-05-11T14:21:45.100Z"
   },
   {
    "duration": 22,
    "start_time": "2022-05-11T14:21:45.131Z"
   },
   {
    "duration": 105,
    "start_time": "2022-05-11T14:21:45.155Z"
   },
   {
    "duration": 116,
    "start_time": "2022-05-11T14:21:45.262Z"
   },
   {
    "duration": 4,
    "start_time": "2022-05-11T14:21:45.381Z"
   },
   {
    "duration": 24,
    "start_time": "2022-05-11T14:21:45.387Z"
   },
   {
    "duration": 15,
    "start_time": "2022-05-11T14:21:45.413Z"
   },
   {
    "duration": 14,
    "start_time": "2022-05-11T14:21:45.430Z"
   },
   {
    "duration": 40,
    "start_time": "2022-05-11T14:21:45.446Z"
   },
   {
    "duration": 10,
    "start_time": "2022-05-11T14:21:45.490Z"
   },
   {
    "duration": 36,
    "start_time": "2022-05-11T14:21:45.503Z"
   },
   {
    "duration": 220,
    "start_time": "2022-05-11T14:21:45.544Z"
   },
   {
    "duration": 26,
    "start_time": "2022-05-11T14:21:45.766Z"
   },
   {
    "duration": 14,
    "start_time": "2022-05-11T14:21:45.795Z"
   },
   {
    "duration": 19,
    "start_time": "2022-05-11T14:21:45.811Z"
   },
   {
    "duration": 121,
    "start_time": "2022-05-11T14:22:17.526Z"
   },
   {
    "duration": 1586,
    "start_time": "2022-05-11T14:23:46.346Z"
   },
   {
    "duration": 7,
    "start_time": "2022-05-11T14:23:57.725Z"
   },
   {
    "duration": 11,
    "start_time": "2022-05-11T14:24:21.861Z"
   },
   {
    "duration": 11,
    "start_time": "2022-05-11T14:24:29.738Z"
   },
   {
    "duration": 1178,
    "start_time": "2022-05-11T14:24:35.029Z"
   },
   {
    "duration": 1167,
    "start_time": "2022-05-11T14:24:43.721Z"
   },
   {
    "duration": 1035,
    "start_time": "2022-05-11T14:28:01.435Z"
   },
   {
    "duration": 90,
    "start_time": "2022-05-11T14:30:27.444Z"
   },
   {
    "duration": 955,
    "start_time": "2022-05-11T14:32:14.593Z"
   },
   {
    "duration": 699,
    "start_time": "2022-05-11T14:33:33.453Z"
   },
   {
    "duration": 414,
    "start_time": "2022-05-11T14:33:34.154Z"
   },
   {
    "duration": 21,
    "start_time": "2022-05-11T14:33:34.569Z"
   },
   {
    "duration": 10,
    "start_time": "2022-05-11T14:33:34.593Z"
   },
   {
    "duration": 18,
    "start_time": "2022-05-11T14:33:34.605Z"
   },
   {
    "duration": 6,
    "start_time": "2022-05-11T14:33:34.626Z"
   },
   {
    "duration": 11,
    "start_time": "2022-05-11T14:33:34.634Z"
   },
   {
    "duration": 38,
    "start_time": "2022-05-11T14:33:34.647Z"
   },
   {
    "duration": 29,
    "start_time": "2022-05-11T14:33:34.687Z"
   },
   {
    "duration": 15,
    "start_time": "2022-05-11T14:33:34.721Z"
   },
   {
    "duration": 41,
    "start_time": "2022-05-11T14:33:34.738Z"
   },
   {
    "duration": 12,
    "start_time": "2022-05-11T14:33:34.785Z"
   },
   {
    "duration": 23,
    "start_time": "2022-05-11T14:33:35.042Z"
   },
   {
    "duration": 18,
    "start_time": "2022-05-11T14:33:35.189Z"
   },
   {
    "duration": 15,
    "start_time": "2022-05-11T14:33:35.727Z"
   },
   {
    "duration": 25,
    "start_time": "2022-05-11T14:33:36.090Z"
   },
   {
    "duration": 28,
    "start_time": "2022-05-11T14:33:36.441Z"
   },
   {
    "duration": 242,
    "start_time": "2022-05-11T14:33:36.803Z"
   },
   {
    "duration": 3,
    "start_time": "2022-05-11T14:33:37.397Z"
   },
   {
    "duration": 6,
    "start_time": "2022-05-11T14:33:37.598Z"
   },
   {
    "duration": 25,
    "start_time": "2022-05-11T14:33:37.986Z"
   },
   {
    "duration": 14,
    "start_time": "2022-05-11T14:33:42.301Z"
   },
   {
    "duration": 34,
    "start_time": "2022-05-11T14:33:42.675Z"
   },
   {
    "duration": 46,
    "start_time": "2022-05-11T14:33:43.068Z"
   },
   {
    "duration": 209,
    "start_time": "2022-05-11T14:33:43.268Z"
   },
   {
    "duration": 7,
    "start_time": "2022-05-11T14:33:43.642Z"
   },
   {
    "duration": 19,
    "start_time": "2022-05-11T14:33:44.012Z"
   },
   {
    "duration": 150,
    "start_time": "2022-05-11T14:33:44.787Z"
   },
   {
    "duration": 39,
    "start_time": "2022-05-11T14:33:45.171Z"
   },
   {
    "duration": 24,
    "start_time": "2022-05-11T14:33:45.390Z"
   },
   {
    "duration": 22,
    "start_time": "2022-05-11T14:33:45.589Z"
   },
   {
    "duration": 88,
    "start_time": "2022-05-11T14:33:46.167Z"
   },
   {
    "duration": 100,
    "start_time": "2022-05-11T14:33:50.141Z"
   },
   {
    "duration": 781,
    "start_time": "2022-05-11T14:34:19.573Z"
   },
   {
    "duration": 175,
    "start_time": "2022-05-11T14:34:59.219Z"
   },
   {
    "duration": 712,
    "start_time": "2022-05-11T14:37:02.110Z"
   },
   {
    "duration": 413,
    "start_time": "2022-05-11T14:37:02.824Z"
   },
   {
    "duration": 18,
    "start_time": "2022-05-11T14:37:03.239Z"
   },
   {
    "duration": 8,
    "start_time": "2022-05-11T14:37:05.320Z"
   },
   {
    "duration": 14,
    "start_time": "2022-05-11T14:37:05.868Z"
   },
   {
    "duration": 5,
    "start_time": "2022-05-11T14:37:06.786Z"
   },
   {
    "duration": 3,
    "start_time": "2022-05-11T14:37:06.973Z"
   },
   {
    "duration": 13,
    "start_time": "2022-05-11T14:37:07.350Z"
   },
   {
    "duration": 12,
    "start_time": "2022-05-11T14:37:07.845Z"
   },
   {
    "duration": 15,
    "start_time": "2022-05-11T14:37:08.302Z"
   },
   {
    "duration": 31,
    "start_time": "2022-05-11T14:37:09.990Z"
   },
   {
    "duration": 11,
    "start_time": "2022-05-11T14:37:14.390Z"
   },
   {
    "duration": 25,
    "start_time": "2022-05-11T14:37:15.750Z"
   },
   {
    "duration": 16,
    "start_time": "2022-05-11T14:37:16.393Z"
   },
   {
    "duration": 14,
    "start_time": "2022-05-11T14:37:17.952Z"
   },
   {
    "duration": 24,
    "start_time": "2022-05-11T14:37:19.110Z"
   },
   {
    "duration": 40,
    "start_time": "2022-05-11T14:37:20.191Z"
   },
   {
    "duration": 235,
    "start_time": "2022-05-11T14:37:20.793Z"
   },
   {
    "duration": 3,
    "start_time": "2022-05-11T14:37:21.542Z"
   },
   {
    "duration": 5,
    "start_time": "2022-05-11T14:37:21.887Z"
   },
   {
    "duration": 25,
    "start_time": "2022-05-11T14:37:27.320Z"
   },
   {
    "duration": 16,
    "start_time": "2022-05-11T14:37:34.103Z"
   },
   {
    "duration": 34,
    "start_time": "2022-05-11T14:37:34.656Z"
   },
   {
    "duration": 40,
    "start_time": "2022-05-11T14:37:35.147Z"
   },
   {
    "duration": 232,
    "start_time": "2022-05-11T14:37:35.404Z"
   },
   {
    "duration": 6,
    "start_time": "2022-05-11T14:37:36.015Z"
   },
   {
    "duration": 21,
    "start_time": "2022-05-11T14:37:36.609Z"
   },
   {
    "duration": 164,
    "start_time": "2022-05-11T14:37:39.593Z"
   },
   {
    "duration": 17491,
    "start_time": "2022-05-11T14:47:32.790Z"
   },
   {
    "duration": 727,
    "start_time": "2022-05-11T14:47:54.498Z"
   },
   {
    "duration": 422,
    "start_time": "2022-05-11T14:47:55.227Z"
   },
   {
    "duration": 16,
    "start_time": "2022-05-11T14:47:55.651Z"
   },
   {
    "duration": 15,
    "start_time": "2022-05-11T14:47:55.670Z"
   },
   {
    "duration": 24,
    "start_time": "2022-05-11T14:47:55.688Z"
   },
   {
    "duration": 9,
    "start_time": "2022-05-11T14:47:55.715Z"
   },
   {
    "duration": 9,
    "start_time": "2022-05-11T14:47:55.726Z"
   },
   {
    "duration": 18,
    "start_time": "2022-05-11T14:47:55.737Z"
   },
   {
    "duration": 13,
    "start_time": "2022-05-11T14:47:55.756Z"
   },
   {
    "duration": 24,
    "start_time": "2022-05-11T14:47:55.777Z"
   },
   {
    "duration": 23,
    "start_time": "2022-05-11T14:47:55.803Z"
   },
   {
    "duration": 13,
    "start_time": "2022-05-11T14:47:55.828Z"
   },
   {
    "duration": 43,
    "start_time": "2022-05-11T14:47:55.843Z"
   },
   {
    "duration": 21,
    "start_time": "2022-05-11T14:47:55.888Z"
   },
   {
    "duration": 18,
    "start_time": "2022-05-11T14:47:55.911Z"
   },
   {
    "duration": 25,
    "start_time": "2022-05-11T14:47:55.931Z"
   },
   {
    "duration": 50,
    "start_time": "2022-05-11T14:47:55.958Z"
   },
   {
    "duration": 252,
    "start_time": "2022-05-11T14:47:56.010Z"
   },
   {
    "duration": 14,
    "start_time": "2022-05-11T14:47:56.264Z"
   },
   {
    "duration": 6,
    "start_time": "2022-05-11T14:47:56.281Z"
   },
   {
    "duration": 31,
    "start_time": "2022-05-11T14:47:56.288Z"
   },
   {
    "duration": 13,
    "start_time": "2022-05-11T14:47:56.321Z"
   },
   {
    "duration": 51,
    "start_time": "2022-05-11T14:47:56.336Z"
   },
   {
    "duration": 51,
    "start_time": "2022-05-11T14:47:56.389Z"
   },
   {
    "duration": 233,
    "start_time": "2022-05-11T14:47:56.442Z"
   },
   {
    "duration": 8,
    "start_time": "2022-05-11T14:47:56.677Z"
   },
   {
    "duration": 38,
    "start_time": "2022-05-11T14:47:56.689Z"
   },
   {
    "duration": 156,
    "start_time": "2022-05-11T14:47:56.731Z"
   },
   {
    "duration": 35,
    "start_time": "2022-05-11T14:47:56.890Z"
   },
   {
    "duration": 23,
    "start_time": "2022-05-11T14:47:56.927Z"
   },
   {
    "duration": 39,
    "start_time": "2022-05-11T14:47:56.952Z"
   },
   {
    "duration": 109,
    "start_time": "2022-05-11T14:47:56.992Z"
   },
   {
    "duration": 105,
    "start_time": "2022-05-11T14:47:57.103Z"
   },
   {
    "duration": 4,
    "start_time": "2022-05-11T14:47:57.210Z"
   },
   {
    "duration": 42,
    "start_time": "2022-05-11T14:47:57.216Z"
   },
   {
    "duration": 19,
    "start_time": "2022-05-11T14:47:57.261Z"
   },
   {
    "duration": 34,
    "start_time": "2022-05-11T14:47:57.282Z"
   },
   {
    "duration": 27,
    "start_time": "2022-05-11T14:47:57.318Z"
   },
   {
    "duration": 8,
    "start_time": "2022-05-11T14:47:57.347Z"
   },
   {
    "duration": 42,
    "start_time": "2022-05-11T14:47:57.356Z"
   },
   {
    "duration": 208,
    "start_time": "2022-05-11T14:47:57.400Z"
   },
   {
    "duration": 129,
    "start_time": "2022-05-11T14:47:57.610Z"
   },
   {
    "duration": 11,
    "start_time": "2022-05-11T14:47:57.741Z"
   },
   {
    "duration": 703,
    "start_time": "2022-05-11T14:49:26.364Z"
   },
   {
    "duration": 450,
    "start_time": "2022-05-11T14:49:27.069Z"
   },
   {
    "duration": 15,
    "start_time": "2022-05-11T14:49:27.522Z"
   },
   {
    "duration": 8,
    "start_time": "2022-05-11T14:49:27.549Z"
   },
   {
    "duration": 11,
    "start_time": "2022-05-11T14:49:27.887Z"
   },
   {
    "duration": 4,
    "start_time": "2022-05-11T14:49:28.444Z"
   },
   {
    "duration": 4,
    "start_time": "2022-05-11T14:49:28.655Z"
   },
   {
    "duration": 11,
    "start_time": "2022-05-11T14:49:29.653Z"
   },
   {
    "duration": 10,
    "start_time": "2022-05-11T14:49:30.102Z"
   },
   {
    "duration": 10,
    "start_time": "2022-05-11T14:49:30.557Z"
   },
   {
    "duration": 19,
    "start_time": "2022-05-11T14:49:31.687Z"
   },
   {
    "duration": 12,
    "start_time": "2022-05-11T14:49:31.965Z"
   },
   {
    "duration": 22,
    "start_time": "2022-05-11T14:49:32.889Z"
   },
   {
    "duration": 17,
    "start_time": "2022-05-11T14:49:33.152Z"
   },
   {
    "duration": 14,
    "start_time": "2022-05-11T14:49:33.739Z"
   },
   {
    "duration": 23,
    "start_time": "2022-05-11T14:49:34.103Z"
   },
   {
    "duration": 29,
    "start_time": "2022-05-11T14:49:34.491Z"
   },
   {
    "duration": 622,
    "start_time": "2022-05-11T14:49:34.891Z"
   },
   {
    "duration": 2,
    "start_time": "2022-05-11T14:49:35.515Z"
   },
   {
    "duration": 12,
    "start_time": "2022-05-11T14:49:35.519Z"
   },
   {
    "duration": 22,
    "start_time": "2022-05-11T14:49:35.900Z"
   },
   {
    "duration": 17,
    "start_time": "2022-05-11T14:49:36.762Z"
   },
   {
    "duration": 36,
    "start_time": "2022-05-11T14:49:37.220Z"
   },
   {
    "duration": 37,
    "start_time": "2022-05-11T14:49:37.724Z"
   },
   {
    "duration": 213,
    "start_time": "2022-05-11T14:49:37.941Z"
   },
   {
    "duration": 8,
    "start_time": "2022-05-11T14:49:38.428Z"
   },
   {
    "duration": 22,
    "start_time": "2022-05-11T14:49:38.891Z"
   },
   {
    "duration": 156,
    "start_time": "2022-05-11T14:49:39.905Z"
   },
   {
    "duration": 42,
    "start_time": "2022-05-11T14:49:40.377Z"
   },
   {
    "duration": 22,
    "start_time": "2022-05-11T14:49:40.629Z"
   },
   {
    "duration": 100,
    "start_time": "2022-05-11T14:49:40.913Z"
   },
   {
    "duration": 90,
    "start_time": "2022-05-11T14:49:42.062Z"
   },
   {
    "duration": 104,
    "start_time": "2022-05-11T14:49:42.703Z"
   },
   {
    "duration": 4,
    "start_time": "2022-05-11T14:49:43.014Z"
   },
   {
    "duration": 15,
    "start_time": "2022-05-11T14:49:43.395Z"
   },
   {
    "duration": 11,
    "start_time": "2022-05-11T14:49:43.849Z"
   },
   {
    "duration": 811,
    "start_time": "2022-05-11T14:49:59.459Z"
   },
   {
    "duration": 184,
    "start_time": "2022-05-11T14:50:48.569Z"
   },
   {
    "duration": 37,
    "start_time": "2022-05-11T14:51:08.970Z"
   },
   {
    "duration": 36,
    "start_time": "2022-05-11T14:51:38.126Z"
   },
   {
    "duration": 37,
    "start_time": "2022-05-11T14:51:56.721Z"
   },
   {
    "duration": 80,
    "start_time": "2022-05-11T14:52:25.491Z"
   },
   {
    "duration": 37,
    "start_time": "2022-05-11T14:53:18.815Z"
   },
   {
    "duration": 31,
    "start_time": "2022-05-11T14:53:43.194Z"
   },
   {
    "duration": 183,
    "start_time": "2022-05-11T14:53:58.407Z"
   },
   {
    "duration": 711,
    "start_time": "2022-05-11T14:57:44.826Z"
   },
   {
    "duration": 423,
    "start_time": "2022-05-11T14:57:45.539Z"
   },
   {
    "duration": 22,
    "start_time": "2022-05-11T14:57:45.964Z"
   },
   {
    "duration": 8,
    "start_time": "2022-05-11T14:57:46.131Z"
   },
   {
    "duration": 11,
    "start_time": "2022-05-11T14:57:46.548Z"
   },
   {
    "duration": 4,
    "start_time": "2022-05-11T14:57:47.391Z"
   },
   {
    "duration": 4,
    "start_time": "2022-05-11T14:57:47.586Z"
   },
   {
    "duration": 10,
    "start_time": "2022-05-11T14:57:47.964Z"
   },
   {
    "duration": 9,
    "start_time": "2022-05-11T14:57:48.324Z"
   },
   {
    "duration": 11,
    "start_time": "2022-05-11T14:57:48.723Z"
   },
   {
    "duration": 19,
    "start_time": "2022-05-11T14:57:49.542Z"
   },
   {
    "duration": 12,
    "start_time": "2022-05-11T14:57:49.742Z"
   },
   {
    "duration": 24,
    "start_time": "2022-05-11T14:57:50.314Z"
   },
   {
    "duration": 16,
    "start_time": "2022-05-11T14:57:50.497Z"
   },
   {
    "duration": 14,
    "start_time": "2022-05-11T14:57:51.117Z"
   },
   {
    "duration": 23,
    "start_time": "2022-05-11T14:57:51.505Z"
   },
   {
    "duration": 28,
    "start_time": "2022-05-11T14:57:51.921Z"
   },
   {
    "duration": 232,
    "start_time": "2022-05-11T14:57:52.357Z"
   },
   {
    "duration": 2,
    "start_time": "2022-05-11T14:57:52.814Z"
   },
   {
    "duration": 6,
    "start_time": "2022-05-11T14:57:53.032Z"
   },
   {
    "duration": 26,
    "start_time": "2022-05-11T14:57:53.489Z"
   },
   {
    "duration": 15,
    "start_time": "2022-05-11T14:57:54.394Z"
   },
   {
    "duration": 27,
    "start_time": "2022-05-11T14:57:54.805Z"
   },
   {
    "duration": 45,
    "start_time": "2022-05-11T14:57:55.259Z"
   },
   {
    "duration": 234,
    "start_time": "2022-05-11T14:57:55.476Z"
   },
   {
    "duration": 7,
    "start_time": "2022-05-11T14:57:55.935Z"
   },
   {
    "duration": 25,
    "start_time": "2022-05-11T14:57:56.373Z"
   },
   {
    "duration": 157,
    "start_time": "2022-05-11T14:57:57.325Z"
   },
   {
    "duration": 36,
    "start_time": "2022-05-11T14:57:57.766Z"
   },
   {
    "duration": 26,
    "start_time": "2022-05-11T14:57:58.072Z"
   },
   {
    "duration": 22,
    "start_time": "2022-05-11T14:57:58.306Z"
   },
   {
    "duration": 89,
    "start_time": "2022-05-11T14:58:00.142Z"
   },
   {
    "duration": 80,
    "start_time": "2022-05-11T15:01:01.756Z"
   },
   {
    "duration": 8,
    "start_time": "2022-05-11T15:01:13.800Z"
   },
   {
    "duration": 112,
    "start_time": "2022-05-11T15:02:25.201Z"
   },
   {
    "duration": 857,
    "start_time": "2022-05-11T15:02:37.973Z"
   },
   {
    "duration": 722,
    "start_time": "2022-05-11T15:03:59.937Z"
   },
   {
    "duration": 452,
    "start_time": "2022-05-11T15:04:00.661Z"
   },
   {
    "duration": 21,
    "start_time": "2022-05-11T15:04:01.115Z"
   },
   {
    "duration": 12,
    "start_time": "2022-05-11T15:04:01.138Z"
   },
   {
    "duration": 13,
    "start_time": "2022-05-11T15:04:01.490Z"
   },
   {
    "duration": 10,
    "start_time": "2022-05-11T15:04:02.074Z"
   },
   {
    "duration": 3,
    "start_time": "2022-05-11T15:04:02.258Z"
   },
   {
    "duration": 14,
    "start_time": "2022-05-11T15:04:02.627Z"
   },
   {
    "duration": 9,
    "start_time": "2022-05-11T15:04:03.036Z"
   },
   {
    "duration": 12,
    "start_time": "2022-05-11T15:04:03.461Z"
   },
   {
    "duration": 27,
    "start_time": "2022-05-11T15:04:04.381Z"
   },
   {
    "duration": 12,
    "start_time": "2022-05-11T15:04:04.619Z"
   },
   {
    "duration": 24,
    "start_time": "2022-05-11T15:04:05.332Z"
   },
   {
    "duration": 17,
    "start_time": "2022-05-11T15:04:05.522Z"
   },
   {
    "duration": 19,
    "start_time": "2022-05-11T15:04:06.088Z"
   },
   {
    "duration": 25,
    "start_time": "2022-05-11T15:04:06.487Z"
   },
   {
    "duration": 29,
    "start_time": "2022-05-11T15:04:06.887Z"
   },
   {
    "duration": 249,
    "start_time": "2022-05-11T15:04:07.314Z"
   },
   {
    "duration": 3,
    "start_time": "2022-05-11T15:04:07.723Z"
   },
   {
    "duration": 6,
    "start_time": "2022-05-11T15:04:07.943Z"
   },
   {
    "duration": 27,
    "start_time": "2022-05-11T15:04:08.352Z"
   },
   {
    "duration": 15,
    "start_time": "2022-05-11T15:04:09.389Z"
   },
   {
    "duration": 46,
    "start_time": "2022-05-11T15:04:10.304Z"
   },
   {
    "duration": 57,
    "start_time": "2022-05-11T15:04:10.957Z"
   },
   {
    "duration": 231,
    "start_time": "2022-05-11T15:04:11.203Z"
   },
   {
    "duration": 10,
    "start_time": "2022-05-11T15:04:11.771Z"
   },
   {
    "duration": 26,
    "start_time": "2022-05-11T15:04:12.243Z"
   },
   {
    "duration": 162,
    "start_time": "2022-05-11T15:04:13.494Z"
   },
   {
    "duration": 37,
    "start_time": "2022-05-11T15:04:13.915Z"
   },
   {
    "duration": 26,
    "start_time": "2022-05-11T15:04:14.193Z"
   },
   {
    "duration": 21,
    "start_time": "2022-05-11T15:04:14.818Z"
   },
   {
    "duration": 86,
    "start_time": "2022-05-11T15:04:15.585Z"
   },
   {
    "duration": 3,
    "start_time": "2022-05-11T15:04:28.634Z"
   },
   {
    "duration": 73,
    "start_time": "2022-05-11T15:04:46.285Z"
   },
   {
    "duration": 102,
    "start_time": "2022-05-11T15:05:15.913Z"
   },
   {
    "duration": 812,
    "start_time": "2022-05-11T15:05:16.902Z"
   },
   {
    "duration": 770,
    "start_time": "2022-05-11T15:05:57.765Z"
   },
   {
    "duration": 421,
    "start_time": "2022-05-11T15:05:58.537Z"
   },
   {
    "duration": 20,
    "start_time": "2022-05-11T15:05:58.960Z"
   },
   {
    "duration": 8,
    "start_time": "2022-05-11T15:05:59.118Z"
   },
   {
    "duration": 12,
    "start_time": "2022-05-11T15:05:59.440Z"
   },
   {
    "duration": 5,
    "start_time": "2022-05-11T15:05:59.991Z"
   },
   {
    "duration": 5,
    "start_time": "2022-05-11T15:06:00.186Z"
   },
   {
    "duration": 12,
    "start_time": "2022-05-11T15:06:00.553Z"
   },
   {
    "duration": 12,
    "start_time": "2022-05-11T15:06:00.917Z"
   },
   {
    "duration": 15,
    "start_time": "2022-05-11T15:06:01.346Z"
   },
   {
    "duration": 22,
    "start_time": "2022-05-11T15:06:02.079Z"
   },
   {
    "duration": 12,
    "start_time": "2022-05-11T15:06:02.256Z"
   },
   {
    "duration": 23,
    "start_time": "2022-05-11T15:06:02.906Z"
   },
   {
    "duration": 15,
    "start_time": "2022-05-11T15:06:03.107Z"
   },
   {
    "duration": 19,
    "start_time": "2022-05-11T15:06:03.753Z"
   },
   {
    "duration": 36,
    "start_time": "2022-05-11T15:06:04.228Z"
   },
   {
    "duration": 41,
    "start_time": "2022-05-11T15:06:04.633Z"
   },
   {
    "duration": 225,
    "start_time": "2022-05-11T15:06:05.095Z"
   },
   {
    "duration": 3,
    "start_time": "2022-05-11T15:06:05.485Z"
   },
   {
    "duration": 6,
    "start_time": "2022-05-11T15:06:05.701Z"
   },
   {
    "duration": 32,
    "start_time": "2022-05-11T15:06:06.117Z"
   },
   {
    "duration": 16,
    "start_time": "2022-05-11T15:06:07.484Z"
   },
   {
    "duration": 26,
    "start_time": "2022-05-11T15:06:07.904Z"
   },
   {
    "duration": 35,
    "start_time": "2022-05-11T15:06:08.392Z"
   },
   {
    "duration": 204,
    "start_time": "2022-05-11T15:06:08.631Z"
   },
   {
    "duration": 6,
    "start_time": "2022-05-11T15:06:09.319Z"
   },
   {
    "duration": 20,
    "start_time": "2022-05-11T15:06:09.899Z"
   },
   {
    "duration": 143,
    "start_time": "2022-05-11T15:06:11.540Z"
   },
   {
    "duration": 38,
    "start_time": "2022-05-11T15:06:12.007Z"
   },
   {
    "duration": 23,
    "start_time": "2022-05-11T15:06:12.242Z"
   },
   {
    "duration": 21,
    "start_time": "2022-05-11T15:06:12.958Z"
   },
   {
    "duration": 84,
    "start_time": "2022-05-11T15:06:14.683Z"
   },
   {
    "duration": 2,
    "start_time": "2022-05-11T15:06:18.241Z"
   },
   {
    "duration": 8,
    "start_time": "2022-05-11T15:07:03.969Z"
   },
   {
    "duration": 539,
    "start_time": "2022-05-11T15:07:04.859Z"
   },
   {
    "duration": 66,
    "start_time": "2022-05-11T15:07:52.423Z"
   },
   {
    "duration": 66903,
    "start_time": "2022-05-11T15:07:53.236Z"
   },
   {
    "duration": 659,
    "start_time": "2022-05-11T15:09:10.480Z"
   },
   {
    "duration": 402,
    "start_time": "2022-05-11T15:09:11.141Z"
   },
   {
    "duration": 16,
    "start_time": "2022-05-11T15:09:11.545Z"
   },
   {
    "duration": 7,
    "start_time": "2022-05-11T15:09:11.766Z"
   },
   {
    "duration": 14,
    "start_time": "2022-05-11T15:09:12.615Z"
   },
   {
    "duration": 5,
    "start_time": "2022-05-11T15:09:13.330Z"
   },
   {
    "duration": 5,
    "start_time": "2022-05-11T15:09:13.556Z"
   },
   {
    "duration": 14,
    "start_time": "2022-05-11T15:09:14.012Z"
   },
   {
    "duration": 10,
    "start_time": "2022-05-11T15:09:14.437Z"
   },
   {
    "duration": 13,
    "start_time": "2022-05-11T15:09:14.859Z"
   },
   {
    "duration": 31,
    "start_time": "2022-05-11T15:09:15.726Z"
   },
   {
    "duration": 14,
    "start_time": "2022-05-11T15:09:15.936Z"
   },
   {
    "duration": 22,
    "start_time": "2022-05-11T15:09:16.576Z"
   },
   {
    "duration": 17,
    "start_time": "2022-05-11T15:09:16.793Z"
   },
   {
    "duration": 14,
    "start_time": "2022-05-11T15:09:17.400Z"
   },
   {
    "duration": 23,
    "start_time": "2022-05-11T15:09:17.839Z"
   },
   {
    "duration": 27,
    "start_time": "2022-05-11T15:09:18.272Z"
   },
   {
    "duration": 220,
    "start_time": "2022-05-11T15:09:18.725Z"
   },
   {
    "duration": 3,
    "start_time": "2022-05-11T15:09:19.207Z"
   },
   {
    "duration": 7,
    "start_time": "2022-05-11T15:09:19.464Z"
   },
   {
    "duration": 24,
    "start_time": "2022-05-11T15:09:19.902Z"
   },
   {
    "duration": 14,
    "start_time": "2022-05-11T15:09:20.967Z"
   },
   {
    "duration": 25,
    "start_time": "2022-05-11T15:09:21.404Z"
   },
   {
    "duration": 35,
    "start_time": "2022-05-11T15:09:21.929Z"
   },
   {
    "duration": 204,
    "start_time": "2022-05-11T15:09:22.249Z"
   },
   {
    "duration": 7,
    "start_time": "2022-05-11T15:09:22.823Z"
   },
   {
    "duration": 22,
    "start_time": "2022-05-11T15:09:23.351Z"
   },
   {
    "duration": 138,
    "start_time": "2022-05-11T15:09:24.485Z"
   },
   {
    "duration": 36,
    "start_time": "2022-05-11T15:09:24.939Z"
   },
   {
    "duration": 22,
    "start_time": "2022-05-11T15:09:25.191Z"
   },
   {
    "duration": 20,
    "start_time": "2022-05-11T15:09:25.473Z"
   },
   {
    "duration": 82,
    "start_time": "2022-05-11T15:09:26.371Z"
   },
   {
    "duration": 3,
    "start_time": "2022-05-11T15:09:30.724Z"
   },
   {
    "duration": 3,
    "start_time": "2022-05-11T15:09:31.559Z"
   },
   {
    "duration": 16,
    "start_time": "2022-05-11T15:09:33.353Z"
   },
   {
    "duration": 5044,
    "start_time": "2022-05-11T15:09:34.278Z"
   },
   {
    "duration": 3086,
    "start_time": "2022-05-11T15:11:32.883Z"
   },
   {
    "duration": 1984,
    "start_time": "2022-05-11T15:12:08.536Z"
   },
   {
    "duration": 426,
    "start_time": "2022-05-11T15:12:10.522Z"
   },
   {
    "duration": 15,
    "start_time": "2022-05-11T15:12:10.950Z"
   },
   {
    "duration": 15,
    "start_time": "2022-05-11T15:12:10.967Z"
   },
   {
    "duration": 13,
    "start_time": "2022-05-11T15:12:10.984Z"
   },
   {
    "duration": 18,
    "start_time": "2022-05-11T15:12:10.999Z"
   },
   {
    "duration": 13,
    "start_time": "2022-05-11T15:12:11.019Z"
   },
   {
    "duration": 11,
    "start_time": "2022-05-11T15:12:11.175Z"
   },
   {
    "duration": 8,
    "start_time": "2022-05-11T15:12:11.629Z"
   },
   {
    "duration": 12,
    "start_time": "2022-05-11T15:12:12.007Z"
   },
   {
    "duration": 19,
    "start_time": "2022-05-11T15:12:13.111Z"
   },
   {
    "duration": 12,
    "start_time": "2022-05-11T15:12:13.317Z"
   },
   {
    "duration": 22,
    "start_time": "2022-05-11T15:12:13.926Z"
   },
   {
    "duration": 15,
    "start_time": "2022-05-11T15:12:14.165Z"
   },
   {
    "duration": 13,
    "start_time": "2022-05-11T15:12:14.812Z"
   },
   {
    "duration": 23,
    "start_time": "2022-05-11T15:12:15.261Z"
   },
   {
    "duration": 28,
    "start_time": "2022-05-11T15:12:15.692Z"
   },
   {
    "duration": 223,
    "start_time": "2022-05-11T15:12:16.189Z"
   },
   {
    "duration": 3,
    "start_time": "2022-05-11T15:12:16.619Z"
   },
   {
    "duration": 5,
    "start_time": "2022-05-11T15:12:16.839Z"
   },
   {
    "duration": 23,
    "start_time": "2022-05-11T15:12:17.274Z"
   },
   {
    "duration": 15,
    "start_time": "2022-05-11T15:12:18.238Z"
   },
   {
    "duration": 26,
    "start_time": "2022-05-11T15:12:18.647Z"
   },
   {
    "duration": 38,
    "start_time": "2022-05-11T15:12:19.084Z"
   },
   {
    "duration": 216,
    "start_time": "2022-05-11T15:12:19.309Z"
   },
   {
    "duration": 6,
    "start_time": "2022-05-11T15:12:19.773Z"
   },
   {
    "duration": 21,
    "start_time": "2022-05-11T15:12:20.272Z"
   },
   {
    "duration": 147,
    "start_time": "2022-05-11T15:12:21.362Z"
   },
   {
    "duration": 38,
    "start_time": "2022-05-11T15:12:22.065Z"
   },
   {
    "duration": 26,
    "start_time": "2022-05-11T15:12:22.455Z"
   },
   {
    "duration": 21,
    "start_time": "2022-05-11T15:12:23.178Z"
   },
   {
    "duration": 84,
    "start_time": "2022-05-11T15:12:24.604Z"
   },
   {
    "duration": 3,
    "start_time": "2022-05-11T15:12:25.703Z"
   },
   {
    "duration": 3,
    "start_time": "2022-05-11T15:12:26.257Z"
   },
   {
    "duration": 49,
    "start_time": "2022-05-11T15:13:37.789Z"
   },
   {
    "duration": 727,
    "start_time": "2022-05-11T15:13:43.046Z"
   },
   {
    "duration": 437,
    "start_time": "2022-05-11T15:13:43.775Z"
   },
   {
    "duration": 14,
    "start_time": "2022-05-11T15:13:44.214Z"
   },
   {
    "duration": 7,
    "start_time": "2022-05-11T15:13:44.342Z"
   },
   {
    "duration": 15,
    "start_time": "2022-05-11T15:13:44.699Z"
   },
   {
    "duration": 5,
    "start_time": "2022-05-11T15:13:45.438Z"
   },
   {
    "duration": 5,
    "start_time": "2022-05-11T15:13:45.610Z"
   },
   {
    "duration": 11,
    "start_time": "2022-05-11T15:13:46.000Z"
   },
   {
    "duration": 9,
    "start_time": "2022-05-11T15:13:46.369Z"
   },
   {
    "duration": 15,
    "start_time": "2022-05-11T15:13:46.769Z"
   },
   {
    "duration": 20,
    "start_time": "2022-05-11T15:13:47.522Z"
   },
   {
    "duration": 11,
    "start_time": "2022-05-11T15:13:47.738Z"
   },
   {
    "duration": 24,
    "start_time": "2022-05-11T15:13:48.319Z"
   },
   {
    "duration": 16,
    "start_time": "2022-05-11T15:13:48.519Z"
   },
   {
    "duration": 14,
    "start_time": "2022-05-11T15:13:49.114Z"
   },
   {
    "duration": 24,
    "start_time": "2022-05-11T15:13:49.492Z"
   },
   {
    "duration": 30,
    "start_time": "2022-05-11T15:13:49.900Z"
   },
   {
    "duration": 240,
    "start_time": "2022-05-11T15:13:50.321Z"
   },
   {
    "duration": 3,
    "start_time": "2022-05-11T15:13:50.763Z"
   },
   {
    "duration": 6,
    "start_time": "2022-05-11T15:13:50.965Z"
   },
   {
    "duration": 25,
    "start_time": "2022-05-11T15:13:51.398Z"
   },
   {
    "duration": 13,
    "start_time": "2022-05-11T15:13:52.489Z"
   },
   {
    "duration": 27,
    "start_time": "2022-05-11T15:13:52.929Z"
   },
   {
    "duration": 38,
    "start_time": "2022-05-11T15:13:53.356Z"
   },
   {
    "duration": 207,
    "start_time": "2022-05-11T15:13:53.594Z"
   },
   {
    "duration": 7,
    "start_time": "2022-05-11T15:13:54.048Z"
   },
   {
    "duration": 23,
    "start_time": "2022-05-11T15:13:54.541Z"
   },
   {
    "duration": 148,
    "start_time": "2022-05-11T15:13:56.002Z"
   },
   {
    "duration": 41,
    "start_time": "2022-05-11T15:13:56.506Z"
   },
   {
    "duration": 24,
    "start_time": "2022-05-11T15:13:56.742Z"
   },
   {
    "duration": 20,
    "start_time": "2022-05-11T15:13:56.992Z"
   },
   {
    "duration": 82,
    "start_time": "2022-05-11T15:13:57.827Z"
   },
   {
    "duration": 4,
    "start_time": "2022-05-11T15:14:00.173Z"
   },
   {
    "duration": 3,
    "start_time": "2022-05-11T15:14:00.718Z"
   },
   {
    "duration": 35,
    "start_time": "2022-05-11T15:14:01.293Z"
   },
   {
    "duration": 4,
    "start_time": "2022-05-11T15:18:58.752Z"
   },
   {
    "duration": 395,
    "start_time": "2022-05-11T15:18:59.059Z"
   },
   {
    "duration": 709,
    "start_time": "2022-05-11T15:19:09.076Z"
   },
   {
    "duration": 423,
    "start_time": "2022-05-11T15:19:09.787Z"
   },
   {
    "duration": 16,
    "start_time": "2022-05-11T15:19:11.025Z"
   },
   {
    "duration": 8,
    "start_time": "2022-05-11T15:19:11.623Z"
   },
   {
    "duration": 14,
    "start_time": "2022-05-11T15:19:11.998Z"
   },
   {
    "duration": 5,
    "start_time": "2022-05-11T15:19:12.534Z"
   },
   {
    "duration": 3,
    "start_time": "2022-05-11T15:19:12.737Z"
   },
   {
    "duration": 12,
    "start_time": "2022-05-11T15:19:13.114Z"
   },
   {
    "duration": 11,
    "start_time": "2022-05-11T15:19:13.490Z"
   },
   {
    "duration": 11,
    "start_time": "2022-05-11T15:19:13.877Z"
   },
   {
    "duration": 20,
    "start_time": "2022-05-11T15:19:14.664Z"
   },
   {
    "duration": 11,
    "start_time": "2022-05-11T15:19:14.860Z"
   },
   {
    "duration": 23,
    "start_time": "2022-05-11T15:19:15.469Z"
   },
   {
    "duration": 16,
    "start_time": "2022-05-11T15:19:15.649Z"
   },
   {
    "duration": 13,
    "start_time": "2022-05-11T15:19:16.242Z"
   },
   {
    "duration": 23,
    "start_time": "2022-05-11T15:19:16.634Z"
   },
   {
    "duration": 27,
    "start_time": "2022-05-11T15:19:17.035Z"
   },
   {
    "duration": 230,
    "start_time": "2022-05-11T15:19:17.440Z"
   },
   {
    "duration": 3,
    "start_time": "2022-05-11T15:19:17.827Z"
   },
   {
    "duration": 6,
    "start_time": "2022-05-11T15:19:18.046Z"
   },
   {
    "duration": 25,
    "start_time": "2022-05-11T15:19:18.435Z"
   },
   {
    "duration": 15,
    "start_time": "2022-05-11T15:19:19.209Z"
   },
   {
    "duration": 26,
    "start_time": "2022-05-11T15:19:19.600Z"
   },
   {
    "duration": 38,
    "start_time": "2022-05-11T15:19:19.983Z"
   },
   {
    "duration": 216,
    "start_time": "2022-05-11T15:19:20.182Z"
   },
   {
    "duration": 6,
    "start_time": "2022-05-11T15:19:20.565Z"
   },
   {
    "duration": 21,
    "start_time": "2022-05-11T15:19:20.953Z"
   },
   {
    "duration": 142,
    "start_time": "2022-05-11T15:19:21.817Z"
   },
   {
    "duration": 38,
    "start_time": "2022-05-11T15:19:22.244Z"
   },
   {
    "duration": 24,
    "start_time": "2022-05-11T15:19:22.449Z"
   },
   {
    "duration": 23,
    "start_time": "2022-05-11T15:19:22.648Z"
   },
   {
    "duration": 86,
    "start_time": "2022-05-11T15:19:23.323Z"
   },
   {
    "duration": 3,
    "start_time": "2022-05-11T15:19:23.737Z"
   },
   {
    "duration": 3,
    "start_time": "2022-05-11T15:19:25.247Z"
   },
   {
    "duration": 6,
    "start_time": "2022-05-11T15:20:04.050Z"
   },
   {
    "duration": 8,
    "start_time": "2022-05-11T15:20:04.665Z"
   },
   {
    "duration": 25,
    "start_time": "2022-05-11T15:20:05.588Z"
   },
   {
    "duration": 682,
    "start_time": "2022-05-11T15:21:25.730Z"
   },
   {
    "duration": 408,
    "start_time": "2022-05-11T15:21:26.414Z"
   },
   {
    "duration": 17,
    "start_time": "2022-05-11T15:21:26.824Z"
   },
   {
    "duration": 34,
    "start_time": "2022-05-11T15:21:26.844Z"
   },
   {
    "duration": 37,
    "start_time": "2022-05-11T15:21:26.880Z"
   },
   {
    "duration": 27,
    "start_time": "2022-05-11T15:21:26.919Z"
   },
   {
    "duration": 16,
    "start_time": "2022-05-11T15:21:26.948Z"
   },
   {
    "duration": 28,
    "start_time": "2022-05-11T15:21:26.966Z"
   },
   {
    "duration": 25,
    "start_time": "2022-05-11T15:21:26.996Z"
   },
   {
    "duration": 29,
    "start_time": "2022-05-11T15:21:27.024Z"
   },
   {
    "duration": 31,
    "start_time": "2022-05-11T15:21:27.055Z"
   },
   {
    "duration": 17,
    "start_time": "2022-05-11T15:21:27.088Z"
   },
   {
    "duration": 40,
    "start_time": "2022-05-11T15:21:27.106Z"
   },
   {
    "duration": 30,
    "start_time": "2022-05-11T15:21:27.148Z"
   },
   {
    "duration": 32,
    "start_time": "2022-05-11T15:21:27.179Z"
   },
   {
    "duration": 45,
    "start_time": "2022-05-11T15:21:27.213Z"
   },
   {
    "duration": 41,
    "start_time": "2022-05-11T15:21:27.260Z"
   },
   {
    "duration": 252,
    "start_time": "2022-05-11T15:21:27.303Z"
   },
   {
    "duration": 4,
    "start_time": "2022-05-11T15:21:27.556Z"
   },
   {
    "duration": 67,
    "start_time": "2022-05-11T15:21:27.562Z"
   },
   {
    "duration": 38,
    "start_time": "2022-05-11T15:21:27.631Z"
   },
   {
    "duration": 21,
    "start_time": "2022-05-11T15:21:27.672Z"
   },
   {
    "duration": 39,
    "start_time": "2022-05-11T15:21:27.695Z"
   },
   {
    "duration": 49,
    "start_time": "2022-05-11T15:21:27.735Z"
   },
   {
    "duration": 214,
    "start_time": "2022-05-11T15:21:27.787Z"
   },
   {
    "duration": 7,
    "start_time": "2022-05-11T15:21:28.002Z"
   },
   {
    "duration": 30,
    "start_time": "2022-05-11T15:21:28.010Z"
   },
   {
    "duration": 152,
    "start_time": "2022-05-11T15:21:28.044Z"
   },
   {
    "duration": 35,
    "start_time": "2022-05-11T15:21:28.198Z"
   },
   {
    "duration": 38,
    "start_time": "2022-05-11T15:21:28.234Z"
   },
   {
    "duration": 19,
    "start_time": "2022-05-11T15:21:28.274Z"
   },
   {
    "duration": 93,
    "start_time": "2022-05-11T15:21:28.295Z"
   },
   {
    "duration": 3,
    "start_time": "2022-05-11T15:21:28.389Z"
   },
   {
    "duration": 136,
    "start_time": "2022-05-11T15:21:28.394Z"
   },
   {
    "duration": 3,
    "start_time": "2022-05-11T15:21:28.532Z"
   },
   {
    "duration": 22,
    "start_time": "2022-05-11T15:21:28.537Z"
   },
   {
    "duration": 24,
    "start_time": "2022-05-11T15:21:28.572Z"
   },
   {
    "duration": 32,
    "start_time": "2022-05-11T15:21:28.598Z"
   },
   {
    "duration": 33,
    "start_time": "2022-05-11T15:21:28.632Z"
   },
   {
    "duration": 24,
    "start_time": "2022-05-11T15:21:28.668Z"
   },
   {
    "duration": 37,
    "start_time": "2022-05-11T15:21:28.694Z"
   },
   {
    "duration": 242,
    "start_time": "2022-05-11T15:21:28.734Z"
   },
   {
    "duration": 121,
    "start_time": "2022-05-11T15:21:28.978Z"
   },
   {
    "duration": 11,
    "start_time": "2022-05-11T15:21:29.102Z"
   },
   {
    "duration": 648,
    "start_time": "2022-05-11T15:23:14.530Z"
   },
   {
    "duration": 401,
    "start_time": "2022-05-11T15:23:15.180Z"
   },
   {
    "duration": 16,
    "start_time": "2022-05-11T15:23:15.583Z"
   },
   {
    "duration": 17,
    "start_time": "2022-05-11T15:23:15.600Z"
   },
   {
    "duration": 27,
    "start_time": "2022-05-11T15:23:15.620Z"
   },
   {
    "duration": 16,
    "start_time": "2022-05-11T15:23:15.650Z"
   },
   {
    "duration": 29,
    "start_time": "2022-05-11T15:23:15.669Z"
   },
   {
    "duration": 21,
    "start_time": "2022-05-11T15:23:15.700Z"
   },
   {
    "duration": 34,
    "start_time": "2022-05-11T15:23:15.723Z"
   },
   {
    "duration": 41,
    "start_time": "2022-05-11T15:23:15.759Z"
   },
   {
    "duration": 32,
    "start_time": "2022-05-11T15:23:15.803Z"
   },
   {
    "duration": 11,
    "start_time": "2022-05-11T15:23:15.837Z"
   },
   {
    "duration": 31,
    "start_time": "2022-05-11T15:23:15.850Z"
   },
   {
    "duration": 16,
    "start_time": "2022-05-11T15:23:15.885Z"
   },
   {
    "duration": 13,
    "start_time": "2022-05-11T15:23:15.903Z"
   },
   {
    "duration": 24,
    "start_time": "2022-05-11T15:23:15.918Z"
   },
   {
    "duration": 48,
    "start_time": "2022-05-11T15:23:15.944Z"
   },
   {
    "duration": 240,
    "start_time": "2022-05-11T15:23:15.993Z"
   },
   {
    "duration": 3,
    "start_time": "2022-05-11T15:23:16.235Z"
   },
   {
    "duration": 13,
    "start_time": "2022-05-11T15:23:16.240Z"
   },
   {
    "duration": 33,
    "start_time": "2022-05-11T15:23:16.255Z"
   },
   {
    "duration": 13,
    "start_time": "2022-05-11T15:23:16.290Z"
   },
   {
    "duration": 42,
    "start_time": "2022-05-11T15:23:16.305Z"
   },
   {
    "duration": 56,
    "start_time": "2022-05-11T15:23:16.349Z"
   },
   {
    "duration": 226,
    "start_time": "2022-05-11T15:23:16.407Z"
   },
   {
    "duration": 6,
    "start_time": "2022-05-11T15:23:16.635Z"
   },
   {
    "duration": 36,
    "start_time": "2022-05-11T15:23:16.643Z"
   },
   {
    "duration": 159,
    "start_time": "2022-05-11T15:23:16.681Z"
   },
   {
    "duration": 46,
    "start_time": "2022-05-11T15:23:16.842Z"
   },
   {
    "duration": 27,
    "start_time": "2022-05-11T15:23:16.890Z"
   },
   {
    "duration": 38,
    "start_time": "2022-05-11T15:23:16.919Z"
   },
   {
    "duration": 94,
    "start_time": "2022-05-11T15:23:16.959Z"
   },
   {
    "duration": 117,
    "start_time": "2022-05-11T15:23:17.055Z"
   },
   {
    "duration": 4,
    "start_time": "2022-05-11T15:23:17.174Z"
   },
   {
    "duration": 38,
    "start_time": "2022-05-11T15:23:17.180Z"
   },
   {
    "duration": 23,
    "start_time": "2022-05-11T15:23:17.220Z"
   },
   {
    "duration": 27,
    "start_time": "2022-05-11T15:23:17.245Z"
   },
   {
    "duration": 22,
    "start_time": "2022-05-11T15:23:17.273Z"
   },
   {
    "duration": 3,
    "start_time": "2022-05-11T15:23:17.297Z"
   },
   {
    "duration": 240,
    "start_time": "2022-05-11T15:23:17.302Z"
   },
   {
    "duration": 128,
    "start_time": "2022-05-11T15:23:17.546Z"
   },
   {
    "duration": 12,
    "start_time": "2022-05-11T15:23:17.675Z"
   },
   {
    "duration": 684,
    "start_time": "2022-05-11T15:25:12.193Z"
   },
   {
    "duration": 415,
    "start_time": "2022-05-11T15:25:12.879Z"
   },
   {
    "duration": 15,
    "start_time": "2022-05-11T15:25:13.296Z"
   },
   {
    "duration": 10,
    "start_time": "2022-05-11T15:25:13.313Z"
   },
   {
    "duration": 16,
    "start_time": "2022-05-11T15:25:13.325Z"
   },
   {
    "duration": 8,
    "start_time": "2022-05-11T15:25:13.344Z"
   },
   {
    "duration": 7,
    "start_time": "2022-05-11T15:25:13.354Z"
   },
   {
    "duration": 32,
    "start_time": "2022-05-11T15:25:13.363Z"
   },
   {
    "duration": 11,
    "start_time": "2022-05-11T15:25:13.397Z"
   },
   {
    "duration": 14,
    "start_time": "2022-05-11T15:25:13.411Z"
   },
   {
    "duration": 24,
    "start_time": "2022-05-11T15:25:13.427Z"
   },
   {
    "duration": 36,
    "start_time": "2022-05-11T15:25:13.453Z"
   },
   {
    "duration": 23,
    "start_time": "2022-05-11T15:25:13.491Z"
   },
   {
    "duration": 15,
    "start_time": "2022-05-11T15:25:13.516Z"
   },
   {
    "duration": 13,
    "start_time": "2022-05-11T15:25:13.533Z"
   },
   {
    "duration": 54,
    "start_time": "2022-05-11T15:25:13.547Z"
   },
   {
    "duration": 27,
    "start_time": "2022-05-11T15:25:13.603Z"
   },
   {
    "duration": 237,
    "start_time": "2022-05-11T15:25:13.632Z"
   },
   {
    "duration": 2,
    "start_time": "2022-05-11T15:25:13.871Z"
   },
   {
    "duration": 18,
    "start_time": "2022-05-11T15:25:13.875Z"
   },
   {
    "duration": 23,
    "start_time": "2022-05-11T15:25:13.896Z"
   },
   {
    "duration": 13,
    "start_time": "2022-05-11T15:25:13.921Z"
   },
   {
    "duration": 53,
    "start_time": "2022-05-11T15:25:13.935Z"
   },
   {
    "duration": 36,
    "start_time": "2022-05-11T15:25:13.990Z"
   },
   {
    "duration": 221,
    "start_time": "2022-05-11T15:25:14.028Z"
   },
   {
    "duration": 5,
    "start_time": "2022-05-11T15:25:14.251Z"
   },
   {
    "duration": 33,
    "start_time": "2022-05-11T15:25:14.258Z"
   },
   {
    "duration": 155,
    "start_time": "2022-05-11T15:25:14.295Z"
   },
   {
    "duration": 42,
    "start_time": "2022-05-11T15:25:14.452Z"
   },
   {
    "duration": 27,
    "start_time": "2022-05-11T15:25:14.495Z"
   },
   {
    "duration": 20,
    "start_time": "2022-05-11T15:25:14.523Z"
   },
   {
    "duration": 102,
    "start_time": "2022-05-11T15:25:14.545Z"
   },
   {
    "duration": 99,
    "start_time": "2022-05-11T15:25:14.649Z"
   },
   {
    "duration": 3,
    "start_time": "2022-05-11T15:25:14.750Z"
   },
   {
    "duration": 20,
    "start_time": "2022-05-11T15:25:14.754Z"
   },
   {
    "duration": 23,
    "start_time": "2022-05-11T15:25:14.775Z"
   },
   {
    "duration": 8,
    "start_time": "2022-05-11T15:25:14.800Z"
   },
   {
    "duration": 15,
    "start_time": "2022-05-11T15:25:14.809Z"
   },
   {
    "duration": 2,
    "start_time": "2022-05-11T15:25:14.826Z"
   },
   {
    "duration": 1391,
    "start_time": "2022-05-11T15:25:14.830Z"
   },
   {
    "duration": 0,
    "start_time": "2022-05-11T15:25:16.223Z"
   },
   {
    "duration": 0,
    "start_time": "2022-05-11T15:25:16.225Z"
   },
   {
    "duration": 8,
    "start_time": "2022-05-11T15:25:38.625Z"
   },
   {
    "duration": 195,
    "start_time": "2022-05-11T15:25:40.427Z"
   },
   {
    "duration": 124,
    "start_time": "2022-05-11T15:25:45.483Z"
   },
   {
    "duration": 699,
    "start_time": "2022-05-11T15:26:42.463Z"
   },
   {
    "duration": 397,
    "start_time": "2022-05-11T15:26:43.164Z"
   },
   {
    "duration": 16,
    "start_time": "2022-05-11T15:26:43.563Z"
   },
   {
    "duration": 9,
    "start_time": "2022-05-11T15:26:43.581Z"
   },
   {
    "duration": 13,
    "start_time": "2022-05-11T15:26:43.592Z"
   },
   {
    "duration": 9,
    "start_time": "2022-05-11T15:26:43.607Z"
   },
   {
    "duration": 8,
    "start_time": "2022-05-11T15:26:43.618Z"
   },
   {
    "duration": 13,
    "start_time": "2022-05-11T15:26:43.628Z"
   },
   {
    "duration": 12,
    "start_time": "2022-05-11T15:26:43.643Z"
   },
   {
    "duration": 38,
    "start_time": "2022-05-11T15:26:43.658Z"
   },
   {
    "duration": 22,
    "start_time": "2022-05-11T15:26:43.698Z"
   },
   {
    "duration": 12,
    "start_time": "2022-05-11T15:26:43.722Z"
   },
   {
    "duration": 26,
    "start_time": "2022-05-11T15:26:43.735Z"
   },
   {
    "duration": 39,
    "start_time": "2022-05-11T15:26:43.763Z"
   },
   {
    "duration": 14,
    "start_time": "2022-05-11T15:26:43.803Z"
   },
   {
    "duration": 24,
    "start_time": "2022-05-11T15:26:43.818Z"
   },
   {
    "duration": 57,
    "start_time": "2022-05-11T15:26:43.844Z"
   },
   {
    "duration": 246,
    "start_time": "2022-05-11T15:26:43.903Z"
   },
   {
    "duration": 2,
    "start_time": "2022-05-11T15:26:44.151Z"
   },
   {
    "duration": 12,
    "start_time": "2022-05-11T15:26:44.155Z"
   },
   {
    "duration": 36,
    "start_time": "2022-05-11T15:26:44.169Z"
   },
   {
    "duration": 14,
    "start_time": "2022-05-11T15:26:44.207Z"
   },
   {
    "duration": 38,
    "start_time": "2022-05-11T15:26:44.223Z"
   },
   {
    "duration": 54,
    "start_time": "2022-05-11T15:26:44.264Z"
   },
   {
    "duration": 226,
    "start_time": "2022-05-11T15:26:44.320Z"
   },
   {
    "duration": 5,
    "start_time": "2022-05-11T15:26:44.548Z"
   },
   {
    "duration": 41,
    "start_time": "2022-05-11T15:26:44.555Z"
   },
   {
    "duration": 160,
    "start_time": "2022-05-11T15:26:44.599Z"
   },
   {
    "duration": 44,
    "start_time": "2022-05-11T15:26:44.761Z"
   },
   {
    "duration": 26,
    "start_time": "2022-05-11T15:26:44.807Z"
   },
   {
    "duration": 20,
    "start_time": "2022-05-11T15:26:44.835Z"
   },
   {
    "duration": 100,
    "start_time": "2022-05-11T15:26:44.857Z"
   },
   {
    "duration": 106,
    "start_time": "2022-05-11T15:26:44.958Z"
   },
   {
    "duration": 4,
    "start_time": "2022-05-11T15:26:45.066Z"
   },
   {
    "duration": 26,
    "start_time": "2022-05-11T15:26:45.072Z"
   },
   {
    "duration": 14,
    "start_time": "2022-05-11T15:26:45.099Z"
   },
   {
    "duration": 15,
    "start_time": "2022-05-11T15:26:45.115Z"
   },
   {
    "duration": 14,
    "start_time": "2022-05-11T15:26:45.132Z"
   },
   {
    "duration": 7,
    "start_time": "2022-05-11T15:26:45.148Z"
   },
   {
    "duration": 234,
    "start_time": "2022-05-11T15:26:45.157Z"
   },
   {
    "duration": 145,
    "start_time": "2022-05-11T15:26:45.392Z"
   },
   {
    "duration": 11,
    "start_time": "2022-05-11T15:26:45.539Z"
   },
   {
    "duration": 3,
    "start_time": "2022-05-11T15:28:21.132Z"
   },
   {
    "duration": 16483,
    "start_time": "2022-05-11T15:28:36.189Z"
   },
   {
    "duration": 631,
    "start_time": "2022-05-11T15:29:41.336Z"
   },
   {
    "duration": 385,
    "start_time": "2022-05-11T15:29:41.969Z"
   },
   {
    "duration": 15,
    "start_time": "2022-05-11T15:29:42.356Z"
   },
   {
    "duration": 7,
    "start_time": "2022-05-11T15:29:42.373Z"
   },
   {
    "duration": 12,
    "start_time": "2022-05-11T15:29:42.382Z"
   },
   {
    "duration": 9,
    "start_time": "2022-05-11T15:29:42.396Z"
   },
   {
    "duration": 7,
    "start_time": "2022-05-11T15:29:42.407Z"
   },
   {
    "duration": 13,
    "start_time": "2022-05-11T15:29:42.415Z"
   },
   {
    "duration": 13,
    "start_time": "2022-05-11T15:29:42.430Z"
   },
   {
    "duration": 12,
    "start_time": "2022-05-11T15:29:42.447Z"
   },
   {
    "duration": 44,
    "start_time": "2022-05-11T15:29:42.461Z"
   },
   {
    "duration": 11,
    "start_time": "2022-05-11T15:29:42.507Z"
   },
   {
    "duration": 27,
    "start_time": "2022-05-11T15:29:42.519Z"
   },
   {
    "duration": 41,
    "start_time": "2022-05-11T15:29:42.548Z"
   },
   {
    "duration": 19,
    "start_time": "2022-05-11T15:29:42.591Z"
   },
   {
    "duration": 28,
    "start_time": "2022-05-11T15:29:42.613Z"
   },
   {
    "duration": 52,
    "start_time": "2022-05-11T15:29:42.643Z"
   },
   {
    "duration": 231,
    "start_time": "2022-05-11T15:29:42.697Z"
   },
   {
    "duration": 2,
    "start_time": "2022-05-11T15:29:42.930Z"
   },
   {
    "duration": 12,
    "start_time": "2022-05-11T15:29:42.934Z"
   },
   {
    "duration": 24,
    "start_time": "2022-05-11T15:29:42.948Z"
   },
   {
    "duration": 27,
    "start_time": "2022-05-11T15:29:42.974Z"
   },
   {
    "duration": 27,
    "start_time": "2022-05-11T15:29:43.003Z"
   },
   {
    "duration": 35,
    "start_time": "2022-05-11T15:29:43.032Z"
   },
   {
    "duration": 228,
    "start_time": "2022-05-11T15:29:43.069Z"
   },
   {
    "duration": 6,
    "start_time": "2022-05-11T15:29:43.300Z"
   },
   {
    "duration": 30,
    "start_time": "2022-05-11T15:29:43.307Z"
   },
   {
    "duration": 153,
    "start_time": "2022-05-11T15:29:43.341Z"
   },
   {
    "duration": 36,
    "start_time": "2022-05-11T15:29:43.496Z"
   },
   {
    "duration": 27,
    "start_time": "2022-05-11T15:29:43.534Z"
   },
   {
    "duration": 38,
    "start_time": "2022-05-11T15:29:43.562Z"
   },
   {
    "duration": 91,
    "start_time": "2022-05-11T15:29:43.601Z"
   },
   {
    "duration": 99,
    "start_time": "2022-05-11T15:29:43.693Z"
   },
   {
    "duration": 3,
    "start_time": "2022-05-11T15:29:43.794Z"
   },
   {
    "duration": 23,
    "start_time": "2022-05-11T15:29:43.799Z"
   },
   {
    "duration": 21,
    "start_time": "2022-05-11T15:29:43.823Z"
   },
   {
    "duration": 14,
    "start_time": "2022-05-11T15:29:43.845Z"
   },
   {
    "duration": 13,
    "start_time": "2022-05-11T15:29:43.861Z"
   },
   {
    "duration": 10,
    "start_time": "2022-05-11T15:29:43.887Z"
   },
   {
    "duration": 198,
    "start_time": "2022-05-11T15:29:43.899Z"
   },
   {
    "duration": 126,
    "start_time": "2022-05-11T15:29:44.098Z"
   },
   {
    "duration": 749,
    "start_time": "2022-05-11T15:41:47.020Z"
   },
   {
    "duration": 446,
    "start_time": "2022-05-11T15:41:47.771Z"
   },
   {
    "duration": 16,
    "start_time": "2022-05-11T15:41:48.795Z"
   },
   {
    "duration": 8,
    "start_time": "2022-05-11T15:41:49.409Z"
   },
   {
    "duration": 12,
    "start_time": "2022-05-11T15:41:49.797Z"
   },
   {
    "duration": 6,
    "start_time": "2022-05-11T15:41:50.358Z"
   },
   {
    "duration": 4,
    "start_time": "2022-05-11T15:41:50.585Z"
   },
   {
    "duration": 15,
    "start_time": "2022-05-11T15:41:50.966Z"
   },
   {
    "duration": 11,
    "start_time": "2022-05-11T15:41:51.425Z"
   },
   {
    "duration": 15,
    "start_time": "2022-05-11T15:41:51.885Z"
   },
   {
    "duration": 31,
    "start_time": "2022-05-11T15:41:53.366Z"
   },
   {
    "duration": 16,
    "start_time": "2022-05-11T15:41:53.646Z"
   },
   {
    "duration": 34,
    "start_time": "2022-05-11T15:41:54.256Z"
   },
   {
    "duration": 17,
    "start_time": "2022-05-11T15:41:54.489Z"
   },
   {
    "duration": 15,
    "start_time": "2022-05-11T15:41:55.181Z"
   },
   {
    "duration": 37,
    "start_time": "2022-05-11T15:41:55.654Z"
   },
   {
    "duration": 29,
    "start_time": "2022-05-11T15:41:56.148Z"
   },
   {
    "duration": 232,
    "start_time": "2022-05-11T15:41:56.746Z"
   },
   {
    "duration": 3,
    "start_time": "2022-05-11T15:41:58.502Z"
   },
   {
    "duration": 6,
    "start_time": "2022-05-11T15:41:59.080Z"
   },
   {
    "duration": 27,
    "start_time": "2022-05-11T15:42:00.258Z"
   },
   {
    "duration": 15,
    "start_time": "2022-05-11T15:42:01.304Z"
   },
   {
    "duration": 26,
    "start_time": "2022-05-11T15:42:01.848Z"
   },
   {
    "duration": 42,
    "start_time": "2022-05-11T15:42:02.441Z"
   },
   {
    "duration": 217,
    "start_time": "2022-05-11T15:42:02.736Z"
   },
   {
    "duration": 7,
    "start_time": "2022-05-11T15:42:03.314Z"
   },
   {
    "duration": 22,
    "start_time": "2022-05-11T15:42:03.926Z"
   },
   {
    "duration": 156,
    "start_time": "2022-05-11T15:42:05.349Z"
   },
   {
    "duration": 38,
    "start_time": "2022-05-11T15:42:05.878Z"
   },
   {
    "duration": 28,
    "start_time": "2022-05-11T15:42:06.235Z"
   },
   {
    "duration": 23,
    "start_time": "2022-05-11T15:42:06.887Z"
   },
   {
    "duration": 84,
    "start_time": "2022-05-11T15:42:14.600Z"
   },
   {
    "duration": 507,
    "start_time": "2022-05-11T15:44:00.061Z"
   },
   {
    "duration": 24,
    "start_time": "2022-05-11T15:44:12.322Z"
   },
   {
    "duration": 18,
    "start_time": "2022-05-11T15:44:18.012Z"
   },
   {
    "duration": 27,
    "start_time": "2022-05-11T15:44:55.179Z"
   },
   {
    "duration": 4,
    "start_time": "2022-05-11T15:45:14.422Z"
   },
   {
    "duration": 23,
    "start_time": "2022-05-11T15:45:14.962Z"
   },
   {
    "duration": 17,
    "start_time": "2022-05-11T15:45:15.280Z"
   },
   {
    "duration": 12,
    "start_time": "2022-05-11T15:45:16.177Z"
   },
   {
    "duration": 13,
    "start_time": "2022-05-11T15:45:16.645Z"
   },
   {
    "duration": 9,
    "start_time": "2022-05-11T15:45:17.236Z"
   },
   {
    "duration": 208,
    "start_time": "2022-05-11T15:45:18.079Z"
   },
   {
    "duration": 121,
    "start_time": "2022-05-11T15:45:19.495Z"
   },
   {
    "duration": 13,
    "start_time": "2022-05-11T15:45:33.430Z"
   },
   {
    "duration": 18,
    "start_time": "2022-05-11T15:47:21.090Z"
   },
   {
    "duration": 10,
    "start_time": "2022-05-11T15:47:51.675Z"
   },
   {
    "duration": 25,
    "start_time": "2022-05-11T15:48:33.567Z"
   },
   {
    "duration": 28,
    "start_time": "2022-05-11T15:48:34.345Z"
   },
   {
    "duration": 4,
    "start_time": "2022-05-11T15:48:37.229Z"
   },
   {
    "duration": 24,
    "start_time": "2022-05-11T15:48:37.452Z"
   },
   {
    "duration": 13,
    "start_time": "2022-05-11T15:48:37.694Z"
   },
   {
    "duration": 11,
    "start_time": "2022-05-11T15:48:38.105Z"
   },
   {
    "duration": 13,
    "start_time": "2022-05-11T15:48:38.591Z"
   },
   {
    "duration": 10,
    "start_time": "2022-05-11T15:48:39.080Z"
   },
   {
    "duration": 206,
    "start_time": "2022-05-11T15:48:39.816Z"
   },
   {
    "duration": 133,
    "start_time": "2022-05-11T15:48:41.463Z"
   },
   {
    "duration": 14,
    "start_time": "2022-05-11T15:48:41.965Z"
   },
   {
    "duration": 3,
    "start_time": "2022-05-11T15:49:03.995Z"
   },
   {
    "duration": 55,
    "start_time": "2022-05-11T15:49:05.386Z"
   },
   {
    "duration": 238,
    "start_time": "2022-05-11T15:49:22.664Z"
   },
   {
    "duration": 52,
    "start_time": "2022-05-11T15:49:44.018Z"
   },
   {
    "duration": 220,
    "start_time": "2022-05-11T15:50:33.700Z"
   },
   {
    "duration": 54,
    "start_time": "2022-05-11T15:50:35.847Z"
   },
   {
    "duration": 38,
    "start_time": "2022-05-11T15:50:37.909Z"
   },
   {
    "duration": 89,
    "start_time": "2022-05-11T15:51:31.472Z"
   },
   {
    "duration": 226,
    "start_time": "2022-05-11T15:52:39.599Z"
   },
   {
    "duration": 722,
    "start_time": "2022-05-11T15:57:09.864Z"
   },
   {
    "duration": 471,
    "start_time": "2022-05-11T15:57:10.588Z"
   },
   {
    "duration": 17,
    "start_time": "2022-05-11T15:57:11.061Z"
   },
   {
    "duration": 11,
    "start_time": "2022-05-11T15:57:11.082Z"
   },
   {
    "duration": 26,
    "start_time": "2022-05-11T15:57:11.095Z"
   },
   {
    "duration": 8,
    "start_time": "2022-05-11T15:57:11.124Z"
   },
   {
    "duration": 8,
    "start_time": "2022-05-11T15:57:11.134Z"
   },
   {
    "duration": 22,
    "start_time": "2022-05-11T15:57:11.144Z"
   },
   {
    "duration": 14,
    "start_time": "2022-05-11T15:57:11.168Z"
   },
   {
    "duration": 17,
    "start_time": "2022-05-11T15:57:11.186Z"
   },
   {
    "duration": 25,
    "start_time": "2022-05-11T15:57:11.207Z"
   },
   {
    "duration": 16,
    "start_time": "2022-05-11T15:57:11.234Z"
   },
   {
    "duration": 44,
    "start_time": "2022-05-11T15:57:11.252Z"
   },
   {
    "duration": 19,
    "start_time": "2022-05-11T15:57:11.299Z"
   },
   {
    "duration": 15,
    "start_time": "2022-05-11T15:57:11.320Z"
   },
   {
    "duration": 23,
    "start_time": "2022-05-11T15:57:11.336Z"
   },
   {
    "duration": 67,
    "start_time": "2022-05-11T15:57:11.360Z"
   },
   {
    "duration": 272,
    "start_time": "2022-05-11T15:57:11.429Z"
   },
   {
    "duration": 4,
    "start_time": "2022-05-11T15:57:11.702Z"
   },
   {
    "duration": 14,
    "start_time": "2022-05-11T15:57:11.707Z"
   },
   {
    "duration": 28,
    "start_time": "2022-05-11T15:57:11.723Z"
   },
   {
    "duration": 14,
    "start_time": "2022-05-11T15:57:11.752Z"
   },
   {
    "duration": 33,
    "start_time": "2022-05-11T15:57:11.799Z"
   },
   {
    "duration": 39,
    "start_time": "2022-05-11T15:57:11.834Z"
   },
   {
    "duration": 248,
    "start_time": "2022-05-11T15:57:11.875Z"
   },
   {
    "duration": 8,
    "start_time": "2022-05-11T15:57:12.125Z"
   },
   {
    "duration": 27,
    "start_time": "2022-05-11T15:57:12.135Z"
   },
   {
    "duration": 199,
    "start_time": "2022-05-11T15:57:12.167Z"
   },
   {
    "duration": 45,
    "start_time": "2022-05-11T15:57:12.368Z"
   },
   {
    "duration": 25,
    "start_time": "2022-05-11T15:57:12.415Z"
   },
   {
    "duration": 51,
    "start_time": "2022-05-11T15:57:12.442Z"
   },
   {
    "duration": 467,
    "start_time": "2022-05-11T15:57:12.495Z"
   },
   {
    "duration": 95,
    "start_time": "2022-05-11T15:57:12.964Z"
   },
   {
    "duration": 32,
    "start_time": "2022-05-11T15:57:13.061Z"
   },
   {
    "duration": 21,
    "start_time": "2022-05-11T15:57:13.096Z"
   },
   {
    "duration": 5,
    "start_time": "2022-05-11T15:57:13.119Z"
   },
   {
    "duration": 30,
    "start_time": "2022-05-11T15:57:13.126Z"
   },
   {
    "duration": 36,
    "start_time": "2022-05-11T15:57:13.158Z"
   },
   {
    "duration": 21,
    "start_time": "2022-05-11T15:57:13.197Z"
   },
   {
    "duration": 12,
    "start_time": "2022-05-11T15:57:13.220Z"
   },
   {
    "duration": 12,
    "start_time": "2022-05-11T15:57:13.234Z"
   },
   {
    "duration": 232,
    "start_time": "2022-05-11T15:57:13.247Z"
   },
   {
    "duration": 133,
    "start_time": "2022-05-11T15:57:13.481Z"
   },
   {
    "duration": 653,
    "start_time": "2022-05-11T15:59:43.712Z"
   },
   {
    "duration": 441,
    "start_time": "2022-05-11T15:59:44.367Z"
   },
   {
    "duration": 16,
    "start_time": "2022-05-11T15:59:44.811Z"
   },
   {
    "duration": 13,
    "start_time": "2022-05-11T15:59:44.830Z"
   },
   {
    "duration": 15,
    "start_time": "2022-05-11T15:59:44.846Z"
   },
   {
    "duration": 7,
    "start_time": "2022-05-11T15:59:44.863Z"
   },
   {
    "duration": 16,
    "start_time": "2022-05-11T15:59:44.872Z"
   },
   {
    "duration": 15,
    "start_time": "2022-05-11T15:59:44.891Z"
   },
   {
    "duration": 10,
    "start_time": "2022-05-11T15:59:44.908Z"
   },
   {
    "duration": 12,
    "start_time": "2022-05-11T15:59:44.922Z"
   },
   {
    "duration": 24,
    "start_time": "2022-05-11T15:59:44.936Z"
   },
   {
    "duration": 14,
    "start_time": "2022-05-11T15:59:44.989Z"
   },
   {
    "duration": 35,
    "start_time": "2022-05-11T15:59:45.005Z"
   },
   {
    "duration": 18,
    "start_time": "2022-05-11T15:59:45.042Z"
   },
   {
    "duration": 37,
    "start_time": "2022-05-11T15:59:45.062Z"
   },
   {
    "duration": 25,
    "start_time": "2022-05-11T15:59:45.101Z"
   },
   {
    "duration": 73,
    "start_time": "2022-05-11T15:59:45.128Z"
   },
   {
    "duration": 246,
    "start_time": "2022-05-11T15:59:45.203Z"
   },
   {
    "duration": 4,
    "start_time": "2022-05-11T15:59:45.451Z"
   },
   {
    "duration": 10,
    "start_time": "2022-05-11T15:59:45.457Z"
   },
   {
    "duration": 40,
    "start_time": "2022-05-11T15:59:45.470Z"
   },
   {
    "duration": 15,
    "start_time": "2022-05-11T15:59:45.513Z"
   },
   {
    "duration": 30,
    "start_time": "2022-05-11T15:59:45.530Z"
   },
   {
    "duration": 60,
    "start_time": "2022-05-11T15:59:45.562Z"
   },
   {
    "duration": 237,
    "start_time": "2022-05-11T15:59:45.624Z"
   },
   {
    "duration": 7,
    "start_time": "2022-05-11T15:59:45.862Z"
   },
   {
    "duration": 36,
    "start_time": "2022-05-11T15:59:45.871Z"
   },
   {
    "duration": 168,
    "start_time": "2022-05-11T15:59:45.910Z"
   },
   {
    "duration": 38,
    "start_time": "2022-05-11T15:59:46.080Z"
   },
   {
    "duration": 25,
    "start_time": "2022-05-11T15:59:46.120Z"
   },
   {
    "duration": 55,
    "start_time": "2022-05-11T15:59:46.147Z"
   },
   {
    "duration": 515,
    "start_time": "2022-05-11T15:59:46.203Z"
   },
   {
    "duration": 83,
    "start_time": "2022-05-11T15:59:46.720Z"
   },
   {
    "duration": 18,
    "start_time": "2022-05-11T15:59:46.805Z"
   },
   {
    "duration": 24,
    "start_time": "2022-05-11T15:59:46.825Z"
   },
   {
    "duration": 4,
    "start_time": "2022-05-11T15:59:46.851Z"
   },
   {
    "duration": 48,
    "start_time": "2022-05-11T15:59:46.857Z"
   },
   {
    "duration": 14,
    "start_time": "2022-05-11T15:59:46.907Z"
   },
   {
    "duration": 8,
    "start_time": "2022-05-11T15:59:46.923Z"
   },
   {
    "duration": 11,
    "start_time": "2022-05-11T15:59:46.933Z"
   },
   {
    "duration": 46,
    "start_time": "2022-05-11T15:59:46.946Z"
   },
   {
    "duration": 207,
    "start_time": "2022-05-11T15:59:46.994Z"
   },
   {
    "duration": 140,
    "start_time": "2022-05-11T15:59:47.203Z"
   },
   {
    "duration": 741,
    "start_time": "2022-05-12T04:33:00.185Z"
   },
   {
    "duration": 360,
    "start_time": "2022-05-12T04:33:00.929Z"
   },
   {
    "duration": 15,
    "start_time": "2022-05-12T04:33:01.291Z"
   },
   {
    "duration": 7,
    "start_time": "2022-05-12T04:33:01.448Z"
   },
   {
    "duration": 11,
    "start_time": "2022-05-12T04:33:01.826Z"
   },
   {
    "duration": 4,
    "start_time": "2022-05-12T04:33:02.429Z"
   },
   {
    "duration": 2,
    "start_time": "2022-05-12T04:33:02.628Z"
   },
   {
    "duration": 10,
    "start_time": "2022-05-12T04:33:03.026Z"
   },
   {
    "duration": 7,
    "start_time": "2022-05-12T04:33:03.437Z"
   },
   {
    "duration": 10,
    "start_time": "2022-05-12T04:33:04.039Z"
   },
   {
    "duration": 18,
    "start_time": "2022-05-12T04:33:04.890Z"
   },
   {
    "duration": 10,
    "start_time": "2022-05-12T04:33:05.085Z"
   },
   {
    "duration": 21,
    "start_time": "2022-05-12T04:33:05.733Z"
   },
   {
    "duration": 16,
    "start_time": "2022-05-12T04:33:05.946Z"
   },
   {
    "duration": 12,
    "start_time": "2022-05-12T04:33:06.594Z"
   },
   {
    "duration": 21,
    "start_time": "2022-05-12T04:33:07.019Z"
   },
   {
    "duration": 26,
    "start_time": "2022-05-12T04:33:07.462Z"
   },
   {
    "duration": 194,
    "start_time": "2022-05-12T04:33:07.926Z"
   },
   {
    "duration": 3,
    "start_time": "2022-05-12T04:33:08.351Z"
   },
   {
    "duration": 6,
    "start_time": "2022-05-12T04:33:08.578Z"
   },
   {
    "duration": 21,
    "start_time": "2022-05-12T04:33:09.009Z"
   },
   {
    "duration": 13,
    "start_time": "2022-05-12T04:33:09.859Z"
   },
   {
    "duration": 25,
    "start_time": "2022-05-12T04:33:10.300Z"
   },
   {
    "duration": 33,
    "start_time": "2022-05-12T04:33:10.727Z"
   },
   {
    "duration": 176,
    "start_time": "2022-05-12T04:33:10.948Z"
   },
   {
    "duration": 5,
    "start_time": "2022-05-12T04:33:11.388Z"
   },
   {
    "duration": 18,
    "start_time": "2022-05-12T04:33:11.834Z"
   },
   {
    "duration": 128,
    "start_time": "2022-05-12T04:33:12.716Z"
   },
   {
    "duration": 32,
    "start_time": "2022-05-12T04:33:13.136Z"
   },
   {
    "duration": 21,
    "start_time": "2022-05-12T04:33:13.356Z"
   },
   {
    "duration": 19,
    "start_time": "2022-05-12T04:33:13.576Z"
   },
   {
    "duration": 445,
    "start_time": "2022-05-12T04:33:14.857Z"
   },
   {
    "duration": 65,
    "start_time": "2022-05-12T04:33:15.446Z"
   },
   {
    "duration": 93,
    "start_time": "2022-05-12T04:33:16.585Z"
   },
   {
    "duration": 22,
    "start_time": "2022-05-12T04:33:28.420Z"
   },
   {
    "duration": 16,
    "start_time": "2022-05-12T04:33:34.282Z"
   },
   {
    "duration": 26,
    "start_time": "2022-05-12T04:34:25.553Z"
   },
   {
    "duration": 1506,
    "start_time": "2022-05-12T04:34:34.289Z"
   },
   {
    "duration": 4,
    "start_time": "2022-05-12T04:34:45.303Z"
   },
   {
    "duration": 25,
    "start_time": "2022-05-12T04:34:48.142Z"
   },
   {
    "duration": 18,
    "start_time": "2022-05-12T04:34:50.383Z"
   },
   {
    "duration": 13,
    "start_time": "2022-05-12T04:37:21.598Z"
   },
   {
    "duration": 15,
    "start_time": "2022-05-12T04:37:51.519Z"
   },
   {
    "duration": 15,
    "start_time": "2022-05-12T04:37:52.219Z"
   },
   {
    "duration": 577,
    "start_time": "2022-05-12T04:44:23.825Z"
   },
   {
    "duration": 365,
    "start_time": "2022-05-12T04:44:24.404Z"
   },
   {
    "duration": 13,
    "start_time": "2022-05-12T04:44:24.771Z"
   },
   {
    "duration": 7,
    "start_time": "2022-05-12T04:44:24.786Z"
   },
   {
    "duration": 12,
    "start_time": "2022-05-12T04:44:24.795Z"
   },
   {
    "duration": 6,
    "start_time": "2022-05-12T04:44:24.808Z"
   },
   {
    "duration": 5,
    "start_time": "2022-05-12T04:44:24.816Z"
   },
   {
    "duration": 12,
    "start_time": "2022-05-12T04:44:24.822Z"
   },
   {
    "duration": 8,
    "start_time": "2022-05-12T04:44:24.836Z"
   },
   {
    "duration": 34,
    "start_time": "2022-05-12T04:44:24.845Z"
   },
   {
    "duration": 18,
    "start_time": "2022-05-12T04:44:24.880Z"
   },
   {
    "duration": 8,
    "start_time": "2022-05-12T04:44:24.900Z"
   },
   {
    "duration": 20,
    "start_time": "2022-05-12T04:44:24.910Z"
   },
   {
    "duration": 39,
    "start_time": "2022-05-12T04:44:24.933Z"
   },
   {
    "duration": 12,
    "start_time": "2022-05-12T04:44:24.973Z"
   },
   {
    "duration": 20,
    "start_time": "2022-05-12T04:44:24.986Z"
   },
   {
    "duration": 26,
    "start_time": "2022-05-12T04:44:25.008Z"
   },
   {
    "duration": 221,
    "start_time": "2022-05-12T04:44:25.035Z"
   },
   {
    "duration": 3,
    "start_time": "2022-05-12T04:44:25.257Z"
   },
   {
    "duration": 13,
    "start_time": "2022-05-12T04:44:25.261Z"
   },
   {
    "duration": 25,
    "start_time": "2022-05-12T04:44:25.275Z"
   },
   {
    "duration": 11,
    "start_time": "2022-05-12T04:44:25.302Z"
   },
   {
    "duration": 24,
    "start_time": "2022-05-12T04:44:25.315Z"
   },
   {
    "duration": 53,
    "start_time": "2022-05-12T04:44:25.341Z"
   },
   {
    "duration": 183,
    "start_time": "2022-05-12T04:44:25.396Z"
   },
   {
    "duration": 5,
    "start_time": "2022-05-12T04:44:25.581Z"
   },
   {
    "duration": 18,
    "start_time": "2022-05-12T04:44:25.588Z"
   },
   {
    "duration": 143,
    "start_time": "2022-05-12T04:44:25.608Z"
   },
   {
    "duration": 40,
    "start_time": "2022-05-12T04:44:25.752Z"
   },
   {
    "duration": 22,
    "start_time": "2022-05-12T04:44:25.794Z"
   },
   {
    "duration": 18,
    "start_time": "2022-05-12T04:44:25.817Z"
   },
   {
    "duration": 463,
    "start_time": "2022-05-12T04:44:25.837Z"
   },
   {
    "duration": 74,
    "start_time": "2022-05-12T04:44:26.302Z"
   },
   {
    "duration": 14,
    "start_time": "2022-05-12T04:44:26.378Z"
   },
   {
    "duration": 15,
    "start_time": "2022-05-12T04:44:26.393Z"
   },
   {
    "duration": 3,
    "start_time": "2022-05-12T04:44:26.410Z"
   },
   {
    "duration": 9,
    "start_time": "2022-05-12T04:44:26.415Z"
   },
   {
    "duration": 13,
    "start_time": "2022-05-12T04:44:26.425Z"
   },
   {
    "duration": 37,
    "start_time": "2022-05-12T04:44:26.440Z"
   },
   {
    "duration": 8,
    "start_time": "2022-05-12T04:44:26.478Z"
   },
   {
    "duration": 10,
    "start_time": "2022-05-12T04:44:26.490Z"
   },
   {
    "duration": 198,
    "start_time": "2022-05-12T04:44:26.501Z"
   },
   {
    "duration": 126,
    "start_time": "2022-05-12T04:44:26.700Z"
   },
   {
    "duration": 7,
    "start_time": "2022-05-12T04:46:52.818Z"
   },
   {
    "duration": 18,
    "start_time": "2022-05-12T04:46:53.351Z"
   },
   {
    "duration": 589,
    "start_time": "2022-05-12T04:47:01.621Z"
   },
   {
    "duration": 373,
    "start_time": "2022-05-12T04:47:02.212Z"
   },
   {
    "duration": 15,
    "start_time": "2022-05-12T04:47:02.587Z"
   },
   {
    "duration": 6,
    "start_time": "2022-05-12T04:47:02.605Z"
   },
   {
    "duration": 10,
    "start_time": "2022-05-12T04:47:02.613Z"
   },
   {
    "duration": 5,
    "start_time": "2022-05-12T04:47:02.625Z"
   },
   {
    "duration": 4,
    "start_time": "2022-05-12T04:47:02.632Z"
   },
   {
    "duration": 34,
    "start_time": "2022-05-12T04:47:02.638Z"
   },
   {
    "duration": 9,
    "start_time": "2022-05-12T04:47:02.674Z"
   },
   {
    "duration": 10,
    "start_time": "2022-05-12T04:47:02.686Z"
   },
   {
    "duration": 18,
    "start_time": "2022-05-12T04:47:02.698Z"
   },
   {
    "duration": 11,
    "start_time": "2022-05-12T04:47:02.718Z"
   },
   {
    "duration": 54,
    "start_time": "2022-05-12T04:47:02.731Z"
   },
   {
    "duration": 15,
    "start_time": "2022-05-12T04:47:02.787Z"
   },
   {
    "duration": 12,
    "start_time": "2022-05-12T04:47:02.803Z"
   },
   {
    "duration": 21,
    "start_time": "2022-05-12T04:47:02.817Z"
   },
   {
    "duration": 50,
    "start_time": "2022-05-12T04:47:02.840Z"
   },
   {
    "duration": 209,
    "start_time": "2022-05-12T04:47:02.892Z"
   },
   {
    "duration": 3,
    "start_time": "2022-05-12T04:47:03.103Z"
   },
   {
    "duration": 8,
    "start_time": "2022-05-12T04:47:03.108Z"
   },
   {
    "duration": 23,
    "start_time": "2022-05-12T04:47:03.118Z"
   },
   {
    "duration": 34,
    "start_time": "2022-05-12T04:47:03.142Z"
   },
   {
    "duration": 25,
    "start_time": "2022-05-12T04:47:03.178Z"
   },
   {
    "duration": 33,
    "start_time": "2022-05-12T04:47:03.204Z"
   },
   {
    "duration": 195,
    "start_time": "2022-05-12T04:47:03.239Z"
   },
   {
    "duration": 5,
    "start_time": "2022-05-12T04:47:03.435Z"
   },
   {
    "duration": 17,
    "start_time": "2022-05-12T04:47:03.442Z"
   },
   {
    "duration": 141,
    "start_time": "2022-05-12T04:47:03.473Z"
   },
   {
    "duration": 33,
    "start_time": "2022-05-12T04:47:03.615Z"
   },
   {
    "duration": 35,
    "start_time": "2022-05-12T04:47:03.649Z"
   },
   {
    "duration": 17,
    "start_time": "2022-05-12T04:47:03.686Z"
   },
   {
    "duration": 401,
    "start_time": "2022-05-12T04:47:03.705Z"
   },
   {
    "duration": 73,
    "start_time": "2022-05-12T04:47:04.108Z"
   },
   {
    "duration": 15,
    "start_time": "2022-05-12T04:47:04.182Z"
   },
   {
    "duration": 14,
    "start_time": "2022-05-12T04:47:04.199Z"
   },
   {
    "duration": 2,
    "start_time": "2022-05-12T04:47:04.215Z"
   },
   {
    "duration": 8,
    "start_time": "2022-05-12T04:47:04.219Z"
   },
   {
    "duration": 15,
    "start_time": "2022-05-12T04:47:04.229Z"
   },
   {
    "duration": 33,
    "start_time": "2022-05-12T04:47:04.246Z"
   },
   {
    "duration": 12,
    "start_time": "2022-05-12T04:47:04.281Z"
   },
   {
    "duration": 11,
    "start_time": "2022-05-12T04:47:04.294Z"
   },
   {
    "duration": 188,
    "start_time": "2022-05-12T04:47:04.307Z"
   },
   {
    "duration": 124,
    "start_time": "2022-05-12T04:47:04.497Z"
   },
   {
    "duration": 614,
    "start_time": "2022-05-12T04:52:32.336Z"
   },
   {
    "duration": 361,
    "start_time": "2022-05-12T04:52:32.952Z"
   },
   {
    "duration": 14,
    "start_time": "2022-05-12T04:52:33.315Z"
   },
   {
    "duration": 6,
    "start_time": "2022-05-12T04:52:33.331Z"
   },
   {
    "duration": 9,
    "start_time": "2022-05-12T04:52:33.339Z"
   },
   {
    "duration": 5,
    "start_time": "2022-05-12T04:52:33.350Z"
   },
   {
    "duration": 8,
    "start_time": "2022-05-12T04:52:33.356Z"
   },
   {
    "duration": 11,
    "start_time": "2022-05-12T04:52:33.366Z"
   },
   {
    "duration": 8,
    "start_time": "2022-05-12T04:52:33.378Z"
   },
   {
    "duration": 11,
    "start_time": "2022-05-12T04:52:33.387Z"
   },
   {
    "duration": 17,
    "start_time": "2022-05-12T04:52:33.400Z"
   },
   {
    "duration": 9,
    "start_time": "2022-05-12T04:52:33.418Z"
   },
   {
    "duration": 48,
    "start_time": "2022-05-12T04:52:33.428Z"
   },
   {
    "duration": 14,
    "start_time": "2022-05-12T04:52:33.479Z"
   },
   {
    "duration": 12,
    "start_time": "2022-05-12T04:52:33.495Z"
   },
   {
    "duration": 21,
    "start_time": "2022-05-12T04:52:33.508Z"
   },
   {
    "duration": 55,
    "start_time": "2022-05-12T04:52:33.531Z"
   },
   {
    "duration": 206,
    "start_time": "2022-05-12T04:52:33.588Z"
   },
   {
    "duration": 3,
    "start_time": "2022-05-12T04:52:33.796Z"
   },
   {
    "duration": 8,
    "start_time": "2022-05-12T04:52:33.801Z"
   },
   {
    "duration": 21,
    "start_time": "2022-05-12T04:52:33.810Z"
   },
   {
    "duration": 12,
    "start_time": "2022-05-12T04:52:33.833Z"
   },
   {
    "duration": 25,
    "start_time": "2022-05-12T04:52:33.870Z"
   },
   {
    "duration": 35,
    "start_time": "2022-05-12T04:52:33.897Z"
   },
   {
    "duration": 202,
    "start_time": "2022-05-12T04:52:33.934Z"
   },
   {
    "duration": 5,
    "start_time": "2022-05-12T04:52:34.138Z"
   },
   {
    "duration": 30,
    "start_time": "2022-05-12T04:52:34.144Z"
   },
   {
    "duration": 135,
    "start_time": "2022-05-12T04:52:34.176Z"
   },
   {
    "duration": 31,
    "start_time": "2022-05-12T04:52:34.313Z"
   },
   {
    "duration": 36,
    "start_time": "2022-05-12T04:52:34.346Z"
   },
   {
    "duration": 17,
    "start_time": "2022-05-12T04:52:34.383Z"
   },
   {
    "duration": 402,
    "start_time": "2022-05-12T04:52:34.401Z"
   },
   {
    "duration": 73,
    "start_time": "2022-05-12T04:52:34.804Z"
   },
   {
    "duration": 16,
    "start_time": "2022-05-12T04:52:34.878Z"
   },
   {
    "duration": 16,
    "start_time": "2022-05-12T04:52:34.895Z"
   },
   {
    "duration": 3,
    "start_time": "2022-05-12T04:52:34.912Z"
   },
   {
    "duration": 10,
    "start_time": "2022-05-12T04:52:34.917Z"
   },
   {
    "duration": 14,
    "start_time": "2022-05-12T04:52:34.928Z"
   },
   {
    "duration": 11,
    "start_time": "2022-05-12T04:52:34.971Z"
   },
   {
    "duration": 9,
    "start_time": "2022-05-12T04:52:34.983Z"
   },
   {
    "duration": 11,
    "start_time": "2022-05-12T04:52:34.995Z"
   },
   {
    "duration": 199,
    "start_time": "2022-05-12T04:52:35.008Z"
   },
   {
    "duration": 113,
    "start_time": "2022-05-12T04:52:35.209Z"
   },
   {
    "duration": 578,
    "start_time": "2022-05-12T04:54:29.821Z"
   },
   {
    "duration": 363,
    "start_time": "2022-05-12T04:54:30.400Z"
   },
   {
    "duration": 13,
    "start_time": "2022-05-12T04:54:30.765Z"
   },
   {
    "duration": 6,
    "start_time": "2022-05-12T04:54:30.780Z"
   },
   {
    "duration": 17,
    "start_time": "2022-05-12T04:54:30.787Z"
   },
   {
    "duration": 17,
    "start_time": "2022-05-12T04:54:30.806Z"
   },
   {
    "duration": 12,
    "start_time": "2022-05-12T04:54:30.824Z"
   },
   {
    "duration": 14,
    "start_time": "2022-05-12T04:54:30.837Z"
   },
   {
    "duration": 16,
    "start_time": "2022-05-12T04:54:30.852Z"
   },
   {
    "duration": 17,
    "start_time": "2022-05-12T04:54:30.870Z"
   },
   {
    "duration": 23,
    "start_time": "2022-05-12T04:54:30.889Z"
   },
   {
    "duration": 17,
    "start_time": "2022-05-12T04:54:30.914Z"
   },
   {
    "duration": 29,
    "start_time": "2022-05-12T04:54:30.933Z"
   },
   {
    "duration": 14,
    "start_time": "2022-05-12T04:54:30.964Z"
   },
   {
    "duration": 15,
    "start_time": "2022-05-12T04:54:30.979Z"
   },
   {
    "duration": 21,
    "start_time": "2022-05-12T04:54:30.996Z"
   },
   {
    "duration": 25,
    "start_time": "2022-05-12T04:54:31.019Z"
   },
   {
    "duration": 227,
    "start_time": "2022-05-12T04:54:31.046Z"
   },
   {
    "duration": 3,
    "start_time": "2022-05-12T04:54:31.274Z"
   },
   {
    "duration": 10,
    "start_time": "2022-05-12T04:54:31.278Z"
   },
   {
    "duration": 28,
    "start_time": "2022-05-12T04:54:31.290Z"
   },
   {
    "duration": 12,
    "start_time": "2022-05-12T04:54:31.320Z"
   },
   {
    "duration": 39,
    "start_time": "2022-05-12T04:54:31.333Z"
   },
   {
    "duration": 34,
    "start_time": "2022-05-12T04:54:31.373Z"
   },
   {
    "duration": 189,
    "start_time": "2022-05-12T04:54:31.408Z"
   },
   {
    "duration": 5,
    "start_time": "2022-05-12T04:54:31.599Z"
   },
   {
    "duration": 18,
    "start_time": "2022-05-12T04:54:31.605Z"
   },
   {
    "duration": 145,
    "start_time": "2022-05-12T04:54:31.626Z"
   },
   {
    "duration": 32,
    "start_time": "2022-05-12T04:54:31.772Z"
   },
   {
    "duration": 21,
    "start_time": "2022-05-12T04:54:31.805Z"
   },
   {
    "duration": 19,
    "start_time": "2022-05-12T04:54:31.827Z"
   },
   {
    "duration": 437,
    "start_time": "2022-05-12T04:54:31.871Z"
   },
   {
    "duration": 76,
    "start_time": "2022-05-12T04:54:32.309Z"
   },
   {
    "duration": 111,
    "start_time": "2022-05-12T04:54:32.387Z"
   },
   {
    "duration": 0,
    "start_time": "2022-05-12T04:54:32.500Z"
   },
   {
    "duration": 0,
    "start_time": "2022-05-12T04:54:32.501Z"
   },
   {
    "duration": 0,
    "start_time": "2022-05-12T04:54:32.501Z"
   },
   {
    "duration": 0,
    "start_time": "2022-05-12T04:54:32.502Z"
   },
   {
    "duration": 0,
    "start_time": "2022-05-12T04:54:32.503Z"
   },
   {
    "duration": 0,
    "start_time": "2022-05-12T04:54:32.504Z"
   },
   {
    "duration": 0,
    "start_time": "2022-05-12T04:54:32.504Z"
   },
   {
    "duration": 0,
    "start_time": "2022-05-12T04:54:32.505Z"
   },
   {
    "duration": 0,
    "start_time": "2022-05-12T04:54:32.506Z"
   },
   {
    "duration": 41,
    "start_time": "2022-05-12T04:54:45.087Z"
   },
   {
    "duration": 15,
    "start_time": "2022-05-12T04:54:52.358Z"
   },
   {
    "duration": 605,
    "start_time": "2022-05-12T04:57:51.490Z"
   },
   {
    "duration": 359,
    "start_time": "2022-05-12T04:57:52.097Z"
   },
   {
    "duration": 14,
    "start_time": "2022-05-12T04:57:52.458Z"
   },
   {
    "duration": 6,
    "start_time": "2022-05-12T04:57:52.474Z"
   },
   {
    "duration": 11,
    "start_time": "2022-05-12T04:57:52.481Z"
   },
   {
    "duration": 5,
    "start_time": "2022-05-12T04:57:52.493Z"
   },
   {
    "duration": 5,
    "start_time": "2022-05-12T04:57:52.499Z"
   },
   {
    "duration": 12,
    "start_time": "2022-05-12T04:57:52.505Z"
   },
   {
    "duration": 8,
    "start_time": "2022-05-12T04:57:52.519Z"
   },
   {
    "duration": 41,
    "start_time": "2022-05-12T04:57:52.530Z"
   },
   {
    "duration": 18,
    "start_time": "2022-05-12T04:57:52.573Z"
   },
   {
    "duration": 10,
    "start_time": "2022-05-12T04:57:52.592Z"
   },
   {
    "duration": 20,
    "start_time": "2022-05-12T04:57:52.603Z"
   },
   {
    "duration": 14,
    "start_time": "2022-05-12T04:57:52.624Z"
   },
   {
    "duration": 42,
    "start_time": "2022-05-12T04:57:52.639Z"
   },
   {
    "duration": 21,
    "start_time": "2022-05-12T04:57:52.682Z"
   },
   {
    "duration": 25,
    "start_time": "2022-05-12T04:57:52.705Z"
   },
   {
    "duration": 213,
    "start_time": "2022-05-12T04:57:52.731Z"
   },
   {
    "duration": 2,
    "start_time": "2022-05-12T04:57:52.946Z"
   },
   {
    "duration": 11,
    "start_time": "2022-05-12T04:57:52.949Z"
   },
   {
    "duration": 27,
    "start_time": "2022-05-12T04:57:52.961Z"
   },
   {
    "duration": 12,
    "start_time": "2022-05-12T04:57:52.989Z"
   },
   {
    "duration": 24,
    "start_time": "2022-05-12T04:57:53.002Z"
   },
   {
    "duration": 53,
    "start_time": "2022-05-12T04:57:53.028Z"
   },
   {
    "duration": 191,
    "start_time": "2022-05-12T04:57:53.083Z"
   },
   {
    "duration": 5,
    "start_time": "2022-05-12T04:57:53.276Z"
   },
   {
    "duration": 21,
    "start_time": "2022-05-12T04:57:53.282Z"
   },
   {
    "duration": 146,
    "start_time": "2022-05-12T04:57:53.306Z"
   },
   {
    "duration": 35,
    "start_time": "2022-05-12T04:57:53.454Z"
   },
   {
    "duration": 20,
    "start_time": "2022-05-12T04:57:53.491Z"
   },
   {
    "duration": 17,
    "start_time": "2022-05-12T04:57:53.513Z"
   },
   {
    "duration": 478,
    "start_time": "2022-05-12T04:57:53.531Z"
   },
   {
    "duration": 71,
    "start_time": "2022-05-12T04:57:54.011Z"
   },
   {
    "duration": 14,
    "start_time": "2022-05-12T04:57:54.084Z"
   },
   {
    "duration": 14,
    "start_time": "2022-05-12T04:57:54.099Z"
   },
   {
    "duration": 4,
    "start_time": "2022-05-12T04:57:54.115Z"
   },
   {
    "duration": 7,
    "start_time": "2022-05-12T04:57:54.120Z"
   },
   {
    "duration": 19,
    "start_time": "2022-05-12T04:57:54.128Z"
   },
   {
    "duration": 31,
    "start_time": "2022-05-12T04:57:54.149Z"
   },
   {
    "duration": 8,
    "start_time": "2022-05-12T04:57:54.182Z"
   },
   {
    "duration": 9,
    "start_time": "2022-05-12T04:57:54.192Z"
   },
   {
    "duration": 1568,
    "start_time": "2022-05-12T04:57:54.202Z"
   },
   {
    "duration": 0,
    "start_time": "2022-05-12T04:57:55.772Z"
   },
   {
    "duration": 621,
    "start_time": "2022-05-12T05:01:49.347Z"
   },
   {
    "duration": 393,
    "start_time": "2022-05-12T05:01:49.970Z"
   },
   {
    "duration": 22,
    "start_time": "2022-05-12T05:01:50.365Z"
   },
   {
    "duration": 7,
    "start_time": "2022-05-12T05:01:50.389Z"
   },
   {
    "duration": 10,
    "start_time": "2022-05-12T05:01:50.397Z"
   },
   {
    "duration": 5,
    "start_time": "2022-05-12T05:01:50.409Z"
   },
   {
    "duration": 5,
    "start_time": "2022-05-12T05:01:50.415Z"
   },
   {
    "duration": 12,
    "start_time": "2022-05-12T05:01:50.421Z"
   },
   {
    "duration": 7,
    "start_time": "2022-05-12T05:01:50.435Z"
   },
   {
    "duration": 14,
    "start_time": "2022-05-12T05:01:50.478Z"
   },
   {
    "duration": 19,
    "start_time": "2022-05-12T05:01:50.494Z"
   },
   {
    "duration": 10,
    "start_time": "2022-05-12T05:01:50.514Z"
   },
   {
    "duration": 20,
    "start_time": "2022-05-12T05:01:50.526Z"
   },
   {
    "duration": 41,
    "start_time": "2022-05-12T05:01:50.547Z"
   },
   {
    "duration": 11,
    "start_time": "2022-05-12T05:01:50.590Z"
   },
   {
    "duration": 20,
    "start_time": "2022-05-12T05:01:50.603Z"
   },
   {
    "duration": 56,
    "start_time": "2022-05-12T05:01:50.624Z"
   },
   {
    "duration": 242,
    "start_time": "2022-05-12T05:01:50.684Z"
   },
   {
    "duration": 2,
    "start_time": "2022-05-12T05:01:50.928Z"
   },
   {
    "duration": 7,
    "start_time": "2022-05-12T05:01:50.932Z"
   },
   {
    "duration": 20,
    "start_time": "2022-05-12T05:01:50.941Z"
   },
   {
    "duration": 17,
    "start_time": "2022-05-12T05:01:50.976Z"
   },
   {
    "duration": 27,
    "start_time": "2022-05-12T05:01:50.994Z"
   },
   {
    "duration": 58,
    "start_time": "2022-05-12T05:01:51.022Z"
   },
   {
    "duration": 196,
    "start_time": "2022-05-12T05:01:51.083Z"
   },
   {
    "duration": 7,
    "start_time": "2022-05-12T05:01:51.282Z"
   },
   {
    "duration": 22,
    "start_time": "2022-05-12T05:01:51.291Z"
   },
   {
    "duration": 167,
    "start_time": "2022-05-12T05:01:51.316Z"
   },
   {
    "duration": 33,
    "start_time": "2022-05-12T05:01:51.485Z"
   },
   {
    "duration": 21,
    "start_time": "2022-05-12T05:01:51.519Z"
   },
   {
    "duration": 46,
    "start_time": "2022-05-12T05:01:51.541Z"
   },
   {
    "duration": 436,
    "start_time": "2022-05-12T05:01:51.589Z"
   },
   {
    "duration": 84,
    "start_time": "2022-05-12T05:01:52.027Z"
   },
   {
    "duration": 16,
    "start_time": "2022-05-12T05:01:52.113Z"
   },
   {
    "duration": 16,
    "start_time": "2022-05-12T05:01:52.130Z"
   },
   {
    "duration": 3,
    "start_time": "2022-05-12T05:01:52.147Z"
   },
   {
    "duration": 24,
    "start_time": "2022-05-12T05:01:52.170Z"
   },
   {
    "duration": 11,
    "start_time": "2022-05-12T05:01:52.196Z"
   },
   {
    "duration": 8,
    "start_time": "2022-05-12T05:01:52.209Z"
   },
   {
    "duration": 12,
    "start_time": "2022-05-12T05:01:52.219Z"
   },
   {
    "duration": 85,
    "start_time": "2022-05-12T05:01:52.233Z"
   },
   {
    "duration": 0,
    "start_time": "2022-05-12T05:01:52.321Z"
   },
   {
    "duration": 0,
    "start_time": "2022-05-12T05:01:52.322Z"
   },
   {
    "duration": 0,
    "start_time": "2022-05-12T05:01:52.323Z"
   },
   {
    "duration": 6,
    "start_time": "2022-05-12T05:02:04.885Z"
   },
   {
    "duration": 192,
    "start_time": "2022-05-12T05:02:07.962Z"
   },
   {
    "duration": 665,
    "start_time": "2022-05-12T05:06:29.358Z"
   },
   {
    "duration": 481,
    "start_time": "2022-05-12T05:06:30.025Z"
   },
   {
    "duration": 14,
    "start_time": "2022-05-12T05:06:30.508Z"
   },
   {
    "duration": 7,
    "start_time": "2022-05-12T05:06:31.206Z"
   },
   {
    "duration": 11,
    "start_time": "2022-05-12T05:06:31.619Z"
   },
   {
    "duration": 4,
    "start_time": "2022-05-12T05:06:32.226Z"
   },
   {
    "duration": 4,
    "start_time": "2022-05-12T05:06:32.454Z"
   },
   {
    "duration": 11,
    "start_time": "2022-05-12T05:06:32.860Z"
   },
   {
    "duration": 8,
    "start_time": "2022-05-12T05:06:33.269Z"
   },
   {
    "duration": 10,
    "start_time": "2022-05-12T05:06:33.699Z"
   },
   {
    "duration": 19,
    "start_time": "2022-05-12T05:06:34.564Z"
   },
   {
    "duration": 10,
    "start_time": "2022-05-12T05:06:34.776Z"
   },
   {
    "duration": 22,
    "start_time": "2022-05-12T05:06:35.407Z"
   },
   {
    "duration": 15,
    "start_time": "2022-05-12T05:06:35.624Z"
   },
   {
    "duration": 12,
    "start_time": "2022-05-12T05:06:36.262Z"
   },
   {
    "duration": 21,
    "start_time": "2022-05-12T05:06:36.670Z"
   },
   {
    "duration": 26,
    "start_time": "2022-05-12T05:06:37.070Z"
   },
   {
    "duration": 197,
    "start_time": "2022-05-12T05:06:37.488Z"
   },
   {
    "duration": 2,
    "start_time": "2022-05-12T05:06:37.894Z"
   },
   {
    "duration": 6,
    "start_time": "2022-05-12T05:06:38.111Z"
   },
   {
    "duration": 22,
    "start_time": "2022-05-12T05:06:38.552Z"
   },
   {
    "duration": 12,
    "start_time": "2022-05-12T05:06:39.418Z"
   },
   {
    "duration": 26,
    "start_time": "2022-05-12T05:06:39.846Z"
   },
   {
    "duration": 36,
    "start_time": "2022-05-12T05:06:40.280Z"
   },
   {
    "duration": 184,
    "start_time": "2022-05-12T05:06:40.523Z"
   },
   {
    "duration": 7,
    "start_time": "2022-05-12T05:06:40.992Z"
   },
   {
    "duration": 26,
    "start_time": "2022-05-12T05:06:41.417Z"
   },
   {
    "duration": 150,
    "start_time": "2022-05-12T05:06:42.325Z"
   },
   {
    "duration": 35,
    "start_time": "2022-05-12T05:06:42.768Z"
   },
   {
    "duration": 22,
    "start_time": "2022-05-12T05:06:42.996Z"
   },
   {
    "duration": 19,
    "start_time": "2022-05-12T05:06:43.236Z"
   },
   {
    "duration": 412,
    "start_time": "2022-05-12T05:06:44.507Z"
   },
   {
    "duration": 73,
    "start_time": "2022-05-12T05:06:45.713Z"
   },
   {
    "duration": 30,
    "start_time": "2022-05-12T05:06:47.224Z"
   },
   {
    "duration": 14,
    "start_time": "2022-05-12T05:06:53.118Z"
   },
   {
    "duration": 4,
    "start_time": "2022-05-12T05:06:58.862Z"
   },
   {
    "duration": 15,
    "start_time": "2022-05-12T05:06:59.228Z"
   },
   {
    "duration": 11,
    "start_time": "2022-05-12T05:07:03.052Z"
   },
   {
    "duration": 8,
    "start_time": "2022-05-12T05:07:03.963Z"
   },
   {
    "duration": 11,
    "start_time": "2022-05-12T05:07:05.195Z"
   },
   {
    "duration": 8,
    "start_time": "2022-05-12T05:07:07.463Z"
   },
   {
    "duration": 177,
    "start_time": "2022-05-12T05:07:10.411Z"
   },
   {
    "duration": 223,
    "start_time": "2022-05-12T05:07:22.911Z"
   },
   {
    "duration": 880,
    "start_time": "2022-05-12T05:08:14.584Z"
   },
   {
    "duration": 575,
    "start_time": "2022-05-12T05:08:15.466Z"
   },
   {
    "duration": 21,
    "start_time": "2022-05-12T05:08:16.047Z"
   },
   {
    "duration": 7,
    "start_time": "2022-05-12T05:08:16.071Z"
   },
   {
    "duration": 15,
    "start_time": "2022-05-12T05:08:16.080Z"
   },
   {
    "duration": 6,
    "start_time": "2022-05-12T05:08:16.097Z"
   },
   {
    "duration": 4,
    "start_time": "2022-05-12T05:08:16.105Z"
   },
   {
    "duration": 16,
    "start_time": "2022-05-12T05:08:16.111Z"
   },
   {
    "duration": 42,
    "start_time": "2022-05-12T05:08:16.130Z"
   },
   {
    "duration": 15,
    "start_time": "2022-05-12T05:08:16.174Z"
   },
   {
    "duration": 30,
    "start_time": "2022-05-12T05:08:16.191Z"
   },
   {
    "duration": 15,
    "start_time": "2022-05-12T05:08:16.222Z"
   },
   {
    "duration": 58,
    "start_time": "2022-05-12T05:08:16.240Z"
   },
   {
    "duration": 22,
    "start_time": "2022-05-12T05:08:16.301Z"
   },
   {
    "duration": 19,
    "start_time": "2022-05-12T05:08:16.325Z"
   },
   {
    "duration": 56,
    "start_time": "2022-05-12T05:08:16.346Z"
   },
   {
    "duration": 44,
    "start_time": "2022-05-12T05:08:16.403Z"
   },
   {
    "duration": 356,
    "start_time": "2022-05-12T05:08:16.450Z"
   },
   {
    "duration": 3,
    "start_time": "2022-05-12T05:08:16.808Z"
   },
   {
    "duration": 9,
    "start_time": "2022-05-12T05:08:16.813Z"
   },
   {
    "duration": 47,
    "start_time": "2022-05-12T05:08:16.825Z"
   },
   {
    "duration": 19,
    "start_time": "2022-05-12T05:08:16.874Z"
   },
   {
    "duration": 45,
    "start_time": "2022-05-12T05:08:16.895Z"
   },
   {
    "duration": 81,
    "start_time": "2022-05-12T05:08:16.943Z"
   },
   {
    "duration": 318,
    "start_time": "2022-05-12T05:08:17.026Z"
   },
   {
    "duration": 7,
    "start_time": "2022-05-12T05:08:17.346Z"
   },
   {
    "duration": 30,
    "start_time": "2022-05-12T05:08:17.358Z"
   },
   {
    "duration": 142,
    "start_time": "2022-05-12T05:08:17.390Z"
   },
   {
    "duration": 45,
    "start_time": "2022-05-12T05:08:17.534Z"
   },
   {
    "duration": 21,
    "start_time": "2022-05-12T05:08:17.581Z"
   },
   {
    "duration": 18,
    "start_time": "2022-05-12T05:08:17.603Z"
   },
   {
    "duration": 495,
    "start_time": "2022-05-12T05:08:17.623Z"
   },
   {
    "duration": 76,
    "start_time": "2022-05-12T05:08:18.119Z"
   },
   {
    "duration": 29,
    "start_time": "2022-05-12T05:08:18.197Z"
   },
   {
    "duration": 14,
    "start_time": "2022-05-12T05:08:18.228Z"
   },
   {
    "duration": 4,
    "start_time": "2022-05-12T05:08:18.244Z"
   },
   {
    "duration": 40,
    "start_time": "2022-05-12T05:08:18.249Z"
   },
   {
    "duration": 8,
    "start_time": "2022-05-12T05:08:18.291Z"
   },
   {
    "duration": 15,
    "start_time": "2022-05-12T05:08:18.301Z"
   },
   {
    "duration": 10,
    "start_time": "2022-05-12T05:08:18.318Z"
   },
   {
    "duration": 42,
    "start_time": "2022-05-12T05:08:18.330Z"
   },
   {
    "duration": 12,
    "start_time": "2022-05-12T05:08:18.374Z"
   },
   {
    "duration": 6,
    "start_time": "2022-05-12T05:08:18.388Z"
   },
   {
    "duration": 1291,
    "start_time": "2022-05-12T05:08:18.396Z"
   },
   {
    "duration": 0,
    "start_time": "2022-05-12T05:08:19.689Z"
   },
   {
    "duration": 637,
    "start_time": "2022-05-12T05:09:58.521Z"
   },
   {
    "duration": 371,
    "start_time": "2022-05-12T05:09:59.160Z"
   },
   {
    "duration": 15,
    "start_time": "2022-05-12T05:09:59.533Z"
   },
   {
    "duration": 6,
    "start_time": "2022-05-12T05:09:59.550Z"
   },
   {
    "duration": 15,
    "start_time": "2022-05-12T05:09:59.558Z"
   },
   {
    "duration": 5,
    "start_time": "2022-05-12T05:09:59.575Z"
   },
   {
    "duration": 5,
    "start_time": "2022-05-12T05:09:59.582Z"
   },
   {
    "duration": 14,
    "start_time": "2022-05-12T05:09:59.588Z"
   },
   {
    "duration": 10,
    "start_time": "2022-05-12T05:09:59.603Z"
   },
   {
    "duration": 18,
    "start_time": "2022-05-12T05:09:59.615Z"
   },
   {
    "duration": 51,
    "start_time": "2022-05-12T05:09:59.634Z"
   },
   {
    "duration": 10,
    "start_time": "2022-05-12T05:09:59.687Z"
   },
   {
    "duration": 21,
    "start_time": "2022-05-12T05:09:59.698Z"
   },
   {
    "duration": 14,
    "start_time": "2022-05-12T05:09:59.720Z"
   },
   {
    "duration": 41,
    "start_time": "2022-05-12T05:09:59.736Z"
   },
   {
    "duration": 22,
    "start_time": "2022-05-12T05:09:59.779Z"
   },
   {
    "duration": 27,
    "start_time": "2022-05-12T05:09:59.803Z"
   },
   {
    "duration": 231,
    "start_time": "2022-05-12T05:09:59.831Z"
   },
   {
    "duration": 7,
    "start_time": "2022-05-12T05:10:00.064Z"
   },
   {
    "duration": 11,
    "start_time": "2022-05-12T05:10:00.073Z"
   },
   {
    "duration": 23,
    "start_time": "2022-05-12T05:10:00.086Z"
   },
   {
    "duration": 12,
    "start_time": "2022-05-12T05:10:00.111Z"
   },
   {
    "duration": 48,
    "start_time": "2022-05-12T05:10:00.125Z"
   },
   {
    "duration": 34,
    "start_time": "2022-05-12T05:10:00.175Z"
   },
   {
    "duration": 193,
    "start_time": "2022-05-12T05:10:00.210Z"
   },
   {
    "duration": 5,
    "start_time": "2022-05-12T05:10:00.404Z"
   },
   {
    "duration": 35,
    "start_time": "2022-05-12T05:10:00.411Z"
   },
   {
    "duration": 145,
    "start_time": "2022-05-12T05:10:00.450Z"
   },
   {
    "duration": 33,
    "start_time": "2022-05-12T05:10:00.596Z"
   },
   {
    "duration": 25,
    "start_time": "2022-05-12T05:10:00.630Z"
   },
   {
    "duration": 30,
    "start_time": "2022-05-12T05:10:00.670Z"
   },
   {
    "duration": 616,
    "start_time": "2022-05-12T05:10:00.702Z"
   },
   {
    "duration": 126,
    "start_time": "2022-05-12T05:10:01.320Z"
   },
   {
    "duration": 51,
    "start_time": "2022-05-12T05:10:01.448Z"
   },
   {
    "duration": 22,
    "start_time": "2022-05-12T05:10:01.501Z"
   },
   {
    "duration": 15,
    "start_time": "2022-05-12T05:10:01.524Z"
   },
   {
    "duration": 21,
    "start_time": "2022-05-12T05:10:01.541Z"
   },
   {
    "duration": 95,
    "start_time": "2022-05-12T05:10:01.570Z"
   },
   {
    "duration": 0,
    "start_time": "2022-05-12T05:10:01.667Z"
   },
   {
    "duration": 0,
    "start_time": "2022-05-12T05:10:01.668Z"
   },
   {
    "duration": 0,
    "start_time": "2022-05-12T05:10:01.669Z"
   },
   {
    "duration": 0,
    "start_time": "2022-05-12T05:10:01.670Z"
   },
   {
    "duration": 0,
    "start_time": "2022-05-12T05:10:01.671Z"
   },
   {
    "duration": 0,
    "start_time": "2022-05-12T05:10:01.673Z"
   },
   {
    "duration": 0,
    "start_time": "2022-05-12T05:10:01.674Z"
   },
   {
    "duration": 11,
    "start_time": "2022-05-12T05:10:20.165Z"
   },
   {
    "duration": 25,
    "start_time": "2022-05-12T05:10:20.592Z"
   },
   {
    "duration": 18,
    "start_time": "2022-05-12T05:10:22.139Z"
   },
   {
    "duration": 17,
    "start_time": "2022-05-12T05:10:23.339Z"
   },
   {
    "duration": 18,
    "start_time": "2022-05-12T05:10:25.035Z"
   },
   {
    "duration": 342,
    "start_time": "2022-05-12T05:10:26.183Z"
   },
   {
    "duration": 222,
    "start_time": "2022-05-12T05:10:33.578Z"
   },
   {
    "duration": 99,
    "start_time": "2022-05-12T05:26:54.415Z"
   },
   {
    "duration": 245,
    "start_time": "2022-05-12T05:27:13.014Z"
   },
   {
    "duration": 697,
    "start_time": "2022-05-12T05:27:48.478Z"
   },
   {
    "duration": 489,
    "start_time": "2022-05-12T05:28:04.111Z"
   },
   {
    "duration": 423,
    "start_time": "2022-05-12T05:28:08.809Z"
   },
   {
    "duration": 443,
    "start_time": "2022-05-12T05:28:13.321Z"
   },
   {
    "duration": 429,
    "start_time": "2022-05-12T05:28:27.489Z"
   },
   {
    "duration": 424,
    "start_time": "2022-05-12T05:28:33.074Z"
   },
   {
    "duration": 513,
    "start_time": "2022-05-12T05:28:41.161Z"
   },
   {
    "duration": 477,
    "start_time": "2022-05-12T05:29:00.801Z"
   },
   {
    "duration": 422,
    "start_time": "2022-05-12T05:29:23.433Z"
   },
   {
    "duration": 434,
    "start_time": "2022-05-12T05:29:28.813Z"
   },
   {
    "duration": 430,
    "start_time": "2022-05-12T05:29:38.886Z"
   },
   {
    "duration": 425,
    "start_time": "2022-05-12T05:29:54.669Z"
   },
   {
    "duration": 519,
    "start_time": "2022-05-12T05:30:03.591Z"
   },
   {
    "duration": 441,
    "start_time": "2022-05-12T05:30:14.530Z"
   },
   {
    "duration": 432,
    "start_time": "2022-05-12T05:30:30.969Z"
   },
   {
    "duration": 416,
    "start_time": "2022-05-12T05:30:41.933Z"
   },
   {
    "duration": 433,
    "start_time": "2022-05-12T05:30:49.249Z"
   },
   {
    "duration": 505,
    "start_time": "2022-05-12T05:30:58.900Z"
   },
   {
    "duration": 431,
    "start_time": "2022-05-12T05:31:20.629Z"
   },
   {
    "duration": 426,
    "start_time": "2022-05-12T05:31:42.780Z"
   },
   {
    "duration": 416,
    "start_time": "2022-05-12T05:33:51.090Z"
   },
   {
    "duration": 421,
    "start_time": "2022-05-12T05:33:57.415Z"
   },
   {
    "duration": 692,
    "start_time": "2022-05-12T05:34:10.099Z"
   },
   {
    "duration": 21,
    "start_time": "2022-05-12T05:52:36.639Z"
   },
   {
    "duration": 13,
    "start_time": "2022-05-12T05:52:37.342Z"
   },
   {
    "duration": 29,
    "start_time": "2022-05-12T05:57:56.172Z"
   },
   {
    "duration": 19,
    "start_time": "2022-05-12T05:57:56.910Z"
   },
   {
    "duration": 23,
    "start_time": "2022-05-12T05:58:10.451Z"
   },
   {
    "duration": 13,
    "start_time": "2022-05-12T05:58:11.058Z"
   },
   {
    "duration": 653,
    "start_time": "2022-05-12T05:58:18.110Z"
   },
   {
    "duration": 414,
    "start_time": "2022-05-12T05:58:18.765Z"
   },
   {
    "duration": 18,
    "start_time": "2022-05-12T05:58:19.181Z"
   },
   {
    "duration": 7,
    "start_time": "2022-05-12T05:58:19.201Z"
   },
   {
    "duration": 10,
    "start_time": "2022-05-12T05:58:19.211Z"
   },
   {
    "duration": 7,
    "start_time": "2022-05-12T05:58:19.223Z"
   },
   {
    "duration": 10,
    "start_time": "2022-05-12T05:58:19.232Z"
   },
   {
    "duration": 37,
    "start_time": "2022-05-12T05:58:19.244Z"
   },
   {
    "duration": 12,
    "start_time": "2022-05-12T05:58:19.286Z"
   },
   {
    "duration": 12,
    "start_time": "2022-05-12T05:58:19.300Z"
   },
   {
    "duration": 20,
    "start_time": "2022-05-12T05:58:19.313Z"
   },
   {
    "duration": 11,
    "start_time": "2022-05-12T05:58:19.335Z"
   },
   {
    "duration": 32,
    "start_time": "2022-05-12T05:58:19.371Z"
   },
   {
    "duration": 16,
    "start_time": "2022-05-12T05:58:19.406Z"
   },
   {
    "duration": 14,
    "start_time": "2022-05-12T05:58:19.424Z"
   },
   {
    "duration": 54,
    "start_time": "2022-05-12T05:58:19.440Z"
   },
   {
    "duration": 27,
    "start_time": "2022-05-12T05:58:19.496Z"
   },
   {
    "duration": 230,
    "start_time": "2022-05-12T05:58:19.525Z"
   },
   {
    "duration": 2,
    "start_time": "2022-05-12T05:58:19.757Z"
   },
   {
    "duration": 13,
    "start_time": "2022-05-12T05:58:19.761Z"
   },
   {
    "duration": 44,
    "start_time": "2022-05-12T05:58:19.776Z"
   },
   {
    "duration": 14,
    "start_time": "2022-05-12T05:58:19.821Z"
   },
   {
    "duration": 27,
    "start_time": "2022-05-12T05:58:19.837Z"
   },
   {
    "duration": 46,
    "start_time": "2022-05-12T05:58:19.870Z"
   },
   {
    "duration": 209,
    "start_time": "2022-05-12T05:58:19.917Z"
   },
   {
    "duration": 5,
    "start_time": "2022-05-12T05:58:20.128Z"
   },
   {
    "duration": 40,
    "start_time": "2022-05-12T05:58:20.134Z"
   },
   {
    "duration": 157,
    "start_time": "2022-05-12T05:58:20.175Z"
   },
   {
    "duration": 46,
    "start_time": "2022-05-12T05:58:20.334Z"
   },
   {
    "duration": 22,
    "start_time": "2022-05-12T05:58:20.381Z"
   },
   {
    "duration": 19,
    "start_time": "2022-05-12T05:58:20.405Z"
   },
   {
    "duration": 111,
    "start_time": "2022-05-12T05:58:20.426Z"
   },
   {
    "duration": 94,
    "start_time": "2022-05-12T05:58:20.539Z"
   },
   {
    "duration": 15,
    "start_time": "2022-05-12T05:58:20.635Z"
   },
   {
    "duration": 27,
    "start_time": "2022-05-12T05:58:20.651Z"
   },
   {
    "duration": 27,
    "start_time": "2022-05-12T05:58:20.679Z"
   },
   {
    "duration": 8,
    "start_time": "2022-05-12T05:58:20.708Z"
   },
   {
    "duration": 18,
    "start_time": "2022-05-12T05:58:20.718Z"
   },
   {
    "duration": 13,
    "start_time": "2022-05-12T05:58:20.738Z"
   },
   {
    "duration": 29,
    "start_time": "2022-05-12T05:58:20.753Z"
   },
   {
    "duration": 14,
    "start_time": "2022-05-12T05:58:20.787Z"
   },
   {
    "duration": 370,
    "start_time": "2022-05-12T05:58:20.804Z"
   },
   {
    "duration": 124,
    "start_time": "2022-05-12T05:58:21.175Z"
   },
   {
    "duration": 21,
    "start_time": "2022-05-12T05:58:21.301Z"
   },
   {
    "duration": 14,
    "start_time": "2022-05-12T05:58:21.324Z"
   },
   {
    "duration": 503,
    "start_time": "2022-05-12T05:58:21.340Z"
   },
   {
    "duration": 405,
    "start_time": "2022-05-12T06:02:30.212Z"
   },
   {
    "duration": 96,
    "start_time": "2022-05-12T06:02:31.361Z"
   },
   {
    "duration": 13,
    "start_time": "2022-05-12T06:02:44.204Z"
   },
   {
    "duration": 11,
    "start_time": "2022-05-12T06:08:42.180Z"
   },
   {
    "duration": 12,
    "start_time": "2022-05-12T06:08:53.544Z"
   },
   {
    "duration": 29,
    "start_time": "2022-05-12T06:09:05.392Z"
   },
   {
    "duration": 12,
    "start_time": "2022-05-12T06:09:07.432Z"
   },
   {
    "duration": 14,
    "start_time": "2022-05-12T06:09:23.376Z"
   },
   {
    "duration": 12,
    "start_time": "2022-05-12T06:09:43.227Z"
   },
   {
    "duration": 26,
    "start_time": "2022-05-12T06:12:13.300Z"
   },
   {
    "duration": 12,
    "start_time": "2022-05-12T06:13:04.734Z"
   },
   {
    "duration": 19,
    "start_time": "2022-05-12T06:13:39.060Z"
   },
   {
    "duration": 1909,
    "start_time": "2022-05-12T06:14:00.080Z"
   },
   {
    "duration": 24,
    "start_time": "2022-05-12T06:15:05.275Z"
   },
   {
    "duration": 98,
    "start_time": "2022-05-12T09:19:05.325Z"
   },
   {
    "duration": 1582,
    "start_time": "2022-05-12T09:19:11.661Z"
   },
   {
    "duration": 4,
    "start_time": "2022-05-12T09:21:28.200Z"
   },
   {
    "duration": 14,
    "start_time": "2022-05-12T09:21:28.923Z"
   },
   {
    "duration": 30,
    "start_time": "2022-05-12T09:21:38.773Z"
   },
   {
    "duration": 32,
    "start_time": "2022-05-12T09:21:52.483Z"
   },
   {
    "duration": 16,
    "start_time": "2022-05-12T09:22:00.892Z"
   },
   {
    "duration": 13,
    "start_time": "2022-05-12T09:22:18.695Z"
   },
   {
    "duration": 1000,
    "start_time": "2022-05-12T09:22:29.849Z"
   },
   {
    "duration": 1097,
    "start_time": "2022-05-12T09:25:12.509Z"
   },
   {
    "duration": 13,
    "start_time": "2022-05-12T09:25:44.626Z"
   },
   {
    "duration": 14,
    "start_time": "2022-05-12T09:25:53.240Z"
   },
   {
    "duration": 1039,
    "start_time": "2022-05-12T09:25:56.809Z"
   },
   {
    "duration": 1195,
    "start_time": "2022-05-12T12:19:12.906Z"
   },
   {
    "duration": 1127,
    "start_time": "2022-05-12T12:19:41.990Z"
   },
   {
    "duration": 11,
    "start_time": "2022-05-12T12:21:55.479Z"
   },
   {
    "duration": 1214,
    "start_time": "2022-05-12T12:22:11.675Z"
   },
   {
    "duration": 19,
    "start_time": "2022-05-12T12:25:08.267Z"
   },
   {
    "duration": 218,
    "start_time": "2022-05-12T12:25:20.062Z"
   },
   {
    "duration": 4,
    "start_time": "2022-05-12T12:25:34.252Z"
   },
   {
    "duration": 174,
    "start_time": "2022-05-12T12:25:40.057Z"
   },
   {
    "duration": 993,
    "start_time": "2022-05-12T12:25:47.374Z"
   },
   {
    "duration": 1160,
    "start_time": "2022-05-12T12:26:53.607Z"
   },
   {
    "duration": 1736,
    "start_time": "2022-05-12T12:27:04.299Z"
   },
   {
    "duration": 1133,
    "start_time": "2022-05-12T12:27:13.041Z"
   },
   {
    "duration": 250,
    "start_time": "2022-05-12T12:32:41.788Z"
   },
   {
    "duration": 122,
    "start_time": "2022-05-12T12:39:52.863Z"
   },
   {
    "duration": 76,
    "start_time": "2022-05-12T12:39:57.858Z"
   },
   {
    "duration": 91,
    "start_time": "2022-05-12T12:40:10.097Z"
   },
   {
    "duration": 11,
    "start_time": "2022-05-12T12:40:13.652Z"
   },
   {
    "duration": 11,
    "start_time": "2022-05-12T12:42:42.223Z"
   },
   {
    "duration": 12,
    "start_time": "2022-05-12T12:43:28.294Z"
   },
   {
    "duration": 1155,
    "start_time": "2022-05-12T12:43:42.193Z"
   },
   {
    "duration": 1112,
    "start_time": "2022-05-12T12:43:47.807Z"
   },
   {
    "duration": 9,
    "start_time": "2022-05-12T12:44:34.884Z"
   },
   {
    "duration": 1112,
    "start_time": "2022-05-12T12:44:46.293Z"
   },
   {
    "duration": 1513,
    "start_time": "2022-05-12T12:49:12.292Z"
   },
   {
    "duration": 1762,
    "start_time": "2022-05-12T12:56:17.210Z"
   },
   {
    "duration": 79,
    "start_time": "2022-05-12T13:02:03.909Z"
   },
   {
    "duration": 1721,
    "start_time": "2022-05-12T13:03:08.119Z"
   },
   {
    "duration": 1531,
    "start_time": "2022-05-12T13:03:19.481Z"
   },
   {
    "duration": 626,
    "start_time": "2022-05-12T13:20:56.803Z"
   },
   {
    "duration": 559,
    "start_time": "2022-05-12T13:20:57.431Z"
   },
   {
    "duration": 20,
    "start_time": "2022-05-12T13:20:57.992Z"
   },
   {
    "duration": 7,
    "start_time": "2022-05-12T13:20:58.014Z"
   },
   {
    "duration": 14,
    "start_time": "2022-05-12T13:20:58.023Z"
   },
   {
    "duration": 5,
    "start_time": "2022-05-12T13:20:58.039Z"
   },
   {
    "duration": 7,
    "start_time": "2022-05-12T13:20:58.046Z"
   },
   {
    "duration": 20,
    "start_time": "2022-05-12T13:20:58.055Z"
   },
   {
    "duration": 8,
    "start_time": "2022-05-12T13:20:58.077Z"
   },
   {
    "duration": 12,
    "start_time": "2022-05-12T13:20:58.088Z"
   },
   {
    "duration": 21,
    "start_time": "2022-05-12T13:20:58.102Z"
   },
   {
    "duration": 10,
    "start_time": "2022-05-12T13:20:58.125Z"
   },
   {
    "duration": 49,
    "start_time": "2022-05-12T13:20:58.137Z"
   },
   {
    "duration": 14,
    "start_time": "2022-05-12T13:20:58.188Z"
   },
   {
    "duration": 11,
    "start_time": "2022-05-12T13:20:58.204Z"
   },
   {
    "duration": 22,
    "start_time": "2022-05-12T13:20:58.217Z"
   },
   {
    "duration": 51,
    "start_time": "2022-05-12T13:20:58.241Z"
   },
   {
    "duration": 314,
    "start_time": "2022-05-12T13:20:58.293Z"
   },
   {
    "duration": 3,
    "start_time": "2022-05-12T13:20:58.608Z"
   },
   {
    "duration": 9,
    "start_time": "2022-05-12T13:20:58.612Z"
   },
   {
    "duration": 32,
    "start_time": "2022-05-12T13:20:58.623Z"
   },
   {
    "duration": 22,
    "start_time": "2022-05-12T13:20:58.656Z"
   },
   {
    "duration": 24,
    "start_time": "2022-05-12T13:20:58.679Z"
   },
   {
    "duration": 33,
    "start_time": "2022-05-12T13:20:58.705Z"
   },
   {
    "duration": 207,
    "start_time": "2022-05-12T13:20:58.740Z"
   },
   {
    "duration": 5,
    "start_time": "2022-05-12T13:20:58.949Z"
   },
   {
    "duration": 27,
    "start_time": "2022-05-12T13:20:58.956Z"
   },
   {
    "duration": 145,
    "start_time": "2022-05-12T13:20:58.987Z"
   },
   {
    "duration": 38,
    "start_time": "2022-05-12T13:20:59.134Z"
   },
   {
    "duration": 21,
    "start_time": "2022-05-12T13:20:59.174Z"
   },
   {
    "duration": 18,
    "start_time": "2022-05-12T13:20:59.196Z"
   },
   {
    "duration": 97,
    "start_time": "2022-05-12T13:20:59.215Z"
   },
   {
    "duration": 86,
    "start_time": "2022-05-12T13:20:59.314Z"
   },
   {
    "duration": 14,
    "start_time": "2022-05-12T13:20:59.401Z"
   },
   {
    "duration": 3,
    "start_time": "2022-05-12T13:20:59.416Z"
   },
   {
    "duration": 16,
    "start_time": "2022-05-12T13:20:59.421Z"
   },
   {
    "duration": 35,
    "start_time": "2022-05-12T13:20:59.439Z"
   },
   {
    "duration": 16,
    "start_time": "2022-05-12T13:20:59.476Z"
   },
   {
    "duration": 13,
    "start_time": "2022-05-12T13:20:59.494Z"
   },
   {
    "duration": 15,
    "start_time": "2022-05-12T13:20:59.509Z"
   },
   {
    "duration": 4,
    "start_time": "2022-05-12T13:20:59.526Z"
   },
   {
    "duration": 12,
    "start_time": "2022-05-12T13:20:59.532Z"
   },
   {
    "duration": 198,
    "start_time": "2022-05-12T13:20:59.572Z"
   },
   {
    "duration": 120,
    "start_time": "2022-05-12T13:20:59.772Z"
   },
   {
    "duration": 21,
    "start_time": "2022-05-12T13:20:59.894Z"
   },
   {
    "duration": 12,
    "start_time": "2022-05-12T13:20:59.917Z"
   },
   {
    "duration": 95,
    "start_time": "2022-05-12T13:20:59.931Z"
   },
   {
    "duration": 0,
    "start_time": "2022-05-12T13:21:00.028Z"
   },
   {
    "duration": 0,
    "start_time": "2022-05-12T13:21:00.030Z"
   },
   {
    "duration": 448,
    "start_time": "2022-05-12T13:22:06.658Z"
   },
   {
    "duration": 857,
    "start_time": "2022-05-12T13:22:07.975Z"
   },
   {
    "duration": 591,
    "start_time": "2022-05-12T13:22:14.720Z"
   },
   {
    "duration": 378,
    "start_time": "2022-05-12T13:22:15.313Z"
   },
   {
    "duration": 14,
    "start_time": "2022-05-12T13:22:15.693Z"
   },
   {
    "duration": 6,
    "start_time": "2022-05-12T13:22:15.708Z"
   },
   {
    "duration": 10,
    "start_time": "2022-05-12T13:22:15.716Z"
   },
   {
    "duration": 5,
    "start_time": "2022-05-12T13:22:15.728Z"
   },
   {
    "duration": 6,
    "start_time": "2022-05-12T13:22:15.735Z"
   },
   {
    "duration": 16,
    "start_time": "2022-05-12T13:22:15.742Z"
   },
   {
    "duration": 9,
    "start_time": "2022-05-12T13:22:15.770Z"
   },
   {
    "duration": 11,
    "start_time": "2022-05-12T13:22:15.780Z"
   },
   {
    "duration": 18,
    "start_time": "2022-05-12T13:22:15.793Z"
   },
   {
    "duration": 10,
    "start_time": "2022-05-12T13:22:15.813Z"
   },
   {
    "duration": 54,
    "start_time": "2022-05-12T13:22:15.824Z"
   },
   {
    "duration": 15,
    "start_time": "2022-05-12T13:22:15.881Z"
   },
   {
    "duration": 18,
    "start_time": "2022-05-12T13:22:15.897Z"
   },
   {
    "duration": 23,
    "start_time": "2022-05-12T13:22:15.916Z"
   },
   {
    "duration": 48,
    "start_time": "2022-05-12T13:22:15.941Z"
   },
   {
    "duration": 208,
    "start_time": "2022-05-12T13:22:15.990Z"
   },
   {
    "duration": 3,
    "start_time": "2022-05-12T13:22:16.199Z"
   },
   {
    "duration": 8,
    "start_time": "2022-05-12T13:22:16.203Z"
   },
   {
    "duration": 22,
    "start_time": "2022-05-12T13:22:16.213Z"
   },
   {
    "duration": 36,
    "start_time": "2022-05-12T13:22:16.236Z"
   },
   {
    "duration": 26,
    "start_time": "2022-05-12T13:22:16.274Z"
   },
   {
    "duration": 34,
    "start_time": "2022-05-12T13:22:16.302Z"
   },
   {
    "duration": 204,
    "start_time": "2022-05-12T13:22:16.338Z"
   },
   {
    "duration": 6,
    "start_time": "2022-05-12T13:22:16.543Z"
   },
   {
    "duration": 31,
    "start_time": "2022-05-12T13:22:16.551Z"
   },
   {
    "duration": 145,
    "start_time": "2022-05-12T13:22:16.584Z"
   },
   {
    "duration": 41,
    "start_time": "2022-05-12T13:22:16.731Z"
   },
   {
    "duration": 22,
    "start_time": "2022-05-12T13:22:16.773Z"
   },
   {
    "duration": 18,
    "start_time": "2022-05-12T13:22:16.796Z"
   },
   {
    "duration": 93,
    "start_time": "2022-05-12T13:22:16.816Z"
   },
   {
    "duration": 86,
    "start_time": "2022-05-12T13:22:16.911Z"
   },
   {
    "duration": 14,
    "start_time": "2022-05-12T13:22:16.998Z"
   },
   {
    "duration": 4,
    "start_time": "2022-05-12T13:22:17.013Z"
   },
   {
    "duration": 17,
    "start_time": "2022-05-12T13:22:17.018Z"
   },
   {
    "duration": 35,
    "start_time": "2022-05-12T13:22:17.036Z"
   },
   {
    "duration": 17,
    "start_time": "2022-05-12T13:22:17.073Z"
   },
   {
    "duration": 11,
    "start_time": "2022-05-12T13:22:17.091Z"
   },
   {
    "duration": 14,
    "start_time": "2022-05-12T13:22:17.104Z"
   },
   {
    "duration": 5,
    "start_time": "2022-05-12T13:22:17.123Z"
   },
   {
    "duration": 46,
    "start_time": "2022-05-12T13:22:17.130Z"
   },
   {
    "duration": 321,
    "start_time": "2022-05-12T13:22:17.178Z"
   },
   {
    "duration": 206,
    "start_time": "2022-05-12T13:22:17.501Z"
   },
   {
    "duration": 30,
    "start_time": "2022-05-12T13:22:17.708Z"
   },
   {
    "duration": 34,
    "start_time": "2022-05-12T13:22:17.740Z"
   },
   {
    "duration": 556,
    "start_time": "2022-05-12T13:22:17.776Z"
   },
   {
    "duration": 1237,
    "start_time": "2022-05-12T13:22:18.334Z"
   },
   {
    "duration": 1662,
    "start_time": "2022-05-12T13:22:19.573Z"
   },
   {
    "duration": 467,
    "start_time": "2022-05-12T13:22:21.237Z"
   },
   {
    "duration": 70,
    "start_time": "2022-05-13T06:32:41.489Z"
   },
   {
    "duration": 10,
    "start_time": "2022-05-13T06:33:45.200Z"
   },
   {
    "duration": 1063,
    "start_time": "2022-05-13T06:34:22.868Z"
   },
   {
    "duration": 468,
    "start_time": "2022-05-13T06:34:23.935Z"
   },
   {
    "duration": 24,
    "start_time": "2022-05-13T06:34:24.406Z"
   },
   {
    "duration": 13,
    "start_time": "2022-05-13T06:34:24.434Z"
   },
   {
    "duration": 19,
    "start_time": "2022-05-13T06:34:24.449Z"
   },
   {
    "duration": 12,
    "start_time": "2022-05-13T06:34:24.470Z"
   },
   {
    "duration": 13,
    "start_time": "2022-05-13T06:34:24.485Z"
   },
   {
    "duration": 22,
    "start_time": "2022-05-13T06:34:24.500Z"
   },
   {
    "duration": 34,
    "start_time": "2022-05-13T06:34:24.525Z"
   },
   {
    "duration": 16,
    "start_time": "2022-05-13T06:34:24.565Z"
   },
   {
    "duration": 29,
    "start_time": "2022-05-13T06:34:24.584Z"
   },
   {
    "duration": 38,
    "start_time": "2022-05-13T06:34:24.616Z"
   },
   {
    "duration": 30,
    "start_time": "2022-05-13T06:34:24.657Z"
   },
   {
    "duration": 21,
    "start_time": "2022-05-13T06:34:24.689Z"
   },
   {
    "duration": 46,
    "start_time": "2022-05-13T06:34:24.712Z"
   },
   {
    "duration": 29,
    "start_time": "2022-05-13T06:34:24.760Z"
   },
   {
    "duration": 66,
    "start_time": "2022-05-13T06:34:24.791Z"
   },
   {
    "duration": 345,
    "start_time": "2022-05-13T06:34:24.859Z"
   },
   {
    "duration": 3,
    "start_time": "2022-05-13T06:34:25.206Z"
   },
   {
    "duration": 11,
    "start_time": "2022-05-13T06:34:25.212Z"
   },
   {
    "duration": 47,
    "start_time": "2022-05-13T06:34:25.225Z"
   },
   {
    "duration": 17,
    "start_time": "2022-05-13T06:34:25.274Z"
   },
   {
    "duration": 32,
    "start_time": "2022-05-13T06:34:25.293Z"
   },
   {
    "duration": 70,
    "start_time": "2022-05-13T06:34:25.327Z"
   },
   {
    "duration": 345,
    "start_time": "2022-05-13T06:34:25.399Z"
   },
   {
    "duration": 7,
    "start_time": "2022-05-13T06:34:25.751Z"
   },
   {
    "duration": 27,
    "start_time": "2022-05-13T06:34:25.761Z"
   },
   {
    "duration": 225,
    "start_time": "2022-05-13T06:34:25.793Z"
   },
   {
    "duration": 51,
    "start_time": "2022-05-13T06:34:26.021Z"
   },
   {
    "duration": 27,
    "start_time": "2022-05-13T06:34:26.075Z"
   },
   {
    "duration": 23,
    "start_time": "2022-05-13T06:34:26.104Z"
   },
   {
    "duration": 117,
    "start_time": "2022-05-13T06:34:26.152Z"
   },
   {
    "duration": 109,
    "start_time": "2022-05-13T06:34:26.271Z"
   },
   {
    "duration": 21,
    "start_time": "2022-05-13T06:34:26.382Z"
   },
   {
    "duration": 6,
    "start_time": "2022-05-13T06:34:26.406Z"
   },
   {
    "duration": 44,
    "start_time": "2022-05-13T06:34:26.413Z"
   },
   {
    "duration": 11,
    "start_time": "2022-05-13T06:34:26.459Z"
   },
   {
    "duration": 27,
    "start_time": "2022-05-13T06:34:26.472Z"
   },
   {
    "duration": 55,
    "start_time": "2022-05-13T06:34:26.502Z"
   },
   {
    "duration": 21,
    "start_time": "2022-05-13T06:34:26.559Z"
   },
   {
    "duration": 6,
    "start_time": "2022-05-13T06:34:26.583Z"
   },
   {
    "duration": 26,
    "start_time": "2022-05-13T06:34:26.592Z"
   },
   {
    "duration": 380,
    "start_time": "2022-05-13T06:34:26.621Z"
   },
   {
    "duration": 222,
    "start_time": "2022-05-13T06:34:27.004Z"
   },
   {
    "duration": 45,
    "start_time": "2022-05-13T06:34:27.228Z"
   },
   {
    "duration": 19,
    "start_time": "2022-05-13T06:34:27.275Z"
   },
   {
    "duration": 617,
    "start_time": "2022-05-13T06:34:27.296Z"
   },
   {
    "duration": 1285,
    "start_time": "2022-05-13T06:34:27.915Z"
   },
   {
    "duration": 2695,
    "start_time": "2022-05-13T06:34:29.203Z"
   },
   {
    "duration": 2097,
    "start_time": "2022-05-13T06:34:31.901Z"
   },
   {
    "duration": 0,
    "start_time": "2022-05-13T06:34:34.000Z"
   },
   {
    "duration": 20,
    "start_time": "2022-05-13T06:35:01.406Z"
   },
   {
    "duration": 4,
    "start_time": "2022-05-13T06:35:40.145Z"
   },
   {
    "duration": 22,
    "start_time": "2022-05-13T06:35:40.620Z"
   },
   {
    "duration": 19,
    "start_time": "2022-05-13T06:35:59.643Z"
   },
   {
    "duration": 21,
    "start_time": "2022-05-13T06:36:01.899Z"
   },
   {
    "duration": 12,
    "start_time": "2022-05-13T06:36:11.803Z"
   },
   {
    "duration": 4,
    "start_time": "2022-05-13T06:37:25.439Z"
   },
   {
    "duration": 18,
    "start_time": "2022-05-13T06:37:25.916Z"
   },
   {
    "duration": 15,
    "start_time": "2022-05-13T06:37:26.400Z"
   },
   {
    "duration": 4,
    "start_time": "2022-05-13T06:38:27.958Z"
   },
   {
    "duration": 18,
    "start_time": "2022-05-13T06:38:28.210Z"
   },
   {
    "duration": 12,
    "start_time": "2022-05-13T06:38:28.561Z"
   },
   {
    "duration": 873,
    "start_time": "2022-05-13T06:38:36.631Z"
   },
   {
    "duration": 474,
    "start_time": "2022-05-13T06:38:37.507Z"
   },
   {
    "duration": 25,
    "start_time": "2022-05-13T06:38:37.983Z"
   },
   {
    "duration": 11,
    "start_time": "2022-05-13T06:38:38.010Z"
   },
   {
    "duration": 33,
    "start_time": "2022-05-13T06:38:38.025Z"
   },
   {
    "duration": 9,
    "start_time": "2022-05-13T06:38:38.061Z"
   },
   {
    "duration": 9,
    "start_time": "2022-05-13T06:38:38.072Z"
   },
   {
    "duration": 19,
    "start_time": "2022-05-13T06:38:38.083Z"
   },
   {
    "duration": 14,
    "start_time": "2022-05-13T06:38:38.104Z"
   },
   {
    "duration": 16,
    "start_time": "2022-05-13T06:38:38.152Z"
   },
   {
    "duration": 27,
    "start_time": "2022-05-13T06:38:38.171Z"
   },
   {
    "duration": 16,
    "start_time": "2022-05-13T06:38:38.201Z"
   },
   {
    "duration": 33,
    "start_time": "2022-05-13T06:38:38.252Z"
   },
   {
    "duration": 21,
    "start_time": "2022-05-13T06:38:38.291Z"
   },
   {
    "duration": 47,
    "start_time": "2022-05-13T06:38:38.315Z"
   },
   {
    "duration": 30,
    "start_time": "2022-05-13T06:38:38.364Z"
   },
   {
    "duration": 64,
    "start_time": "2022-05-13T06:38:38.396Z"
   },
   {
    "duration": 359,
    "start_time": "2022-05-13T06:38:38.462Z"
   },
   {
    "duration": 3,
    "start_time": "2022-05-13T06:38:38.823Z"
   },
   {
    "duration": 21,
    "start_time": "2022-05-13T06:38:38.828Z"
   },
   {
    "duration": 43,
    "start_time": "2022-05-13T06:38:38.851Z"
   },
   {
    "duration": 18,
    "start_time": "2022-05-13T06:38:38.895Z"
   },
   {
    "duration": 46,
    "start_time": "2022-05-13T06:38:38.915Z"
   },
   {
    "duration": 52,
    "start_time": "2022-05-13T06:38:38.963Z"
   },
   {
    "duration": 341,
    "start_time": "2022-05-13T06:38:39.017Z"
   },
   {
    "duration": 8,
    "start_time": "2022-05-13T06:38:39.361Z"
   },
   {
    "duration": 29,
    "start_time": "2022-05-13T06:38:39.371Z"
   },
   {
    "duration": 234,
    "start_time": "2022-05-13T06:38:39.403Z"
   },
   {
    "duration": 48,
    "start_time": "2022-05-13T06:38:39.640Z"
   },
   {
    "duration": 31,
    "start_time": "2022-05-13T06:38:39.691Z"
   },
   {
    "duration": 48,
    "start_time": "2022-05-13T06:38:39.725Z"
   },
   {
    "duration": 167,
    "start_time": "2022-05-13T06:38:39.776Z"
   },
   {
    "duration": 113,
    "start_time": "2022-05-13T06:38:39.946Z"
   },
   {
    "duration": 23,
    "start_time": "2022-05-13T06:38:40.061Z"
   },
   {
    "duration": 5,
    "start_time": "2022-05-13T06:38:40.086Z"
   },
   {
    "duration": 44,
    "start_time": "2022-05-13T06:38:40.094Z"
   },
   {
    "duration": 12,
    "start_time": "2022-05-13T06:38:40.151Z"
   },
   {
    "duration": 30,
    "start_time": "2022-05-13T06:38:40.165Z"
   },
   {
    "duration": 17,
    "start_time": "2022-05-13T06:38:40.197Z"
   },
   {
    "duration": 46,
    "start_time": "2022-05-13T06:38:40.217Z"
   },
   {
    "duration": 18,
    "start_time": "2022-05-13T06:38:40.271Z"
   },
   {
    "duration": 22,
    "start_time": "2022-05-13T06:38:40.291Z"
   },
   {
    "duration": 373,
    "start_time": "2022-05-13T06:38:40.315Z"
   },
   {
    "duration": 219,
    "start_time": "2022-05-13T06:38:40.690Z"
   },
   {
    "duration": 49,
    "start_time": "2022-05-13T06:38:40.912Z"
   },
   {
    "duration": 19,
    "start_time": "2022-05-13T06:38:40.964Z"
   },
   {
    "duration": 615,
    "start_time": "2022-05-13T06:38:40.985Z"
   },
   {
    "duration": 1397,
    "start_time": "2022-05-13T06:38:41.602Z"
   },
   {
    "duration": 2471,
    "start_time": "2022-05-13T06:38:43.001Z"
   },
   {
    "duration": 4,
    "start_time": "2022-05-13T06:38:45.474Z"
   },
   {
    "duration": 19,
    "start_time": "2022-05-13T06:38:45.480Z"
   },
   {
    "duration": 13,
    "start_time": "2022-05-13T06:38:45.501Z"
   },
   {
    "duration": 840,
    "start_time": "2022-05-13T06:38:45.516Z"
   },
   {
    "duration": 4,
    "start_time": "2022-05-13T06:39:35.308Z"
   },
   {
    "duration": 12,
    "start_time": "2022-05-13T06:49:59.863Z"
   },
   {
    "duration": 13,
    "start_time": "2022-05-13T06:50:16.034Z"
   },
   {
    "duration": 12,
    "start_time": "2022-05-13T06:52:44.777Z"
   },
   {
    "duration": 14,
    "start_time": "2022-05-13T06:53:11.006Z"
   },
   {
    "duration": 4,
    "start_time": "2022-05-13T06:54:06.238Z"
   },
   {
    "duration": 30,
    "start_time": "2022-05-13T06:54:06.245Z"
   },
   {
    "duration": 17,
    "start_time": "2022-05-13T06:54:06.279Z"
   },
   {
    "duration": 8,
    "start_time": "2022-05-13T06:55:37.729Z"
   },
   {
    "duration": 377,
    "start_time": "2022-05-13T06:57:49.998Z"
   },
   {
    "duration": 237,
    "start_time": "2022-05-13T06:58:03.634Z"
   },
   {
    "duration": 258,
    "start_time": "2022-05-13T06:58:10.422Z"
   },
   {
    "duration": 227,
    "start_time": "2022-05-13T06:58:40.027Z"
   },
   {
    "duration": 7,
    "start_time": "2022-05-13T06:58:54.918Z"
   },
   {
    "duration": 44,
    "start_time": "2022-05-13T06:59:54.391Z"
   },
   {
    "duration": 13,
    "start_time": "2022-05-13T07:00:02.964Z"
   },
   {
    "duration": 228,
    "start_time": "2022-05-13T07:01:12.437Z"
   },
   {
    "duration": 13,
    "start_time": "2022-05-13T07:07:45.096Z"
   },
   {
    "duration": 13,
    "start_time": "2022-05-13T07:07:49.902Z"
   },
   {
    "duration": 12,
    "start_time": "2022-05-13T07:07:53.781Z"
   },
   {
    "duration": 13,
    "start_time": "2022-05-13T07:16:15.487Z"
   },
   {
    "duration": 1979,
    "start_time": "2022-05-13T07:16:23.663Z"
   },
   {
    "duration": 827,
    "start_time": "2022-05-13T07:19:55.581Z"
   },
   {
    "duration": 602,
    "start_time": "2022-05-13T07:19:56.411Z"
   },
   {
    "duration": 31,
    "start_time": "2022-05-13T07:19:57.016Z"
   },
   {
    "duration": 11,
    "start_time": "2022-05-13T07:19:57.049Z"
   },
   {
    "duration": 23,
    "start_time": "2022-05-13T07:19:57.065Z"
   },
   {
    "duration": 19,
    "start_time": "2022-05-13T07:19:57.091Z"
   },
   {
    "duration": 9,
    "start_time": "2022-05-13T07:19:57.113Z"
   },
   {
    "duration": 39,
    "start_time": "2022-05-13T07:19:57.124Z"
   },
   {
    "duration": 35,
    "start_time": "2022-05-13T07:19:57.165Z"
   },
   {
    "duration": 21,
    "start_time": "2022-05-13T07:19:57.202Z"
   },
   {
    "duration": 35,
    "start_time": "2022-05-13T07:19:57.225Z"
   },
   {
    "duration": 14,
    "start_time": "2022-05-13T07:19:57.263Z"
   },
   {
    "duration": 31,
    "start_time": "2022-05-13T07:19:57.279Z"
   },
   {
    "duration": 49,
    "start_time": "2022-05-13T07:19:57.314Z"
   },
   {
    "duration": 17,
    "start_time": "2022-05-13T07:19:57.365Z"
   },
   {
    "duration": 29,
    "start_time": "2022-05-13T07:19:57.384Z"
   },
   {
    "duration": 88,
    "start_time": "2022-05-13T07:19:57.416Z"
   },
   {
    "duration": 541,
    "start_time": "2022-05-13T07:19:57.507Z"
   },
   {
    "duration": 4,
    "start_time": "2022-05-13T07:19:58.051Z"
   },
   {
    "duration": 17,
    "start_time": "2022-05-13T07:19:58.057Z"
   },
   {
    "duration": 30,
    "start_time": "2022-05-13T07:19:58.076Z"
   },
   {
    "duration": 17,
    "start_time": "2022-05-13T07:19:58.108Z"
   },
   {
    "duration": 35,
    "start_time": "2022-05-13T07:19:58.151Z"
   },
   {
    "duration": 76,
    "start_time": "2022-05-13T07:19:58.188Z"
   },
   {
    "duration": 329,
    "start_time": "2022-05-13T07:19:58.267Z"
   },
   {
    "duration": 6,
    "start_time": "2022-05-13T07:19:58.599Z"
   },
   {
    "duration": 44,
    "start_time": "2022-05-13T07:19:58.608Z"
   },
   {
    "duration": 210,
    "start_time": "2022-05-13T07:19:58.654Z"
   },
   {
    "duration": 45,
    "start_time": "2022-05-13T07:19:58.866Z"
   },
   {
    "duration": 53,
    "start_time": "2022-05-13T07:19:58.913Z"
   },
   {
    "duration": 25,
    "start_time": "2022-05-13T07:19:58.968Z"
   },
   {
    "duration": 129,
    "start_time": "2022-05-13T07:19:58.996Z"
   },
   {
    "duration": 99,
    "start_time": "2022-05-13T07:19:59.127Z"
   },
   {
    "duration": 31,
    "start_time": "2022-05-13T07:19:59.231Z"
   },
   {
    "duration": 4,
    "start_time": "2022-05-13T07:19:59.265Z"
   },
   {
    "duration": 22,
    "start_time": "2022-05-13T07:19:59.271Z"
   },
   {
    "duration": 11,
    "start_time": "2022-05-13T07:19:59.295Z"
   },
   {
    "duration": 65,
    "start_time": "2022-05-13T07:19:59.308Z"
   },
   {
    "duration": 17,
    "start_time": "2022-05-13T07:19:59.375Z"
   },
   {
    "duration": 19,
    "start_time": "2022-05-13T07:19:59.394Z"
   },
   {
    "duration": 38,
    "start_time": "2022-05-13T07:19:59.418Z"
   },
   {
    "duration": 22,
    "start_time": "2022-05-13T07:19:59.458Z"
   },
   {
    "duration": 376,
    "start_time": "2022-05-13T07:19:59.482Z"
   },
   {
    "duration": 227,
    "start_time": "2022-05-13T07:19:59.861Z"
   },
   {
    "duration": 34,
    "start_time": "2022-05-13T07:20:00.091Z"
   },
   {
    "duration": 37,
    "start_time": "2022-05-13T07:20:00.127Z"
   },
   {
    "duration": 620,
    "start_time": "2022-05-13T07:20:00.166Z"
   },
   {
    "duration": 1338,
    "start_time": "2022-05-13T07:20:00.788Z"
   },
   {
    "duration": 2704,
    "start_time": "2022-05-13T07:20:02.128Z"
   },
   {
    "duration": 3,
    "start_time": "2022-05-13T07:20:04.835Z"
   },
   {
    "duration": 22,
    "start_time": "2022-05-13T07:20:04.853Z"
   },
   {
    "duration": 44,
    "start_time": "2022-05-13T07:20:04.877Z"
   },
   {
    "duration": 201,
    "start_time": "2022-05-13T07:20:04.923Z"
   },
   {
    "duration": 14,
    "start_time": "2022-05-13T07:21:12.089Z"
   },
   {
    "duration": 15,
    "start_time": "2022-05-13T07:21:33.114Z"
   },
   {
    "duration": 14,
    "start_time": "2022-05-13T07:22:20.445Z"
   },
   {
    "duration": 8,
    "start_time": "2022-05-13T07:23:26.063Z"
   },
   {
    "duration": 8,
    "start_time": "2022-05-13T07:23:49.492Z"
   },
   {
    "duration": 23,
    "start_time": "2022-05-13T07:24:42.579Z"
   },
   {
    "duration": 52,
    "start_time": "2022-05-13T07:25:12.860Z"
   },
   {
    "duration": 7,
    "start_time": "2022-05-13T07:25:28.084Z"
   },
   {
    "duration": 24,
    "start_time": "2022-05-13T07:26:10.958Z"
   },
   {
    "duration": 14,
    "start_time": "2022-05-13T07:29:05.492Z"
   },
   {
    "duration": 20,
    "start_time": "2022-05-13T07:36:45.034Z"
   },
   {
    "duration": 24,
    "start_time": "2022-05-13T07:37:29.260Z"
   },
   {
    "duration": 898,
    "start_time": "2022-05-13T12:56:59.420Z"
   },
   {
    "duration": 403,
    "start_time": "2022-05-13T12:57:00.321Z"
   },
   {
    "duration": 16,
    "start_time": "2022-05-13T12:57:00.726Z"
   },
   {
    "duration": 16,
    "start_time": "2022-05-13T12:57:00.744Z"
   },
   {
    "duration": 25,
    "start_time": "2022-05-13T12:57:00.762Z"
   },
   {
    "duration": 30,
    "start_time": "2022-05-13T12:57:00.788Z"
   },
   {
    "duration": 19,
    "start_time": "2022-05-13T12:57:00.820Z"
   },
   {
    "duration": 41,
    "start_time": "2022-05-13T12:57:00.841Z"
   },
   {
    "duration": 22,
    "start_time": "2022-05-13T12:57:00.884Z"
   },
   {
    "duration": 19,
    "start_time": "2022-05-13T12:57:00.909Z"
   },
   {
    "duration": 28,
    "start_time": "2022-05-13T12:57:00.930Z"
   },
   {
    "duration": 34,
    "start_time": "2022-05-13T12:57:00.960Z"
   },
   {
    "duration": 30,
    "start_time": "2022-05-13T12:57:00.996Z"
   },
   {
    "duration": 24,
    "start_time": "2022-05-13T12:57:01.028Z"
   },
   {
    "duration": 22,
    "start_time": "2022-05-13T12:57:01.053Z"
   },
   {
    "duration": 29,
    "start_time": "2022-05-13T12:57:01.077Z"
   },
   {
    "duration": 26,
    "start_time": "2022-05-13T12:57:01.108Z"
   },
   {
    "duration": 230,
    "start_time": "2022-05-13T12:57:01.136Z"
   },
   {
    "duration": 3,
    "start_time": "2022-05-13T12:57:01.368Z"
   },
   {
    "duration": 16,
    "start_time": "2022-05-13T12:57:01.372Z"
   },
   {
    "duration": 22,
    "start_time": "2022-05-13T12:57:01.390Z"
   },
   {
    "duration": 13,
    "start_time": "2022-05-13T12:57:01.414Z"
   },
   {
    "duration": 43,
    "start_time": "2022-05-13T12:57:01.429Z"
   },
   {
    "duration": 35,
    "start_time": "2022-05-13T12:57:01.474Z"
   },
   {
    "duration": 212,
    "start_time": "2022-05-13T12:57:01.511Z"
   },
   {
    "duration": 5,
    "start_time": "2022-05-13T12:57:01.724Z"
   },
   {
    "duration": 33,
    "start_time": "2022-05-13T12:57:01.731Z"
   },
   {
    "duration": 162,
    "start_time": "2022-05-13T12:57:01.768Z"
   },
   {
    "duration": 38,
    "start_time": "2022-05-13T12:57:01.932Z"
   },
   {
    "duration": 21,
    "start_time": "2022-05-13T12:57:01.971Z"
   },
   {
    "duration": 24,
    "start_time": "2022-05-13T12:57:01.994Z"
   },
   {
    "duration": 98,
    "start_time": "2022-05-13T12:57:02.019Z"
   },
   {
    "duration": 90,
    "start_time": "2022-05-13T12:57:02.118Z"
   },
   {
    "duration": 15,
    "start_time": "2022-05-13T12:57:02.209Z"
   },
   {
    "duration": 25,
    "start_time": "2022-05-13T12:57:02.226Z"
   },
   {
    "duration": 19,
    "start_time": "2022-05-13T12:57:02.253Z"
   },
   {
    "duration": 15,
    "start_time": "2022-05-13T12:57:02.274Z"
   },
   {
    "duration": 21,
    "start_time": "2022-05-13T12:57:02.291Z"
   },
   {
    "duration": 28,
    "start_time": "2022-05-13T12:57:02.314Z"
   },
   {
    "duration": 23,
    "start_time": "2022-05-13T12:57:02.344Z"
   },
   {
    "duration": 10,
    "start_time": "2022-05-13T12:57:02.368Z"
   },
   {
    "duration": 28,
    "start_time": "2022-05-13T12:57:02.380Z"
   },
   {
    "duration": 202,
    "start_time": "2022-05-13T12:57:02.410Z"
   },
   {
    "duration": 142,
    "start_time": "2022-05-13T12:57:02.613Z"
   },
   {
    "duration": 31,
    "start_time": "2022-05-13T12:57:02.757Z"
   },
   {
    "duration": 12,
    "start_time": "2022-05-13T12:57:02.790Z"
   },
   {
    "duration": 502,
    "start_time": "2022-05-13T12:57:02.803Z"
   },
   {
    "duration": 944,
    "start_time": "2022-05-13T12:57:03.306Z"
   },
   {
    "duration": 1794,
    "start_time": "2022-05-13T12:57:04.252Z"
   },
   {
    "duration": 3,
    "start_time": "2022-05-13T12:57:06.048Z"
   },
   {
    "duration": 24,
    "start_time": "2022-05-13T12:57:06.053Z"
   },
   {
    "duration": 11,
    "start_time": "2022-05-13T12:57:06.078Z"
   },
   {
    "duration": 11,
    "start_time": "2022-05-13T12:57:06.091Z"
   },
   {
    "duration": 17,
    "start_time": "2022-05-13T12:57:06.104Z"
   },
   {
    "duration": 15,
    "start_time": "2022-05-13T12:57:06.123Z"
   },
   {
    "duration": 4,
    "start_time": "2022-05-13T13:01:50.365Z"
   },
   {
    "duration": 669,
    "start_time": "2022-05-13T13:20:41.320Z"
   },
   {
    "duration": 395,
    "start_time": "2022-05-13T13:20:41.991Z"
   },
   {
    "duration": 16,
    "start_time": "2022-05-13T13:20:42.387Z"
   },
   {
    "duration": 7,
    "start_time": "2022-05-13T13:20:42.405Z"
   },
   {
    "duration": 12,
    "start_time": "2022-05-13T13:20:42.414Z"
   },
   {
    "duration": 6,
    "start_time": "2022-05-13T13:20:42.428Z"
   },
   {
    "duration": 7,
    "start_time": "2022-05-13T13:20:42.436Z"
   },
   {
    "duration": 25,
    "start_time": "2022-05-13T13:20:42.445Z"
   },
   {
    "duration": 11,
    "start_time": "2022-05-13T13:20:42.472Z"
   },
   {
    "duration": 11,
    "start_time": "2022-05-13T13:20:42.487Z"
   },
   {
    "duration": 21,
    "start_time": "2022-05-13T13:20:42.500Z"
   },
   {
    "duration": 11,
    "start_time": "2022-05-13T13:20:42.524Z"
   },
   {
    "duration": 24,
    "start_time": "2022-05-13T13:20:42.568Z"
   },
   {
    "duration": 17,
    "start_time": "2022-05-13T13:20:42.593Z"
   },
   {
    "duration": 13,
    "start_time": "2022-05-13T13:20:42.612Z"
   },
   {
    "duration": 52,
    "start_time": "2022-05-13T13:20:42.627Z"
   },
   {
    "duration": 29,
    "start_time": "2022-05-13T13:20:42.681Z"
   },
   {
    "duration": 252,
    "start_time": "2022-05-13T13:20:42.712Z"
   },
   {
    "duration": 2,
    "start_time": "2022-05-13T13:20:42.966Z"
   },
   {
    "duration": 26,
    "start_time": "2022-05-13T13:20:42.970Z"
   },
   {
    "duration": 64,
    "start_time": "2022-05-13T13:20:42.998Z"
   },
   {
    "duration": 13,
    "start_time": "2022-05-13T13:20:43.063Z"
   },
   {
    "duration": 33,
    "start_time": "2022-05-13T13:20:43.077Z"
   },
   {
    "duration": 35,
    "start_time": "2022-05-13T13:20:43.112Z"
   },
   {
    "duration": 218,
    "start_time": "2022-05-13T13:20:43.149Z"
   },
   {
    "duration": 5,
    "start_time": "2022-05-13T13:20:43.369Z"
   },
   {
    "duration": 28,
    "start_time": "2022-05-13T13:20:43.376Z"
   },
   {
    "duration": 153,
    "start_time": "2022-05-13T13:20:43.408Z"
   },
   {
    "duration": 36,
    "start_time": "2022-05-13T13:20:43.563Z"
   },
   {
    "duration": 21,
    "start_time": "2022-05-13T13:20:43.600Z"
   },
   {
    "duration": 18,
    "start_time": "2022-05-13T13:20:43.623Z"
   },
   {
    "duration": 99,
    "start_time": "2022-05-13T13:20:43.643Z"
   },
   {
    "duration": 95,
    "start_time": "2022-05-13T13:20:43.743Z"
   },
   {
    "duration": 14,
    "start_time": "2022-05-13T13:20:43.840Z"
   },
   {
    "duration": 4,
    "start_time": "2022-05-13T13:20:43.867Z"
   },
   {
    "duration": 17,
    "start_time": "2022-05-13T13:20:43.873Z"
   },
   {
    "duration": 8,
    "start_time": "2022-05-13T13:20:43.892Z"
   },
   {
    "duration": 16,
    "start_time": "2022-05-13T13:20:43.902Z"
   },
   {
    "duration": 11,
    "start_time": "2022-05-13T13:20:43.920Z"
   },
   {
    "duration": 45,
    "start_time": "2022-05-13T13:20:43.932Z"
   },
   {
    "duration": 4,
    "start_time": "2022-05-13T13:20:43.979Z"
   },
   {
    "duration": 17,
    "start_time": "2022-05-13T13:20:43.984Z"
   },
   {
    "duration": 213,
    "start_time": "2022-05-13T13:20:44.003Z"
   },
   {
    "duration": 132,
    "start_time": "2022-05-13T13:20:44.217Z"
   },
   {
    "duration": 34,
    "start_time": "2022-05-13T13:20:44.350Z"
   },
   {
    "duration": 12,
    "start_time": "2022-05-13T13:20:44.386Z"
   },
   {
    "duration": 447,
    "start_time": "2022-05-13T13:20:44.399Z"
   },
   {
    "duration": 882,
    "start_time": "2022-05-13T13:20:44.848Z"
   },
   {
    "duration": 1678,
    "start_time": "2022-05-13T13:20:45.732Z"
   },
   {
    "duration": 4,
    "start_time": "2022-05-13T13:20:47.412Z"
   },
   {
    "duration": 15,
    "start_time": "2022-05-13T13:20:47.418Z"
   },
   {
    "duration": 14,
    "start_time": "2022-05-13T13:20:47.435Z"
   },
   {
    "duration": 29,
    "start_time": "2022-05-13T13:20:47.451Z"
   },
   {
    "duration": 17,
    "start_time": "2022-05-13T13:20:47.482Z"
   },
   {
    "duration": 15,
    "start_time": "2022-05-13T13:20:47.501Z"
   },
   {
    "duration": 1135,
    "start_time": "2022-05-16T15:47:29.304Z"
   },
   {
    "duration": 505,
    "start_time": "2022-05-16T15:47:30.443Z"
   },
   {
    "duration": 23,
    "start_time": "2022-05-16T15:47:30.951Z"
   },
   {
    "duration": 14,
    "start_time": "2022-05-16T15:47:30.977Z"
   },
   {
    "duration": 26,
    "start_time": "2022-05-16T15:47:30.993Z"
   },
   {
    "duration": 24,
    "start_time": "2022-05-16T15:47:31.021Z"
   },
   {
    "duration": 9,
    "start_time": "2022-05-16T15:47:31.047Z"
   },
   {
    "duration": 25,
    "start_time": "2022-05-16T15:47:31.058Z"
   },
   {
    "duration": 20,
    "start_time": "2022-05-16T15:47:31.085Z"
   },
   {
    "duration": 21,
    "start_time": "2022-05-16T15:47:31.109Z"
   },
   {
    "duration": 60,
    "start_time": "2022-05-16T15:47:31.133Z"
   },
   {
    "duration": 17,
    "start_time": "2022-05-16T15:47:31.196Z"
   },
   {
    "duration": 38,
    "start_time": "2022-05-16T15:47:31.216Z"
   },
   {
    "duration": 48,
    "start_time": "2022-05-16T15:47:31.256Z"
   },
   {
    "duration": 21,
    "start_time": "2022-05-16T15:47:31.307Z"
   },
   {
    "duration": 52,
    "start_time": "2022-05-16T15:47:31.330Z"
   },
   {
    "duration": 53,
    "start_time": "2022-05-16T15:47:31.385Z"
   },
   {
    "duration": 428,
    "start_time": "2022-05-16T15:47:31.441Z"
   },
   {
    "duration": 3,
    "start_time": "2022-05-16T15:47:31.871Z"
   },
   {
    "duration": 18,
    "start_time": "2022-05-16T15:47:31.876Z"
   },
   {
    "duration": 32,
    "start_time": "2022-05-16T15:47:31.897Z"
   },
   {
    "duration": 16,
    "start_time": "2022-05-16T15:47:31.934Z"
   },
   {
    "duration": 65,
    "start_time": "2022-05-16T15:47:31.952Z"
   },
   {
    "duration": 91,
    "start_time": "2022-05-16T15:47:32.020Z"
   },
   {
    "duration": 348,
    "start_time": "2022-05-16T15:47:32.113Z"
   },
   {
    "duration": 6,
    "start_time": "2022-05-16T15:47:32.463Z"
   },
   {
    "duration": 28,
    "start_time": "2022-05-16T15:47:32.484Z"
   },
   {
    "duration": 242,
    "start_time": "2022-05-16T15:47:32.519Z"
   },
   {
    "duration": 56,
    "start_time": "2022-05-16T15:47:32.763Z"
   },
   {
    "duration": 28,
    "start_time": "2022-05-16T15:47:32.822Z"
   },
   {
    "duration": 49,
    "start_time": "2022-05-16T15:47:32.853Z"
   },
   {
    "duration": 125,
    "start_time": "2022-05-16T15:47:32.905Z"
   },
   {
    "duration": 124,
    "start_time": "2022-05-16T15:47:33.032Z"
   },
   {
    "duration": 41,
    "start_time": "2022-05-16T15:47:33.159Z"
   },
   {
    "duration": 6,
    "start_time": "2022-05-16T15:47:33.202Z"
   },
   {
    "duration": 24,
    "start_time": "2022-05-16T15:47:33.211Z"
   },
   {
    "duration": 10,
    "start_time": "2022-05-16T15:47:33.237Z"
   },
   {
    "duration": 67,
    "start_time": "2022-05-16T15:47:33.249Z"
   },
   {
    "duration": 20,
    "start_time": "2022-05-16T15:47:33.318Z"
   },
   {
    "duration": 17,
    "start_time": "2022-05-16T15:47:33.341Z"
   },
   {
    "duration": 32,
    "start_time": "2022-05-16T15:47:33.360Z"
   },
   {
    "duration": 24,
    "start_time": "2022-05-16T15:47:33.395Z"
   },
   {
    "duration": 404,
    "start_time": "2022-05-16T15:47:33.421Z"
   },
   {
    "duration": 243,
    "start_time": "2022-05-16T15:47:33.827Z"
   },
   {
    "duration": 38,
    "start_time": "2022-05-16T15:47:34.073Z"
   },
   {
    "duration": 20,
    "start_time": "2022-05-16T15:47:34.113Z"
   },
   {
    "duration": 672,
    "start_time": "2022-05-16T15:47:34.136Z"
   },
   {
    "duration": 1352,
    "start_time": "2022-05-16T15:47:34.810Z"
   },
   {
    "duration": 2581,
    "start_time": "2022-05-16T15:47:36.165Z"
   },
   {
    "duration": 4,
    "start_time": "2022-05-16T15:47:38.749Z"
   },
   {
    "duration": 41,
    "start_time": "2022-05-16T15:47:38.756Z"
   },
   {
    "duration": 17,
    "start_time": "2022-05-16T15:47:38.800Z"
   },
   {
    "duration": 9,
    "start_time": "2022-05-16T15:47:38.820Z"
   },
   {
    "duration": 24,
    "start_time": "2022-05-16T15:47:38.832Z"
   },
   {
    "duration": 29,
    "start_time": "2022-05-16T15:47:38.888Z"
   },
   {
    "duration": 616,
    "start_time": "2022-05-16T15:49:54.445Z"
   },
   {
    "duration": 17,
    "start_time": "2022-05-16T15:50:03.936Z"
   },
   {
    "duration": 32,
    "start_time": "2022-05-16T15:51:34.201Z"
   },
   {
    "duration": 6,
    "start_time": "2022-05-16T15:59:19.472Z"
   },
   {
    "duration": 24,
    "start_time": "2022-05-16T15:59:22.097Z"
   },
   {
    "duration": 1686,
    "start_time": "2022-05-16T16:45:05.562Z"
   },
   {
    "duration": 574,
    "start_time": "2022-05-16T16:45:07.251Z"
   },
   {
    "duration": 26,
    "start_time": "2022-05-16T16:45:07.827Z"
   },
   {
    "duration": 10,
    "start_time": "2022-05-16T16:45:07.857Z"
   },
   {
    "duration": 27,
    "start_time": "2022-05-16T16:45:07.882Z"
   },
   {
    "duration": 21,
    "start_time": "2022-05-16T16:45:07.913Z"
   },
   {
    "duration": 9,
    "start_time": "2022-05-16T16:45:07.936Z"
   },
   {
    "duration": 28,
    "start_time": "2022-05-16T16:45:07.947Z"
   },
   {
    "duration": 26,
    "start_time": "2022-05-16T16:45:07.982Z"
   },
   {
    "duration": 18,
    "start_time": "2022-05-16T16:45:08.012Z"
   },
   {
    "duration": 80,
    "start_time": "2022-05-16T16:45:08.034Z"
   },
   {
    "duration": 19,
    "start_time": "2022-05-16T16:45:08.117Z"
   },
   {
    "duration": 54,
    "start_time": "2022-05-16T16:45:08.138Z"
   },
   {
    "duration": 35,
    "start_time": "2022-05-16T16:45:08.195Z"
   },
   {
    "duration": 19,
    "start_time": "2022-05-16T16:45:08.233Z"
   },
   {
    "duration": 69,
    "start_time": "2022-05-16T16:45:08.255Z"
   },
   {
    "duration": 64,
    "start_time": "2022-05-16T16:45:08.326Z"
   },
   {
    "duration": 474,
    "start_time": "2022-05-16T16:45:08.393Z"
   },
   {
    "duration": 17,
    "start_time": "2022-05-16T16:45:08.869Z"
   },
   {
    "duration": 50,
    "start_time": "2022-05-16T16:45:08.889Z"
   },
   {
    "duration": 18,
    "start_time": "2022-05-16T16:45:08.942Z"
   },
   {
    "duration": 59,
    "start_time": "2022-05-16T16:45:08.962Z"
   },
   {
    "duration": 80,
    "start_time": "2022-05-16T16:45:09.024Z"
   },
   {
    "duration": 609,
    "start_time": "2022-05-16T16:45:09.108Z"
   },
   {
    "duration": 9,
    "start_time": "2022-05-16T16:45:09.720Z"
   },
   {
    "duration": 63,
    "start_time": "2022-05-16T16:45:09.732Z"
   },
   {
    "duration": 344,
    "start_time": "2022-05-16T16:45:09.801Z"
   },
   {
    "duration": 63,
    "start_time": "2022-05-16T16:45:10.153Z"
   },
   {
    "duration": 33,
    "start_time": "2022-05-16T16:45:10.218Z"
   },
   {
    "duration": 56,
    "start_time": "2022-05-16T16:45:10.254Z"
   },
   {
    "duration": 171,
    "start_time": "2022-05-16T16:45:10.314Z"
   },
   {
    "duration": 76,
    "start_time": "2022-05-16T16:45:10.488Z"
   },
   {
    "duration": 41,
    "start_time": "2022-05-16T16:45:10.567Z"
   },
   {
    "duration": 5,
    "start_time": "2022-05-16T16:45:10.611Z"
   },
   {
    "duration": 24,
    "start_time": "2022-05-16T16:45:10.618Z"
   },
   {
    "duration": 51,
    "start_time": "2022-05-16T16:45:10.644Z"
   },
   {
    "duration": 33,
    "start_time": "2022-05-16T16:45:10.697Z"
   },
   {
    "duration": 19,
    "start_time": "2022-05-16T16:45:10.732Z"
   },
   {
    "duration": 48,
    "start_time": "2022-05-16T16:45:10.754Z"
   },
   {
    "duration": 6,
    "start_time": "2022-05-16T16:45:10.804Z"
   },
   {
    "duration": 20,
    "start_time": "2022-05-16T16:45:10.812Z"
   },
   {
    "duration": 453,
    "start_time": "2022-05-16T16:45:10.835Z"
   },
   {
    "duration": 256,
    "start_time": "2022-05-16T16:45:11.291Z"
   },
   {
    "duration": 59,
    "start_time": "2022-05-16T16:45:11.549Z"
   },
   {
    "duration": 31,
    "start_time": "2022-05-16T16:45:11.610Z"
   },
   {
    "duration": 1464,
    "start_time": "2022-05-16T16:45:11.643Z"
   },
   {
    "duration": 2748,
    "start_time": "2022-05-16T16:45:13.109Z"
   },
   {
    "duration": 42,
    "start_time": "2022-05-16T16:45:15.860Z"
   },
   {
    "duration": 17,
    "start_time": "2022-05-16T16:45:15.906Z"
   },
   {
    "duration": 16,
    "start_time": "2022-05-16T16:45:15.926Z"
   },
   {
    "duration": 57,
    "start_time": "2022-05-16T16:45:15.945Z"
   },
   {
    "duration": 21,
    "start_time": "2022-05-16T16:45:16.005Z"
   },
   {
    "duration": 1595,
    "start_time": "2022-05-16T17:13:22.389Z"
   },
   {
    "duration": 593,
    "start_time": "2022-05-16T17:13:23.987Z"
   },
   {
    "duration": 34,
    "start_time": "2022-05-16T17:13:24.587Z"
   },
   {
    "duration": 11,
    "start_time": "2022-05-16T17:13:24.624Z"
   },
   {
    "duration": 27,
    "start_time": "2022-05-16T17:13:24.639Z"
   },
   {
    "duration": 16,
    "start_time": "2022-05-16T17:13:24.682Z"
   },
   {
    "duration": 18,
    "start_time": "2022-05-16T17:13:24.701Z"
   },
   {
    "duration": 35,
    "start_time": "2022-05-16T17:13:24.721Z"
   },
   {
    "duration": 15,
    "start_time": "2022-05-16T17:13:24.758Z"
   },
   {
    "duration": 45,
    "start_time": "2022-05-16T17:13:24.775Z"
   },
   {
    "duration": 29,
    "start_time": "2022-05-16T17:13:24.822Z"
   },
   {
    "duration": 15,
    "start_time": "2022-05-16T17:13:24.853Z"
   },
   {
    "duration": 42,
    "start_time": "2022-05-16T17:13:24.870Z"
   },
   {
    "duration": 25,
    "start_time": "2022-05-16T17:13:24.919Z"
   },
   {
    "duration": 40,
    "start_time": "2022-05-16T17:13:24.946Z"
   },
   {
    "duration": 56,
    "start_time": "2022-05-16T17:13:24.988Z"
   },
   {
    "duration": 43,
    "start_time": "2022-05-16T17:13:25.046Z"
   },
   {
    "duration": 471,
    "start_time": "2022-05-16T17:13:25.092Z"
   },
   {
    "duration": 7,
    "start_time": "2022-05-16T17:13:25.565Z"
   },
   {
    "duration": 37,
    "start_time": "2022-05-16T17:13:25.582Z"
   },
   {
    "duration": 18,
    "start_time": "2022-05-16T17:13:25.621Z"
   },
   {
    "duration": 75,
    "start_time": "2022-05-16T17:13:25.642Z"
   },
   {
    "duration": 65,
    "start_time": "2022-05-16T17:13:25.720Z"
   },
   {
    "duration": 424,
    "start_time": "2022-05-16T17:13:25.790Z"
   },
   {
    "duration": 10,
    "start_time": "2022-05-16T17:13:26.216Z"
   },
   {
    "duration": 62,
    "start_time": "2022-05-16T17:13:26.231Z"
   },
   {
    "duration": 261,
    "start_time": "2022-05-16T17:13:26.296Z"
   },
   {
    "duration": 54,
    "start_time": "2022-05-16T17:13:26.559Z"
   },
   {
    "duration": 30,
    "start_time": "2022-05-16T17:13:26.616Z"
   },
   {
    "duration": 57,
    "start_time": "2022-05-16T17:13:26.648Z"
   },
   {
    "duration": 142,
    "start_time": "2022-05-16T17:13:26.708Z"
   },
   {
    "duration": 57,
    "start_time": "2022-05-16T17:13:26.852Z"
   },
   {
    "duration": 23,
    "start_time": "2022-05-16T17:13:26.912Z"
   },
   {
    "duration": 9,
    "start_time": "2022-05-16T17:13:26.937Z"
   },
   {
    "duration": 74,
    "start_time": "2022-05-16T17:13:26.948Z"
   },
   {
    "duration": 11,
    "start_time": "2022-05-16T17:13:27.024Z"
   },
   {
    "duration": 27,
    "start_time": "2022-05-16T17:13:27.037Z"
   },
   {
    "duration": 23,
    "start_time": "2022-05-16T17:13:27.093Z"
   },
   {
    "duration": 24,
    "start_time": "2022-05-16T17:13:27.118Z"
   },
   {
    "duration": 7,
    "start_time": "2022-05-16T17:13:27.145Z"
   },
   {
    "duration": 56,
    "start_time": "2022-05-16T17:13:27.159Z"
   },
   {
    "duration": 423,
    "start_time": "2022-05-16T17:13:27.218Z"
   },
   {
    "duration": 248,
    "start_time": "2022-05-16T17:13:27.644Z"
   },
   {
    "duration": 38,
    "start_time": "2022-05-16T17:13:27.895Z"
   },
   {
    "duration": 20,
    "start_time": "2022-05-16T17:13:27.936Z"
   },
   {
    "duration": 1395,
    "start_time": "2022-05-16T17:13:27.981Z"
   },
   {
    "duration": 2627,
    "start_time": "2022-05-16T17:13:29.381Z"
   },
   {
    "duration": 19,
    "start_time": "2022-05-16T17:13:32.011Z"
   },
   {
    "duration": 14,
    "start_time": "2022-05-16T17:13:32.032Z"
   },
   {
    "duration": 42,
    "start_time": "2022-05-16T17:13:32.048Z"
   },
   {
    "duration": 58,
    "start_time": "2022-05-16T17:13:32.094Z"
   },
   {
    "duration": 22,
    "start_time": "2022-05-16T17:13:32.155Z"
   },
   {
    "duration": 1957,
    "start_time": "2022-05-16T17:38:24.181Z"
   },
   {
    "duration": 754,
    "start_time": "2022-05-16T17:38:26.142Z"
   },
   {
    "duration": 37,
    "start_time": "2022-05-16T17:38:26.900Z"
   },
   {
    "duration": 17,
    "start_time": "2022-05-16T17:38:26.941Z"
   },
   {
    "duration": 40,
    "start_time": "2022-05-16T17:38:26.961Z"
   },
   {
    "duration": 38,
    "start_time": "2022-05-16T17:38:27.004Z"
   },
   {
    "duration": 10,
    "start_time": "2022-05-16T17:38:27.044Z"
   },
   {
    "duration": 18,
    "start_time": "2022-05-16T17:38:27.056Z"
   },
   {
    "duration": 60,
    "start_time": "2022-05-16T17:38:27.077Z"
   },
   {
    "duration": 22,
    "start_time": "2022-05-16T17:38:27.144Z"
   },
   {
    "duration": 61,
    "start_time": "2022-05-16T17:38:27.168Z"
   },
   {
    "duration": 20,
    "start_time": "2022-05-16T17:38:27.232Z"
   },
   {
    "duration": 42,
    "start_time": "2022-05-16T17:38:27.254Z"
   },
   {
    "duration": 38,
    "start_time": "2022-05-16T17:38:27.303Z"
   },
   {
    "duration": 24,
    "start_time": "2022-05-16T17:38:27.344Z"
   },
   {
    "duration": 65,
    "start_time": "2022-05-16T17:38:27.371Z"
   },
   {
    "duration": 43,
    "start_time": "2022-05-16T17:38:27.438Z"
   },
   {
    "duration": 504,
    "start_time": "2022-05-16T17:38:27.490Z"
   },
   {
    "duration": 15,
    "start_time": "2022-05-16T17:38:27.997Z"
   },
   {
    "duration": 59,
    "start_time": "2022-05-16T17:38:28.015Z"
   },
   {
    "duration": 34,
    "start_time": "2022-05-16T17:38:28.076Z"
   },
   {
    "duration": 50,
    "start_time": "2022-05-16T17:38:28.113Z"
   },
   {
    "duration": 72,
    "start_time": "2022-05-16T17:38:28.166Z"
   },
   {
    "duration": 473,
    "start_time": "2022-05-16T17:38:28.240Z"
   },
   {
    "duration": 13,
    "start_time": "2022-05-16T17:38:28.716Z"
   },
   {
    "duration": 42,
    "start_time": "2022-05-16T17:38:28.733Z"
   },
   {
    "duration": 373,
    "start_time": "2022-05-16T17:38:28.777Z"
   },
   {
    "duration": 69,
    "start_time": "2022-05-16T17:38:29.157Z"
   },
   {
    "duration": 30,
    "start_time": "2022-05-16T17:38:29.229Z"
   },
   {
    "duration": 38,
    "start_time": "2022-05-16T17:38:29.282Z"
   },
   {
    "duration": 142,
    "start_time": "2022-05-16T17:38:29.324Z"
   },
   {
    "duration": 68,
    "start_time": "2022-05-16T17:38:29.468Z"
   },
   {
    "duration": 23,
    "start_time": "2022-05-16T17:38:29.539Z"
   },
   {
    "duration": 22,
    "start_time": "2022-05-16T17:38:29.564Z"
   },
   {
    "duration": 25,
    "start_time": "2022-05-16T17:38:29.591Z"
   },
   {
    "duration": 13,
    "start_time": "2022-05-16T17:38:29.619Z"
   },
   {
    "duration": 57,
    "start_time": "2022-05-16T17:38:29.639Z"
   },
   {
    "duration": 44,
    "start_time": "2022-05-16T17:38:29.699Z"
   },
   {
    "duration": 18,
    "start_time": "2022-05-16T17:38:29.745Z"
   },
   {
    "duration": 5,
    "start_time": "2022-05-16T17:38:29.766Z"
   },
   {
    "duration": 41,
    "start_time": "2022-05-16T17:38:29.773Z"
   },
   {
    "duration": 421,
    "start_time": "2022-05-16T17:38:29.817Z"
   },
   {
    "duration": 287,
    "start_time": "2022-05-16T17:38:30.241Z"
   },
   {
    "duration": 36,
    "start_time": "2022-05-16T17:38:30.531Z"
   },
   {
    "duration": 47,
    "start_time": "2022-05-16T17:38:30.569Z"
   },
   {
    "duration": 1664,
    "start_time": "2022-05-16T17:38:30.624Z"
   },
   {
    "duration": 3238,
    "start_time": "2022-05-16T17:38:32.300Z"
   },
   {
    "duration": 23,
    "start_time": "2022-05-16T17:38:35.540Z"
   },
   {
    "duration": 29,
    "start_time": "2022-05-16T17:38:35.591Z"
   },
   {
    "duration": 20,
    "start_time": "2022-05-16T17:38:35.626Z"
   },
   {
    "duration": 44,
    "start_time": "2022-05-16T17:38:35.648Z"
   },
   {
    "duration": 36,
    "start_time": "2022-05-16T17:38:35.704Z"
   },
   {
    "duration": 157,
    "start_time": "2022-05-16T17:54:21.802Z"
   },
   {
    "duration": 143,
    "start_time": "2022-05-16T17:54:26.531Z"
   },
   {
    "duration": 149,
    "start_time": "2022-05-16T17:54:33.646Z"
   },
   {
    "duration": 164,
    "start_time": "2022-05-16T17:54:53.609Z"
   },
   {
    "duration": 164,
    "start_time": "2022-05-16T17:54:58.911Z"
   },
   {
    "duration": 0,
    "start_time": "2022-05-16T17:54:59.079Z"
   },
   {
    "duration": 0,
    "start_time": "2022-05-16T17:54:59.084Z"
   },
   {
    "duration": 0,
    "start_time": "2022-05-16T17:54:59.085Z"
   },
   {
    "duration": 0,
    "start_time": "2022-05-16T17:54:59.087Z"
   },
   {
    "duration": 0,
    "start_time": "2022-05-16T17:54:59.088Z"
   },
   {
    "duration": 0,
    "start_time": "2022-05-16T17:54:59.091Z"
   },
   {
    "duration": 0,
    "start_time": "2022-05-16T17:54:59.098Z"
   },
   {
    "duration": 0,
    "start_time": "2022-05-16T17:54:59.099Z"
   },
   {
    "duration": 0,
    "start_time": "2022-05-16T17:54:59.101Z"
   },
   {
    "duration": 0,
    "start_time": "2022-05-16T17:54:59.103Z"
   },
   {
    "duration": 0,
    "start_time": "2022-05-16T17:54:59.105Z"
   },
   {
    "duration": 0,
    "start_time": "2022-05-16T17:54:59.108Z"
   },
   {
    "duration": 0,
    "start_time": "2022-05-16T17:54:59.109Z"
   },
   {
    "duration": 0,
    "start_time": "2022-05-16T17:54:59.111Z"
   },
   {
    "duration": 0,
    "start_time": "2022-05-16T17:54:59.112Z"
   },
   {
    "duration": 0,
    "start_time": "2022-05-16T17:54:59.115Z"
   },
   {
    "duration": 0,
    "start_time": "2022-05-16T17:54:59.117Z"
   },
   {
    "duration": 0,
    "start_time": "2022-05-16T17:54:59.118Z"
   },
   {
    "duration": 0,
    "start_time": "2022-05-16T17:54:59.119Z"
   },
   {
    "duration": 0,
    "start_time": "2022-05-16T17:54:59.122Z"
   },
   {
    "duration": 0,
    "start_time": "2022-05-16T17:54:59.123Z"
   },
   {
    "duration": 0,
    "start_time": "2022-05-16T17:54:59.125Z"
   },
   {
    "duration": 0,
    "start_time": "2022-05-16T17:54:59.127Z"
   },
   {
    "duration": 0,
    "start_time": "2022-05-16T17:54:59.129Z"
   },
   {
    "duration": 0,
    "start_time": "2022-05-16T17:54:59.131Z"
   },
   {
    "duration": 0,
    "start_time": "2022-05-16T17:54:59.133Z"
   },
   {
    "duration": 0,
    "start_time": "2022-05-16T17:54:59.192Z"
   },
   {
    "duration": 0,
    "start_time": "2022-05-16T17:54:59.193Z"
   },
   {
    "duration": 0,
    "start_time": "2022-05-16T17:54:59.201Z"
   },
   {
    "duration": 0,
    "start_time": "2022-05-16T17:54:59.203Z"
   },
   {
    "duration": 0,
    "start_time": "2022-05-16T17:54:59.204Z"
   },
   {
    "duration": 0,
    "start_time": "2022-05-16T17:54:59.206Z"
   },
   {
    "duration": 0,
    "start_time": "2022-05-16T17:54:59.207Z"
   },
   {
    "duration": 0,
    "start_time": "2022-05-16T17:54:59.212Z"
   },
   {
    "duration": 0,
    "start_time": "2022-05-16T17:54:59.214Z"
   },
   {
    "duration": 0,
    "start_time": "2022-05-16T17:54:59.215Z"
   },
   {
    "duration": 0,
    "start_time": "2022-05-16T17:54:59.216Z"
   },
   {
    "duration": 0,
    "start_time": "2022-05-16T17:54:59.222Z"
   },
   {
    "duration": 0,
    "start_time": "2022-05-16T17:54:59.223Z"
   },
   {
    "duration": 0,
    "start_time": "2022-05-16T17:54:59.224Z"
   },
   {
    "duration": 0,
    "start_time": "2022-05-16T17:54:59.228Z"
   },
   {
    "duration": 0,
    "start_time": "2022-05-16T17:54:59.230Z"
   },
   {
    "duration": 0,
    "start_time": "2022-05-16T17:54:59.231Z"
   },
   {
    "duration": 0,
    "start_time": "2022-05-16T17:54:59.232Z"
   },
   {
    "duration": 0,
    "start_time": "2022-05-16T17:54:59.234Z"
   },
   {
    "duration": 0,
    "start_time": "2022-05-16T17:54:59.235Z"
   },
   {
    "duration": 0,
    "start_time": "2022-05-16T17:54:59.237Z"
   },
   {
    "duration": 0,
    "start_time": "2022-05-16T17:54:59.238Z"
   },
   {
    "duration": 0,
    "start_time": "2022-05-16T17:54:59.240Z"
   },
   {
    "duration": 0,
    "start_time": "2022-05-16T17:54:59.242Z"
   },
   {
    "duration": 0,
    "start_time": "2022-05-16T17:54:59.243Z"
   },
   {
    "duration": 0,
    "start_time": "2022-05-16T17:54:59.281Z"
   },
   {
    "duration": 173,
    "start_time": "2022-05-16T17:55:33.467Z"
   },
   {
    "duration": 215,
    "start_time": "2022-05-16T17:55:51.310Z"
   },
   {
    "duration": 168,
    "start_time": "2022-05-16T17:56:12.466Z"
   },
   {
    "duration": 157,
    "start_time": "2022-05-16T17:56:27.517Z"
   },
   {
    "duration": 0,
    "start_time": "2022-05-16T17:56:27.678Z"
   },
   {
    "duration": 0,
    "start_time": "2022-05-16T17:56:27.680Z"
   },
   {
    "duration": 0,
    "start_time": "2022-05-16T17:56:27.681Z"
   },
   {
    "duration": 0,
    "start_time": "2022-05-16T17:56:27.682Z"
   },
   {
    "duration": 0,
    "start_time": "2022-05-16T17:56:27.684Z"
   },
   {
    "duration": 0,
    "start_time": "2022-05-16T17:56:27.685Z"
   },
   {
    "duration": 0,
    "start_time": "2022-05-16T17:56:27.686Z"
   },
   {
    "duration": 0,
    "start_time": "2022-05-16T17:56:27.688Z"
   },
   {
    "duration": 0,
    "start_time": "2022-05-16T17:56:27.708Z"
   },
   {
    "duration": 0,
    "start_time": "2022-05-16T17:56:27.709Z"
   },
   {
    "duration": 0,
    "start_time": "2022-05-16T17:56:27.711Z"
   },
   {
    "duration": 0,
    "start_time": "2022-05-16T17:56:27.713Z"
   },
   {
    "duration": 0,
    "start_time": "2022-05-16T17:56:27.717Z"
   },
   {
    "duration": 0,
    "start_time": "2022-05-16T17:56:27.718Z"
   },
   {
    "duration": 0,
    "start_time": "2022-05-16T17:56:27.719Z"
   },
   {
    "duration": 0,
    "start_time": "2022-05-16T17:56:27.721Z"
   },
   {
    "duration": 0,
    "start_time": "2022-05-16T17:56:27.722Z"
   },
   {
    "duration": 0,
    "start_time": "2022-05-16T17:56:27.724Z"
   },
   {
    "duration": 1,
    "start_time": "2022-05-16T17:56:27.725Z"
   },
   {
    "duration": 0,
    "start_time": "2022-05-16T17:56:27.727Z"
   },
   {
    "duration": 0,
    "start_time": "2022-05-16T17:56:27.729Z"
   },
   {
    "duration": 0,
    "start_time": "2022-05-16T17:56:27.730Z"
   },
   {
    "duration": 0,
    "start_time": "2022-05-16T17:56:27.731Z"
   },
   {
    "duration": 0,
    "start_time": "2022-05-16T17:56:27.733Z"
   },
   {
    "duration": 0,
    "start_time": "2022-05-16T17:56:27.734Z"
   },
   {
    "duration": 0,
    "start_time": "2022-05-16T17:56:27.736Z"
   },
   {
    "duration": 0,
    "start_time": "2022-05-16T17:56:27.737Z"
   },
   {
    "duration": 0,
    "start_time": "2022-05-16T17:56:27.739Z"
   },
   {
    "duration": 0,
    "start_time": "2022-05-16T17:56:27.740Z"
   },
   {
    "duration": 0,
    "start_time": "2022-05-16T17:56:27.741Z"
   },
   {
    "duration": 0,
    "start_time": "2022-05-16T17:56:27.743Z"
   },
   {
    "duration": 0,
    "start_time": "2022-05-16T17:56:27.744Z"
   },
   {
    "duration": 0,
    "start_time": "2022-05-16T17:56:27.781Z"
   },
   {
    "duration": 0,
    "start_time": "2022-05-16T17:56:27.782Z"
   },
   {
    "duration": 0,
    "start_time": "2022-05-16T17:56:27.783Z"
   },
   {
    "duration": 0,
    "start_time": "2022-05-16T17:56:27.800Z"
   },
   {
    "duration": 0,
    "start_time": "2022-05-16T17:56:27.801Z"
   },
   {
    "duration": 0,
    "start_time": "2022-05-16T17:56:27.803Z"
   },
   {
    "duration": 0,
    "start_time": "2022-05-16T17:56:27.804Z"
   },
   {
    "duration": 0,
    "start_time": "2022-05-16T17:56:27.806Z"
   },
   {
    "duration": 0,
    "start_time": "2022-05-16T17:56:27.807Z"
   },
   {
    "duration": 0,
    "start_time": "2022-05-16T17:56:27.811Z"
   },
   {
    "duration": 0,
    "start_time": "2022-05-16T17:56:27.813Z"
   },
   {
    "duration": 0,
    "start_time": "2022-05-16T17:56:27.817Z"
   },
   {
    "duration": 0,
    "start_time": "2022-05-16T17:56:27.819Z"
   },
   {
    "duration": 186,
    "start_time": "2022-05-16T17:56:27.823Z"
   },
   {
    "duration": 0,
    "start_time": "2022-05-16T17:56:28.011Z"
   },
   {
    "duration": 0,
    "start_time": "2022-05-16T17:56:28.013Z"
   },
   {
    "duration": 0,
    "start_time": "2022-05-16T17:56:28.014Z"
   },
   {
    "duration": 0,
    "start_time": "2022-05-16T17:56:28.016Z"
   },
   {
    "duration": 0,
    "start_time": "2022-05-16T17:56:28.018Z"
   },
   {
    "duration": 0,
    "start_time": "2022-05-16T17:56:28.019Z"
   },
   {
    "duration": 214,
    "start_time": "2022-05-16T17:56:54.646Z"
   },
   {
    "duration": 1923,
    "start_time": "2022-05-16T17:57:16.286Z"
   },
   {
    "duration": 628,
    "start_time": "2022-05-16T17:57:18.217Z"
   },
   {
    "duration": 1785,
    "start_time": "2022-05-16T17:57:27.817Z"
   },
   {
    "duration": 613,
    "start_time": "2022-05-16T17:57:29.605Z"
   },
   {
    "duration": 25,
    "start_time": "2022-05-16T17:57:33.309Z"
   },
   {
    "duration": 10,
    "start_time": "2022-05-16T17:57:33.823Z"
   },
   {
    "duration": 16,
    "start_time": "2022-05-16T17:57:34.235Z"
   },
   {
    "duration": 6,
    "start_time": "2022-05-16T17:57:34.817Z"
   },
   {
    "duration": 8,
    "start_time": "2022-05-16T17:57:35.009Z"
   },
   {
    "duration": 16,
    "start_time": "2022-05-16T17:57:35.350Z"
   },
   {
    "duration": 11,
    "start_time": "2022-05-16T17:57:36.527Z"
   },
   {
    "duration": 30,
    "start_time": "2022-05-16T17:57:36.883Z"
   },
   {
    "duration": 27,
    "start_time": "2022-05-16T17:57:38.020Z"
   },
   {
    "duration": 28,
    "start_time": "2022-05-16T17:57:38.188Z"
   },
   {
    "duration": 39,
    "start_time": "2022-05-16T17:57:38.805Z"
   },
   {
    "duration": 33,
    "start_time": "2022-05-16T17:57:38.997Z"
   },
   {
    "duration": 17,
    "start_time": "2022-05-16T17:57:39.756Z"
   },
   {
    "duration": 156,
    "start_time": "2022-05-16T17:57:47.319Z"
   },
   {
    "duration": 1637,
    "start_time": "2022-05-16T17:58:04.029Z"
   },
   {
    "duration": 633,
    "start_time": "2022-05-16T17:58:05.669Z"
   },
   {
    "duration": 30,
    "start_time": "2022-05-16T17:58:06.306Z"
   },
   {
    "duration": 8,
    "start_time": "2022-05-16T17:58:06.341Z"
   },
   {
    "duration": 50,
    "start_time": "2022-05-16T17:58:06.351Z"
   },
   {
    "duration": 27,
    "start_time": "2022-05-16T17:58:06.404Z"
   },
   {
    "duration": 10,
    "start_time": "2022-05-16T17:58:06.434Z"
   },
   {
    "duration": 18,
    "start_time": "2022-05-16T17:58:06.446Z"
   },
   {
    "duration": 18,
    "start_time": "2022-05-16T17:58:06.466Z"
   },
   {
    "duration": 51,
    "start_time": "2022-05-16T17:58:06.492Z"
   },
   {
    "duration": 27,
    "start_time": "2022-05-16T17:58:06.545Z"
   },
   {
    "duration": 26,
    "start_time": "2022-05-16T17:58:06.574Z"
   },
   {
    "duration": 50,
    "start_time": "2022-05-16T17:58:06.605Z"
   },
   {
    "duration": 22,
    "start_time": "2022-05-16T17:58:06.658Z"
   },
   {
    "duration": 20,
    "start_time": "2022-05-16T17:58:06.698Z"
   },
   {
    "duration": 44,
    "start_time": "2022-05-16T17:58:06.720Z"
   },
   {
    "duration": 52,
    "start_time": "2022-05-16T17:58:06.766Z"
   },
   {
    "duration": 497,
    "start_time": "2022-05-16T17:58:06.821Z"
   },
   {
    "duration": 10,
    "start_time": "2022-05-16T17:58:07.321Z"
   },
   {
    "duration": 32,
    "start_time": "2022-05-16T17:58:07.334Z"
   },
   {
    "duration": 40,
    "start_time": "2022-05-16T17:58:07.368Z"
   },
   {
    "duration": 60,
    "start_time": "2022-05-16T17:58:07.411Z"
   },
   {
    "duration": 67,
    "start_time": "2022-05-16T17:58:07.473Z"
   },
   {
    "duration": 467,
    "start_time": "2022-05-16T17:58:07.543Z"
   },
   {
    "duration": 10,
    "start_time": "2022-05-16T17:58:08.012Z"
   },
   {
    "duration": 33,
    "start_time": "2022-05-16T17:58:08.024Z"
   },
   {
    "duration": 272,
    "start_time": "2022-05-16T17:58:08.059Z"
   },
   {
    "duration": 64,
    "start_time": "2022-05-16T17:58:08.337Z"
   },
   {
    "duration": 46,
    "start_time": "2022-05-16T17:58:08.406Z"
   },
   {
    "duration": 41,
    "start_time": "2022-05-16T17:58:08.454Z"
   },
   {
    "duration": 126,
    "start_time": "2022-05-16T17:58:08.498Z"
   },
   {
    "duration": 45,
    "start_time": "2022-05-16T17:58:08.627Z"
   },
   {
    "duration": 53,
    "start_time": "2022-05-16T17:58:08.674Z"
   },
   {
    "duration": 6,
    "start_time": "2022-05-16T17:58:08.729Z"
   },
   {
    "duration": 25,
    "start_time": "2022-05-16T17:58:08.737Z"
   },
   {
    "duration": 32,
    "start_time": "2022-05-16T17:58:08.764Z"
   },
   {
    "duration": 30,
    "start_time": "2022-05-16T17:58:08.803Z"
   },
   {
    "duration": 17,
    "start_time": "2022-05-16T17:58:08.835Z"
   },
   {
    "duration": 47,
    "start_time": "2022-05-16T17:58:08.854Z"
   },
   {
    "duration": 6,
    "start_time": "2022-05-16T17:58:08.903Z"
   },
   {
    "duration": 34,
    "start_time": "2022-05-16T17:58:08.911Z"
   },
   {
    "duration": 421,
    "start_time": "2022-05-16T17:58:08.948Z"
   },
   {
    "duration": 276,
    "start_time": "2022-05-16T17:58:09.371Z"
   },
   {
    "duration": 43,
    "start_time": "2022-05-16T17:58:09.650Z"
   },
   {
    "duration": 47,
    "start_time": "2022-05-16T17:58:09.695Z"
   },
   {
    "duration": 1485,
    "start_time": "2022-05-16T17:58:09.745Z"
   },
   {
    "duration": 2695,
    "start_time": "2022-05-16T17:58:11.233Z"
   },
   {
    "duration": 18,
    "start_time": "2022-05-16T17:58:13.931Z"
   },
   {
    "duration": 12,
    "start_time": "2022-05-16T17:58:13.951Z"
   },
   {
    "duration": 14,
    "start_time": "2022-05-16T17:58:13.994Z"
   },
   {
    "duration": 34,
    "start_time": "2022-05-16T17:58:14.010Z"
   },
   {
    "duration": 38,
    "start_time": "2022-05-16T17:58:14.047Z"
   },
   {
    "duration": 1563,
    "start_time": "2022-05-17T09:17:09.346Z"
   },
   {
    "duration": 543,
    "start_time": "2022-05-17T09:17:10.912Z"
   },
   {
    "duration": 22,
    "start_time": "2022-05-17T09:17:11.457Z"
   },
   {
    "duration": 9,
    "start_time": "2022-05-17T09:17:11.482Z"
   },
   {
    "duration": 28,
    "start_time": "2022-05-17T09:17:11.492Z"
   },
   {
    "duration": 16,
    "start_time": "2022-05-17T09:17:11.523Z"
   },
   {
    "duration": 12,
    "start_time": "2022-05-17T09:17:11.541Z"
   },
   {
    "duration": 26,
    "start_time": "2022-05-17T09:17:11.555Z"
   },
   {
    "duration": 12,
    "start_time": "2022-05-17T09:17:11.583Z"
   },
   {
    "duration": 16,
    "start_time": "2022-05-17T09:17:11.601Z"
   },
   {
    "duration": 29,
    "start_time": "2022-05-17T09:17:11.620Z"
   },
   {
    "duration": 16,
    "start_time": "2022-05-17T09:17:11.680Z"
   },
   {
    "duration": 38,
    "start_time": "2022-05-17T09:17:11.699Z"
   },
   {
    "duration": 41,
    "start_time": "2022-05-17T09:17:11.740Z"
   },
   {
    "duration": 18,
    "start_time": "2022-05-17T09:17:11.783Z"
   },
   {
    "duration": 33,
    "start_time": "2022-05-17T09:17:11.803Z"
   },
   {
    "duration": 61,
    "start_time": "2022-05-17T09:17:11.838Z"
   },
   {
    "duration": 419,
    "start_time": "2022-05-17T09:17:11.902Z"
   },
   {
    "duration": 6,
    "start_time": "2022-05-17T09:17:12.323Z"
   },
   {
    "duration": 48,
    "start_time": "2022-05-17T09:17:12.331Z"
   },
   {
    "duration": 18,
    "start_time": "2022-05-17T09:17:12.382Z"
   },
   {
    "duration": 36,
    "start_time": "2022-05-17T09:17:12.403Z"
   },
   {
    "duration": 72,
    "start_time": "2022-05-17T09:17:12.441Z"
   },
   {
    "duration": 391,
    "start_time": "2022-05-17T09:17:12.515Z"
   },
   {
    "duration": 6,
    "start_time": "2022-05-17T09:17:12.908Z"
   },
   {
    "duration": 31,
    "start_time": "2022-05-17T09:17:12.916Z"
   },
   {
    "duration": 237,
    "start_time": "2022-05-17T09:17:12.949Z"
   },
   {
    "duration": 47,
    "start_time": "2022-05-17T09:17:13.191Z"
   },
   {
    "duration": 50,
    "start_time": "2022-05-17T09:17:13.240Z"
   },
   {
    "duration": 25,
    "start_time": "2022-05-17T09:17:13.292Z"
   },
   {
    "duration": 127,
    "start_time": "2022-05-17T09:17:13.319Z"
   },
   {
    "duration": 55,
    "start_time": "2022-05-17T09:17:13.448Z"
   },
   {
    "duration": 23,
    "start_time": "2022-05-17T09:17:13.506Z"
   },
   {
    "duration": 6,
    "start_time": "2022-05-17T09:17:13.532Z"
   },
   {
    "duration": 56,
    "start_time": "2022-05-17T09:17:13.540Z"
   },
   {
    "duration": 175,
    "start_time": "2022-05-17T09:17:13.598Z"
   },
   {
    "duration": 0,
    "start_time": "2022-05-17T09:17:13.775Z"
   },
   {
    "duration": 0,
    "start_time": "2022-05-17T09:17:13.780Z"
   },
   {
    "duration": 1,
    "start_time": "2022-05-17T09:17:13.781Z"
   },
   {
    "duration": 0,
    "start_time": "2022-05-17T09:17:13.783Z"
   },
   {
    "duration": 0,
    "start_time": "2022-05-17T09:17:13.784Z"
   },
   {
    "duration": 0,
    "start_time": "2022-05-17T09:17:13.786Z"
   },
   {
    "duration": 0,
    "start_time": "2022-05-17T09:17:13.788Z"
   },
   {
    "duration": 0,
    "start_time": "2022-05-17T09:17:13.789Z"
   },
   {
    "duration": 0,
    "start_time": "2022-05-17T09:17:13.791Z"
   },
   {
    "duration": 0,
    "start_time": "2022-05-17T09:17:13.792Z"
   },
   {
    "duration": 0,
    "start_time": "2022-05-17T09:17:13.794Z"
   },
   {
    "duration": 0,
    "start_time": "2022-05-17T09:17:13.796Z"
   },
   {
    "duration": 0,
    "start_time": "2022-05-17T09:17:13.797Z"
   },
   {
    "duration": 0,
    "start_time": "2022-05-17T09:17:13.799Z"
   },
   {
    "duration": 0,
    "start_time": "2022-05-17T09:17:13.800Z"
   },
   {
    "duration": 0,
    "start_time": "2022-05-17T09:17:13.802Z"
   },
   {
    "duration": 0,
    "start_time": "2022-05-17T09:17:13.804Z"
   },
   {
    "duration": 38,
    "start_time": "2022-05-17T09:17:44.277Z"
   },
   {
    "duration": 43,
    "start_time": "2022-05-17T09:18:15.418Z"
   },
   {
    "duration": 49,
    "start_time": "2022-05-17T09:18:35.951Z"
   },
   {
    "duration": 1637,
    "start_time": "2022-05-17T09:20:31.064Z"
   },
   {
    "duration": 516,
    "start_time": "2022-05-17T09:20:32.703Z"
   },
   {
    "duration": 21,
    "start_time": "2022-05-17T09:20:33.221Z"
   },
   {
    "duration": 9,
    "start_time": "2022-05-17T09:20:33.245Z"
   },
   {
    "duration": 25,
    "start_time": "2022-05-17T09:20:33.256Z"
   },
   {
    "duration": 17,
    "start_time": "2022-05-17T09:20:33.283Z"
   },
   {
    "duration": 16,
    "start_time": "2022-05-17T09:20:33.302Z"
   },
   {
    "duration": 20,
    "start_time": "2022-05-17T09:20:33.320Z"
   },
   {
    "duration": 13,
    "start_time": "2022-05-17T09:20:33.343Z"
   },
   {
    "duration": 15,
    "start_time": "2022-05-17T09:20:33.378Z"
   },
   {
    "duration": 30,
    "start_time": "2022-05-17T09:20:33.396Z"
   },
   {
    "duration": 14,
    "start_time": "2022-05-17T09:20:33.429Z"
   },
   {
    "duration": 63,
    "start_time": "2022-05-17T09:20:33.446Z"
   },
   {
    "duration": 20,
    "start_time": "2022-05-17T09:20:33.512Z"
   },
   {
    "duration": 16,
    "start_time": "2022-05-17T09:20:33.534Z"
   },
   {
    "duration": 29,
    "start_time": "2022-05-17T09:20:33.580Z"
   },
   {
    "duration": 35,
    "start_time": "2022-05-17T09:20:33.612Z"
   },
   {
    "duration": 428,
    "start_time": "2022-05-17T09:20:33.650Z"
   },
   {
    "duration": 7,
    "start_time": "2022-05-17T09:20:34.081Z"
   },
   {
    "duration": 27,
    "start_time": "2022-05-17T09:20:34.091Z"
   },
   {
    "duration": 20,
    "start_time": "2022-05-17T09:20:34.121Z"
   },
   {
    "duration": 35,
    "start_time": "2022-05-17T09:20:34.180Z"
   },
   {
    "duration": 68,
    "start_time": "2022-05-17T09:20:34.217Z"
   },
   {
    "duration": 783,
    "start_time": "2022-05-17T09:20:34.287Z"
   },
   {
    "duration": 7,
    "start_time": "2022-05-17T09:20:35.086Z"
   },
   {
    "duration": 27,
    "start_time": "2022-05-17T09:20:35.095Z"
   },
   {
    "duration": 239,
    "start_time": "2022-05-17T09:20:35.125Z"
   },
   {
    "duration": 50,
    "start_time": "2022-05-17T09:20:35.370Z"
   },
   {
    "duration": 30,
    "start_time": "2022-05-17T09:20:35.422Z"
   },
   {
    "duration": 45,
    "start_time": "2022-05-17T09:20:35.454Z"
   },
   {
    "duration": 120,
    "start_time": "2022-05-17T09:20:35.501Z"
   },
   {
    "duration": 59,
    "start_time": "2022-05-17T09:20:35.623Z"
   },
   {
    "duration": 22,
    "start_time": "2022-05-17T09:20:35.684Z"
   },
   {
    "duration": 5,
    "start_time": "2022-05-17T09:20:35.708Z"
   },
   {
    "duration": 34,
    "start_time": "2022-05-17T09:20:35.715Z"
   },
   {
    "duration": 34,
    "start_time": "2022-05-17T09:20:35.751Z"
   },
   {
    "duration": 31,
    "start_time": "2022-05-17T09:20:35.787Z"
   },
   {
    "duration": 23,
    "start_time": "2022-05-17T09:20:35.820Z"
   },
   {
    "duration": 37,
    "start_time": "2022-05-17T09:20:35.846Z"
   },
   {
    "duration": 5,
    "start_time": "2022-05-17T09:20:35.885Z"
   },
   {
    "duration": 22,
    "start_time": "2022-05-17T09:20:35.892Z"
   },
   {
    "duration": 376,
    "start_time": "2022-05-17T09:20:35.916Z"
   },
   {
    "duration": 258,
    "start_time": "2022-05-17T09:20:36.294Z"
   },
   {
    "duration": 45,
    "start_time": "2022-05-17T09:20:36.554Z"
   },
   {
    "duration": 22,
    "start_time": "2022-05-17T09:20:36.601Z"
   },
   {
    "duration": 1424,
    "start_time": "2022-05-17T09:20:36.626Z"
   },
   {
    "duration": 2578,
    "start_time": "2022-05-17T09:20:38.052Z"
   },
   {
    "duration": 19,
    "start_time": "2022-05-17T09:20:40.632Z"
   },
   {
    "duration": 32,
    "start_time": "2022-05-17T09:20:40.653Z"
   },
   {
    "duration": 13,
    "start_time": "2022-05-17T09:20:40.688Z"
   },
   {
    "duration": 25,
    "start_time": "2022-05-17T09:20:40.703Z"
   },
   {
    "duration": 21,
    "start_time": "2022-05-17T09:20:40.731Z"
   },
   {
    "duration": 1482,
    "start_time": "2022-05-17T09:21:51.323Z"
   },
   {
    "duration": 620,
    "start_time": "2022-05-17T09:21:52.809Z"
   },
   {
    "duration": 23,
    "start_time": "2022-05-17T09:21:53.431Z"
   },
   {
    "duration": 8,
    "start_time": "2022-05-17T09:21:53.457Z"
   },
   {
    "duration": 22,
    "start_time": "2022-05-17T09:21:53.467Z"
   },
   {
    "duration": 5,
    "start_time": "2022-05-17T09:21:53.492Z"
   },
   {
    "duration": 10,
    "start_time": "2022-05-17T09:21:53.500Z"
   },
   {
    "duration": 19,
    "start_time": "2022-05-17T09:21:53.512Z"
   },
   {
    "duration": 13,
    "start_time": "2022-05-17T09:21:53.534Z"
   },
   {
    "duration": 16,
    "start_time": "2022-05-17T09:21:53.579Z"
   },
   {
    "duration": 26,
    "start_time": "2022-05-17T09:21:53.597Z"
   },
   {
    "duration": 14,
    "start_time": "2022-05-17T09:21:53.625Z"
   },
   {
    "duration": 63,
    "start_time": "2022-05-17T09:21:53.641Z"
   },
   {
    "duration": 24,
    "start_time": "2022-05-17T09:21:53.706Z"
   },
   {
    "duration": 16,
    "start_time": "2022-05-17T09:21:53.733Z"
   },
   {
    "duration": 28,
    "start_time": "2022-05-17T09:21:53.779Z"
   },
   {
    "duration": 37,
    "start_time": "2022-05-17T09:21:53.809Z"
   },
   {
    "duration": 486,
    "start_time": "2022-05-17T09:21:53.848Z"
   },
   {
    "duration": 8,
    "start_time": "2022-05-17T09:21:54.337Z"
   },
   {
    "duration": 56,
    "start_time": "2022-05-17T09:21:54.348Z"
   },
   {
    "duration": 25,
    "start_time": "2022-05-17T09:21:54.407Z"
   },
   {
    "duration": 80,
    "start_time": "2022-05-17T09:21:54.435Z"
   },
   {
    "duration": 68,
    "start_time": "2022-05-17T09:21:54.518Z"
   },
   {
    "duration": 395,
    "start_time": "2022-05-17T09:21:54.588Z"
   },
   {
    "duration": 7,
    "start_time": "2022-05-17T09:21:54.985Z"
   },
   {
    "duration": 28,
    "start_time": "2022-05-17T09:21:54.994Z"
   },
   {
    "duration": 238,
    "start_time": "2022-05-17T09:21:55.024Z"
   },
   {
    "duration": 51,
    "start_time": "2022-05-17T09:21:55.268Z"
   },
   {
    "duration": 58,
    "start_time": "2022-05-17T09:21:55.321Z"
   },
   {
    "duration": 26,
    "start_time": "2022-05-17T09:21:55.382Z"
   },
   {
    "duration": 122,
    "start_time": "2022-05-17T09:21:55.411Z"
   },
   {
    "duration": 53,
    "start_time": "2022-05-17T09:21:55.535Z"
   },
   {
    "duration": 25,
    "start_time": "2022-05-17T09:21:55.590Z"
   },
   {
    "duration": 4,
    "start_time": "2022-05-17T09:21:55.618Z"
   },
   {
    "duration": 66,
    "start_time": "2022-05-17T09:21:55.625Z"
   },
   {
    "duration": 11,
    "start_time": "2022-05-17T09:21:55.692Z"
   },
   {
    "duration": 25,
    "start_time": "2022-05-17T09:21:55.705Z"
   },
   {
    "duration": 17,
    "start_time": "2022-05-17T09:21:55.732Z"
   },
   {
    "duration": 18,
    "start_time": "2022-05-17T09:21:55.780Z"
   },
   {
    "duration": 7,
    "start_time": "2022-05-17T09:21:55.801Z"
   },
   {
    "duration": 19,
    "start_time": "2022-05-17T09:21:55.810Z"
   },
   {
    "duration": 400,
    "start_time": "2022-05-17T09:21:55.832Z"
   },
   {
    "duration": 240,
    "start_time": "2022-05-17T09:21:56.235Z"
   },
   {
    "duration": 35,
    "start_time": "2022-05-17T09:21:56.478Z"
   },
   {
    "duration": 21,
    "start_time": "2022-05-17T09:21:56.515Z"
   },
   {
    "duration": 1450,
    "start_time": "2022-05-17T09:21:56.539Z"
   },
   {
    "duration": 2538,
    "start_time": "2022-05-17T09:21:57.991Z"
   },
   {
    "duration": 19,
    "start_time": "2022-05-17T09:22:00.531Z"
   },
   {
    "duration": 35,
    "start_time": "2022-05-17T09:22:00.552Z"
   },
   {
    "duration": 33,
    "start_time": "2022-05-17T09:22:00.589Z"
   },
   {
    "duration": 25,
    "start_time": "2022-05-17T09:22:00.625Z"
   },
   {
    "duration": 25,
    "start_time": "2022-05-17T09:22:00.652Z"
   }
  ],
  "celltoolbar": "Необработанный формат ячейки",
  "kernelspec": {
   "display_name": "Python 3 (ipykernel)",
   "language": "python",
   "name": "python3"
  },
  "language_info": {
   "codemirror_mode": {
    "name": "ipython",
    "version": 3
   },
   "file_extension": ".py",
   "mimetype": "text/x-python",
   "name": "python",
   "nbconvert_exporter": "python",
   "pygments_lexer": "ipython3",
   "version": "3.9.5"
  },
  "toc": {
   "base_numbering": 1,
   "nav_menu": {
    "height": "12px",
    "width": "163px"
   },
   "number_sections": true,
   "sideBar": true,
   "skip_h1_title": true,
   "title_cell": "Table of Contents",
   "title_sidebar": "Contents",
   "toc_cell": false,
   "toc_position": {
    "height": "calc(100% - 180px)",
    "left": "10px",
    "top": "150px",
    "width": "323.903px"
   },
   "toc_section_display": true,
   "toc_window_display": true
  }
 },
 "nbformat": 4,
 "nbformat_minor": 2
}

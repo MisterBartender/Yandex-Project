{
 "cells": [
  {
   "cell_type": "markdown",
   "metadata": {
    "toc": true
   },
   "source": [
    "<h1>Содержание<span class=\"tocSkip\"></span></h1>\n",
    "<div class=\"toc\"><ul class=\"toc-item\"><li><span><a href=\"#Подготовка-данных\" data-toc-modified-id=\"Подготовка-данных-1\"><span class=\"toc-item-num\">1&nbsp;&nbsp;</span>Подготовка данных</a></span><ul class=\"toc-item\"><li><span><a href=\"#Предобработка-данных\" data-toc-modified-id=\"Предобработка-данных-1.1\"><span class=\"toc-item-num\">1.1&nbsp;&nbsp;</span>Предобработка данных</a></span></li><li><span><a href=\"#Формирование-выборок\" data-toc-modified-id=\"Формирование-выборок-1.2\"><span class=\"toc-item-num\">1.2&nbsp;&nbsp;</span>Формирование выборок</a></span></li></ul></li><li><span><a href=\"#Исследование-задачи\" data-toc-modified-id=\"Исследование-задачи-2\"><span class=\"toc-item-num\">2&nbsp;&nbsp;</span>Исследование задачи</a></span><ul class=\"toc-item\"><li><span><a href=\"#Обучение-моделей\" data-toc-modified-id=\"Обучение-моделей-2.1\"><span class=\"toc-item-num\">2.1&nbsp;&nbsp;</span>Обучение моделей</a></span><ul class=\"toc-item\"><li><span><a href=\"#Модель-Случайного-дерева\" data-toc-modified-id=\"Модель-Случайного-дерева-2.1.1\"><span class=\"toc-item-num\">2.1.1&nbsp;&nbsp;</span>Модель Случайного дерева</a></span></li><li><span><a href=\"#Модель-Случайного-леса\" data-toc-modified-id=\"Модель-Случайного-леса-2.1.2\"><span class=\"toc-item-num\">2.1.2&nbsp;&nbsp;</span>Модель Случайного леса</a></span></li><li><span><a href=\"#Модель-Логической-регрессии\" data-toc-modified-id=\"Модель-Логической-регрессии-2.1.3\"><span class=\"toc-item-num\">2.1.3&nbsp;&nbsp;</span>Модель Логической регрессии</a></span></li></ul></li></ul></li><li><span><a href=\"#Борьба-с-дисбалансом\" data-toc-modified-id=\"Борьба-с-дисбалансом-3\"><span class=\"toc-item-num\">3&nbsp;&nbsp;</span>Борьба с дисбалансом</a></span><ul class=\"toc-item\"><li><span><a href=\"#Обучение-моделей-с-параметром-автоматической-регулировки-весов\" data-toc-modified-id=\"Обучение-моделей-с-параметром-автоматической-регулировки-весов-3.1\"><span class=\"toc-item-num\">3.1&nbsp;&nbsp;</span>Обучение моделей с параметром автоматической регулировки весов</a></span><ul class=\"toc-item\"><li><span><a href=\"#Модель-Случайного-дерева\" data-toc-modified-id=\"Модель-Случайного-дерева-3.1.1\"><span class=\"toc-item-num\">3.1.1&nbsp;&nbsp;</span>Модель Случайного дерева</a></span></li><li><span><a href=\"#Модель-Случайного-леса\" data-toc-modified-id=\"Модель-Случайного-леса-3.1.2\"><span class=\"toc-item-num\">3.1.2&nbsp;&nbsp;</span>Модель Случайного леса</a></span></li><li><span><a href=\"#Модель-Логической-регрессии\" data-toc-modified-id=\"Модель-Логической-регрессии-3.1.3\"><span class=\"toc-item-num\">3.1.3&nbsp;&nbsp;</span>Модель Логической регрессии</a></span></li><li><span><a href=\"#Визулизация-AUC-ROC\" data-toc-modified-id=\"Визулизация-AUC-ROC-3.1.4\"><span class=\"toc-item-num\">3.1.4&nbsp;&nbsp;</span>Визулизация AUC-ROC</a></span></li></ul></li><li><span><a href=\"#Обучение-модели-с-помощью-функции-Upsampling\" data-toc-modified-id=\"Обучение-модели-с-помощью-функции-Upsampling-3.2\"><span class=\"toc-item-num\">3.2&nbsp;&nbsp;</span>Обучение модели с помощью функции Upsampling</a></span><ul class=\"toc-item\"><li><span><a href=\"#Модель-Случайного-дерева\" data-toc-modified-id=\"Модель-Случайного-дерева-3.2.1\"><span class=\"toc-item-num\">3.2.1&nbsp;&nbsp;</span>Модель Случайного дерева</a></span></li><li><span><a href=\"#Модель-Случайного-леса\" data-toc-modified-id=\"Модель-Случайного-леса-3.2.2\"><span class=\"toc-item-num\">3.2.2&nbsp;&nbsp;</span>Модель Случайного леса</a></span></li><li><span><a href=\"#Модель-Логической-регрессии\" data-toc-modified-id=\"Модель-Логической-регрессии-3.2.3\"><span class=\"toc-item-num\">3.2.3&nbsp;&nbsp;</span>Модель Логической регрессии</a></span></li><li><span><a href=\"#Визулизация-AUC-ROC\" data-toc-modified-id=\"Визулизация-AUC-ROC-3.2.4\"><span class=\"toc-item-num\">3.2.4&nbsp;&nbsp;</span>Визулизация AUC-ROC</a></span></li></ul></li></ul></li><li><span><a href=\"#Тестирование-модели\" data-toc-modified-id=\"Тестирование-модели-4\"><span class=\"toc-item-num\">4&nbsp;&nbsp;</span>Тестирование модели</a></span><ul class=\"toc-item\"><li><span><a href=\"#Обучение-финальной-модели\" data-toc-modified-id=\"Обучение-финальной-модели-4.1\"><span class=\"toc-item-num\">4.1&nbsp;&nbsp;</span>Обучение финальной модели</a></span></li><li><span><a href=\"#Проверка-на-адекватность\" data-toc-modified-id=\"Проверка-на-адекватность-4.2\"><span class=\"toc-item-num\">4.2&nbsp;&nbsp;</span>Проверка на адекватность</a></span></li><li><span><a href=\"#Тестирование-модели\" data-toc-modified-id=\"Тестирование-модели-4.3\"><span class=\"toc-item-num\">4.3&nbsp;&nbsp;</span>Тестирование модели</a></span></li></ul></li><li><span><a href=\"#Чек-лист-готовности-проекта\" data-toc-modified-id=\"Чек-лист-готовности-проекта-5\"><span class=\"toc-item-num\">5&nbsp;&nbsp;</span>Чек-лист готовности проекта</a></span></li></ul></div>"
   ]
  },
  {
   "cell_type": "markdown",
   "metadata": {},
   "source": [
    "# Отток клиентов"
   ]
  },
  {
   "cell_type": "markdown",
   "metadata": {},
   "source": [
    "Из «Бета-Банка» стали уходить клиенты. Каждый месяц. Немного, но заметно. Банковские маркетологи посчитали: сохранять текущих клиентов дешевле, чем привлекать новых.\n",
    "\n",
    "Нужно спрогнозировать, уйдёт клиент из банка в ближайшее время или нет. Вам предоставлены исторические данные о поведении клиентов и расторжении договоров с банком. \n",
    "\n",
    "Постройте модель с предельно большим значением *F1*-меры. Чтобы сдать проект успешно, нужно довести метрику до 0.59. Проверьте *F1*-меру на тестовой выборке самостоятельно.\n",
    "\n",
    "Дополнительно измеряйте *AUC-ROC*, сравнивайте её значение с *F1*-мерой.\n",
    "\n",
    "**Описание данных**\n",
    "\n",
    "Данные находятся в файле /datasets/Churn.csv\n",
    "\n",
    "**Признаки**\n",
    "- RowNumber — индекс строки в данных\n",
    "- CustomerId — уникальный идентификатор клиента\n",
    "- Surname — фамилия\n",
    "- CreditScore — кредитный рейтинг\n",
    "- Geography — страна проживания\n",
    "- Gender — пол\n",
    "- Age — возраст\n",
    "- Tenure — сколько лет человек является клиентом банка\n",
    "- Balance — баланс на счёте\n",
    "- NumOfProducts — количество продуктов банка, используемых клиентом\n",
    "- HasCrCard — наличие кредитной карты\n",
    "- IsActiveMember — активность клиента\n",
    "- EstimatedSalary — предполагаемая зарплата\n",
    "\n",
    "**Целевой признак**\n",
    "- Exited — факт ухода клиента\n",
    "\n",
    "**План работы**\n",
    "\n",
    "[1.  Подготовка данных](#section1)\n",
    "\n",
    "- [Предобработка данных](#section1.1)\n",
    "\n",
    "- [Формирование выборок](#section1.2)\n",
    "\n",
    "[2.  Исследование задачи](#section2)[ и последующее обучение моделей](#section2.1)\n",
    "\n",
    "  - [Модель Случайного дерева](#section2.1.1)\n",
    "  \n",
    "  - [Модель Случайного леса](#section2.1.2)\n",
    "  \n",
    "  - [Модель Логической регрессии](#section2.1.3)\n",
    "\n",
    "[3.  Борьба с дисбалансом](#section3)\n",
    "\n",
    "[3.1 Обучение моделей с параметром автоматической регулировки весов](#section3.1)\n",
    "\n",
    "  - [Модель Случайного дерева](#section3.1.1)\n",
    "  \n",
    "  - [Модель Случайного леса](#section3.1.2)\n",
    "  \n",
    "  - [Модель Логической регрессии](#section3.1.3)\n",
    "  \n",
    "  - [Визулизация AUC-ROC](#section3.1.4)\n",
    "\n",
    "[3.2 Обучение модели с помощью функции Upsampling](#section3.2)\n",
    "\n",
    "  - [Модель Случайного дерева](#section3.2.1)\n",
    "  \n",
    "  - [Модель Случайного леса](#section3.2.2)\n",
    "  \n",
    "  - [Модель Логической регрессии](#section3.2.3)\n",
    "  \n",
    "  - [Визулизация AUC-ROC](#section3.2.4)\n",
    "\n",
    "[4.  Тестирование модели](#section4)\n",
    "\n",
    "- [Обучение финальной модели](#section4.1)\n",
    "\n",
    "- [Проверка на адекватность](#section4.2)\n",
    "\n",
    "- [Тестирование модели](#section4.3)\n",
    "\n",
    "\n",
    "Источник данных: [https://www.kaggle.com/barelydedicated/bank-customer-churn-modeling](https://www.kaggle.com/barelydedicated/bank-customer-churn-modeling)\n"
   ]
  },
  {
   "cell_type": "markdown",
   "metadata": {},
   "source": [
    "<a id='section1'></a>\n",
    "## Подготовка данных"
   ]
  },
  {
   "cell_type": "code",
   "execution_count": 1,
   "metadata": {},
   "outputs": [],
   "source": [
    "# добавляем необходимы библиотеки для работы\n",
    "import pandas as pd\n",
    "import matplotlib.pyplot as plt\n",
    "from sklearn.tree import DecisionTreeClassifier\n",
    "from sklearn.ensemble import RandomForestClassifier\n",
    "from sklearn.linear_model import LogisticRegression\n",
    "from sklearn.model_selection import train_test_split\n",
    "from sklearn.preprocessing import StandardScaler\n",
    "from sklearn.utils import shuffle\n",
    "from sklearn.metrics import accuracy_score, precision_score, recall_score, roc_auc_score, roc_curve, f1_score"
   ]
  },
  {
   "cell_type": "code",
   "execution_count": 2,
   "metadata": {},
   "outputs": [
    {
     "data": {
      "text/html": [
       "<div>\n",
       "<style scoped>\n",
       "    .dataframe tbody tr th:only-of-type {\n",
       "        vertical-align: middle;\n",
       "    }\n",
       "\n",
       "    .dataframe tbody tr th {\n",
       "        vertical-align: top;\n",
       "    }\n",
       "\n",
       "    .dataframe thead th {\n",
       "        text-align: right;\n",
       "    }\n",
       "</style>\n",
       "<table border=\"1\" class=\"dataframe\">\n",
       "  <thead>\n",
       "    <tr style=\"text-align: right;\">\n",
       "      <th></th>\n",
       "      <th>RowNumber</th>\n",
       "      <th>CustomerId</th>\n",
       "      <th>Surname</th>\n",
       "      <th>CreditScore</th>\n",
       "      <th>Geography</th>\n",
       "      <th>Gender</th>\n",
       "      <th>Age</th>\n",
       "      <th>Tenure</th>\n",
       "      <th>Balance</th>\n",
       "      <th>NumOfProducts</th>\n",
       "      <th>HasCrCard</th>\n",
       "      <th>IsActiveMember</th>\n",
       "      <th>EstimatedSalary</th>\n",
       "      <th>Exited</th>\n",
       "    </tr>\n",
       "  </thead>\n",
       "  <tbody>\n",
       "    <tr>\n",
       "      <th>0</th>\n",
       "      <td>1</td>\n",
       "      <td>15634602</td>\n",
       "      <td>Hargrave</td>\n",
       "      <td>619</td>\n",
       "      <td>France</td>\n",
       "      <td>Female</td>\n",
       "      <td>42</td>\n",
       "      <td>2.0</td>\n",
       "      <td>0.00</td>\n",
       "      <td>1</td>\n",
       "      <td>1</td>\n",
       "      <td>1</td>\n",
       "      <td>101348.88</td>\n",
       "      <td>1</td>\n",
       "    </tr>\n",
       "    <tr>\n",
       "      <th>1</th>\n",
       "      <td>2</td>\n",
       "      <td>15647311</td>\n",
       "      <td>Hill</td>\n",
       "      <td>608</td>\n",
       "      <td>Spain</td>\n",
       "      <td>Female</td>\n",
       "      <td>41</td>\n",
       "      <td>1.0</td>\n",
       "      <td>83807.86</td>\n",
       "      <td>1</td>\n",
       "      <td>0</td>\n",
       "      <td>1</td>\n",
       "      <td>112542.58</td>\n",
       "      <td>0</td>\n",
       "    </tr>\n",
       "    <tr>\n",
       "      <th>2</th>\n",
       "      <td>3</td>\n",
       "      <td>15619304</td>\n",
       "      <td>Onio</td>\n",
       "      <td>502</td>\n",
       "      <td>France</td>\n",
       "      <td>Female</td>\n",
       "      <td>42</td>\n",
       "      <td>8.0</td>\n",
       "      <td>159660.80</td>\n",
       "      <td>3</td>\n",
       "      <td>1</td>\n",
       "      <td>0</td>\n",
       "      <td>113931.57</td>\n",
       "      <td>1</td>\n",
       "    </tr>\n",
       "    <tr>\n",
       "      <th>3</th>\n",
       "      <td>4</td>\n",
       "      <td>15701354</td>\n",
       "      <td>Boni</td>\n",
       "      <td>699</td>\n",
       "      <td>France</td>\n",
       "      <td>Female</td>\n",
       "      <td>39</td>\n",
       "      <td>1.0</td>\n",
       "      <td>0.00</td>\n",
       "      <td>2</td>\n",
       "      <td>0</td>\n",
       "      <td>0</td>\n",
       "      <td>93826.63</td>\n",
       "      <td>0</td>\n",
       "    </tr>\n",
       "    <tr>\n",
       "      <th>4</th>\n",
       "      <td>5</td>\n",
       "      <td>15737888</td>\n",
       "      <td>Mitchell</td>\n",
       "      <td>850</td>\n",
       "      <td>Spain</td>\n",
       "      <td>Female</td>\n",
       "      <td>43</td>\n",
       "      <td>2.0</td>\n",
       "      <td>125510.82</td>\n",
       "      <td>1</td>\n",
       "      <td>1</td>\n",
       "      <td>1</td>\n",
       "      <td>79084.10</td>\n",
       "      <td>0</td>\n",
       "    </tr>\n",
       "  </tbody>\n",
       "</table>\n",
       "</div>"
      ],
      "text/plain": [
       "   RowNumber  CustomerId   Surname  CreditScore Geography  Gender  Age  \\\n",
       "0          1    15634602  Hargrave          619    France  Female   42   \n",
       "1          2    15647311      Hill          608     Spain  Female   41   \n",
       "2          3    15619304      Onio          502    France  Female   42   \n",
       "3          4    15701354      Boni          699    France  Female   39   \n",
       "4          5    15737888  Mitchell          850     Spain  Female   43   \n",
       "\n",
       "   Tenure    Balance  NumOfProducts  HasCrCard  IsActiveMember  \\\n",
       "0     2.0       0.00              1          1               1   \n",
       "1     1.0   83807.86              1          0               1   \n",
       "2     8.0  159660.80              3          1               0   \n",
       "3     1.0       0.00              2          0               0   \n",
       "4     2.0  125510.82              1          1               1   \n",
       "\n",
       "   EstimatedSalary  Exited  \n",
       "0        101348.88       1  \n",
       "1        112542.58       0  \n",
       "2        113931.57       1  \n",
       "3         93826.63       0  \n",
       "4         79084.10       0  "
      ]
     },
     "execution_count": 2,
     "metadata": {},
     "output_type": "execute_result"
    }
   ],
   "source": [
    "df = pd.read_csv('/datasets/Churn.csv')\n",
    "df.head()"
   ]
  },
  {
   "cell_type": "code",
   "execution_count": 3,
   "metadata": {},
   "outputs": [
    {
     "name": "stdout",
     "output_type": "stream",
     "text": [
      "<class 'pandas.core.frame.DataFrame'>\n",
      "RangeIndex: 10000 entries, 0 to 9999\n",
      "Data columns (total 14 columns):\n",
      " #   Column           Non-Null Count  Dtype  \n",
      "---  ------           --------------  -----  \n",
      " 0   RowNumber        10000 non-null  int64  \n",
      " 1   CustomerId       10000 non-null  int64  \n",
      " 2   Surname          10000 non-null  object \n",
      " 3   CreditScore      10000 non-null  int64  \n",
      " 4   Geography        10000 non-null  object \n",
      " 5   Gender           10000 non-null  object \n",
      " 6   Age              10000 non-null  int64  \n",
      " 7   Tenure           9091 non-null   float64\n",
      " 8   Balance          10000 non-null  float64\n",
      " 9   NumOfProducts    10000 non-null  int64  \n",
      " 10  HasCrCard        10000 non-null  int64  \n",
      " 11  IsActiveMember   10000 non-null  int64  \n",
      " 12  EstimatedSalary  10000 non-null  float64\n",
      " 13  Exited           10000 non-null  int64  \n",
      "dtypes: float64(3), int64(8), object(3)\n",
      "memory usage: 1.1+ MB\n"
     ]
    }
   ],
   "source": [
    "df.info()"
   ]
  },
  {
   "cell_type": "code",
   "execution_count": 4,
   "metadata": {},
   "outputs": [
    {
     "data": {
      "text/html": [
       "<div>\n",
       "<style scoped>\n",
       "    .dataframe tbody tr th:only-of-type {\n",
       "        vertical-align: middle;\n",
       "    }\n",
       "\n",
       "    .dataframe tbody tr th {\n",
       "        vertical-align: top;\n",
       "    }\n",
       "\n",
       "    .dataframe thead th {\n",
       "        text-align: right;\n",
       "    }\n",
       "</style>\n",
       "<table border=\"1\" class=\"dataframe\">\n",
       "  <thead>\n",
       "    <tr style=\"text-align: right;\">\n",
       "      <th></th>\n",
       "      <th>RowNumber</th>\n",
       "      <th>CustomerId</th>\n",
       "      <th>Surname</th>\n",
       "      <th>CreditScore</th>\n",
       "      <th>Geography</th>\n",
       "      <th>Gender</th>\n",
       "      <th>Age</th>\n",
       "      <th>Tenure</th>\n",
       "      <th>Balance</th>\n",
       "      <th>NumOfProducts</th>\n",
       "      <th>HasCrCard</th>\n",
       "      <th>IsActiveMember</th>\n",
       "      <th>EstimatedSalary</th>\n",
       "      <th>Exited</th>\n",
       "    </tr>\n",
       "  </thead>\n",
       "  <tbody>\n",
       "    <tr>\n",
       "      <th>173</th>\n",
       "      <td>174</td>\n",
       "      <td>15586310</td>\n",
       "      <td>Ting</td>\n",
       "      <td>578</td>\n",
       "      <td>France</td>\n",
       "      <td>Male</td>\n",
       "      <td>30</td>\n",
       "      <td>NaN</td>\n",
       "      <td>169462.09</td>\n",
       "      <td>1</td>\n",
       "      <td>1</td>\n",
       "      <td>0</td>\n",
       "      <td>112187.11</td>\n",
       "      <td>0</td>\n",
       "    </tr>\n",
       "    <tr>\n",
       "      <th>1443</th>\n",
       "      <td>1444</td>\n",
       "      <td>15598751</td>\n",
       "      <td>Ingram</td>\n",
       "      <td>556</td>\n",
       "      <td>France</td>\n",
       "      <td>Female</td>\n",
       "      <td>43</td>\n",
       "      <td>NaN</td>\n",
       "      <td>0.00</td>\n",
       "      <td>3</td>\n",
       "      <td>0</td>\n",
       "      <td>0</td>\n",
       "      <td>125154.57</td>\n",
       "      <td>1</td>\n",
       "    </tr>\n",
       "    <tr>\n",
       "      <th>5487</th>\n",
       "      <td>5488</td>\n",
       "      <td>15799790</td>\n",
       "      <td>Carter</td>\n",
       "      <td>763</td>\n",
       "      <td>France</td>\n",
       "      <td>Male</td>\n",
       "      <td>35</td>\n",
       "      <td>NaN</td>\n",
       "      <td>0.00</td>\n",
       "      <td>1</td>\n",
       "      <td>1</td>\n",
       "      <td>1</td>\n",
       "      <td>31372.91</td>\n",
       "      <td>0</td>\n",
       "    </tr>\n",
       "    <tr>\n",
       "      <th>9187</th>\n",
       "      <td>9188</td>\n",
       "      <td>15628863</td>\n",
       "      <td>Calabresi</td>\n",
       "      <td>601</td>\n",
       "      <td>France</td>\n",
       "      <td>Male</td>\n",
       "      <td>38</td>\n",
       "      <td>NaN</td>\n",
       "      <td>60013.81</td>\n",
       "      <td>1</td>\n",
       "      <td>1</td>\n",
       "      <td>1</td>\n",
       "      <td>38020.05</td>\n",
       "      <td>0</td>\n",
       "    </tr>\n",
       "    <tr>\n",
       "      <th>7122</th>\n",
       "      <td>7123</td>\n",
       "      <td>15815443</td>\n",
       "      <td>Lo</td>\n",
       "      <td>527</td>\n",
       "      <td>Spain</td>\n",
       "      <td>Female</td>\n",
       "      <td>46</td>\n",
       "      <td>NaN</td>\n",
       "      <td>131414.76</td>\n",
       "      <td>1</td>\n",
       "      <td>1</td>\n",
       "      <td>0</td>\n",
       "      <td>54947.51</td>\n",
       "      <td>0</td>\n",
       "    </tr>\n",
       "    <tr>\n",
       "      <th>9082</th>\n",
       "      <td>9083</td>\n",
       "      <td>15753161</td>\n",
       "      <td>Dickson</td>\n",
       "      <td>768</td>\n",
       "      <td>France</td>\n",
       "      <td>Female</td>\n",
       "      <td>36</td>\n",
       "      <td>NaN</td>\n",
       "      <td>180169.44</td>\n",
       "      <td>2</td>\n",
       "      <td>1</td>\n",
       "      <td>0</td>\n",
       "      <td>17348.56</td>\n",
       "      <td>0</td>\n",
       "    </tr>\n",
       "    <tr>\n",
       "      <th>4080</th>\n",
       "      <td>4081</td>\n",
       "      <td>15812262</td>\n",
       "      <td>Gaffney</td>\n",
       "      <td>808</td>\n",
       "      <td>Germany</td>\n",
       "      <td>Female</td>\n",
       "      <td>37</td>\n",
       "      <td>NaN</td>\n",
       "      <td>100431.84</td>\n",
       "      <td>1</td>\n",
       "      <td>1</td>\n",
       "      <td>0</td>\n",
       "      <td>35140.49</td>\n",
       "      <td>1</td>\n",
       "    </tr>\n",
       "    <tr>\n",
       "      <th>3623</th>\n",
       "      <td>3624</td>\n",
       "      <td>15627162</td>\n",
       "      <td>Blesing</td>\n",
       "      <td>695</td>\n",
       "      <td>Germany</td>\n",
       "      <td>Male</td>\n",
       "      <td>27</td>\n",
       "      <td>NaN</td>\n",
       "      <td>125552.96</td>\n",
       "      <td>1</td>\n",
       "      <td>1</td>\n",
       "      <td>0</td>\n",
       "      <td>105291.26</td>\n",
       "      <td>0</td>\n",
       "    </tr>\n",
       "    <tr>\n",
       "      <th>738</th>\n",
       "      <td>739</td>\n",
       "      <td>15661036</td>\n",
       "      <td>Davis</td>\n",
       "      <td>725</td>\n",
       "      <td>France</td>\n",
       "      <td>Male</td>\n",
       "      <td>46</td>\n",
       "      <td>NaN</td>\n",
       "      <td>0.00</td>\n",
       "      <td>2</td>\n",
       "      <td>1</td>\n",
       "      <td>0</td>\n",
       "      <td>161767.38</td>\n",
       "      <td>0</td>\n",
       "    </tr>\n",
       "    <tr>\n",
       "      <th>6472</th>\n",
       "      <td>6473</td>\n",
       "      <td>15588419</td>\n",
       "      <td>Johnston</td>\n",
       "      <td>651</td>\n",
       "      <td>Germany</td>\n",
       "      <td>Female</td>\n",
       "      <td>34</td>\n",
       "      <td>NaN</td>\n",
       "      <td>148962.46</td>\n",
       "      <td>1</td>\n",
       "      <td>1</td>\n",
       "      <td>0</td>\n",
       "      <td>66389.43</td>\n",
       "      <td>1</td>\n",
       "    </tr>\n",
       "  </tbody>\n",
       "</table>\n",
       "</div>"
      ],
      "text/plain": [
       "      RowNumber  CustomerId    Surname  CreditScore Geography  Gender  Age  \\\n",
       "173         174    15586310       Ting          578    France    Male   30   \n",
       "1443       1444    15598751     Ingram          556    France  Female   43   \n",
       "5487       5488    15799790     Carter          763    France    Male   35   \n",
       "9187       9188    15628863  Calabresi          601    France    Male   38   \n",
       "7122       7123    15815443         Lo          527     Spain  Female   46   \n",
       "9082       9083    15753161    Dickson          768    France  Female   36   \n",
       "4080       4081    15812262    Gaffney          808   Germany  Female   37   \n",
       "3623       3624    15627162    Blesing          695   Germany    Male   27   \n",
       "738         739    15661036      Davis          725    France    Male   46   \n",
       "6472       6473    15588419   Johnston          651   Germany  Female   34   \n",
       "\n",
       "      Tenure    Balance  NumOfProducts  HasCrCard  IsActiveMember  \\\n",
       "173      NaN  169462.09              1          1               0   \n",
       "1443     NaN       0.00              3          0               0   \n",
       "5487     NaN       0.00              1          1               1   \n",
       "9187     NaN   60013.81              1          1               1   \n",
       "7122     NaN  131414.76              1          1               0   \n",
       "9082     NaN  180169.44              2          1               0   \n",
       "4080     NaN  100431.84              1          1               0   \n",
       "3623     NaN  125552.96              1          1               0   \n",
       "738      NaN       0.00              2          1               0   \n",
       "6472     NaN  148962.46              1          1               0   \n",
       "\n",
       "      EstimatedSalary  Exited  \n",
       "173         112187.11       0  \n",
       "1443        125154.57       1  \n",
       "5487         31372.91       0  \n",
       "9187         38020.05       0  \n",
       "7122         54947.51       0  \n",
       "9082         17348.56       0  \n",
       "4080         35140.49       1  \n",
       "3623        105291.26       0  \n",
       "738         161767.38       0  \n",
       "6472         66389.43       1  "
      ]
     },
     "execution_count": 4,
     "metadata": {},
     "output_type": "execute_result"
    }
   ],
   "source": [
    "# посмотрим отдельно на значения с пропусками\n",
    "df[df['Tenure'].isnull() == True].sample(10)"
   ]
  },
  {
   "cell_type": "markdown",
   "metadata": {},
   "source": [
    "Явных взаимосвязей в наличии пропусков нет"
   ]
  },
  {
   "cell_type": "code",
   "execution_count": 5,
   "metadata": {},
   "outputs": [
    {
     "data": {
      "text/plain": [
       "France     0.5014\n",
       "Germany    0.2509\n",
       "Spain      0.2477\n",
       "Name: Geography, dtype: float64"
      ]
     },
     "execution_count": 5,
     "metadata": {},
     "output_type": "execute_result"
    }
   ],
   "source": [
    "# посмотрим на кол-во клиентов из стран\n",
    "df['Geography'].value_counts(normalize=True)"
   ]
  },
  {
   "cell_type": "code",
   "execution_count": 6,
   "metadata": {},
   "outputs": [
    {
     "data": {
      "text/plain": [
       "0    0.7963\n",
       "1    0.2037\n",
       "Name: Exited, dtype: float64"
      ]
     },
     "execution_count": 6,
     "metadata": {},
     "output_type": "execute_result"
    }
   ],
   "source": [
    "# посмотрим на соотношение тех кто остался и кто ушли из банка\n",
    "df['Exited'].value_counts(normalize=True)"
   ]
  },
  {
   "cell_type": "code",
   "execution_count": 7,
   "metadata": {},
   "outputs": [
    {
     "data": {
      "text/plain": [
       "0"
      ]
     },
     "execution_count": 7,
     "metadata": {},
     "output_type": "execute_result"
    }
   ],
   "source": [
    "# проверим данные на явные дубликаты\n",
    "df.duplicated().sum()"
   ]
  },
  {
   "cell_type": "markdown",
   "metadata": {},
   "source": [
    "**Вывод:**\n",
    "- соотношение клиентов которые остались и которые ушли из банка 79.6% против 20.4% - данные довольно несбалансированы\n",
    "- пропуски в столбце Tenure\n",
    "- в выборке представлены клиенты из Франции, Германии и Испании в соотношении 50% - 25% - 25%\n",
    "- признаки в столбцах Geography, Gender - категориальные - необходимо преобразовать\n",
    "- столбец RowNumber - дублирует индекс - можно удалить\n",
    "- столбец CustomerId - уникальный id - так же можно удалить (не несут информацию для будующих моделей)\n",
    "- Surname - имя - не несёт полезную информацию для дальнейшего исследования - так же можно удалить"
   ]
  },
  {
   "cell_type": "markdown",
   "metadata": {},
   "source": [
    "<a id='section1.1'></a>\n",
    "### Предобработка данных"
   ]
  },
  {
   "cell_type": "code",
   "execution_count": 8,
   "metadata": {},
   "outputs": [
    {
     "data": {
      "text/html": [
       "<style  type=\"text/css\" >\n",
       "#T_38c85_row0_col0{\n",
       "            width:  10em;\n",
       "             height:  80%;\n",
       "            background:  linear-gradient(90deg,#d65f5f 90.4%, transparent 90.4%);\n",
       "        }#T_38c85_row1_col0{\n",
       "            width:  10em;\n",
       "             height:  80%;\n",
       "            background:  linear-gradient(90deg,#d65f5f 9.6%, transparent 9.6%);\n",
       "        }#T_38c85_row2_col0{\n",
       "            width:  10em;\n",
       "             height:  80%;\n",
       "            background:  linear-gradient(90deg,#d65f5f 92.2%, transparent 92.2%);\n",
       "        }#T_38c85_row3_col0{\n",
       "            width:  10em;\n",
       "             height:  80%;\n",
       "            background:  linear-gradient(90deg,#d65f5f 7.8%, transparent 7.8%);\n",
       "        }#T_38c85_row4_col0{\n",
       "            width:  10em;\n",
       "             height:  80%;\n",
       "            background:  linear-gradient(90deg,#d65f5f 96.7%, transparent 96.7%);\n",
       "        }#T_38c85_row5_col0{\n",
       "            width:  10em;\n",
       "             height:  80%;\n",
       "            background:  linear-gradient(90deg,#d65f5f 3.3%, transparent 3.3%);\n",
       "        }#T_38c85_row6_col0{\n",
       "            width:  10em;\n",
       "             height:  80%;\n",
       "            background:  linear-gradient(90deg,#d65f5f 93.8%, transparent 93.8%);\n",
       "        }#T_38c85_row7_col0{\n",
       "            width:  10em;\n",
       "             height:  80%;\n",
       "            background:  linear-gradient(90deg,#d65f5f 6.2%, transparent 6.2%);\n",
       "        }#T_38c85_row8_col0{\n",
       "            width:  10em;\n",
       "             height:  80%;\n",
       "            background:  linear-gradient(90deg,#d65f5f 94.7%, transparent 94.7%);\n",
       "        }#T_38c85_row9_col0{\n",
       "            width:  10em;\n",
       "             height:  80%;\n",
       "            background:  linear-gradient(90deg,#d65f5f 5.3%, transparent 5.3%);\n",
       "        }#T_38c85_row10_col0{\n",
       "            width:  10em;\n",
       "             height:  80%;\n",
       "            background:  linear-gradient(90deg,#d65f5f 95.6%, transparent 95.6%);\n",
       "        }#T_38c85_row11_col0{\n",
       "            width:  10em;\n",
       "             height:  80%;\n",
       "            background:  linear-gradient(90deg,#d65f5f 4.4%, transparent 4.4%);\n",
       "        }#T_38c85_row12_col0{\n",
       "            width:  10em;\n",
       "             height:  80%;\n",
       "            background:  linear-gradient(90deg,#d65f5f 95.7%, transparent 95.7%);\n",
       "        }#T_38c85_row13_col0{\n",
       "            width:  10em;\n",
       "             height:  80%;\n",
       "            background:  linear-gradient(90deg,#d65f5f 4.3%, transparent 4.3%);\n",
       "        }#T_38c85_row14_col0{\n",
       "            width:  10em;\n",
       "             height:  80%;\n",
       "            background:  linear-gradient(90deg,#d65f5f 100.0%, transparent 100.0%);\n",
       "        }#T_38c85_row15_col0{\n",
       "            width:  10em;\n",
       "             height:  80%;\n",
       "        }#T_38c85_row16_col0{\n",
       "            width:  10em;\n",
       "             height:  80%;\n",
       "            background:  linear-gradient(90deg,#d65f5f 97.9%, transparent 97.9%);\n",
       "        }#T_38c85_row17_col0{\n",
       "            width:  10em;\n",
       "             height:  80%;\n",
       "            background:  linear-gradient(90deg,#d65f5f 2.1%, transparent 2.1%);\n",
       "        }#T_38c85_row18_col0{\n",
       "            width:  10em;\n",
       "             height:  80%;\n",
       "            background:  linear-gradient(90deg,#d65f5f 92.8%, transparent 92.8%);\n",
       "        }#T_38c85_row19_col0{\n",
       "            width:  10em;\n",
       "             height:  80%;\n",
       "            background:  linear-gradient(90deg,#d65f5f 7.2%, transparent 7.2%);\n",
       "        }#T_38c85_row20_col0{\n",
       "            width:  10em;\n",
       "             height:  80%;\n",
       "            background:  linear-gradient(90deg,#d65f5f 94.9%, transparent 94.9%);\n",
       "        }#T_38c85_row21_col0{\n",
       "            width:  10em;\n",
       "             height:  80%;\n",
       "            background:  linear-gradient(90deg,#d65f5f 5.1%, transparent 5.1%);\n",
       "        }</style><table id=\"T_38c85_\" ><thead>    <tr>        <th class=\"blank\" ></th>        <th class=\"blank level0\" ></th>        <th class=\"col_heading level0 col0\" >ratio</th>    </tr>    <tr>        <th class=\"index_name level0\" >Tenure</th>        <th class=\"index_name level1\" >Exited</th>        <th class=\"blank\" ></th>    </tr></thead><tbody>\n",
       "                <tr>\n",
       "                        <th id=\"T_38c85_level0_row0\" class=\"row_heading level0 row0\" rowspan=\"2\">0.0</th>\n",
       "                        <th id=\"T_38c85_level1_row0\" class=\"row_heading level1 row0\" >0</th>\n",
       "                        <td id=\"T_38c85_row0_col0\" class=\"data row0 col0\" >0.764398</td>\n",
       "            </tr>\n",
       "            <tr>\n",
       "                                <th id=\"T_38c85_level1_row1\" class=\"row_heading level1 row1\" >1</th>\n",
       "                        <td id=\"T_38c85_row1_col0\" class=\"data row1 col0\" >0.235602</td>\n",
       "            </tr>\n",
       "            <tr>\n",
       "                        <th id=\"T_38c85_level0_row2\" class=\"row_heading level0 row2\" rowspan=\"2\">1.0</th>\n",
       "                        <th id=\"T_38c85_level1_row2\" class=\"row_heading level1 row2\" >0</th>\n",
       "                        <td id=\"T_38c85_row2_col0\" class=\"data row2 col0\" >0.776261</td>\n",
       "            </tr>\n",
       "            <tr>\n",
       "                                <th id=\"T_38c85_level1_row3\" class=\"row_heading level1 row3\" >1</th>\n",
       "                        <td id=\"T_38c85_row3_col0\" class=\"data row3 col0\" >0.223739</td>\n",
       "            </tr>\n",
       "            <tr>\n",
       "                        <th id=\"T_38c85_level0_row4\" class=\"row_heading level0 row4\" rowspan=\"2\">2.0</th>\n",
       "                        <th id=\"T_38c85_level1_row4\" class=\"row_heading level1 row4\" >0</th>\n",
       "                        <td id=\"T_38c85_row4_col0\" class=\"data row4 col0\" >0.805263</td>\n",
       "            </tr>\n",
       "            <tr>\n",
       "                                <th id=\"T_38c85_level1_row5\" class=\"row_heading level1 row5\" >1</th>\n",
       "                        <td id=\"T_38c85_row5_col0\" class=\"data row5 col0\" >0.194737</td>\n",
       "            </tr>\n",
       "            <tr>\n",
       "                        <th id=\"T_38c85_level0_row6\" class=\"row_heading level0 row6\" rowspan=\"2\">3.0</th>\n",
       "                        <th id=\"T_38c85_level1_row6\" class=\"row_heading level1 row6\" >0</th>\n",
       "                        <td id=\"T_38c85_row6_col0\" class=\"data row6 col0\" >0.786638</td>\n",
       "            </tr>\n",
       "            <tr>\n",
       "                                <th id=\"T_38c85_level1_row7\" class=\"row_heading level1 row7\" >1</th>\n",
       "                        <td id=\"T_38c85_row7_col0\" class=\"data row7 col0\" >0.213362</td>\n",
       "            </tr>\n",
       "            <tr>\n",
       "                        <th id=\"T_38c85_level0_row8\" class=\"row_heading level0 row8\" rowspan=\"2\">4.0</th>\n",
       "                        <th id=\"T_38c85_level1_row8\" class=\"row_heading level1 row8\" >0</th>\n",
       "                        <td id=\"T_38c85_row8_col0\" class=\"data row8 col0\" >0.792090</td>\n",
       "            </tr>\n",
       "            <tr>\n",
       "                                <th id=\"T_38c85_level1_row9\" class=\"row_heading level1 row9\" >1</th>\n",
       "                        <td id=\"T_38c85_row9_col0\" class=\"data row9 col0\" >0.207910</td>\n",
       "            </tr>\n",
       "            <tr>\n",
       "                        <th id=\"T_38c85_level0_row10\" class=\"row_heading level0 row10\" rowspan=\"2\">5.0</th>\n",
       "                        <th id=\"T_38c85_level1_row10\" class=\"row_heading level1 row10\" >0</th>\n",
       "                        <td id=\"T_38c85_row10_col0\" class=\"data row10 col0\" >0.798274</td>\n",
       "            </tr>\n",
       "            <tr>\n",
       "                                <th id=\"T_38c85_level1_row11\" class=\"row_heading level1 row11\" >1</th>\n",
       "                        <td id=\"T_38c85_row11_col0\" class=\"data row11 col0\" >0.201726</td>\n",
       "            </tr>\n",
       "            <tr>\n",
       "                        <th id=\"T_38c85_level0_row12\" class=\"row_heading level0 row12\" rowspan=\"2\">6.0</th>\n",
       "                        <th id=\"T_38c85_level1_row12\" class=\"row_heading level1 row12\" >0</th>\n",
       "                        <td id=\"T_38c85_row12_col0\" class=\"data row12 col0\" >0.799092</td>\n",
       "            </tr>\n",
       "            <tr>\n",
       "                                <th id=\"T_38c85_level1_row13\" class=\"row_heading level1 row13\" >1</th>\n",
       "                        <td id=\"T_38c85_row13_col0\" class=\"data row13 col0\" >0.200908</td>\n",
       "            </tr>\n",
       "            <tr>\n",
       "                        <th id=\"T_38c85_level0_row14\" class=\"row_heading level0 row14\" rowspan=\"2\">7.0</th>\n",
       "                        <th id=\"T_38c85_level1_row14\" class=\"row_heading level1 row14\" >0</th>\n",
       "                        <td id=\"T_38c85_row14_col0\" class=\"data row14 col0\" >0.827027</td>\n",
       "            </tr>\n",
       "            <tr>\n",
       "                                <th id=\"T_38c85_level1_row15\" class=\"row_heading level1 row15\" >1</th>\n",
       "                        <td id=\"T_38c85_row15_col0\" class=\"data row15 col0\" >0.172973</td>\n",
       "            </tr>\n",
       "            <tr>\n",
       "                        <th id=\"T_38c85_level0_row16\" class=\"row_heading level0 row16\" rowspan=\"2\">8.0</th>\n",
       "                        <th id=\"T_38c85_level1_row16\" class=\"row_heading level1 row16\" >0</th>\n",
       "                        <td id=\"T_38c85_row16_col0\" class=\"data row16 col0\" >0.813505</td>\n",
       "            </tr>\n",
       "            <tr>\n",
       "                                <th id=\"T_38c85_level1_row17\" class=\"row_heading level1 row17\" >1</th>\n",
       "                        <td id=\"T_38c85_row17_col0\" class=\"data row17 col0\" >0.186495</td>\n",
       "            </tr>\n",
       "            <tr>\n",
       "                        <th id=\"T_38c85_level0_row18\" class=\"row_heading level0 row18\" rowspan=\"2\">9.0</th>\n",
       "                        <th id=\"T_38c85_level1_row18\" class=\"row_heading level1 row18\" >0</th>\n",
       "                        <td id=\"T_38c85_row18_col0\" class=\"data row18 col0\" >0.780045</td>\n",
       "            </tr>\n",
       "            <tr>\n",
       "                                <th id=\"T_38c85_level1_row19\" class=\"row_heading level1 row19\" >1</th>\n",
       "                        <td id=\"T_38c85_row19_col0\" class=\"data row19 col0\" >0.219955</td>\n",
       "            </tr>\n",
       "            <tr>\n",
       "                        <th id=\"T_38c85_level0_row20\" class=\"row_heading level0 row20\" rowspan=\"2\">10.0</th>\n",
       "                        <th id=\"T_38c85_level1_row20\" class=\"row_heading level1 row20\" >0</th>\n",
       "                        <td id=\"T_38c85_row20_col0\" class=\"data row20 col0\" >0.793722</td>\n",
       "            </tr>\n",
       "            <tr>\n",
       "                                <th id=\"T_38c85_level1_row21\" class=\"row_heading level1 row21\" >1</th>\n",
       "                        <td id=\"T_38c85_row21_col0\" class=\"data row21 col0\" >0.206278</td>\n",
       "            </tr>\n",
       "    </tbody></table>"
      ],
      "text/plain": [
       "<pandas.io.formats.style.Styler at 0x7f726ed6b460>"
      ]
     },
     "execution_count": 8,
     "metadata": {},
     "output_type": "execute_result"
    }
   ],
   "source": [
    "# посмотрим на соотношение тех кто остался и тех, кто ушел из банка относительно того, \n",
    "# сколько лет человек являлся клиентом банка\n",
    "a = df.groupby(['Tenure', 'Exited'])['RowNumber'].count().rename(\"ratio\")\n",
    "b = a /  a.groupby(level = 0).sum()\n",
    "dfs = pd.DataFrame(data = b)\n",
    "dfs.style.bar()"
   ]
  },
  {
   "cell_type": "markdown",
   "metadata": {},
   "source": [
    "Процент ухода практически везде одинаковый, не зависимо от того, сколько сколько лет человек был клиентом банка, т.к. в данном столбце имеются пропуски , заполним их средним значением, что не должно повлиять на для модели в дальнейшем исследовании."
   ]
  },
  {
   "cell_type": "code",
   "execution_count": 9,
   "metadata": {},
   "outputs": [
    {
     "data": {
      "text/plain": [
       "count    9091.000000\n",
       "mean        4.997690\n",
       "std         2.894723\n",
       "min         0.000000\n",
       "25%         2.000000\n",
       "50%         5.000000\n",
       "75%         7.000000\n",
       "max        10.000000\n",
       "Name: Tenure, dtype: float64"
      ]
     },
     "execution_count": 9,
     "metadata": {},
     "output_type": "execute_result"
    }
   ],
   "source": [
    "# проверим основные характеристики распределения до заполнения и после, \n",
    "# и убедимся, что они изменились незначительно\n",
    "df['Tenure'].describe()"
   ]
  },
  {
   "cell_type": "code",
   "execution_count": 10,
   "metadata": {},
   "outputs": [],
   "source": [
    "# Заполняю пропуски на среднее и изменим тип данных\n",
    "df['Tenure'] = df['Tenure'].fillna(df['Tenure'].mean()).astype('int64')"
   ]
  },
  {
   "cell_type": "code",
   "execution_count": 11,
   "metadata": {},
   "outputs": [
    {
     "data": {
      "text/plain": [
       "count    10000.000000\n",
       "mean         4.907000\n",
       "std          2.774873\n",
       "min          0.000000\n",
       "25%          3.000000\n",
       "50%          4.000000\n",
       "75%          7.000000\n",
       "max         10.000000\n",
       "Name: Tenure, dtype: float64"
      ]
     },
     "execution_count": 11,
     "metadata": {},
     "output_type": "execute_result"
    }
   ],
   "source": [
    "df['Tenure'].describe()"
   ]
  },
  {
   "cell_type": "markdown",
   "metadata": {},
   "source": [
    "Изменения незначительные, можно оставлять подобное решение"
   ]
  },
  {
   "cell_type": "code",
   "execution_count": 12,
   "metadata": {},
   "outputs": [],
   "source": [
    "# Удаляем лишние столбцы потому как не несут ценности для исследования\n",
    "df = df.drop(['RowNumber', 'CustomerId', 'Surname'], axis=1)"
   ]
  },
  {
   "cell_type": "code",
   "execution_count": 13,
   "metadata": {},
   "outputs": [],
   "source": [
    "# Избавимся от категориальных признаков методом One hot encoder\n",
    "df = pd.get_dummies(df, drop_first=True)"
   ]
  },
  {
   "cell_type": "code",
   "execution_count": 14,
   "metadata": {},
   "outputs": [
    {
     "data": {
      "text/html": [
       "<div>\n",
       "<style scoped>\n",
       "    .dataframe tbody tr th:only-of-type {\n",
       "        vertical-align: middle;\n",
       "    }\n",
       "\n",
       "    .dataframe tbody tr th {\n",
       "        vertical-align: top;\n",
       "    }\n",
       "\n",
       "    .dataframe thead th {\n",
       "        text-align: right;\n",
       "    }\n",
       "</style>\n",
       "<table border=\"1\" class=\"dataframe\">\n",
       "  <thead>\n",
       "    <tr style=\"text-align: right;\">\n",
       "      <th></th>\n",
       "      <th>CreditScore</th>\n",
       "      <th>Age</th>\n",
       "      <th>Tenure</th>\n",
       "      <th>Balance</th>\n",
       "      <th>NumOfProducts</th>\n",
       "      <th>HasCrCard</th>\n",
       "      <th>IsActiveMember</th>\n",
       "      <th>EstimatedSalary</th>\n",
       "      <th>Exited</th>\n",
       "      <th>Geography_Germany</th>\n",
       "      <th>Geography_Spain</th>\n",
       "      <th>Gender_Male</th>\n",
       "    </tr>\n",
       "  </thead>\n",
       "  <tbody>\n",
       "    <tr>\n",
       "      <th>0</th>\n",
       "      <td>619</td>\n",
       "      <td>42</td>\n",
       "      <td>2</td>\n",
       "      <td>0.00</td>\n",
       "      <td>1</td>\n",
       "      <td>1</td>\n",
       "      <td>1</td>\n",
       "      <td>101348.88</td>\n",
       "      <td>1</td>\n",
       "      <td>0</td>\n",
       "      <td>0</td>\n",
       "      <td>0</td>\n",
       "    </tr>\n",
       "    <tr>\n",
       "      <th>1</th>\n",
       "      <td>608</td>\n",
       "      <td>41</td>\n",
       "      <td>1</td>\n",
       "      <td>83807.86</td>\n",
       "      <td>1</td>\n",
       "      <td>0</td>\n",
       "      <td>1</td>\n",
       "      <td>112542.58</td>\n",
       "      <td>0</td>\n",
       "      <td>0</td>\n",
       "      <td>1</td>\n",
       "      <td>0</td>\n",
       "    </tr>\n",
       "    <tr>\n",
       "      <th>2</th>\n",
       "      <td>502</td>\n",
       "      <td>42</td>\n",
       "      <td>8</td>\n",
       "      <td>159660.80</td>\n",
       "      <td>3</td>\n",
       "      <td>1</td>\n",
       "      <td>0</td>\n",
       "      <td>113931.57</td>\n",
       "      <td>1</td>\n",
       "      <td>0</td>\n",
       "      <td>0</td>\n",
       "      <td>0</td>\n",
       "    </tr>\n",
       "    <tr>\n",
       "      <th>3</th>\n",
       "      <td>699</td>\n",
       "      <td>39</td>\n",
       "      <td>1</td>\n",
       "      <td>0.00</td>\n",
       "      <td>2</td>\n",
       "      <td>0</td>\n",
       "      <td>0</td>\n",
       "      <td>93826.63</td>\n",
       "      <td>0</td>\n",
       "      <td>0</td>\n",
       "      <td>0</td>\n",
       "      <td>0</td>\n",
       "    </tr>\n",
       "    <tr>\n",
       "      <th>4</th>\n",
       "      <td>850</td>\n",
       "      <td>43</td>\n",
       "      <td>2</td>\n",
       "      <td>125510.82</td>\n",
       "      <td>1</td>\n",
       "      <td>1</td>\n",
       "      <td>1</td>\n",
       "      <td>79084.10</td>\n",
       "      <td>0</td>\n",
       "      <td>0</td>\n",
       "      <td>1</td>\n",
       "      <td>0</td>\n",
       "    </tr>\n",
       "    <tr>\n",
       "      <th>...</th>\n",
       "      <td>...</td>\n",
       "      <td>...</td>\n",
       "      <td>...</td>\n",
       "      <td>...</td>\n",
       "      <td>...</td>\n",
       "      <td>...</td>\n",
       "      <td>...</td>\n",
       "      <td>...</td>\n",
       "      <td>...</td>\n",
       "      <td>...</td>\n",
       "      <td>...</td>\n",
       "      <td>...</td>\n",
       "    </tr>\n",
       "    <tr>\n",
       "      <th>9995</th>\n",
       "      <td>771</td>\n",
       "      <td>39</td>\n",
       "      <td>5</td>\n",
       "      <td>0.00</td>\n",
       "      <td>2</td>\n",
       "      <td>1</td>\n",
       "      <td>0</td>\n",
       "      <td>96270.64</td>\n",
       "      <td>0</td>\n",
       "      <td>0</td>\n",
       "      <td>0</td>\n",
       "      <td>1</td>\n",
       "    </tr>\n",
       "    <tr>\n",
       "      <th>9996</th>\n",
       "      <td>516</td>\n",
       "      <td>35</td>\n",
       "      <td>10</td>\n",
       "      <td>57369.61</td>\n",
       "      <td>1</td>\n",
       "      <td>1</td>\n",
       "      <td>1</td>\n",
       "      <td>101699.77</td>\n",
       "      <td>0</td>\n",
       "      <td>0</td>\n",
       "      <td>0</td>\n",
       "      <td>1</td>\n",
       "    </tr>\n",
       "    <tr>\n",
       "      <th>9997</th>\n",
       "      <td>709</td>\n",
       "      <td>36</td>\n",
       "      <td>7</td>\n",
       "      <td>0.00</td>\n",
       "      <td>1</td>\n",
       "      <td>0</td>\n",
       "      <td>1</td>\n",
       "      <td>42085.58</td>\n",
       "      <td>1</td>\n",
       "      <td>0</td>\n",
       "      <td>0</td>\n",
       "      <td>0</td>\n",
       "    </tr>\n",
       "    <tr>\n",
       "      <th>9998</th>\n",
       "      <td>772</td>\n",
       "      <td>42</td>\n",
       "      <td>3</td>\n",
       "      <td>75075.31</td>\n",
       "      <td>2</td>\n",
       "      <td>1</td>\n",
       "      <td>0</td>\n",
       "      <td>92888.52</td>\n",
       "      <td>1</td>\n",
       "      <td>1</td>\n",
       "      <td>0</td>\n",
       "      <td>1</td>\n",
       "    </tr>\n",
       "    <tr>\n",
       "      <th>9999</th>\n",
       "      <td>792</td>\n",
       "      <td>28</td>\n",
       "      <td>4</td>\n",
       "      <td>130142.79</td>\n",
       "      <td>1</td>\n",
       "      <td>1</td>\n",
       "      <td>0</td>\n",
       "      <td>38190.78</td>\n",
       "      <td>0</td>\n",
       "      <td>0</td>\n",
       "      <td>0</td>\n",
       "      <td>0</td>\n",
       "    </tr>\n",
       "  </tbody>\n",
       "</table>\n",
       "<p>10000 rows × 12 columns</p>\n",
       "</div>"
      ],
      "text/plain": [
       "      CreditScore  Age  Tenure    Balance  NumOfProducts  HasCrCard  \\\n",
       "0             619   42       2       0.00              1          1   \n",
       "1             608   41       1   83807.86              1          0   \n",
       "2             502   42       8  159660.80              3          1   \n",
       "3             699   39       1       0.00              2          0   \n",
       "4             850   43       2  125510.82              1          1   \n",
       "...           ...  ...     ...        ...            ...        ...   \n",
       "9995          771   39       5       0.00              2          1   \n",
       "9996          516   35      10   57369.61              1          1   \n",
       "9997          709   36       7       0.00              1          0   \n",
       "9998          772   42       3   75075.31              2          1   \n",
       "9999          792   28       4  130142.79              1          1   \n",
       "\n",
       "      IsActiveMember  EstimatedSalary  Exited  Geography_Germany  \\\n",
       "0                  1        101348.88       1                  0   \n",
       "1                  1        112542.58       0                  0   \n",
       "2                  0        113931.57       1                  0   \n",
       "3                  0         93826.63       0                  0   \n",
       "4                  1         79084.10       0                  0   \n",
       "...              ...              ...     ...                ...   \n",
       "9995               0         96270.64       0                  0   \n",
       "9996               1        101699.77       0                  0   \n",
       "9997               1         42085.58       1                  0   \n",
       "9998               0         92888.52       1                  1   \n",
       "9999               0         38190.78       0                  0   \n",
       "\n",
       "      Geography_Spain  Gender_Male  \n",
       "0                   0            0  \n",
       "1                   1            0  \n",
       "2                   0            0  \n",
       "3                   0            0  \n",
       "4                   1            0  \n",
       "...               ...          ...  \n",
       "9995                0            1  \n",
       "9996                0            1  \n",
       "9997                0            0  \n",
       "9998                0            1  \n",
       "9999                0            0  \n",
       "\n",
       "[10000 rows x 12 columns]"
      ]
     },
     "execution_count": 14,
     "metadata": {},
     "output_type": "execute_result"
    }
   ],
   "source": [
    "# Посмотрим результат\n",
    "df"
   ]
  },
  {
   "cell_type": "markdown",
   "metadata": {},
   "source": [
    "<a id='section1.2'></a>\n",
    "### Формирование выборок"
   ]
  },
  {
   "cell_type": "code",
   "execution_count": 15,
   "metadata": {},
   "outputs": [],
   "source": [
    "# Разбиваем на параметры и целевой признак\n",
    "\n",
    "features = df.drop(['Exited'], axis = 1)\n",
    "target = df['Exited']"
   ]
  },
  {
   "cell_type": "code",
   "execution_count": 16,
   "metadata": {},
   "outputs": [],
   "source": [
    "# выведем значение random_state в константу для обращения к ней в последующем коде\n",
    "RANDOM_STATE = 12345"
   ]
  },
  {
   "cell_type": "code",
   "execution_count": 17,
   "metadata": {},
   "outputs": [],
   "source": [
    "# Разбиваем на обучающую, валидационную и тестовую выборку\n",
    "\n",
    "features_train, features_valid, target_train, target_valid = train_test_split(features, target, test_size = 0.4, \n",
    "                                                                              random_state = RANDOM_STATE, stratify = target)\n",
    "features_valid, features_test, target_valid, target_test = train_test_split(features_valid, target_valid, test_size = 0.5, \n",
    "                                                                              random_state=RANDOM_STATE, stratify=target_valid)"
   ]
  },
  {
   "cell_type": "code",
   "execution_count": 18,
   "metadata": {},
   "outputs": [
    {
     "name": "stdout",
     "output_type": "stream",
     "text": [
      "Размер обучающей выборки: (6000, 11)\n",
      "Размер валидационной выборки: (2000, 11)\n",
      "Размер тестовой выборки: (2000, 11)\n",
      "Общий размер исходного датасета: 10000 (всего выборок: 10000)\n"
     ]
    }
   ],
   "source": [
    "# Выведем результат полученных выборок\n",
    "print('Размер обучающей выборки:',features_train.shape)\n",
    "print('Размер валидационной выборки:',features_valid.shape)\n",
    "print('Размер тестовой выборки:',features_test.shape)\n",
    "print('Общий размер исходного датасета: {} (всего выборок: {})'.\n",
    "      format(df.shape[0], features_train.shape[0]+features_valid.shape[0]+features_test.shape[0]))"
   ]
  },
  {
   "cell_type": "code",
   "execution_count": 19,
   "metadata": {},
   "outputs": [
    {
     "name": "stderr",
     "output_type": "stream",
     "text": [
      "/tmp/ipykernel_195/3264033294.py:6: SettingWithCopyWarning: \n",
      "A value is trying to be set on a copy of a slice from a DataFrame.\n",
      "Try using .loc[row_indexer,col_indexer] = value instead\n",
      "\n",
      "See the caveats in the documentation: https://pandas.pydata.org/pandas-docs/stable/user_guide/indexing.html#returning-a-view-versus-a-copy\n",
      "  features_train[numeric] = scaler.transform(features_train[numeric])\n",
      "/opt/conda/lib/python3.9/site-packages/pandas/core/indexing.py:1738: SettingWithCopyWarning: \n",
      "A value is trying to be set on a copy of a slice from a DataFrame.\n",
      "Try using .loc[row_indexer,col_indexer] = value instead\n",
      "\n",
      "See the caveats in the documentation: https://pandas.pydata.org/pandas-docs/stable/user_guide/indexing.html#returning-a-view-versus-a-copy\n",
      "  self._setitem_single_column(loc, value[:, i].tolist(), pi)\n"
     ]
    }
   ],
   "source": [
    "# Масштабируем численные признаки выборок для выравнивания весов\n",
    "numeric = ['CreditScore', 'Age', 'Tenure', 'Balance', 'NumOfProducts', 'EstimatedSalary']\n",
    "scaler = StandardScaler()\n",
    "scaler.fit(features_train[numeric])\n",
    "\n",
    "features_train[numeric] = scaler.transform(features_train[numeric])\n",
    "features_valid[numeric] = scaler.transform(features_valid[numeric])\n",
    "features_test[numeric] = scaler.transform(features_test[numeric])"
   ]
  },
  {
   "cell_type": "code",
   "execution_count": 20,
   "metadata": {},
   "outputs": [
    {
     "data": {
      "text/html": [
       "<div>\n",
       "<style scoped>\n",
       "    .dataframe tbody tr th:only-of-type {\n",
       "        vertical-align: middle;\n",
       "    }\n",
       "\n",
       "    .dataframe tbody tr th {\n",
       "        vertical-align: top;\n",
       "    }\n",
       "\n",
       "    .dataframe thead th {\n",
       "        text-align: right;\n",
       "    }\n",
       "</style>\n",
       "<table border=\"1\" class=\"dataframe\">\n",
       "  <thead>\n",
       "    <tr style=\"text-align: right;\">\n",
       "      <th></th>\n",
       "      <th>CreditScore</th>\n",
       "      <th>Age</th>\n",
       "      <th>Tenure</th>\n",
       "      <th>Balance</th>\n",
       "      <th>NumOfProducts</th>\n",
       "      <th>HasCrCard</th>\n",
       "      <th>IsActiveMember</th>\n",
       "      <th>EstimatedSalary</th>\n",
       "      <th>Geography_Germany</th>\n",
       "      <th>Geography_Spain</th>\n",
       "      <th>Gender_Male</th>\n",
       "    </tr>\n",
       "  </thead>\n",
       "  <tbody>\n",
       "    <tr>\n",
       "      <th>2837</th>\n",
       "      <td>-1.040434</td>\n",
       "      <td>0.953312</td>\n",
       "      <td>0.391953</td>\n",
       "      <td>0.774657</td>\n",
       "      <td>-0.914708</td>\n",
       "      <td>0</td>\n",
       "      <td>1</td>\n",
       "      <td>-0.119110</td>\n",
       "      <td>1</td>\n",
       "      <td>0</td>\n",
       "      <td>0</td>\n",
       "    </tr>\n",
       "    <tr>\n",
       "      <th>9925</th>\n",
       "      <td>0.454006</td>\n",
       "      <td>-0.095244</td>\n",
       "      <td>-0.330763</td>\n",
       "      <td>1.910540</td>\n",
       "      <td>-0.914708</td>\n",
       "      <td>1</td>\n",
       "      <td>1</td>\n",
       "      <td>-0.258658</td>\n",
       "      <td>0</td>\n",
       "      <td>0</td>\n",
       "      <td>0</td>\n",
       "    </tr>\n",
       "    <tr>\n",
       "      <th>8746</th>\n",
       "      <td>0.103585</td>\n",
       "      <td>-0.476537</td>\n",
       "      <td>1.114669</td>\n",
       "      <td>0.481608</td>\n",
       "      <td>0.820981</td>\n",
       "      <td>0</td>\n",
       "      <td>1</td>\n",
       "      <td>1.422836</td>\n",
       "      <td>0</td>\n",
       "      <td>0</td>\n",
       "      <td>1</td>\n",
       "    </tr>\n",
       "    <tr>\n",
       "      <th>660</th>\n",
       "      <td>-0.184996</td>\n",
       "      <td>0.190726</td>\n",
       "      <td>-0.330763</td>\n",
       "      <td>0.088439</td>\n",
       "      <td>-0.914708</td>\n",
       "      <td>1</td>\n",
       "      <td>1</td>\n",
       "      <td>-1.160427</td>\n",
       "      <td>1</td>\n",
       "      <td>0</td>\n",
       "      <td>0</td>\n",
       "    </tr>\n",
       "    <tr>\n",
       "      <th>3610</th>\n",
       "      <td>-0.720933</td>\n",
       "      <td>1.620574</td>\n",
       "      <td>-1.414837</td>\n",
       "      <td>0.879129</td>\n",
       "      <td>-0.914708</td>\n",
       "      <td>1</td>\n",
       "      <td>0</td>\n",
       "      <td>0.113236</td>\n",
       "      <td>0</td>\n",
       "      <td>0</td>\n",
       "      <td>0</td>\n",
       "    </tr>\n",
       "  </tbody>\n",
       "</table>\n",
       "</div>"
      ],
      "text/plain": [
       "      CreditScore       Age    Tenure   Balance  NumOfProducts  HasCrCard  \\\n",
       "2837    -1.040434  0.953312  0.391953  0.774657      -0.914708          0   \n",
       "9925     0.454006 -0.095244 -0.330763  1.910540      -0.914708          1   \n",
       "8746     0.103585 -0.476537  1.114669  0.481608       0.820981          0   \n",
       "660     -0.184996  0.190726 -0.330763  0.088439      -0.914708          1   \n",
       "3610    -0.720933  1.620574 -1.414837  0.879129      -0.914708          1   \n",
       "\n",
       "      IsActiveMember  EstimatedSalary  Geography_Germany  Geography_Spain  \\\n",
       "2837               1        -0.119110                  1                0   \n",
       "9925               1        -0.258658                  0                0   \n",
       "8746               1         1.422836                  0                0   \n",
       "660                1        -1.160427                  1                0   \n",
       "3610               0         0.113236                  0                0   \n",
       "\n",
       "      Gender_Male  \n",
       "2837            0  \n",
       "9925            0  \n",
       "8746            1  \n",
       "660             0  \n",
       "3610            0  "
      ]
     },
     "metadata": {},
     "output_type": "display_data"
    },
    {
     "data": {
      "text/html": [
       "<div>\n",
       "<style scoped>\n",
       "    .dataframe tbody tr th:only-of-type {\n",
       "        vertical-align: middle;\n",
       "    }\n",
       "\n",
       "    .dataframe tbody tr th {\n",
       "        vertical-align: top;\n",
       "    }\n",
       "\n",
       "    .dataframe thead th {\n",
       "        text-align: right;\n",
       "    }\n",
       "</style>\n",
       "<table border=\"1\" class=\"dataframe\">\n",
       "  <thead>\n",
       "    <tr style=\"text-align: right;\">\n",
       "      <th></th>\n",
       "      <th>CreditScore</th>\n",
       "      <th>Age</th>\n",
       "      <th>Tenure</th>\n",
       "      <th>Balance</th>\n",
       "      <th>NumOfProducts</th>\n",
       "      <th>HasCrCard</th>\n",
       "      <th>IsActiveMember</th>\n",
       "      <th>EstimatedSalary</th>\n",
       "      <th>Geography_Germany</th>\n",
       "      <th>Geography_Spain</th>\n",
       "      <th>Gender_Male</th>\n",
       "    </tr>\n",
       "  </thead>\n",
       "  <tbody>\n",
       "    <tr>\n",
       "      <th>6612</th>\n",
       "      <td>-1.524838</td>\n",
       "      <td>2.383160</td>\n",
       "      <td>-0.692121</td>\n",
       "      <td>1.011655</td>\n",
       "      <td>-0.914708</td>\n",
       "      <td>0</td>\n",
       "      <td>1</td>\n",
       "      <td>0.010275</td>\n",
       "      <td>0</td>\n",
       "      <td>0</td>\n",
       "      <td>0</td>\n",
       "    </tr>\n",
       "    <tr>\n",
       "      <th>519</th>\n",
       "      <td>0.587990</td>\n",
       "      <td>1.811221</td>\n",
       "      <td>0.391953</td>\n",
       "      <td>0.213192</td>\n",
       "      <td>-0.914708</td>\n",
       "      <td>0</td>\n",
       "      <td>1</td>\n",
       "      <td>0.453089</td>\n",
       "      <td>0</td>\n",
       "      <td>0</td>\n",
       "      <td>1</td>\n",
       "    </tr>\n",
       "    <tr>\n",
       "      <th>1609</th>\n",
       "      <td>-0.318980</td>\n",
       "      <td>-0.381213</td>\n",
       "      <td>1.114669</td>\n",
       "      <td>0.893896</td>\n",
       "      <td>-0.914708</td>\n",
       "      <td>1</td>\n",
       "      <td>0</td>\n",
       "      <td>-0.603508</td>\n",
       "      <td>0</td>\n",
       "      <td>0</td>\n",
       "      <td>0</td>\n",
       "    </tr>\n",
       "    <tr>\n",
       "      <th>3475</th>\n",
       "      <td>1.226991</td>\n",
       "      <td>-0.762506</td>\n",
       "      <td>-0.330763</td>\n",
       "      <td>-0.240363</td>\n",
       "      <td>0.820981</td>\n",
       "      <td>1</td>\n",
       "      <td>1</td>\n",
       "      <td>-1.621460</td>\n",
       "      <td>0</td>\n",
       "      <td>0</td>\n",
       "      <td>1</td>\n",
       "    </tr>\n",
       "    <tr>\n",
       "      <th>2707</th>\n",
       "      <td>-0.133464</td>\n",
       "      <td>-0.095244</td>\n",
       "      <td>-0.692121</td>\n",
       "      <td>0.447305</td>\n",
       "      <td>-0.914708</td>\n",
       "      <td>0</td>\n",
       "      <td>0</td>\n",
       "      <td>0.338574</td>\n",
       "      <td>0</td>\n",
       "      <td>0</td>\n",
       "      <td>0</td>\n",
       "    </tr>\n",
       "  </tbody>\n",
       "</table>\n",
       "</div>"
      ],
      "text/plain": [
       "      CreditScore       Age    Tenure   Balance  NumOfProducts  HasCrCard  \\\n",
       "6612    -1.524838  2.383160 -0.692121  1.011655      -0.914708          0   \n",
       "519      0.587990  1.811221  0.391953  0.213192      -0.914708          0   \n",
       "1609    -0.318980 -0.381213  1.114669  0.893896      -0.914708          1   \n",
       "3475     1.226991 -0.762506 -0.330763 -0.240363       0.820981          1   \n",
       "2707    -0.133464 -0.095244 -0.692121  0.447305      -0.914708          0   \n",
       "\n",
       "      IsActiveMember  EstimatedSalary  Geography_Germany  Geography_Spain  \\\n",
       "6612               1         0.010275                  0                0   \n",
       "519                1         0.453089                  0                0   \n",
       "1609               0        -0.603508                  0                0   \n",
       "3475               1        -1.621460                  0                0   \n",
       "2707               0         0.338574                  0                0   \n",
       "\n",
       "      Gender_Male  \n",
       "6612            0  \n",
       "519             1  \n",
       "1609            0  \n",
       "3475            1  \n",
       "2707            0  "
      ]
     },
     "metadata": {},
     "output_type": "display_data"
    },
    {
     "data": {
      "text/html": [
       "<div>\n",
       "<style scoped>\n",
       "    .dataframe tbody tr th:only-of-type {\n",
       "        vertical-align: middle;\n",
       "    }\n",
       "\n",
       "    .dataframe tbody tr th {\n",
       "        vertical-align: top;\n",
       "    }\n",
       "\n",
       "    .dataframe thead th {\n",
       "        text-align: right;\n",
       "    }\n",
       "</style>\n",
       "<table border=\"1\" class=\"dataframe\">\n",
       "  <thead>\n",
       "    <tr style=\"text-align: right;\">\n",
       "      <th></th>\n",
       "      <th>CreditScore</th>\n",
       "      <th>Age</th>\n",
       "      <th>Tenure</th>\n",
       "      <th>Balance</th>\n",
       "      <th>NumOfProducts</th>\n",
       "      <th>HasCrCard</th>\n",
       "      <th>IsActiveMember</th>\n",
       "      <th>EstimatedSalary</th>\n",
       "      <th>Geography_Germany</th>\n",
       "      <th>Geography_Spain</th>\n",
       "      <th>Gender_Male</th>\n",
       "    </tr>\n",
       "  </thead>\n",
       "  <tbody>\n",
       "    <tr>\n",
       "      <th>657</th>\n",
       "      <td>-0.504497</td>\n",
       "      <td>1.429928</td>\n",
       "      <td>-1.414837</td>\n",
       "      <td>0.873883</td>\n",
       "      <td>0.820981</td>\n",
       "      <td>1</td>\n",
       "      <td>1</td>\n",
       "      <td>1.725255</td>\n",
       "      <td>1</td>\n",
       "      <td>0</td>\n",
       "      <td>0</td>\n",
       "    </tr>\n",
       "    <tr>\n",
       "      <th>2083</th>\n",
       "      <td>-1.195031</td>\n",
       "      <td>-1.429769</td>\n",
       "      <td>-1.414837</td>\n",
       "      <td>-1.219673</td>\n",
       "      <td>-0.914708</td>\n",
       "      <td>1</td>\n",
       "      <td>1</td>\n",
       "      <td>1.203665</td>\n",
       "      <td>0</td>\n",
       "      <td>0</td>\n",
       "      <td>1</td>\n",
       "    </tr>\n",
       "    <tr>\n",
       "      <th>3234</th>\n",
       "      <td>-1.267176</td>\n",
       "      <td>0.762665</td>\n",
       "      <td>-1.414837</td>\n",
       "      <td>-1.219673</td>\n",
       "      <td>-0.914708</td>\n",
       "      <td>1</td>\n",
       "      <td>0</td>\n",
       "      <td>-1.374743</td>\n",
       "      <td>0</td>\n",
       "      <td>0</td>\n",
       "      <td>1</td>\n",
       "    </tr>\n",
       "    <tr>\n",
       "      <th>1551</th>\n",
       "      <td>0.825039</td>\n",
       "      <td>1.239281</td>\n",
       "      <td>0.753311</td>\n",
       "      <td>-1.219673</td>\n",
       "      <td>0.820981</td>\n",
       "      <td>0</td>\n",
       "      <td>1</td>\n",
       "      <td>0.382306</td>\n",
       "      <td>0</td>\n",
       "      <td>1</td>\n",
       "      <td>0</td>\n",
       "    </tr>\n",
       "    <tr>\n",
       "      <th>2344</th>\n",
       "      <td>0.660135</td>\n",
       "      <td>0.953312</td>\n",
       "      <td>-0.330763</td>\n",
       "      <td>0.267087</td>\n",
       "      <td>-0.914708</td>\n",
       "      <td>1</td>\n",
       "      <td>0</td>\n",
       "      <td>-1.613578</td>\n",
       "      <td>1</td>\n",
       "      <td>0</td>\n",
       "      <td>0</td>\n",
       "    </tr>\n",
       "  </tbody>\n",
       "</table>\n",
       "</div>"
      ],
      "text/plain": [
       "      CreditScore       Age    Tenure   Balance  NumOfProducts  HasCrCard  \\\n",
       "657     -0.504497  1.429928 -1.414837  0.873883       0.820981          1   \n",
       "2083    -1.195031 -1.429769 -1.414837 -1.219673      -0.914708          1   \n",
       "3234    -1.267176  0.762665 -1.414837 -1.219673      -0.914708          1   \n",
       "1551     0.825039  1.239281  0.753311 -1.219673       0.820981          0   \n",
       "2344     0.660135  0.953312 -0.330763  0.267087      -0.914708          1   \n",
       "\n",
       "      IsActiveMember  EstimatedSalary  Geography_Germany  Geography_Spain  \\\n",
       "657                1         1.725255                  1                0   \n",
       "2083               1         1.203665                  0                0   \n",
       "3234               0        -1.374743                  0                0   \n",
       "1551               1         0.382306                  0                1   \n",
       "2344               0        -1.613578                  1                0   \n",
       "\n",
       "      Gender_Male  \n",
       "657             0  \n",
       "2083            1  \n",
       "3234            1  \n",
       "1551            0  \n",
       "2344            0  "
      ]
     },
     "metadata": {},
     "output_type": "display_data"
    }
   ],
   "source": [
    "# проверим результат\n",
    "display(features_train.head())\n",
    "display(features_valid.head())\n",
    "display(features_test.head())"
   ]
  },
  {
   "cell_type": "markdown",
   "metadata": {},
   "source": [
    "**Вывод:** выборки были сформированы."
   ]
  },
  {
   "cell_type": "markdown",
   "metadata": {},
   "source": [
    "<a id='section2'></a>\n",
    "## Исследование задачи"
   ]
  },
  {
   "cell_type": "markdown",
   "metadata": {},
   "source": [
    "Исследуем баланс классов целевого признака"
   ]
  },
  {
   "cell_type": "code",
   "execution_count": 21,
   "metadata": {},
   "outputs": [
    {
     "data": {
      "text/plain": [
       "0    7963\n",
       "1    2037\n",
       "Name: Exited, dtype: int64"
      ]
     },
     "execution_count": 21,
     "metadata": {},
     "output_type": "execute_result"
    },
    {
     "data": {
      "image/png": "[encoded data removed]",
      "text/plain": [
       "<Figure size 936x504 with 1 Axes>"
      ]
     },
     "metadata": {
      "needs_background": "light"
     },
     "output_type": "display_data"
    }
   ],
   "source": [
    "df['Exited'].value_counts().plot(kind='bar', grid = True, figsize = (13, 7), \n",
    "                                   title = 'Соотношение оставшихся клиентов к ушедшим')\n",
    "df['Exited'].value_counts()"
   ]
  },
  {
   "cell_type": "markdown",
   "metadata": {},
   "source": [
    "**Вывод:** Имеется явный дисбаланс в пользу оставшихся клиентов, подобное может привести модель к склонению к распространённому варианту ответа."
   ]
  },
  {
   "cell_type": "markdown",
   "metadata": {},
   "source": [
    "<a id='section2.1'></a>\n",
    "### Обучение моделей"
   ]
  },
  {
   "cell_type": "markdown",
   "metadata": {},
   "source": [
    "<a id='section2.1.1'></a>\n",
    "#### Модель Случайного дерева"
   ]
  },
  {
   "cell_type": "markdown",
   "metadata": {},
   "source": [
    "Обучим *модель случайного дерева* с перебором глубины, найдём гиперпараметры, при которых значение метрики F1 наибольшие"
   ]
  },
  {
   "cell_type": "code",
   "execution_count": 22,
   "metadata": {},
   "outputs": [
    {
     "name": "stdout",
     "output_type": "stream",
     "text": [
      "Max depth 7 F1-score 0.5924855491329479\n"
     ]
    }
   ],
   "source": [
    "f1_best = 0\n",
    "depth_best = 0\n",
    "\n",
    "for depth in range(7, 12):\n",
    "    model = DecisionTreeClassifier(random_state = RANDOM_STATE, max_depth = depth)\n",
    "    model.fit(features_train, target_train)\n",
    "    prediction = model.predict(features_valid)\n",
    "    f1 = f1_score(target_valid, prediction)\n",
    "    if f1 > f1_best:\n",
    "            f1_best = f1\n",
    "            depth_best = depth\n",
    "            \n",
    "print('Max depth', depth_best,'F1-score', f1_best)"
   ]
  },
  {
   "cell_type": "markdown",
   "metadata": {},
   "source": [
    "Проведем оценку Accuracy, Precision, Recall, F1, AUC-ROC на полученных гиперпараметрах для *модели случайного дерева*"
   ]
  },
  {
   "cell_type": "code",
   "execution_count": 23,
   "metadata": {},
   "outputs": [
    {
     "name": "stdout",
     "output_type": "stream",
     "text": [
      "Accuracy 0.859\n",
      "Precision 0.721830985915493\n",
      "Recall 0.5024509803921569\n",
      "F1 0.5924855491329479\n",
      "AUC-ROC 0.8230390617302197\n"
     ]
    }
   ],
   "source": [
    "model = DecisionTreeClassifier(random_state = RANDOM_STATE, max_depth = 7)\n",
    "model.fit(features_train, target_train)\n",
    "prediction = model.predict(features_valid)\n",
    "\n",
    "print('Accuracy', accuracy_score(target_valid, prediction))\n",
    "print('Precision', precision_score(target_valid, prediction))\n",
    "print('Recall', recall_score(target_valid, prediction))\n",
    "print('F1', f1_score(target_valid, prediction))\n",
    "\n",
    "probabilities_valid = model.predict_proba(features_valid)[:, 1]\n",
    "\n",
    "print(\"AUC-ROC\", roc_auc_score(target_valid, probabilities_valid))"
   ]
  },
  {
   "cell_type": "markdown",
   "metadata": {},
   "source": [
    "<a id='section2.1.2'></a>\n",
    "#### Модель Случайного леса"
   ]
  },
  {
   "cell_type": "markdown",
   "metadata": {},
   "source": [
    "Обучим *модель случайного леса* с перебором глубины, найдём гиперпараметры, при которых значение метрики F1 наибольшие"
   ]
  },
  {
   "cell_type": "code",
   "execution_count": 24,
   "metadata": {},
   "outputs": [
    {
     "name": "stdout",
     "output_type": "stream",
     "text": [
      "n_estimators = 60 Max depth 12 F1-score 0.605421686746988\n"
     ]
    }
   ],
   "source": [
    "f1_best = 0\n",
    "estim_best = 0\n",
    "depth_best = 0\n",
    "\n",
    "for estim in range (60, 63):\n",
    "    for depth in range(11, 13):\n",
    "        model = RandomForestClassifier(n_estimators = estim, max_depth = depth, random_state = RANDOM_STATE)\n",
    "        model.fit(features_train, target_train)\n",
    "        prediction = model.predict(features_valid)\n",
    "        f1 = f1_score(target_valid, prediction)\n",
    "        if f1 > f1_best:\n",
    "            f1_best = f1\n",
    "            estim_best = estim\n",
    "            depth_best = depth\n",
    "            \n",
    "print('n_estimators =', estim_best, 'Max depth', depth_best, 'F1-score', f1_best)"
   ]
  },
  {
   "cell_type": "markdown",
   "metadata": {},
   "source": [
    "Проведем оценку Accuracy, Precision, Recall, F1, AUC-ROC на полученных гиперпараметрах для *модели случайного леса*"
   ]
  },
  {
   "cell_type": "code",
   "execution_count": 25,
   "metadata": {},
   "outputs": [
    {
     "name": "stdout",
     "output_type": "stream",
     "text": [
      "Accuracy 0.869\n",
      "Precision 0.78515625\n",
      "Recall 0.49264705882352944\n",
      "F1 0.605421686746988\n",
      "AUC-ROC 0.8658719455118733\n"
     ]
    }
   ],
   "source": [
    "model = RandomForestClassifier(n_estimators = 60, max_depth = 12, random_state = RANDOM_STATE)\n",
    "model.fit(features_train, target_train)\n",
    "prediction = model.predict(features_valid)\n",
    "\n",
    "print('Accuracy', accuracy_score(target_valid, prediction))\n",
    "print('Precision', precision_score(target_valid, prediction))\n",
    "print('Recall', recall_score(target_valid, prediction))\n",
    "print('F1', f1_score(target_valid, prediction))\n",
    "\n",
    "probabilities_valid = model.predict_proba(features_valid)[:, 1]\n",
    "\n",
    "print(\"AUC-ROC\", roc_auc_score(target_valid, probabilities_valid))"
   ]
  },
  {
   "cell_type": "markdown",
   "metadata": {},
   "source": [
    "<a id='section2.1.3'></a>\n",
    "#### Модель Логической регрессии"
   ]
  },
  {
   "cell_type": "code",
   "execution_count": 26,
   "metadata": {},
   "outputs": [
    {
     "name": "stdout",
     "output_type": "stream",
     "text": [
      "Accuracy 0.8105\n",
      "Precision 0.6058394160583942\n",
      "Recall 0.2034313725490196\n",
      "F1 0.30458715596330277\n",
      "AUC-ROC 0.7875991476992807\n"
     ]
    }
   ],
   "source": [
    "model = LogisticRegression()\n",
    "model.fit(features_train, target_train)\n",
    "prediction = model.predict(features_valid)\n",
    "\n",
    "print('Accuracy', accuracy_score(target_valid, prediction))\n",
    "print('Precision', precision_score(target_valid, prediction))\n",
    "print('Recall', recall_score(target_valid, prediction))\n",
    "print('F1', f1_score(target_valid, prediction))\n",
    "\n",
    "probabilities_valid = model.predict_proba(features_valid)[:, 1]\n",
    "\n",
    "print(\"AUC-ROC\", roc_auc_score(target_valid, probabilities_valid))"
   ]
  },
  {
   "cell_type": "markdown",
   "metadata": {},
   "source": [
    "**Вывод:**\n",
    "\n",
    "Из-за того, что данные несбалансированы, все имеют Recall ниче, чем Precision, что соответственно влияет на F1-метрику. Модель случайного дерева показала наиболее близкую метрику к необходимой."
   ]
  },
  {
   "cell_type": "markdown",
   "metadata": {},
   "source": [
    "<a id='section3'></a>\n",
    "## Борьба с дисбалансом"
   ]
  },
  {
   "cell_type": "markdown",
   "metadata": {},
   "source": [
    "<a id='section3.1'></a>\n",
    "### Обучение моделей с параметром автоматической регулировки весов"
   ]
  },
  {
   "cell_type": "markdown",
   "metadata": {},
   "source": [
    "<a id='section3.1.1'></a>\n",
    "#### Модель Случайного дерева"
   ]
  },
  {
   "cell_type": "code",
   "execution_count": 27,
   "metadata": {},
   "outputs": [
    {
     "name": "stdout",
     "output_type": "stream",
     "text": [
      "Max depth 6 F1-score 0.575925925925926\n",
      "Accuracy 0.771\n",
      "Precision 0.46279761904761907\n",
      "Recall 0.7622549019607843\n",
      "F1 0.575925925925926\n",
      "AUC-ROC 0.8233269595526653\n"
     ]
    }
   ],
   "source": [
    "# Подбор гиперпараметров\n",
    "f1_best = 0\n",
    "depth_best = 0\n",
    "\n",
    "for depth in range(2, 20):\n",
    "    model = DecisionTreeClassifier(random_state = RANDOM_STATE, max_depth = depth, class_weight = 'balanced')\n",
    "    model.fit(features_train, target_train)\n",
    "    prediction = model.predict(features_valid)\n",
    "    f1 = f1_score(target_valid, prediction)\n",
    "    if f1 > f1_best:\n",
    "            f1_best = f1\n",
    "            depth_best = depth\n",
    "            \n",
    "print('Max depth', depth_best,'F1-score', f1_best)\n",
    "\n",
    "# Расчет метрик\n",
    "model = DecisionTreeClassifier(random_state = RANDOM_STATE, max_depth = depth_best, class_weight = 'balanced')\n",
    "model.fit(features_train, target_train)\n",
    "prediction = model.predict(features_valid)\n",
    "\n",
    "print('Accuracy', accuracy_score(target_valid, prediction))\n",
    "print('Precision', precision_score(target_valid, prediction))\n",
    "print('Recall', recall_score(target_valid, prediction))\n",
    "print('F1', f1_score(target_valid, prediction))\n",
    "\n",
    "probabilities_valid = model.predict_proba(features_valid)[:, 1]\n",
    "\n",
    "print(\"AUC-ROC\", roc_auc_score(target_valid, probabilities_valid))\n",
    "\n",
    "fpr_tree, tpr_tree, thresholds = roc_curve(target_valid, probabilities_valid)"
   ]
  },
  {
   "cell_type": "markdown",
   "metadata": {},
   "source": [
    "<a id='section3.1.2'></a>\n",
    "#### Модель Случайного леса"
   ]
  },
  {
   "cell_type": "code",
   "execution_count": 28,
   "metadata": {},
   "outputs": [
    {
     "name": "stdout",
     "output_type": "stream",
     "text": [
      "n_estimators = 92 Max depth 9 F1-score 0.6444954128440367\n",
      "Accuracy 0.845\n",
      "Precision 0.6056034482758621\n",
      "Recall 0.6887254901960784\n",
      "F1 0.6444954128440367\n",
      "AUC-ROC 0.8691635259631492\n"
     ]
    }
   ],
   "source": [
    "# Подбор гиперпараметров\n",
    "f1_best = 0\n",
    "estim_best = 0\n",
    "depth_best = 0\n",
    "\n",
    "for estim in range (90, 95):\n",
    "    for depth in range(5, 10):\n",
    "        model = RandomForestClassifier(n_estimators = estim, max_depth = depth, \n",
    "                                       random_state = RANDOM_STATE, class_weight = 'balanced')\n",
    "        model.fit(features_train, target_train)\n",
    "        prediction = model.predict(features_valid)\n",
    "        f1 = f1_score(target_valid, prediction)\n",
    "        if f1 > f1_best:\n",
    "            f1_best = f1\n",
    "            estim_best = estim\n",
    "            depth_best = depth\n",
    "            \n",
    "print('n_estimators =', estim_best, 'Max depth', depth_best, 'F1-score', f1_best)\n",
    "\n",
    "# Расчет метрик\n",
    "model = RandomForestClassifier(n_estimators = estim_best, max_depth = depth_best, \n",
    "                               random_state = RANDOM_STATE, class_weight = 'balanced')\n",
    "model.fit(features_train, target_train)\n",
    "prediction = model.predict(features_valid)\n",
    "\n",
    "print('Accuracy', accuracy_score(target_valid, prediction))\n",
    "print('Precision', precision_score(target_valid, prediction))\n",
    "print('Recall', recall_score(target_valid, prediction))\n",
    "print('F1', f1_score(target_valid, prediction))\n",
    "\n",
    "probabilities_valid = model.predict_proba(features_valid)[:, 1]\n",
    "\n",
    "print(\"AUC-ROC\", roc_auc_score(target_valid, probabilities_valid))\n",
    "\n",
    "fpr_forest, tpr_forest, thresholds = roc_curve(target_valid, probabilities_valid)"
   ]
  },
  {
   "cell_type": "markdown",
   "metadata": {},
   "source": [
    "<a id='section3.1.3'></a>\n",
    "#### Модель Логической регрессии"
   ]
  },
  {
   "cell_type": "code",
   "execution_count": 29,
   "metadata": {},
   "outputs": [
    {
     "name": "stdout",
     "output_type": "stream",
     "text": [
      "Accuracy 0.7315\n",
      "Precision 0.4117647058823529\n",
      "Recall 0.7377450980392157\n",
      "F1 0.5285338015803336\n",
      "AUC-ROC 0.793677332742142\n"
     ]
    }
   ],
   "source": [
    "model = LogisticRegression(class_weight = 'balanced')\n",
    "model.fit(features_train, target_train)\n",
    "prediction = model.predict(features_valid)\n",
    "\n",
    "print('Accuracy', accuracy_score(target_valid, prediction))\n",
    "print('Precision', precision_score(target_valid, prediction))\n",
    "print('Recall', recall_score(target_valid, prediction))\n",
    "print('F1', f1_score(target_valid, prediction))\n",
    "\n",
    "probabilities_valid = model.predict_proba(features_valid)[:, 1]\n",
    "\n",
    "print(\"AUC-ROC\", roc_auc_score(target_valid, probabilities_valid))\n",
    "\n",
    "fpr_log, tpr_log, thresholds = roc_curve(target_valid, probabilities_valid)"
   ]
  },
  {
   "cell_type": "markdown",
   "metadata": {},
   "source": [
    "<a id='section3.1.4'></a>\n",
    "#### Визулизация AUC-ROC"
   ]
  },
  {
   "cell_type": "code",
   "execution_count": 30,
   "metadata": {},
   "outputs": [
    {
     "data": {
      "text/plain": [
       "<Figure size 432x288 with 0 Axes>"
      ]
     },
     "metadata": {},
     "output_type": "display_data"
    },
    {
     "data": {
      "image/png": "[encoded data removed]",
      "text/plain": [
       "<Figure size 936x504 with 1 Axes>"
      ]
     },
     "metadata": {
      "needs_background": "light"
     },
     "output_type": "display_data"
    }
   ],
   "source": [
    "plt.figure()\n",
    "\n",
    "plt.figure(figsize = (13, 7))\n",
    "plt.plot([0, 1], [0, 1], linestyle = '--')\n",
    "plt.xlim([0.0, 1.0])\n",
    "plt.ylim([0.0, 1.0])\n",
    "plt.plot(fpr_forest, tpr_forest)\n",
    "plt.plot(fpr_log, tpr_log)\n",
    "plt.plot(fpr_tree, tpr_tree)\n",
    "\n",
    "plt.xlabel('False Positive Rate')\n",
    "plt.ylabel('True Positive Rate')\n",
    "plt.title('ROC-кривая')\n",
    "plt.legend(('Случайная модель', 'Модель Случайного леса', 'Логистическая регрессия', 'Модель Случайного дерева'),\n",
    "           loc = 'upper left') \n",
    "plt.show()"
   ]
  },
  {
   "cell_type": "markdown",
   "metadata": {},
   "source": [
    "**Вывод:** метрика F1 стала лучше, по прежнему модель случайного леса показывает лучший результат."
   ]
  },
  {
   "cell_type": "markdown",
   "metadata": {},
   "source": [
    "<a id='section3.2'></a>\n",
    "### Обучение модели с помощью функции Upsampling"
   ]
  },
  {
   "cell_type": "markdown",
   "metadata": {},
   "source": [
    "увеличим количество колличество target = 0"
   ]
  },
  {
   "cell_type": "markdown",
   "metadata": {},
   "source": [
    "Разделим выборку по значениям целефой функции, увеличим выборку и соеденим обратно\n"
   ]
  },
  {
   "cell_type": "code",
   "execution_count": 31,
   "metadata": {},
   "outputs": [],
   "source": [
    "def upsampling (features, target, repeat):\n",
    "    target_one = target[target == 1]\n",
    "    target_zero = target[target == 0]\n",
    "    features_one = features[target == 1]\n",
    "    features_zero = features[target == 0]\n",
    "    \n",
    "    features_upsampling = pd.concat([features_zero] + [features_one] * repeat)\n",
    "    target_upsampling = pd.concat([target_zero] + [target_one] * repeat)\n",
    "    \n",
    "    features_upsampling, target_upsampling = shuffle(features_upsampling, \n",
    "                                                     target_upsampling, random_state = RANDOM_STATE)# Перемешиваем\n",
    "    \n",
    "    return features_upsampling, target_upsampling"
   ]
  },
  {
   "cell_type": "code",
   "execution_count": 32,
   "metadata": {},
   "outputs": [],
   "source": [
    "features_balance, target_balance = upsampling(features_train, target_train, 4)"
   ]
  },
  {
   "cell_type": "markdown",
   "metadata": {},
   "source": [
    "<a id='section3.2.1'></a>\n",
    "#### Модель Случайного дерева"
   ]
  },
  {
   "cell_type": "code",
   "execution_count": 33,
   "metadata": {},
   "outputs": [
    {
     "name": "stdout",
     "output_type": "stream",
     "text": [
      "Max depth 6 F1-score 0.575925925925926\n",
      "Accuracy 0.771\n",
      "Precision 0.46279761904761907\n",
      "Recall 0.7622549019607843\n",
      "F1 0.575925925925926\n",
      "AUC-ROC 0.8233423551581437\n"
     ]
    }
   ],
   "source": [
    "f1_best = 0\n",
    "depth_best = 0\n",
    "for depth in range(2, 20):\n",
    "    model = DecisionTreeClassifier(random_state=RANDOM_STATE, max_depth = depth)\n",
    "    model.fit(features_balance, target_balance)\n",
    "    prediction = model.predict(features_valid)\n",
    "    f1 = f1_score(target_valid, prediction)\n",
    "    if f1 > f1_best:\n",
    "            f1_best = f1\n",
    "            depth_best = depth\n",
    "print('Max depth', depth_best,'F1-score', f1_best)\n",
    "\n",
    "model = DecisionTreeClassifier(random_state = RANDOM_STATE, max_depth = depth_best)\n",
    "model.fit(features_balance, target_balance)\n",
    "prediction = model.predict(features_valid)\n",
    "\n",
    "print('Accuracy', accuracy_score(target_valid, prediction))\n",
    "print('Precision', precision_score(target_valid, prediction))\n",
    "print('Recall', recall_score(target_valid, prediction))\n",
    "print('F1', f1_score(target_valid, prediction))\n",
    "\n",
    "probabilities_valid = model.predict_proba(features_valid)[:, 1]\n",
    "\n",
    "print(\"AUC-ROC\", roc_auc_score(target_valid, probabilities_valid))\n",
    "\n",
    "fpr_tree, tpr_tree, thresholds = roc_curve(target_valid, probabilities_valid)"
   ]
  },
  {
   "cell_type": "markdown",
   "metadata": {},
   "source": [
    "<a id='section3.2.2'></a>\n",
    "#### Модель Случайного леса"
   ]
  },
  {
   "cell_type": "code",
   "execution_count": 34,
   "metadata": {},
   "outputs": [
    {
     "name": "stdout",
     "output_type": "stream",
     "text": [
      "n_estimators = 91 Max depth 9 F1-score 0.6378378378378378\n",
      "Accuracy 0.8325\n",
      "Precision 0.5705996131528046\n",
      "Recall 0.7230392156862745\n",
      "F1 0.6378378378378378\n",
      "AUC-ROC 0.8725166888363385\n"
     ]
    }
   ],
   "source": [
    "f1_best = 0\n",
    "estim_best = 0\n",
    "depth_best = 0\n",
    "\n",
    "for estim in range (90, 95):\n",
    "    for depth in range(5, 10):\n",
    "        model = RandomForestClassifier(n_estimators = estim, max_depth = depth, \n",
    "                                       random_state = RANDOM_STATE)\n",
    "        model.fit(features_balance,target_balance)\n",
    "        prediction = model.predict(features_valid)\n",
    "        f1 = f1_score(target_valid, prediction)\n",
    "        if f1 > f1_best:\n",
    "            f1_best = f1\n",
    "            estim_best = estim\n",
    "            depth_best = depth\n",
    "            \n",
    "print('n_estimators =', estim_best, 'Max depth', depth_best, 'F1-score', f1_best)\n",
    "\n",
    "model = RandomForestClassifier(n_estimators = estim_best, max_depth = depth_best, \n",
    "                               random_state = RANDOM_STATE)\n",
    "model.fit(features_balance,target_balance)\n",
    "prediction = model.predict(features_valid)\n",
    "\n",
    "print('Accuracy', accuracy_score(target_valid, prediction))\n",
    "print('Precision', precision_score(target_valid, prediction))\n",
    "print('Recall', recall_score(target_valid, prediction))\n",
    "print('F1', f1_score(target_valid, prediction))\n",
    "\n",
    "probabilities_valid = model.predict_proba(features_valid)[:, 1]\n",
    "\n",
    "print(\"AUC-ROC\", roc_auc_score(target_valid, probabilities_valid))\n",
    "\n",
    "fpr_forest, tpr_forest, thresholds = roc_curve(target_valid, probabilities_valid)"
   ]
  },
  {
   "cell_type": "markdown",
   "metadata": {},
   "source": [
    "<a id='section3.2.3'></a>\n",
    "#### Модель Логической регрессии"
   ]
  },
  {
   "cell_type": "code",
   "execution_count": 35,
   "metadata": {},
   "outputs": [
    {
     "name": "stdout",
     "output_type": "stream",
     "text": [
      "Accuracy 0.7255\n",
      "Precision 0.40562248995983935\n",
      "Recall 0.7426470588235294\n",
      "F1 0.5246753246753246\n",
      "AUC-ROC 0.7937758646172037\n"
     ]
    }
   ],
   "source": [
    "model = LogisticRegression()\n",
    "model.fit(features_balance,target_balance)\n",
    "prediction = model.predict(features_valid)\n",
    "\n",
    "print('Accuracy', accuracy_score(target_valid, prediction))\n",
    "print('Precision', precision_score(target_valid, prediction))\n",
    "print('Recall', recall_score(target_valid, prediction))\n",
    "print('F1', f1_score(target_valid, prediction))\n",
    "\n",
    "probabilities_valid = model.predict_proba(features_valid)[:, 1]\n",
    "\n",
    "print(\"AUC-ROC\", roc_auc_score(target_valid, probabilities_valid))\n",
    "\n",
    "fpr_log, tpr_log, thresholds = roc_curve(target_valid, probabilities_valid)"
   ]
  },
  {
   "cell_type": "markdown",
   "metadata": {},
   "source": [
    "<a id='section3.2.4'></a>\n",
    "#### Визулизация AUC-ROC"
   ]
  },
  {
   "cell_type": "code",
   "execution_count": 36,
   "metadata": {},
   "outputs": [
    {
     "data": {
      "text/plain": [
       "<Figure size 432x288 with 0 Axes>"
      ]
     },
     "metadata": {},
     "output_type": "display_data"
    },
    {
     "data": {
      "image/png": "[encoded data removed]",
      "text/plain": [
       "<Figure size 936x504 with 1 Axes>"
      ]
     },
     "metadata": {
      "needs_background": "light"
     },
     "output_type": "display_data"
    }
   ],
   "source": [
    "plt.figure()\n",
    "\n",
    "plt.figure(figsize = (13, 7))\n",
    "plt.plot([0, 1], [0, 1], linestyle = '--')\n",
    "plt.xlim([0.0, 1.0])\n",
    "plt.ylim([0.0, 1.0])\n",
    "plt.plot(fpr_forest, tpr_forest)\n",
    "plt.plot(fpr_log, tpr_log)\n",
    "plt.plot(fpr_tree, tpr_tree)\n",
    "\n",
    "plt.xlabel('False Positive Rate')\n",
    "plt.ylabel('True Positive Rate')\n",
    "plt.title('ROC-кривая')\n",
    "plt.legend(('Случайная модель', 'Модель Случайного леса', 'Логистическая регрессия', 'Модель Случайного дерева'),\n",
    "           loc = 'upper left') \n",
    "plt.show()"
   ]
  },
  {
   "cell_type": "markdown",
   "metadata": {},
   "source": [
    "**Вывод:**\n",
    "\n",
    "- метрика AUC-ROC лучше у модели *Случайного леса*\n",
    "- при взвешивании классов параметром class_weight = 'balanced' наилучшее качество было достигнуть с помощью модели *Случайного леса*"
   ]
  },
  {
   "cell_type": "markdown",
   "metadata": {},
   "source": [
    "<a id='section4'></a>\n",
    "## Тестирование модели"
   ]
  },
  {
   "cell_type": "markdown",
   "metadata": {},
   "source": [
    "<a id='section4.1'></a>\n",
    "### Обучение финальной модели"
   ]
  },
  {
   "cell_type": "code",
   "execution_count": 37,
   "metadata": {},
   "outputs": [
    {
     "name": "stdout",
     "output_type": "stream",
     "text": [
      "Accuracy 0.845\n",
      "Precision 0.6056034482758621\n",
      "Recall 0.6887254901960784\n",
      "F1 0.6444954128440367\n",
      "AUC-ROC 0.8691635259631492\n"
     ]
    }
   ],
   "source": [
    "model_final = RandomForestClassifier(n_estimators = 92, max_depth = 9, random_state = RANDOM_STATE, class_weight = 'balanced')\n",
    "model_final.fit(features_train, target_train)\n",
    "prediction = model_final.predict(features_valid)\n",
    "\n",
    "print('Accuracy', accuracy_score(target_valid, prediction))\n",
    "print('Precision', precision_score(target_valid, prediction))\n",
    "print('Recall', recall_score(target_valid, prediction))\n",
    "print('F1', f1_score(target_valid, prediction))\n",
    "\n",
    "probabilities_valid = model_final.predict_proba(features_valid)[:, 1]\n",
    "\n",
    "print(\"AUC-ROC\", roc_auc_score(target_valid, probabilities_valid))"
   ]
  },
  {
   "cell_type": "markdown",
   "metadata": {},
   "source": [
    "<a id='section4.2'></a>\n",
    "### Проверка на адекватность"
   ]
  },
  {
   "cell_type": "code",
   "execution_count": 38,
   "metadata": {},
   "outputs": [
    {
     "name": "stdout",
     "output_type": "stream",
     "text": [
      "Accuracy константой модели: 0.796\n",
      "Accuracy финальной модели: 0.845\n",
      "\n",
      "AUC-ROC константой модели: 0.5\n",
      "AUC-ROC финальной модели: 0.8691635259631492\n"
     ]
    }
   ],
   "source": [
    "# Создание константной модели\n",
    "target_constant = pd.Series([0] * len(target_valid))\n",
    "\n",
    "# Сравнение показателей точности (accuracy_score) константной модели и финальной\n",
    "print('Accuracy константой модели:', accuracy_score(target_valid, target_constant))\n",
    "print('Accuracy финальной модели:', accuracy_score(target_valid, prediction))\n",
    "print()\n",
    "# Сравнение AUC-ROC\n",
    "print('AUC-ROC константой модели:', roc_auc_score(target_valid, target_constant))\n",
    "print('AUC-ROC финальной модели:', roc_auc_score(target_valid, probabilities_valid))\n"
   ]
  },
  {
   "cell_type": "markdown",
   "metadata": {},
   "source": [
    "**Вывод:** Модель является адекватной, т.к. метрики финальной модели лучше чем константной"
   ]
  },
  {
   "cell_type": "code",
   "execution_count": 39,
   "metadata": {},
   "outputs": [
    {
     "name": "stdout",
     "output_type": "stream",
     "text": [
      "F1 константной модели: 0.0\n",
      "F1 финальной модели: 0.6444954128440367\n"
     ]
    }
   ],
   "source": [
    "# код ревьюера\n",
    "\n",
    "print('F1 константной модели:', f1_score(target_valid, target_constant))\n",
    "print('F1 финальной модели:', f1_score(target_valid, prediction))"
   ]
  },
  {
   "cell_type": "markdown",
   "metadata": {},
   "source": [
    "<a id='section4.3'></a>\n",
    "### Тестирование модели"
   ]
  },
  {
   "cell_type": "code",
   "execution_count": 40,
   "metadata": {},
   "outputs": [
    {
     "name": "stdout",
     "output_type": "stream",
     "text": [
      "Accuracy 0.8325\n",
      "Precision 0.5803571428571429\n",
      "Recall 0.6388206388206388\n",
      "F1 0.6081871345029239\n",
      "AUC-ROC 0.8541237693780067\n"
     ]
    }
   ],
   "source": [
    "model_final\n",
    "prediction = model_final.predict(features_test)\n",
    "\n",
    "print('Accuracy', accuracy_score(target_test, prediction))\n",
    "print('Precision', precision_score(target_test, prediction))\n",
    "print('Recall', recall_score(target_test, prediction))\n",
    "print('F1', f1_score(target_test, prediction))\n",
    "\n",
    "probabilities_valid = model_final.predict_proba(features_test)[:, 1]\n",
    "\n",
    "print(\"AUC-ROC\", roc_auc_score(target_test, probabilities_valid))\n",
    "\n",
    "fpr, tpr, thresholds = roc_curve(target_test, probabilities_valid)"
   ]
  },
  {
   "cell_type": "code",
   "execution_count": 41,
   "metadata": {},
   "outputs": [
    {
     "data": {
      "text/plain": [
       "<Figure size 432x288 with 0 Axes>"
      ]
     },
     "metadata": {},
     "output_type": "display_data"
    },
    {
     "data": {
      "image/png": "[encoded data removed]",
      "text/plain": [
       "<Figure size 936x504 with 1 Axes>"
      ]
     },
     "metadata": {
      "needs_background": "light"
     },
     "output_type": "display_data"
    }
   ],
   "source": [
    "plt.figure()\n",
    "\n",
    "plt.figure(figsize = (13, 7))\n",
    "plt.plot([0, 1], [0, 1], linestyle = '--')\n",
    "plt.xlim([0.0, 1.0])\n",
    "plt.ylim([0.0, 1.0])\n",
    "plt.plot(fpr,tpr)\n",
    "plt.xlabel('False Positive Rate')\n",
    "plt.ylabel('True Positive Rate')\n",
    "plt.title('ROC-кривая')\n",
    "plt.legend(('Случайная модель', 'Тестируемая модель'),\n",
    "           loc = 'upper left') \n",
    "plt.show()"
   ]
  },
  {
   "cell_type": "markdown",
   "metadata": {},
   "source": [
    "**Вывод:**\n",
    "\n",
    "В ходе работы, было сделано следующее:\n",
    "- подготовка данных, преобразование и последующее формирование выборок\n",
    "- обучение модели без учёта дисбаланса в данных\n",
    "- борьба с дисбалансом и последующее обучение модели путём принятия параметра автоматической регулировки весов и с помощью функции Upsampling\n",
    "- визуализация AUC-ROC для каждой из моделей после больбы с дисбалансом\n",
    "- принятие финальной модели на основе алгоритма \"RandomForest\", для которой достигнуто значение меры F1>=0.59."
   ]
  }
 ],
 "metadata": {
  "ExecuteTimeLog": [
   {
    "duration": 1581,
    "start_time": "2022-06-23T00:39:45.643Z"
   },
   {
    "duration": 116,
    "start_time": "2022-06-23T00:46:14.324Z"
   },
   {
    "duration": 48,
    "start_time": "2022-06-23T00:46:29.164Z"
   },
   {
    "duration": 15,
    "start_time": "2022-06-23T00:46:35.974Z"
   },
   {
    "duration": 4,
    "start_time": "2022-06-23T00:53:48.322Z"
   },
   {
    "duration": 52,
    "start_time": "2022-06-23T01:07:32.565Z"
   },
   {
    "duration": 12,
    "start_time": "2022-06-23T01:07:33.507Z"
   },
   {
    "duration": 23,
    "start_time": "2022-06-23T01:08:02.129Z"
   },
   {
    "duration": 16,
    "start_time": "2022-06-23T01:08:38.386Z"
   },
   {
    "duration": 15,
    "start_time": "2022-06-23T01:08:54.266Z"
   },
   {
    "duration": 24,
    "start_time": "2022-06-23T01:10:51.826Z"
   },
   {
    "duration": 31,
    "start_time": "2022-06-23T01:11:26.950Z"
   },
   {
    "duration": 1172,
    "start_time": "2022-06-23T01:18:20.391Z"
   },
   {
    "duration": 1038,
    "start_time": "2022-06-23T01:18:39.060Z"
   },
   {
    "duration": 934,
    "start_time": "2022-06-23T01:21:09.162Z"
   },
   {
    "duration": 9,
    "start_time": "2022-06-23T01:21:16.455Z"
   },
   {
    "duration": 7,
    "start_time": "2022-06-23T01:21:25.519Z"
   },
   {
    "duration": 9,
    "start_time": "2022-06-23T01:23:44.557Z"
   },
   {
    "duration": 6,
    "start_time": "2022-06-23T01:23:55.578Z"
   },
   {
    "duration": 8,
    "start_time": "2022-06-23T01:24:05.870Z"
   },
   {
    "duration": 6,
    "start_time": "2022-06-23T01:24:10.754Z"
   },
   {
    "duration": 1538,
    "start_time": "2022-06-23T01:24:15.195Z"
   },
   {
    "duration": 68,
    "start_time": "2022-06-23T01:24:16.735Z"
   },
   {
    "duration": 14,
    "start_time": "2022-06-23T01:24:16.805Z"
   },
   {
    "duration": 21,
    "start_time": "2022-06-23T01:24:16.821Z"
   },
   {
    "duration": 25,
    "start_time": "2022-06-23T01:24:16.848Z"
   },
   {
    "duration": 7,
    "start_time": "2022-06-23T01:24:16.874Z"
   },
   {
    "duration": 9,
    "start_time": "2022-06-23T01:24:16.882Z"
   },
   {
    "duration": 119,
    "start_time": "2022-06-23T01:24:16.893Z"
   },
   {
    "duration": 17,
    "start_time": "2022-06-23T01:24:26.155Z"
   },
   {
    "duration": 6,
    "start_time": "2022-06-23T01:28:34.069Z"
   },
   {
    "duration": 1456,
    "start_time": "2022-06-23T01:29:01.108Z"
   },
   {
    "duration": 57,
    "start_time": "2022-06-23T01:29:02.565Z"
   },
   {
    "duration": 13,
    "start_time": "2022-06-23T01:29:03.786Z"
   },
   {
    "duration": 16,
    "start_time": "2022-06-23T01:29:04.667Z"
   },
   {
    "duration": 8,
    "start_time": "2022-06-23T01:29:07.530Z"
   },
   {
    "duration": 5,
    "start_time": "2022-06-23T01:29:09.771Z"
   },
   {
    "duration": 12,
    "start_time": "2022-06-23T01:37:19.862Z"
   },
   {
    "duration": 23,
    "start_time": "2022-06-23T01:37:23.997Z"
   },
   {
    "duration": 1416,
    "start_time": "2022-06-23T01:38:47.305Z"
   },
   {
    "duration": 56,
    "start_time": "2022-06-23T01:38:49.557Z"
   },
   {
    "duration": 18,
    "start_time": "2022-06-23T01:38:52.550Z"
   },
   {
    "duration": 8,
    "start_time": "2022-06-23T01:38:59.566Z"
   },
   {
    "duration": 29,
    "start_time": "2022-06-23T01:39:25.410Z"
   },
   {
    "duration": 10,
    "start_time": "2022-06-23T01:39:46.425Z"
   },
   {
    "duration": 5,
    "start_time": "2022-06-23T01:40:45.165Z"
   },
   {
    "duration": 6,
    "start_time": "2022-06-23T01:49:47.804Z"
   },
   {
    "duration": 120,
    "start_time": "2022-06-23T01:50:35.803Z"
   },
   {
    "duration": 1319,
    "start_time": "2022-06-23T01:51:04.708Z"
   },
   {
    "duration": 56,
    "start_time": "2022-06-23T01:51:06.029Z"
   },
   {
    "duration": 13,
    "start_time": "2022-06-23T01:51:06.087Z"
   },
   {
    "duration": 33,
    "start_time": "2022-06-23T01:51:06.101Z"
   },
   {
    "duration": 6,
    "start_time": "2022-06-23T01:51:06.136Z"
   },
   {
    "duration": 7,
    "start_time": "2022-06-23T01:51:06.143Z"
   },
   {
    "duration": 16,
    "start_time": "2022-06-23T01:51:06.152Z"
   },
   {
    "duration": 4,
    "start_time": "2022-06-23T01:51:06.169Z"
   },
   {
    "duration": 5,
    "start_time": "2022-06-23T01:51:06.175Z"
   },
   {
    "duration": 105,
    "start_time": "2022-06-23T01:51:11.996Z"
   },
   {
    "duration": 1252,
    "start_time": "2022-06-23T01:51:28.064Z"
   },
   {
    "duration": 52,
    "start_time": "2022-06-23T01:51:29.318Z"
   },
   {
    "duration": 13,
    "start_time": "2022-06-23T01:51:30.375Z"
   },
   {
    "duration": 16,
    "start_time": "2022-06-23T01:51:30.704Z"
   },
   {
    "duration": 6,
    "start_time": "2022-06-23T01:51:31.955Z"
   },
   {
    "duration": 6,
    "start_time": "2022-06-23T01:51:32.863Z"
   },
   {
    "duration": 12,
    "start_time": "2022-06-23T01:51:40.522Z"
   },
   {
    "duration": 15,
    "start_time": "2022-06-23T01:57:33.622Z"
   },
   {
    "duration": 7,
    "start_time": "2022-06-23T02:00:45.391Z"
   },
   {
    "duration": 1414,
    "start_time": "2022-06-23T02:01:42.213Z"
   },
   {
    "duration": 55,
    "start_time": "2022-06-23T02:01:43.629Z"
   },
   {
    "duration": 14,
    "start_time": "2022-06-23T02:01:43.686Z"
   },
   {
    "duration": 27,
    "start_time": "2022-06-23T02:01:43.702Z"
   },
   {
    "duration": 7,
    "start_time": "2022-06-23T02:01:47.141Z"
   },
   {
    "duration": 6,
    "start_time": "2022-06-23T02:01:47.658Z"
   },
   {
    "duration": 13,
    "start_time": "2022-06-23T02:01:48.177Z"
   },
   {
    "duration": 8,
    "start_time": "2022-06-23T02:03:45.930Z"
   },
   {
    "duration": 55,
    "start_time": "2022-06-23T02:06:05.641Z"
   },
   {
    "duration": 16,
    "start_time": "2022-06-23T02:08:44.054Z"
   },
   {
    "duration": 17,
    "start_time": "2022-06-23T02:08:53.270Z"
   },
   {
    "duration": 109,
    "start_time": "2022-06-23T02:13:20.139Z"
   },
   {
    "duration": 6,
    "start_time": "2022-06-23T02:13:29.694Z"
   },
   {
    "duration": 6,
    "start_time": "2022-06-23T02:13:33.190Z"
   },
   {
    "duration": 5,
    "start_time": "2022-06-23T02:13:34.658Z"
   },
   {
    "duration": 10,
    "start_time": "2022-06-23T02:14:16.266Z"
   },
   {
    "duration": 26,
    "start_time": "2022-06-23T02:14:21.135Z"
   },
   {
    "duration": 8,
    "start_time": "2022-06-23T02:14:44.048Z"
   },
   {
    "duration": 13,
    "start_time": "2022-06-23T02:15:12.839Z"
   },
   {
    "duration": 4,
    "start_time": "2022-06-23T02:19:19.282Z"
   },
   {
    "duration": 16,
    "start_time": "2022-06-23T02:25:36.214Z"
   },
   {
    "duration": 4,
    "start_time": "2022-06-23T02:43:37.248Z"
   },
   {
    "duration": 14,
    "start_time": "2022-06-23T02:43:37.999Z"
   },
   {
    "duration": 15,
    "start_time": "2022-06-23T02:44:00.928Z"
   },
   {
    "duration": 13,
    "start_time": "2022-06-23T02:45:35.808Z"
   },
   {
    "duration": 7,
    "start_time": "2022-06-23T02:45:49.245Z"
   },
   {
    "duration": 9,
    "start_time": "2022-06-23T02:52:20.367Z"
   },
   {
    "duration": 12,
    "start_time": "2022-06-23T02:52:25.521Z"
   },
   {
    "duration": 5,
    "start_time": "2022-06-23T02:52:37.909Z"
   },
   {
    "duration": 5,
    "start_time": "2022-06-23T02:52:56.052Z"
   },
   {
    "duration": 5,
    "start_time": "2022-06-23T02:52:59.540Z"
   },
   {
    "duration": 5,
    "start_time": "2022-06-23T02:53:03.358Z"
   },
   {
    "duration": 6,
    "start_time": "2022-06-23T02:53:24.444Z"
   },
   {
    "duration": 160,
    "start_time": "2022-06-23T03:12:18.484Z"
   },
   {
    "duration": 31,
    "start_time": "2022-06-23T03:17:55.453Z"
   },
   {
    "duration": 26,
    "start_time": "2022-06-23T03:18:24.677Z"
   },
   {
    "duration": 18,
    "start_time": "2022-06-23T03:18:51.097Z"
   },
   {
    "duration": 29,
    "start_time": "2022-06-23T03:19:36.562Z"
   },
   {
    "duration": 23,
    "start_time": "2022-06-23T03:20:04.119Z"
   },
   {
    "duration": 96,
    "start_time": "2022-06-23T03:30:26.612Z"
   },
   {
    "duration": 184,
    "start_time": "2022-06-23T03:33:01.584Z"
   },
   {
    "duration": 92,
    "start_time": "2022-06-23T03:33:06.429Z"
   },
   {
    "duration": 3715,
    "start_time": "2022-06-23T03:33:30.323Z"
   },
   {
    "duration": 3813,
    "start_time": "2022-06-23T03:33:50.552Z"
   },
   {
    "duration": 121,
    "start_time": "2022-06-23T03:34:36.549Z"
   },
   {
    "duration": 57,
    "start_time": "2022-06-23T03:34:41.399Z"
   },
   {
    "duration": 122,
    "start_time": "2022-06-23T03:35:01.265Z"
   },
   {
    "duration": 3757,
    "start_time": "2022-06-23T03:35:12.552Z"
   },
   {
    "duration": 2212,
    "start_time": "2022-06-23T03:35:37.001Z"
   },
   {
    "duration": 59,
    "start_time": "2022-06-23T03:39:56.204Z"
   },
   {
    "duration": 41,
    "start_time": "2022-06-23T03:40:03.865Z"
   },
   {
    "duration": 419,
    "start_time": "2022-06-23T03:42:50.155Z"
   },
   {
    "duration": 368,
    "start_time": "2022-06-23T03:44:01.117Z"
   },
   {
    "duration": 153,
    "start_time": "2022-06-23T04:06:08.166Z"
   },
   {
    "duration": 448,
    "start_time": "2022-06-23T04:06:23.839Z"
   },
   {
    "duration": 431,
    "start_time": "2022-06-23T04:08:14.752Z"
   },
   {
    "duration": 415,
    "start_time": "2022-06-23T04:09:30.291Z"
   },
   {
    "duration": 4826,
    "start_time": "2022-06-23T04:11:00.752Z"
   },
   {
    "duration": 3894,
    "start_time": "2022-06-23T04:11:33.955Z"
   },
   {
    "duration": 2956,
    "start_time": "2022-06-23T04:11:45.226Z"
   },
   {
    "duration": 3859,
    "start_time": "2022-06-23T04:11:54.062Z"
   },
   {
    "duration": 4734,
    "start_time": "2022-06-23T04:12:10.474Z"
   },
   {
    "duration": 7277,
    "start_time": "2022-06-23T04:12:21.602Z"
   },
   {
    "duration": 10798,
    "start_time": "2022-06-23T04:12:35.477Z"
   },
   {
    "duration": 13158,
    "start_time": "2022-06-23T04:13:18.237Z"
   },
   {
    "duration": 289,
    "start_time": "2022-06-23T04:14:07.739Z"
   },
   {
    "duration": 1352,
    "start_time": "2022-06-23T04:18:49.199Z"
   },
   {
    "duration": 55,
    "start_time": "2022-06-23T04:18:50.553Z"
   },
   {
    "duration": 15,
    "start_time": "2022-06-23T04:18:50.610Z"
   },
   {
    "duration": 24,
    "start_time": "2022-06-23T04:18:50.627Z"
   },
   {
    "duration": 8,
    "start_time": "2022-06-23T04:18:50.653Z"
   },
   {
    "duration": 15,
    "start_time": "2022-06-23T04:18:50.662Z"
   },
   {
    "duration": 21,
    "start_time": "2022-06-23T04:18:50.679Z"
   },
   {
    "duration": 61,
    "start_time": "2022-06-23T04:18:50.702Z"
   },
   {
    "duration": 4,
    "start_time": "2022-06-23T04:18:50.764Z"
   },
   {
    "duration": 8,
    "start_time": "2022-06-23T04:18:50.770Z"
   },
   {
    "duration": 17,
    "start_time": "2022-06-23T04:18:50.779Z"
   },
   {
    "duration": 34,
    "start_time": "2022-06-23T04:18:50.797Z"
   },
   {
    "duration": 7,
    "start_time": "2022-06-23T04:18:50.832Z"
   },
   {
    "duration": 12,
    "start_time": "2022-06-23T04:18:50.841Z"
   },
   {
    "duration": 9,
    "start_time": "2022-06-23T04:18:50.855Z"
   },
   {
    "duration": 33,
    "start_time": "2022-06-23T04:18:50.866Z"
   },
   {
    "duration": 45,
    "start_time": "2022-06-23T04:18:50.901Z"
   },
   {
    "duration": 166,
    "start_time": "2022-06-23T04:18:50.948Z"
   },
   {
    "duration": 129,
    "start_time": "2022-06-23T04:18:51.116Z"
   },
   {
    "duration": 34,
    "start_time": "2022-06-23T04:18:51.247Z"
   },
   {
    "duration": 531,
    "start_time": "2022-06-23T04:18:51.283Z"
   },
   {
    "duration": 0,
    "start_time": "2022-06-23T04:18:51.816Z"
   },
   {
    "duration": 0,
    "start_time": "2022-06-23T04:18:51.817Z"
   },
   {
    "duration": 0,
    "start_time": "2022-06-23T04:18:51.819Z"
   },
   {
    "duration": 0,
    "start_time": "2022-06-23T04:18:51.820Z"
   },
   {
    "duration": 0,
    "start_time": "2022-06-23T04:18:51.826Z"
   },
   {
    "duration": 2171,
    "start_time": "2022-06-23T04:19:33.189Z"
   },
   {
    "duration": 1401,
    "start_time": "2022-06-23T04:19:42.404Z"
   },
   {
    "duration": 55,
    "start_time": "2022-06-23T04:19:43.807Z"
   },
   {
    "duration": 13,
    "start_time": "2022-06-23T04:19:43.864Z"
   },
   {
    "duration": 24,
    "start_time": "2022-06-23T04:19:43.879Z"
   },
   {
    "duration": 7,
    "start_time": "2022-06-23T04:19:43.905Z"
   },
   {
    "duration": 19,
    "start_time": "2022-06-23T04:19:43.914Z"
   },
   {
    "duration": 25,
    "start_time": "2022-06-23T04:19:43.934Z"
   },
   {
    "duration": 72,
    "start_time": "2022-06-23T04:19:43.961Z"
   },
   {
    "duration": 5,
    "start_time": "2022-06-23T04:19:44.034Z"
   },
   {
    "duration": 14,
    "start_time": "2022-06-23T04:19:44.040Z"
   },
   {
    "duration": 23,
    "start_time": "2022-06-23T04:19:44.055Z"
   },
   {
    "duration": 18,
    "start_time": "2022-06-23T04:19:44.080Z"
   },
   {
    "duration": 7,
    "start_time": "2022-06-23T04:19:44.100Z"
   },
   {
    "duration": 26,
    "start_time": "2022-06-23T04:19:44.110Z"
   },
   {
    "duration": 17,
    "start_time": "2022-06-23T04:19:44.137Z"
   },
   {
    "duration": 30,
    "start_time": "2022-06-23T04:19:44.156Z"
   },
   {
    "duration": 28,
    "start_time": "2022-06-23T04:19:44.188Z"
   },
   {
    "duration": 178,
    "start_time": "2022-06-23T04:19:44.227Z"
   },
   {
    "duration": 131,
    "start_time": "2022-06-23T04:19:44.407Z"
   },
   {
    "duration": 39,
    "start_time": "2022-06-23T04:19:44.540Z"
   },
   {
    "duration": 2316,
    "start_time": "2022-06-23T04:19:44.580Z"
   },
   {
    "duration": 444,
    "start_time": "2022-06-23T04:19:46.898Z"
   },
   {
    "duration": 383,
    "start_time": "2022-06-23T04:19:47.345Z"
   },
   {
    "duration": 565,
    "start_time": "2022-06-23T04:19:47.731Z"
   },
   {
    "duration": 465,
    "start_time": "2022-06-23T04:19:48.298Z"
   },
   {
    "duration": 0,
    "start_time": "2022-06-23T04:19:48.765Z"
   },
   {
    "duration": 10991,
    "start_time": "2022-06-23T04:20:34.957Z"
   },
   {
    "duration": 130,
    "start_time": "2022-06-23T04:20:49.708Z"
   },
   {
    "duration": 1358,
    "start_time": "2022-06-23T10:28:03.024Z"
   },
   {
    "duration": 54,
    "start_time": "2022-06-23T10:28:04.383Z"
   },
   {
    "duration": 11,
    "start_time": "2022-06-23T10:28:04.439Z"
   },
   {
    "duration": 24,
    "start_time": "2022-06-23T10:28:04.452Z"
   },
   {
    "duration": 6,
    "start_time": "2022-06-23T10:28:04.478Z"
   },
   {
    "duration": 17,
    "start_time": "2022-06-23T10:28:04.485Z"
   },
   {
    "duration": 20,
    "start_time": "2022-06-23T10:28:04.503Z"
   },
   {
    "duration": 50,
    "start_time": "2022-06-23T10:28:04.526Z"
   },
   {
    "duration": 4,
    "start_time": "2022-06-23T10:28:04.577Z"
   },
   {
    "duration": 19,
    "start_time": "2022-06-23T10:28:04.583Z"
   },
   {
    "duration": 19,
    "start_time": "2022-06-23T10:28:04.604Z"
   },
   {
    "duration": 19,
    "start_time": "2022-06-23T10:28:04.625Z"
   },
   {
    "duration": 5,
    "start_time": "2022-06-23T10:28:04.646Z"
   },
   {
    "duration": 14,
    "start_time": "2022-06-23T10:28:04.653Z"
   },
   {
    "duration": 15,
    "start_time": "2022-06-23T10:28:04.669Z"
   },
   {
    "duration": 47,
    "start_time": "2022-06-23T10:28:04.686Z"
   },
   {
    "duration": 32,
    "start_time": "2022-06-23T10:28:04.735Z"
   },
   {
    "duration": 168,
    "start_time": "2022-06-23T10:28:04.769Z"
   },
   {
    "duration": 128,
    "start_time": "2022-06-23T10:28:04.939Z"
   },
   {
    "duration": 38,
    "start_time": "2022-06-23T10:28:05.069Z"
   },
   {
    "duration": 2281,
    "start_time": "2022-06-23T10:28:05.108Z"
   },
   {
    "duration": 425,
    "start_time": "2022-06-23T10:28:07.391Z"
   },
   {
    "duration": 314,
    "start_time": "2022-06-23T10:28:07.818Z"
   },
   {
    "duration": 623,
    "start_time": "2022-06-23T10:28:08.135Z"
   },
   {
    "duration": 10993,
    "start_time": "2022-06-23T10:28:08.759Z"
   },
   {
    "duration": 279,
    "start_time": "2022-06-23T10:28:19.754Z"
   },
   {
    "duration": 92,
    "start_time": "2022-06-23T10:28:20.036Z"
   },
   {
    "duration": 2,
    "start_time": "2022-06-23T10:29:24.448Z"
   },
   {
    "duration": 10,
    "start_time": "2022-06-23T10:32:13.725Z"
   },
   {
    "duration": 117,
    "start_time": "2022-06-23T10:32:15.860Z"
   },
   {
    "duration": 1343,
    "start_time": "2022-06-23T10:32:59.138Z"
   },
   {
    "duration": 58,
    "start_time": "2022-06-23T10:33:00.484Z"
   },
   {
    "duration": 14,
    "start_time": "2022-06-23T10:33:00.545Z"
   },
   {
    "duration": 46,
    "start_time": "2022-06-23T10:33:00.561Z"
   },
   {
    "duration": 7,
    "start_time": "2022-06-23T10:33:01.172Z"
   },
   {
    "duration": 11,
    "start_time": "2022-06-23T10:33:01.437Z"
   },
   {
    "duration": 12,
    "start_time": "2022-06-23T10:33:01.679Z"
   },
   {
    "duration": 67,
    "start_time": "2022-06-23T10:33:02.476Z"
   },
   {
    "duration": 4,
    "start_time": "2022-06-23T10:33:02.939Z"
   },
   {
    "duration": 5,
    "start_time": "2022-06-23T10:33:03.240Z"
   },
   {
    "duration": 11,
    "start_time": "2022-06-23T10:33:03.540Z"
   },
   {
    "duration": 20,
    "start_time": "2022-06-23T10:33:03.823Z"
   },
   {
    "duration": 6,
    "start_time": "2022-06-23T10:33:04.536Z"
   },
   {
    "duration": 8,
    "start_time": "2022-06-23T10:33:04.875Z"
   },
   {
    "duration": 5,
    "start_time": "2022-06-23T10:33:05.123Z"
   },
   {
    "duration": 29,
    "start_time": "2022-06-23T10:33:05.379Z"
   },
   {
    "duration": 31,
    "start_time": "2022-06-23T10:33:05.743Z"
   },
   {
    "duration": 176,
    "start_time": "2022-06-23T10:33:09.607Z"
   },
   {
    "duration": 127,
    "start_time": "2022-06-23T10:33:11.715Z"
   },
   {
    "duration": 36,
    "start_time": "2022-06-23T10:33:15.079Z"
   },
   {
    "duration": 2244,
    "start_time": "2022-06-23T10:33:15.743Z"
   },
   {
    "duration": 434,
    "start_time": "2022-06-23T10:33:17.988Z"
   },
   {
    "duration": 507,
    "start_time": "2022-06-23T10:33:18.429Z"
   },
   {
    "duration": 644,
    "start_time": "2022-06-23T10:33:18.938Z"
   },
   {
    "duration": 11208,
    "start_time": "2022-06-23T10:33:19.583Z"
   },
   {
    "duration": 349,
    "start_time": "2022-06-23T10:33:30.793Z"
   },
   {
    "duration": 7,
    "start_time": "2022-06-23T10:33:31.227Z"
   },
   {
    "duration": 239,
    "start_time": "2022-06-23T10:33:31.236Z"
   },
   {
    "duration": 4,
    "start_time": "2022-06-23T10:33:51.239Z"
   },
   {
    "duration": 11,
    "start_time": "2022-06-23T10:33:52.241Z"
   },
   {
    "duration": 27,
    "start_time": "2022-06-23T10:35:30.247Z"
   },
   {
    "duration": 124,
    "start_time": "2022-06-23T10:35:47.519Z"
   },
   {
    "duration": 157,
    "start_time": "2022-06-23T10:36:01.415Z"
   },
   {
    "duration": 14959,
    "start_time": "2022-06-23T10:38:52.856Z"
   },
   {
    "duration": 552,
    "start_time": "2022-06-23T10:39:50.946Z"
   },
   {
    "duration": 393,
    "start_time": "2022-06-23T10:40:55.049Z"
   },
   {
    "duration": 182,
    "start_time": "2022-06-23T10:43:32.841Z"
   },
   {
    "duration": 179,
    "start_time": "2022-06-23T10:46:09.312Z"
   },
   {
    "duration": 542,
    "start_time": "2022-06-23T10:54:50.020Z"
   },
   {
    "duration": 509,
    "start_time": "2022-06-23T10:54:57.620Z"
   },
   {
    "duration": 528,
    "start_time": "2022-06-23T10:55:00.240Z"
   },
   {
    "duration": 244,
    "start_time": "2022-06-23T11:01:50.803Z"
   },
   {
    "duration": 455,
    "start_time": "2022-06-23T11:03:33.228Z"
   },
   {
    "duration": 1469,
    "start_time": "2022-06-23T11:04:31.118Z"
   },
   {
    "duration": 58,
    "start_time": "2022-06-23T11:04:32.589Z"
   },
   {
    "duration": 16,
    "start_time": "2022-06-23T11:04:32.649Z"
   },
   {
    "duration": 33,
    "start_time": "2022-06-23T11:04:32.666Z"
   },
   {
    "duration": 11,
    "start_time": "2022-06-23T11:04:32.702Z"
   },
   {
    "duration": 34,
    "start_time": "2022-06-23T11:04:32.715Z"
   },
   {
    "duration": 41,
    "start_time": "2022-06-23T11:04:32.751Z"
   },
   {
    "duration": 76,
    "start_time": "2022-06-23T11:04:32.794Z"
   },
   {
    "duration": 5,
    "start_time": "2022-06-23T11:04:32.872Z"
   },
   {
    "duration": 26,
    "start_time": "2022-06-23T11:04:32.878Z"
   },
   {
    "duration": 27,
    "start_time": "2022-06-23T11:04:32.905Z"
   },
   {
    "duration": 24,
    "start_time": "2022-06-23T11:04:32.933Z"
   },
   {
    "duration": 18,
    "start_time": "2022-06-23T11:04:32.958Z"
   },
   {
    "duration": 39,
    "start_time": "2022-06-23T11:04:32.979Z"
   },
   {
    "duration": 30,
    "start_time": "2022-06-23T11:04:33.019Z"
   },
   {
    "duration": 46,
    "start_time": "2022-06-23T11:04:33.050Z"
   },
   {
    "duration": 32,
    "start_time": "2022-06-23T11:04:33.097Z"
   },
   {
    "duration": 152,
    "start_time": "2022-06-23T11:04:33.130Z"
   },
   {
    "duration": 121,
    "start_time": "2022-06-23T11:04:33.284Z"
   },
   {
    "duration": 49,
    "start_time": "2022-06-23T11:04:33.406Z"
   },
   {
    "duration": 2254,
    "start_time": "2022-06-23T11:04:33.456Z"
   },
   {
    "duration": 425,
    "start_time": "2022-06-23T11:04:35.712Z"
   },
   {
    "duration": 402,
    "start_time": "2022-06-23T11:04:36.139Z"
   },
   {
    "duration": 549,
    "start_time": "2022-06-23T11:04:36.542Z"
   },
   {
    "duration": 10812,
    "start_time": "2022-06-23T11:04:37.093Z"
   },
   {
    "duration": 221,
    "start_time": "2022-06-23T11:04:47.907Z"
   },
   {
    "duration": 261,
    "start_time": "2022-06-23T11:04:48.130Z"
   },
   {
    "duration": 4,
    "start_time": "2022-06-23T11:04:48.393Z"
   },
   {
    "duration": 33,
    "start_time": "2022-06-23T11:04:48.399Z"
   },
   {
    "duration": 535,
    "start_time": "2022-06-23T11:04:48.434Z"
   },
   {
    "duration": 14758,
    "start_time": "2022-06-23T11:04:48.971Z"
   },
   {
    "duration": 396,
    "start_time": "2022-06-23T11:05:03.731Z"
   },
   {
    "duration": 293,
    "start_time": "2022-06-23T11:05:04.129Z"
   },
   {
    "duration": 622,
    "start_time": "2022-06-23T11:05:04.423Z"
   },
   {
    "duration": 192,
    "start_time": "2022-06-23T11:05:57.555Z"
   },
   {
    "duration": 182,
    "start_time": "2022-06-23T11:06:17.856Z"
   },
   {
    "duration": 119,
    "start_time": "2022-06-23T11:10:09.489Z"
   },
   {
    "duration": 12,
    "start_time": "2022-06-23T11:10:22.739Z"
   },
   {
    "duration": 12,
    "start_time": "2022-06-23T11:10:34.747Z"
   },
   {
    "duration": 9,
    "start_time": "2022-06-23T11:11:32.503Z"
   },
   {
    "duration": 82,
    "start_time": "2022-06-23T11:15:22.286Z"
   },
   {
    "duration": 167,
    "start_time": "2022-06-23T11:16:00.847Z"
   },
   {
    "duration": 171,
    "start_time": "2022-06-23T11:21:03.518Z"
   },
   {
    "duration": 1288,
    "start_time": "2022-06-23T11:21:13.524Z"
   },
   {
    "duration": 55,
    "start_time": "2022-06-23T11:21:14.814Z"
   },
   {
    "duration": 12,
    "start_time": "2022-06-23T11:21:14.871Z"
   },
   {
    "duration": 20,
    "start_time": "2022-06-23T11:21:14.885Z"
   },
   {
    "duration": 6,
    "start_time": "2022-06-23T11:21:14.907Z"
   },
   {
    "duration": 12,
    "start_time": "2022-06-23T11:21:14.915Z"
   },
   {
    "duration": 11,
    "start_time": "2022-06-23T11:21:14.929Z"
   },
   {
    "duration": 54,
    "start_time": "2022-06-23T11:21:14.941Z"
   },
   {
    "duration": 32,
    "start_time": "2022-06-23T11:21:14.996Z"
   },
   {
    "duration": 5,
    "start_time": "2022-06-23T11:21:15.031Z"
   },
   {
    "duration": 45,
    "start_time": "2022-06-23T11:21:15.037Z"
   },
   {
    "duration": 23,
    "start_time": "2022-06-23T11:21:15.084Z"
   },
   {
    "duration": 15,
    "start_time": "2022-06-23T11:21:15.108Z"
   },
   {
    "duration": 8,
    "start_time": "2022-06-23T11:21:15.125Z"
   },
   {
    "duration": 5,
    "start_time": "2022-06-23T11:21:15.134Z"
   },
   {
    "duration": 37,
    "start_time": "2022-06-23T11:21:15.140Z"
   },
   {
    "duration": 26,
    "start_time": "2022-06-23T11:21:15.179Z"
   },
   {
    "duration": 174,
    "start_time": "2022-06-23T11:21:15.207Z"
   },
   {
    "duration": 127,
    "start_time": "2022-06-23T11:21:15.383Z"
   },
   {
    "duration": 43,
    "start_time": "2022-06-23T11:21:15.511Z"
   },
   {
    "duration": 2244,
    "start_time": "2022-06-23T11:21:15.555Z"
   },
   {
    "duration": 408,
    "start_time": "2022-06-23T11:21:17.801Z"
   },
   {
    "duration": 322,
    "start_time": "2022-06-23T11:21:18.210Z"
   },
   {
    "duration": 614,
    "start_time": "2022-06-23T11:21:18.534Z"
   },
   {
    "duration": 10944,
    "start_time": "2022-06-23T11:21:19.149Z"
   },
   {
    "duration": 240,
    "start_time": "2022-06-23T11:21:30.095Z"
   },
   {
    "duration": 308,
    "start_time": "2022-06-23T11:21:30.428Z"
   },
   {
    "duration": 4,
    "start_time": "2022-06-23T11:21:30.739Z"
   },
   {
    "duration": 59,
    "start_time": "2022-06-23T11:21:30.744Z"
   },
   {
    "duration": 534,
    "start_time": "2022-06-23T11:21:30.805Z"
   },
   {
    "duration": 14308,
    "start_time": "2022-06-23T11:21:31.341Z"
   },
   {
    "duration": 479,
    "start_time": "2022-06-23T11:21:45.651Z"
   },
   {
    "duration": 288,
    "start_time": "2022-06-23T11:21:46.133Z"
   },
   {
    "duration": 591,
    "start_time": "2022-06-23T11:21:46.426Z"
   },
   {
    "duration": 13,
    "start_time": "2022-06-23T11:21:47.019Z"
   },
   {
    "duration": 93,
    "start_time": "2022-06-23T11:21:47.033Z"
   },
   {
    "duration": 161,
    "start_time": "2022-06-23T11:21:47.128Z"
   },
   {
    "duration": 12,
    "start_time": "2022-06-23T14:56:51.687Z"
   },
   {
    "duration": 1519,
    "start_time": "2022-06-23T14:57:03.902Z"
   },
   {
    "duration": 132,
    "start_time": "2022-06-23T14:57:07.375Z"
   },
   {
    "duration": 18,
    "start_time": "2022-06-23T14:57:07.662Z"
   },
   {
    "duration": 26,
    "start_time": "2022-06-23T14:57:07.904Z"
   },
   {
    "duration": 9,
    "start_time": "2022-06-23T14:57:08.522Z"
   },
   {
    "duration": 8,
    "start_time": "2022-06-23T14:57:08.850Z"
   },
   {
    "duration": 16,
    "start_time": "2022-06-23T14:57:09.666Z"
   },
   {
    "duration": 64,
    "start_time": "2022-06-23T14:57:10.788Z"
   },
   {
    "duration": 13,
    "start_time": "2022-06-23T15:01:15.606Z"
   },
   {
    "duration": 5,
    "start_time": "2022-06-23T15:01:35.019Z"
   },
   {
    "duration": 10,
    "start_time": "2022-06-23T15:01:35.613Z"
   },
   {
    "duration": 8,
    "start_time": "2022-06-23T15:12:12.642Z"
   },
   {
    "duration": 5,
    "start_time": "2022-06-23T15:12:14.990Z"
   },
   {
    "duration": 10,
    "start_time": "2022-06-23T15:12:16.574Z"
   },
   {
    "duration": 18,
    "start_time": "2022-06-23T15:12:17.614Z"
   },
   {
    "duration": 5,
    "start_time": "2022-06-23T15:12:18.766Z"
   },
   {
    "duration": 3,
    "start_time": "2022-06-23T15:12:19.733Z"
   },
   {
    "duration": 8,
    "start_time": "2022-06-23T15:12:20.750Z"
   },
   {
    "duration": 5,
    "start_time": "2022-06-23T15:12:25.181Z"
   },
   {
    "duration": 6,
    "start_time": "2022-06-23T15:18:37.026Z"
   },
   {
    "duration": 3,
    "start_time": "2022-06-23T15:18:37.835Z"
   },
   {
    "duration": 186,
    "start_time": "2022-06-23T15:18:38.767Z"
   },
   {
    "duration": 19,
    "start_time": "2022-06-23T15:20:48.031Z"
   },
   {
    "duration": 19,
    "start_time": "2022-06-23T15:20:55.112Z"
   },
   {
    "duration": 19,
    "start_time": "2022-06-23T15:21:03.395Z"
   },
   {
    "duration": 157,
    "start_time": "2022-06-23T15:21:21.466Z"
   },
   {
    "duration": 12,
    "start_time": "2022-06-23T15:22:08.185Z"
   },
   {
    "duration": 6,
    "start_time": "2022-06-23T15:22:12.266Z"
   },
   {
    "duration": 16,
    "start_time": "2022-06-23T15:22:50.159Z"
   },
   {
    "duration": 5,
    "start_time": "2022-06-23T15:22:53.788Z"
   },
   {
    "duration": 28,
    "start_time": "2022-06-23T15:26:31.612Z"
   },
   {
    "duration": 32,
    "start_time": "2022-06-23T15:26:35.485Z"
   },
   {
    "duration": 191,
    "start_time": "2022-06-23T15:26:41.444Z"
   },
   {
    "duration": 239,
    "start_time": "2022-06-23T15:26:58.419Z"
   },
   {
    "duration": 198,
    "start_time": "2022-06-23T15:27:03.891Z"
   },
   {
    "duration": 141,
    "start_time": "2022-06-23T15:27:08.603Z"
   },
   {
    "duration": 166,
    "start_time": "2022-06-23T15:28:16.624Z"
   },
   {
    "duration": 397,
    "start_time": "2022-06-23T15:28:21.367Z"
   },
   {
    "duration": 120,
    "start_time": "2022-06-23T15:28:25.017Z"
   },
   {
    "duration": 117,
    "start_time": "2022-06-23T15:29:27.351Z"
   },
   {
    "duration": 1228,
    "start_time": "2022-06-23T15:29:56.219Z"
   },
   {
    "duration": 56,
    "start_time": "2022-06-23T15:29:58.105Z"
   },
   {
    "duration": 14,
    "start_time": "2022-06-23T15:29:58.417Z"
   },
   {
    "duration": 19,
    "start_time": "2022-06-23T15:29:58.806Z"
   },
   {
    "duration": 7,
    "start_time": "2022-06-23T15:29:59.577Z"
   },
   {
    "duration": 6,
    "start_time": "2022-06-23T15:29:59.945Z"
   },
   {
    "duration": 12,
    "start_time": "2022-06-23T15:30:00.385Z"
   },
   {
    "duration": 74,
    "start_time": "2022-06-23T15:30:01.892Z"
   },
   {
    "duration": 10,
    "start_time": "2022-06-23T15:30:03.797Z"
   },
   {
    "duration": 5,
    "start_time": "2022-06-23T15:30:04.416Z"
   },
   {
    "duration": 11,
    "start_time": "2022-06-23T15:30:05.196Z"
   },
   {
    "duration": 5,
    "start_time": "2022-06-23T15:30:13.132Z"
   },
   {
    "duration": 11,
    "start_time": "2022-06-23T15:30:13.968Z"
   },
   {
    "duration": 21,
    "start_time": "2022-06-23T15:30:14.596Z"
   },
   {
    "duration": 5,
    "start_time": "2022-06-23T15:30:15.352Z"
   },
   {
    "duration": 3,
    "start_time": "2022-06-23T15:30:15.668Z"
   },
   {
    "duration": 11,
    "start_time": "2022-06-23T15:30:15.984Z"
   },
   {
    "duration": 5,
    "start_time": "2022-06-23T15:30:16.356Z"
   },
   {
    "duration": 33,
    "start_time": "2022-06-23T15:30:18.777Z"
   },
   {
    "duration": 35,
    "start_time": "2022-06-23T15:30:21.972Z"
   },
   {
    "duration": 168,
    "start_time": "2022-06-23T15:30:24.056Z"
   },
   {
    "duration": 119,
    "start_time": "2022-06-23T15:30:27.925Z"
   },
   {
    "duration": 40,
    "start_time": "2022-06-23T15:30:45.593Z"
   },
   {
    "duration": 2501,
    "start_time": "2022-06-23T15:30:51.000Z"
   },
   {
    "duration": 483,
    "start_time": "2022-06-23T15:30:53.503Z"
   },
   {
    "duration": 148,
    "start_time": "2022-06-23T15:30:57.224Z"
   },
   {
    "duration": 35,
    "start_time": "2022-06-23T15:31:21.470Z"
   },
   {
    "duration": 80,
    "start_time": "2022-06-23T15:36:06.925Z"
   },
   {
    "duration": 55,
    "start_time": "2022-06-23T15:36:09.953Z"
   },
   {
    "duration": 139,
    "start_time": "2022-06-23T15:36:24.390Z"
   },
   {
    "duration": 46,
    "start_time": "2022-06-23T15:36:27.599Z"
   },
   {
    "duration": 98,
    "start_time": "2022-06-23T15:36:38.356Z"
   },
   {
    "duration": 53,
    "start_time": "2022-06-23T15:36:42.193Z"
   },
   {
    "duration": 181,
    "start_time": "2022-06-23T15:36:50.205Z"
   },
   {
    "duration": 50,
    "start_time": "2022-06-23T15:36:54.659Z"
   },
   {
    "duration": 179,
    "start_time": "2022-06-23T15:38:34.409Z"
   },
   {
    "duration": 215,
    "start_time": "2022-06-23T15:38:39.001Z"
   },
   {
    "duration": 72,
    "start_time": "2022-06-23T15:38:45.546Z"
   },
   {
    "duration": 950,
    "start_time": "2022-06-23T15:38:49.769Z"
   },
   {
    "duration": 38,
    "start_time": "2022-06-23T15:40:56.893Z"
   },
   {
    "duration": 2473,
    "start_time": "2022-06-23T15:41:03.536Z"
   },
   {
    "duration": 466,
    "start_time": "2022-06-23T15:41:06.011Z"
   },
   {
    "duration": 459,
    "start_time": "2022-06-23T15:41:30.195Z"
   },
   {
    "duration": 238,
    "start_time": "2022-06-23T15:41:39.668Z"
   },
   {
    "duration": 530,
    "start_time": "2022-06-23T15:41:57.625Z"
   },
   {
    "duration": 12752,
    "start_time": "2022-06-23T15:42:02.659Z"
   },
   {
    "duration": 440,
    "start_time": "2022-06-23T15:42:25.744Z"
   },
   {
    "duration": 260,
    "start_time": "2022-06-23T15:42:29.001Z"
   },
   {
    "duration": 10,
    "start_time": "2022-06-23T15:42:43.987Z"
   },
   {
    "duration": 4,
    "start_time": "2022-06-23T15:44:18.302Z"
   },
   {
    "duration": 10,
    "start_time": "2022-06-23T15:44:18.797Z"
   },
   {
    "duration": 612,
    "start_time": "2022-06-23T15:44:20.550Z"
   },
   {
    "duration": 16609,
    "start_time": "2022-06-23T15:44:24.487Z"
   },
   {
    "duration": 16590,
    "start_time": "2022-06-23T15:45:06.318Z"
   },
   {
    "duration": 263,
    "start_time": "2022-06-23T15:47:06.336Z"
   },
   {
    "duration": 314,
    "start_time": "2022-06-23T15:47:10.102Z"
   },
   {
    "duration": 619,
    "start_time": "2022-06-23T15:47:20.363Z"
   },
   {
    "duration": 11,
    "start_time": "2022-06-23T15:47:23.434Z"
   },
   {
    "duration": 149,
    "start_time": "2022-06-23T15:48:42.261Z"
   },
   {
    "duration": 27,
    "start_time": "2022-06-23T15:50:50.858Z"
   },
   {
    "duration": 1282,
    "start_time": "2022-06-23T15:52:47.882Z"
   },
   {
    "duration": 52,
    "start_time": "2022-06-23T15:52:49.166Z"
   },
   {
    "duration": 13,
    "start_time": "2022-06-23T15:52:49.220Z"
   },
   {
    "duration": 15,
    "start_time": "2022-06-23T15:52:49.235Z"
   },
   {
    "duration": 6,
    "start_time": "2022-06-23T15:52:49.252Z"
   },
   {
    "duration": 7,
    "start_time": "2022-06-23T15:52:49.381Z"
   },
   {
    "duration": 11,
    "start_time": "2022-06-23T15:52:49.553Z"
   },
   {
    "duration": 69,
    "start_time": "2022-06-23T15:52:50.393Z"
   },
   {
    "duration": 10,
    "start_time": "2022-06-23T15:52:50.792Z"
   },
   {
    "duration": 4,
    "start_time": "2022-06-23T15:52:51.041Z"
   },
   {
    "duration": 7,
    "start_time": "2022-06-23T15:52:51.244Z"
   },
   {
    "duration": 4,
    "start_time": "2022-06-23T15:52:52.093Z"
   },
   {
    "duration": 10,
    "start_time": "2022-06-23T15:52:52.520Z"
   },
   {
    "duration": 19,
    "start_time": "2022-06-23T15:52:52.961Z"
   },
   {
    "duration": 5,
    "start_time": "2022-06-23T15:52:53.381Z"
   },
   {
    "duration": 3,
    "start_time": "2022-06-23T15:52:53.592Z"
   },
   {
    "duration": 12,
    "start_time": "2022-06-23T15:52:53.800Z"
   },
   {
    "duration": 4,
    "start_time": "2022-06-23T15:52:54.007Z"
   },
   {
    "duration": 27,
    "start_time": "2022-06-23T15:52:55.300Z"
   },
   {
    "duration": 27,
    "start_time": "2022-06-23T15:52:56.012Z"
   },
   {
    "duration": 169,
    "start_time": "2022-06-23T15:52:57.120Z"
   },
   {
    "duration": 124,
    "start_time": "2022-06-23T15:52:58.681Z"
   },
   {
    "duration": 33,
    "start_time": "2022-06-23T15:53:03.880Z"
   },
   {
    "duration": 2316,
    "start_time": "2022-06-23T15:53:07.357Z"
   },
   {
    "duration": 418,
    "start_time": "2022-06-23T15:53:09.675Z"
   },
   {
    "duration": 157,
    "start_time": "2022-06-23T15:53:14.616Z"
   },
   {
    "duration": 458,
    "start_time": "2022-06-23T15:53:17.889Z"
   },
   {
    "duration": 10867,
    "start_time": "2022-06-23T15:53:18.468Z"
   },
   {
    "duration": 242,
    "start_time": "2022-06-23T15:53:29.337Z"
   },
   {
    "duration": 369,
    "start_time": "2022-06-23T15:53:29.580Z"
   },
   {
    "duration": 4,
    "start_time": "2022-06-23T15:53:29.951Z"
   },
   {
    "duration": 24,
    "start_time": "2022-06-23T15:53:29.956Z"
   },
   {
    "duration": 557,
    "start_time": "2022-06-23T15:53:29.982Z"
   },
   {
    "duration": 14767,
    "start_time": "2022-06-23T15:53:30.541Z"
   },
   {
    "duration": 266,
    "start_time": "2022-06-23T15:53:45.310Z"
   },
   {
    "duration": 286,
    "start_time": "2022-06-23T15:53:45.669Z"
   },
   {
    "duration": 615,
    "start_time": "2022-06-23T15:53:57.594Z"
   },
   {
    "duration": 17,
    "start_time": "2022-06-23T15:54:01.720Z"
   },
   {
    "duration": 1240,
    "start_time": "2022-06-23T16:00:13.380Z"
   },
   {
    "duration": 53,
    "start_time": "2022-06-23T16:00:14.623Z"
   },
   {
    "duration": 14,
    "start_time": "2022-06-23T16:00:14.679Z"
   },
   {
    "duration": 19,
    "start_time": "2022-06-23T16:00:14.695Z"
   },
   {
    "duration": 6,
    "start_time": "2022-06-23T16:00:14.716Z"
   },
   {
    "duration": 10,
    "start_time": "2022-06-23T16:00:14.723Z"
   },
   {
    "duration": 37,
    "start_time": "2022-06-23T16:00:14.735Z"
   },
   {
    "duration": 54,
    "start_time": "2022-06-23T16:00:14.773Z"
   },
   {
    "duration": 8,
    "start_time": "2022-06-23T16:00:14.829Z"
   },
   {
    "duration": 36,
    "start_time": "2022-06-23T16:00:14.838Z"
   },
   {
    "duration": 24,
    "start_time": "2022-06-23T16:00:14.876Z"
   },
   {
    "duration": 12,
    "start_time": "2022-06-23T16:00:14.902Z"
   },
   {
    "duration": 27,
    "start_time": "2022-06-23T16:00:14.916Z"
   },
   {
    "duration": 34,
    "start_time": "2022-06-23T16:00:14.946Z"
   },
   {
    "duration": 20,
    "start_time": "2022-06-23T16:00:14.982Z"
   },
   {
    "duration": 32,
    "start_time": "2022-06-23T16:00:15.004Z"
   },
   {
    "duration": 45,
    "start_time": "2022-06-23T16:00:15.038Z"
   },
   {
    "duration": 14,
    "start_time": "2022-06-23T16:00:15.086Z"
   },
   {
    "duration": 55,
    "start_time": "2022-06-23T16:00:15.102Z"
   },
   {
    "duration": 33,
    "start_time": "2022-06-23T16:00:15.159Z"
   },
   {
    "duration": 166,
    "start_time": "2022-06-23T16:00:15.194Z"
   },
   {
    "duration": 126,
    "start_time": "2022-06-23T16:00:15.361Z"
   },
   {
    "duration": 33,
    "start_time": "2022-06-23T16:00:15.489Z"
   },
   {
    "duration": 2118,
    "start_time": "2022-06-23T16:00:15.524Z"
   },
   {
    "duration": 394,
    "start_time": "2022-06-23T16:00:17.643Z"
   },
   {
    "duration": 236,
    "start_time": "2022-06-23T16:00:18.039Z"
   },
   {
    "duration": 627,
    "start_time": "2022-06-23T16:00:18.276Z"
   },
   {
    "duration": 10328,
    "start_time": "2022-06-23T16:00:18.905Z"
   },
   {
    "duration": 240,
    "start_time": "2022-06-23T16:00:29.235Z"
   },
   {
    "duration": 361,
    "start_time": "2022-06-23T16:00:29.477Z"
   },
   {
    "duration": 4,
    "start_time": "2022-06-23T16:00:29.840Z"
   },
   {
    "duration": 23,
    "start_time": "2022-06-23T16:00:29.846Z"
   },
   {
    "duration": 521,
    "start_time": "2022-06-23T16:00:29.871Z"
   },
   {
    "duration": 14052,
    "start_time": "2022-06-23T16:00:30.394Z"
   },
   {
    "duration": 320,
    "start_time": "2022-06-23T16:00:44.448Z"
   },
   {
    "duration": 278,
    "start_time": "2022-06-23T16:00:44.770Z"
   },
   {
    "duration": 594,
    "start_time": "2022-06-23T16:00:45.049Z"
   },
   {
    "duration": 23,
    "start_time": "2022-06-23T16:00:45.645Z"
   },
   {
    "duration": 84,
    "start_time": "2022-06-23T16:00:45.669Z"
   },
   {
    "duration": 184,
    "start_time": "2022-06-23T16:00:45.754Z"
   },
   {
    "duration": 18,
    "start_time": "2022-06-23T16:01:39.003Z"
   },
   {
    "duration": 15,
    "start_time": "2022-06-23T16:01:48.703Z"
   },
   {
    "duration": 509,
    "start_time": "2022-06-23T16:01:56.095Z"
   },
   {
    "duration": 14,
    "start_time": "2022-06-23T16:01:59.105Z"
   },
   {
    "duration": 497,
    "start_time": "2022-06-23T16:03:37.683Z"
   },
   {
    "duration": 8,
    "start_time": "2022-06-23T16:03:40.007Z"
   },
   {
    "duration": 116,
    "start_time": "2022-06-23T16:20:17.944Z"
   },
   {
    "duration": 21,
    "start_time": "2022-06-23T16:23:52.578Z"
   },
   {
    "duration": 23,
    "start_time": "2022-06-23T16:24:19.348Z"
   },
   {
    "duration": 22,
    "start_time": "2022-06-23T16:26:18.575Z"
   },
   {
    "duration": 23,
    "start_time": "2022-06-23T16:27:38.491Z"
   },
   {
    "duration": 21,
    "start_time": "2022-06-23T16:27:46.514Z"
   },
   {
    "duration": 16,
    "start_time": "2022-06-23T16:30:49.134Z"
   },
   {
    "duration": 542,
    "start_time": "2022-06-23T16:33:26.714Z"
   },
   {
    "duration": 522,
    "start_time": "2022-06-23T16:33:34.821Z"
   },
   {
    "duration": 25,
    "start_time": "2022-06-23T16:35:08.751Z"
   },
   {
    "duration": 14,
    "start_time": "2022-06-23T16:35:21.493Z"
   },
   {
    "duration": 17,
    "start_time": "2022-06-23T16:38:00.042Z"
   },
   {
    "duration": 752,
    "start_time": "2022-06-23T16:40:52.529Z"
   },
   {
    "duration": 742,
    "start_time": "2022-06-23T16:41:04.023Z"
   },
   {
    "duration": 660,
    "start_time": "2022-06-23T16:41:32.582Z"
   },
   {
    "duration": 689,
    "start_time": "2022-06-23T16:41:49.197Z"
   },
   {
    "duration": 18,
    "start_time": "2022-06-23T16:44:45.234Z"
   },
   {
    "duration": 14,
    "start_time": "2022-06-23T16:44:53.430Z"
   },
   {
    "duration": 5,
    "start_time": "2022-06-23T16:49:22.764Z"
   },
   {
    "duration": 5,
    "start_time": "2022-06-23T16:49:37.919Z"
   },
   {
    "duration": 25,
    "start_time": "2022-06-23T16:50:19.385Z"
   },
   {
    "duration": 6,
    "start_time": "2022-06-23T16:50:28.130Z"
   },
   {
    "duration": 721,
    "start_time": "2022-06-23T16:52:08.178Z"
   },
   {
    "duration": 684,
    "start_time": "2022-06-23T16:52:41.655Z"
   },
   {
    "duration": 786,
    "start_time": "2022-06-23T16:53:04.433Z"
   },
   {
    "duration": 20,
    "start_time": "2022-06-23T16:56:06.038Z"
   },
   {
    "duration": 21,
    "start_time": "2022-06-23T16:57:34.484Z"
   },
   {
    "duration": 19,
    "start_time": "2022-06-23T16:57:47.723Z"
   },
   {
    "duration": 26,
    "start_time": "2022-06-23T16:58:19.463Z"
   },
   {
    "duration": 30,
    "start_time": "2022-06-23T16:58:57.563Z"
   },
   {
    "duration": 21,
    "start_time": "2022-06-23T17:00:44.383Z"
   },
   {
    "duration": 661,
    "start_time": "2022-06-23T17:01:10.994Z"
   },
   {
    "duration": 684,
    "start_time": "2022-06-23T17:01:19.539Z"
   },
   {
    "duration": 683,
    "start_time": "2022-06-23T17:01:46.237Z"
   },
   {
    "duration": 635,
    "start_time": "2022-06-23T17:02:04.113Z"
   },
   {
    "duration": 10,
    "start_time": "2022-06-23T17:02:46.245Z"
   },
   {
    "duration": 760,
    "start_time": "2022-06-23T17:05:01.923Z"
   },
   {
    "duration": 24,
    "start_time": "2022-06-23T17:05:48.945Z"
   },
   {
    "duration": 741,
    "start_time": "2022-06-23T17:06:10.592Z"
   },
   {
    "duration": 635,
    "start_time": "2022-06-23T17:06:29.654Z"
   },
   {
    "duration": 13,
    "start_time": "2022-06-23T17:07:06.913Z"
   },
   {
    "duration": 12,
    "start_time": "2022-06-23T17:07:37.130Z"
   },
   {
    "duration": 20,
    "start_time": "2022-06-23T17:15:22.340Z"
   },
   {
    "duration": 12,
    "start_time": "2022-06-23T17:16:42.046Z"
   },
   {
    "duration": 1499,
    "start_time": "2022-06-24T11:57:44.605Z"
   },
   {
    "duration": 90,
    "start_time": "2022-06-24T11:57:46.106Z"
   },
   {
    "duration": 12,
    "start_time": "2022-06-24T11:57:46.198Z"
   },
   {
    "duration": 18,
    "start_time": "2022-06-24T11:57:46.212Z"
   },
   {
    "duration": 7,
    "start_time": "2022-06-24T11:57:46.234Z"
   },
   {
    "duration": 16,
    "start_time": "2022-06-24T11:57:46.243Z"
   },
   {
    "duration": 14,
    "start_time": "2022-06-24T11:57:46.260Z"
   },
   {
    "duration": 71,
    "start_time": "2022-06-24T11:57:46.276Z"
   },
   {
    "duration": 10,
    "start_time": "2022-06-24T11:57:46.349Z"
   },
   {
    "duration": 6,
    "start_time": "2022-06-24T11:57:46.361Z"
   },
   {
    "duration": 12,
    "start_time": "2022-06-24T11:57:46.369Z"
   },
   {
    "duration": 5,
    "start_time": "2022-06-24T11:57:46.383Z"
   },
   {
    "duration": 41,
    "start_time": "2022-06-24T11:57:46.389Z"
   },
   {
    "duration": 18,
    "start_time": "2022-06-24T11:57:46.433Z"
   },
   {
    "duration": 6,
    "start_time": "2022-06-24T11:57:46.453Z"
   },
   {
    "duration": 5,
    "start_time": "2022-06-24T11:57:46.460Z"
   },
   {
    "duration": 16,
    "start_time": "2022-06-24T11:57:46.467Z"
   },
   {
    "duration": 39,
    "start_time": "2022-06-24T11:57:46.484Z"
   },
   {
    "duration": 29,
    "start_time": "2022-06-24T11:57:46.525Z"
   },
   {
    "duration": 28,
    "start_time": "2022-06-24T11:57:46.555Z"
   },
   {
    "duration": 190,
    "start_time": "2022-06-24T11:57:46.585Z"
   },
   {
    "duration": 150,
    "start_time": "2022-06-24T11:57:46.776Z"
   },
   {
    "duration": 41,
    "start_time": "2022-06-24T11:57:46.928Z"
   },
   {
    "duration": 2335,
    "start_time": "2022-06-24T11:57:46.970Z"
   },
   {
    "duration": 437,
    "start_time": "2022-06-24T11:57:49.307Z"
   },
   {
    "duration": 695,
    "start_time": "2022-06-24T11:57:49.746Z"
   },
   {
    "duration": 644,
    "start_time": "2022-06-24T11:57:50.444Z"
   },
   {
    "duration": 11358,
    "start_time": "2022-06-24T11:57:51.090Z"
   },
   {
    "duration": 574,
    "start_time": "2022-06-24T11:58:02.450Z"
   },
   {
    "duration": 310,
    "start_time": "2022-06-24T11:58:03.027Z"
   },
   {
    "duration": 4,
    "start_time": "2022-06-24T11:58:03.339Z"
   },
   {
    "duration": 19,
    "start_time": "2022-06-24T11:58:03.345Z"
   },
   {
    "duration": 584,
    "start_time": "2022-06-24T11:58:03.365Z"
   },
   {
    "duration": 16283,
    "start_time": "2022-06-24T11:58:03.951Z"
   },
   {
    "duration": 396,
    "start_time": "2022-06-24T11:58:20.236Z"
   },
   {
    "duration": 368,
    "start_time": "2022-06-24T11:58:20.635Z"
   },
   {
    "duration": 625,
    "start_time": "2022-06-24T11:58:21.005Z"
   },
   {
    "duration": 10,
    "start_time": "2022-06-24T11:58:21.632Z"
   },
   {
    "duration": 98,
    "start_time": "2022-06-24T11:58:21.643Z"
   },
   {
    "duration": 184,
    "start_time": "2022-06-24T11:58:21.743Z"
   },
   {
    "duration": 9,
    "start_time": "2022-06-24T11:59:09.373Z"
   },
   {
    "duration": 1482,
    "start_time": "2022-06-24T11:59:53.651Z"
   },
   {
    "duration": 54,
    "start_time": "2022-06-24T11:59:56.811Z"
   },
   {
    "duration": 15,
    "start_time": "2022-06-24T11:59:59.430Z"
   },
   {
    "duration": 26,
    "start_time": "2022-06-24T12:00:00.234Z"
   },
   {
    "duration": 7,
    "start_time": "2022-06-24T12:00:02.505Z"
   },
   {
    "duration": 11,
    "start_time": "2022-06-24T12:00:03.252Z"
   },
   {
    "duration": 17,
    "start_time": "2022-06-24T12:00:03.901Z"
   },
   {
    "duration": 93,
    "start_time": "2022-06-24T12:00:05.899Z"
   },
   {
    "duration": 10,
    "start_time": "2022-06-24T12:00:11.174Z"
   },
   {
    "duration": 7,
    "start_time": "2022-06-24T12:00:12.864Z"
   },
   {
    "duration": 10,
    "start_time": "2022-06-24T12:00:13.358Z"
   },
   {
    "duration": 6,
    "start_time": "2022-06-24T12:00:15.679Z"
   },
   {
    "duration": 14,
    "start_time": "2022-06-24T12:00:17.127Z"
   },
   {
    "duration": 21,
    "start_time": "2022-06-24T12:00:18.459Z"
   },
   {
    "duration": 8,
    "start_time": "2022-06-24T12:00:20.428Z"
   },
   {
    "duration": 4,
    "start_time": "2022-06-24T12:00:20.938Z"
   },
   {
    "duration": 18,
    "start_time": "2022-06-24T12:00:21.435Z"
   },
   {
    "duration": 7,
    "start_time": "2022-06-24T12:00:21.967Z"
   },
   {
    "duration": 45,
    "start_time": "2022-06-24T12:00:24.719Z"
   },
   {
    "duration": 38,
    "start_time": "2022-06-24T12:00:27.042Z"
   },
   {
    "duration": 193,
    "start_time": "2022-06-24T12:00:28.883Z"
   },
   {
    "duration": 151,
    "start_time": "2022-06-24T12:00:31.408Z"
   },
   {
    "duration": 43,
    "start_time": "2022-06-24T12:00:33.806Z"
   },
   {
    "duration": 2422,
    "start_time": "2022-06-24T12:00:35.601Z"
   },
   {
    "duration": 457,
    "start_time": "2022-06-24T12:00:39.921Z"
   },
   {
    "duration": 521,
    "start_time": "2022-06-24T12:00:42.813Z"
   },
   {
    "duration": 517,
    "start_time": "2022-06-24T12:00:45.242Z"
   },
   {
    "duration": 11638,
    "start_time": "2022-06-24T12:00:47.319Z"
   },
   {
    "duration": 247,
    "start_time": "2022-06-24T12:01:02.379Z"
   },
   {
    "duration": 204,
    "start_time": "2022-06-24T12:01:04.123Z"
   },
   {
    "duration": 4,
    "start_time": "2022-06-24T12:01:07.778Z"
   },
   {
    "duration": 13,
    "start_time": "2022-06-24T12:01:08.979Z"
   },
   {
    "duration": 595,
    "start_time": "2022-06-24T12:01:10.583Z"
   },
   {
    "duration": 15863,
    "start_time": "2022-06-24T12:01:13.530Z"
   },
   {
    "duration": 255,
    "start_time": "2022-06-24T12:01:34.079Z"
   },
   {
    "duration": 196,
    "start_time": "2022-06-24T12:01:36.420Z"
   },
   {
    "duration": 651,
    "start_time": "2022-06-24T12:01:41.283Z"
   },
   {
    "duration": 11,
    "start_time": "2022-06-24T12:01:44.345Z"
   },
   {
    "duration": 11,
    "start_time": "2022-06-24T12:02:07.530Z"
   },
   {
    "duration": 101,
    "start_time": "2022-06-24T12:04:24.486Z"
   },
   {
    "duration": 169,
    "start_time": "2022-06-24T12:04:26.783Z"
   }
  ],
  "kernelspec": {
   "display_name": "Python 3 (ipykernel)",
   "language": "python",
   "name": "python3"
  },
  "language_info": {
   "codemirror_mode": {
    "name": "ipython",
    "version": 3
   },
   "file_extension": ".py",
   "mimetype": "text/x-python",
   "name": "python",
   "nbconvert_exporter": "python",
   "pygments_lexer": "ipython3",
   "version": "3.9.5"
  },
  "toc": {
   "base_numbering": 1,
   "nav_menu": {},
   "number_sections": true,
   "sideBar": true,
   "skip_h1_title": true,
   "title_cell": "Содержание",
   "title_sidebar": "Contents",
   "toc_cell": true,
   "toc_position": {
    "height": "calc(100% - 180px)",
    "left": "10px",
    "top": "150px",
    "width": "323.556px"
   },
   "toc_section_display": true,
   "toc_window_display": true
  }
 },
 "nbformat": 4,
 "nbformat_minor": 2
}

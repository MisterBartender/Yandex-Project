{
 "cells": [
  {
   "cell_type": "markdown",
   "metadata": {},
   "source": [
    "# Определение стоимости автомобилей"
   ]
  },
  {
   "cell_type": "markdown",
   "metadata": {},
   "source": [
    "**Описание проекта**\n",
    "\n",
    "Сервис по продаже автомобилей с пробегом «Не бит, не крашен» разрабатывает приложение, чтобы привлечь новых клиентов. В нём можно будет узнать рыночную стоимость своего автомобиля.\n",
    "Постройте модель, которая умеет её определять. В вашем распоряжении данные о технических характеристиках, комплектации и ценах других автомобилей.\n",
    "\n",
    "Критерии, которые важны заказчику:\n",
    "- качество предсказания;\n",
    "- время обучения модели;\n",
    "- время предсказания модели.\n",
    "\n",
    "**Описание данных** \n",
    "Данные находятся в файле /datasets/autos.csv. Скачать датасет.\n",
    "\n",
    "Признаки\n",
    "\n",
    "- DateCrawled — дата скачивания анкеты из базы\n",
    "- VehicleType — тип автомобильного кузова\n",
    "- RegistrationYear — год регистрации автомобиля\n",
    "- Gearbox — тип коробки передач\n",
    "- Power — мощность (л. с.)\n",
    "- Model — модель автомобиля\n",
    "- Kilometer — пробег (км)\n",
    "- RegistrationMonth — месяц регистрации автомобиля\n",
    "- FuelType — тип топлива\n",
    "- Brand — марка автомобиля\n",
    "- NotRepaired — была машина в ремонте или нет\n",
    "- DateCreated — дата создания анкеты\n",
    "- NumberOfPictures — количество фотографий автомобиля\n",
    "- PostalCode — почтовый индекс владельца анкеты (пользователя)\n",
    "- LastSeen — дата последней активности пользователя\n",
    "\n",
    "Целевой признак\n",
    "\n",
    "- Price — цена (евро)\n",
    "\n",
    "**План работы**\n",
    "\n",
    "[1  Подготовка данных](#section1)\n",
    "\n",
    "[1.1  Изучение данных](#section1.1)\n",
    "\n",
    "[2  Предобработка данных](#section1.2)\n",
    "\n",
    "- [2.1  Обработка пропусков](#section2.1)\n",
    "- [2.2  Подготовка выборок](#section2.2)\n",
    "- [2.3  Кодирование и масштабирование](#section2.3)\n",
    "\n",
    "[2  Обучение моделей](#section3)\n",
    "\n",
    "- [2.1  DummyRegressor](#section3.1)\n",
    "- [2.2  LinearRegression](#section3.2)\n",
    "- [2.3  CatBoostRegressor](#section3.3)\n",
    "- [2.4  LGBMRegressor](#section3.4)\n",
    "\n",
    "[4  Анализ моделей](#section4)\n",
    "\n",
    "[4.1 Тестирование лучших моделей](#section4.1)\n",
    "\n",
    "[5  Общий вывод](#section5)"
   ]
  },
  {
   "cell_type": "markdown",
   "metadata": {},
   "source": [
    "<a id='section1'></a>\n",
    "## Подготовка данных"
   ]
  },
  {
   "cell_type": "markdown",
   "metadata": {},
   "source": [
    "<a id='section1.1'></a>\n",
    "### Изучение данных"
   ]
  },
  {
   "cell_type": "code",
   "execution_count": 1,
   "metadata": {},
   "outputs": [],
   "source": [
    "# Загружаем необходимы библиотеки для работы\n",
    "import pandas as pd\n",
    "import numpy as np\n",
    "import re\n",
    "from scipy import stats as st\n",
    "from IPython.display import display\n",
    "from numpy.random import RandomState\n",
    "from scipy import stats\n",
    "\n",
    "from catboost import CatBoostRegressor, cv, Pool, train\n",
    "from sklearn.model_selection import train_test_split\n",
    "from sklearn.preprocessing import OneHotEncoder, OrdinalEncoder, StandardScaler\n",
    "from sklearn.dummy import DummyRegressor\n",
    "from sklearn.linear_model import LinearRegression\n",
    "from sklearn.metrics import mean_squared_error\n",
    "from sklearn.metrics import mean_squared_error as mse\n",
    "\n",
    "import lightgbm\n",
    "import catboost\n",
    "%matplotlib inline\n",
    "import warnings\n",
    "warnings.filterwarnings('ignore')"
   ]
  },
  {
   "cell_type": "code",
   "execution_count": 2,
   "metadata": {},
   "outputs": [],
   "source": [
    "# сохраним датафрейм в переменную\n",
    "df = pd.read_csv('/datasets/autos.csv')"
   ]
  },
  {
   "cell_type": "markdown",
   "metadata": {},
   "source": [
    "Выведем таблицу, изучим структуры таблиц: типы данных, количество строк, столбцов, пропущенных данных."
   ]
  },
  {
   "cell_type": "code",
   "execution_count": 3,
   "metadata": {},
   "outputs": [
    {
     "data": {
      "text/html": [
       "<div>\n",
       "<style scoped>\n",
       "    .dataframe tbody tr th:only-of-type {\n",
       "        vertical-align: middle;\n",
       "    }\n",
       "\n",
       "    .dataframe tbody tr th {\n",
       "        vertical-align: top;\n",
       "    }\n",
       "\n",
       "    .dataframe thead th {\n",
       "        text-align: right;\n",
       "    }\n",
       "</style>\n",
       "<table border=\"1\" class=\"dataframe\">\n",
       "  <thead>\n",
       "    <tr style=\"text-align: right;\">\n",
       "      <th></th>\n",
       "      <th>DateCrawled</th>\n",
       "      <th>Price</th>\n",
       "      <th>VehicleType</th>\n",
       "      <th>RegistrationYear</th>\n",
       "      <th>Gearbox</th>\n",
       "      <th>Power</th>\n",
       "      <th>Model</th>\n",
       "      <th>Kilometer</th>\n",
       "      <th>RegistrationMonth</th>\n",
       "      <th>FuelType</th>\n",
       "      <th>Brand</th>\n",
       "      <th>NotRepaired</th>\n",
       "      <th>DateCreated</th>\n",
       "      <th>NumberOfPictures</th>\n",
       "      <th>PostalCode</th>\n",
       "      <th>LastSeen</th>\n",
       "    </tr>\n",
       "  </thead>\n",
       "  <tbody>\n",
       "    <tr>\n",
       "      <th>0</th>\n",
       "      <td>2016-03-24 11:52:17</td>\n",
       "      <td>480</td>\n",
       "      <td>NaN</td>\n",
       "      <td>1993</td>\n",
       "      <td>manual</td>\n",
       "      <td>0</td>\n",
       "      <td>golf</td>\n",
       "      <td>150000</td>\n",
       "      <td>0</td>\n",
       "      <td>petrol</td>\n",
       "      <td>volkswagen</td>\n",
       "      <td>NaN</td>\n",
       "      <td>2016-03-24 00:00:00</td>\n",
       "      <td>0</td>\n",
       "      <td>70435</td>\n",
       "      <td>2016-04-07 03:16:57</td>\n",
       "    </tr>\n",
       "    <tr>\n",
       "      <th>1</th>\n",
       "      <td>2016-03-24 10:58:45</td>\n",
       "      <td>18300</td>\n",
       "      <td>coupe</td>\n",
       "      <td>2011</td>\n",
       "      <td>manual</td>\n",
       "      <td>190</td>\n",
       "      <td>NaN</td>\n",
       "      <td>125000</td>\n",
       "      <td>5</td>\n",
       "      <td>gasoline</td>\n",
       "      <td>audi</td>\n",
       "      <td>yes</td>\n",
       "      <td>2016-03-24 00:00:00</td>\n",
       "      <td>0</td>\n",
       "      <td>66954</td>\n",
       "      <td>2016-04-07 01:46:50</td>\n",
       "    </tr>\n",
       "    <tr>\n",
       "      <th>2</th>\n",
       "      <td>2016-03-14 12:52:21</td>\n",
       "      <td>9800</td>\n",
       "      <td>suv</td>\n",
       "      <td>2004</td>\n",
       "      <td>auto</td>\n",
       "      <td>163</td>\n",
       "      <td>grand</td>\n",
       "      <td>125000</td>\n",
       "      <td>8</td>\n",
       "      <td>gasoline</td>\n",
       "      <td>jeep</td>\n",
       "      <td>NaN</td>\n",
       "      <td>2016-03-14 00:00:00</td>\n",
       "      <td>0</td>\n",
       "      <td>90480</td>\n",
       "      <td>2016-04-05 12:47:46</td>\n",
       "    </tr>\n",
       "    <tr>\n",
       "      <th>3</th>\n",
       "      <td>2016-03-17 16:54:04</td>\n",
       "      <td>1500</td>\n",
       "      <td>small</td>\n",
       "      <td>2001</td>\n",
       "      <td>manual</td>\n",
       "      <td>75</td>\n",
       "      <td>golf</td>\n",
       "      <td>150000</td>\n",
       "      <td>6</td>\n",
       "      <td>petrol</td>\n",
       "      <td>volkswagen</td>\n",
       "      <td>no</td>\n",
       "      <td>2016-03-17 00:00:00</td>\n",
       "      <td>0</td>\n",
       "      <td>91074</td>\n",
       "      <td>2016-03-17 17:40:17</td>\n",
       "    </tr>\n",
       "    <tr>\n",
       "      <th>4</th>\n",
       "      <td>2016-03-31 17:25:20</td>\n",
       "      <td>3600</td>\n",
       "      <td>small</td>\n",
       "      <td>2008</td>\n",
       "      <td>manual</td>\n",
       "      <td>69</td>\n",
       "      <td>fabia</td>\n",
       "      <td>90000</td>\n",
       "      <td>7</td>\n",
       "      <td>gasoline</td>\n",
       "      <td>skoda</td>\n",
       "      <td>no</td>\n",
       "      <td>2016-03-31 00:00:00</td>\n",
       "      <td>0</td>\n",
       "      <td>60437</td>\n",
       "      <td>2016-04-06 10:17:21</td>\n",
       "    </tr>\n",
       "    <tr>\n",
       "      <th>...</th>\n",
       "      <td>...</td>\n",
       "      <td>...</td>\n",
       "      <td>...</td>\n",
       "      <td>...</td>\n",
       "      <td>...</td>\n",
       "      <td>...</td>\n",
       "      <td>...</td>\n",
       "      <td>...</td>\n",
       "      <td>...</td>\n",
       "      <td>...</td>\n",
       "      <td>...</td>\n",
       "      <td>...</td>\n",
       "      <td>...</td>\n",
       "      <td>...</td>\n",
       "      <td>...</td>\n",
       "      <td>...</td>\n",
       "    </tr>\n",
       "    <tr>\n",
       "      <th>354364</th>\n",
       "      <td>2016-03-21 09:50:58</td>\n",
       "      <td>0</td>\n",
       "      <td>NaN</td>\n",
       "      <td>2005</td>\n",
       "      <td>manual</td>\n",
       "      <td>0</td>\n",
       "      <td>colt</td>\n",
       "      <td>150000</td>\n",
       "      <td>7</td>\n",
       "      <td>petrol</td>\n",
       "      <td>mitsubishi</td>\n",
       "      <td>yes</td>\n",
       "      <td>2016-03-21 00:00:00</td>\n",
       "      <td>0</td>\n",
       "      <td>2694</td>\n",
       "      <td>2016-03-21 10:42:49</td>\n",
       "    </tr>\n",
       "    <tr>\n",
       "      <th>354365</th>\n",
       "      <td>2016-03-14 17:48:27</td>\n",
       "      <td>2200</td>\n",
       "      <td>NaN</td>\n",
       "      <td>2005</td>\n",
       "      <td>NaN</td>\n",
       "      <td>0</td>\n",
       "      <td>NaN</td>\n",
       "      <td>20000</td>\n",
       "      <td>1</td>\n",
       "      <td>NaN</td>\n",
       "      <td>sonstige_autos</td>\n",
       "      <td>NaN</td>\n",
       "      <td>2016-03-14 00:00:00</td>\n",
       "      <td>0</td>\n",
       "      <td>39576</td>\n",
       "      <td>2016-04-06 00:46:52</td>\n",
       "    </tr>\n",
       "    <tr>\n",
       "      <th>354366</th>\n",
       "      <td>2016-03-05 19:56:21</td>\n",
       "      <td>1199</td>\n",
       "      <td>convertible</td>\n",
       "      <td>2000</td>\n",
       "      <td>auto</td>\n",
       "      <td>101</td>\n",
       "      <td>fortwo</td>\n",
       "      <td>125000</td>\n",
       "      <td>3</td>\n",
       "      <td>petrol</td>\n",
       "      <td>smart</td>\n",
       "      <td>no</td>\n",
       "      <td>2016-03-05 00:00:00</td>\n",
       "      <td>0</td>\n",
       "      <td>26135</td>\n",
       "      <td>2016-03-11 18:17:12</td>\n",
       "    </tr>\n",
       "    <tr>\n",
       "      <th>354367</th>\n",
       "      <td>2016-03-19 18:57:12</td>\n",
       "      <td>9200</td>\n",
       "      <td>bus</td>\n",
       "      <td>1996</td>\n",
       "      <td>manual</td>\n",
       "      <td>102</td>\n",
       "      <td>transporter</td>\n",
       "      <td>150000</td>\n",
       "      <td>3</td>\n",
       "      <td>gasoline</td>\n",
       "      <td>volkswagen</td>\n",
       "      <td>no</td>\n",
       "      <td>2016-03-19 00:00:00</td>\n",
       "      <td>0</td>\n",
       "      <td>87439</td>\n",
       "      <td>2016-04-07 07:15:26</td>\n",
       "    </tr>\n",
       "    <tr>\n",
       "      <th>354368</th>\n",
       "      <td>2016-03-20 19:41:08</td>\n",
       "      <td>3400</td>\n",
       "      <td>wagon</td>\n",
       "      <td>2002</td>\n",
       "      <td>manual</td>\n",
       "      <td>100</td>\n",
       "      <td>golf</td>\n",
       "      <td>150000</td>\n",
       "      <td>6</td>\n",
       "      <td>gasoline</td>\n",
       "      <td>volkswagen</td>\n",
       "      <td>NaN</td>\n",
       "      <td>2016-03-20 00:00:00</td>\n",
       "      <td>0</td>\n",
       "      <td>40764</td>\n",
       "      <td>2016-03-24 12:45:21</td>\n",
       "    </tr>\n",
       "  </tbody>\n",
       "</table>\n",
       "<p>354369 rows × 16 columns</p>\n",
       "</div>"
      ],
      "text/plain": [
       "                DateCrawled  Price  VehicleType  RegistrationYear Gearbox  \\\n",
       "0       2016-03-24 11:52:17    480          NaN              1993  manual   \n",
       "1       2016-03-24 10:58:45  18300        coupe              2011  manual   \n",
       "2       2016-03-14 12:52:21   9800          suv              2004    auto   \n",
       "3       2016-03-17 16:54:04   1500        small              2001  manual   \n",
       "4       2016-03-31 17:25:20   3600        small              2008  manual   \n",
       "...                     ...    ...          ...               ...     ...   \n",
       "354364  2016-03-21 09:50:58      0          NaN              2005  manual   \n",
       "354365  2016-03-14 17:48:27   2200          NaN              2005     NaN   \n",
       "354366  2016-03-05 19:56:21   1199  convertible              2000    auto   \n",
       "354367  2016-03-19 18:57:12   9200          bus              1996  manual   \n",
       "354368  2016-03-20 19:41:08   3400        wagon              2002  manual   \n",
       "\n",
       "        Power        Model  Kilometer  RegistrationMonth  FuelType  \\\n",
       "0           0         golf     150000                  0    petrol   \n",
       "1         190          NaN     125000                  5  gasoline   \n",
       "2         163        grand     125000                  8  gasoline   \n",
       "3          75         golf     150000                  6    petrol   \n",
       "4          69        fabia      90000                  7  gasoline   \n",
       "...       ...          ...        ...                ...       ...   \n",
       "354364      0         colt     150000                  7    petrol   \n",
       "354365      0          NaN      20000                  1       NaN   \n",
       "354366    101       fortwo     125000                  3    petrol   \n",
       "354367    102  transporter     150000                  3  gasoline   \n",
       "354368    100         golf     150000                  6  gasoline   \n",
       "\n",
       "                 Brand NotRepaired          DateCreated  NumberOfPictures  \\\n",
       "0           volkswagen         NaN  2016-03-24 00:00:00                 0   \n",
       "1                 audi         yes  2016-03-24 00:00:00                 0   \n",
       "2                 jeep         NaN  2016-03-14 00:00:00                 0   \n",
       "3           volkswagen          no  2016-03-17 00:00:00                 0   \n",
       "4                skoda          no  2016-03-31 00:00:00                 0   \n",
       "...                ...         ...                  ...               ...   \n",
       "354364      mitsubishi         yes  2016-03-21 00:00:00                 0   \n",
       "354365  sonstige_autos         NaN  2016-03-14 00:00:00                 0   \n",
       "354366           smart          no  2016-03-05 00:00:00                 0   \n",
       "354367      volkswagen          no  2016-03-19 00:00:00                 0   \n",
       "354368      volkswagen         NaN  2016-03-20 00:00:00                 0   \n",
       "\n",
       "        PostalCode             LastSeen  \n",
       "0            70435  2016-04-07 03:16:57  \n",
       "1            66954  2016-04-07 01:46:50  \n",
       "2            90480  2016-04-05 12:47:46  \n",
       "3            91074  2016-03-17 17:40:17  \n",
       "4            60437  2016-04-06 10:17:21  \n",
       "...            ...                  ...  \n",
       "354364        2694  2016-03-21 10:42:49  \n",
       "354365       39576  2016-04-06 00:46:52  \n",
       "354366       26135  2016-03-11 18:17:12  \n",
       "354367       87439  2016-04-07 07:15:26  \n",
       "354368       40764  2016-03-24 12:45:21  \n",
       "\n",
       "[354369 rows x 16 columns]"
      ]
     },
     "metadata": {},
     "output_type": "display_data"
    },
    {
     "name": "stdout",
     "output_type": "stream",
     "text": [
      "<class 'pandas.core.frame.DataFrame'>\n",
      "RangeIndex: 354369 entries, 0 to 354368\n",
      "Data columns (total 16 columns):\n",
      " #   Column             Non-Null Count   Dtype \n",
      "---  ------             --------------   ----- \n",
      " 0   DateCrawled        354369 non-null  object\n",
      " 1   Price              354369 non-null  int64 \n",
      " 2   VehicleType        316879 non-null  object\n",
      " 3   RegistrationYear   354369 non-null  int64 \n",
      " 4   Gearbox            334536 non-null  object\n",
      " 5   Power              354369 non-null  int64 \n",
      " 6   Model              334664 non-null  object\n",
      " 7   Kilometer          354369 non-null  int64 \n",
      " 8   RegistrationMonth  354369 non-null  int64 \n",
      " 9   FuelType           321474 non-null  object\n",
      " 10  Brand              354369 non-null  object\n",
      " 11  NotRepaired        283215 non-null  object\n",
      " 12  DateCreated        354369 non-null  object\n",
      " 13  NumberOfPictures   354369 non-null  int64 \n",
      " 14  PostalCode         354369 non-null  int64 \n",
      " 15  LastSeen           354369 non-null  object\n",
      "dtypes: int64(7), object(9)\n",
      "memory usage: 43.3+ MB\n",
      "None\n",
      "               Price  RegistrationYear          Power      Kilometer  \\\n",
      "count  354369.000000     354369.000000  354369.000000  354369.000000   \n",
      "mean     4416.656776       2004.234448     110.094337  128211.172535   \n",
      "std      4514.158514         90.227958     189.850405   37905.341530   \n",
      "min         0.000000       1000.000000       0.000000    5000.000000   \n",
      "25%      1050.000000       1999.000000      69.000000  125000.000000   \n",
      "50%      2700.000000       2003.000000     105.000000  150000.000000   \n",
      "75%      6400.000000       2008.000000     143.000000  150000.000000   \n",
      "max     20000.000000       9999.000000   20000.000000  150000.000000   \n",
      "\n",
      "       RegistrationMonth  NumberOfPictures     PostalCode  \n",
      "count      354369.000000          354369.0  354369.000000  \n",
      "mean            5.714645               0.0   50508.689087  \n",
      "std             3.726421               0.0   25783.096248  \n",
      "min             0.000000               0.0    1067.000000  \n",
      "25%             3.000000               0.0   30165.000000  \n",
      "50%             6.000000               0.0   49413.000000  \n",
      "75%             9.000000               0.0   71083.000000  \n",
      "max            12.000000               0.0   99998.000000  \n",
      "DateCrawled          271174\n",
      "Price                  3731\n",
      "VehicleType               8\n",
      "RegistrationYear        151\n",
      "Gearbox                   2\n",
      "Power                   712\n",
      "Model                   250\n",
      "Kilometer                13\n",
      "RegistrationMonth        13\n",
      "FuelType                  7\n",
      "Brand                    40\n",
      "NotRepaired               2\n",
      "DateCreated             109\n",
      "NumberOfPictures          1\n",
      "PostalCode             8143\n",
      "LastSeen             179150\n",
      "dtype: int64\n",
      "Количество дубликатов: 4\n"
     ]
    }
   ],
   "source": [
    "display(df)\n",
    "print(df.info())\n",
    "print(df.describe())\n",
    "print(df.nunique())\n",
    "print('Количество дубликатов:', sum(df.duplicated()))"
   ]
  },
  {
   "cell_type": "markdown",
   "metadata": {},
   "source": [
    "**Вывод:**\n",
    "- В наборе данных 350000+ строк .\n",
    "- Названия столбцов стоит немного изменить, чтобы было удобнее к ним обращаться.\n",
    "- Данные содержат пропуски.\n",
    "- Данные имеют тип object - категории имеет смысл закодировать, особенно, если их немного.\n",
    "\n",
    "head():\n",
    "- Имеются нули и NaN. Стоит обратить внимание и возможно избавиться от таковых.\n",
    "- petrol и gasoline - наименование одного и того же топлива, стоит приравнять.\n",
    "- DateCrawled повторяет дату в признаке DateCreated.\n",
    "- Месяц регистрации может не имеет значения, в отличае от года.\n",
    "- Почтовый индекс вряд ли нужен.\n",
    "\n",
    "describe():\n",
    "- Имеются выбросы - нулевые значения месяца, мощности и стоимости.\n",
    "- 1000 год и 9999. Возможно, это ошибка занесения данных в базу или выгрузки. Можно удалить такие данные, тем более, что 1 и 3 квантили на месте.\n",
    "- Мощность 20000 л.с.\n",
    "\n",
    "nunique():\n",
    "- Фотографий нет, столбец на удаление.\n",
    "- 13 месяцев - один лишний. Да и вряд ли они вообще понадобятся.\n",
    "- 40 марок автомобилей и 250 моделей.\n",
    "- 151 вариант года регистрации.\n",
    "- Данные о ремонте - 2 значения: 'yes' и 'no'. NaN скорее означает отсутствие записей.\n",
    "- Пробег явно имеет округлённое значение.\n",
    "- Индексов очень много."
   ]
  },
  {
   "cell_type": "markdown",
   "metadata": {},
   "source": [
    "<a id='section2'></a>\n",
    "## Предобработка данных"
   ]
  },
  {
   "cell_type": "code",
   "execution_count": 4,
   "metadata": {},
   "outputs": [
    {
     "data": {
      "text/plain": [
       "Index(['datecrawled', 'price', 'vehicletype', 'registrationyear', 'gearbox',\n",
       "       'power', 'model', 'kilometer', 'registrationmonth', 'fueltype', 'brand',\n",
       "       'notrepaired', 'datecreated', 'numberofpictures', 'postalcode',\n",
       "       'lastseen'],\n",
       "      dtype='object')"
      ]
     },
     "execution_count": 4,
     "metadata": {},
     "output_type": "execute_result"
    }
   ],
   "source": [
    "# Переведём все названия столбцов в нижний регистр\n",
    "df.columns = df.columns.str.lower()\n",
    "df.columns"
   ]
  },
  {
   "cell_type": "code",
   "execution_count": 5,
   "metadata": {},
   "outputs": [],
   "source": [
    "# удалим лишние столбцы, оставив индекс для поиска дубликатов далее\n",
    "df.drop(['datecrawled', 'numberofpictures', 'registrationmonth', 'lastseen'], axis=1, inplace=True)"
   ]
  },
  {
   "cell_type": "code",
   "execution_count": 6,
   "metadata": {},
   "outputs": [],
   "source": [
    "# Приведём оставшиеся столбцы к более сокращенному виду для удобства восприятия таблицы\n",
    "df.rename({'vehicletype' : 'body',\n",
    "             'registrationyear': 'year_reg',\n",
    "             'kilometer': 'mileage',\n",
    "             'gearbox': 'gear',\n",
    "             'datecreated': 'date',\n",
    "             'notrepaired': 'repair',\n",
    "             'fueltype': 'fuel'}, axis = 1, inplace = True)"
   ]
  },
  {
   "cell_type": "code",
   "execution_count": 7,
   "metadata": {},
   "outputs": [
    {
     "data": {
      "text/html": [
       "<div>\n",
       "<style scoped>\n",
       "    .dataframe tbody tr th:only-of-type {\n",
       "        vertical-align: middle;\n",
       "    }\n",
       "\n",
       "    .dataframe tbody tr th {\n",
       "        vertical-align: top;\n",
       "    }\n",
       "\n",
       "    .dataframe thead th {\n",
       "        text-align: right;\n",
       "    }\n",
       "</style>\n",
       "<table border=\"1\" class=\"dataframe\">\n",
       "  <thead>\n",
       "    <tr style=\"text-align: right;\">\n",
       "      <th></th>\n",
       "      <th>price</th>\n",
       "      <th>body</th>\n",
       "      <th>year_reg</th>\n",
       "      <th>gear</th>\n",
       "      <th>power</th>\n",
       "      <th>model</th>\n",
       "      <th>mileage</th>\n",
       "      <th>fuel</th>\n",
       "      <th>brand</th>\n",
       "      <th>repair</th>\n",
       "      <th>date</th>\n",
       "      <th>postalcode</th>\n",
       "    </tr>\n",
       "  </thead>\n",
       "  <tbody>\n",
       "    <tr>\n",
       "      <th>0</th>\n",
       "      <td>480</td>\n",
       "      <td>NaN</td>\n",
       "      <td>1993</td>\n",
       "      <td>manual</td>\n",
       "      <td>0</td>\n",
       "      <td>golf</td>\n",
       "      <td>150000</td>\n",
       "      <td>petrol</td>\n",
       "      <td>volkswagen</td>\n",
       "      <td>NaN</td>\n",
       "      <td>2016-03-24 00:00:00</td>\n",
       "      <td>70435</td>\n",
       "    </tr>\n",
       "    <tr>\n",
       "      <th>1</th>\n",
       "      <td>18300</td>\n",
       "      <td>coupe</td>\n",
       "      <td>2011</td>\n",
       "      <td>manual</td>\n",
       "      <td>190</td>\n",
       "      <td>NaN</td>\n",
       "      <td>125000</td>\n",
       "      <td>gasoline</td>\n",
       "      <td>audi</td>\n",
       "      <td>yes</td>\n",
       "      <td>2016-03-24 00:00:00</td>\n",
       "      <td>66954</td>\n",
       "    </tr>\n",
       "    <tr>\n",
       "      <th>2</th>\n",
       "      <td>9800</td>\n",
       "      <td>suv</td>\n",
       "      <td>2004</td>\n",
       "      <td>auto</td>\n",
       "      <td>163</td>\n",
       "      <td>grand</td>\n",
       "      <td>125000</td>\n",
       "      <td>gasoline</td>\n",
       "      <td>jeep</td>\n",
       "      <td>NaN</td>\n",
       "      <td>2016-03-14 00:00:00</td>\n",
       "      <td>90480</td>\n",
       "    </tr>\n",
       "    <tr>\n",
       "      <th>3</th>\n",
       "      <td>1500</td>\n",
       "      <td>small</td>\n",
       "      <td>2001</td>\n",
       "      <td>manual</td>\n",
       "      <td>75</td>\n",
       "      <td>golf</td>\n",
       "      <td>150000</td>\n",
       "      <td>petrol</td>\n",
       "      <td>volkswagen</td>\n",
       "      <td>no</td>\n",
       "      <td>2016-03-17 00:00:00</td>\n",
       "      <td>91074</td>\n",
       "    </tr>\n",
       "    <tr>\n",
       "      <th>4</th>\n",
       "      <td>3600</td>\n",
       "      <td>small</td>\n",
       "      <td>2008</td>\n",
       "      <td>manual</td>\n",
       "      <td>69</td>\n",
       "      <td>fabia</td>\n",
       "      <td>90000</td>\n",
       "      <td>gasoline</td>\n",
       "      <td>skoda</td>\n",
       "      <td>no</td>\n",
       "      <td>2016-03-31 00:00:00</td>\n",
       "      <td>60437</td>\n",
       "    </tr>\n",
       "  </tbody>\n",
       "</table>\n",
       "</div>"
      ],
      "text/plain": [
       "   price   body  year_reg    gear  power  model  mileage      fuel  \\\n",
       "0    480    NaN      1993  manual      0   golf   150000    petrol   \n",
       "1  18300  coupe      2011  manual    190    NaN   125000  gasoline   \n",
       "2   9800    suv      2004    auto    163  grand   125000  gasoline   \n",
       "3   1500  small      2001  manual     75   golf   150000    petrol   \n",
       "4   3600  small      2008  manual     69  fabia    90000  gasoline   \n",
       "\n",
       "        brand repair                 date  postalcode  \n",
       "0  volkswagen    NaN  2016-03-24 00:00:00       70435  \n",
       "1        audi    yes  2016-03-24 00:00:00       66954  \n",
       "2        jeep    NaN  2016-03-14 00:00:00       90480  \n",
       "3  volkswagen     no  2016-03-17 00:00:00       91074  \n",
       "4       skoda     no  2016-03-31 00:00:00       60437  "
      ]
     },
     "execution_count": 7,
     "metadata": {},
     "output_type": "execute_result"
    }
   ],
   "source": [
    "df.head()"
   ]
  },
  {
   "cell_type": "markdown",
   "metadata": {},
   "source": [
    "<a id='section2.1'></a>\n",
    "### Обработка пропусков"
   ]
  },
  {
   "cell_type": "code",
   "execution_count": 8,
   "metadata": {},
   "outputs": [],
   "source": [
    "# удалим дубликаты\n",
    "df = df.drop_duplicates()"
   ]
  },
  {
   "cell_type": "markdown",
   "metadata": {},
   "source": [
    "Признак **price**"
   ]
  },
  {
   "cell_type": "code",
   "execution_count": 9,
   "metadata": {},
   "outputs": [
    {
     "data": {
      "text/plain": [
       "'Количество объявлений с нулевой ценой: 10521'"
      ]
     },
     "execution_count": 9,
     "metadata": {},
     "output_type": "execute_result"
    }
   ],
   "source": [
    "f\"Количество объявлений с нулевой ценой: {len(df.loc[df['price'] == 0])}\""
   ]
  },
  {
   "cell_type": "markdown",
   "metadata": {},
   "source": [
    "Данные о \"нулевой\" стоимости явно ошибка (или цена не была указана продавцом), возможности востановить нет, а так как это целевой признак в этих объектах, удалим данные строки."
   ]
  },
  {
   "cell_type": "code",
   "execution_count": 10,
   "metadata": {},
   "outputs": [],
   "source": [
    "df = df.loc[df['price'] != 0]"
   ]
  },
  {
   "cell_type": "markdown",
   "metadata": {},
   "source": [
    "Признак **model**"
   ]
  },
  {
   "cell_type": "code",
   "execution_count": 11,
   "metadata": {},
   "outputs": [
    {
     "data": {
      "text/plain": [
       "'Количество объявлений с незаполненной моделью: 17273'"
      ]
     },
     "execution_count": 11,
     "metadata": {},
     "output_type": "execute_result"
    }
   ],
   "source": [
    "f\"Количество объявлений с незаполненной моделью: {len(df.loc[df['model'].isna()])}\""
   ]
  },
  {
   "cell_type": "markdown",
   "metadata": {},
   "source": [
    "Данный признак является одним из основных для предсказания цены. Возможности восстановить корректно эти данные нет, удалим пропуски."
   ]
  },
  {
   "cell_type": "code",
   "execution_count": 12,
   "metadata": {},
   "outputs": [],
   "source": [
    "df = df.loc[~df['model'].isna()]"
   ]
  },
  {
   "cell_type": "markdown",
   "metadata": {},
   "source": [
    "Признак **power**"
   ]
  },
  {
   "cell_type": "code",
   "execution_count": 13,
   "metadata": {},
   "outputs": [
    {
     "data": {
      "text/plain": [
       "'Количество автомобилей с мощностью > 1000 л.с.: 30889'"
      ]
     },
     "execution_count": 13,
     "metadata": {},
     "output_type": "execute_result"
    }
   ],
   "source": [
    "f\"Количество автомобилей с мощностью > 1000 л.с.: {len(df.loc[(df['power'] > 1000) | (df['power'] <= 0)])}\""
   ]
  },
  {
   "cell_type": "markdown",
   "metadata": {},
   "source": [
    "Мощность > 1000 л.с. уже излишняя. Возможно допустили ошибку при вводе данных, где по умолчанию стоял \"0\" и он попал в конец итогового значения, точно не известно. Заполним такие значения медианными среди автомобилей той же модели."
   ]
  },
  {
   "cell_type": "code",
   "execution_count": 14,
   "metadata": {},
   "outputs": [],
   "source": [
    "df.loc[(df['power'] > 1000) | (df['power'] <= 0), 'power'] = None\n",
    "df['power'] = df['power'].fillna(df.groupby('model')['power'].transform('median'))\n",
    "df = df.loc[~df['power'].isna()]\n",
    "df['power'] = df['power'].astype('int64')"
   ]
  },
  {
   "cell_type": "markdown",
   "metadata": {},
   "source": [
    "Признак **year_reg**"
   ]
  },
  {
   "cell_type": "code",
   "execution_count": 15,
   "metadata": {},
   "outputs": [
    {
     "data": {
      "text/plain": [
       "'Количество объявлений с неправильным годом регистрации: 56'"
      ]
     },
     "execution_count": 15,
     "metadata": {},
     "output_type": "execute_result"
    }
   ],
   "source": [
    "f\"Количество объявлений с неправильным годом регистрации: {len(df.loc[df['year_reg'] > 2022])}\""
   ]
  },
  {
   "cell_type": "code",
   "execution_count": 16,
   "metadata": {},
   "outputs": [
    {
     "data": {
      "text/html": [
       "<div>\n",
       "<style scoped>\n",
       "    .dataframe tbody tr th:only-of-type {\n",
       "        vertical-align: middle;\n",
       "    }\n",
       "\n",
       "    .dataframe tbody tr th {\n",
       "        vertical-align: top;\n",
       "    }\n",
       "\n",
       "    .dataframe thead th {\n",
       "        text-align: right;\n",
       "    }\n",
       "</style>\n",
       "<table border=\"1\" class=\"dataframe\">\n",
       "  <thead>\n",
       "    <tr style=\"text-align: right;\">\n",
       "      <th></th>\n",
       "      <th>price</th>\n",
       "      <th>body</th>\n",
       "      <th>year_reg</th>\n",
       "      <th>gear</th>\n",
       "      <th>power</th>\n",
       "      <th>model</th>\n",
       "      <th>mileage</th>\n",
       "      <th>fuel</th>\n",
       "      <th>brand</th>\n",
       "      <th>repair</th>\n",
       "      <th>date</th>\n",
       "      <th>postalcode</th>\n",
       "    </tr>\n",
       "  </thead>\n",
       "  <tbody>\n",
       "    <tr>\n",
       "      <th>12946</th>\n",
       "      <td>49</td>\n",
       "      <td>NaN</td>\n",
       "      <td>5000</td>\n",
       "      <td>NaN</td>\n",
       "      <td>101</td>\n",
       "      <td>golf</td>\n",
       "      <td>5000</td>\n",
       "      <td>NaN</td>\n",
       "      <td>volkswagen</td>\n",
       "      <td>NaN</td>\n",
       "      <td>2016-03-29 00:00:00</td>\n",
       "      <td>74523</td>\n",
       "    </tr>\n",
       "    <tr>\n",
       "      <th>17271</th>\n",
       "      <td>700</td>\n",
       "      <td>NaN</td>\n",
       "      <td>9999</td>\n",
       "      <td>NaN</td>\n",
       "      <td>116</td>\n",
       "      <td>other</td>\n",
       "      <td>10000</td>\n",
       "      <td>NaN</td>\n",
       "      <td>opel</td>\n",
       "      <td>NaN</td>\n",
       "      <td>2016-03-23 00:00:00</td>\n",
       "      <td>21769</td>\n",
       "    </tr>\n",
       "    <tr>\n",
       "      <th>18259</th>\n",
       "      <td>300</td>\n",
       "      <td>NaN</td>\n",
       "      <td>2200</td>\n",
       "      <td>NaN</td>\n",
       "      <td>58</td>\n",
       "      <td>twingo</td>\n",
       "      <td>5000</td>\n",
       "      <td>NaN</td>\n",
       "      <td>renault</td>\n",
       "      <td>NaN</td>\n",
       "      <td>2016-03-16 00:00:00</td>\n",
       "      <td>45307</td>\n",
       "    </tr>\n",
       "    <tr>\n",
       "      <th>26382</th>\n",
       "      <td>150</td>\n",
       "      <td>NaN</td>\n",
       "      <td>3000</td>\n",
       "      <td>NaN</td>\n",
       "      <td>95</td>\n",
       "      <td>a_klasse</td>\n",
       "      <td>5000</td>\n",
       "      <td>NaN</td>\n",
       "      <td>mercedes_benz</td>\n",
       "      <td>NaN</td>\n",
       "      <td>2016-03-07 00:00:00</td>\n",
       "      <td>28217</td>\n",
       "    </tr>\n",
       "    <tr>\n",
       "      <th>26560</th>\n",
       "      <td>800</td>\n",
       "      <td>NaN</td>\n",
       "      <td>2066</td>\n",
       "      <td>NaN</td>\n",
       "      <td>125</td>\n",
       "      <td>zafira</td>\n",
       "      <td>5000</td>\n",
       "      <td>gasoline</td>\n",
       "      <td>opel</td>\n",
       "      <td>NaN</td>\n",
       "      <td>2016-03-24 00:00:00</td>\n",
       "      <td>45355</td>\n",
       "    </tr>\n",
       "    <tr>\n",
       "      <th>28390</th>\n",
       "      <td>799</td>\n",
       "      <td>NaN</td>\n",
       "      <td>9999</td>\n",
       "      <td>NaN</td>\n",
       "      <td>150</td>\n",
       "      <td>3er</td>\n",
       "      <td>10000</td>\n",
       "      <td>petrol</td>\n",
       "      <td>bmw</td>\n",
       "      <td>NaN</td>\n",
       "      <td>2016-04-05 00:00:00</td>\n",
       "      <td>72116</td>\n",
       "    </tr>\n",
       "    <tr>\n",
       "      <th>28965</th>\n",
       "      <td>18000</td>\n",
       "      <td>NaN</td>\n",
       "      <td>9999</td>\n",
       "      <td>NaN</td>\n",
       "      <td>95</td>\n",
       "      <td>a_klasse</td>\n",
       "      <td>10000</td>\n",
       "      <td>petrol</td>\n",
       "      <td>mercedes_benz</td>\n",
       "      <td>NaN</td>\n",
       "      <td>2016-04-04 00:00:00</td>\n",
       "      <td>51379</td>\n",
       "    </tr>\n",
       "    <tr>\n",
       "      <th>29426</th>\n",
       "      <td>7999</td>\n",
       "      <td>NaN</td>\n",
       "      <td>9999</td>\n",
       "      <td>NaN</td>\n",
       "      <td>44</td>\n",
       "      <td>kaefer</td>\n",
       "      <td>10000</td>\n",
       "      <td>NaN</td>\n",
       "      <td>volkswagen</td>\n",
       "      <td>NaN</td>\n",
       "      <td>2016-03-23 00:00:00</td>\n",
       "      <td>47638</td>\n",
       "    </tr>\n",
       "    <tr>\n",
       "      <th>40954</th>\n",
       "      <td>59</td>\n",
       "      <td>NaN</td>\n",
       "      <td>8000</td>\n",
       "      <td>NaN</td>\n",
       "      <td>116</td>\n",
       "      <td>other</td>\n",
       "      <td>10000</td>\n",
       "      <td>NaN</td>\n",
       "      <td>chevrolet</td>\n",
       "      <td>NaN</td>\n",
       "      <td>2016-03-07 00:00:00</td>\n",
       "      <td>31061</td>\n",
       "    </tr>\n",
       "    <tr>\n",
       "      <th>45662</th>\n",
       "      <td>999</td>\n",
       "      <td>NaN</td>\n",
       "      <td>9000</td>\n",
       "      <td>NaN</td>\n",
       "      <td>69</td>\n",
       "      <td>fiesta</td>\n",
       "      <td>10000</td>\n",
       "      <td>NaN</td>\n",
       "      <td>ford</td>\n",
       "      <td>yes</td>\n",
       "      <td>2016-03-23 00:00:00</td>\n",
       "      <td>50733</td>\n",
       "    </tr>\n",
       "  </tbody>\n",
       "</table>\n",
       "</div>"
      ],
      "text/plain": [
       "       price body  year_reg gear  power     model  mileage      fuel  \\\n",
       "12946     49  NaN      5000  NaN    101      golf     5000       NaN   \n",
       "17271    700  NaN      9999  NaN    116     other    10000       NaN   \n",
       "18259    300  NaN      2200  NaN     58    twingo     5000       NaN   \n",
       "26382    150  NaN      3000  NaN     95  a_klasse     5000       NaN   \n",
       "26560    800  NaN      2066  NaN    125    zafira     5000  gasoline   \n",
       "28390    799  NaN      9999  NaN    150       3er    10000    petrol   \n",
       "28965  18000  NaN      9999  NaN     95  a_klasse    10000    petrol   \n",
       "29426   7999  NaN      9999  NaN     44    kaefer    10000       NaN   \n",
       "40954     59  NaN      8000  NaN    116     other    10000       NaN   \n",
       "45662    999  NaN      9000  NaN     69    fiesta    10000       NaN   \n",
       "\n",
       "               brand repair                 date  postalcode  \n",
       "12946     volkswagen    NaN  2016-03-29 00:00:00       74523  \n",
       "17271           opel    NaN  2016-03-23 00:00:00       21769  \n",
       "18259        renault    NaN  2016-03-16 00:00:00       45307  \n",
       "26382  mercedes_benz    NaN  2016-03-07 00:00:00       28217  \n",
       "26560           opel    NaN  2016-03-24 00:00:00       45355  \n",
       "28390            bmw    NaN  2016-04-05 00:00:00       72116  \n",
       "28965  mercedes_benz    NaN  2016-04-04 00:00:00       51379  \n",
       "29426     volkswagen    NaN  2016-03-23 00:00:00       47638  \n",
       "40954      chevrolet    NaN  2016-03-07 00:00:00       31061  \n",
       "45662           ford    yes  2016-03-23 00:00:00       50733  "
      ]
     },
     "execution_count": 16,
     "metadata": {},
     "output_type": "execute_result"
    }
   ],
   "source": [
    "df.loc[df['year_reg'] > 2022].head(10)"
   ]
  },
  {
   "cell_type": "markdown",
   "metadata": {},
   "source": [
    "Предсказать цену с таким годом будет сложно предсказать, и подобные объявления имеют так же много пропусков и могут внести ошибку в модель. Так как их достаточно мало и они имеют много пропусков - удалим такие объявления."
   ]
  },
  {
   "cell_type": "code",
   "execution_count": 17,
   "metadata": {},
   "outputs": [],
   "source": [
    "df = df.loc[df['year_reg'] <= 2016]"
   ]
  },
  {
   "cell_type": "markdown",
   "metadata": {},
   "source": [
    "Признаки **body**, **gear**, **fuel**"
   ]
  },
  {
   "cell_type": "code",
   "execution_count": 18,
   "metadata": {},
   "outputs": [],
   "source": [
    "# Переименуем gasoline на petrol, так как это один тип топлива\n",
    "df.fuel.where(df.fuel != 'gasoline', 'petrol', inplace=True)"
   ]
  },
  {
   "cell_type": "markdown",
   "metadata": {},
   "source": [
    "Данные параметры c большой вероятностью одинаковы в одинаковых моделях автомобилей. Заполним пропуски в данных признаках наиболее частым значением той же модели."
   ]
  },
  {
   "cell_type": "code",
   "execution_count": 19,
   "metadata": {},
   "outputs": [],
   "source": [
    "df['body'] = df['body'].fillna(df\n",
    "                                                  .groupby('model')['body']\n",
    "                                                  .transform(lambda x: x.value_counts().idxmax())\n",
    "                                                 )"
   ]
  },
  {
   "cell_type": "code",
   "execution_count": 20,
   "metadata": {},
   "outputs": [],
   "source": [
    "df['gear'] = df['gear'].fillna(df\n",
    "                                         .groupby('model')['gear']\n",
    "                                         .transform(lambda x: x.value_counts().idxmax())\n",
    "                                        )"
   ]
  },
  {
   "cell_type": "code",
   "execution_count": 21,
   "metadata": {},
   "outputs": [],
   "source": [
    "df['fuel'] = df['fuel'].fillna(df\n",
    "                                           .groupby('model')['fuel']\n",
    "                                           .transform(lambda x: x.value_counts().idxmax())\n",
    "                                          )"
   ]
  },
  {
   "cell_type": "markdown",
   "metadata": {},
   "source": [
    "Признак **repair**"
   ]
  },
  {
   "cell_type": "code",
   "execution_count": 22,
   "metadata": {},
   "outputs": [],
   "source": [
    "# закроим пропуски \"заглушкой\"\n",
    "df['repair'] = df['repair'].fillna('unknown')"
   ]
  },
  {
   "cell_type": "markdown",
   "metadata": {},
   "source": [
    "Признаки **date**"
   ]
  },
  {
   "cell_type": "markdown",
   "metadata": {},
   "source": [
    "Извлечём из неё год и месяц создания объявления. Заодно извлечём день, чтобы в дальнейшем проверить дубликаты с точностью до дня."
   ]
  },
  {
   "cell_type": "code",
   "execution_count": 23,
   "metadata": {},
   "outputs": [],
   "source": [
    "# Изменим тип данных\n",
    "df.date = pd.to_datetime(df.date)"
   ]
  },
  {
   "cell_type": "code",
   "execution_count": 24,
   "metadata": {},
   "outputs": [],
   "source": [
    "# Создадим столбцы \"год\" и \"месяц\"\n",
    "df.loc[:, 'year_created'] = df.date.dt.year\n",
    "df.loc[:, 'month_created'] = df.date.dt.month\n",
    "df.loc[:, 'day_created'] = df.date.dt.day"
   ]
  },
  {
   "cell_type": "code",
   "execution_count": 25,
   "metadata": {},
   "outputs": [],
   "source": [
    "df.drop('date', axis=1, inplace=True)"
   ]
  },
  {
   "cell_type": "code",
   "execution_count": 26,
   "metadata": {},
   "outputs": [
    {
     "data": {
      "text/html": [
       "<div>\n",
       "<style scoped>\n",
       "    .dataframe tbody tr th:only-of-type {\n",
       "        vertical-align: middle;\n",
       "    }\n",
       "\n",
       "    .dataframe tbody tr th {\n",
       "        vertical-align: top;\n",
       "    }\n",
       "\n",
       "    .dataframe thead th {\n",
       "        text-align: right;\n",
       "    }\n",
       "</style>\n",
       "<table border=\"1\" class=\"dataframe\">\n",
       "  <thead>\n",
       "    <tr style=\"text-align: right;\">\n",
       "      <th></th>\n",
       "      <th>price</th>\n",
       "      <th>body</th>\n",
       "      <th>year_reg</th>\n",
       "      <th>gear</th>\n",
       "      <th>power</th>\n",
       "      <th>model</th>\n",
       "      <th>mileage</th>\n",
       "      <th>fuel</th>\n",
       "      <th>brand</th>\n",
       "      <th>repair</th>\n",
       "      <th>postalcode</th>\n",
       "      <th>year_created</th>\n",
       "      <th>month_created</th>\n",
       "      <th>day_created</th>\n",
       "    </tr>\n",
       "  </thead>\n",
       "  <tbody>\n",
       "    <tr>\n",
       "      <th>0</th>\n",
       "      <td>480</td>\n",
       "      <td>sedan</td>\n",
       "      <td>1993</td>\n",
       "      <td>manual</td>\n",
       "      <td>101</td>\n",
       "      <td>golf</td>\n",
       "      <td>150000</td>\n",
       "      <td>petrol</td>\n",
       "      <td>volkswagen</td>\n",
       "      <td>unknown</td>\n",
       "      <td>70435</td>\n",
       "      <td>2016</td>\n",
       "      <td>3</td>\n",
       "      <td>24</td>\n",
       "    </tr>\n",
       "    <tr>\n",
       "      <th>2</th>\n",
       "      <td>9800</td>\n",
       "      <td>suv</td>\n",
       "      <td>2004</td>\n",
       "      <td>auto</td>\n",
       "      <td>163</td>\n",
       "      <td>grand</td>\n",
       "      <td>125000</td>\n",
       "      <td>petrol</td>\n",
       "      <td>jeep</td>\n",
       "      <td>unknown</td>\n",
       "      <td>90480</td>\n",
       "      <td>2016</td>\n",
       "      <td>3</td>\n",
       "      <td>14</td>\n",
       "    </tr>\n",
       "    <tr>\n",
       "      <th>3</th>\n",
       "      <td>1500</td>\n",
       "      <td>small</td>\n",
       "      <td>2001</td>\n",
       "      <td>manual</td>\n",
       "      <td>75</td>\n",
       "      <td>golf</td>\n",
       "      <td>150000</td>\n",
       "      <td>petrol</td>\n",
       "      <td>volkswagen</td>\n",
       "      <td>no</td>\n",
       "      <td>91074</td>\n",
       "      <td>2016</td>\n",
       "      <td>3</td>\n",
       "      <td>17</td>\n",
       "    </tr>\n",
       "    <tr>\n",
       "      <th>4</th>\n",
       "      <td>3600</td>\n",
       "      <td>small</td>\n",
       "      <td>2008</td>\n",
       "      <td>manual</td>\n",
       "      <td>69</td>\n",
       "      <td>fabia</td>\n",
       "      <td>90000</td>\n",
       "      <td>petrol</td>\n",
       "      <td>skoda</td>\n",
       "      <td>no</td>\n",
       "      <td>60437</td>\n",
       "      <td>2016</td>\n",
       "      <td>3</td>\n",
       "      <td>31</td>\n",
       "    </tr>\n",
       "    <tr>\n",
       "      <th>5</th>\n",
       "      <td>650</td>\n",
       "      <td>sedan</td>\n",
       "      <td>1995</td>\n",
       "      <td>manual</td>\n",
       "      <td>102</td>\n",
       "      <td>3er</td>\n",
       "      <td>150000</td>\n",
       "      <td>petrol</td>\n",
       "      <td>bmw</td>\n",
       "      <td>yes</td>\n",
       "      <td>33775</td>\n",
       "      <td>2016</td>\n",
       "      <td>4</td>\n",
       "      <td>4</td>\n",
       "    </tr>\n",
       "    <tr>\n",
       "      <th>6</th>\n",
       "      <td>2200</td>\n",
       "      <td>convertible</td>\n",
       "      <td>2004</td>\n",
       "      <td>manual</td>\n",
       "      <td>109</td>\n",
       "      <td>2_reihe</td>\n",
       "      <td>150000</td>\n",
       "      <td>petrol</td>\n",
       "      <td>peugeot</td>\n",
       "      <td>no</td>\n",
       "      <td>67112</td>\n",
       "      <td>2016</td>\n",
       "      <td>4</td>\n",
       "      <td>1</td>\n",
       "    </tr>\n",
       "    <tr>\n",
       "      <th>8</th>\n",
       "      <td>14500</td>\n",
       "      <td>bus</td>\n",
       "      <td>2014</td>\n",
       "      <td>manual</td>\n",
       "      <td>125</td>\n",
       "      <td>c_max</td>\n",
       "      <td>30000</td>\n",
       "      <td>petrol</td>\n",
       "      <td>ford</td>\n",
       "      <td>unknown</td>\n",
       "      <td>94505</td>\n",
       "      <td>2016</td>\n",
       "      <td>4</td>\n",
       "      <td>4</td>\n",
       "    </tr>\n",
       "    <tr>\n",
       "      <th>9</th>\n",
       "      <td>999</td>\n",
       "      <td>small</td>\n",
       "      <td>1998</td>\n",
       "      <td>manual</td>\n",
       "      <td>101</td>\n",
       "      <td>golf</td>\n",
       "      <td>150000</td>\n",
       "      <td>petrol</td>\n",
       "      <td>volkswagen</td>\n",
       "      <td>unknown</td>\n",
       "      <td>27472</td>\n",
       "      <td>2016</td>\n",
       "      <td>3</td>\n",
       "      <td>17</td>\n",
       "    </tr>\n",
       "    <tr>\n",
       "      <th>10</th>\n",
       "      <td>2000</td>\n",
       "      <td>sedan</td>\n",
       "      <td>2004</td>\n",
       "      <td>manual</td>\n",
       "      <td>105</td>\n",
       "      <td>3_reihe</td>\n",
       "      <td>150000</td>\n",
       "      <td>petrol</td>\n",
       "      <td>mazda</td>\n",
       "      <td>no</td>\n",
       "      <td>96224</td>\n",
       "      <td>2016</td>\n",
       "      <td>3</td>\n",
       "      <td>26</td>\n",
       "    </tr>\n",
       "    <tr>\n",
       "      <th>11</th>\n",
       "      <td>2799</td>\n",
       "      <td>wagon</td>\n",
       "      <td>2005</td>\n",
       "      <td>manual</td>\n",
       "      <td>140</td>\n",
       "      <td>passat</td>\n",
       "      <td>150000</td>\n",
       "      <td>petrol</td>\n",
       "      <td>volkswagen</td>\n",
       "      <td>yes</td>\n",
       "      <td>57290</td>\n",
       "      <td>2016</td>\n",
       "      <td>4</td>\n",
       "      <td>7</td>\n",
       "    </tr>\n",
       "  </tbody>\n",
       "</table>\n",
       "</div>"
      ],
      "text/plain": [
       "    price         body  year_reg    gear  power    model  mileage    fuel  \\\n",
       "0     480        sedan      1993  manual    101     golf   150000  petrol   \n",
       "2    9800          suv      2004    auto    163    grand   125000  petrol   \n",
       "3    1500        small      2001  manual     75     golf   150000  petrol   \n",
       "4    3600        small      2008  manual     69    fabia    90000  petrol   \n",
       "5     650        sedan      1995  manual    102      3er   150000  petrol   \n",
       "6    2200  convertible      2004  manual    109  2_reihe   150000  petrol   \n",
       "8   14500          bus      2014  manual    125    c_max    30000  petrol   \n",
       "9     999        small      1998  manual    101     golf   150000  petrol   \n",
       "10   2000        sedan      2004  manual    105  3_reihe   150000  petrol   \n",
       "11   2799        wagon      2005  manual    140   passat   150000  petrol   \n",
       "\n",
       "         brand   repair  postalcode  year_created  month_created  day_created  \n",
       "0   volkswagen  unknown       70435          2016              3           24  \n",
       "2         jeep  unknown       90480          2016              3           14  \n",
       "3   volkswagen       no       91074          2016              3           17  \n",
       "4        skoda       no       60437          2016              3           31  \n",
       "5          bmw      yes       33775          2016              4            4  \n",
       "6      peugeot       no       67112          2016              4            1  \n",
       "8         ford  unknown       94505          2016              4            4  \n",
       "9   volkswagen  unknown       27472          2016              3           17  \n",
       "10       mazda       no       96224          2016              3           26  \n",
       "11  volkswagen      yes       57290          2016              4            7  "
      ]
     },
     "execution_count": 26,
     "metadata": {},
     "output_type": "execute_result"
    }
   ],
   "source": [
    "df.head(10)"
   ]
  },
  {
   "cell_type": "code",
   "execution_count": 27,
   "metadata": {},
   "outputs": [
    {
     "name": "stdout",
     "output_type": "stream",
     "text": [
      "<class 'pandas.core.frame.DataFrame'>\n",
      "Int64Index: 304076 entries, 0 to 354368\n",
      "Data columns (total 14 columns):\n",
      " #   Column         Non-Null Count   Dtype \n",
      "---  ------         --------------   ----- \n",
      " 0   price          304076 non-null  int64 \n",
      " 1   body           304076 non-null  object\n",
      " 2   year_reg       304076 non-null  int64 \n",
      " 3   gear           304076 non-null  object\n",
      " 4   power          304076 non-null  int64 \n",
      " 5   model          304076 non-null  object\n",
      " 6   mileage        304076 non-null  int64 \n",
      " 7   fuel           304076 non-null  object\n",
      " 8   brand          304076 non-null  object\n",
      " 9   repair         304076 non-null  object\n",
      " 10  postalcode     304076 non-null  int64 \n",
      " 11  year_created   304076 non-null  int64 \n",
      " 12  month_created  304076 non-null  int64 \n",
      " 13  day_created    304076 non-null  int64 \n",
      "dtypes: int64(8), object(6)\n",
      "memory usage: 34.8+ MB\n"
     ]
    }
   ],
   "source": [
    "df.info()"
   ]
  },
  {
   "cell_type": "markdown",
   "metadata": {},
   "source": [
    "Проверим наличие дубликатов, которые могли появиться после предобработки данных"
   ]
  },
  {
   "cell_type": "code",
   "execution_count": 28,
   "metadata": {},
   "outputs": [
    {
     "name": "stdout",
     "output_type": "stream",
     "text": [
      "Количество дубликатов: 414\n"
     ]
    }
   ],
   "source": [
    "print('Количество дубликатов:', sum(df.duplicated()))"
   ]
  },
  {
   "cell_type": "markdown",
   "metadata": {},
   "source": [
    "Eдалим их, и заодно отбросим день подачи объявления и индекс пользователей"
   ]
  },
  {
   "cell_type": "code",
   "execution_count": 29,
   "metadata": {},
   "outputs": [],
   "source": [
    "# Удалим дубликаты\n",
    "df.drop_duplicates(inplace = True)\n",
    "\n",
    "# Отбросим столбцы\n",
    "df.drop(['postalcode', 'day_created'], axis = 1, inplace = True)"
   ]
  },
  {
   "cell_type": "markdown",
   "metadata": {},
   "source": [
    "Посмотрим итоговый результат получившейся таблицы"
   ]
  },
  {
   "cell_type": "code",
   "execution_count": 30,
   "metadata": {},
   "outputs": [
    {
     "data": {
      "text/html": [
       "<div>\n",
       "<style scoped>\n",
       "    .dataframe tbody tr th:only-of-type {\n",
       "        vertical-align: middle;\n",
       "    }\n",
       "\n",
       "    .dataframe tbody tr th {\n",
       "        vertical-align: top;\n",
       "    }\n",
       "\n",
       "    .dataframe thead th {\n",
       "        text-align: right;\n",
       "    }\n",
       "</style>\n",
       "<table border=\"1\" class=\"dataframe\">\n",
       "  <thead>\n",
       "    <tr style=\"text-align: right;\">\n",
       "      <th></th>\n",
       "      <th>price</th>\n",
       "      <th>body</th>\n",
       "      <th>year_reg</th>\n",
       "      <th>gear</th>\n",
       "      <th>power</th>\n",
       "      <th>model</th>\n",
       "      <th>mileage</th>\n",
       "      <th>fuel</th>\n",
       "      <th>brand</th>\n",
       "      <th>repair</th>\n",
       "      <th>year_created</th>\n",
       "      <th>month_created</th>\n",
       "    </tr>\n",
       "  </thead>\n",
       "  <tbody>\n",
       "    <tr>\n",
       "      <th>0</th>\n",
       "      <td>480</td>\n",
       "      <td>sedan</td>\n",
       "      <td>1993</td>\n",
       "      <td>manual</td>\n",
       "      <td>101</td>\n",
       "      <td>golf</td>\n",
       "      <td>150000</td>\n",
       "      <td>petrol</td>\n",
       "      <td>volkswagen</td>\n",
       "      <td>unknown</td>\n",
       "      <td>2016</td>\n",
       "      <td>3</td>\n",
       "    </tr>\n",
       "    <tr>\n",
       "      <th>2</th>\n",
       "      <td>9800</td>\n",
       "      <td>suv</td>\n",
       "      <td>2004</td>\n",
       "      <td>auto</td>\n",
       "      <td>163</td>\n",
       "      <td>grand</td>\n",
       "      <td>125000</td>\n",
       "      <td>petrol</td>\n",
       "      <td>jeep</td>\n",
       "      <td>unknown</td>\n",
       "      <td>2016</td>\n",
       "      <td>3</td>\n",
       "    </tr>\n",
       "    <tr>\n",
       "      <th>3</th>\n",
       "      <td>1500</td>\n",
       "      <td>small</td>\n",
       "      <td>2001</td>\n",
       "      <td>manual</td>\n",
       "      <td>75</td>\n",
       "      <td>golf</td>\n",
       "      <td>150000</td>\n",
       "      <td>petrol</td>\n",
       "      <td>volkswagen</td>\n",
       "      <td>no</td>\n",
       "      <td>2016</td>\n",
       "      <td>3</td>\n",
       "    </tr>\n",
       "    <tr>\n",
       "      <th>4</th>\n",
       "      <td>3600</td>\n",
       "      <td>small</td>\n",
       "      <td>2008</td>\n",
       "      <td>manual</td>\n",
       "      <td>69</td>\n",
       "      <td>fabia</td>\n",
       "      <td>90000</td>\n",
       "      <td>petrol</td>\n",
       "      <td>skoda</td>\n",
       "      <td>no</td>\n",
       "      <td>2016</td>\n",
       "      <td>3</td>\n",
       "    </tr>\n",
       "    <tr>\n",
       "      <th>5</th>\n",
       "      <td>650</td>\n",
       "      <td>sedan</td>\n",
       "      <td>1995</td>\n",
       "      <td>manual</td>\n",
       "      <td>102</td>\n",
       "      <td>3er</td>\n",
       "      <td>150000</td>\n",
       "      <td>petrol</td>\n",
       "      <td>bmw</td>\n",
       "      <td>yes</td>\n",
       "      <td>2016</td>\n",
       "      <td>4</td>\n",
       "    </tr>\n",
       "  </tbody>\n",
       "</table>\n",
       "</div>"
      ],
      "text/plain": [
       "   price   body  year_reg    gear  power  model  mileage    fuel       brand  \\\n",
       "0    480  sedan      1993  manual    101   golf   150000  petrol  volkswagen   \n",
       "2   9800    suv      2004    auto    163  grand   125000  petrol        jeep   \n",
       "3   1500  small      2001  manual     75   golf   150000  petrol  volkswagen   \n",
       "4   3600  small      2008  manual     69  fabia    90000  petrol       skoda   \n",
       "5    650  sedan      1995  manual    102    3er   150000  petrol         bmw   \n",
       "\n",
       "    repair  year_created  month_created  \n",
       "0  unknown          2016              3  \n",
       "2  unknown          2016              3  \n",
       "3       no          2016              3  \n",
       "4       no          2016              3  \n",
       "5      yes          2016              4  "
      ]
     },
     "execution_count": 30,
     "metadata": {},
     "output_type": "execute_result"
    }
   ],
   "source": [
    "df.head()"
   ]
  },
  {
   "cell_type": "markdown",
   "metadata": {},
   "source": [
    "<a id='section2.2'></a>\n",
    "### Подготовка выборок"
   ]
  },
  {
   "cell_type": "markdown",
   "metadata": {},
   "source": [
    "Выделим признаки, целевой признак. Разделим выборку на обучающую и тестовую"
   ]
  },
  {
   "cell_type": "code",
   "execution_count": 31,
   "metadata": {},
   "outputs": [
    {
     "data": {
      "text/plain": [
       "((273295, 11), (30367, 11), (273295, 1), (30367, 1))"
      ]
     },
     "execution_count": 31,
     "metadata": {},
     "output_type": "execute_result"
    }
   ],
   "source": [
    "# введём константу для random_state\n",
    "RANDOM_STATE = 12345\n",
    "\n",
    "# определение признаков \n",
    "target = df[['price']]\n",
    "features = df.drop('price', axis=1)\n",
    "\n",
    "x_train, x_test, y_train, y_test = train_test_split(features, target, train_size = 0.9)\n",
    "x_train.shape, x_test.shape, y_train.shape, y_test.shape"
   ]
  },
  {
   "cell_type": "code",
   "execution_count": 32,
   "metadata": {},
   "outputs": [],
   "source": [
    "quant_columns = ['mileage', 'power', 'year_reg']\n",
    "cat_columns = ['body', 'gear', 'model', 'fuel', 'brand', 'repair']"
   ]
  },
  {
   "cell_type": "markdown",
   "metadata": {},
   "source": [
    "<a id='section2.3'></a>\n",
    "### Кодирование и масштабирование"
   ]
  },
  {
   "cell_type": "markdown",
   "metadata": {},
   "source": [
    "Применим OrdinalEncoder к колонкам с категориальными признаками"
   ]
  },
  {
   "cell_type": "code",
   "execution_count": 33,
   "metadata": {},
   "outputs": [
    {
     "data": {
      "text/plain": [
       "((273295, 307), (30367, 307))"
      ]
     },
     "execution_count": 33,
     "metadata": {},
     "output_type": "execute_result"
    }
   ],
   "source": [
    "ohe_encoder = OneHotEncoder(dtype = np.bool, sparse = False, handle_unknown = 'ignore')\n",
    "x_train_ohe = ohe_encoder.fit_transform(x_train[cat_columns])\n",
    "x_test_ohe = ohe_encoder.transform(x_test[cat_columns])\n",
    "x_train_ohe.shape, x_test_ohe.shape"
   ]
  },
  {
   "cell_type": "code",
   "execution_count": 34,
   "metadata": {},
   "outputs": [
    {
     "data": {
      "text/plain": [
       "((273295, 6), (30367, 6))"
      ]
     },
     "execution_count": 34,
     "metadata": {},
     "output_type": "execute_result"
    }
   ],
   "source": [
    "ordinal_encoder = OrdinalEncoder(dtype = np.int16)\n",
    "ordinal_encoder.fit(features[cat_columns])\n",
    "x_train_ord = ordinal_encoder.transform(x_train[cat_columns])\n",
    "x_test_ord = ordinal_encoder.transform(x_test[cat_columns])\n",
    "x_train_ord.shape, x_test_ord.shape"
   ]
  },
  {
   "cell_type": "code",
   "execution_count": 35,
   "metadata": {},
   "outputs": [
    {
     "data": {
      "text/plain": [
       "((273295, 3), (30367, 3))"
      ]
     },
     "execution_count": 35,
     "metadata": {},
     "output_type": "execute_result"
    }
   ],
   "source": [
    "scaler = StandardScaler()\n",
    "x_train_scal = scaler.fit_transform(x_train[quant_columns])\n",
    "x_test_scal = scaler.transform(x_test[quant_columns])\n",
    "x_train_scal.shape, x_test_scal.shape"
   ]
  },
  {
   "cell_type": "markdown",
   "metadata": {},
   "source": [
    "**Вывод:**\n",
    "- Почищены выбросы в данных.\n",
    "- Удалили признаки лишние признаки\n",
    "- Пропуски находились только в категориальных признаках и были заполнены значением 'unknown'.\n",
    "- Разделены данные на Train/Test как 80/20\n",
    "- Признаки разделены на количественные (x_train_scal, x_test_scal) и категориальные(x_train_ohe, x_test_ohe)(x_train_ord, x_test_ord).\n",
    "- Количественные стандартизировали при помощи StandardScaler\n",
    "- Для категориальных признаков использовался OneHotEncoder и OrdinalEncoder"
   ]
  },
  {
   "cell_type": "markdown",
   "metadata": {},
   "source": [
    "<a id='section3'></a>\n",
    "## Обучение моделей"
   ]
  },
  {
   "cell_type": "markdown",
   "metadata": {},
   "source": [
    "Для обучения будем использовать следующие модели DummyRegressor, LinearRegression, CatBoostRegressor, LGBMRegressor"
   ]
  },
  {
   "cell_type": "markdown",
   "metadata": {},
   "source": [
    "<a id='section3.1'></a>\n",
    "### DummyRegressor"
   ]
  },
  {
   "cell_type": "code",
   "execution_count": 36,
   "metadata": {},
   "outputs": [
    {
     "name": "stdout",
     "output_type": "stream",
     "text": [
      "CPU times: user 3.01 ms, sys: 0 ns, total: 3.01 ms\n",
      "Wall time: 2.21 ms\n"
     ]
    },
    {
     "data": {
      "text/plain": [
       "DummyRegressor()"
      ]
     },
     "execution_count": 36,
     "metadata": {},
     "output_type": "execute_result"
    }
   ],
   "source": [
    "%%time\n",
    "DM = DummyRegressor()\n",
    "DM.fit(x_train, y_train)"
   ]
  },
  {
   "cell_type": "code",
   "execution_count": 55,
   "metadata": {},
   "outputs": [
    {
     "name": "stdout",
     "output_type": "stream",
     "text": [
      "RMSE:4557.46\n",
      "CPU times: user 5.63 ms, sys: 46 µs, total: 5.68 ms\n",
      "Wall time: 4.69 ms\n"
     ]
    }
   ],
   "source": [
    "%%time\n",
    "predict = DM.predict(x_train)\n",
    "DM_RMSE = mse(y_train, predict)\n",
    "print(f'RMSE:{DM_RMSE**0.5:.2f}')"
   ]
  },
  {
   "cell_type": "markdown",
   "metadata": {},
   "source": [
    "<a id='section3.2'></a>\n",
    "### LinearRegression"
   ]
  },
  {
   "cell_type": "markdown",
   "metadata": {},
   "source": [
    "Для LinearRegression лучше подойдут OneHot features"
   ]
  },
  {
   "cell_type": "code",
   "execution_count": 38,
   "metadata": {},
   "outputs": [],
   "source": [
    "x_train_scal_ohe = np.concatenate((x_train_ohe, x_train_scal), axis = -1)"
   ]
  },
  {
   "cell_type": "code",
   "execution_count": 39,
   "metadata": {},
   "outputs": [
    {
     "name": "stdout",
     "output_type": "stream",
     "text": [
      "CPU times: user 21.9 s, sys: 21.1 s, total: 43 s\n",
      "Wall time: 43.2 s\n"
     ]
    },
    {
     "data": {
      "text/plain": [
       "LinearRegression()"
      ]
     },
     "execution_count": 39,
     "metadata": {},
     "output_type": "execute_result"
    }
   ],
   "source": [
    "%%time\n",
    "LM = LinearRegression()\n",
    "LM.fit(x_train_scal_ohe, y_train)"
   ]
  },
  {
   "cell_type": "code",
   "execution_count": 53,
   "metadata": {},
   "outputs": [
    {
     "name": "stdout",
     "output_type": "stream",
     "text": [
      "RMSE:2885.51\n",
      "CPU times: user 172 ms, sys: 66.6 ms, total: 238 ms\n",
      "Wall time: 180 ms\n"
     ]
    }
   ],
   "source": [
    "%%time\n",
    "predict = LM.predict(x_train_scal_ohe)\n",
    "LM_RMSE = mean_squared_error(y_train, predict)\n",
    "print(f'RMSE:{LM_RMSE**0.5:.2f}')"
   ]
  },
  {
   "cell_type": "markdown",
   "metadata": {},
   "source": [
    "<a id='section3.3'></a>\n",
    "### CatBoostRegressor"
   ]
  },
  {
   "cell_type": "markdown",
   "metadata": {},
   "source": [
    "Для CatBoost и Lightgb понядобятся Ordinat features"
   ]
  },
  {
   "cell_type": "code",
   "execution_count": 41,
   "metadata": {},
   "outputs": [],
   "source": [
    "x_train_ord_scale = pd.concat((pd.DataFrame(x_train_ord, columns=cat_columns),\n",
    "                               pd.DataFrame(x_train_scal, columns=quant_columns)), axis=1)\n",
    "train_pool = Pool(data = x_train_ord_scale, cat_features = cat_columns)"
   ]
  },
  {
   "cell_type": "code",
   "execution_count": 42,
   "metadata": {},
   "outputs": [
    {
     "name": "stdout",
     "output_type": "stream",
     "text": [
      "CPU times: user 244 ms, sys: 7.65 ms, total: 252 ms\n",
      "Wall time: 257 ms\n"
     ]
    }
   ],
   "source": [
    "%%time\n",
    "train_pool = Pool(data = x_train_ord_scale, label = y_train, cat_features = cat_columns)\n",
    "params = {\"iterations\": 400,\n",
    "          \"learning_rate\": 1,\n",
    "          \"max_depth\": None,\n",
    "          \"loss_function\": \"RMSE\",\n",
    "          \"random_state\": RANDOM_STATE,\n",
    "          \"bootstrap_type\": None,\n",
    "          \"min_data_in_leaf\": 1,\n",
    "          \"boosting_type\": 'Plain',\n",
    "          \"verbose\": False}\n",
    "bootstrap_type = ['MVS', 'Bernoulli']\n",
    "max_depth = [2, 3, 4]        \n"
   ]
  },
  {
   "cell_type": "code",
   "execution_count": 43,
   "metadata": {
    "scrolled": true
   },
   "outputs": [
    {
     "name": "stdout",
     "output_type": "stream",
     "text": [
      "Training on fold [0/2]\n",
      "\n",
      "bestTest = 1770.012782\n",
      "bestIteration = 399\n",
      "\n",
      "Training on fold [1/2]\n",
      "\n",
      "bestTest = 1771.667855\n",
      "bestIteration = 399\n",
      "\n",
      "Training on fold [0/2]\n",
      "\n",
      "bestTest = 1729.011545\n",
      "bestIteration = 399\n",
      "\n",
      "Training on fold [1/2]\n",
      "\n",
      "bestTest = 1714.794212\n",
      "bestIteration = 399\n",
      "\n",
      "Training on fold [0/2]\n",
      "\n",
      "bestTest = 1705.972694\n",
      "bestIteration = 397\n",
      "\n",
      "Training on fold [1/2]\n",
      "\n",
      "bestTest = 1702.799707\n",
      "bestIteration = 399\n",
      "\n",
      "Training on fold [0/2]\n",
      "\n",
      "bestTest = 1787.025638\n",
      "bestIteration = 399\n",
      "\n",
      "Training on fold [1/2]\n",
      "\n",
      "bestTest = 1787.759485\n",
      "bestIteration = 395\n",
      "\n",
      "Training on fold [0/2]\n",
      "\n",
      "bestTest = 1742.641886\n",
      "bestIteration = 395\n",
      "\n",
      "Training on fold [1/2]\n",
      "\n",
      "bestTest = 1739.821412\n",
      "bestIteration = 392\n",
      "\n",
      "Training on fold [0/2]\n",
      "\n",
      "bestTest = 1718.704438\n",
      "bestIteration = 375\n",
      "\n",
      "Training on fold [1/2]\n",
      "\n",
      "bestTest = 1708.073615\n",
      "bestIteration = 399\n",
      "\n",
      "CPU times: user 6min, sys: 6.76 s, total: 6min 6s\n",
      "Wall time: 6min 19s\n"
     ]
    }
   ],
   "source": [
    "%%time\n",
    "best_score = 10000\n",
    "for trap_type in bootstrap_type:\n",
    "    params['bootstrap_type'] = trap_type\n",
    "    for m_depth in max_depth:\n",
    "        params['max_depth'] = m_depth\n",
    "        score = cv(pool = train_pool, params = params, fold_count = 2, plot = False).iloc[-1]['test-RMSE-mean']\n",
    "        if score < best_score:\n",
    "            best_score = score\n",
    "            best_param = (trap_type, m_depth)\n",
    "            \n",
    "boots_type = best_param[0]\n",
    "max_depth = best_param[1]\n",
    "CBR = CatBoostRegressor(iterations = 400, learning_rate = 1, max_depth = max_depth, bootstrap_type = boots_type,\n",
    "                       random_state=42, boosting_type = 'Plain', verbose = False)\n",
    "CBR_fit = CBR.fit(train_pool);"
   ]
  },
  {
   "cell_type": "code",
   "execution_count": 44,
   "metadata": {},
   "outputs": [
    {
     "name": "stdout",
     "output_type": "stream",
     "text": [
      "CatBoostRegressor RMSE: 1607.90\n",
      "CPU times: user 621 ms, sys: 0 ns, total: 621 ms\n",
      "Wall time: 619 ms\n"
     ]
    }
   ],
   "source": [
    "%%time\n",
    "predict = CBR.predict(train_pool)\n",
    "CBR_RMSE = mse(y_train, predict)\n",
    "print(f'CatBoostRegressor RMSE: {CBR_RMSE**0.5:.2f}')"
   ]
  },
  {
   "cell_type": "markdown",
   "metadata": {},
   "source": [
    "<a id='section3.4'></a>\n",
    "### LGBMRegressor"
   ]
  },
  {
   "cell_type": "code",
   "execution_count": 45,
   "metadata": {},
   "outputs": [
    {
     "name": "stdout",
     "output_type": "stream",
     "text": [
      "CPU times: user 22 µs, sys: 1 µs, total: 23 µs\n",
      "Wall time: 26 µs\n"
     ]
    }
   ],
   "source": [
    "%%time\n",
    "lgbm_train_data = lightgbm.Dataset(x_train_ord_scale, label = y_train, categorical_feature = cat_columns, free_raw_data = False)\n",
    "param = {'learning_rate': 1,\n",
    "         'metric': 'rmse',\n",
    "         'stratify': False,\n",
    "         'seed': 42,\n",
    "         'objective': 'regression',\n",
    "         'verbosity': -1,\n",
    "        }\n",
    "booster_method = ['gbdt', 'gross']\n",
    "max_depth = [2, 3, 4]"
   ]
  },
  {
   "cell_type": "code",
   "execution_count": 46,
   "metadata": {},
   "outputs": [
    {
     "name": "stdout",
     "output_type": "stream",
     "text": [
      "[LightGBM] [Warning] Unknown parameter: stratify\n",
      "CPU times: user 16min 55s, sys: 8.45 s, total: 17min 4s\n",
      "Wall time: 17min 11s\n"
     ]
    }
   ],
   "source": [
    "%%time\n",
    "best_score = 10000\n",
    "for boost in booster_method:\n",
    "    params['boosting'] = boost\n",
    "    for m_depth in max_depth:\n",
    "        params['max_depth'] = m_depth\n",
    "        score = lightgbm.cv(param, lgbm_train_data, nfold = 3, categorical_feature = cat_columns)\n",
    "        score = pd.DataFrame(score).iloc[-1]['rmse-mean']\n",
    "        if score < best_score:\n",
    "            best_score = score\n",
    "            best_param = (boost, m_depth)\n",
    "\n",
    "param['max_depth'] = best_param[1]\n",
    "param['boosting'] = best_param[0]\n",
    "LGBM = lightgbm.train(param, lgbm_train_data, categorical_feature=cat_columns, num_boost_round=400)"
   ]
  },
  {
   "cell_type": "code",
   "execution_count": 47,
   "metadata": {},
   "outputs": [
    {
     "name": "stdout",
     "output_type": "stream",
     "text": [
      "LGBMRegressor RMSE: 1659.51\n",
      "CPU times: user 3.81 s, sys: 0 ns, total: 3.81 s\n",
      "Wall time: 3.81 s\n"
     ]
    }
   ],
   "source": [
    "%%time\n",
    "predict = LGBM.predict(x_train_ord_scale)\n",
    "LGBM_RMSE = mse(y_train, predict)\n",
    "print(f'LGBMRegressor RMSE: {LGBM_RMSE**0.5:.2f}')"
   ]
  },
  {
   "cell_type": "markdown",
   "metadata": {},
   "source": [
    "**Вывод:**\n",
    "Обучены 4 модели которые имеют следующие результаты:\n",
    "- DummyRegressor: время обучения 2.21 ms и точность RMSE = 4557.46\n",
    "- LinearRegression: время обучения 43.2 s, точность RMSE = 2885.51\n",
    "- CatBoostRegressor: время обучения 6 min 19 s, и точность RMSE = 1607.90\n",
    "- LGBMRegressor: время обучения 17 min 11 s, и точность RMSE = 1659.51"
   ]
  },
  {
   "cell_type": "markdown",
   "metadata": {},
   "source": [
    "<a id='section4'></a>\n",
    "## Анализ моделей"
   ]
  },
  {
   "cell_type": "markdown",
   "metadata": {},
   "source": [
    "Выведем результаты обучения и предсказания моделей в общую таблицу для наглядного сравнения"
   ]
  },
  {
   "cell_type": "code",
   "execution_count": 61,
   "metadata": {},
   "outputs": [
    {
     "data": {
      "text/html": [
       "<div>\n",
       "<style scoped>\n",
       "    .dataframe tbody tr th:only-of-type {\n",
       "        vertical-align: middle;\n",
       "    }\n",
       "\n",
       "    .dataframe tbody tr th {\n",
       "        vertical-align: top;\n",
       "    }\n",
       "\n",
       "    .dataframe thead th {\n",
       "        text-align: right;\n",
       "    }\n",
       "</style>\n",
       "<table border=\"1\" class=\"dataframe\">\n",
       "  <thead>\n",
       "    <tr style=\"text-align: right;\">\n",
       "      <th></th>\n",
       "      <th>RMSE</th>\n",
       "      <th>Время обучения модели</th>\n",
       "      <th>Время предсказания модели</th>\n",
       "    </tr>\n",
       "  </thead>\n",
       "  <tbody>\n",
       "    <tr>\n",
       "      <th>DummyRegressor</th>\n",
       "      <td>4557.458142</td>\n",
       "      <td>2.21 ms</td>\n",
       "      <td>3.44 ms</td>\n",
       "    </tr>\n",
       "    <tr>\n",
       "      <th>LinearRegression</th>\n",
       "      <td>2885.508165</td>\n",
       "      <td>43.2 s</td>\n",
       "      <td>256 ms</td>\n",
       "    </tr>\n",
       "    <tr>\n",
       "      <th>CatBoostRegressor</th>\n",
       "      <td>1607.904581</td>\n",
       "      <td>6 min 19 s</td>\n",
       "      <td>619 ms</td>\n",
       "    </tr>\n",
       "    <tr>\n",
       "      <th>LGBMRegressor</th>\n",
       "      <td>1659.514324</td>\n",
       "      <td>17 min 11 s</td>\n",
       "      <td>3.81 s</td>\n",
       "    </tr>\n",
       "  </tbody>\n",
       "</table>\n",
       "</div>"
      ],
      "text/plain": [
       "                          RMSE Время обучения модели Время предсказания модели\n",
       "DummyRegressor     4557.458142               2.21 ms                   3.44 ms\n",
       "LinearRegression   2885.508165                43.2 s                    256 ms\n",
       "CatBoostRegressor  1607.904581            6 min 19 s                    619 ms\n",
       " LGBMRegressor     1659.514324           17 min 11 s                    3.81 s"
      ]
     },
     "execution_count": 61,
     "metadata": {},
     "output_type": "execute_result"
    }
   ],
   "source": [
    "index = ['DummyRegressor',\n",
    "         'LinearRegression',\n",
    "         'CatBoostRegressor',\n",
    "         ' LGBMRegressor']\n",
    "data = {'RMSE':[DM_RMSE**0.5,\n",
    "                LM_RMSE**0.5,\n",
    "                 CBR_RMSE**0.5,\n",
    "                  LGBM_RMSE**0.5],\n",
    "        'Время обучения модели':['2.21 ms',\n",
    "                                     '43.2 s',\n",
    "                                     '6 min 19 s',\n",
    "                                     '17 min 11 s'],\n",
    "        'Время предсказания модели':['3.44 ms',\n",
    "                                          '256 ms',\n",
    "                                          '619 ms',\n",
    "                                          '3.81 s']}\n",
    "\n",
    "scores_data = pd.DataFrame(data=data, index=index)\n",
    "\n",
    "scores_data"
   ]
  },
  {
   "cell_type": "markdown",
   "metadata": {},
   "source": [
    "**Вывод:**\n",
    "\n",
    "LGBMRegressor и CatBoostRegressor показали лучший RMSE. LGBMRegressor имеет значения RMSE = 1659.51 и время обучения 17 min 11 s, CatBoostRegressor имеет лучшие показатели, RMSE = 1607.90 и время обучения 6 min 19 s."
   ]
  },
  {
   "cell_type": "markdown",
   "metadata": {},
   "source": [
    "<a id='section4.1'></a>\n",
    "### Тестирование лучших моделей"
   ]
  },
  {
   "cell_type": "markdown",
   "metadata": {},
   "source": [
    "Протестируем лучшие модели на тестовой выборке"
   ]
  },
  {
   "cell_type": "code",
   "execution_count": 58,
   "metadata": {},
   "outputs": [],
   "source": [
    "x_test_ord_scale = pd.concat((pd.DataFrame(x_test_ord, columns = cat_columns),\n",
    "                               pd.DataFrame(x_test_scal, columns = quant_columns)), axis=1)\n",
    "test_pool = Pool(data = x_test_ord_scale, cat_features = cat_columns)"
   ]
  },
  {
   "cell_type": "code",
   "execution_count": 59,
   "metadata": {},
   "outputs": [
    {
     "name": "stdout",
     "output_type": "stream",
     "text": [
      "CatBoostRegressor RMSE: 1708.37\n",
      "CPU times: user 79.9 ms, sys: 153 µs, total: 80.1 ms\n",
      "Wall time: 78.9 ms\n"
     ]
    }
   ],
   "source": [
    "%%time\n",
    "predict = CBR.predict(test_pool)\n",
    "print(f'CatBoostRegressor RMSE: {mse(y_test, predict)**0.5:.2f}')"
   ]
  },
  {
   "cell_type": "code",
   "execution_count": 60,
   "metadata": {},
   "outputs": [
    {
     "name": "stdout",
     "output_type": "stream",
     "text": [
      "LGBMRegressor RMSE: 1751.41\n",
      "CPU times: user 438 ms, sys: 0 ns, total: 438 ms\n",
      "Wall time: 379 ms\n"
     ]
    }
   ],
   "source": [
    "%%time\n",
    "predict = LGBM.predict(x_test_ord_scale)\n",
    "print(f'LGBMRegressor RMSE: {mse(y_test, predict)**0.5:.2f}')"
   ]
  },
  {
   "cell_type": "markdown",
   "metadata": {},
   "source": [
    "**Вывод:**\n",
    "\n",
    "CatBoostRegressor показал так же лучший RMSE: 1722.02, и время расчета 78.9 ms в то время как LGBMRegressor показал RMSE 1751.41 и время - 379 ms."
   ]
  },
  {
   "cell_type": "markdown",
   "metadata": {},
   "source": [
    "<a id='section5'></a>\n",
    "## Общий вывод"
   ]
  },
  {
   "cell_type": "markdown",
   "metadata": {},
   "source": [
    "- Почищены выбросы. \n",
    "- Удалены признаки, которые не были необходимыми в обучении моделей.\n",
    "- Пропуски заполнены по возможности или заменены \"значением-заглушкой\".\n",
    "- Разделены данные на Train/Test как 80/20\n",
    "- Признаки разделены на количественные (x_train_scal, x_test_scal) и категориальные(x_train_ohe, x_test_ohe)(x_train_ord, x_test_ord).\n",
    "- Количественные стандартизировали при помощи StandardScaler\n",
    "- Для категориальных признаков использовался OneHotEncoder и OrdinalEncoder\n",
    "\n",
    "Обучены 4 модели:\n",
    "\n",
    "- DummyRegressor: время обучения 2.21 ms и точность RMSE = 4557.46\n",
    "- LinearRegression: время обучения 43.2 s, точность RMSE = 2885.51\n",
    "- CatBoostRegressor: время обучения 6 min 19 s, и точность RMSE = 1607.90\n",
    "- LGBMRegressor: время обучения 17 min 11 s, и точность RMSE = 1659.51\n",
    "\n",
    "LGBMRegressor и CatBoostRegressor показали лучший RMSE. Результат тестирования показал, что точность у моделей примерно одинакова. но CatBoostRegressor всё же лидирует, как по скорости обучения и предсказания, так и по значению RMSE.\n",
    "Окончательной моделью лучше выбрать CatBoostRegressor"
   ]
  }
 ],
 "metadata": {
  "ExecuteTimeLog": [
   {
    "duration": 1593,
    "start_time": "2022-08-26T22:15:10.914Z"
   },
   {
    "duration": 1125,
    "start_time": "2022-08-26T22:16:03.637Z"
   },
   {
    "duration": 271,
    "start_time": "2022-08-26T22:18:55.009Z"
   },
   {
    "duration": 632,
    "start_time": "2022-08-26T22:19:19.577Z"
   },
   {
    "duration": 47,
    "start_time": "2022-08-26T22:23:34.749Z"
   },
   {
    "duration": 16,
    "start_time": "2022-08-26T22:25:15.344Z"
   },
   {
    "duration": 13,
    "start_time": "2022-08-26T22:27:56.892Z"
   },
   {
    "duration": 1429,
    "start_time": "2022-08-26T22:28:23.028Z"
   },
   {
    "duration": 885,
    "start_time": "2022-08-26T22:28:24.459Z"
   },
   {
    "duration": 715,
    "start_time": "2022-08-26T22:28:25.346Z"
   },
   {
    "duration": 77,
    "start_time": "2022-08-26T22:28:26.063Z"
   },
   {
    "duration": 123,
    "start_time": "2022-08-26T22:29:14.327Z"
   },
   {
    "duration": 9,
    "start_time": "2022-08-26T22:29:33.416Z"
   },
   {
    "duration": 6,
    "start_time": "2022-08-26T22:29:43.304Z"
   },
   {
    "duration": 798,
    "start_time": "2022-08-26T22:29:44.104Z"
   },
   {
    "duration": 629,
    "start_time": "2022-08-26T22:29:45.880Z"
   },
   {
    "duration": 60,
    "start_time": "2022-08-26T22:29:47.512Z"
   },
   {
    "duration": 9,
    "start_time": "2022-08-26T22:29:48.700Z"
   },
   {
    "duration": 10,
    "start_time": "2022-08-26T22:33:14.807Z"
   },
   {
    "duration": 1394,
    "start_time": "2022-08-26T22:33:23.424Z"
   },
   {
    "duration": 832,
    "start_time": "2022-08-26T22:33:24.819Z"
   },
   {
    "duration": 735,
    "start_time": "2022-08-26T22:33:25.653Z"
   },
   {
    "duration": 67,
    "start_time": "2022-08-26T22:33:26.390Z"
   },
   {
    "duration": 123,
    "start_time": "2022-08-26T22:33:26.459Z"
   },
   {
    "duration": 0,
    "start_time": "2022-08-26T22:33:26.583Z"
   },
   {
    "duration": 10,
    "start_time": "2022-08-26T22:33:41.840Z"
   },
   {
    "duration": 10,
    "start_time": "2022-08-26T22:33:57.497Z"
   },
   {
    "duration": 1420,
    "start_time": "2022-08-26T22:35:44.492Z"
   },
   {
    "duration": 861,
    "start_time": "2022-08-26T22:35:45.915Z"
   },
   {
    "duration": 728,
    "start_time": "2022-08-26T22:35:47.072Z"
   },
   {
    "duration": 48,
    "start_time": "2022-08-26T22:44:22.343Z"
   },
   {
    "duration": 1414,
    "start_time": "2022-08-26T22:44:26.640Z"
   },
   {
    "duration": 838,
    "start_time": "2022-08-26T22:44:28.056Z"
   },
   {
    "duration": 794,
    "start_time": "2022-08-26T22:44:30.204Z"
   },
   {
    "duration": 1213,
    "start_time": "2022-08-26T22:49:05.932Z"
   },
   {
    "duration": 5,
    "start_time": "2022-08-26T23:06:42.530Z"
   },
   {
    "duration": 52,
    "start_time": "2022-08-26T23:07:31.754Z"
   },
   {
    "duration": 75,
    "start_time": "2022-08-26T23:08:21.875Z"
   },
   {
    "duration": 4,
    "start_time": "2022-08-26T23:08:28.394Z"
   },
   {
    "duration": 12,
    "start_time": "2022-08-26T23:08:38.942Z"
   },
   {
    "duration": 4,
    "start_time": "2022-08-26T23:14:19.755Z"
   },
   {
    "duration": 12,
    "start_time": "2022-08-26T23:14:20.202Z"
   },
   {
    "duration": 1379,
    "start_time": "2022-08-26T23:14:35.548Z"
   },
   {
    "duration": 869,
    "start_time": "2022-08-26T23:14:36.929Z"
   },
   {
    "duration": 1198,
    "start_time": "2022-08-26T23:14:37.799Z"
   },
   {
    "duration": 12,
    "start_time": "2022-08-26T23:14:38.999Z"
   },
   {
    "duration": 53,
    "start_time": "2022-08-26T23:14:39.013Z"
   },
   {
    "duration": 7,
    "start_time": "2022-08-26T23:14:39.068Z"
   },
   {
    "duration": 46,
    "start_time": "2022-08-26T23:14:39.076Z"
   },
   {
    "duration": 282,
    "start_time": "2022-08-26T23:22:16.115Z"
   },
   {
    "duration": 275,
    "start_time": "2022-08-26T23:22:44.155Z"
   },
   {
    "duration": 110,
    "start_time": "2022-08-26T23:23:24.432Z"
   },
   {
    "duration": 739,
    "start_time": "2022-08-26T23:23:34.628Z"
   },
   {
    "duration": 12,
    "start_time": "2022-08-26T23:23:42.039Z"
   },
   {
    "duration": 22,
    "start_time": "2022-08-26T23:25:54.031Z"
   },
   {
    "duration": 22,
    "start_time": "2022-08-26T23:26:29.451Z"
   },
   {
    "duration": 10,
    "start_time": "2022-08-26T23:31:36.671Z"
   },
   {
    "duration": 46,
    "start_time": "2022-08-26T23:31:40.815Z"
   },
   {
    "duration": 671,
    "start_time": "2022-08-26T23:32:34.903Z"
   },
   {
    "duration": 775,
    "start_time": "2022-08-26T23:32:41.279Z"
   },
   {
    "duration": 810,
    "start_time": "2022-08-26T23:32:46.050Z"
   },
   {
    "duration": 4,
    "start_time": "2022-08-26T23:33:05.615Z"
   },
   {
    "duration": 11,
    "start_time": "2022-08-26T23:33:06.803Z"
   },
   {
    "duration": 830,
    "start_time": "2022-08-26T23:33:12.131Z"
   },
   {
    "duration": 1435,
    "start_time": "2022-08-26T23:33:21.794Z"
   },
   {
    "duration": 823,
    "start_time": "2022-08-26T23:33:23.231Z"
   },
   {
    "duration": 1259,
    "start_time": "2022-08-26T23:33:24.056Z"
   },
   {
    "duration": 5,
    "start_time": "2022-08-26T23:33:25.317Z"
   },
   {
    "duration": 65,
    "start_time": "2022-08-26T23:33:25.324Z"
   },
   {
    "duration": 11,
    "start_time": "2022-08-26T23:33:25.390Z"
   },
   {
    "duration": 21,
    "start_time": "2022-08-26T23:33:25.410Z"
   },
   {
    "duration": 300,
    "start_time": "2022-08-26T23:33:25.433Z"
   },
   {
    "duration": 12,
    "start_time": "2022-08-26T23:33:25.735Z"
   },
   {
    "duration": 60,
    "start_time": "2022-08-26T23:33:25.749Z"
   },
   {
    "duration": 23,
    "start_time": "2022-08-26T23:33:25.811Z"
   },
   {
    "duration": 36,
    "start_time": "2022-08-26T23:33:25.836Z"
   },
   {
    "duration": 14,
    "start_time": "2022-08-26T23:33:25.874Z"
   },
   {
    "duration": 12,
    "start_time": "2022-08-26T23:34:00.715Z"
   },
   {
    "duration": 109,
    "start_time": "2022-08-26T23:36:24.630Z"
   },
   {
    "duration": 66,
    "start_time": "2022-08-26T23:36:28.766Z"
   },
   {
    "duration": 14,
    "start_time": "2022-08-26T23:39:04.486Z"
   },
   {
    "duration": 14,
    "start_time": "2022-08-26T23:39:23.774Z"
   },
   {
    "duration": 28,
    "start_time": "2022-08-26T23:41:32.594Z"
   },
   {
    "duration": 25,
    "start_time": "2022-08-26T23:46:00.333Z"
   },
   {
    "duration": 253,
    "start_time": "2022-08-26T23:48:13.105Z"
   },
   {
    "duration": 243,
    "start_time": "2022-08-26T23:48:13.845Z"
   },
   {
    "duration": 233,
    "start_time": "2022-08-26T23:48:14.489Z"
   },
   {
    "duration": 19,
    "start_time": "2022-08-26T23:49:32.877Z"
   },
   {
    "duration": 20,
    "start_time": "2022-08-26T23:49:35.985Z"
   },
   {
    "duration": 90,
    "start_time": "2022-08-26T23:49:50.189Z"
   },
   {
    "duration": 13,
    "start_time": "2022-08-26T23:50:57.765Z"
   },
   {
    "duration": 96,
    "start_time": "2022-08-26T23:57:34.853Z"
   },
   {
    "duration": 279,
    "start_time": "2022-08-26T23:57:40.280Z"
   },
   {
    "duration": 3,
    "start_time": "2022-08-26T23:59:51.312Z"
   },
   {
    "duration": 3,
    "start_time": "2022-08-27T00:00:57.585Z"
   },
   {
    "duration": 3,
    "start_time": "2022-08-27T00:03:00.192Z"
   },
   {
    "duration": 10,
    "start_time": "2022-08-27T00:03:00.599Z"
   },
   {
    "duration": 3,
    "start_time": "2022-08-27T00:03:38.049Z"
   },
   {
    "duration": 11,
    "start_time": "2022-08-27T00:03:38.404Z"
   },
   {
    "duration": 10,
    "start_time": "2022-08-27T00:03:39.031Z"
   },
   {
    "duration": 1048,
    "start_time": "2022-08-27T00:04:13.384Z"
   },
   {
    "duration": 0,
    "start_time": "2022-08-27T00:04:14.434Z"
   },
   {
    "duration": 10,
    "start_time": "2022-08-27T00:04:14.781Z"
   },
   {
    "duration": 1422,
    "start_time": "2022-08-27T00:04:28.719Z"
   },
   {
    "duration": 901,
    "start_time": "2022-08-27T00:04:30.144Z"
   },
   {
    "duration": 1234,
    "start_time": "2022-08-27T00:04:31.047Z"
   },
   {
    "duration": 5,
    "start_time": "2022-08-27T00:04:32.283Z"
   },
   {
    "duration": 59,
    "start_time": "2022-08-27T00:04:32.290Z"
   },
   {
    "duration": 4,
    "start_time": "2022-08-27T00:04:32.351Z"
   },
   {
    "duration": 16,
    "start_time": "2022-08-27T00:04:32.357Z"
   },
   {
    "duration": 313,
    "start_time": "2022-08-27T00:04:32.375Z"
   },
   {
    "duration": 18,
    "start_time": "2022-08-27T00:04:32.690Z"
   },
   {
    "duration": 37,
    "start_time": "2022-08-27T00:04:32.711Z"
   },
   {
    "duration": 24,
    "start_time": "2022-08-27T00:04:32.750Z"
   },
   {
    "duration": 64,
    "start_time": "2022-08-27T00:04:32.776Z"
   },
   {
    "duration": 15,
    "start_time": "2022-08-27T00:04:32.841Z"
   },
   {
    "duration": 100,
    "start_time": "2022-08-27T00:04:32.858Z"
   },
   {
    "duration": 13,
    "start_time": "2022-08-27T00:04:32.960Z"
   },
   {
    "duration": 39,
    "start_time": "2022-08-27T00:04:32.975Z"
   },
   {
    "duration": 29,
    "start_time": "2022-08-27T00:04:33.017Z"
   },
   {
    "duration": 25,
    "start_time": "2022-08-27T00:04:33.047Z"
   },
   {
    "duration": 287,
    "start_time": "2022-08-27T00:04:33.073Z"
   },
   {
    "duration": 263,
    "start_time": "2022-08-27T00:04:33.361Z"
   },
   {
    "duration": 258,
    "start_time": "2022-08-27T00:04:33.626Z"
   },
   {
    "duration": 27,
    "start_time": "2022-08-27T00:04:33.886Z"
   },
   {
    "duration": 12,
    "start_time": "2022-08-27T00:04:33.915Z"
   },
   {
    "duration": 109,
    "start_time": "2022-08-27T00:04:33.929Z"
   },
   {
    "duration": 278,
    "start_time": "2022-08-27T00:04:34.039Z"
   },
   {
    "duration": 4,
    "start_time": "2022-08-27T00:04:34.318Z"
   },
   {
    "duration": 155,
    "start_time": "2022-08-27T00:04:34.324Z"
   },
   {
    "duration": 0,
    "start_time": "2022-08-27T00:04:34.481Z"
   },
   {
    "duration": 0,
    "start_time": "2022-08-27T00:04:34.482Z"
   },
   {
    "duration": 0,
    "start_time": "2022-08-27T00:04:34.483Z"
   },
   {
    "duration": 18,
    "start_time": "2022-08-27T00:06:31.443Z"
   },
   {
    "duration": 32,
    "start_time": "2022-08-27T00:07:55.428Z"
   },
   {
    "duration": 17,
    "start_time": "2022-08-27T00:08:48.564Z"
   },
   {
    "duration": 1323,
    "start_time": "2022-08-27T00:09:59.811Z"
   },
   {
    "duration": 0,
    "start_time": "2022-08-27T00:10:01.137Z"
   },
   {
    "duration": 0,
    "start_time": "2022-08-27T00:10:01.139Z"
   },
   {
    "duration": 0,
    "start_time": "2022-08-27T00:10:01.140Z"
   },
   {
    "duration": 0,
    "start_time": "2022-08-27T00:10:01.142Z"
   },
   {
    "duration": 0,
    "start_time": "2022-08-27T00:10:01.143Z"
   },
   {
    "duration": 0,
    "start_time": "2022-08-27T00:10:01.144Z"
   },
   {
    "duration": 0,
    "start_time": "2022-08-27T00:10:01.145Z"
   },
   {
    "duration": 0,
    "start_time": "2022-08-27T00:10:01.146Z"
   },
   {
    "duration": 0,
    "start_time": "2022-08-27T00:10:01.148Z"
   },
   {
    "duration": 0,
    "start_time": "2022-08-27T00:10:01.149Z"
   },
   {
    "duration": 0,
    "start_time": "2022-08-27T00:10:01.150Z"
   },
   {
    "duration": 0,
    "start_time": "2022-08-27T00:10:01.151Z"
   },
   {
    "duration": 0,
    "start_time": "2022-08-27T00:10:01.152Z"
   },
   {
    "duration": 0,
    "start_time": "2022-08-27T00:10:01.153Z"
   },
   {
    "duration": 0,
    "start_time": "2022-08-27T00:10:01.154Z"
   },
   {
    "duration": 0,
    "start_time": "2022-08-27T00:10:01.155Z"
   },
   {
    "duration": 0,
    "start_time": "2022-08-27T00:10:01.156Z"
   },
   {
    "duration": 0,
    "start_time": "2022-08-27T00:10:01.157Z"
   },
   {
    "duration": 0,
    "start_time": "2022-08-27T00:10:01.158Z"
   },
   {
    "duration": 0,
    "start_time": "2022-08-27T00:10:01.159Z"
   },
   {
    "duration": 0,
    "start_time": "2022-08-27T00:10:01.160Z"
   },
   {
    "duration": 0,
    "start_time": "2022-08-27T00:10:01.161Z"
   },
   {
    "duration": 0,
    "start_time": "2022-08-27T00:10:01.162Z"
   },
   {
    "duration": 0,
    "start_time": "2022-08-27T00:10:01.209Z"
   },
   {
    "duration": 0,
    "start_time": "2022-08-27T00:10:01.210Z"
   },
   {
    "duration": 0,
    "start_time": "2022-08-27T00:10:01.211Z"
   },
   {
    "duration": 0,
    "start_time": "2022-08-27T00:10:01.212Z"
   },
   {
    "duration": 0,
    "start_time": "2022-08-27T00:10:01.213Z"
   },
   {
    "duration": 0,
    "start_time": "2022-08-27T00:10:01.214Z"
   },
   {
    "duration": 0,
    "start_time": "2022-08-27T00:10:01.215Z"
   },
   {
    "duration": 1434,
    "start_time": "2022-08-27T00:10:16.863Z"
   },
   {
    "duration": 850,
    "start_time": "2022-08-27T00:10:18.299Z"
   },
   {
    "duration": 1213,
    "start_time": "2022-08-27T00:10:19.151Z"
   },
   {
    "duration": 5,
    "start_time": "2022-08-27T00:10:20.367Z"
   },
   {
    "duration": 67,
    "start_time": "2022-08-27T00:10:20.373Z"
   },
   {
    "duration": 6,
    "start_time": "2022-08-27T00:10:20.442Z"
   },
   {
    "duration": 13,
    "start_time": "2022-08-27T00:10:20.450Z"
   },
   {
    "duration": 313,
    "start_time": "2022-08-27T00:10:20.465Z"
   },
   {
    "duration": 14,
    "start_time": "2022-08-27T00:10:20.780Z"
   },
   {
    "duration": 40,
    "start_time": "2022-08-27T00:10:20.810Z"
   },
   {
    "duration": 25,
    "start_time": "2022-08-27T00:10:20.851Z"
   },
   {
    "duration": 66,
    "start_time": "2022-08-27T00:10:20.878Z"
   },
   {
    "duration": 14,
    "start_time": "2022-08-27T00:10:20.946Z"
   },
   {
    "duration": 94,
    "start_time": "2022-08-27T00:10:20.962Z"
   },
   {
    "duration": 12,
    "start_time": "2022-08-27T00:10:21.058Z"
   },
   {
    "duration": 13,
    "start_time": "2022-08-27T00:10:21.072Z"
   },
   {
    "duration": 49,
    "start_time": "2022-08-27T00:10:21.087Z"
   },
   {
    "duration": 24,
    "start_time": "2022-08-27T00:10:21.138Z"
   },
   {
    "duration": 279,
    "start_time": "2022-08-27T00:10:21.163Z"
   },
   {
    "duration": 265,
    "start_time": "2022-08-27T00:10:21.444Z"
   },
   {
    "duration": 252,
    "start_time": "2022-08-27T00:10:21.711Z"
   },
   {
    "duration": 20,
    "start_time": "2022-08-27T00:10:21.965Z"
   },
   {
    "duration": 26,
    "start_time": "2022-08-27T00:10:21.986Z"
   },
   {
    "duration": 102,
    "start_time": "2022-08-27T00:10:22.013Z"
   },
   {
    "duration": 270,
    "start_time": "2022-08-27T00:10:22.117Z"
   },
   {
    "duration": 3,
    "start_time": "2022-08-27T00:10:22.389Z"
   },
   {
    "duration": 31,
    "start_time": "2022-08-27T00:10:22.393Z"
   },
   {
    "duration": 154,
    "start_time": "2022-08-27T00:10:22.427Z"
   },
   {
    "duration": 0,
    "start_time": "2022-08-27T00:10:22.583Z"
   },
   {
    "duration": 0,
    "start_time": "2022-08-27T00:10:22.584Z"
   },
   {
    "duration": 0,
    "start_time": "2022-08-27T00:10:22.585Z"
   },
   {
    "duration": 3,
    "start_time": "2022-08-27T00:13:05.824Z"
   },
   {
    "duration": 19,
    "start_time": "2022-08-27T00:13:06.862Z"
   },
   {
    "duration": 67,
    "start_time": "2022-08-27T00:13:07.691Z"
   },
   {
    "duration": 3,
    "start_time": "2022-08-27T00:15:20.615Z"
   },
   {
    "duration": 19,
    "start_time": "2022-08-27T00:15:21.090Z"
   },
   {
    "duration": 427,
    "start_time": "2022-08-27T00:15:22.055Z"
   },
   {
    "duration": 352,
    "start_time": "2022-08-27T00:15:23.199Z"
   },
   {
    "duration": 328,
    "start_time": "2022-08-27T00:15:23.947Z"
   },
   {
    "duration": 1549,
    "start_time": "2022-08-27T00:15:42.707Z"
   },
   {
    "duration": 1143,
    "start_time": "2022-08-27T00:15:44.258Z"
   },
   {
    "duration": 1206,
    "start_time": "2022-08-27T00:15:45.403Z"
   },
   {
    "duration": 5,
    "start_time": "2022-08-27T00:15:46.611Z"
   },
   {
    "duration": 55,
    "start_time": "2022-08-27T00:15:46.617Z"
   },
   {
    "duration": 7,
    "start_time": "2022-08-27T00:15:46.674Z"
   },
   {
    "duration": 32,
    "start_time": "2022-08-27T00:15:46.682Z"
   },
   {
    "duration": 284,
    "start_time": "2022-08-27T00:15:46.715Z"
   },
   {
    "duration": 11,
    "start_time": "2022-08-27T00:15:47.001Z"
   },
   {
    "duration": 36,
    "start_time": "2022-08-27T00:15:47.015Z"
   },
   {
    "duration": 22,
    "start_time": "2022-08-27T00:15:47.053Z"
   },
   {
    "duration": 68,
    "start_time": "2022-08-27T00:15:47.077Z"
   },
   {
    "duration": 15,
    "start_time": "2022-08-27T00:15:47.147Z"
   },
   {
    "duration": 99,
    "start_time": "2022-08-27T00:15:47.164Z"
   },
   {
    "duration": 13,
    "start_time": "2022-08-27T00:15:47.265Z"
   },
   {
    "duration": 36,
    "start_time": "2022-08-27T00:15:47.280Z"
   },
   {
    "duration": 26,
    "start_time": "2022-08-27T00:15:47.318Z"
   },
   {
    "duration": 23,
    "start_time": "2022-08-27T00:15:47.346Z"
   },
   {
    "duration": 277,
    "start_time": "2022-08-27T00:15:47.371Z"
   },
   {
    "duration": 263,
    "start_time": "2022-08-27T00:15:47.650Z"
   },
   {
    "duration": 245,
    "start_time": "2022-08-27T00:15:47.915Z"
   },
   {
    "duration": 18,
    "start_time": "2022-08-27T00:15:48.162Z"
   },
   {
    "duration": 27,
    "start_time": "2022-08-27T00:15:48.182Z"
   },
   {
    "duration": 101,
    "start_time": "2022-08-27T00:15:48.210Z"
   },
   {
    "duration": 252,
    "start_time": "2022-08-27T00:15:48.313Z"
   },
   {
    "duration": 3,
    "start_time": "2022-08-27T00:15:48.567Z"
   },
   {
    "duration": 22,
    "start_time": "2022-08-27T00:15:48.572Z"
   },
   {
    "duration": 429,
    "start_time": "2022-08-27T00:15:48.608Z"
   },
   {
    "duration": 359,
    "start_time": "2022-08-27T00:15:49.039Z"
   },
   {
    "duration": 356,
    "start_time": "2022-08-27T00:15:49.401Z"
   },
   {
    "duration": 1457,
    "start_time": "2022-08-27T00:18:02.862Z"
   },
   {
    "duration": 1316,
    "start_time": "2022-08-27T00:18:04.321Z"
   },
   {
    "duration": 1262,
    "start_time": "2022-08-27T00:18:05.639Z"
   },
   {
    "duration": 8,
    "start_time": "2022-08-27T00:18:06.903Z"
   },
   {
    "duration": 67,
    "start_time": "2022-08-27T00:18:06.912Z"
   },
   {
    "duration": 15,
    "start_time": "2022-08-27T00:18:06.981Z"
   },
   {
    "duration": 28,
    "start_time": "2022-08-27T00:18:06.997Z"
   },
   {
    "duration": 406,
    "start_time": "2022-08-27T00:18:07.027Z"
   },
   {
    "duration": 12,
    "start_time": "2022-08-27T00:18:07.435Z"
   },
   {
    "duration": 61,
    "start_time": "2022-08-27T00:18:07.451Z"
   },
   {
    "duration": 25,
    "start_time": "2022-08-27T00:18:07.514Z"
   },
   {
    "duration": 37,
    "start_time": "2022-08-27T00:18:07.541Z"
   },
   {
    "duration": 40,
    "start_time": "2022-08-27T00:18:07.580Z"
   },
   {
    "duration": 87,
    "start_time": "2022-08-27T00:18:07.622Z"
   },
   {
    "duration": 12,
    "start_time": "2022-08-27T00:18:07.711Z"
   },
   {
    "duration": 15,
    "start_time": "2022-08-27T00:18:07.725Z"
   },
   {
    "duration": 29,
    "start_time": "2022-08-27T00:18:07.741Z"
   },
   {
    "duration": 25,
    "start_time": "2022-08-27T00:18:07.810Z"
   },
   {
    "duration": 260,
    "start_time": "2022-08-27T00:18:07.837Z"
   },
   {
    "duration": 289,
    "start_time": "2022-08-27T00:18:08.099Z"
   },
   {
    "duration": 251,
    "start_time": "2022-08-27T00:18:08.390Z"
   },
   {
    "duration": 20,
    "start_time": "2022-08-27T00:18:08.642Z"
   },
   {
    "duration": 13,
    "start_time": "2022-08-27T00:18:08.664Z"
   },
   {
    "duration": 115,
    "start_time": "2022-08-27T00:18:08.679Z"
   },
   {
    "duration": 276,
    "start_time": "2022-08-27T00:18:08.796Z"
   },
   {
    "duration": 3,
    "start_time": "2022-08-27T00:18:09.074Z"
   },
   {
    "duration": 86,
    "start_time": "2022-08-27T00:18:09.079Z"
   },
   {
    "duration": 68,
    "start_time": "2022-08-27T00:18:09.168Z"
   },
   {
    "duration": 45,
    "start_time": "2022-08-27T00:18:09.238Z"
   },
   {
    "duration": 55,
    "start_time": "2022-08-27T00:18:09.284Z"
   },
   {
    "duration": 1396,
    "start_time": "2022-08-27T00:20:53.603Z"
   },
   {
    "duration": 842,
    "start_time": "2022-08-27T00:20:55.001Z"
   },
   {
    "duration": 1254,
    "start_time": "2022-08-27T00:20:55.845Z"
   },
   {
    "duration": 5,
    "start_time": "2022-08-27T00:20:57.108Z"
   },
   {
    "duration": 62,
    "start_time": "2022-08-27T00:20:57.115Z"
   },
   {
    "duration": 6,
    "start_time": "2022-08-27T00:20:57.179Z"
   },
   {
    "duration": 35,
    "start_time": "2022-08-27T00:20:57.188Z"
   },
   {
    "duration": 311,
    "start_time": "2022-08-27T00:20:57.225Z"
   },
   {
    "duration": 13,
    "start_time": "2022-08-27T00:20:57.538Z"
   },
   {
    "duration": 38,
    "start_time": "2022-08-27T00:20:57.823Z"
   },
   {
    "duration": 24,
    "start_time": "2022-08-27T00:20:58.262Z"
   },
   {
    "duration": 37,
    "start_time": "2022-08-27T00:20:59.199Z"
   },
   {
    "duration": 14,
    "start_time": "2022-08-27T00:21:00.194Z"
   },
   {
    "duration": 65,
    "start_time": "2022-08-27T00:21:01.299Z"
   },
   {
    "duration": 12,
    "start_time": "2022-08-27T00:21:01.847Z"
   },
   {
    "duration": 19,
    "start_time": "2022-08-27T00:21:02.086Z"
   },
   {
    "duration": 29,
    "start_time": "2022-08-27T00:21:05.319Z"
   },
   {
    "duration": 25,
    "start_time": "2022-08-27T00:21:06.247Z"
   },
   {
    "duration": 253,
    "start_time": "2022-08-27T00:21:07.494Z"
   },
   {
    "duration": 258,
    "start_time": "2022-08-27T00:21:12.163Z"
   },
   {
    "duration": 246,
    "start_time": "2022-08-27T00:21:12.423Z"
   },
   {
    "duration": 19,
    "start_time": "2022-08-27T00:21:13.275Z"
   },
   {
    "duration": 880,
    "start_time": "2022-08-27T00:21:14.695Z"
   },
   {
    "duration": 717,
    "start_time": "2022-08-27T00:21:22.859Z"
   },
   {
    "duration": 24,
    "start_time": "2022-08-27T00:21:29.979Z"
   },
   {
    "duration": 11,
    "start_time": "2022-08-27T00:23:32.414Z"
   },
   {
    "duration": 58,
    "start_time": "2022-08-27T00:23:36.622Z"
   },
   {
    "duration": 18,
    "start_time": "2022-08-27T00:23:51.782Z"
   },
   {
    "duration": 81,
    "start_time": "2022-08-27T00:25:11.514Z"
   },
   {
    "duration": 30,
    "start_time": "2022-08-27T00:25:26.240Z"
   },
   {
    "duration": 13,
    "start_time": "2022-08-27T00:25:29.926Z"
   },
   {
    "duration": 76,
    "start_time": "2022-08-27T00:25:36.530Z"
   },
   {
    "duration": 235,
    "start_time": "2022-08-27T00:25:38.942Z"
   },
   {
    "duration": 3,
    "start_time": "2022-08-27T00:25:40.138Z"
   },
   {
    "duration": 81,
    "start_time": "2022-08-27T00:25:40.574Z"
   },
   {
    "duration": 59,
    "start_time": "2022-08-27T00:25:40.986Z"
   },
   {
    "duration": 47,
    "start_time": "2022-08-27T00:25:41.398Z"
   },
   {
    "duration": 48,
    "start_time": "2022-08-27T00:25:41.794Z"
   },
   {
    "duration": 1668,
    "start_time": "2022-08-27T23:12:33.578Z"
   },
   {
    "duration": 2722,
    "start_time": "2022-08-27T23:12:35.248Z"
   },
   {
    "duration": 1021,
    "start_time": "2022-08-27T23:12:37.972Z"
   },
   {
    "duration": 5,
    "start_time": "2022-08-27T23:12:38.994Z"
   },
   {
    "duration": 56,
    "start_time": "2022-08-27T23:12:39.000Z"
   },
   {
    "duration": 5,
    "start_time": "2022-08-27T23:12:39.058Z"
   },
   {
    "duration": 12,
    "start_time": "2022-08-27T23:12:39.064Z"
   },
   {
    "duration": 241,
    "start_time": "2022-08-27T23:12:39.078Z"
   },
   {
    "duration": 10,
    "start_time": "2022-08-27T23:12:39.320Z"
   },
   {
    "duration": 32,
    "start_time": "2022-08-27T23:12:39.333Z"
   },
   {
    "duration": 18,
    "start_time": "2022-08-27T23:12:39.366Z"
   },
   {
    "duration": 48,
    "start_time": "2022-08-27T23:12:39.386Z"
   },
   {
    "duration": 11,
    "start_time": "2022-08-27T23:12:39.436Z"
   },
   {
    "duration": 71,
    "start_time": "2022-08-27T23:12:39.448Z"
   },
   {
    "duration": 10,
    "start_time": "2022-08-27T23:12:39.520Z"
   },
   {
    "duration": 13,
    "start_time": "2022-08-27T23:12:39.532Z"
   },
   {
    "duration": 24,
    "start_time": "2022-08-27T23:12:39.546Z"
   },
   {
    "duration": 40,
    "start_time": "2022-08-27T23:12:39.572Z"
   },
   {
    "duration": 246,
    "start_time": "2022-08-27T23:12:39.614Z"
   },
   {
    "duration": 218,
    "start_time": "2022-08-27T23:12:39.861Z"
   },
   {
    "duration": 223,
    "start_time": "2022-08-27T23:12:40.081Z"
   },
   {
    "duration": 16,
    "start_time": "2022-08-27T23:12:40.306Z"
   },
   {
    "duration": 51,
    "start_time": "2022-08-27T23:12:40.324Z"
   },
   {
    "duration": 86,
    "start_time": "2022-08-27T23:12:40.376Z"
   },
   {
    "duration": 27,
    "start_time": "2022-08-27T23:12:40.463Z"
   },
   {
    "duration": 23,
    "start_time": "2022-08-27T23:12:40.492Z"
   },
   {
    "duration": 65,
    "start_time": "2022-08-27T23:12:40.516Z"
   },
   {
    "duration": 222,
    "start_time": "2022-08-27T23:12:40.584Z"
   },
   {
    "duration": 3,
    "start_time": "2022-08-27T23:12:40.807Z"
   },
   {
    "duration": 68,
    "start_time": "2022-08-27T23:12:40.812Z"
   },
   {
    "duration": 65,
    "start_time": "2022-08-27T23:12:40.882Z"
   },
   {
    "duration": 44,
    "start_time": "2022-08-27T23:12:40.949Z"
   },
   {
    "duration": 43,
    "start_time": "2022-08-27T23:12:41.005Z"
   },
   {
    "duration": 42,
    "start_time": "2022-08-27T23:16:33.454Z"
   },
   {
    "duration": 377,
    "start_time": "2022-08-27T23:17:17.149Z"
   },
   {
    "duration": 109,
    "start_time": "2022-08-27T23:29:14.393Z"
   },
   {
    "duration": 95,
    "start_time": "2022-08-27T23:29:25.489Z"
   },
   {
    "duration": 3,
    "start_time": "2022-08-27T23:32:06.525Z"
   },
   {
    "duration": 103,
    "start_time": "2022-08-27T23:34:09.740Z"
   },
   {
    "duration": 1263,
    "start_time": "2022-08-27T23:34:35.968Z"
   },
   {
    "duration": 1128,
    "start_time": "2022-08-27T23:36:53.868Z"
   },
   {
    "duration": 124,
    "start_time": "2022-08-27T23:40:12.252Z"
   },
   {
    "duration": 12,
    "start_time": "2022-08-27T23:40:36.180Z"
   },
   {
    "duration": 9,
    "start_time": "2022-08-28T00:06:47.625Z"
   },
   {
    "duration": 16,
    "start_time": "2022-08-28T00:07:21.225Z"
   },
   {
    "duration": 55,
    "start_time": "2022-08-28T00:08:44.068Z"
   },
   {
    "duration": 11,
    "start_time": "2022-08-28T00:26:04.335Z"
   },
   {
    "duration": 48,
    "start_time": "2022-08-28T00:26:12.455Z"
   },
   {
    "duration": 64,
    "start_time": "2022-08-28T00:26:21.371Z"
   },
   {
    "duration": 9,
    "start_time": "2022-08-28T00:26:34.083Z"
   },
   {
    "duration": 11,
    "start_time": "2022-08-28T00:27:46.099Z"
   },
   {
    "duration": 5,
    "start_time": "2022-08-28T00:28:06.899Z"
   },
   {
    "duration": 51,
    "start_time": "2022-08-28T00:28:58.082Z"
   },
   {
    "duration": 52,
    "start_time": "2022-08-28T00:29:16.542Z"
   },
   {
    "duration": 49,
    "start_time": "2022-08-28T00:29:43.166Z"
   },
   {
    "duration": 141,
    "start_time": "2022-08-28T00:34:59.842Z"
   },
   {
    "duration": 107,
    "start_time": "2022-08-28T00:37:47.653Z"
   },
   {
    "duration": 10,
    "start_time": "2022-08-28T00:43:12.420Z"
   },
   {
    "duration": 49,
    "start_time": "2022-08-28T00:43:19.889Z"
   },
   {
    "duration": 12,
    "start_time": "2022-08-28T00:44:29.096Z"
   },
   {
    "duration": 5,
    "start_time": "2022-08-28T00:48:23.388Z"
   },
   {
    "duration": 9,
    "start_time": "2022-08-28T00:49:03.527Z"
   },
   {
    "duration": 4,
    "start_time": "2022-08-28T00:56:03.343Z"
   },
   {
    "duration": 4,
    "start_time": "2022-08-28T00:59:44.183Z"
   },
   {
    "duration": 9,
    "start_time": "2022-08-28T01:08:19.641Z"
   },
   {
    "duration": 3,
    "start_time": "2022-08-28T01:08:35.542Z"
   },
   {
    "duration": 1371,
    "start_time": "2022-08-28T01:10:19.875Z"
   },
   {
    "duration": 708,
    "start_time": "2022-08-28T01:10:21.248Z"
   },
   {
    "duration": 995,
    "start_time": "2022-08-28T01:10:21.957Z"
   },
   {
    "duration": 4,
    "start_time": "2022-08-28T01:10:22.953Z"
   },
   {
    "duration": 59,
    "start_time": "2022-08-28T01:10:22.959Z"
   },
   {
    "duration": 3,
    "start_time": "2022-08-28T01:10:23.020Z"
   },
   {
    "duration": 16,
    "start_time": "2022-08-28T01:10:23.024Z"
   },
   {
    "duration": 251,
    "start_time": "2022-08-28T01:10:23.041Z"
   },
   {
    "duration": 17,
    "start_time": "2022-08-28T01:10:23.293Z"
   },
   {
    "duration": 32,
    "start_time": "2022-08-28T01:10:23.311Z"
   },
   {
    "duration": 19,
    "start_time": "2022-08-28T01:10:23.344Z"
   },
   {
    "duration": 54,
    "start_time": "2022-08-28T01:10:23.365Z"
   },
   {
    "duration": 12,
    "start_time": "2022-08-28T01:10:23.421Z"
   },
   {
    "duration": 78,
    "start_time": "2022-08-28T01:10:23.437Z"
   },
   {
    "duration": 11,
    "start_time": "2022-08-28T01:10:23.516Z"
   },
   {
    "duration": 12,
    "start_time": "2022-08-28T01:10:23.528Z"
   },
   {
    "duration": 31,
    "start_time": "2022-08-28T01:10:23.541Z"
   },
   {
    "duration": 37,
    "start_time": "2022-08-28T01:10:23.574Z"
   },
   {
    "duration": 224,
    "start_time": "2022-08-28T01:10:23.613Z"
   },
   {
    "duration": 217,
    "start_time": "2022-08-28T01:10:23.838Z"
   },
   {
    "duration": 217,
    "start_time": "2022-08-28T01:10:24.057Z"
   },
   {
    "duration": 15,
    "start_time": "2022-08-28T01:10:24.276Z"
   },
   {
    "duration": 54,
    "start_time": "2022-08-28T01:10:24.292Z"
   },
   {
    "duration": 78,
    "start_time": "2022-08-28T01:10:24.348Z"
   },
   {
    "duration": 27,
    "start_time": "2022-08-28T01:10:24.427Z"
   },
   {
    "duration": 11,
    "start_time": "2022-08-28T01:10:24.455Z"
   },
   {
    "duration": 77,
    "start_time": "2022-08-28T01:10:24.468Z"
   },
   {
    "duration": 214,
    "start_time": "2022-08-28T01:10:24.547Z"
   },
   {
    "duration": 3,
    "start_time": "2022-08-28T01:10:24.763Z"
   },
   {
    "duration": 77,
    "start_time": "2022-08-28T01:10:24.767Z"
   },
   {
    "duration": 61,
    "start_time": "2022-08-28T01:10:24.845Z"
   },
   {
    "duration": 44,
    "start_time": "2022-08-28T01:10:24.907Z"
   },
   {
    "duration": 65,
    "start_time": "2022-08-28T01:10:24.953Z"
   },
   {
    "duration": 114,
    "start_time": "2022-08-28T01:10:25.020Z"
   },
   {
    "duration": 1117,
    "start_time": "2022-08-28T01:10:25.135Z"
   },
   {
    "duration": 134,
    "start_time": "2022-08-28T01:10:26.254Z"
   },
   {
    "duration": 19,
    "start_time": "2022-08-28T01:10:26.389Z"
   },
   {
    "duration": 49,
    "start_time": "2022-08-28T01:10:26.410Z"
   },
   {
    "duration": 161,
    "start_time": "2022-08-28T01:10:26.461Z"
   },
   {
    "duration": 4,
    "start_time": "2022-08-28T01:10:26.624Z"
   },
   {
    "duration": 101,
    "start_time": "2022-08-28T01:10:26.631Z"
   },
   {
    "duration": 0,
    "start_time": "2022-08-28T01:10:26.734Z"
   },
   {
    "duration": 3,
    "start_time": "2022-08-28T01:11:37.991Z"
   },
   {
    "duration": 2,
    "start_time": "2022-08-28T01:11:38.676Z"
   },
   {
    "duration": 19664,
    "start_time": "2022-08-28T01:11:40.975Z"
   },
   {
    "duration": 3,
    "start_time": "2022-08-28T01:12:22.983Z"
   },
   {
    "duration": 8,
    "start_time": "2022-08-28T01:12:36.735Z"
   },
   {
    "duration": 9,
    "start_time": "2022-08-28T01:12:55.374Z"
   },
   {
    "duration": 5935,
    "start_time": "2022-08-28T01:15:01.351Z"
   },
   {
    "duration": 12,
    "start_time": "2022-08-28T01:15:12.267Z"
   },
   {
    "duration": 10,
    "start_time": "2022-08-28T01:16:19.782Z"
   },
   {
    "duration": 97,
    "start_time": "2022-08-28T01:20:54.990Z"
   },
   {
    "duration": 22,
    "start_time": "2022-08-28T01:21:16.742Z"
   },
   {
    "duration": 2101,
    "start_time": "2022-08-28T01:21:17.510Z"
   },
   {
    "duration": 1925,
    "start_time": "2022-08-28T01:22:15.782Z"
   },
   {
    "duration": 2010,
    "start_time": "2022-08-28T01:24:54.998Z"
   },
   {
    "duration": 1331,
    "start_time": "2022-08-28T01:30:04.639Z"
   },
   {
    "duration": 744,
    "start_time": "2022-08-28T01:30:05.972Z"
   },
   {
    "duration": 998,
    "start_time": "2022-08-28T01:30:06.717Z"
   },
   {
    "duration": 4,
    "start_time": "2022-08-28T01:30:07.717Z"
   },
   {
    "duration": 54,
    "start_time": "2022-08-28T01:30:07.724Z"
   },
   {
    "duration": 3,
    "start_time": "2022-08-28T01:30:07.780Z"
   },
   {
    "duration": 27,
    "start_time": "2022-08-28T01:30:07.784Z"
   },
   {
    "duration": 251,
    "start_time": "2022-08-28T01:30:07.812Z"
   },
   {
    "duration": 11,
    "start_time": "2022-08-28T01:30:08.064Z"
   },
   {
    "duration": 47,
    "start_time": "2022-08-28T01:30:08.076Z"
   },
   {
    "duration": 19,
    "start_time": "2022-08-28T01:30:08.124Z"
   },
   {
    "duration": 32,
    "start_time": "2022-08-28T01:30:08.144Z"
   },
   {
    "duration": 30,
    "start_time": "2022-08-28T01:30:08.177Z"
   },
   {
    "duration": 60,
    "start_time": "2022-08-28T01:30:08.209Z"
   },
   {
    "duration": 38,
    "start_time": "2022-08-28T01:30:08.270Z"
   },
   {
    "duration": 12,
    "start_time": "2022-08-28T01:30:08.309Z"
   },
   {
    "duration": 28,
    "start_time": "2022-08-28T01:30:08.322Z"
   },
   {
    "duration": 19,
    "start_time": "2022-08-28T01:30:08.352Z"
   },
   {
    "duration": 254,
    "start_time": "2022-08-28T01:30:08.373Z"
   },
   {
    "duration": 223,
    "start_time": "2022-08-28T01:30:08.629Z"
   },
   {
    "duration": 233,
    "start_time": "2022-08-28T01:30:08.854Z"
   },
   {
    "duration": 20,
    "start_time": "2022-08-28T01:30:09.089Z"
   },
   {
    "duration": 49,
    "start_time": "2022-08-28T01:30:09.111Z"
   },
   {
    "duration": 98,
    "start_time": "2022-08-28T01:30:09.162Z"
   },
   {
    "duration": 28,
    "start_time": "2022-08-28T01:30:09.262Z"
   },
   {
    "duration": 23,
    "start_time": "2022-08-28T01:30:09.292Z"
   },
   {
    "duration": 65,
    "start_time": "2022-08-28T01:30:09.317Z"
   },
   {
    "duration": 229,
    "start_time": "2022-08-28T01:30:09.384Z"
   },
   {
    "duration": 3,
    "start_time": "2022-08-28T01:30:09.614Z"
   },
   {
    "duration": 87,
    "start_time": "2022-08-28T01:30:09.619Z"
   },
   {
    "duration": 55,
    "start_time": "2022-08-28T01:30:09.708Z"
   },
   {
    "duration": 61,
    "start_time": "2022-08-28T01:30:09.765Z"
   },
   {
    "duration": 51,
    "start_time": "2022-08-28T01:30:09.828Z"
   },
   {
    "duration": 125,
    "start_time": "2022-08-28T01:30:09.881Z"
   },
   {
    "duration": 1168,
    "start_time": "2022-08-28T01:30:10.008Z"
   },
   {
    "duration": 145,
    "start_time": "2022-08-28T01:30:11.178Z"
   },
   {
    "duration": 13,
    "start_time": "2022-08-28T01:30:11.324Z"
   },
   {
    "duration": 49,
    "start_time": "2022-08-28T01:30:11.339Z"
   },
   {
    "duration": 172,
    "start_time": "2022-08-28T01:30:11.389Z"
   },
   {
    "duration": 6,
    "start_time": "2022-08-28T01:30:11.562Z"
   },
   {
    "duration": 3,
    "start_time": "2022-08-28T01:30:11.572Z"
   },
   {
    "duration": 5,
    "start_time": "2022-08-28T01:30:11.577Z"
   },
   {
    "duration": 23,
    "start_time": "2022-08-28T01:30:11.583Z"
   },
   {
    "duration": 191567,
    "start_time": "2022-08-28T01:30:11.608Z"
   },
   {
    "duration": 10,
    "start_time": "2022-08-28T01:34:17.751Z"
   },
   {
    "duration": 48019,
    "start_time": "2022-08-28T01:35:51.199Z"
   },
   {
    "duration": 191,
    "start_time": "2022-08-28T01:36:39.220Z"
   },
   {
    "duration": 3,
    "start_time": "2022-08-28T01:37:19.359Z"
   },
   {
    "duration": 2,
    "start_time": "2022-08-28T01:37:22.391Z"
   },
   {
    "duration": 3,
    "start_time": "2022-08-28T01:37:41.515Z"
   },
   {
    "duration": 2,
    "start_time": "2022-08-28T01:37:43.691Z"
   },
   {
    "duration": 13002,
    "start_time": "2022-08-28T01:37:44.411Z"
   },
   {
    "duration": 1937,
    "start_time": "2022-08-28T01:40:58.831Z"
   },
   {
    "duration": 1874,
    "start_time": "2022-08-28T01:41:00.770Z"
   },
   {
    "duration": 801,
    "start_time": "2022-08-28T01:41:02.647Z"
   },
   {
    "duration": 1042,
    "start_time": "2022-08-28T01:41:03.450Z"
   },
   {
    "duration": 13,
    "start_time": "2022-08-28T01:41:04.494Z"
   },
   {
    "duration": 46,
    "start_time": "2022-08-28T01:41:04.509Z"
   },
   {
    "duration": 4,
    "start_time": "2022-08-28T01:41:04.557Z"
   },
   {
    "duration": 13,
    "start_time": "2022-08-28T01:41:04.563Z"
   },
   {
    "duration": 242,
    "start_time": "2022-08-28T01:41:04.578Z"
   },
   {
    "duration": 11,
    "start_time": "2022-08-28T01:41:04.821Z"
   },
   {
    "duration": 31,
    "start_time": "2022-08-28T01:41:04.833Z"
   },
   {
    "duration": 44,
    "start_time": "2022-08-28T01:41:04.866Z"
   },
   {
    "duration": 34,
    "start_time": "2022-08-28T01:41:04.912Z"
   },
   {
    "duration": 12,
    "start_time": "2022-08-28T01:41:04.949Z"
   },
   {
    "duration": 91,
    "start_time": "2022-08-28T01:41:04.963Z"
   },
   {
    "duration": 11,
    "start_time": "2022-08-28T01:41:05.056Z"
   },
   {
    "duration": 11,
    "start_time": "2022-08-28T01:41:05.068Z"
   },
   {
    "duration": 46,
    "start_time": "2022-08-28T01:41:05.081Z"
   },
   {
    "duration": 20,
    "start_time": "2022-08-28T01:41:05.128Z"
   },
   {
    "duration": 217,
    "start_time": "2022-08-28T01:41:05.150Z"
   },
   {
    "duration": 203,
    "start_time": "2022-08-28T01:41:05.369Z"
   },
   {
    "duration": 201,
    "start_time": "2022-08-28T01:41:05.573Z"
   },
   {
    "duration": 30,
    "start_time": "2022-08-28T01:41:05.776Z"
   },
   {
    "duration": 33,
    "start_time": "2022-08-28T01:41:05.807Z"
   },
   {
    "duration": 79,
    "start_time": "2022-08-28T01:41:05.842Z"
   },
   {
    "duration": 55,
    "start_time": "2022-08-28T01:41:05.922Z"
   },
   {
    "duration": 10,
    "start_time": "2022-08-28T01:41:05.979Z"
   },
   {
    "duration": 216,
    "start_time": "2022-08-28T01:41:05.991Z"
   },
   {
    "duration": 272,
    "start_time": "2022-08-28T01:41:06.209Z"
   },
   {
    "duration": 3,
    "start_time": "2022-08-28T01:41:06.483Z"
   },
   {
    "duration": 94,
    "start_time": "2022-08-28T01:41:06.488Z"
   },
   {
    "duration": 56,
    "start_time": "2022-08-28T01:41:06.584Z"
   },
   {
    "duration": 47,
    "start_time": "2022-08-28T01:41:06.642Z"
   },
   {
    "duration": 56,
    "start_time": "2022-08-28T01:41:06.691Z"
   },
   {
    "duration": 136,
    "start_time": "2022-08-28T01:41:06.749Z"
   },
   {
    "duration": 828,
    "start_time": "2022-08-28T01:41:06.887Z"
   },
   {
    "duration": 151,
    "start_time": "2022-08-28T01:41:07.716Z"
   },
   {
    "duration": 11,
    "start_time": "2022-08-28T01:41:07.869Z"
   },
   {
    "duration": 80,
    "start_time": "2022-08-28T01:41:07.882Z"
   },
   {
    "duration": 116,
    "start_time": "2022-08-28T01:41:07.964Z"
   },
   {
    "duration": 169,
    "start_time": "2022-08-28T01:41:08.083Z"
   },
   {
    "duration": 2,
    "start_time": "2022-08-28T01:41:08.254Z"
   },
   {
    "duration": 8,
    "start_time": "2022-08-28T01:41:08.258Z"
   },
   {
    "duration": 5,
    "start_time": "2022-08-28T01:41:08.268Z"
   },
   {
    "duration": 5,
    "start_time": "2022-08-28T01:41:08.275Z"
   },
   {
    "duration": 193809,
    "start_time": "2022-08-28T01:41:08.281Z"
   },
   {
    "duration": 45,
    "start_time": "2022-08-28T01:44:34.539Z"
   },
   {
    "duration": 16,
    "start_time": "2022-08-28T01:44:40.763Z"
   },
   {
    "duration": 96812,
    "start_time": "2022-08-28T01:47:08.019Z"
   },
   {
    "duration": 9,
    "start_time": "2022-08-28T01:48:48.338Z"
   },
   {
    "duration": 1386,
    "start_time": "2022-08-28T01:49:41.953Z"
   },
   {
    "duration": 1903,
    "start_time": "2022-08-28T01:49:43.341Z"
   },
   {
    "duration": 803,
    "start_time": "2022-08-28T01:49:45.247Z"
   },
   {
    "duration": 1105,
    "start_time": "2022-08-28T01:49:46.052Z"
   },
   {
    "duration": 4,
    "start_time": "2022-08-28T01:49:47.159Z"
   },
   {
    "duration": 57,
    "start_time": "2022-08-28T01:49:47.165Z"
   },
   {
    "duration": 4,
    "start_time": "2022-08-28T01:49:47.223Z"
   },
   {
    "duration": 19,
    "start_time": "2022-08-28T01:49:47.229Z"
   },
   {
    "duration": 279,
    "start_time": "2022-08-28T01:49:47.249Z"
   },
   {
    "duration": 11,
    "start_time": "2022-08-28T01:49:47.529Z"
   },
   {
    "duration": 35,
    "start_time": "2022-08-28T01:49:47.541Z"
   },
   {
    "duration": 39,
    "start_time": "2022-08-28T01:49:47.577Z"
   },
   {
    "duration": 32,
    "start_time": "2022-08-28T01:49:47.618Z"
   },
   {
    "duration": 11,
    "start_time": "2022-08-28T01:49:47.652Z"
   },
   {
    "duration": 84,
    "start_time": "2022-08-28T01:49:47.665Z"
   },
   {
    "duration": 10,
    "start_time": "2022-08-28T01:49:47.751Z"
   },
   {
    "duration": 10,
    "start_time": "2022-08-28T01:49:47.763Z"
   },
   {
    "duration": 50,
    "start_time": "2022-08-28T01:49:47.775Z"
   },
   {
    "duration": 21,
    "start_time": "2022-08-28T01:49:47.826Z"
   },
   {
    "duration": 224,
    "start_time": "2022-08-28T01:49:47.848Z"
   },
   {
    "duration": 209,
    "start_time": "2022-08-28T01:49:48.073Z"
   },
   {
    "duration": 214,
    "start_time": "2022-08-28T01:49:48.284Z"
   },
   {
    "duration": 26,
    "start_time": "2022-08-28T01:49:48.499Z"
   },
   {
    "duration": 35,
    "start_time": "2022-08-28T01:49:48.526Z"
   },
   {
    "duration": 84,
    "start_time": "2022-08-28T01:49:48.563Z"
   },
   {
    "duration": 76,
    "start_time": "2022-08-28T01:49:48.648Z"
   },
   {
    "duration": 11,
    "start_time": "2022-08-28T01:49:48.726Z"
   },
   {
    "duration": 180,
    "start_time": "2022-08-28T01:49:48.738Z"
   },
   {
    "duration": 181,
    "start_time": "2022-08-28T01:49:48.920Z"
   },
   {
    "duration": 3,
    "start_time": "2022-08-28T01:49:49.103Z"
   },
   {
    "duration": 76,
    "start_time": "2022-08-28T01:49:49.107Z"
   },
   {
    "duration": 67,
    "start_time": "2022-08-28T01:49:49.184Z"
   },
   {
    "duration": 55,
    "start_time": "2022-08-28T01:49:49.252Z"
   },
   {
    "duration": 45,
    "start_time": "2022-08-28T01:49:49.308Z"
   },
   {
    "duration": 138,
    "start_time": "2022-08-28T01:49:49.355Z"
   },
   {
    "duration": 981,
    "start_time": "2022-08-28T01:49:49.495Z"
   },
   {
    "duration": 181,
    "start_time": "2022-08-28T01:49:50.478Z"
   },
   {
    "duration": 12,
    "start_time": "2022-08-28T01:49:50.661Z"
   },
   {
    "duration": 93,
    "start_time": "2022-08-28T01:49:50.675Z"
   },
   {
    "duration": 122,
    "start_time": "2022-08-28T01:49:50.770Z"
   },
   {
    "duration": 178,
    "start_time": "2022-08-28T01:49:50.896Z"
   },
   {
    "duration": 3,
    "start_time": "2022-08-28T01:49:51.076Z"
   },
   {
    "duration": 6,
    "start_time": "2022-08-28T01:49:51.080Z"
   },
   {
    "duration": 14,
    "start_time": "2022-08-28T01:49:51.087Z"
   },
   {
    "duration": 15,
    "start_time": "2022-08-28T01:49:51.103Z"
   },
   {
    "duration": 109,
    "start_time": "2022-08-28T01:49:51.122Z"
   },
   {
    "duration": 0,
    "start_time": "2022-08-28T01:49:51.232Z"
   },
   {
    "duration": 11,
    "start_time": "2022-08-28T01:50:03.105Z"
   },
   {
    "duration": 417244,
    "start_time": "2022-08-28T01:50:09.614Z"
   },
   {
    "duration": 8095,
    "start_time": "2022-08-28T01:57:13.936Z"
   },
   {
    "duration": 1514,
    "start_time": "2022-08-28T01:58:11.672Z"
   },
   {
    "duration": 1891,
    "start_time": "2022-08-28T01:58:13.187Z"
   },
   {
    "duration": 807,
    "start_time": "2022-08-28T01:58:15.080Z"
   },
   {
    "duration": 1066,
    "start_time": "2022-08-28T01:58:15.888Z"
   },
   {
    "duration": 4,
    "start_time": "2022-08-28T01:58:16.957Z"
   },
   {
    "duration": 60,
    "start_time": "2022-08-28T01:58:16.962Z"
   },
   {
    "duration": 3,
    "start_time": "2022-08-28T01:58:17.023Z"
   },
   {
    "duration": 11,
    "start_time": "2022-08-28T01:58:17.028Z"
   },
   {
    "duration": 237,
    "start_time": "2022-08-28T01:58:17.041Z"
   },
   {
    "duration": 8,
    "start_time": "2022-08-28T01:58:17.280Z"
   },
   {
    "duration": 39,
    "start_time": "2022-08-28T01:58:17.290Z"
   },
   {
    "duration": 18,
    "start_time": "2022-08-28T01:58:17.331Z"
   },
   {
    "duration": 31,
    "start_time": "2022-08-28T01:58:17.351Z"
   },
   {
    "duration": 29,
    "start_time": "2022-08-28T01:58:17.385Z"
   },
   {
    "duration": 55,
    "start_time": "2022-08-28T01:58:17.416Z"
   },
   {
    "duration": 11,
    "start_time": "2022-08-28T01:58:17.472Z"
   },
   {
    "duration": 11,
    "start_time": "2022-08-28T01:58:17.505Z"
   },
   {
    "duration": 23,
    "start_time": "2022-08-28T01:58:17.517Z"
   },
   {
    "duration": 21,
    "start_time": "2022-08-28T01:58:17.541Z"
   },
   {
    "duration": 218,
    "start_time": "2022-08-28T01:58:17.563Z"
   },
   {
    "duration": 197,
    "start_time": "2022-08-28T01:58:17.783Z"
   },
   {
    "duration": 201,
    "start_time": "2022-08-28T01:58:17.981Z"
   },
   {
    "duration": 25,
    "start_time": "2022-08-28T01:58:18.183Z"
   },
   {
    "duration": 33,
    "start_time": "2022-08-28T01:58:18.210Z"
   },
   {
    "duration": 85,
    "start_time": "2022-08-28T01:58:18.244Z"
   },
   {
    "duration": 75,
    "start_time": "2022-08-28T01:58:18.331Z"
   },
   {
    "duration": 11,
    "start_time": "2022-08-28T01:58:18.408Z"
   },
   {
    "duration": 180,
    "start_time": "2022-08-28T01:58:18.421Z"
   },
   {
    "duration": 263,
    "start_time": "2022-08-28T01:58:18.606Z"
   },
   {
    "duration": 4,
    "start_time": "2022-08-28T01:58:18.871Z"
   },
   {
    "duration": 78,
    "start_time": "2022-08-28T01:58:18.877Z"
   },
   {
    "duration": 65,
    "start_time": "2022-08-28T01:58:18.957Z"
   },
   {
    "duration": 46,
    "start_time": "2022-08-28T01:58:19.024Z"
   },
   {
    "duration": 59,
    "start_time": "2022-08-28T01:58:19.072Z"
   },
   {
    "duration": 118,
    "start_time": "2022-08-28T01:58:19.132Z"
   },
   {
    "duration": 829,
    "start_time": "2022-08-28T01:58:19.252Z"
   },
   {
    "duration": 152,
    "start_time": "2022-08-28T01:58:20.082Z"
   },
   {
    "duration": 11,
    "start_time": "2022-08-28T01:58:20.236Z"
   },
   {
    "duration": 84,
    "start_time": "2022-08-28T01:58:20.249Z"
   },
   {
    "duration": 110,
    "start_time": "2022-08-28T01:58:20.334Z"
   },
   {
    "duration": 167,
    "start_time": "2022-08-28T01:58:20.447Z"
   },
   {
    "duration": 2,
    "start_time": "2022-08-28T01:58:20.616Z"
   },
   {
    "duration": 5,
    "start_time": "2022-08-28T01:58:20.620Z"
   },
   {
    "duration": 7,
    "start_time": "2022-08-28T01:58:20.627Z"
   },
   {
    "duration": 15,
    "start_time": "2022-08-28T01:58:20.636Z"
   },
   {
    "duration": 120,
    "start_time": "2022-08-28T01:58:20.652Z"
   },
   {
    "duration": 0,
    "start_time": "2022-08-28T01:58:20.775Z"
   },
   {
    "duration": 0,
    "start_time": "2022-08-28T01:58:20.776Z"
   },
   {
    "duration": 41,
    "start_time": "2022-08-28T01:58:50.214Z"
   },
   {
    "duration": 38,
    "start_time": "2022-08-28T01:59:22.769Z"
   },
   {
    "duration": 46,
    "start_time": "2022-08-28T02:00:21.497Z"
   },
   {
    "duration": 13,
    "start_time": "2022-08-28T02:00:34.722Z"
   },
   {
    "duration": 1605,
    "start_time": "2022-08-28T02:04:31.423Z"
   },
   {
    "duration": 2033,
    "start_time": "2022-08-28T02:04:33.030Z"
   },
   {
    "duration": 876,
    "start_time": "2022-08-28T02:04:35.064Z"
   },
   {
    "duration": 1263,
    "start_time": "2022-08-28T02:04:35.941Z"
   },
   {
    "duration": 14,
    "start_time": "2022-08-28T02:04:37.206Z"
   },
   {
    "duration": 44,
    "start_time": "2022-08-28T02:04:37.221Z"
   },
   {
    "duration": 4,
    "start_time": "2022-08-28T02:04:37.267Z"
   },
   {
    "duration": 15,
    "start_time": "2022-08-28T02:04:37.273Z"
   },
   {
    "duration": 264,
    "start_time": "2022-08-28T02:04:37.308Z"
   },
   {
    "duration": 11,
    "start_time": "2022-08-28T02:04:37.574Z"
   },
   {
    "duration": 50,
    "start_time": "2022-08-28T02:04:37.586Z"
   },
   {
    "duration": 21,
    "start_time": "2022-08-28T02:04:37.638Z"
   },
   {
    "duration": 61,
    "start_time": "2022-08-28T02:04:37.660Z"
   },
   {
    "duration": 12,
    "start_time": "2022-08-28T02:04:37.724Z"
   },
   {
    "duration": 81,
    "start_time": "2022-08-28T02:04:37.738Z"
   },
   {
    "duration": 11,
    "start_time": "2022-08-28T02:04:37.821Z"
   },
   {
    "duration": 12,
    "start_time": "2022-08-28T02:04:37.833Z"
   },
   {
    "duration": 24,
    "start_time": "2022-08-28T02:04:37.847Z"
   },
   {
    "duration": 55,
    "start_time": "2022-08-28T02:04:37.873Z"
   },
   {
    "duration": 249,
    "start_time": "2022-08-28T02:04:37.930Z"
   },
   {
    "duration": 244,
    "start_time": "2022-08-28T02:04:38.180Z"
   },
   {
    "duration": 219,
    "start_time": "2022-08-28T02:04:38.431Z"
   },
   {
    "duration": 23,
    "start_time": "2022-08-28T02:04:38.652Z"
   },
   {
    "duration": 52,
    "start_time": "2022-08-28T02:04:38.676Z"
   },
   {
    "duration": 96,
    "start_time": "2022-08-28T02:04:38.729Z"
   },
   {
    "duration": 51,
    "start_time": "2022-08-28T02:04:38.827Z"
   },
   {
    "duration": 12,
    "start_time": "2022-08-28T02:04:38.880Z"
   },
   {
    "duration": 231,
    "start_time": "2022-08-28T02:04:38.894Z"
   },
   {
    "duration": 199,
    "start_time": "2022-08-28T02:04:39.128Z"
   },
   {
    "duration": 3,
    "start_time": "2022-08-28T02:04:39.329Z"
   },
   {
    "duration": 82,
    "start_time": "2022-08-28T02:04:39.334Z"
   },
   {
    "duration": 56,
    "start_time": "2022-08-28T02:04:39.418Z"
   },
   {
    "duration": 61,
    "start_time": "2022-08-28T02:04:39.475Z"
   },
   {
    "duration": 49,
    "start_time": "2022-08-28T02:04:39.538Z"
   },
   {
    "duration": 148,
    "start_time": "2022-08-28T02:04:39.588Z"
   },
   {
    "duration": 1009,
    "start_time": "2022-08-28T02:04:39.738Z"
   },
   {
    "duration": 149,
    "start_time": "2022-08-28T02:04:40.749Z"
   },
   {
    "duration": 24,
    "start_time": "2022-08-28T02:04:40.899Z"
   },
   {
    "duration": 90,
    "start_time": "2022-08-28T02:04:40.924Z"
   },
   {
    "duration": 119,
    "start_time": "2022-08-28T02:04:41.017Z"
   },
   {
    "duration": 169,
    "start_time": "2022-08-28T02:04:41.140Z"
   },
   {
    "duration": 6,
    "start_time": "2022-08-28T02:04:41.310Z"
   },
   {
    "duration": 8,
    "start_time": "2022-08-28T02:04:41.320Z"
   },
   {
    "duration": 7,
    "start_time": "2022-08-28T02:04:41.329Z"
   },
   {
    "duration": 6,
    "start_time": "2022-08-28T02:04:41.337Z"
   },
   {
    "duration": 545779,
    "start_time": "2022-08-28T02:04:41.344Z"
   },
   {
    "duration": 0,
    "start_time": "2022-08-28T02:13:47.125Z"
   },
   {
    "duration": 0,
    "start_time": "2022-08-28T02:13:47.126Z"
   },
   {
    "duration": 13,
    "start_time": "2022-08-28T02:14:27.120Z"
   },
   {
    "duration": 0,
    "start_time": "2022-08-28T02:21:55.712Z"
   },
   {
    "duration": 11,
    "start_time": "2022-08-28T02:22:09.351Z"
   },
   {
    "duration": 0,
    "start_time": "2022-08-28T02:22:51.825Z"
   },
   {
    "duration": 14,
    "start_time": "2022-08-28T02:22:58.856Z"
   },
   {
    "duration": 1467,
    "start_time": "2022-08-28T02:25:27.915Z"
   },
   {
    "duration": 2070,
    "start_time": "2022-08-28T02:25:29.384Z"
   },
   {
    "duration": 869,
    "start_time": "2022-08-28T02:25:31.455Z"
   },
   {
    "duration": 1076,
    "start_time": "2022-08-28T02:25:32.326Z"
   },
   {
    "duration": 5,
    "start_time": "2022-08-28T02:25:33.406Z"
   },
   {
    "duration": 42,
    "start_time": "2022-08-28T02:25:33.412Z"
   },
   {
    "duration": 3,
    "start_time": "2022-08-28T02:25:33.456Z"
   },
   {
    "duration": 13,
    "start_time": "2022-08-28T02:25:33.461Z"
   },
   {
    "duration": 263,
    "start_time": "2022-08-28T02:25:33.476Z"
   },
   {
    "duration": 11,
    "start_time": "2022-08-28T02:25:33.740Z"
   },
   {
    "duration": 30,
    "start_time": "2022-08-28T02:25:33.753Z"
   },
   {
    "duration": 38,
    "start_time": "2022-08-28T02:25:33.785Z"
   },
   {
    "duration": 35,
    "start_time": "2022-08-28T02:25:33.825Z"
   },
   {
    "duration": 11,
    "start_time": "2022-08-28T02:25:33.863Z"
   },
   {
    "duration": 87,
    "start_time": "2022-08-28T02:25:33.876Z"
   },
   {
    "duration": 11,
    "start_time": "2022-08-28T02:25:33.964Z"
   },
   {
    "duration": 35,
    "start_time": "2022-08-28T02:25:33.976Z"
   },
   {
    "duration": 28,
    "start_time": "2022-08-28T02:25:34.012Z"
   },
   {
    "duration": 24,
    "start_time": "2022-08-28T02:25:34.042Z"
   },
   {
    "duration": 238,
    "start_time": "2022-08-28T02:25:34.068Z"
   },
   {
    "duration": 201,
    "start_time": "2022-08-28T02:25:34.307Z"
   },
   {
    "duration": 202,
    "start_time": "2022-08-28T02:25:34.509Z"
   },
   {
    "duration": 20,
    "start_time": "2022-08-28T02:25:34.713Z"
   },
   {
    "duration": 37,
    "start_time": "2022-08-28T02:25:34.735Z"
   },
   {
    "duration": 104,
    "start_time": "2022-08-28T02:25:34.774Z"
   },
   {
    "duration": 75,
    "start_time": "2022-08-28T02:25:34.880Z"
   },
   {
    "duration": 11,
    "start_time": "2022-08-28T02:25:34.957Z"
   },
   {
    "duration": 211,
    "start_time": "2022-08-28T02:25:34.970Z"
   },
   {
    "duration": 194,
    "start_time": "2022-08-28T02:25:35.183Z"
   },
   {
    "duration": 3,
    "start_time": "2022-08-28T02:25:35.379Z"
   },
   {
    "duration": 82,
    "start_time": "2022-08-28T02:25:35.384Z"
   },
   {
    "duration": 64,
    "start_time": "2022-08-28T02:25:35.468Z"
   },
   {
    "duration": 48,
    "start_time": "2022-08-28T02:25:35.534Z"
   },
   {
    "duration": 59,
    "start_time": "2022-08-28T02:25:35.584Z"
   },
   {
    "duration": 129,
    "start_time": "2022-08-28T02:25:35.645Z"
   },
   {
    "duration": 952,
    "start_time": "2022-08-28T02:25:35.776Z"
   },
   {
    "duration": 159,
    "start_time": "2022-08-28T02:25:36.730Z"
   },
   {
    "duration": 16,
    "start_time": "2022-08-28T02:25:36.891Z"
   },
   {
    "duration": 80,
    "start_time": "2022-08-28T02:25:36.908Z"
   },
   {
    "duration": 131,
    "start_time": "2022-08-28T02:25:36.990Z"
   },
   {
    "duration": 168,
    "start_time": "2022-08-28T02:25:37.124Z"
   },
   {
    "duration": 2,
    "start_time": "2022-08-28T02:25:37.294Z"
   },
   {
    "duration": 8,
    "start_time": "2022-08-28T02:25:37.298Z"
   },
   {
    "duration": 4,
    "start_time": "2022-08-28T02:25:37.307Z"
   },
   {
    "duration": 8,
    "start_time": "2022-08-28T02:25:37.313Z"
   },
   {
    "duration": 98544,
    "start_time": "2022-08-28T02:25:37.323Z"
   },
   {
    "duration": 0,
    "start_time": "2022-08-28T02:27:15.869Z"
   },
   {
    "duration": 0,
    "start_time": "2022-08-28T02:27:15.870Z"
   },
   {
    "duration": 1468,
    "start_time": "2022-08-28T02:31:10.275Z"
   },
   {
    "duration": 1865,
    "start_time": "2022-08-28T02:31:11.745Z"
   },
   {
    "duration": 810,
    "start_time": "2022-08-28T02:31:13.612Z"
   },
   {
    "duration": 1023,
    "start_time": "2022-08-28T02:31:14.424Z"
   },
   {
    "duration": 4,
    "start_time": "2022-08-28T02:31:15.450Z"
   },
   {
    "duration": 54,
    "start_time": "2022-08-28T02:31:15.456Z"
   },
   {
    "duration": 4,
    "start_time": "2022-08-28T02:31:15.511Z"
   },
   {
    "duration": 11,
    "start_time": "2022-08-28T02:31:15.517Z"
   },
   {
    "duration": 233,
    "start_time": "2022-08-28T02:31:15.530Z"
   },
   {
    "duration": 10,
    "start_time": "2022-08-28T02:31:15.765Z"
   },
   {
    "duration": 49,
    "start_time": "2022-08-28T02:31:15.777Z"
   },
   {
    "duration": 20,
    "start_time": "2022-08-28T02:31:15.828Z"
   },
   {
    "duration": 37,
    "start_time": "2022-08-28T02:31:15.850Z"
   },
   {
    "duration": 26,
    "start_time": "2022-08-28T02:31:15.889Z"
   },
   {
    "duration": 56,
    "start_time": "2022-08-28T02:31:15.916Z"
   },
   {
    "duration": 33,
    "start_time": "2022-08-28T02:31:15.973Z"
   },
   {
    "duration": 15,
    "start_time": "2022-08-28T02:31:16.008Z"
   },
   {
    "duration": 39,
    "start_time": "2022-08-28T02:31:16.025Z"
   },
   {
    "duration": 40,
    "start_time": "2022-08-28T02:31:16.066Z"
   },
   {
    "duration": 224,
    "start_time": "2022-08-28T02:31:16.108Z"
   },
   {
    "duration": 220,
    "start_time": "2022-08-28T02:31:16.333Z"
   },
   {
    "duration": 204,
    "start_time": "2022-08-28T02:31:16.555Z"
   },
   {
    "duration": 21,
    "start_time": "2022-08-28T02:31:16.760Z"
   },
   {
    "duration": 49,
    "start_time": "2022-08-28T02:31:16.782Z"
   },
   {
    "duration": 83,
    "start_time": "2022-08-28T02:31:16.832Z"
   },
   {
    "duration": 63,
    "start_time": "2022-08-28T02:31:16.917Z"
   },
   {
    "duration": 10,
    "start_time": "2022-08-28T02:31:16.982Z"
   },
   {
    "duration": 190,
    "start_time": "2022-08-28T02:31:16.994Z"
   },
   {
    "duration": 259,
    "start_time": "2022-08-28T02:31:17.186Z"
   },
   {
    "duration": 3,
    "start_time": "2022-08-28T02:31:17.447Z"
   },
   {
    "duration": 76,
    "start_time": "2022-08-28T02:31:17.451Z"
   },
   {
    "duration": 51,
    "start_time": "2022-08-28T02:31:17.528Z"
   },
   {
    "duration": 62,
    "start_time": "2022-08-28T02:31:17.581Z"
   },
   {
    "duration": 62,
    "start_time": "2022-08-28T02:31:17.644Z"
   },
   {
    "duration": 121,
    "start_time": "2022-08-28T02:31:17.707Z"
   },
   {
    "duration": 835,
    "start_time": "2022-08-28T02:31:17.830Z"
   },
   {
    "duration": 151,
    "start_time": "2022-08-28T02:31:18.667Z"
   },
   {
    "duration": 13,
    "start_time": "2022-08-28T02:31:18.820Z"
   },
   {
    "duration": 83,
    "start_time": "2022-08-28T02:31:18.835Z"
   },
   {
    "duration": 117,
    "start_time": "2022-08-28T02:31:18.920Z"
   },
   {
    "duration": 99,
    "start_time": "2022-08-28T02:31:19.040Z"
   },
   {
    "duration": 0,
    "start_time": "2022-08-28T02:31:19.141Z"
   },
   {
    "duration": 0,
    "start_time": "2022-08-28T02:31:19.142Z"
   },
   {
    "duration": 0,
    "start_time": "2022-08-28T02:31:19.143Z"
   },
   {
    "duration": 0,
    "start_time": "2022-08-28T02:31:19.143Z"
   },
   {
    "duration": 0,
    "start_time": "2022-08-28T02:31:19.145Z"
   },
   {
    "duration": 0,
    "start_time": "2022-08-28T02:31:19.146Z"
   },
   {
    "duration": 0,
    "start_time": "2022-08-28T02:31:19.146Z"
   },
   {
    "duration": 0,
    "start_time": "2022-08-28T02:31:19.147Z"
   },
   {
    "duration": 171,
    "start_time": "2022-08-28T02:39:30.763Z"
   },
   {
    "duration": 2,
    "start_time": "2022-08-28T02:39:32.019Z"
   },
   {
    "duration": 3,
    "start_time": "2022-08-28T02:39:32.838Z"
   },
   {
    "duration": 5,
    "start_time": "2022-08-28T02:39:33.866Z"
   },
   {
    "duration": 3,
    "start_time": "2022-08-28T02:39:35.442Z"
   },
   {
    "duration": 459388,
    "start_time": "2022-08-28T02:39:39.734Z"
   },
   {
    "duration": 85,
    "start_time": "2022-08-28T02:48:50.858Z"
   },
   {
    "duration": 3,
    "start_time": "2022-08-28T02:49:09.658Z"
   },
   {
    "duration": 91,
    "start_time": "2022-08-28T02:49:10.062Z"
   },
   {
    "duration": 25,
    "start_time": "2022-08-28T02:49:38.587Z"
   },
   {
    "duration": 6,
    "start_time": "2022-08-28T02:49:40.290Z"
   },
   {
    "duration": 481,
    "start_time": "2022-08-28T02:50:47.078Z"
   },
   {
    "duration": 397,
    "start_time": "2022-08-28T02:51:19.422Z"
   },
   {
    "duration": 1219,
    "start_time": "2022-08-28T02:55:41.750Z"
   },
   {
    "duration": 778,
    "start_time": "2022-08-28T02:55:42.971Z"
   },
   {
    "duration": 1037,
    "start_time": "2022-08-28T02:55:43.751Z"
   },
   {
    "duration": 5,
    "start_time": "2022-08-28T02:55:44.790Z"
   },
   {
    "duration": 40,
    "start_time": "2022-08-28T02:55:44.806Z"
   },
   {
    "duration": 4,
    "start_time": "2022-08-28T02:55:44.848Z"
   },
   {
    "duration": 12,
    "start_time": "2022-08-28T02:55:44.853Z"
   },
   {
    "duration": 292,
    "start_time": "2022-08-28T02:55:44.867Z"
   },
   {
    "duration": 10,
    "start_time": "2022-08-28T02:55:45.160Z"
   },
   {
    "duration": 42,
    "start_time": "2022-08-28T02:55:45.290Z"
   },
   {
    "duration": 27,
    "start_time": "2022-08-28T02:55:45.807Z"
   },
   {
    "duration": 32,
    "start_time": "2022-08-28T02:55:46.262Z"
   },
   {
    "duration": 12,
    "start_time": "2022-08-28T02:55:46.706Z"
   },
   {
    "duration": 57,
    "start_time": "2022-08-28T02:55:47.162Z"
   },
   {
    "duration": 12,
    "start_time": "2022-08-28T02:55:47.602Z"
   },
   {
    "duration": 11,
    "start_time": "2022-08-28T02:55:47.798Z"
   },
   {
    "duration": 26,
    "start_time": "2022-08-28T02:55:48.230Z"
   },
   {
    "duration": 23,
    "start_time": "2022-08-28T02:55:48.649Z"
   },
   {
    "duration": 213,
    "start_time": "2022-08-28T02:55:49.054Z"
   },
   {
    "duration": 200,
    "start_time": "2022-08-28T02:55:49.271Z"
   },
   {
    "duration": 200,
    "start_time": "2022-08-28T02:55:49.485Z"
   },
   {
    "duration": 22,
    "start_time": "2022-08-28T02:55:49.910Z"
   },
   {
    "duration": 35,
    "start_time": "2022-08-28T02:55:50.618Z"
   },
   {
    "duration": 74,
    "start_time": "2022-08-28T02:55:50.819Z"
   },
   {
    "duration": 61,
    "start_time": "2022-08-28T02:55:51.054Z"
   },
   {
    "duration": 14,
    "start_time": "2022-08-28T02:55:51.310Z"
   },
   {
    "duration": 195,
    "start_time": "2022-08-28T02:55:51.554Z"
   },
   {
    "duration": 140,
    "start_time": "2022-08-28T02:55:52.370Z"
   },
   {
    "duration": 2795,
    "start_time": "2022-08-28T02:55:54.166Z"
   },
   {
    "duration": 97,
    "start_time": "2022-08-28T02:56:39.782Z"
   },
   {
    "duration": 11,
    "start_time": "2022-08-28T02:57:29.302Z"
   },
   {
    "duration": 10,
    "start_time": "2022-08-28T02:57:36.490Z"
   },
   {
    "duration": 180,
    "start_time": "2022-08-28T02:57:41.401Z"
   },
   {
    "duration": 11,
    "start_time": "2022-08-28T02:57:43.350Z"
   },
   {
    "duration": 9,
    "start_time": "2022-08-28T02:57:48.122Z"
   },
   {
    "duration": 22,
    "start_time": "2022-08-28T03:00:46.132Z"
   },
   {
    "duration": 89,
    "start_time": "2022-08-28T03:01:30.146Z"
   },
   {
    "duration": 2,
    "start_time": "2022-08-28T03:04:31.358Z"
   },
   {
    "duration": 10,
    "start_time": "2022-08-28T03:04:50.962Z"
   },
   {
    "duration": 435,
    "start_time": "2022-08-28T03:05:08.077Z"
   },
   {
    "duration": 9,
    "start_time": "2022-08-28T03:07:02.981Z"
   },
   {
    "duration": 9,
    "start_time": "2022-08-28T03:10:52.521Z"
   },
   {
    "duration": 102,
    "start_time": "2022-08-28T03:11:04.604Z"
   },
   {
    "duration": 3,
    "start_time": "2022-08-28T03:11:09.733Z"
   },
   {
    "duration": 439,
    "start_time": "2022-08-28T03:11:10.509Z"
   },
   {
    "duration": 14,
    "start_time": "2022-08-28T03:11:14.469Z"
   },
   {
    "duration": 38,
    "start_time": "2022-08-28T03:12:45.533Z"
   },
   {
    "duration": 1247,
    "start_time": "2022-08-28T03:14:09.776Z"
   },
   {
    "duration": 799,
    "start_time": "2022-08-28T03:14:11.025Z"
   },
   {
    "duration": 1048,
    "start_time": "2022-08-28T03:14:11.826Z"
   },
   {
    "duration": 5,
    "start_time": "2022-08-28T03:14:12.875Z"
   },
   {
    "duration": 53,
    "start_time": "2022-08-28T03:14:12.881Z"
   },
   {
    "duration": 4,
    "start_time": "2022-08-28T03:14:12.935Z"
   },
   {
    "duration": 21,
    "start_time": "2022-08-28T03:14:12.940Z"
   },
   {
    "duration": 235,
    "start_time": "2022-08-28T03:14:12.962Z"
   },
   {
    "duration": 14,
    "start_time": "2022-08-28T03:14:13.198Z"
   },
   {
    "duration": 32,
    "start_time": "2022-08-28T03:14:13.214Z"
   },
   {
    "duration": 18,
    "start_time": "2022-08-28T03:14:13.248Z"
   },
   {
    "duration": 50,
    "start_time": "2022-08-28T03:14:13.268Z"
   },
   {
    "duration": 11,
    "start_time": "2022-08-28T03:14:13.320Z"
   },
   {
    "duration": 55,
    "start_time": "2022-08-28T03:14:13.332Z"
   },
   {
    "duration": 11,
    "start_time": "2022-08-28T03:14:13.406Z"
   },
   {
    "duration": 11,
    "start_time": "2022-08-28T03:14:13.419Z"
   },
   {
    "duration": 27,
    "start_time": "2022-08-28T03:14:13.432Z"
   },
   {
    "duration": 48,
    "start_time": "2022-08-28T03:14:13.460Z"
   },
   {
    "duration": 213,
    "start_time": "2022-08-28T03:14:13.509Z"
   },
   {
    "duration": 202,
    "start_time": "2022-08-28T03:14:13.724Z"
   },
   {
    "duration": 199,
    "start_time": "2022-08-28T03:14:13.928Z"
   },
   {
    "duration": 21,
    "start_time": "2022-08-28T03:14:14.129Z"
   },
   {
    "duration": 34,
    "start_time": "2022-08-28T03:14:14.152Z"
   },
   {
    "duration": 71,
    "start_time": "2022-08-28T03:14:14.205Z"
   },
   {
    "duration": 73,
    "start_time": "2022-08-28T03:14:14.277Z"
   },
   {
    "duration": 11,
    "start_time": "2022-08-28T03:14:14.352Z"
   },
   {
    "duration": 195,
    "start_time": "2022-08-28T03:14:14.365Z"
   },
   {
    "duration": 155,
    "start_time": "2022-08-28T03:14:14.564Z"
   },
   {
    "duration": 172,
    "start_time": "2022-08-28T03:14:14.720Z"
   },
   {
    "duration": 17,
    "start_time": "2022-08-28T03:14:14.894Z"
   },
   {
    "duration": 100,
    "start_time": "2022-08-28T03:14:14.912Z"
   },
   {
    "duration": 3,
    "start_time": "2022-08-28T03:14:15.014Z"
   },
   {
    "duration": 479,
    "start_time": "2022-08-28T03:14:15.018Z"
   },
   {
    "duration": 342,
    "start_time": "2022-08-28T03:14:15.498Z"
   },
   {
    "duration": 103,
    "start_time": "2022-08-28T03:14:15.841Z"
   },
   {
    "duration": 0,
    "start_time": "2022-08-28T03:14:15.945Z"
   },
   {
    "duration": 0,
    "start_time": "2022-08-28T03:14:15.946Z"
   },
   {
    "duration": 0,
    "start_time": "2022-08-28T03:14:15.947Z"
   },
   {
    "duration": 0,
    "start_time": "2022-08-28T03:14:15.948Z"
   },
   {
    "duration": 0,
    "start_time": "2022-08-28T03:14:15.949Z"
   },
   {
    "duration": 0,
    "start_time": "2022-08-28T03:14:15.950Z"
   },
   {
    "duration": 0,
    "start_time": "2022-08-28T03:14:15.951Z"
   },
   {
    "duration": 0,
    "start_time": "2022-08-28T03:14:15.952Z"
   },
   {
    "duration": 0,
    "start_time": "2022-08-28T03:14:15.953Z"
   },
   {
    "duration": 0,
    "start_time": "2022-08-28T03:14:15.953Z"
   },
   {
    "duration": 0,
    "start_time": "2022-08-28T03:14:15.954Z"
   },
   {
    "duration": 0,
    "start_time": "2022-08-28T03:14:15.955Z"
   },
   {
    "duration": 0,
    "start_time": "2022-08-28T03:14:15.956Z"
   },
   {
    "duration": 0,
    "start_time": "2022-08-28T03:14:15.957Z"
   },
   {
    "duration": 22,
    "start_time": "2022-08-28T03:14:54.408Z"
   },
   {
    "duration": 9,
    "start_time": "2022-08-28T03:19:22.920Z"
   },
   {
    "duration": 203,
    "start_time": "2022-08-28T03:20:22.233Z"
   },
   {
    "duration": 8,
    "start_time": "2022-08-28T03:20:56.649Z"
   },
   {
    "duration": 1193,
    "start_time": "2022-08-28T03:21:53.332Z"
   },
   {
    "duration": 788,
    "start_time": "2022-08-28T03:21:54.527Z"
   },
   {
    "duration": 1052,
    "start_time": "2022-08-28T03:21:55.317Z"
   },
   {
    "duration": 5,
    "start_time": "2022-08-28T03:21:56.371Z"
   },
   {
    "duration": 58,
    "start_time": "2022-08-28T03:21:56.377Z"
   },
   {
    "duration": 3,
    "start_time": "2022-08-28T03:21:56.437Z"
   },
   {
    "duration": 11,
    "start_time": "2022-08-28T03:21:56.442Z"
   },
   {
    "duration": 275,
    "start_time": "2022-08-28T03:21:56.455Z"
   },
   {
    "duration": 8,
    "start_time": "2022-08-28T03:21:56.732Z"
   },
   {
    "duration": 31,
    "start_time": "2022-08-28T03:21:56.743Z"
   },
   {
    "duration": 32,
    "start_time": "2022-08-28T03:21:56.776Z"
   },
   {
    "duration": 31,
    "start_time": "2022-08-28T03:21:56.810Z"
   },
   {
    "duration": 11,
    "start_time": "2022-08-28T03:21:56.843Z"
   },
   {
    "duration": 81,
    "start_time": "2022-08-28T03:21:56.856Z"
   },
   {
    "duration": 11,
    "start_time": "2022-08-28T03:21:56.939Z"
   },
   {
    "duration": 11,
    "start_time": "2022-08-28T03:21:56.951Z"
   },
   {
    "duration": 46,
    "start_time": "2022-08-28T03:21:56.963Z"
   },
   {
    "duration": 22,
    "start_time": "2022-08-28T03:21:57.010Z"
   },
   {
    "duration": 212,
    "start_time": "2022-08-28T03:21:57.034Z"
   },
   {
    "duration": 198,
    "start_time": "2022-08-28T03:21:57.248Z"
   },
   {
    "duration": 195,
    "start_time": "2022-08-28T03:21:57.448Z"
   },
   {
    "duration": 21,
    "start_time": "2022-08-28T03:21:57.645Z"
   },
   {
    "duration": 51,
    "start_time": "2022-08-28T03:21:57.668Z"
   },
   {
    "duration": 71,
    "start_time": "2022-08-28T03:21:57.720Z"
   },
   {
    "duration": 66,
    "start_time": "2022-08-28T03:21:57.792Z"
   },
   {
    "duration": 10,
    "start_time": "2022-08-28T03:21:57.860Z"
   },
   {
    "duration": 193,
    "start_time": "2022-08-28T03:21:57.871Z"
   },
   {
    "duration": 154,
    "start_time": "2022-08-28T03:21:58.068Z"
   },
   {
    "duration": 178,
    "start_time": "2022-08-28T03:21:58.224Z"
   },
   {
    "duration": 9,
    "start_time": "2022-08-28T03:21:58.403Z"
   },
   {
    "duration": 103,
    "start_time": "2022-08-28T03:21:58.414Z"
   },
   {
    "duration": 3,
    "start_time": "2022-08-28T03:21:58.518Z"
   },
   {
    "duration": 484,
    "start_time": "2022-08-28T03:21:58.522Z"
   },
   {
    "duration": 336,
    "start_time": "2022-08-28T03:21:59.007Z"
   },
   {
    "duration": 19,
    "start_time": "2022-08-28T03:21:59.344Z"
   },
   {
    "duration": 8,
    "start_time": "2022-08-28T03:21:59.364Z"
   },
   {
    "duration": 236,
    "start_time": "2022-08-28T03:21:59.373Z"
   },
   {
    "duration": 28695,
    "start_time": "2022-08-28T03:21:59.611Z"
   },
   {
    "duration": 6,
    "start_time": "2022-08-28T03:23:19.252Z"
   },
   {
    "duration": 1246,
    "start_time": "2022-08-28T03:30:35.484Z"
   },
   {
    "duration": 787,
    "start_time": "2022-08-28T03:30:36.732Z"
   },
   {
    "duration": 1016,
    "start_time": "2022-08-28T03:30:37.520Z"
   },
   {
    "duration": 4,
    "start_time": "2022-08-28T03:30:38.538Z"
   },
   {
    "duration": 41,
    "start_time": "2022-08-28T03:30:38.543Z"
   },
   {
    "duration": 20,
    "start_time": "2022-08-28T03:30:38.586Z"
   },
   {
    "duration": 10,
    "start_time": "2022-08-28T03:30:38.607Z"
   },
   {
    "duration": 251,
    "start_time": "2022-08-28T03:30:38.618Z"
   },
   {
    "duration": 10,
    "start_time": "2022-08-28T03:30:38.870Z"
   },
   {
    "duration": 45,
    "start_time": "2022-08-28T03:30:38.882Z"
   },
   {
    "duration": 19,
    "start_time": "2022-08-28T03:30:38.929Z"
   },
   {
    "duration": 33,
    "start_time": "2022-08-28T03:30:38.950Z"
   },
   {
    "duration": 26,
    "start_time": "2022-08-28T03:30:38.984Z"
   },
   {
    "duration": 56,
    "start_time": "2022-08-28T03:30:39.012Z"
   },
   {
    "duration": 11,
    "start_time": "2022-08-28T03:30:39.069Z"
   },
   {
    "duration": 13,
    "start_time": "2022-08-28T03:30:39.105Z"
   },
   {
    "duration": 25,
    "start_time": "2022-08-28T03:30:39.120Z"
   },
   {
    "duration": 22,
    "start_time": "2022-08-28T03:30:39.147Z"
   },
   {
    "duration": 239,
    "start_time": "2022-08-28T03:30:39.171Z"
   },
   {
    "duration": 195,
    "start_time": "2022-08-28T03:30:39.412Z"
   },
   {
    "duration": 206,
    "start_time": "2022-08-28T03:30:39.609Z"
   },
   {
    "duration": 23,
    "start_time": "2022-08-28T03:30:39.816Z"
   },
   {
    "duration": 35,
    "start_time": "2022-08-28T03:30:39.840Z"
   },
   {
    "duration": 91,
    "start_time": "2022-08-28T03:30:39.876Z"
   },
   {
    "duration": 75,
    "start_time": "2022-08-28T03:30:39.969Z"
   },
   {
    "duration": 10,
    "start_time": "2022-08-28T03:30:40.046Z"
   },
   {
    "duration": 191,
    "start_time": "2022-08-28T03:30:40.058Z"
   },
   {
    "duration": 155,
    "start_time": "2022-08-28T03:30:40.252Z"
   },
   {
    "duration": 173,
    "start_time": "2022-08-28T03:30:40.409Z"
   },
   {
    "duration": 22,
    "start_time": "2022-08-28T03:30:40.584Z"
   },
   {
    "duration": 85,
    "start_time": "2022-08-28T03:30:40.608Z"
   },
   {
    "duration": 12,
    "start_time": "2022-08-28T03:30:40.694Z"
   },
   {
    "duration": 489,
    "start_time": "2022-08-28T03:30:40.708Z"
   },
   {
    "duration": 345,
    "start_time": "2022-08-28T03:30:41.205Z"
   },
   {
    "duration": 21,
    "start_time": "2022-08-28T03:30:41.551Z"
   },
   {
    "duration": 8,
    "start_time": "2022-08-28T03:30:41.573Z"
   },
   {
    "duration": 215,
    "start_time": "2022-08-28T03:30:41.605Z"
   },
   {
    "duration": 23785,
    "start_time": "2022-08-28T03:30:41.822Z"
   },
   {
    "duration": 7,
    "start_time": "2022-08-28T03:31:05.609Z"
   },
   {
    "duration": 255,
    "start_time": "2022-08-28T03:31:05.706Z"
   },
   {
    "duration": 285289,
    "start_time": "2022-08-28T03:31:05.962Z"
   },
   {
    "duration": 3,
    "start_time": "2022-08-28T03:35:51.252Z"
   },
   {
    "duration": 51466,
    "start_time": "2022-08-28T03:35:51.257Z"
   },
   {
    "duration": 3,
    "start_time": "2022-08-28T03:36:42.725Z"
   },
   {
    "duration": 71288,
    "start_time": "2022-08-28T03:36:42.729Z"
   },
   {
    "duration": 3,
    "start_time": "2022-08-28T03:37:54.019Z"
   },
   {
    "duration": 7995,
    "start_time": "2022-08-28T03:37:54.023Z"
   },
   {
    "duration": 94,
    "start_time": "2022-08-28T03:42:07.499Z"
   },
   {
    "duration": 6,
    "start_time": "2022-08-28T03:49:37.499Z"
   },
   {
    "duration": 54,
    "start_time": "2022-08-28T03:49:38.946Z"
   },
   {
    "duration": 253,
    "start_time": "2022-08-28T03:49:40.398Z"
   },
   {
    "duration": 5,
    "start_time": "2022-08-28T03:52:08.826Z"
   },
   {
    "duration": 139,
    "start_time": "2022-08-28T03:52:16.399Z"
   },
   {
    "duration": 173,
    "start_time": "2022-08-28T03:54:46.738Z"
   },
   {
    "duration": 664,
    "start_time": "2022-08-28T03:55:16.802Z"
   },
   {
    "duration": 1163,
    "start_time": "2022-08-28T03:56:19.254Z"
   },
   {
    "duration": 770,
    "start_time": "2022-08-28T03:56:20.419Z"
   },
   {
    "duration": 1016,
    "start_time": "2022-08-28T03:56:21.191Z"
   },
   {
    "duration": 4,
    "start_time": "2022-08-28T03:56:22.209Z"
   },
   {
    "duration": 44,
    "start_time": "2022-08-28T03:56:22.214Z"
   },
   {
    "duration": 4,
    "start_time": "2022-08-28T03:56:22.259Z"
   },
   {
    "duration": 11,
    "start_time": "2022-08-28T03:56:22.264Z"
   },
   {
    "duration": 269,
    "start_time": "2022-08-28T03:56:22.276Z"
   },
   {
    "duration": 8,
    "start_time": "2022-08-28T03:56:22.547Z"
   },
   {
    "duration": 31,
    "start_time": "2022-08-28T03:56:22.558Z"
   },
   {
    "duration": 19,
    "start_time": "2022-08-28T03:56:22.606Z"
   },
   {
    "duration": 32,
    "start_time": "2022-08-28T03:56:22.626Z"
   },
   {
    "duration": 11,
    "start_time": "2022-08-28T03:56:22.659Z"
   },
   {
    "duration": 80,
    "start_time": "2022-08-28T03:56:22.672Z"
   },
   {
    "duration": 11,
    "start_time": "2022-08-28T03:56:22.753Z"
   },
   {
    "duration": 10,
    "start_time": "2022-08-28T03:56:22.765Z"
   },
   {
    "duration": 47,
    "start_time": "2022-08-28T03:56:22.777Z"
   },
   {
    "duration": 20,
    "start_time": "2022-08-28T03:56:22.826Z"
   },
   {
    "duration": 205,
    "start_time": "2022-08-28T03:56:22.847Z"
   },
   {
    "duration": 193,
    "start_time": "2022-08-28T03:56:23.053Z"
   },
   {
    "duration": 190,
    "start_time": "2022-08-28T03:56:23.247Z"
   },
   {
    "duration": 21,
    "start_time": "2022-08-28T03:56:23.438Z"
   },
   {
    "duration": 48,
    "start_time": "2022-08-28T03:56:23.460Z"
   },
   {
    "duration": 68,
    "start_time": "2022-08-28T03:56:23.509Z"
   },
   {
    "duration": 70,
    "start_time": "2022-08-28T03:56:23.579Z"
   },
   {
    "duration": 11,
    "start_time": "2022-08-28T03:56:23.650Z"
   },
   {
    "duration": 182,
    "start_time": "2022-08-28T03:56:23.662Z"
   },
   {
    "duration": 155,
    "start_time": "2022-08-28T03:56:23.846Z"
   },
   {
    "duration": 174,
    "start_time": "2022-08-28T03:56:24.003Z"
   },
   {
    "duration": 9,
    "start_time": "2022-08-28T03:56:24.179Z"
   },
   {
    "duration": 98,
    "start_time": "2022-08-28T03:56:24.189Z"
   },
   {
    "duration": 2,
    "start_time": "2022-08-28T03:56:24.289Z"
   },
   {
    "duration": 477,
    "start_time": "2022-08-28T03:56:24.292Z"
   },
   {
    "duration": 336,
    "start_time": "2022-08-28T03:56:24.770Z"
   },
   {
    "duration": 19,
    "start_time": "2022-08-28T03:56:25.108Z"
   },
   {
    "duration": 8,
    "start_time": "2022-08-28T03:56:25.128Z"
   },
   {
    "duration": 224,
    "start_time": "2022-08-28T03:56:25.137Z"
   },
   {
    "duration": 22751,
    "start_time": "2022-08-28T03:56:25.363Z"
   },
   {
    "duration": 94,
    "start_time": "2022-08-28T03:56:48.116Z"
   },
   {
    "duration": 360,
    "start_time": "2022-08-28T03:56:48.212Z"
   },
   {
    "duration": 281507,
    "start_time": "2022-08-28T03:56:48.573Z"
   },
   {
    "duration": 3,
    "start_time": "2022-08-28T04:01:30.081Z"
   },
   {
    "duration": 50643,
    "start_time": "2022-08-28T04:01:30.086Z"
   },
   {
    "duration": 3,
    "start_time": "2022-08-28T04:02:20.731Z"
   },
   {
    "duration": 72084,
    "start_time": "2022-08-28T04:02:20.735Z"
   },
   {
    "duration": 4,
    "start_time": "2022-08-28T04:03:32.820Z"
   },
   {
    "duration": 7297,
    "start_time": "2022-08-28T04:03:32.825Z"
   },
   {
    "duration": 6,
    "start_time": "2022-08-28T04:03:40.124Z"
   },
   {
    "duration": 75,
    "start_time": "2022-08-28T04:03:40.131Z"
   },
   {
    "duration": 197,
    "start_time": "2022-08-28T04:03:40.208Z"
   },
   {
    "duration": 11,
    "start_time": "2022-08-28T04:03:40.407Z"
   },
   {
    "duration": 0,
    "start_time": "2022-08-28T04:03:40.420Z"
   },
   {
    "duration": 0,
    "start_time": "2022-08-28T04:03:40.421Z"
   },
   {
    "duration": 83,
    "start_time": "2022-08-28T04:04:12.058Z"
   },
   {
    "duration": 52,
    "start_time": "2022-08-28T04:04:16.873Z"
   },
   {
    "duration": 227,
    "start_time": "2022-08-28T04:04:17.686Z"
   },
   {
    "duration": 85,
    "start_time": "2022-08-28T04:06:45.421Z"
   },
   {
    "duration": 11,
    "start_time": "2022-08-28T04:06:54.637Z"
   },
   {
    "duration": 69,
    "start_time": "2022-08-28T04:07:18.825Z"
   },
   {
    "duration": 133,
    "start_time": "2022-08-28T04:07:20.958Z"
   },
   {
    "duration": 790,
    "start_time": "2022-08-28T04:07:24.030Z"
   },
   {
    "duration": 1312,
    "start_time": "2022-08-28T04:32:35.233Z"
   },
   {
    "duration": 833,
    "start_time": "2022-08-28T04:32:36.547Z"
   },
   {
    "duration": 1046,
    "start_time": "2022-08-28T04:32:37.382Z"
   },
   {
    "duration": 4,
    "start_time": "2022-08-28T04:32:38.430Z"
   },
   {
    "duration": 49,
    "start_time": "2022-08-28T04:32:38.436Z"
   },
   {
    "duration": 4,
    "start_time": "2022-08-28T04:32:38.486Z"
   },
   {
    "duration": 23,
    "start_time": "2022-08-28T04:32:38.492Z"
   },
   {
    "duration": 257,
    "start_time": "2022-08-28T04:32:38.516Z"
   },
   {
    "duration": 9,
    "start_time": "2022-08-28T04:32:38.775Z"
   },
   {
    "duration": 49,
    "start_time": "2022-08-28T04:32:38.786Z"
   },
   {
    "duration": 20,
    "start_time": "2022-08-28T04:32:38.836Z"
   },
   {
    "duration": 56,
    "start_time": "2022-08-28T04:32:38.857Z"
   },
   {
    "duration": 13,
    "start_time": "2022-08-28T04:32:38.917Z"
   },
   {
    "duration": 59,
    "start_time": "2022-08-28T04:32:38.931Z"
   },
   {
    "duration": 12,
    "start_time": "2022-08-28T04:32:39.005Z"
   },
   {
    "duration": 14,
    "start_time": "2022-08-28T04:32:39.019Z"
   },
   {
    "duration": 30,
    "start_time": "2022-08-28T04:32:39.035Z"
   },
   {
    "duration": 58,
    "start_time": "2022-08-28T04:32:39.067Z"
   },
   {
    "duration": 229,
    "start_time": "2022-08-28T04:32:39.127Z"
   },
   {
    "duration": 222,
    "start_time": "2022-08-28T04:32:39.357Z"
   },
   {
    "duration": 217,
    "start_time": "2022-08-28T04:32:39.581Z"
   },
   {
    "duration": 25,
    "start_time": "2022-08-28T04:32:39.800Z"
   },
   {
    "duration": 37,
    "start_time": "2022-08-28T04:32:39.826Z"
   },
   {
    "duration": 92,
    "start_time": "2022-08-28T04:32:39.864Z"
   },
   {
    "duration": 70,
    "start_time": "2022-08-28T04:32:39.958Z"
   },
   {
    "duration": 15,
    "start_time": "2022-08-28T04:32:40.029Z"
   },
   {
    "duration": 206,
    "start_time": "2022-08-28T04:32:40.046Z"
   },
   {
    "duration": 167,
    "start_time": "2022-08-28T04:32:40.255Z"
   },
   {
    "duration": 179,
    "start_time": "2022-08-28T04:32:40.423Z"
   },
   {
    "duration": 9,
    "start_time": "2022-08-28T04:32:40.606Z"
   },
   {
    "duration": 99,
    "start_time": "2022-08-28T04:32:40.616Z"
   },
   {
    "duration": 3,
    "start_time": "2022-08-28T04:32:40.716Z"
   },
   {
    "duration": 473,
    "start_time": "2022-08-28T04:32:40.720Z"
   },
   {
    "duration": 344,
    "start_time": "2022-08-28T04:32:41.195Z"
   },
   {
    "duration": 18,
    "start_time": "2022-08-28T04:32:41.541Z"
   },
   {
    "duration": 7,
    "start_time": "2022-08-28T04:32:41.561Z"
   },
   {
    "duration": 225,
    "start_time": "2022-08-28T04:32:41.570Z"
   },
   {
    "duration": 23009,
    "start_time": "2022-08-28T04:32:41.797Z"
   },
   {
    "duration": 7,
    "start_time": "2022-08-28T04:33:04.808Z"
   },
   {
    "duration": 325,
    "start_time": "2022-08-28T04:33:04.817Z"
   },
   {
    "duration": 286995,
    "start_time": "2022-08-28T04:33:05.143Z"
   },
   {
    "duration": 3,
    "start_time": "2022-08-28T04:37:52.139Z"
   },
   {
    "duration": 50765,
    "start_time": "2022-08-28T04:37:52.143Z"
   },
   {
    "duration": 4,
    "start_time": "2022-08-28T04:38:42.909Z"
   },
   {
    "duration": 71010,
    "start_time": "2022-08-28T04:38:42.914Z"
   },
   {
    "duration": 3,
    "start_time": "2022-08-28T04:39:53.925Z"
   },
   {
    "duration": 7483,
    "start_time": "2022-08-28T04:39:53.929Z"
   },
   {
    "duration": 6,
    "start_time": "2022-08-28T04:40:01.413Z"
   },
   {
    "duration": 125,
    "start_time": "2022-08-28T04:40:01.420Z"
   },
   {
    "duration": 159,
    "start_time": "2022-08-28T04:40:01.547Z"
   },
   {
    "duration": 96,
    "start_time": "2022-08-28T04:40:01.710Z"
   },
   {
    "duration": 118,
    "start_time": "2022-08-28T04:40:01.807Z"
   },
   {
    "duration": 880,
    "start_time": "2022-08-28T04:40:01.927Z"
   },
   {
    "duration": 1596,
    "start_time": "2022-08-28T18:03:40.028Z"
   },
   {
    "duration": 1102,
    "start_time": "2022-08-28T18:03:41.626Z"
   },
   {
    "duration": 1173,
    "start_time": "2022-08-28T18:03:42.730Z"
   },
   {
    "duration": 6,
    "start_time": "2022-08-28T18:03:43.905Z"
   },
   {
    "duration": 60,
    "start_time": "2022-08-28T18:03:43.913Z"
   },
   {
    "duration": 3,
    "start_time": "2022-08-28T18:03:43.975Z"
   },
   {
    "duration": 17,
    "start_time": "2022-08-28T18:03:43.980Z"
   },
   {
    "duration": 310,
    "start_time": "2022-08-28T18:03:43.999Z"
   },
   {
    "duration": 13,
    "start_time": "2022-08-28T18:03:44.311Z"
   },
   {
    "duration": 50,
    "start_time": "2022-08-28T18:03:44.327Z"
   },
   {
    "duration": 22,
    "start_time": "2022-08-28T18:03:44.379Z"
   },
   {
    "duration": 59,
    "start_time": "2022-08-28T18:03:44.404Z"
   },
   {
    "duration": 13,
    "start_time": "2022-08-28T18:03:44.465Z"
   },
   {
    "duration": 89,
    "start_time": "2022-08-28T18:03:44.481Z"
   },
   {
    "duration": 13,
    "start_time": "2022-08-28T18:03:44.571Z"
   },
   {
    "duration": 23,
    "start_time": "2022-08-28T18:03:44.586Z"
   },
   {
    "duration": 37,
    "start_time": "2022-08-28T18:03:44.611Z"
   },
   {
    "duration": 24,
    "start_time": "2022-08-28T18:03:44.650Z"
   },
   {
    "duration": 253,
    "start_time": "2022-08-28T18:03:44.676Z"
   },
   {
    "duration": 243,
    "start_time": "2022-08-28T18:03:44.931Z"
   },
   {
    "duration": 240,
    "start_time": "2022-08-28T18:03:45.176Z"
   },
   {
    "duration": 21,
    "start_time": "2022-08-28T18:03:45.418Z"
   },
   {
    "duration": 55,
    "start_time": "2022-08-28T18:03:45.441Z"
   },
   {
    "duration": 98,
    "start_time": "2022-08-28T18:03:45.497Z"
   },
   {
    "duration": 30,
    "start_time": "2022-08-28T18:03:45.597Z"
   },
   {
    "duration": 16,
    "start_time": "2022-08-28T18:03:45.647Z"
   },
   {
    "duration": 85,
    "start_time": "2022-08-28T18:03:45.665Z"
   },
   {
    "duration": 190,
    "start_time": "2022-08-28T18:03:45.752Z"
   },
   {
    "duration": 214,
    "start_time": "2022-08-28T18:03:45.944Z"
   },
   {
    "duration": 16,
    "start_time": "2022-08-28T18:03:46.160Z"
   },
   {
    "duration": 103,
    "start_time": "2022-08-28T18:03:46.177Z"
   },
   {
    "duration": 4,
    "start_time": "2022-08-28T18:03:46.281Z"
   },
   {
    "duration": 608,
    "start_time": "2022-08-28T18:03:46.286Z"
   },
   {
    "duration": 535,
    "start_time": "2022-08-28T18:03:46.896Z"
   },
   {
    "duration": 27,
    "start_time": "2022-08-28T18:03:47.432Z"
   },
   {
    "duration": 9,
    "start_time": "2022-08-28T18:03:47.461Z"
   },
   {
    "duration": 240,
    "start_time": "2022-08-28T18:03:47.472Z"
   },
   {
    "duration": 28825,
    "start_time": "2022-08-28T18:03:47.714Z"
   },
   {
    "duration": 7,
    "start_time": "2022-08-28T18:04:16.541Z"
   },
   {
    "duration": 309,
    "start_time": "2022-08-28T18:04:16.550Z"
   },
   {
    "duration": 306752,
    "start_time": "2022-08-28T18:04:16.863Z"
   },
   {
    "duration": 4,
    "start_time": "2022-08-28T18:09:23.617Z"
   },
   {
    "duration": 54095,
    "start_time": "2022-08-28T18:09:23.624Z"
   },
   {
    "duration": 3,
    "start_time": "2022-08-28T18:10:17.721Z"
   },
   {
    "duration": 629232,
    "start_time": "2022-08-28T18:10:17.726Z"
   },
   {
    "duration": 0,
    "start_time": "2022-08-28T18:20:46.959Z"
   },
   {
    "duration": 0,
    "start_time": "2022-08-28T18:20:46.961Z"
   },
   {
    "duration": 0,
    "start_time": "2022-08-28T18:20:46.962Z"
   },
   {
    "duration": 0,
    "start_time": "2022-08-28T18:20:46.962Z"
   },
   {
    "duration": 0,
    "start_time": "2022-08-28T18:20:46.964Z"
   },
   {
    "duration": 0,
    "start_time": "2022-08-28T18:20:46.965Z"
   },
   {
    "duration": 0,
    "start_time": "2022-08-28T18:20:46.966Z"
   },
   {
    "duration": 0,
    "start_time": "2022-08-28T18:20:46.966Z"
   },
   {
    "duration": 0,
    "start_time": "2022-08-28T18:20:46.967Z"
   },
   {
    "duration": 55,
    "start_time": "2022-08-28T18:34:14.469Z"
   },
   {
    "duration": 8,
    "start_time": "2022-08-28T18:35:53.320Z"
   },
   {
    "duration": 12,
    "start_time": "2022-08-28T18:42:15.274Z"
   },
   {
    "duration": 3,
    "start_time": "2022-08-28T18:42:23.688Z"
   },
   {
    "duration": 9,
    "start_time": "2022-08-28T18:42:24.473Z"
   },
   {
    "duration": 2,
    "start_time": "2022-08-28T18:42:37.465Z"
   },
   {
    "duration": 3,
    "start_time": "2022-08-28T18:42:38.607Z"
   },
   {
    "duration": 10,
    "start_time": "2022-08-28T18:42:48.131Z"
   },
   {
    "duration": 13,
    "start_time": "2022-08-28T18:43:08.879Z"
   },
   {
    "duration": 26172,
    "start_time": "2022-08-28T18:46:54.127Z"
   },
   {
    "duration": 333,
    "start_time": "2022-08-28T18:47:31.463Z"
   },
   {
    "duration": 4,
    "start_time": "2022-08-28T18:47:32.814Z"
   },
   {
    "duration": 3,
    "start_time": "2022-08-28T18:47:33.583Z"
   },
   {
    "duration": 5,
    "start_time": "2022-08-28T18:47:37.479Z"
   },
   {
    "duration": 101,
    "start_time": "2022-08-28T18:48:33.406Z"
   },
   {
    "duration": 2,
    "start_time": "2022-08-28T18:49:02.939Z"
   },
   {
    "duration": 70,
    "start_time": "2022-08-28T18:49:06.986Z"
   },
   {
    "duration": 3,
    "start_time": "2022-08-28T18:49:20.502Z"
   },
   {
    "duration": 132,
    "start_time": "2022-08-28T18:49:23.662Z"
   },
   {
    "duration": 22082,
    "start_time": "2022-08-28T18:49:55.183Z"
   },
   {
    "duration": 4,
    "start_time": "2022-08-28T18:51:24.750Z"
   },
   {
    "duration": 5,
    "start_time": "2022-08-28T18:51:30.610Z"
   },
   {
    "duration": 23598,
    "start_time": "2022-08-28T18:54:59.450Z"
   },
   {
    "duration": 23102,
    "start_time": "2022-08-28T18:55:56.949Z"
   },
   {
    "duration": 203,
    "start_time": "2022-08-28T18:56:35.574Z"
   },
   {
    "duration": 22168,
    "start_time": "2022-08-28T18:56:36.469Z"
   },
   {
    "duration": 10,
    "start_time": "2022-08-28T18:57:22.425Z"
   },
   {
    "duration": 10,
    "start_time": "2022-08-28T18:57:32.509Z"
   },
   {
    "duration": 9,
    "start_time": "2022-08-28T18:57:39.099Z"
   },
   {
    "duration": 9,
    "start_time": "2022-08-28T18:57:47.818Z"
   },
   {
    "duration": 5,
    "start_time": "2022-08-28T18:57:50.925Z"
   },
   {
    "duration": 9,
    "start_time": "2022-08-28T18:58:04.169Z"
   },
   {
    "duration": 9,
    "start_time": "2022-08-28T18:58:18.913Z"
   },
   {
    "duration": 762,
    "start_time": "2022-08-28T18:58:19.317Z"
   },
   {
    "duration": 1072,
    "start_time": "2022-08-28T18:58:20.081Z"
   },
   {
    "duration": 5,
    "start_time": "2022-08-28T18:58:21.156Z"
   },
   {
    "duration": 46,
    "start_time": "2022-08-28T18:58:21.163Z"
   },
   {
    "duration": 3,
    "start_time": "2022-08-28T18:58:21.211Z"
   },
   {
    "duration": 11,
    "start_time": "2022-08-28T18:58:21.293Z"
   },
   {
    "duration": 223,
    "start_time": "2022-08-28T18:58:21.881Z"
   },
   {
    "duration": 11,
    "start_time": "2022-08-28T18:58:22.461Z"
   },
   {
    "duration": 32,
    "start_time": "2022-08-28T18:58:23.197Z"
   },
   {
    "duration": 22,
    "start_time": "2022-08-28T18:58:23.757Z"
   },
   {
    "duration": 35,
    "start_time": "2022-08-28T18:58:24.114Z"
   },
   {
    "duration": 14,
    "start_time": "2022-08-28T18:58:24.509Z"
   },
   {
    "duration": 64,
    "start_time": "2022-08-28T18:58:24.897Z"
   },
   {
    "duration": 11,
    "start_time": "2022-08-28T18:58:25.481Z"
   },
   {
    "duration": 16,
    "start_time": "2022-08-28T18:58:25.670Z"
   },
   {
    "duration": 22,
    "start_time": "2022-08-28T18:58:26.049Z"
   },
   {
    "duration": 24,
    "start_time": "2022-08-28T18:58:26.873Z"
   },
   {
    "duration": 235,
    "start_time": "2022-08-28T18:58:27.357Z"
   },
   {
    "duration": 259,
    "start_time": "2022-08-28T18:58:27.594Z"
   },
   {
    "duration": 241,
    "start_time": "2022-08-28T18:58:27.855Z"
   },
   {
    "duration": 18,
    "start_time": "2022-08-28T18:58:28.205Z"
   },
   {
    "duration": 64,
    "start_time": "2022-08-28T18:58:29.041Z"
   },
   {
    "duration": 81,
    "start_time": "2022-08-28T18:58:29.429Z"
   },
   {
    "duration": 32,
    "start_time": "2022-08-28T18:58:29.633Z"
   },
   {
    "duration": 12,
    "start_time": "2022-08-28T18:58:29.849Z"
   },
   {
    "duration": 74,
    "start_time": "2022-08-28T18:58:30.051Z"
   },
   {
    "duration": 170,
    "start_time": "2022-08-28T18:58:30.557Z"
   },
   {
    "duration": 182,
    "start_time": "2022-08-28T18:58:31.453Z"
   },
   {
    "duration": 11,
    "start_time": "2022-08-28T18:58:32.245Z"
   },
   {
    "duration": 83,
    "start_time": "2022-08-28T18:58:33.106Z"
   },
   {
    "duration": 3,
    "start_time": "2022-08-28T18:58:33.306Z"
   },
   {
    "duration": 515,
    "start_time": "2022-08-28T18:58:33.857Z"
   },
   {
    "duration": 433,
    "start_time": "2022-08-28T18:58:34.374Z"
   },
   {
    "duration": 31,
    "start_time": "2022-08-28T18:58:34.809Z"
   },
   {
    "duration": 2143,
    "start_time": "2022-08-28T18:58:40.990Z"
   },
   {
    "duration": 6,
    "start_time": "2022-08-28T18:59:03.997Z"
   },
   {
    "duration": 4,
    "start_time": "2022-08-28T18:59:09.945Z"
   },
   {
    "duration": 3,
    "start_time": "2022-08-28T18:59:21.819Z"
   },
   {
    "duration": 3,
    "start_time": "2022-08-28T18:59:22.371Z"
   },
   {
    "duration": 3,
    "start_time": "2022-08-28T18:59:22.783Z"
   },
   {
    "duration": 4,
    "start_time": "2022-08-28T18:59:23.328Z"
   },
   {
    "duration": 4,
    "start_time": "2022-08-28T18:59:29.128Z"
   },
   {
    "duration": 137,
    "start_time": "2022-08-28T18:59:40.187Z"
   },
   {
    "duration": 205,
    "start_time": "2022-08-28T18:59:57.547Z"
   },
   {
    "duration": 133,
    "start_time": "2022-08-28T19:00:09.183Z"
   },
   {
    "duration": 2753,
    "start_time": "2022-08-28T19:00:19.291Z"
   },
   {
    "duration": 1192,
    "start_time": "2022-08-28T19:00:22.046Z"
   },
   {
    "duration": 1262,
    "start_time": "2022-08-28T19:00:23.240Z"
   },
   {
    "duration": 5,
    "start_time": "2022-08-28T19:00:24.504Z"
   },
   {
    "duration": 54,
    "start_time": "2022-08-28T19:00:24.511Z"
   },
   {
    "duration": 4,
    "start_time": "2022-08-28T19:00:24.567Z"
   },
   {
    "duration": 13,
    "start_time": "2022-08-28T19:00:24.572Z"
   },
   {
    "duration": 289,
    "start_time": "2022-08-28T19:00:24.587Z"
   },
   {
    "duration": 11,
    "start_time": "2022-08-28T19:00:24.878Z"
   },
   {
    "duration": 52,
    "start_time": "2022-08-28T19:00:24.891Z"
   },
   {
    "duration": 25,
    "start_time": "2022-08-28T19:00:24.946Z"
   },
   {
    "duration": 39,
    "start_time": "2022-08-28T19:00:25.407Z"
   },
   {
    "duration": 13,
    "start_time": "2022-08-28T19:00:25.899Z"
   },
   {
    "duration": 67,
    "start_time": "2022-08-28T19:00:26.419Z"
   },
   {
    "duration": 12,
    "start_time": "2022-08-28T19:00:27.079Z"
   },
   {
    "duration": 13,
    "start_time": "2022-08-28T19:00:27.307Z"
   },
   {
    "duration": 25,
    "start_time": "2022-08-28T19:00:27.799Z"
   },
   {
    "duration": 24,
    "start_time": "2022-08-28T19:00:28.747Z"
   },
   {
    "duration": 246,
    "start_time": "2022-08-28T19:00:29.231Z"
   },
   {
    "duration": 232,
    "start_time": "2022-08-28T19:00:29.479Z"
   },
   {
    "duration": 250,
    "start_time": "2022-08-28T19:00:29.713Z"
   },
   {
    "duration": 24,
    "start_time": "2022-08-28T19:00:30.167Z"
   },
   {
    "duration": 38,
    "start_time": "2022-08-28T19:00:31.308Z"
   },
   {
    "duration": 74,
    "start_time": "2022-08-28T19:00:31.596Z"
   },
   {
    "duration": 69,
    "start_time": "2022-08-28T19:00:31.848Z"
   },
   {
    "duration": 11,
    "start_time": "2022-08-28T19:00:32.063Z"
   },
   {
    "duration": 190,
    "start_time": "2022-08-28T19:00:32.272Z"
   },
   {
    "duration": 154,
    "start_time": "2022-08-28T19:00:32.788Z"
   },
   {
    "duration": 182,
    "start_time": "2022-08-28T19:00:33.368Z"
   },
   {
    "duration": 10,
    "start_time": "2022-08-28T19:00:33.931Z"
   },
   {
    "duration": 81,
    "start_time": "2022-08-28T19:00:35.171Z"
   },
   {
    "duration": 2,
    "start_time": "2022-08-28T19:00:35.391Z"
   },
   {
    "duration": 541,
    "start_time": "2022-08-28T19:00:36.007Z"
   },
   {
    "duration": 377,
    "start_time": "2022-08-28T19:00:36.550Z"
   },
   {
    "duration": 26,
    "start_time": "2022-08-28T19:00:36.929Z"
   },
   {
    "duration": 2414,
    "start_time": "2022-08-28T19:00:37.651Z"
   },
   {
    "duration": 498,
    "start_time": "2022-08-28T19:00:40.068Z"
   },
   {
    "duration": 3,
    "start_time": "2022-08-28T19:00:41.659Z"
   },
   {
    "duration": 3,
    "start_time": "2022-08-28T19:00:41.971Z"
   },
   {
    "duration": 5,
    "start_time": "2022-08-28T19:06:08.255Z"
   },
   {
    "duration": 145,
    "start_time": "2022-08-28T19:06:10.341Z"
   },
   {
    "duration": 210,
    "start_time": "2022-08-28T19:09:01.578Z"
   },
   {
    "duration": 33357,
    "start_time": "2022-08-28T19:09:02.982Z"
   },
   {
    "duration": 10,
    "start_time": "2022-08-28T19:10:21.717Z"
   },
   {
    "duration": 4,
    "start_time": "2022-08-28T19:11:08.425Z"
   },
   {
    "duration": 9,
    "start_time": "2022-08-28T19:11:11.731Z"
   },
   {
    "duration": 13,
    "start_time": "2022-08-28T19:11:33.461Z"
   },
   {
    "duration": 11,
    "start_time": "2022-08-28T19:11:38.177Z"
   },
   {
    "duration": 10,
    "start_time": "2022-08-28T19:14:03.917Z"
   },
   {
    "duration": 5,
    "start_time": "2022-08-28T19:14:08.284Z"
   },
   {
    "duration": 107,
    "start_time": "2022-08-28T19:14:09.177Z"
   },
   {
    "duration": 5,
    "start_time": "2022-08-28T19:15:15.025Z"
   },
   {
    "duration": 13,
    "start_time": "2022-08-28T19:15:16.620Z"
   },
   {
    "duration": 4,
    "start_time": "2022-08-28T19:21:29.300Z"
   },
   {
    "duration": 10,
    "start_time": "2022-08-28T19:21:32.683Z"
   },
   {
    "duration": 206,
    "start_time": "2022-08-28T19:21:36.376Z"
   },
   {
    "duration": 24484,
    "start_time": "2022-08-28T19:21:37.159Z"
   },
   {
    "duration": 163,
    "start_time": "2022-08-28T19:22:51.814Z"
   },
   {
    "duration": 1287,
    "start_time": "2022-08-28T19:23:02.226Z"
   },
   {
    "duration": 916,
    "start_time": "2022-08-28T19:23:03.515Z"
   },
   {
    "duration": 1162,
    "start_time": "2022-08-28T19:23:04.433Z"
   },
   {
    "duration": 5,
    "start_time": "2022-08-28T19:23:05.597Z"
   },
   {
    "duration": 56,
    "start_time": "2022-08-28T19:23:05.604Z"
   },
   {
    "duration": 4,
    "start_time": "2022-08-28T19:23:05.662Z"
   },
   {
    "duration": 17,
    "start_time": "2022-08-28T19:23:05.667Z"
   },
   {
    "duration": 251,
    "start_time": "2022-08-28T19:23:06.450Z"
   },
   {
    "duration": 10,
    "start_time": "2022-08-28T19:23:07.154Z"
   },
   {
    "duration": 27,
    "start_time": "2022-08-28T19:23:07.582Z"
   },
   {
    "duration": 23,
    "start_time": "2022-08-28T19:23:08.282Z"
   },
   {
    "duration": 37,
    "start_time": "2022-08-28T19:23:08.687Z"
   },
   {
    "duration": 11,
    "start_time": "2022-08-28T19:23:09.147Z"
   },
   {
    "duration": 62,
    "start_time": "2022-08-28T19:23:09.574Z"
   },
   {
    "duration": 12,
    "start_time": "2022-08-28T19:23:10.258Z"
   },
   {
    "duration": 13,
    "start_time": "2022-08-28T19:23:10.494Z"
   },
   {
    "duration": 25,
    "start_time": "2022-08-28T19:23:10.959Z"
   },
   {
    "duration": 24,
    "start_time": "2022-08-28T19:23:11.860Z"
   },
   {
    "duration": 215,
    "start_time": "2022-08-28T19:23:12.334Z"
   },
   {
    "duration": 218,
    "start_time": "2022-08-28T19:23:12.551Z"
   },
   {
    "duration": 212,
    "start_time": "2022-08-28T19:23:12.789Z"
   },
   {
    "duration": 23,
    "start_time": "2022-08-28T19:23:13.275Z"
   },
   {
    "duration": 36,
    "start_time": "2022-08-28T19:23:14.391Z"
   },
   {
    "duration": 74,
    "start_time": "2022-08-28T19:23:14.646Z"
   },
   {
    "duration": 65,
    "start_time": "2022-08-28T19:23:14.871Z"
   },
   {
    "duration": 11,
    "start_time": "2022-08-28T19:23:15.125Z"
   },
   {
    "duration": 196,
    "start_time": "2022-08-28T19:23:15.282Z"
   },
   {
    "duration": 196,
    "start_time": "2022-08-28T19:23:15.707Z"
   },
   {
    "duration": 178,
    "start_time": "2022-08-28T19:23:16.127Z"
   },
   {
    "duration": 10,
    "start_time": "2022-08-28T19:23:16.518Z"
   },
   {
    "duration": 81,
    "start_time": "2022-08-28T19:23:20.027Z"
   },
   {
    "duration": 3,
    "start_time": "2022-08-28T19:23:20.527Z"
   },
   {
    "duration": 125,
    "start_time": "2022-08-28T19:23:21.758Z"
   },
   {
    "duration": 13,
    "start_time": "2022-08-28T19:23:22.287Z"
   },
   {
    "duration": 25,
    "start_time": "2022-08-28T19:23:22.824Z"
   },
   {
    "duration": 2248,
    "start_time": "2022-08-28T19:23:25.505Z"
   },
   {
    "duration": 265,
    "start_time": "2022-08-28T19:23:32.087Z"
   },
   {
    "duration": 3,
    "start_time": "2022-08-28T19:23:33.086Z"
   },
   {
    "duration": 3,
    "start_time": "2022-08-28T19:23:34.543Z"
   },
   {
    "duration": 5,
    "start_time": "2022-08-28T19:23:35.424Z"
   },
   {
    "duration": 15,
    "start_time": "2022-08-28T19:23:37.334Z"
   },
   {
    "duration": 28,
    "start_time": "2022-08-28T19:23:39.475Z"
   },
   {
    "duration": 56,
    "start_time": "2022-08-28T19:23:40.122Z"
   },
   {
    "duration": 3,
    "start_time": "2022-08-28T19:24:54.470Z"
   },
   {
    "duration": 425,
    "start_time": "2022-08-28T19:24:56.126Z"
   },
   {
    "duration": 315,
    "start_time": "2022-08-28T19:24:57.446Z"
   },
   {
    "duration": 19,
    "start_time": "2022-08-28T19:24:58.807Z"
   },
   {
    "duration": 2352,
    "start_time": "2022-08-28T19:25:01.126Z"
   },
   {
    "duration": 4,
    "start_time": "2022-08-28T19:25:04.146Z"
   },
   {
    "duration": 2,
    "start_time": "2022-08-28T19:25:04.920Z"
   },
   {
    "duration": 2,
    "start_time": "2022-08-28T19:25:05.271Z"
   },
   {
    "duration": 5,
    "start_time": "2022-08-28T19:25:06.095Z"
   },
   {
    "duration": 12,
    "start_time": "2022-08-28T19:25:07.575Z"
   },
   {
    "duration": 195,
    "start_time": "2022-08-28T19:25:09.874Z"
   },
   {
    "duration": 23651,
    "start_time": "2022-08-28T19:25:11.038Z"
   },
   {
    "duration": 23373,
    "start_time": "2022-08-28T19:27:24.766Z"
   },
   {
    "duration": 4,
    "start_time": "2022-08-28T19:28:20.958Z"
   },
   {
    "duration": 8,
    "start_time": "2022-08-28T19:28:28.128Z"
   },
   {
    "duration": 23351,
    "start_time": "2022-08-28T19:28:28.190Z"
   },
   {
    "duration": 6,
    "start_time": "2022-08-28T19:28:51.544Z"
   },
   {
    "duration": 248,
    "start_time": "2022-08-28T19:32:02.885Z"
   },
   {
    "duration": 71,
    "start_time": "2022-08-28T19:32:03.845Z"
   },
   {
    "duration": 80,
    "start_time": "2022-08-28T19:32:25.833Z"
   },
   {
    "duration": 10,
    "start_time": "2022-08-28T19:33:33.569Z"
   },
   {
    "duration": 11,
    "start_time": "2022-08-28T19:33:40.322Z"
   },
   {
    "duration": 246,
    "start_time": "2022-08-28T19:34:14.825Z"
   },
   {
    "duration": 23664,
    "start_time": "2022-08-28T19:34:15.633Z"
   },
   {
    "duration": 5,
    "start_time": "2022-08-28T19:37:08.454Z"
   },
   {
    "duration": 99,
    "start_time": "2022-08-28T19:37:09.947Z"
   },
   {
    "duration": 245,
    "start_time": "2022-08-28T19:45:57.518Z"
   },
   {
    "duration": 22983,
    "start_time": "2022-08-28T19:45:58.112Z"
   },
   {
    "duration": 1334,
    "start_time": "2022-08-28T19:46:35.458Z"
   },
   {
    "duration": 905,
    "start_time": "2022-08-28T19:46:36.794Z"
   },
   {
    "duration": 1158,
    "start_time": "2022-08-28T19:46:37.701Z"
   },
   {
    "duration": 7,
    "start_time": "2022-08-28T19:46:38.861Z"
   },
   {
    "duration": 61,
    "start_time": "2022-08-28T19:46:38.869Z"
   },
   {
    "duration": 5,
    "start_time": "2022-08-28T19:46:38.937Z"
   },
   {
    "duration": 18,
    "start_time": "2022-08-28T19:46:38.945Z"
   },
   {
    "duration": 319,
    "start_time": "2022-08-28T19:46:38.965Z"
   },
   {
    "duration": 10,
    "start_time": "2022-08-28T19:46:39.286Z"
   },
   {
    "duration": 35,
    "start_time": "2022-08-28T19:46:39.554Z"
   },
   {
    "duration": 23,
    "start_time": "2022-08-28T19:46:40.113Z"
   },
   {
    "duration": 36,
    "start_time": "2022-08-28T19:46:40.525Z"
   },
   {
    "duration": 12,
    "start_time": "2022-08-28T19:46:40.901Z"
   },
   {
    "duration": 60,
    "start_time": "2022-08-28T19:46:41.282Z"
   },
   {
    "duration": 11,
    "start_time": "2022-08-28T19:46:42.078Z"
   },
   {
    "duration": 11,
    "start_time": "2022-08-28T19:46:42.258Z"
   },
   {
    "duration": 25,
    "start_time": "2022-08-28T19:46:42.642Z"
   },
   {
    "duration": 23,
    "start_time": "2022-08-28T19:46:43.458Z"
   },
   {
    "duration": 227,
    "start_time": "2022-08-28T19:46:43.913Z"
   },
   {
    "duration": 224,
    "start_time": "2022-08-28T19:46:44.142Z"
   },
   {
    "duration": 213,
    "start_time": "2022-08-28T19:46:44.368Z"
   },
   {
    "duration": 23,
    "start_time": "2022-08-28T19:46:44.710Z"
   },
   {
    "duration": 35,
    "start_time": "2022-08-28T19:46:45.570Z"
   },
   {
    "duration": 79,
    "start_time": "2022-08-28T19:46:45.798Z"
   },
   {
    "duration": 58,
    "start_time": "2022-08-28T19:46:45.978Z"
   },
   {
    "duration": 11,
    "start_time": "2022-08-28T19:46:46.186Z"
   },
   {
    "duration": 196,
    "start_time": "2022-08-28T19:46:46.390Z"
   },
   {
    "duration": 160,
    "start_time": "2022-08-28T19:46:46.798Z"
   },
   {
    "duration": 173,
    "start_time": "2022-08-28T19:46:47.230Z"
   },
   {
    "duration": 11,
    "start_time": "2022-08-28T19:46:47.654Z"
   },
   {
    "duration": 84,
    "start_time": "2022-08-28T19:46:48.497Z"
   },
   {
    "duration": 3,
    "start_time": "2022-08-28T19:46:48.706Z"
   },
   {
    "duration": 525,
    "start_time": "2022-08-28T19:46:49.566Z"
   },
   {
    "duration": 388,
    "start_time": "2022-08-28T19:46:50.093Z"
   },
   {
    "duration": 19,
    "start_time": "2022-08-28T19:46:50.482Z"
   },
   {
    "duration": 2183,
    "start_time": "2022-08-28T19:46:51.558Z"
   },
   {
    "duration": 269,
    "start_time": "2022-08-28T19:46:54.066Z"
   },
   {
    "duration": 3,
    "start_time": "2022-08-28T19:46:56.449Z"
   },
   {
    "duration": 3,
    "start_time": "2022-08-28T19:46:57.393Z"
   },
   {
    "duration": 4,
    "start_time": "2022-08-28T19:46:59.378Z"
   },
   {
    "duration": 153,
    "start_time": "2022-08-28T19:47:01.529Z"
   },
   {
    "duration": 249,
    "start_time": "2022-08-28T19:47:19.215Z"
   },
   {
    "duration": 24606,
    "start_time": "2022-08-28T19:47:19.929Z"
   },
   {
    "duration": 1287,
    "start_time": "2022-08-28T19:51:16.175Z"
   },
   {
    "duration": 897,
    "start_time": "2022-08-28T19:51:17.464Z"
   },
   {
    "duration": 1235,
    "start_time": "2022-08-28T19:51:18.363Z"
   },
   {
    "duration": 6,
    "start_time": "2022-08-28T19:51:19.601Z"
   },
   {
    "duration": 62,
    "start_time": "2022-08-28T19:51:19.608Z"
   },
   {
    "duration": 4,
    "start_time": "2022-08-28T19:51:19.672Z"
   },
   {
    "duration": 22,
    "start_time": "2022-08-28T19:51:19.677Z"
   },
   {
    "duration": 295,
    "start_time": "2022-08-28T19:51:19.701Z"
   },
   {
    "duration": 9,
    "start_time": "2022-08-28T19:51:19.998Z"
   },
   {
    "duration": 51,
    "start_time": "2022-08-28T19:51:20.010Z"
   },
   {
    "duration": 22,
    "start_time": "2022-08-28T19:51:20.063Z"
   },
   {
    "duration": 52,
    "start_time": "2022-08-28T19:51:20.086Z"
   },
   {
    "duration": 12,
    "start_time": "2022-08-28T19:51:20.140Z"
   },
   {
    "duration": 66,
    "start_time": "2022-08-28T19:51:20.153Z"
   },
   {
    "duration": 21,
    "start_time": "2022-08-28T19:51:20.221Z"
   },
   {
    "duration": 11,
    "start_time": "2022-08-28T19:51:20.244Z"
   },
   {
    "duration": 28,
    "start_time": "2022-08-28T19:51:20.257Z"
   },
   {
    "duration": 54,
    "start_time": "2022-08-28T19:51:20.287Z"
   },
   {
    "duration": 220,
    "start_time": "2022-08-28T19:51:20.343Z"
   },
   {
    "duration": 214,
    "start_time": "2022-08-28T19:51:20.565Z"
   },
   {
    "duration": 215,
    "start_time": "2022-08-28T19:51:20.781Z"
   },
   {
    "duration": 23,
    "start_time": "2022-08-28T19:51:20.998Z"
   },
   {
    "duration": 45,
    "start_time": "2022-08-28T19:51:21.023Z"
   },
   {
    "duration": 85,
    "start_time": "2022-08-28T19:51:21.070Z"
   },
   {
    "duration": 62,
    "start_time": "2022-08-28T19:51:21.156Z"
   },
   {
    "duration": 24,
    "start_time": "2022-08-28T19:51:21.219Z"
   },
   {
    "duration": 202,
    "start_time": "2022-08-28T19:51:21.245Z"
   },
   {
    "duration": 163,
    "start_time": "2022-08-28T19:51:21.451Z"
   },
   {
    "duration": 191,
    "start_time": "2022-08-28T19:51:21.616Z"
   },
   {
    "duration": 10,
    "start_time": "2022-08-28T19:51:21.808Z"
   },
   {
    "duration": 91,
    "start_time": "2022-08-28T19:51:21.820Z"
   },
   {
    "duration": 3,
    "start_time": "2022-08-28T19:51:21.913Z"
   },
   {
    "duration": 531,
    "start_time": "2022-08-28T19:51:21.917Z"
   },
   {
    "duration": 386,
    "start_time": "2022-08-28T19:51:22.450Z"
   },
   {
    "duration": 20,
    "start_time": "2022-08-28T19:51:22.838Z"
   },
   {
    "duration": 9,
    "start_time": "2022-08-28T19:51:22.859Z"
   },
   {
    "duration": 224,
    "start_time": "2022-08-28T19:51:22.869Z"
   },
   {
    "duration": 29044,
    "start_time": "2022-08-28T19:51:23.095Z"
   },
   {
    "duration": 97,
    "start_time": "2022-08-28T19:51:52.142Z"
   },
   {
    "duration": 278,
    "start_time": "2022-08-28T19:51:52.241Z"
   },
   {
    "duration": 306960,
    "start_time": "2022-08-28T19:51:52.521Z"
   },
   {
    "duration": 3,
    "start_time": "2022-08-28T19:56:59.483Z"
   },
   {
    "duration": 54413,
    "start_time": "2022-08-28T19:56:59.487Z"
   },
   {
    "duration": 4,
    "start_time": "2022-08-28T19:57:53.902Z"
   },
   {
    "duration": 118150,
    "start_time": "2022-08-28T19:57:53.908Z"
   },
   {
    "duration": 80,
    "start_time": "2022-08-28T19:59:52.060Z"
   },
   {
    "duration": 7805,
    "start_time": "2022-08-28T19:59:52.142Z"
   },
   {
    "duration": 151,
    "start_time": "2022-08-28T19:59:59.948Z"
   },
   {
    "duration": 0,
    "start_time": "2022-08-28T20:00:00.100Z"
   },
   {
    "duration": 0,
    "start_time": "2022-08-28T20:00:00.101Z"
   },
   {
    "duration": 0,
    "start_time": "2022-08-28T20:00:00.102Z"
   },
   {
    "duration": 0,
    "start_time": "2022-08-28T20:00:00.103Z"
   },
   {
    "duration": 0,
    "start_time": "2022-08-28T20:00:00.104Z"
   },
   {
    "duration": 0,
    "start_time": "2022-08-28T20:00:00.105Z"
   },
   {
    "duration": 8,
    "start_time": "2022-08-28T20:19:44.732Z"
   },
   {
    "duration": 3,
    "start_time": "2022-08-28T20:32:24.328Z"
   },
   {
    "duration": 2275,
    "start_time": "2022-08-28T20:37:07.431Z"
   },
   {
    "duration": 262,
    "start_time": "2022-08-28T20:37:13.198Z"
   },
   {
    "duration": 2,
    "start_time": "2022-08-28T20:37:14.743Z"
   },
   {
    "duration": 3,
    "start_time": "2022-08-28T20:37:15.427Z"
   },
   {
    "duration": 5,
    "start_time": "2022-08-28T20:37:19.395Z"
   },
   {
    "duration": 4,
    "start_time": "2022-08-28T20:37:59.010Z"
   },
   {
    "duration": 5,
    "start_time": "2022-08-28T20:39:41.310Z"
   },
   {
    "duration": 124,
    "start_time": "2022-08-28T20:39:45.991Z"
   },
   {
    "duration": 26656,
    "start_time": "2022-08-28T20:40:06.398Z"
   },
   {
    "duration": 4,
    "start_time": "2022-08-28T20:42:04.429Z"
   },
   {
    "duration": 103,
    "start_time": "2022-08-28T20:42:07.742Z"
   },
   {
    "duration": 24889,
    "start_time": "2022-08-28T20:42:11.923Z"
   },
   {
    "duration": 8,
    "start_time": "2022-08-28T20:44:34.765Z"
   },
   {
    "duration": 24225,
    "start_time": "2022-08-28T20:44:43.322Z"
   },
   {
    "duration": 48,
    "start_time": "2022-08-28T20:47:19.121Z"
   },
   {
    "duration": 51,
    "start_time": "2022-08-28T20:47:27.058Z"
   },
   {
    "duration": 6,
    "start_time": "2022-08-28T20:47:34.753Z"
   },
   {
    "duration": 1284,
    "start_time": "2022-08-28T20:51:29.694Z"
   },
   {
    "duration": 884,
    "start_time": "2022-08-28T20:51:30.980Z"
   },
   {
    "duration": 1142,
    "start_time": "2022-08-28T20:51:31.866Z"
   },
   {
    "duration": 5,
    "start_time": "2022-08-28T20:51:33.009Z"
   },
   {
    "duration": 55,
    "start_time": "2022-08-28T20:51:33.016Z"
   },
   {
    "duration": 3,
    "start_time": "2022-08-28T20:51:33.073Z"
   },
   {
    "duration": 13,
    "start_time": "2022-08-28T20:51:33.078Z"
   },
   {
    "duration": 273,
    "start_time": "2022-08-28T20:51:33.092Z"
   },
   {
    "duration": 9,
    "start_time": "2022-08-28T20:51:33.367Z"
   },
   {
    "duration": 28,
    "start_time": "2022-08-28T20:51:33.378Z"
   },
   {
    "duration": 38,
    "start_time": "2022-08-28T20:51:33.408Z"
   },
   {
    "duration": 40,
    "start_time": "2022-08-28T20:51:33.447Z"
   },
   {
    "duration": 11,
    "start_time": "2022-08-28T20:51:33.489Z"
   },
   {
    "duration": 79,
    "start_time": "2022-08-28T20:51:33.502Z"
   },
   {
    "duration": 11,
    "start_time": "2022-08-28T20:51:33.583Z"
   },
   {
    "duration": 12,
    "start_time": "2022-08-28T20:51:33.596Z"
   },
   {
    "duration": 46,
    "start_time": "2022-08-28T20:51:33.610Z"
   },
   {
    "duration": 23,
    "start_time": "2022-08-28T20:51:33.658Z"
   },
   {
    "duration": 239,
    "start_time": "2022-08-28T20:51:33.683Z"
   },
   {
    "duration": 220,
    "start_time": "2022-08-28T20:51:33.924Z"
   },
   {
    "duration": 238,
    "start_time": "2022-08-28T20:51:34.146Z"
   },
   {
    "duration": 24,
    "start_time": "2022-08-28T20:51:34.385Z"
   },
   {
    "duration": 46,
    "start_time": "2022-08-28T20:51:34.411Z"
   },
   {
    "duration": 80,
    "start_time": "2022-08-28T20:51:34.459Z"
   },
   {
    "duration": 60,
    "start_time": "2022-08-28T20:51:34.541Z"
   },
   {
    "duration": 11,
    "start_time": "2022-08-28T20:51:34.602Z"
   },
   {
    "duration": 207,
    "start_time": "2022-08-28T20:51:34.614Z"
   },
   {
    "duration": 189,
    "start_time": "2022-08-28T20:51:34.825Z"
   },
   {
    "duration": 183,
    "start_time": "2022-08-28T20:51:35.016Z"
   },
   {
    "duration": 10,
    "start_time": "2022-08-28T20:51:35.200Z"
   },
   {
    "duration": 100,
    "start_time": "2022-08-28T20:51:35.212Z"
   },
   {
    "duration": 2,
    "start_time": "2022-08-28T20:51:35.314Z"
   },
   {
    "duration": 540,
    "start_time": "2022-08-28T20:51:35.318Z"
   },
   {
    "duration": 404,
    "start_time": "2022-08-28T20:51:35.860Z"
   },
   {
    "duration": 21,
    "start_time": "2022-08-28T20:51:36.266Z"
   },
   {
    "duration": 5,
    "start_time": "2022-08-28T20:51:36.289Z"
   },
   {
    "duration": 10,
    "start_time": "2022-08-28T20:51:36.295Z"
   },
   {
    "duration": 233,
    "start_time": "2022-08-28T20:51:36.307Z"
   },
   {
    "duration": 24106,
    "start_time": "2022-08-28T20:51:36.541Z"
   },
   {
    "duration": 94,
    "start_time": "2022-08-28T20:52:00.648Z"
   },
   {
    "duration": 344,
    "start_time": "2022-08-28T20:52:00.745Z"
   },
   {
    "duration": 296719,
    "start_time": "2022-08-28T20:52:01.091Z"
   },
   {
    "duration": 3,
    "start_time": "2022-08-28T20:56:57.812Z"
   },
   {
    "duration": 53583,
    "start_time": "2022-08-28T20:56:57.816Z"
   },
   {
    "duration": 4,
    "start_time": "2022-08-28T20:57:51.401Z"
   },
   {
    "duration": 84047,
    "start_time": "2022-08-28T20:57:51.407Z"
   },
   {
    "duration": 3,
    "start_time": "2022-08-28T20:59:15.456Z"
   },
   {
    "duration": 10583,
    "start_time": "2022-08-28T20:59:15.460Z"
   },
   {
    "duration": 8,
    "start_time": "2022-08-28T20:59:26.045Z"
   },
   {
    "duration": 88,
    "start_time": "2022-08-28T20:59:26.054Z"
   },
   {
    "duration": 94,
    "start_time": "2022-08-28T20:59:26.144Z"
   },
   {
    "duration": 157,
    "start_time": "2022-08-28T20:59:26.241Z"
   },
   {
    "duration": 145,
    "start_time": "2022-08-28T20:59:26.399Z"
   },
   {
    "duration": 1299,
    "start_time": "2022-08-28T20:59:26.545Z"
   },
   {
    "duration": 134,
    "start_time": "2022-08-29T07:06:43.938Z"
   },
   {
    "duration": 1930,
    "start_time": "2022-08-29T07:06:59.116Z"
   },
   {
    "duration": 3323,
    "start_time": "2022-08-29T07:07:01.048Z"
   },
   {
    "duration": 1620,
    "start_time": "2022-08-29T07:07:04.374Z"
   },
   {
    "duration": 8,
    "start_time": "2022-08-29T07:07:05.996Z"
   },
   {
    "duration": 60,
    "start_time": "2022-08-29T07:07:06.007Z"
   },
   {
    "duration": 14,
    "start_time": "2022-08-29T07:07:06.069Z"
   },
   {
    "duration": 17,
    "start_time": "2022-08-29T07:07:06.085Z"
   },
   {
    "duration": 492,
    "start_time": "2022-08-29T07:07:06.104Z"
   },
   {
    "duration": 15,
    "start_time": "2022-08-29T07:07:06.598Z"
   },
   {
    "duration": 35,
    "start_time": "2022-08-29T07:07:06.617Z"
   },
   {
    "duration": 45,
    "start_time": "2022-08-29T07:07:06.656Z"
   },
   {
    "duration": 48,
    "start_time": "2022-08-29T07:07:06.704Z"
   },
   {
    "duration": 44,
    "start_time": "2022-08-29T07:07:06.755Z"
   },
   {
    "duration": 103,
    "start_time": "2022-08-29T07:07:06.802Z"
   },
   {
    "duration": 18,
    "start_time": "2022-08-29T07:07:06.907Z"
   },
   {
    "duration": 20,
    "start_time": "2022-08-29T07:07:06.928Z"
   },
   {
    "duration": 53,
    "start_time": "2022-08-29T07:07:06.952Z"
   },
   {
    "duration": 40,
    "start_time": "2022-08-29T07:07:07.007Z"
   },
   {
    "duration": 326,
    "start_time": "2022-08-29T07:07:07.049Z"
   },
   {
    "duration": 274,
    "start_time": "2022-08-29T07:07:07.377Z"
   },
   {
    "duration": 274,
    "start_time": "2022-08-29T07:07:07.653Z"
   },
   {
    "duration": 30,
    "start_time": "2022-08-29T07:07:07.930Z"
   },
   {
    "duration": 80,
    "start_time": "2022-08-29T07:07:07.963Z"
   },
   {
    "duration": 96,
    "start_time": "2022-08-29T07:07:08.045Z"
   },
   {
    "duration": 28,
    "start_time": "2022-08-29T07:07:08.143Z"
   },
   {
    "duration": 24,
    "start_time": "2022-08-29T07:07:08.173Z"
   },
   {
    "duration": 99,
    "start_time": "2022-08-29T07:07:08.199Z"
   },
   {
    "duration": 237,
    "start_time": "2022-08-29T07:07:08.306Z"
   },
   {
    "duration": 296,
    "start_time": "2022-08-29T07:07:08.545Z"
   },
   {
    "duration": 15,
    "start_time": "2022-08-29T07:07:08.843Z"
   },
   {
    "duration": 148,
    "start_time": "2022-08-29T07:07:08.861Z"
   },
   {
    "duration": 4,
    "start_time": "2022-08-29T07:07:09.011Z"
   },
   {
    "duration": 668,
    "start_time": "2022-08-29T07:07:09.018Z"
   },
   {
    "duration": 573,
    "start_time": "2022-08-29T07:07:09.687Z"
   },
   {
    "duration": 43,
    "start_time": "2022-08-29T07:07:10.262Z"
   },
   {
    "duration": 6,
    "start_time": "2022-08-29T07:07:10.307Z"
   },
   {
    "duration": 27,
    "start_time": "2022-08-29T07:07:10.315Z"
   },
   {
    "duration": 263,
    "start_time": "2022-08-29T07:07:10.344Z"
   },
   {
    "duration": 36987,
    "start_time": "2022-08-29T07:07:10.609Z"
   },
   {
    "duration": 9,
    "start_time": "2022-08-29T07:07:47.598Z"
   },
   {
    "duration": 363,
    "start_time": "2022-08-29T07:07:47.610Z"
   },
   {
    "duration": 339315,
    "start_time": "2022-08-29T07:07:47.975Z"
   },
   {
    "duration": 3,
    "start_time": "2022-08-29T07:13:27.292Z"
   },
   {
    "duration": 58675,
    "start_time": "2022-08-29T07:13:27.297Z"
   },
   {
    "duration": 5,
    "start_time": "2022-08-29T07:14:25.974Z"
   },
   {
    "duration": 54,
    "start_time": "2022-08-29T17:28:18.382Z"
   },
   {
    "duration": 1464,
    "start_time": "2022-08-29T17:28:27.987Z"
   },
   {
    "duration": 3225,
    "start_time": "2022-08-29T17:28:29.453Z"
   },
   {
    "duration": 1080,
    "start_time": "2022-08-29T17:28:32.679Z"
   },
   {
    "duration": 4,
    "start_time": "2022-08-29T17:28:33.762Z"
   },
   {
    "duration": 60,
    "start_time": "2022-08-29T17:28:33.768Z"
   },
   {
    "duration": 7,
    "start_time": "2022-08-29T17:28:33.830Z"
   },
   {
    "duration": 11,
    "start_time": "2022-08-29T17:28:40.899Z"
   },
   {
    "duration": 236,
    "start_time": "2022-08-29T17:28:41.591Z"
   },
   {
    "duration": 12,
    "start_time": "2022-08-29T17:28:42.437Z"
   },
   {
    "duration": 37,
    "start_time": "2022-08-29T17:28:42.899Z"
   },
   {
    "duration": 23,
    "start_time": "2022-08-29T17:28:43.519Z"
   },
   {
    "duration": 32,
    "start_time": "2022-08-29T17:28:43.935Z"
   },
   {
    "duration": 11,
    "start_time": "2022-08-29T17:28:44.342Z"
   },
   {
    "duration": 60,
    "start_time": "2022-08-29T17:28:44.746Z"
   },
   {
    "duration": 11,
    "start_time": "2022-08-29T17:28:45.346Z"
   },
   {
    "duration": 13,
    "start_time": "2022-08-29T17:28:45.543Z"
   },
   {
    "duration": 26,
    "start_time": "2022-08-29T17:28:45.979Z"
   },
   {
    "duration": 20,
    "start_time": "2022-08-29T17:28:48.179Z"
   },
   {
    "duration": 249,
    "start_time": "2022-08-29T17:28:48.791Z"
   },
   {
    "duration": 230,
    "start_time": "2022-08-29T17:28:49.219Z"
   },
   {
    "duration": 222,
    "start_time": "2022-08-29T17:28:49.583Z"
   },
   {
    "duration": 15,
    "start_time": "2022-08-29T17:28:50.303Z"
   },
   {
    "duration": 52,
    "start_time": "2022-08-29T17:28:51.519Z"
   },
   {
    "duration": 77,
    "start_time": "2022-08-29T17:28:51.707Z"
   },
   {
    "duration": 29,
    "start_time": "2022-08-29T17:28:51.908Z"
   },
   {
    "duration": 12,
    "start_time": "2022-08-29T17:28:52.099Z"
   },
   {
    "duration": 84,
    "start_time": "2022-08-29T17:28:52.291Z"
   },
   {
    "duration": 167,
    "start_time": "2022-08-29T17:28:52.691Z"
   },
   {
    "duration": 177,
    "start_time": "2022-08-29T17:28:53.128Z"
   },
   {
    "duration": 11,
    "start_time": "2022-08-29T17:28:53.547Z"
   },
   {
    "duration": 82,
    "start_time": "2022-08-29T17:28:54.823Z"
   },
   {
    "duration": 2,
    "start_time": "2022-08-29T17:28:56.099Z"
   },
   {
    "duration": 12,
    "start_time": "2022-08-29T17:28:58.996Z"
   },
   {
    "duration": 11,
    "start_time": "2022-08-29T17:29:59.803Z"
   },
   {
    "duration": 102,
    "start_time": "2022-08-29T17:30:34.919Z"
   },
   {
    "duration": 514,
    "start_time": "2022-08-29T17:30:42.407Z"
   },
   {
    "duration": 28,
    "start_time": "2022-08-29T17:30:46.923Z"
   },
   {
    "duration": 25,
    "start_time": "2022-08-29T17:31:10.522Z"
   },
   {
    "duration": 14,
    "start_time": "2022-08-29T17:32:07.903Z"
   },
   {
    "duration": 1368,
    "start_time": "2022-08-29T17:32:22.117Z"
   },
   {
    "duration": 744,
    "start_time": "2022-08-29T17:32:23.486Z"
   },
   {
    "duration": 1085,
    "start_time": "2022-08-29T17:32:24.239Z"
   },
   {
    "duration": 15,
    "start_time": "2022-08-29T17:32:25.327Z"
   },
   {
    "duration": 48,
    "start_time": "2022-08-29T17:32:25.344Z"
   },
   {
    "duration": 4,
    "start_time": "2022-08-29T17:32:25.711Z"
   },
   {
    "duration": 12,
    "start_time": "2022-08-29T17:32:25.884Z"
   },
   {
    "duration": 304,
    "start_time": "2022-08-29T17:32:26.432Z"
   },
   {
    "duration": 13,
    "start_time": "2022-08-29T17:32:26.972Z"
   },
   {
    "duration": 49,
    "start_time": "2022-08-29T17:32:27.343Z"
   },
   {
    "duration": 43,
    "start_time": "2022-08-29T17:32:27.901Z"
   },
   {
    "duration": 32,
    "start_time": "2022-08-29T17:32:28.251Z"
   },
   {
    "duration": 12,
    "start_time": "2022-08-29T17:32:28.650Z"
   },
   {
    "duration": 66,
    "start_time": "2022-08-29T17:32:29.020Z"
   },
   {
    "duration": 11,
    "start_time": "2022-08-29T17:32:29.596Z"
   },
   {
    "duration": 12,
    "start_time": "2022-08-29T17:32:30.120Z"
   },
   {
    "duration": 38,
    "start_time": "2022-08-29T17:32:33.424Z"
   },
   {
    "duration": 24,
    "start_time": "2022-08-29T17:32:34.476Z"
   },
   {
    "duration": 312,
    "start_time": "2022-08-29T17:32:37.424Z"
   },
   {
    "duration": 323,
    "start_time": "2022-08-29T17:32:37.739Z"
   },
   {
    "duration": 268,
    "start_time": "2022-08-29T17:32:38.064Z"
   },
   {
    "duration": 15,
    "start_time": "2022-08-29T17:32:39.159Z"
   },
   {
    "duration": 54,
    "start_time": "2022-08-29T17:32:41.095Z"
   },
   {
    "duration": 99,
    "start_time": "2022-08-29T17:32:41.366Z"
   },
   {
    "duration": 35,
    "start_time": "2022-08-29T17:32:42.116Z"
   },
   {
    "duration": 13,
    "start_time": "2022-08-29T17:32:43.151Z"
   },
   {
    "duration": 65,
    "start_time": "2022-08-29T17:32:43.856Z"
   },
   {
    "duration": 170,
    "start_time": "2022-08-29T17:32:46.472Z"
   },
   {
    "duration": 191,
    "start_time": "2022-08-29T17:32:46.852Z"
   },
   {
    "duration": 11,
    "start_time": "2022-08-29T17:32:47.309Z"
   },
   {
    "duration": 10,
    "start_time": "2022-08-29T17:33:46.896Z"
   },
   {
    "duration": 88,
    "start_time": "2022-08-29T17:33:48.319Z"
   },
   {
    "duration": 4,
    "start_time": "2022-08-29T17:33:48.940Z"
   },
   {
    "duration": 596,
    "start_time": "2022-08-29T17:33:50.903Z"
   },
   {
    "duration": 467,
    "start_time": "2022-08-29T17:33:51.502Z"
   },
   {
    "duration": 33,
    "start_time": "2022-08-29T17:33:53.020Z"
   },
   {
    "duration": 105,
    "start_time": "2022-08-29T17:40:48.975Z"
   },
   {
    "duration": 14,
    "start_time": "2022-08-29T17:40:58.333Z"
   },
   {
    "duration": 10,
    "start_time": "2022-08-29T17:41:31.375Z"
   },
   {
    "duration": 10,
    "start_time": "2022-08-29T17:41:47.815Z"
   },
   {
    "duration": 10,
    "start_time": "2022-08-29T17:41:56.459Z"
   },
   {
    "duration": 14,
    "start_time": "2022-08-29T17:47:12.667Z"
   },
   {
    "duration": 2,
    "start_time": "2022-08-29T17:49:10.611Z"
   },
   {
    "duration": 8,
    "start_time": "2022-08-29T17:55:58.658Z"
   },
   {
    "duration": 10,
    "start_time": "2022-08-29T17:56:04.273Z"
   },
   {
    "duration": 222,
    "start_time": "2022-08-29T17:56:52.494Z"
   },
   {
    "duration": 29,
    "start_time": "2022-08-29T17:57:21.354Z"
   },
   {
    "duration": 8,
    "start_time": "2022-08-29T17:57:22.562Z"
   },
   {
    "duration": 18,
    "start_time": "2022-08-29T17:58:21.195Z"
   },
   {
    "duration": 1540,
    "start_time": "2022-08-29T18:01:14.361Z"
   },
   {
    "duration": 930,
    "start_time": "2022-08-29T18:01:15.903Z"
   },
   {
    "duration": 1386,
    "start_time": "2022-08-29T18:01:16.835Z"
   },
   {
    "duration": 14,
    "start_time": "2022-08-29T18:01:18.224Z"
   },
   {
    "duration": 59,
    "start_time": "2022-08-29T18:01:18.247Z"
   },
   {
    "duration": 14,
    "start_time": "2022-08-29T18:01:18.308Z"
   },
   {
    "duration": 48,
    "start_time": "2022-08-29T18:01:18.324Z"
   },
   {
    "duration": 331,
    "start_time": "2022-08-29T18:01:18.374Z"
   },
   {
    "duration": 24,
    "start_time": "2022-08-29T18:01:18.708Z"
   },
   {
    "duration": 51,
    "start_time": "2022-08-29T18:01:18.741Z"
   },
   {
    "duration": 47,
    "start_time": "2022-08-29T18:01:18.795Z"
   },
   {
    "duration": 45,
    "start_time": "2022-08-29T18:01:18.843Z"
   },
   {
    "duration": 14,
    "start_time": "2022-08-29T18:01:18.890Z"
   },
   {
    "duration": 110,
    "start_time": "2022-08-29T18:01:18.907Z"
   },
   {
    "duration": 18,
    "start_time": "2022-08-29T18:01:19.019Z"
   },
   {
    "duration": 47,
    "start_time": "2022-08-29T18:01:19.038Z"
   },
   {
    "duration": 32,
    "start_time": "2022-08-29T18:01:19.087Z"
   },
   {
    "duration": 34,
    "start_time": "2022-08-29T18:01:19.121Z"
   },
   {
    "duration": 321,
    "start_time": "2022-08-29T18:01:19.157Z"
   },
   {
    "duration": 294,
    "start_time": "2022-08-29T18:01:19.482Z"
   },
   {
    "duration": 414,
    "start_time": "2022-08-29T18:01:19.778Z"
   },
   {
    "duration": 16,
    "start_time": "2022-08-29T18:01:20.195Z"
   },
   {
    "duration": 68,
    "start_time": "2022-08-29T18:01:20.213Z"
   },
   {
    "duration": 96,
    "start_time": "2022-08-29T18:01:20.283Z"
   },
   {
    "duration": 28,
    "start_time": "2022-08-29T18:01:20.380Z"
   },
   {
    "duration": 41,
    "start_time": "2022-08-29T18:01:20.410Z"
   },
   {
    "duration": 68,
    "start_time": "2022-08-29T18:01:20.452Z"
   },
   {
    "duration": 298,
    "start_time": "2022-08-29T18:01:20.523Z"
   },
   {
    "duration": 221,
    "start_time": "2022-08-29T18:01:20.823Z"
   },
   {
    "duration": 17,
    "start_time": "2022-08-29T18:01:21.050Z"
   },
   {
    "duration": 124,
    "start_time": "2022-08-29T18:01:21.069Z"
   },
   {
    "duration": 4,
    "start_time": "2022-08-29T18:01:21.195Z"
   },
   {
    "duration": 990,
    "start_time": "2022-08-29T18:01:21.202Z"
   },
   {
    "duration": 471,
    "start_time": "2022-08-29T18:01:22.195Z"
   },
   {
    "duration": 35,
    "start_time": "2022-08-29T18:01:22.668Z"
   },
   {
    "duration": 150,
    "start_time": "2022-08-29T18:01:22.705Z"
   },
   {
    "duration": 0,
    "start_time": "2022-08-29T18:01:22.860Z"
   },
   {
    "duration": 0,
    "start_time": "2022-08-29T18:01:22.863Z"
   },
   {
    "duration": 0,
    "start_time": "2022-08-29T18:01:22.865Z"
   },
   {
    "duration": 0,
    "start_time": "2022-08-29T18:01:22.867Z"
   },
   {
    "duration": 0,
    "start_time": "2022-08-29T18:01:22.869Z"
   },
   {
    "duration": 0,
    "start_time": "2022-08-29T18:01:22.870Z"
   },
   {
    "duration": 0,
    "start_time": "2022-08-29T18:01:22.872Z"
   },
   {
    "duration": 0,
    "start_time": "2022-08-29T18:01:22.873Z"
   },
   {
    "duration": 1,
    "start_time": "2022-08-29T18:01:22.874Z"
   },
   {
    "duration": 0,
    "start_time": "2022-08-29T18:01:22.876Z"
   },
   {
    "duration": 0,
    "start_time": "2022-08-29T18:01:22.877Z"
   },
   {
    "duration": 0,
    "start_time": "2022-08-29T18:01:22.878Z"
   },
   {
    "duration": 0,
    "start_time": "2022-08-29T18:01:22.879Z"
   },
   {
    "duration": 0,
    "start_time": "2022-08-29T18:01:22.881Z"
   },
   {
    "duration": 0,
    "start_time": "2022-08-29T18:01:22.882Z"
   },
   {
    "duration": 0,
    "start_time": "2022-08-29T18:01:22.884Z"
   },
   {
    "duration": 0,
    "start_time": "2022-08-29T18:01:22.885Z"
   },
   {
    "duration": 0,
    "start_time": "2022-08-29T18:01:22.888Z"
   },
   {
    "duration": 0,
    "start_time": "2022-08-29T18:01:22.889Z"
   },
   {
    "duration": 0,
    "start_time": "2022-08-29T18:01:22.891Z"
   },
   {
    "duration": 0,
    "start_time": "2022-08-29T18:01:22.892Z"
   },
   {
    "duration": 0,
    "start_time": "2022-08-29T18:01:22.936Z"
   },
   {
    "duration": 0,
    "start_time": "2022-08-29T18:01:22.938Z"
   },
   {
    "duration": 0,
    "start_time": "2022-08-29T18:01:22.939Z"
   },
   {
    "duration": 9,
    "start_time": "2022-08-29T18:03:22.108Z"
   },
   {
    "duration": 4,
    "start_time": "2022-08-29T18:03:34.577Z"
   },
   {
    "duration": 13,
    "start_time": "2022-08-29T18:04:23.296Z"
   },
   {
    "duration": 3,
    "start_time": "2022-08-29T18:04:57.989Z"
   },
   {
    "duration": 1556,
    "start_time": "2022-08-29T18:04:58.550Z"
   },
   {
    "duration": 6,
    "start_time": "2022-08-29T18:05:28.954Z"
   },
   {
    "duration": 1498,
    "start_time": "2022-08-29T18:05:29.676Z"
   },
   {
    "duration": 1476,
    "start_time": "2022-08-29T18:06:27.905Z"
   },
   {
    "duration": 804,
    "start_time": "2022-08-29T18:06:29.383Z"
   },
   {
    "duration": 1242,
    "start_time": "2022-08-29T18:06:30.189Z"
   },
   {
    "duration": 6,
    "start_time": "2022-08-29T18:06:31.434Z"
   },
   {
    "duration": 111,
    "start_time": "2022-08-29T18:06:31.444Z"
   },
   {
    "duration": 5,
    "start_time": "2022-08-29T18:06:31.558Z"
   },
   {
    "duration": 21,
    "start_time": "2022-08-29T18:06:31.565Z"
   },
   {
    "duration": 349,
    "start_time": "2022-08-29T18:06:31.588Z"
   },
   {
    "duration": 13,
    "start_time": "2022-08-29T18:06:31.939Z"
   },
   {
    "duration": 40,
    "start_time": "2022-08-29T18:06:31.955Z"
   },
   {
    "duration": 21,
    "start_time": "2022-08-29T18:06:31.997Z"
   },
   {
    "duration": 47,
    "start_time": "2022-08-29T18:06:32.020Z"
   },
   {
    "duration": 15,
    "start_time": "2022-08-29T18:06:32.069Z"
   },
   {
    "duration": 85,
    "start_time": "2022-08-29T18:06:32.086Z"
   },
   {
    "duration": 14,
    "start_time": "2022-08-29T18:06:32.172Z"
   },
   {
    "duration": 18,
    "start_time": "2022-08-29T18:06:32.188Z"
   },
   {
    "duration": 48,
    "start_time": "2022-08-29T18:06:32.207Z"
   },
   {
    "duration": 21,
    "start_time": "2022-08-29T18:06:32.257Z"
   },
   {
    "duration": 290,
    "start_time": "2022-08-29T18:06:32.280Z"
   },
   {
    "duration": 240,
    "start_time": "2022-08-29T18:06:32.574Z"
   },
   {
    "duration": 251,
    "start_time": "2022-08-29T18:06:32.816Z"
   },
   {
    "duration": 17,
    "start_time": "2022-08-29T18:06:33.069Z"
   },
   {
    "duration": 64,
    "start_time": "2022-08-29T18:06:33.087Z"
   },
   {
    "duration": 98,
    "start_time": "2022-08-29T18:06:33.153Z"
   },
   {
    "duration": 33,
    "start_time": "2022-08-29T18:06:33.252Z"
   },
   {
    "duration": 15,
    "start_time": "2022-08-29T18:06:33.287Z"
   },
   {
    "duration": 80,
    "start_time": "2022-08-29T18:06:33.304Z"
   },
   {
    "duration": 177,
    "start_time": "2022-08-29T18:06:33.387Z"
   },
   {
    "duration": 191,
    "start_time": "2022-08-29T18:06:33.566Z"
   },
   {
    "duration": 11,
    "start_time": "2022-08-29T18:06:33.758Z"
   },
   {
    "duration": 115,
    "start_time": "2022-08-29T18:06:33.770Z"
   },
   {
    "duration": 0,
    "start_time": "2022-08-29T18:06:33.886Z"
   },
   {
    "duration": 0,
    "start_time": "2022-08-29T18:06:33.888Z"
   },
   {
    "duration": 0,
    "start_time": "2022-08-29T18:06:33.889Z"
   },
   {
    "duration": 0,
    "start_time": "2022-08-29T18:06:33.891Z"
   },
   {
    "duration": 0,
    "start_time": "2022-08-29T18:06:33.892Z"
   },
   {
    "duration": 0,
    "start_time": "2022-08-29T18:06:33.893Z"
   },
   {
    "duration": 0,
    "start_time": "2022-08-29T18:06:33.895Z"
   },
   {
    "duration": 0,
    "start_time": "2022-08-29T18:06:33.897Z"
   },
   {
    "duration": 0,
    "start_time": "2022-08-29T18:06:33.899Z"
   },
   {
    "duration": 0,
    "start_time": "2022-08-29T18:06:33.901Z"
   },
   {
    "duration": 0,
    "start_time": "2022-08-29T18:06:33.932Z"
   },
   {
    "duration": 0,
    "start_time": "2022-08-29T18:06:33.933Z"
   },
   {
    "duration": 0,
    "start_time": "2022-08-29T18:06:33.934Z"
   },
   {
    "duration": 0,
    "start_time": "2022-08-29T18:06:33.935Z"
   },
   {
    "duration": 0,
    "start_time": "2022-08-29T18:06:33.936Z"
   },
   {
    "duration": 0,
    "start_time": "2022-08-29T18:06:33.937Z"
   },
   {
    "duration": 0,
    "start_time": "2022-08-29T18:06:33.941Z"
   },
   {
    "duration": 0,
    "start_time": "2022-08-29T18:06:33.948Z"
   },
   {
    "duration": 0,
    "start_time": "2022-08-29T18:06:33.952Z"
   },
   {
    "duration": 0,
    "start_time": "2022-08-29T18:06:33.953Z"
   },
   {
    "duration": 0,
    "start_time": "2022-08-29T18:06:33.954Z"
   },
   {
    "duration": 0,
    "start_time": "2022-08-29T18:06:33.955Z"
   },
   {
    "duration": 0,
    "start_time": "2022-08-29T18:06:33.956Z"
   },
   {
    "duration": 0,
    "start_time": "2022-08-29T18:06:33.957Z"
   },
   {
    "duration": 0,
    "start_time": "2022-08-29T18:06:33.958Z"
   },
   {
    "duration": 0,
    "start_time": "2022-08-29T18:06:33.959Z"
   },
   {
    "duration": 0,
    "start_time": "2022-08-29T18:06:33.960Z"
   },
   {
    "duration": 0,
    "start_time": "2022-08-29T18:06:33.961Z"
   },
   {
    "duration": 0,
    "start_time": "2022-08-29T18:06:33.962Z"
   },
   {
    "duration": 0,
    "start_time": "2022-08-29T18:06:33.964Z"
   },
   {
    "duration": 0,
    "start_time": "2022-08-29T18:06:33.965Z"
   },
   {
    "duration": 0,
    "start_time": "2022-08-29T18:06:33.966Z"
   },
   {
    "duration": 93,
    "start_time": "2022-08-29T18:07:38.482Z"
   },
   {
    "duration": 105,
    "start_time": "2022-08-29T18:08:52.478Z"
   },
   {
    "duration": 122,
    "start_time": "2022-08-29T18:08:57.098Z"
   },
   {
    "duration": 3,
    "start_time": "2022-08-29T18:08:58.750Z"
   },
   {
    "duration": 492,
    "start_time": "2022-08-29T18:09:03.050Z"
   },
   {
    "duration": 415,
    "start_time": "2022-08-29T18:09:04.447Z"
   },
   {
    "duration": 28,
    "start_time": "2022-08-29T18:09:05.021Z"
   },
   {
    "duration": 8,
    "start_time": "2022-08-29T18:11:18.106Z"
   },
   {
    "duration": 8,
    "start_time": "2022-08-29T18:11:28.006Z"
   },
   {
    "duration": 8,
    "start_time": "2022-08-29T18:11:28.706Z"
   },
   {
    "duration": 228,
    "start_time": "2022-08-29T18:11:35.126Z"
   },
   {
    "duration": 53656,
    "start_time": "2022-08-29T18:11:56.792Z"
   },
   {
    "duration": 338,
    "start_time": "2022-08-29T18:12:58.746Z"
   },
   {
    "duration": 6,
    "start_time": "2022-08-29T18:15:05.557Z"
   },
   {
    "duration": 273,
    "start_time": "2022-08-29T18:15:15.473Z"
   },
   {
    "duration": 8,
    "start_time": "2022-08-29T18:16:00.362Z"
   },
   {
    "duration": 15,
    "start_time": "2022-08-29T18:16:47.237Z"
   },
   {
    "duration": 14,
    "start_time": "2022-08-29T18:17:55.053Z"
   },
   {
    "duration": 15,
    "start_time": "2022-08-29T18:19:52.916Z"
   },
   {
    "duration": 20,
    "start_time": "2022-08-29T18:23:45.381Z"
   },
   {
    "duration": 2089,
    "start_time": "2022-08-29T18:23:56.797Z"
   },
   {
    "duration": 267,
    "start_time": "2022-08-29T18:24:22.669Z"
   },
   {
    "duration": 14,
    "start_time": "2022-08-29T18:32:18.689Z"
   },
   {
    "duration": 266,
    "start_time": "2022-08-29T18:32:35.652Z"
   },
   {
    "duration": 316,
    "start_time": "2022-08-29T18:33:07.621Z"
   },
   {
    "duration": 18631,
    "start_time": "2022-08-29T18:33:12.512Z"
   },
   {
    "duration": 1376,
    "start_time": "2022-08-29T18:33:52.747Z"
   },
   {
    "duration": 811,
    "start_time": "2022-08-29T18:33:54.125Z"
   },
   {
    "duration": 1238,
    "start_time": "2022-08-29T18:33:54.938Z"
   },
   {
    "duration": 9,
    "start_time": "2022-08-29T18:33:56.180Z"
   },
   {
    "duration": 81,
    "start_time": "2022-08-29T18:33:56.191Z"
   },
   {
    "duration": 12,
    "start_time": "2022-08-29T18:33:56.274Z"
   },
   {
    "duration": 24,
    "start_time": "2022-08-29T18:33:56.289Z"
   },
   {
    "duration": 433,
    "start_time": "2022-08-29T18:33:56.316Z"
   },
   {
    "duration": 17,
    "start_time": "2022-08-29T18:33:56.751Z"
   },
   {
    "duration": 67,
    "start_time": "2022-08-29T18:33:56.772Z"
   },
   {
    "duration": 30,
    "start_time": "2022-08-29T18:33:56.841Z"
   },
   {
    "duration": 77,
    "start_time": "2022-08-29T18:33:56.874Z"
   },
   {
    "duration": 20,
    "start_time": "2022-08-29T18:33:56.953Z"
   },
   {
    "duration": 124,
    "start_time": "2022-08-29T18:33:56.975Z"
   },
   {
    "duration": 13,
    "start_time": "2022-08-29T18:33:57.102Z"
   },
   {
    "duration": 29,
    "start_time": "2022-08-29T18:33:57.118Z"
   },
   {
    "duration": 36,
    "start_time": "2022-08-29T18:33:57.150Z"
   },
   {
    "duration": 53,
    "start_time": "2022-08-29T18:33:57.189Z"
   },
   {
    "duration": 244,
    "start_time": "2022-08-29T18:33:57.245Z"
   },
   {
    "duration": 316,
    "start_time": "2022-08-29T18:33:57.491Z"
   },
   {
    "duration": 407,
    "start_time": "2022-08-29T18:33:57.810Z"
   },
   {
    "duration": 33,
    "start_time": "2022-08-29T18:33:58.220Z"
   },
   {
    "duration": 94,
    "start_time": "2022-08-29T18:33:58.255Z"
   },
   {
    "duration": 132,
    "start_time": "2022-08-29T18:33:58.352Z"
   },
   {
    "duration": 44,
    "start_time": "2022-08-29T18:33:58.487Z"
   },
   {
    "duration": 24,
    "start_time": "2022-08-29T18:33:58.534Z"
   },
   {
    "duration": 122,
    "start_time": "2022-08-29T18:33:58.560Z"
   },
   {
    "duration": 312,
    "start_time": "2022-08-29T18:33:58.689Z"
   },
   {
    "duration": 199,
    "start_time": "2022-08-29T18:33:59.002Z"
   },
   {
    "duration": 20,
    "start_time": "2022-08-29T18:33:59.204Z"
   },
   {
    "duration": 106,
    "start_time": "2022-08-29T18:33:59.231Z"
   },
   {
    "duration": 6,
    "start_time": "2022-08-29T18:33:59.338Z"
   },
   {
    "duration": 502,
    "start_time": "2022-08-29T18:33:59.346Z"
   },
   {
    "duration": 434,
    "start_time": "2022-08-29T18:33:59.849Z"
   },
   {
    "duration": 27,
    "start_time": "2022-08-29T18:34:00.286Z"
   },
   {
    "duration": 27,
    "start_time": "2022-08-29T18:34:00.316Z"
   },
   {
    "duration": 22,
    "start_time": "2022-08-29T18:34:00.344Z"
   },
   {
    "duration": 270,
    "start_time": "2022-08-29T18:34:00.368Z"
   },
   {
    "duration": 33198,
    "start_time": "2022-08-29T18:34:00.639Z"
   },
   {
    "duration": 296,
    "start_time": "2022-08-29T18:34:33.839Z"
   },
   {
    "duration": 390,
    "start_time": "2022-08-29T18:34:34.138Z"
   },
   {
    "duration": 264,
    "start_time": "2022-08-29T18:34:34.529Z"
   },
   {
    "duration": 102,
    "start_time": "2022-08-29T18:34:34.795Z"
   },
   {
    "duration": 0,
    "start_time": "2022-08-29T18:34:34.900Z"
   },
   {
    "duration": 0,
    "start_time": "2022-08-29T18:34:34.902Z"
   },
   {
    "duration": 0,
    "start_time": "2022-08-29T18:34:34.904Z"
   },
   {
    "duration": 0,
    "start_time": "2022-08-29T18:34:34.906Z"
   },
   {
    "duration": 1,
    "start_time": "2022-08-29T18:34:34.907Z"
   },
   {
    "duration": 0,
    "start_time": "2022-08-29T18:34:34.909Z"
   },
   {
    "duration": 0,
    "start_time": "2022-08-29T18:34:34.911Z"
   },
   {
    "duration": 0,
    "start_time": "2022-08-29T18:34:34.932Z"
   },
   {
    "duration": 0,
    "start_time": "2022-08-29T18:34:34.935Z"
   },
   {
    "duration": 0,
    "start_time": "2022-08-29T18:34:34.936Z"
   },
   {
    "duration": 0,
    "start_time": "2022-08-29T18:34:34.938Z"
   },
   {
    "duration": 0,
    "start_time": "2022-08-29T18:34:34.939Z"
   },
   {
    "duration": 0,
    "start_time": "2022-08-29T18:34:34.941Z"
   },
   {
    "duration": 0,
    "start_time": "2022-08-29T18:34:34.943Z"
   },
   {
    "duration": 0,
    "start_time": "2022-08-29T18:34:34.945Z"
   },
   {
    "duration": 0,
    "start_time": "2022-08-29T18:34:34.946Z"
   },
   {
    "duration": 377571,
    "start_time": "2022-08-29T18:40:44.715Z"
   },
   {
    "duration": 555,
    "start_time": "2022-08-29T18:47:02.288Z"
   },
   {
    "duration": 6,
    "start_time": "2022-08-29T18:48:06.589Z"
   },
   {
    "duration": 207665,
    "start_time": "2022-08-29T18:48:07.950Z"
   },
   {
    "duration": 83,
    "start_time": "2022-08-29T18:51:35.617Z"
   },
   {
    "duration": 1421,
    "start_time": "2022-08-29T18:52:59.642Z"
   },
   {
    "duration": 821,
    "start_time": "2022-08-29T18:53:01.065Z"
   },
   {
    "duration": 1105,
    "start_time": "2022-08-29T18:53:01.888Z"
   },
   {
    "duration": 5,
    "start_time": "2022-08-29T18:53:02.995Z"
   },
   {
    "duration": 81,
    "start_time": "2022-08-29T18:53:03.004Z"
   },
   {
    "duration": 5,
    "start_time": "2022-08-29T18:53:03.087Z"
   },
   {
    "duration": 17,
    "start_time": "2022-08-29T18:53:03.094Z"
   },
   {
    "duration": 277,
    "start_time": "2022-08-29T18:53:03.113Z"
   },
   {
    "duration": 12,
    "start_time": "2022-08-29T18:53:03.392Z"
   },
   {
    "duration": 58,
    "start_time": "2022-08-29T18:53:03.406Z"
   },
   {
    "duration": 32,
    "start_time": "2022-08-29T18:53:03.466Z"
   },
   {
    "duration": 48,
    "start_time": "2022-08-29T18:53:03.500Z"
   },
   {
    "duration": 13,
    "start_time": "2022-08-29T18:53:03.550Z"
   },
   {
    "duration": 79,
    "start_time": "2022-08-29T18:53:03.566Z"
   },
   {
    "duration": 12,
    "start_time": "2022-08-29T18:53:03.647Z"
   },
   {
    "duration": 14,
    "start_time": "2022-08-29T18:53:03.661Z"
   },
   {
    "duration": 26,
    "start_time": "2022-08-29T18:53:03.677Z"
   },
   {
    "duration": 40,
    "start_time": "2022-08-29T18:53:03.705Z"
   },
   {
    "duration": 247,
    "start_time": "2022-08-29T18:53:03.747Z"
   },
   {
    "duration": 243,
    "start_time": "2022-08-29T18:53:03.996Z"
   },
   {
    "duration": 234,
    "start_time": "2022-08-29T18:53:04.241Z"
   },
   {
    "duration": 16,
    "start_time": "2022-08-29T18:53:04.476Z"
   },
   {
    "duration": 65,
    "start_time": "2022-08-29T18:53:04.494Z"
   },
   {
    "duration": 84,
    "start_time": "2022-08-29T18:53:04.561Z"
   },
   {
    "duration": 32,
    "start_time": "2022-08-29T18:53:04.647Z"
   },
   {
    "duration": 12,
    "start_time": "2022-08-29T18:53:04.681Z"
   },
   {
    "duration": 76,
    "start_time": "2022-08-29T18:53:04.695Z"
   },
   {
    "duration": 172,
    "start_time": "2022-08-29T18:53:04.772Z"
   },
   {
    "duration": 188,
    "start_time": "2022-08-29T18:53:04.945Z"
   },
   {
    "duration": 11,
    "start_time": "2022-08-29T18:53:05.135Z"
   },
   {
    "duration": 103,
    "start_time": "2022-08-29T18:53:05.147Z"
   },
   {
    "duration": 3,
    "start_time": "2022-08-29T18:53:05.251Z"
   },
   {
    "duration": 495,
    "start_time": "2022-08-29T18:53:05.255Z"
   },
   {
    "duration": 402,
    "start_time": "2022-08-29T18:53:05.753Z"
   },
   {
    "duration": 25,
    "start_time": "2022-08-29T18:53:06.157Z"
   },
   {
    "duration": 9,
    "start_time": "2022-08-29T18:53:06.183Z"
   },
   {
    "duration": 8,
    "start_time": "2022-08-29T18:53:06.194Z"
   },
   {
    "duration": 239,
    "start_time": "2022-08-29T18:53:06.232Z"
   },
   {
    "duration": 32968,
    "start_time": "2022-08-29T18:53:06.473Z"
   },
   {
    "duration": 295,
    "start_time": "2022-08-29T18:53:39.443Z"
   },
   {
    "duration": 462,
    "start_time": "2022-08-29T18:53:39.743Z"
   },
   {
    "duration": 266,
    "start_time": "2022-08-29T18:53:40.207Z"
   },
   {
    "duration": 382053,
    "start_time": "2022-08-29T18:53:40.474Z"
   },
   {
    "duration": 489,
    "start_time": "2022-08-29T19:00:02.529Z"
   },
   {
    "duration": 5,
    "start_time": "2022-08-29T19:00:03.020Z"
   },
   {
    "duration": 720664,
    "start_time": "2022-08-29T19:00:03.032Z"
   },
   {
    "duration": 103,
    "start_time": "2022-08-29T19:12:03.698Z"
   },
   {
    "duration": 12,
    "start_time": "2022-08-29T19:12:03.803Z"
   },
   {
    "duration": 0,
    "start_time": "2022-08-29T19:12:03.817Z"
   },
   {
    "duration": 0,
    "start_time": "2022-08-29T19:12:03.819Z"
   },
   {
    "duration": 0,
    "start_time": "2022-08-29T19:12:03.820Z"
   },
   {
    "duration": 0,
    "start_time": "2022-08-29T19:12:03.821Z"
   },
   {
    "duration": 0,
    "start_time": "2022-08-29T19:12:03.823Z"
   },
   {
    "duration": 0,
    "start_time": "2022-08-29T19:12:03.824Z"
   },
   {
    "duration": 0,
    "start_time": "2022-08-29T19:12:03.826Z"
   },
   {
    "duration": 0,
    "start_time": "2022-08-29T19:12:03.827Z"
   },
   {
    "duration": 0,
    "start_time": "2022-08-29T19:12:03.829Z"
   },
   {
    "duration": 9,
    "start_time": "2022-08-29T19:15:08.381Z"
   },
   {
    "duration": 43583,
    "start_time": "2022-08-29T19:16:07.021Z"
   },
   {
    "duration": 8,
    "start_time": "2022-08-29T19:23:29.689Z"
   },
   {
    "duration": 3,
    "start_time": "2022-08-29T19:23:42.705Z"
   },
   {
    "duration": 9,
    "start_time": "2022-08-29T19:24:23.369Z"
   },
   {
    "duration": 21978,
    "start_time": "2022-08-29T19:24:32.825Z"
   },
   {
    "duration": 782840,
    "start_time": "2022-08-29T19:25:13.273Z"
   },
   {
    "duration": 45008,
    "start_time": "2022-08-29T19:38:38.301Z"
   },
   {
    "duration": 751,
    "start_time": "2022-08-29T19:39:49.569Z"
   },
   {
    "duration": 14,
    "start_time": "2022-08-29T19:44:06.336Z"
   },
   {
    "duration": 6,
    "start_time": "2022-08-29T19:44:20.640Z"
   },
   {
    "duration": 6985,
    "start_time": "2022-08-29T19:44:25.928Z"
   },
   {
    "duration": 1333,
    "start_time": "2022-08-29T19:44:59.764Z"
   },
   {
    "duration": 829,
    "start_time": "2022-08-29T19:45:01.098Z"
   },
   {
    "duration": 1128,
    "start_time": "2022-08-29T19:45:01.928Z"
   },
   {
    "duration": 5,
    "start_time": "2022-08-29T19:45:03.058Z"
   },
   {
    "duration": 54,
    "start_time": "2022-08-29T19:45:03.065Z"
   },
   {
    "duration": 14,
    "start_time": "2022-08-29T19:45:03.121Z"
   },
   {
    "duration": 15,
    "start_time": "2022-08-29T19:45:03.137Z"
   },
   {
    "duration": 259,
    "start_time": "2022-08-29T19:45:03.153Z"
   },
   {
    "duration": 19,
    "start_time": "2022-08-29T19:45:03.413Z"
   },
   {
    "duration": 36,
    "start_time": "2022-08-29T19:45:03.434Z"
   },
   {
    "duration": 22,
    "start_time": "2022-08-29T19:45:03.472Z"
   },
   {
    "duration": 52,
    "start_time": "2022-08-29T19:45:03.496Z"
   },
   {
    "duration": 12,
    "start_time": "2022-08-29T19:45:03.550Z"
   },
   {
    "duration": 76,
    "start_time": "2022-08-29T19:45:03.563Z"
   },
   {
    "duration": 13,
    "start_time": "2022-08-29T19:45:03.641Z"
   },
   {
    "duration": 19,
    "start_time": "2022-08-29T19:45:03.656Z"
   },
   {
    "duration": 56,
    "start_time": "2022-08-29T19:45:03.677Z"
   },
   {
    "duration": 21,
    "start_time": "2022-08-29T19:45:03.735Z"
   },
   {
    "duration": 260,
    "start_time": "2022-08-29T19:45:03.758Z"
   },
   {
    "duration": 246,
    "start_time": "2022-08-29T19:45:04.020Z"
   },
   {
    "duration": 252,
    "start_time": "2022-08-29T19:45:04.267Z"
   },
   {
    "duration": 19,
    "start_time": "2022-08-29T19:45:04.521Z"
   },
   {
    "duration": 48,
    "start_time": "2022-08-29T19:45:04.542Z"
   },
   {
    "duration": 95,
    "start_time": "2022-08-29T19:45:04.592Z"
   },
   {
    "duration": 28,
    "start_time": "2022-08-29T19:45:04.689Z"
   },
   {
    "duration": 19,
    "start_time": "2022-08-29T19:45:04.718Z"
   },
   {
    "duration": 60,
    "start_time": "2022-08-29T19:45:04.738Z"
   },
   {
    "duration": 187,
    "start_time": "2022-08-29T19:45:04.802Z"
   },
   {
    "duration": 198,
    "start_time": "2022-08-29T19:45:04.991Z"
   },
   {
    "duration": 11,
    "start_time": "2022-08-29T19:45:05.191Z"
   },
   {
    "duration": 94,
    "start_time": "2022-08-29T19:45:05.203Z"
   },
   {
    "duration": 3,
    "start_time": "2022-08-29T19:45:05.299Z"
   },
   {
    "duration": 500,
    "start_time": "2022-08-29T19:45:05.303Z"
   },
   {
    "duration": 386,
    "start_time": "2022-08-29T19:45:05.804Z"
   },
   {
    "duration": 23,
    "start_time": "2022-08-29T19:45:06.192Z"
   },
   {
    "duration": 20,
    "start_time": "2022-08-29T19:45:06.217Z"
   },
   {
    "duration": 10,
    "start_time": "2022-08-29T19:45:06.238Z"
   },
   {
    "duration": 241,
    "start_time": "2022-08-29T19:45:06.250Z"
   },
   {
    "duration": 43240,
    "start_time": "2022-08-29T19:45:06.493Z"
   },
   {
    "duration": 302,
    "start_time": "2022-08-29T19:45:49.735Z"
   },
   {
    "duration": 340,
    "start_time": "2022-08-29T19:45:50.040Z"
   },
   {
    "duration": 260,
    "start_time": "2022-08-29T19:45:50.382Z"
   },
   {
    "duration": 379380,
    "start_time": "2022-08-29T19:45:50.643Z"
   },
   {
    "duration": 622,
    "start_time": "2022-08-29T19:52:10.025Z"
   },
   {
    "duration": 4,
    "start_time": "2022-08-29T19:52:10.649Z"
   },
   {
    "duration": 1031291,
    "start_time": "2022-08-29T19:52:10.654Z"
   },
   {
    "duration": 3816,
    "start_time": "2022-08-29T20:09:21.951Z"
   },
   {
    "duration": 136,
    "start_time": "2022-08-29T20:09:25.768Z"
   },
   {
    "duration": 0,
    "start_time": "2022-08-29T20:09:25.905Z"
   },
   {
    "duration": 0,
    "start_time": "2022-08-29T20:09:25.906Z"
   },
   {
    "duration": 0,
    "start_time": "2022-08-29T20:09:25.908Z"
   },
   {
    "duration": 0,
    "start_time": "2022-08-29T20:09:25.909Z"
   },
   {
    "duration": 0,
    "start_time": "2022-08-29T20:09:25.911Z"
   },
   {
    "duration": 0,
    "start_time": "2022-08-29T20:09:25.912Z"
   },
   {
    "duration": 0,
    "start_time": "2022-08-29T20:09:25.930Z"
   },
   {
    "duration": 0,
    "start_time": "2022-08-29T20:09:25.931Z"
   },
   {
    "duration": 0,
    "start_time": "2022-08-29T20:09:25.933Z"
   },
   {
    "duration": 260,
    "start_time": "2022-08-29T20:16:40.179Z"
   },
   {
    "duration": 9,
    "start_time": "2022-08-29T20:20:47.142Z"
   },
   {
    "duration": 76,
    "start_time": "2022-08-29T20:21:17.473Z"
   },
   {
    "duration": 9,
    "start_time": "2022-08-29T20:21:55.761Z"
   },
   {
    "duration": 184,
    "start_time": "2022-08-29T20:22:11.853Z"
   },
   {
    "duration": 11,
    "start_time": "2022-08-29T20:22:18.249Z"
   },
   {
    "duration": 7,
    "start_time": "2022-08-29T20:22:38.189Z"
   },
   {
    "duration": 11,
    "start_time": "2022-08-29T20:22:48.813Z"
   },
   {
    "duration": 9,
    "start_time": "2022-08-29T20:28:34.524Z"
   },
   {
    "duration": 34,
    "start_time": "2022-08-29T20:32:39.803Z"
   },
   {
    "duration": 83,
    "start_time": "2022-08-29T20:32:41.175Z"
   },
   {
    "duration": 383,
    "start_time": "2022-08-29T20:32:43.055Z"
   },
   {
    "duration": 9,
    "start_time": "2022-08-29T20:37:06.347Z"
   }
  ],
  "kernelspec": {
   "display_name": "Python 3 (ipykernel)",
   "language": "python",
   "name": "python3"
  },
  "language_info": {
   "codemirror_mode": {
    "name": "ipython",
    "version": 3
   },
   "file_extension": ".py",
   "mimetype": "text/x-python",
   "name": "python",
   "nbconvert_exporter": "python",
   "pygments_lexer": "ipython3",
   "version": "3.9.5"
  },
  "toc": {
   "base_numbering": 1,
   "nav_menu": {},
   "number_sections": true,
   "sideBar": true,
   "skip_h1_title": true,
   "title_cell": "Table of Contents",
   "title_sidebar": "Contents",
   "toc_cell": false,
   "toc_position": {
    "height": "calc(100% - 180px)",
    "left": "10px",
    "top": "150px",
    "width": "165px"
   },
   "toc_section_display": true,
   "toc_window_display": true
  }
 },
 "nbformat": 4,
 "nbformat_minor": 2
}

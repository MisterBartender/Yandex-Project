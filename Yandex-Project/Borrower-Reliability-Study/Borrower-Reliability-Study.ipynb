{
 "cells": [
  {
   "cell_type": "markdown",
   "id": "008e9af8",
   "metadata": {},
   "source": [
    "# Задачи исследования"
   ]
  },
  {
   "cell_type": "markdown",
   "id": "a881273e",
   "metadata": {},
   "source": [
    "**1. Осмотр данных**\n",
    "- посмотрим начало и конец датасета\n",
    "- сделаем предварительные выводы\n",
    "- поиск аномалий\n",
    "\n",
    "\n",
    "**2. Обработка данных**\n",
    "- устранение аномалий при возможности \n",
    "- поиск и обработка пропусков\n",
    "- замена некорректных типов данных\n",
    "- удаление дубликатов\n",
    "\n",
    "\n",
    "**3. Ответы на вопросы**\n",
    "- Есть ли зависимость между наличием детей и возвратом кредита в срок?\n",
    "- Есть ли зависимость между семейным положением и возвратом кредита в срок?\n",
    "- Есть ли зависимость между уровнем дохода и возвратом кредита в срок?\n",
    "- Как разные цели кредита влияют на его возврат в срок?\n",
    "\n",
    "\n",
    "**4. Результаты исследования**\n",
    "- Общий вывод\n"
   ]
  },
  {
   "cell_type": "markdown",
   "id": "b4f82847",
   "metadata": {},
   "source": [
    "# Исследование надежности заемщиков."
   ]
  },
  {
   "cell_type": "markdown",
   "id": "aae51b22",
   "metadata": {},
   "source": [
    "##  Обзор данных"
   ]
  },
  {
   "cell_type": "code",
   "execution_count": 1,
   "id": "92fbbfcb",
   "metadata": {},
   "outputs": [],
   "source": [
    "import pandas as pd\n",
    "import numpy as np\n",
    "\n",
    "from pymystem3 import Mystem\n"
   ]
  },
  {
   "cell_type": "code",
   "execution_count": 2,
   "id": "f87a5540",
   "metadata": {},
   "outputs": [],
   "source": [
    "df = pd.read_csv('/datasets/data.csv')"
   ]
  },
  {
   "cell_type": "markdown",
   "id": "ca02d156",
   "metadata": {},
   "source": [
    "## Прочтём данные и посмотрим на них"
   ]
  },
  {
   "cell_type": "markdown",
   "id": "6a797870",
   "metadata": {},
   "source": [
    "**Посмотрим начало и конец таблицы, выведем информацию по ней**"
   ]
  },
  {
   "cell_type": "code",
   "execution_count": 3,
   "id": "d6d135ab",
   "metadata": {
    "scrolled": false
   },
   "outputs": [
    {
     "data": {
      "text/html": [
       "<div>\n",
       "<style scoped>\n",
       "    .dataframe tbody tr th:only-of-type {\n",
       "        vertical-align: middle;\n",
       "    }\n",
       "\n",
       "    .dataframe tbody tr th {\n",
       "        vertical-align: top;\n",
       "    }\n",
       "\n",
       "    .dataframe thead th {\n",
       "        text-align: right;\n",
       "    }\n",
       "</style>\n",
       "<table border=\"1\" class=\"dataframe\">\n",
       "  <thead>\n",
       "    <tr style=\"text-align: right;\">\n",
       "      <th></th>\n",
       "      <th>children</th>\n",
       "      <th>days_employed</th>\n",
       "      <th>dob_years</th>\n",
       "      <th>education</th>\n",
       "      <th>education_id</th>\n",
       "      <th>family_status</th>\n",
       "      <th>family_status_id</th>\n",
       "      <th>gender</th>\n",
       "      <th>income_type</th>\n",
       "      <th>debt</th>\n",
       "      <th>total_income</th>\n",
       "      <th>purpose</th>\n",
       "    </tr>\n",
       "  </thead>\n",
       "  <tbody>\n",
       "    <tr>\n",
       "      <th>0</th>\n",
       "      <td>1</td>\n",
       "      <td>-8437.673028</td>\n",
       "      <td>42</td>\n",
       "      <td>высшее</td>\n",
       "      <td>0</td>\n",
       "      <td>женат / замужем</td>\n",
       "      <td>0</td>\n",
       "      <td>F</td>\n",
       "      <td>сотрудник</td>\n",
       "      <td>0</td>\n",
       "      <td>253875.639453</td>\n",
       "      <td>покупка жилья</td>\n",
       "    </tr>\n",
       "    <tr>\n",
       "      <th>1</th>\n",
       "      <td>1</td>\n",
       "      <td>-4024.803754</td>\n",
       "      <td>36</td>\n",
       "      <td>среднее</td>\n",
       "      <td>1</td>\n",
       "      <td>женат / замужем</td>\n",
       "      <td>0</td>\n",
       "      <td>F</td>\n",
       "      <td>сотрудник</td>\n",
       "      <td>0</td>\n",
       "      <td>112080.014102</td>\n",
       "      <td>приобретение автомобиля</td>\n",
       "    </tr>\n",
       "    <tr>\n",
       "      <th>2</th>\n",
       "      <td>0</td>\n",
       "      <td>-5623.422610</td>\n",
       "      <td>33</td>\n",
       "      <td>Среднее</td>\n",
       "      <td>1</td>\n",
       "      <td>женат / замужем</td>\n",
       "      <td>0</td>\n",
       "      <td>M</td>\n",
       "      <td>сотрудник</td>\n",
       "      <td>0</td>\n",
       "      <td>145885.952297</td>\n",
       "      <td>покупка жилья</td>\n",
       "    </tr>\n",
       "    <tr>\n",
       "      <th>3</th>\n",
       "      <td>3</td>\n",
       "      <td>-4124.747207</td>\n",
       "      <td>32</td>\n",
       "      <td>среднее</td>\n",
       "      <td>1</td>\n",
       "      <td>женат / замужем</td>\n",
       "      <td>0</td>\n",
       "      <td>M</td>\n",
       "      <td>сотрудник</td>\n",
       "      <td>0</td>\n",
       "      <td>267628.550329</td>\n",
       "      <td>дополнительное образование</td>\n",
       "    </tr>\n",
       "    <tr>\n",
       "      <th>4</th>\n",
       "      <td>0</td>\n",
       "      <td>340266.072047</td>\n",
       "      <td>53</td>\n",
       "      <td>среднее</td>\n",
       "      <td>1</td>\n",
       "      <td>гражданский брак</td>\n",
       "      <td>1</td>\n",
       "      <td>F</td>\n",
       "      <td>пенсионер</td>\n",
       "      <td>0</td>\n",
       "      <td>158616.077870</td>\n",
       "      <td>сыграть свадьбу</td>\n",
       "    </tr>\n",
       "    <tr>\n",
       "      <th>5</th>\n",
       "      <td>0</td>\n",
       "      <td>-926.185831</td>\n",
       "      <td>27</td>\n",
       "      <td>высшее</td>\n",
       "      <td>0</td>\n",
       "      <td>гражданский брак</td>\n",
       "      <td>1</td>\n",
       "      <td>M</td>\n",
       "      <td>компаньон</td>\n",
       "      <td>0</td>\n",
       "      <td>255763.565419</td>\n",
       "      <td>покупка жилья</td>\n",
       "    </tr>\n",
       "    <tr>\n",
       "      <th>6</th>\n",
       "      <td>0</td>\n",
       "      <td>-2879.202052</td>\n",
       "      <td>43</td>\n",
       "      <td>высшее</td>\n",
       "      <td>0</td>\n",
       "      <td>женат / замужем</td>\n",
       "      <td>0</td>\n",
       "      <td>F</td>\n",
       "      <td>компаньон</td>\n",
       "      <td>0</td>\n",
       "      <td>240525.971920</td>\n",
       "      <td>операции с жильем</td>\n",
       "    </tr>\n",
       "    <tr>\n",
       "      <th>7</th>\n",
       "      <td>0</td>\n",
       "      <td>-152.779569</td>\n",
       "      <td>50</td>\n",
       "      <td>СРЕДНЕЕ</td>\n",
       "      <td>1</td>\n",
       "      <td>женат / замужем</td>\n",
       "      <td>0</td>\n",
       "      <td>M</td>\n",
       "      <td>сотрудник</td>\n",
       "      <td>0</td>\n",
       "      <td>135823.934197</td>\n",
       "      <td>образование</td>\n",
       "    </tr>\n",
       "    <tr>\n",
       "      <th>8</th>\n",
       "      <td>2</td>\n",
       "      <td>-6929.865299</td>\n",
       "      <td>35</td>\n",
       "      <td>ВЫСШЕЕ</td>\n",
       "      <td>0</td>\n",
       "      <td>гражданский брак</td>\n",
       "      <td>1</td>\n",
       "      <td>F</td>\n",
       "      <td>сотрудник</td>\n",
       "      <td>0</td>\n",
       "      <td>95856.832424</td>\n",
       "      <td>на проведение свадьбы</td>\n",
       "    </tr>\n",
       "    <tr>\n",
       "      <th>9</th>\n",
       "      <td>0</td>\n",
       "      <td>-2188.756445</td>\n",
       "      <td>41</td>\n",
       "      <td>среднее</td>\n",
       "      <td>1</td>\n",
       "      <td>женат / замужем</td>\n",
       "      <td>0</td>\n",
       "      <td>M</td>\n",
       "      <td>сотрудник</td>\n",
       "      <td>0</td>\n",
       "      <td>144425.938277</td>\n",
       "      <td>покупка жилья для семьи</td>\n",
       "    </tr>\n",
       "  </tbody>\n",
       "</table>\n",
       "</div>"
      ],
      "text/plain": [
       "   children  days_employed  dob_years education  education_id  \\\n",
       "0         1   -8437.673028         42    высшее             0   \n",
       "1         1   -4024.803754         36   среднее             1   \n",
       "2         0   -5623.422610         33   Среднее             1   \n",
       "3         3   -4124.747207         32   среднее             1   \n",
       "4         0  340266.072047         53   среднее             1   \n",
       "5         0    -926.185831         27    высшее             0   \n",
       "6         0   -2879.202052         43    высшее             0   \n",
       "7         0    -152.779569         50   СРЕДНЕЕ             1   \n",
       "8         2   -6929.865299         35    ВЫСШЕЕ             0   \n",
       "9         0   -2188.756445         41   среднее             1   \n",
       "\n",
       "      family_status  family_status_id gender income_type  debt   total_income  \\\n",
       "0   женат / замужем                 0      F   сотрудник     0  253875.639453   \n",
       "1   женат / замужем                 0      F   сотрудник     0  112080.014102   \n",
       "2   женат / замужем                 0      M   сотрудник     0  145885.952297   \n",
       "3   женат / замужем                 0      M   сотрудник     0  267628.550329   \n",
       "4  гражданский брак                 1      F   пенсионер     0  158616.077870   \n",
       "5  гражданский брак                 1      M   компаньон     0  255763.565419   \n",
       "6   женат / замужем                 0      F   компаньон     0  240525.971920   \n",
       "7   женат / замужем                 0      M   сотрудник     0  135823.934197   \n",
       "8  гражданский брак                 1      F   сотрудник     0   95856.832424   \n",
       "9   женат / замужем                 0      M   сотрудник     0  144425.938277   \n",
       "\n",
       "                      purpose  \n",
       "0               покупка жилья  \n",
       "1     приобретение автомобиля  \n",
       "2               покупка жилья  \n",
       "3  дополнительное образование  \n",
       "4             сыграть свадьбу  \n",
       "5               покупка жилья  \n",
       "6           операции с жильем  \n",
       "7                 образование  \n",
       "8       на проведение свадьбы  \n",
       "9     покупка жилья для семьи  "
      ]
     },
     "execution_count": 3,
     "metadata": {},
     "output_type": "execute_result"
    }
   ],
   "source": [
    "df.head(10)"
   ]
  },
  {
   "cell_type": "code",
   "execution_count": 4,
   "id": "e1ce800a",
   "metadata": {},
   "outputs": [
    {
     "data": {
      "text/html": [
       "<div>\n",
       "<style scoped>\n",
       "    .dataframe tbody tr th:only-of-type {\n",
       "        vertical-align: middle;\n",
       "    }\n",
       "\n",
       "    .dataframe tbody tr th {\n",
       "        vertical-align: top;\n",
       "    }\n",
       "\n",
       "    .dataframe thead th {\n",
       "        text-align: right;\n",
       "    }\n",
       "</style>\n",
       "<table border=\"1\" class=\"dataframe\">\n",
       "  <thead>\n",
       "    <tr style=\"text-align: right;\">\n",
       "      <th></th>\n",
       "      <th>children</th>\n",
       "      <th>days_employed</th>\n",
       "      <th>dob_years</th>\n",
       "      <th>education</th>\n",
       "      <th>education_id</th>\n",
       "      <th>family_status</th>\n",
       "      <th>family_status_id</th>\n",
       "      <th>gender</th>\n",
       "      <th>income_type</th>\n",
       "      <th>debt</th>\n",
       "      <th>total_income</th>\n",
       "      <th>purpose</th>\n",
       "    </tr>\n",
       "  </thead>\n",
       "  <tbody>\n",
       "    <tr>\n",
       "      <th>21515</th>\n",
       "      <td>1</td>\n",
       "      <td>-467.685130</td>\n",
       "      <td>28</td>\n",
       "      <td>среднее</td>\n",
       "      <td>1</td>\n",
       "      <td>женат / замужем</td>\n",
       "      <td>0</td>\n",
       "      <td>F</td>\n",
       "      <td>сотрудник</td>\n",
       "      <td>1</td>\n",
       "      <td>109486.327999</td>\n",
       "      <td>заняться образованием</td>\n",
       "    </tr>\n",
       "    <tr>\n",
       "      <th>21516</th>\n",
       "      <td>0</td>\n",
       "      <td>-914.391429</td>\n",
       "      <td>42</td>\n",
       "      <td>высшее</td>\n",
       "      <td>0</td>\n",
       "      <td>женат / замужем</td>\n",
       "      <td>0</td>\n",
       "      <td>F</td>\n",
       "      <td>компаньон</td>\n",
       "      <td>0</td>\n",
       "      <td>322807.776603</td>\n",
       "      <td>покупка своего жилья</td>\n",
       "    </tr>\n",
       "    <tr>\n",
       "      <th>21517</th>\n",
       "      <td>0</td>\n",
       "      <td>-404.679034</td>\n",
       "      <td>42</td>\n",
       "      <td>высшее</td>\n",
       "      <td>0</td>\n",
       "      <td>гражданский брак</td>\n",
       "      <td>1</td>\n",
       "      <td>F</td>\n",
       "      <td>компаньон</td>\n",
       "      <td>0</td>\n",
       "      <td>178059.553491</td>\n",
       "      <td>на покупку своего автомобиля</td>\n",
       "    </tr>\n",
       "    <tr>\n",
       "      <th>21518</th>\n",
       "      <td>0</td>\n",
       "      <td>373995.710838</td>\n",
       "      <td>59</td>\n",
       "      <td>СРЕДНЕЕ</td>\n",
       "      <td>1</td>\n",
       "      <td>женат / замужем</td>\n",
       "      <td>0</td>\n",
       "      <td>F</td>\n",
       "      <td>пенсионер</td>\n",
       "      <td>0</td>\n",
       "      <td>153864.650328</td>\n",
       "      <td>сделка с автомобилем</td>\n",
       "    </tr>\n",
       "    <tr>\n",
       "      <th>21519</th>\n",
       "      <td>1</td>\n",
       "      <td>-2351.431934</td>\n",
       "      <td>37</td>\n",
       "      <td>ученая степень</td>\n",
       "      <td>4</td>\n",
       "      <td>в разводе</td>\n",
       "      <td>3</td>\n",
       "      <td>M</td>\n",
       "      <td>сотрудник</td>\n",
       "      <td>0</td>\n",
       "      <td>115949.039788</td>\n",
       "      <td>покупка коммерческой недвижимости</td>\n",
       "    </tr>\n",
       "    <tr>\n",
       "      <th>21520</th>\n",
       "      <td>1</td>\n",
       "      <td>-4529.316663</td>\n",
       "      <td>43</td>\n",
       "      <td>среднее</td>\n",
       "      <td>1</td>\n",
       "      <td>гражданский брак</td>\n",
       "      <td>1</td>\n",
       "      <td>F</td>\n",
       "      <td>компаньон</td>\n",
       "      <td>0</td>\n",
       "      <td>224791.862382</td>\n",
       "      <td>операции с жильем</td>\n",
       "    </tr>\n",
       "    <tr>\n",
       "      <th>21521</th>\n",
       "      <td>0</td>\n",
       "      <td>343937.404131</td>\n",
       "      <td>67</td>\n",
       "      <td>среднее</td>\n",
       "      <td>1</td>\n",
       "      <td>женат / замужем</td>\n",
       "      <td>0</td>\n",
       "      <td>F</td>\n",
       "      <td>пенсионер</td>\n",
       "      <td>0</td>\n",
       "      <td>155999.806512</td>\n",
       "      <td>сделка с автомобилем</td>\n",
       "    </tr>\n",
       "    <tr>\n",
       "      <th>21522</th>\n",
       "      <td>1</td>\n",
       "      <td>-2113.346888</td>\n",
       "      <td>38</td>\n",
       "      <td>среднее</td>\n",
       "      <td>1</td>\n",
       "      <td>гражданский брак</td>\n",
       "      <td>1</td>\n",
       "      <td>M</td>\n",
       "      <td>сотрудник</td>\n",
       "      <td>1</td>\n",
       "      <td>89672.561153</td>\n",
       "      <td>недвижимость</td>\n",
       "    </tr>\n",
       "    <tr>\n",
       "      <th>21523</th>\n",
       "      <td>3</td>\n",
       "      <td>-3112.481705</td>\n",
       "      <td>38</td>\n",
       "      <td>среднее</td>\n",
       "      <td>1</td>\n",
       "      <td>женат / замужем</td>\n",
       "      <td>0</td>\n",
       "      <td>M</td>\n",
       "      <td>сотрудник</td>\n",
       "      <td>1</td>\n",
       "      <td>244093.050500</td>\n",
       "      <td>на покупку своего автомобиля</td>\n",
       "    </tr>\n",
       "    <tr>\n",
       "      <th>21524</th>\n",
       "      <td>2</td>\n",
       "      <td>-1984.507589</td>\n",
       "      <td>40</td>\n",
       "      <td>среднее</td>\n",
       "      <td>1</td>\n",
       "      <td>женат / замужем</td>\n",
       "      <td>0</td>\n",
       "      <td>F</td>\n",
       "      <td>сотрудник</td>\n",
       "      <td>0</td>\n",
       "      <td>82047.418899</td>\n",
       "      <td>на покупку автомобиля</td>\n",
       "    </tr>\n",
       "  </tbody>\n",
       "</table>\n",
       "</div>"
      ],
      "text/plain": [
       "       children  days_employed  dob_years       education  education_id  \\\n",
       "21515         1    -467.685130         28         среднее             1   \n",
       "21516         0    -914.391429         42          высшее             0   \n",
       "21517         0    -404.679034         42          высшее             0   \n",
       "21518         0  373995.710838         59         СРЕДНЕЕ             1   \n",
       "21519         1   -2351.431934         37  ученая степень             4   \n",
       "21520         1   -4529.316663         43         среднее             1   \n",
       "21521         0  343937.404131         67         среднее             1   \n",
       "21522         1   -2113.346888         38         среднее             1   \n",
       "21523         3   -3112.481705         38         среднее             1   \n",
       "21524         2   -1984.507589         40         среднее             1   \n",
       "\n",
       "          family_status  family_status_id gender income_type  debt  \\\n",
       "21515   женат / замужем                 0      F   сотрудник     1   \n",
       "21516   женат / замужем                 0      F   компаньон     0   \n",
       "21517  гражданский брак                 1      F   компаньон     0   \n",
       "21518   женат / замужем                 0      F   пенсионер     0   \n",
       "21519         в разводе                 3      M   сотрудник     0   \n",
       "21520  гражданский брак                 1      F   компаньон     0   \n",
       "21521   женат / замужем                 0      F   пенсионер     0   \n",
       "21522  гражданский брак                 1      M   сотрудник     1   \n",
       "21523   женат / замужем                 0      M   сотрудник     1   \n",
       "21524   женат / замужем                 0      F   сотрудник     0   \n",
       "\n",
       "        total_income                            purpose  \n",
       "21515  109486.327999              заняться образованием  \n",
       "21516  322807.776603               покупка своего жилья  \n",
       "21517  178059.553491       на покупку своего автомобиля  \n",
       "21518  153864.650328               сделка с автомобилем  \n",
       "21519  115949.039788  покупка коммерческой недвижимости  \n",
       "21520  224791.862382                  операции с жильем  \n",
       "21521  155999.806512               сделка с автомобилем  \n",
       "21522   89672.561153                       недвижимость  \n",
       "21523  244093.050500       на покупку своего автомобиля  \n",
       "21524   82047.418899              на покупку автомобиля  "
      ]
     },
     "execution_count": 4,
     "metadata": {},
     "output_type": "execute_result"
    }
   ],
   "source": [
    "df.tail(10)"
   ]
  },
  {
   "cell_type": "code",
   "execution_count": 5,
   "id": "823715ed",
   "metadata": {},
   "outputs": [
    {
     "name": "stdout",
     "output_type": "stream",
     "text": [
      "<class 'pandas.core.frame.DataFrame'>\n",
      "RangeIndex: 21525 entries, 0 to 21524\n",
      "Data columns (total 12 columns):\n",
      " #   Column            Non-Null Count  Dtype  \n",
      "---  ------            --------------  -----  \n",
      " 0   children          21525 non-null  int64  \n",
      " 1   days_employed     19351 non-null  float64\n",
      " 2   dob_years         21525 non-null  int64  \n",
      " 3   education         21525 non-null  object \n",
      " 4   education_id      21525 non-null  int64  \n",
      " 5   family_status     21525 non-null  object \n",
      " 6   family_status_id  21525 non-null  int64  \n",
      " 7   gender            21525 non-null  object \n",
      " 8   income_type       21525 non-null  object \n",
      " 9   debt              21525 non-null  int64  \n",
      " 10  total_income      19351 non-null  float64\n",
      " 11  purpose           21525 non-null  object \n",
      "dtypes: float64(2), int64(5), object(5)\n",
      "memory usage: 2.0+ MB\n"
     ]
    }
   ],
   "source": [
    "df.info()"
   ]
  },
  {
   "cell_type": "code",
   "execution_count": 6,
   "id": "d8b9b103",
   "metadata": {},
   "outputs": [
    {
     "data": {
      "text/html": [
       "<div>\n",
       "<style scoped>\n",
       "    .dataframe tbody tr th:only-of-type {\n",
       "        vertical-align: middle;\n",
       "    }\n",
       "\n",
       "    .dataframe tbody tr th {\n",
       "        vertical-align: top;\n",
       "    }\n",
       "\n",
       "    .dataframe thead th {\n",
       "        text-align: right;\n",
       "    }\n",
       "</style>\n",
       "<table border=\"1\" class=\"dataframe\">\n",
       "  <thead>\n",
       "    <tr style=\"text-align: right;\">\n",
       "      <th></th>\n",
       "      <th>children</th>\n",
       "      <th>days_employed</th>\n",
       "      <th>dob_years</th>\n",
       "      <th>education_id</th>\n",
       "      <th>family_status_id</th>\n",
       "      <th>debt</th>\n",
       "      <th>total_income</th>\n",
       "    </tr>\n",
       "  </thead>\n",
       "  <tbody>\n",
       "    <tr>\n",
       "      <th>count</th>\n",
       "      <td>21525.000000</td>\n",
       "      <td>19351.000000</td>\n",
       "      <td>21525.000000</td>\n",
       "      <td>21525.000000</td>\n",
       "      <td>21525.000000</td>\n",
       "      <td>21525.000000</td>\n",
       "      <td>1.935100e+04</td>\n",
       "    </tr>\n",
       "    <tr>\n",
       "      <th>mean</th>\n",
       "      <td>0.538908</td>\n",
       "      <td>63046.497661</td>\n",
       "      <td>43.293380</td>\n",
       "      <td>0.817236</td>\n",
       "      <td>0.972544</td>\n",
       "      <td>0.080883</td>\n",
       "      <td>1.674223e+05</td>\n",
       "    </tr>\n",
       "    <tr>\n",
       "      <th>std</th>\n",
       "      <td>1.381587</td>\n",
       "      <td>140827.311974</td>\n",
       "      <td>12.574584</td>\n",
       "      <td>0.548138</td>\n",
       "      <td>1.420324</td>\n",
       "      <td>0.272661</td>\n",
       "      <td>1.029716e+05</td>\n",
       "    </tr>\n",
       "    <tr>\n",
       "      <th>min</th>\n",
       "      <td>-1.000000</td>\n",
       "      <td>-18388.949901</td>\n",
       "      <td>0.000000</td>\n",
       "      <td>0.000000</td>\n",
       "      <td>0.000000</td>\n",
       "      <td>0.000000</td>\n",
       "      <td>2.066726e+04</td>\n",
       "    </tr>\n",
       "    <tr>\n",
       "      <th>25%</th>\n",
       "      <td>0.000000</td>\n",
       "      <td>-2747.423625</td>\n",
       "      <td>33.000000</td>\n",
       "      <td>1.000000</td>\n",
       "      <td>0.000000</td>\n",
       "      <td>0.000000</td>\n",
       "      <td>1.030532e+05</td>\n",
       "    </tr>\n",
       "    <tr>\n",
       "      <th>50%</th>\n",
       "      <td>0.000000</td>\n",
       "      <td>-1203.369529</td>\n",
       "      <td>42.000000</td>\n",
       "      <td>1.000000</td>\n",
       "      <td>0.000000</td>\n",
       "      <td>0.000000</td>\n",
       "      <td>1.450179e+05</td>\n",
       "    </tr>\n",
       "    <tr>\n",
       "      <th>75%</th>\n",
       "      <td>1.000000</td>\n",
       "      <td>-291.095954</td>\n",
       "      <td>53.000000</td>\n",
       "      <td>1.000000</td>\n",
       "      <td>1.000000</td>\n",
       "      <td>0.000000</td>\n",
       "      <td>2.034351e+05</td>\n",
       "    </tr>\n",
       "    <tr>\n",
       "      <th>max</th>\n",
       "      <td>20.000000</td>\n",
       "      <td>401755.400475</td>\n",
       "      <td>75.000000</td>\n",
       "      <td>4.000000</td>\n",
       "      <td>4.000000</td>\n",
       "      <td>1.000000</td>\n",
       "      <td>2.265604e+06</td>\n",
       "    </tr>\n",
       "  </tbody>\n",
       "</table>\n",
       "</div>"
      ],
      "text/plain": [
       "           children  days_employed     dob_years  education_id  \\\n",
       "count  21525.000000   19351.000000  21525.000000  21525.000000   \n",
       "mean       0.538908   63046.497661     43.293380      0.817236   \n",
       "std        1.381587  140827.311974     12.574584      0.548138   \n",
       "min       -1.000000  -18388.949901      0.000000      0.000000   \n",
       "25%        0.000000   -2747.423625     33.000000      1.000000   \n",
       "50%        0.000000   -1203.369529     42.000000      1.000000   \n",
       "75%        1.000000    -291.095954     53.000000      1.000000   \n",
       "max       20.000000  401755.400475     75.000000      4.000000   \n",
       "\n",
       "       family_status_id          debt  total_income  \n",
       "count      21525.000000  21525.000000  1.935100e+04  \n",
       "mean           0.972544      0.080883  1.674223e+05  \n",
       "std            1.420324      0.272661  1.029716e+05  \n",
       "min            0.000000      0.000000  2.066726e+04  \n",
       "25%            0.000000      0.000000  1.030532e+05  \n",
       "50%            0.000000      0.000000  1.450179e+05  \n",
       "75%            1.000000      0.000000  2.034351e+05  \n",
       "max            4.000000      1.000000  2.265604e+06  "
      ]
     },
     "execution_count": 6,
     "metadata": {},
     "output_type": "execute_result"
    }
   ],
   "source": [
    "df.describe() # общие статистические данные"
   ]
  },
  {
   "cell_type": "markdown",
   "id": "bf8fad27",
   "metadata": {},
   "source": [
    "## Вывод\n",
    "\n",
    "**Проблемы, которые необходимо исправить:**\n",
    "\n",
    "- отрицательные значения в количестве детей, а так же в днях стажа\n",
    "- отсутствуют строки в днях стажа и доходе\n",
    "- некорректные типы данных — в днях стажа и в доходе плавающая точка\n",
    "- дни стажа в днях, более удобно будет в полных годах\n",
    "- дублирование причины взятие кредита (описание разное - цель одна, образование, авто, недвижимость и т.п.)\n",
    "- разный регистр букв в графе образование\n",
    "- валюта дохода (но предположим, что все данные указаны в рублях)\n",
    "- значение в возрасте должно быть > 18"
   ]
  },
  {
   "cell_type": "markdown",
   "id": "0059ca33",
   "metadata": {},
   "source": [
    "# Этапы обработки данных"
   ]
  },
  {
   "cell_type": "markdown",
   "id": "f8d8cb80",
   "metadata": {},
   "source": [
    "## Заполнение пропусков"
   ]
  },
  {
   "cell_type": "markdown",
   "id": "d0b34e94",
   "metadata": {},
   "source": [
    "**Найдем и исправим пропуски в данных**"
   ]
  },
  {
   "cell_type": "code",
   "execution_count": 7,
   "id": "7c16969b",
   "metadata": {},
   "outputs": [
    {
     "data": {
      "text/plain": [
       "children               0\n",
       "days_employed       2174\n",
       "dob_years              0\n",
       "education              0\n",
       "education_id           0\n",
       "family_status          0\n",
       "family_status_id       0\n",
       "gender                 0\n",
       "income_type            0\n",
       "debt                   0\n",
       "total_income        2174\n",
       "purpose                0\n",
       "dtype: int64"
      ]
     },
     "execution_count": 7,
     "metadata": {},
     "output_type": "execute_result"
    }
   ],
   "source": [
    "# Проверим наличие пропусков\n",
    "df.isnull().sum()"
   ]
  },
  {
   "cell_type": "markdown",
   "id": "ee41dc40",
   "metadata": {},
   "source": [
    "Пропуски обнаружены в граффах стажа работы и среднего дохода\n",
    "Возможны некоторые причины: \n",
    "- люди никогда не работали\n",
    "- данные не были предоставлены\n",
    "- ошибка при выгрузке данных"
   ]
  },
  {
   "cell_type": "markdown",
   "id": "a6115a9b",
   "metadata": {},
   "source": [
    "Заменять данные на средние значения крайне не корректно по той причине, что они могут повлиять на решение о выдаче кредита, но данного требования и нет, но и заменять пропуски на значение 0 так же не правильно, так как это уже в прямой степене будет влиять на исследование в целом, хотя стаж не влияет на цель исследования, а средний доход можно приравнять к среднему значению по статусу заёмщика (сотрудник, компаньон, предприниматель, потому как приравнивать 20ти летнего студента с предпринимателем со стажем по среднему доходу не будет правильным), что возможно положительно скажется на исследовании.\n",
    "Поэтому заменим все пропуски временно на абсолютный 0, который в последствии сможем изменить при необходимости на среднее значение, для удобства работы с данными (потому как доля пропусков достаточно велика по отношение к общему числу данных)"
   ]
  },
  {
   "cell_type": "code",
   "execution_count": 8,
   "id": "c9655646",
   "metadata": {},
   "outputs": [
    {
     "name": "stdout",
     "output_type": "stream",
     "text": [
      "0\n",
      "0\n"
     ]
    }
   ],
   "source": [
    "# проверим в начале, есть в принципе те, кто записывал стаж и ежемесячный доход как \"0\"\n",
    "print(df[df['total_income'] == 0]['total_income'].count())\n",
    "print(df[df['days_employed'] == 0]['days_employed'].count())\n",
    "# использовал print, что бы вывести оба значения"
   ]
  },
  {
   "cell_type": "code",
   "execution_count": 9,
   "id": "fe6b4056",
   "metadata": {},
   "outputs": [],
   "source": [
    "# Заменим пропуски на \"асолютный 0\" \n",
    "df['total_income'] = df['total_income'].fillna(0)\n",
    "df['days_employed'] = df['days_employed'].fillna(0)"
   ]
  },
  {
   "cell_type": "markdown",
   "id": "4a834be9",
   "metadata": {},
   "source": [
    "## Проверка данных на аномалии и исправления."
   ]
  },
  {
   "cell_type": "markdown",
   "id": "8b8b4e28",
   "metadata": {},
   "source": [
    "**Проверим данные и исправим данные в графе 'children'**\n",
    "\n",
    "Первая аномалия - кол-во детей -1\n",
    "\n",
    "Вторая аномаия - кол-во детей 20"
   ]
  },
  {
   "cell_type": "code",
   "execution_count": 10,
   "id": "decbb8c2",
   "metadata": {},
   "outputs": [
    {
     "data": {
      "text/plain": [
       "array([ 1,  0,  3,  2, -1,  4, 20,  5])"
      ]
     },
     "execution_count": 10,
     "metadata": {},
     "output_type": "execute_result"
    }
   ],
   "source": [
    "df['children'].unique()"
   ]
  },
  {
   "cell_type": "code",
   "execution_count": 11,
   "id": "a18e1663",
   "metadata": {},
   "outputs": [
    {
     "data": {
      "text/plain": [
       "47"
      ]
     },
     "execution_count": 11,
     "metadata": {},
     "output_type": "execute_result"
    }
   ],
   "source": [
    "# -1 слишком мало, 20 слишком много, но не исключено\n",
    "# определим общее число строк с такими данными\n",
    "# кол-во детей -1\n",
    "df[df['children'] == -1]['children'].count()"
   ]
  },
  {
   "cell_type": "code",
   "execution_count": 12,
   "id": "7a21cec7",
   "metadata": {},
   "outputs": [],
   "source": [
    "# заменим -1 на 1, возможно допущена ошибка при вводе\n",
    "df['children'] = df['children'].replace(-1, 1)"
   ]
  },
  {
   "cell_type": "code",
   "execution_count": 13,
   "id": "00c2a9fd",
   "metadata": {},
   "outputs": [
    {
     "data": {
      "text/plain": [
       "0"
      ]
     },
     "execution_count": 13,
     "metadata": {},
     "output_type": "execute_result"
    }
   ],
   "source": [
    "# проверим\n",
    "df[df['children'] == -1]['children'].count()"
   ]
  },
  {
   "cell_type": "code",
   "execution_count": 14,
   "id": "9a176023",
   "metadata": {},
   "outputs": [
    {
     "data": {
      "text/plain": [
       "76"
      ]
     },
     "execution_count": 14,
     "metadata": {},
     "output_type": "execute_result"
    }
   ],
   "source": [
    "# кол-во детей 20\n",
    "df[df['children'] == 20]['children'].count()"
   ]
  },
  {
   "cell_type": "code",
   "execution_count": 15,
   "id": "fa849526",
   "metadata": {},
   "outputs": [
    {
     "data": {
      "text/plain": [
       "dob_years\n",
       "0     1\n",
       "21    1\n",
       "23    1\n",
       "24    1\n",
       "25    1\n",
       "26    1\n",
       "27    2\n",
       "29    2\n",
       "30    3\n",
       "31    2\n",
       "32    2\n",
       "33    2\n",
       "34    3\n",
       "35    2\n",
       "36    2\n",
       "37    4\n",
       "38    1\n",
       "39    1\n",
       "40    4\n",
       "41    2\n",
       "42    3\n",
       "43    2\n",
       "44    2\n",
       "45    3\n",
       "46    3\n",
       "48    1\n",
       "49    3\n",
       "50    3\n",
       "51    1\n",
       "52    1\n",
       "53    1\n",
       "54    1\n",
       "55    1\n",
       "56    5\n",
       "57    1\n",
       "59    2\n",
       "60    1\n",
       "61    1\n",
       "62    1\n",
       "64    1\n",
       "69    1\n",
       "Name: dob_years, dtype: int64"
      ]
     },
     "execution_count": 15,
     "metadata": {},
     "output_type": "execute_result"
    }
   ],
   "source": [
    "# проверим по возрасту\n",
    "df[df['children'] == 20].groupby('dob_years')['dob_years'].count()"
   ]
  },
  {
   "cell_type": "code",
   "execution_count": 16,
   "id": "7a29d04e",
   "metadata": {},
   "outputs": [],
   "source": [
    "# после 35 лет всё возможно, но до... \n",
    "# возмем данный факт за ошибку, и исправим на 2 (\"замену на 2\" взял как вариант из ответов в групповом чате)\n",
    "# возможно 0 стоял по умолчанию в графе \"кол-во детей\" и добавился к вводимым данным\n",
    "# заменим 20 на 2\n",
    "df['children'] = df['children'].replace(20, 2)"
   ]
  },
  {
   "cell_type": "code",
   "execution_count": 17,
   "id": "e4934686",
   "metadata": {},
   "outputs": [
    {
     "data": {
      "text/plain": [
       "0    14149\n",
       "1     4865\n",
       "2     2131\n",
       "3      330\n",
       "4       41\n",
       "5        9\n",
       "Name: children, dtype: int64"
      ]
     },
     "execution_count": 17,
     "metadata": {},
     "output_type": "execute_result"
    }
   ],
   "source": [
    "# сгруппируем и посмотрим что вышло\n",
    "df['children'].value_counts()"
   ]
  },
  {
   "cell_type": "markdown",
   "id": "5007fff5",
   "metadata": {},
   "source": [
    "**Трудовой стаж в днях**"
   ]
  },
  {
   "cell_type": "code",
   "execution_count": 18,
   "id": "1188f650",
   "metadata": {},
   "outputs": [
    {
     "data": {
      "text/plain": [
       "count     21525.000000\n",
       "mean      56678.874622\n",
       "std      134870.763085\n",
       "min      -18388.949901\n",
       "25%       -2518.168900\n",
       "50%        -982.531720\n",
       "75%           0.000000\n",
       "max      401755.400475\n",
       "Name: days_employed, dtype: float64"
      ]
     },
     "execution_count": 18,
     "metadata": {},
     "output_type": "execute_result"
    }
   ],
   "source": [
    "df['days_employed'].describe()"
   ]
  },
  {
   "cell_type": "code",
   "execution_count": 19,
   "id": "002f7706",
   "metadata": {},
   "outputs": [],
   "source": [
    "# - явно проблема в отрицательных значениях, возможно проблемма из-за выгрузки данных\n",
    "# - значения дробные, гораздо нагляднее будет использовать года в стаже работы\n",
    "# - много \"нулевых\" значений, но их исправление не является целью\n",
    "# Исправим отрицательные значения\n",
    "df['days_employed'] = df['days_employed'].abs()"
   ]
  },
  {
   "cell_type": "code",
   "execution_count": 20,
   "id": "b467f36d",
   "metadata": {},
   "outputs": [],
   "source": [
    "# Переведем дни в года и добавим новый столбец в таблицу с данными\n",
    "df['years_employed'] = df['days_employed'] / 365"
   ]
  },
  {
   "cell_type": "code",
   "execution_count": 21,
   "id": "0992b6b9",
   "metadata": {},
   "outputs": [],
   "source": [
    "# удалим данные со стажем работы в днях, они не понадобятся в исследовании в принципе\n",
    "del df['days_employed']"
   ]
  },
  {
   "cell_type": "markdown",
   "id": "b7201dbc",
   "metadata": {},
   "source": [
    "**Корректировка данных со значениями среднего дохода**"
   ]
  },
  {
   "cell_type": "code",
   "execution_count": 22,
   "id": "051f372b",
   "metadata": {},
   "outputs": [],
   "source": [
    "# функция для замены \"абсолютного нуля\" среднего дохода медианой зарплаты в соответствии с категорией занятости\n",
    "def non_years_employed(row): \n",
    "    if row['years_employed'] == 0:\n",
    "        return df[df['income_type'] == row['income_type']]['total_income'].median()\n",
    "    else:\n",
    "        return row['total_income']\n",
    "    df['total_income'] = df.apply(non_days_employed, axis=1)"
   ]
  },
  {
   "cell_type": "markdown",
   "id": "9491e82d",
   "metadata": {},
   "source": [
    "**Проверка данных с гендорной принадлежностью заёмщика**"
   ]
  },
  {
   "cell_type": "code",
   "execution_count": 23,
   "id": "76a18cf4",
   "metadata": {},
   "outputs": [
    {
     "data": {
      "text/plain": [
       "array(['F', 'M', 'XNA'], dtype=object)"
      ]
     },
     "execution_count": 23,
     "metadata": {},
     "output_type": "execute_result"
    }
   ],
   "source": [
    "df['gender'].unique()"
   ]
  },
  {
   "cell_type": "code",
   "execution_count": 24,
   "id": "96a83ca3",
   "metadata": {},
   "outputs": [
    {
     "data": {
      "text/plain": [
       "children            1\n",
       "dob_years           1\n",
       "education           1\n",
       "education_id        1\n",
       "family_status       1\n",
       "family_status_id    1\n",
       "gender              1\n",
       "income_type         1\n",
       "debt                1\n",
       "total_income        1\n",
       "purpose             1\n",
       "years_employed      1\n",
       "dtype: int64"
      ]
     },
     "execution_count": 24,
     "metadata": {},
     "output_type": "execute_result"
    }
   ],
   "source": [
    "# Имеются данные со значение 'XNA', посмотрим записи с эти значением\n",
    "df[df['gender'] == 'XNA'].count()"
   ]
  },
  {
   "cell_type": "code",
   "execution_count": 25,
   "id": "69302b86",
   "metadata": {},
   "outputs": [],
   "source": [
    "# Данная записи всего одна, оставим её, потому как на принадлежность по гендору её значение не влияет, \n",
    "# а вот вводные данные по зависимости возраста, цели или семейного положения могут повлиять на возврат кредита в срок"
   ]
  },
  {
   "cell_type": "markdown",
   "id": "559a4047",
   "metadata": {},
   "source": [
    "**Проверим значения возраста**"
   ]
  },
  {
   "cell_type": "code",
   "execution_count": 26,
   "id": "9ede5df7",
   "metadata": {},
   "outputs": [
    {
     "data": {
      "text/plain": [
       "children            101\n",
       "dob_years           101\n",
       "education           101\n",
       "education_id        101\n",
       "family_status       101\n",
       "family_status_id    101\n",
       "gender              101\n",
       "income_type         101\n",
       "debt                101\n",
       "total_income        101\n",
       "purpose             101\n",
       "years_employed      101\n",
       "dtype: int64"
      ]
     },
     "execution_count": 26,
     "metadata": {},
     "output_type": "execute_result"
    }
   ],
   "source": [
    "df[df['dob_years'] < 18].count()"
   ]
  },
  {
   "cell_type": "code",
   "execution_count": 27,
   "id": "ef03ded4",
   "metadata": {},
   "outputs": [
    {
     "data": {
      "text/plain": [
       "years_employed\n",
       "0.000000       10\n",
       "0.298540        1\n",
       "0.446403        1\n",
       "0.483300        1\n",
       "0.555070        1\n",
       "               ..\n",
       "1018.261037     1\n",
       "1082.053000     1\n",
       "1084.640585     1\n",
       "1090.017986     1\n",
       "1098.609249     1\n",
       "Name: years_employed, Length: 92, dtype: int64"
      ]
     },
     "execution_count": 27,
     "metadata": {},
     "output_type": "execute_result"
    }
   ],
   "source": [
    "# Достаточно много, сгруппируем по стажу работы, который указали \n",
    "df[df['dob_years'] < 18].groupby(['years_employed'])['years_employed'].count()"
   ]
  },
  {
   "cell_type": "markdown",
   "id": "ce889955",
   "metadata": {},
   "source": [
    "Возраст не указан как и с реальным стажем работы, так и с аномальным, стоит оставить, потому как не известна природа данных значений. В исследовании данный параметр повлияет только выдод о целях кредита."
   ]
  },
  {
   "cell_type": "code",
   "execution_count": 28,
   "id": "7cacf3f7",
   "metadata": {},
   "outputs": [
    {
     "data": {
      "text/plain": [
       "array(['сотрудник', 'пенсионер', 'компаньон', 'госслужащий',\n",
       "       'безработный', 'предприниматель', 'студент', 'в декрете'],\n",
       "      dtype=object)"
      ]
     },
     "execution_count": 28,
     "metadata": {},
     "output_type": "execute_result"
    }
   ],
   "source": [
    "# Со статусом заёмщика вроде всё впорядке\n",
    "df['income_type'].unique()"
   ]
  },
  {
   "cell_type": "code",
   "execution_count": 29,
   "id": "d4ab8180",
   "metadata": {},
   "outputs": [
    {
     "data": {
      "text/plain": [
       "array(['женат / замужем', 'гражданский брак', 'вдовец / вдова',\n",
       "       'в разводе', 'не женат / не замужем'], dtype=object)"
      ]
     },
     "execution_count": 29,
     "metadata": {},
     "output_type": "execute_result"
    }
   ],
   "source": [
    "# С семейным статусом так же всё впрорядке, но для удобства приведём к нижнему регистру\n",
    "df['family_status'] = df['family_status'].str.lower()\n",
    "df['family_status'].unique()"
   ]
  },
  {
   "cell_type": "code",
   "execution_count": 30,
   "id": "5bac92cd",
   "metadata": {},
   "outputs": [
    {
     "data": {
      "text/plain": [
       "array(['высшее', 'среднее', 'неоконченное высшее', 'начальное',\n",
       "       'ученая степень'], dtype=object)"
      ]
     },
     "execution_count": 30,
     "metadata": {},
     "output_type": "execute_result"
    }
   ],
   "source": [
    "# По аналогии с семейным статусом сделаем то же самое и с образованием\n",
    "df['education'] = df['education'].str.lower()\n",
    "df['education'].unique()"
   ]
  },
  {
   "cell_type": "markdown",
   "id": "a8956f4f",
   "metadata": {},
   "source": [
    "## Изменение типов данных."
   ]
  },
  {
   "cell_type": "code",
   "execution_count": 31,
   "id": "89c60793",
   "metadata": {},
   "outputs": [],
   "source": [
    "# сделаем значения стажа работы целыми\n",
    "df['years_employed'] = df['years_employed'].astype(int)\n",
    "# по аналогии со стажем переведем средний доход в целые числа\n",
    "df['total_income'] = df['total_income'].astype(int)\n",
    "# Причины:\n",
    "# - данные с дополнительными цифрами после запятой сложно воспринимать зрительно\n",
    "# - в условии задачи можно пожертвовать минимальной точностью"
   ]
  },
  {
   "cell_type": "markdown",
   "id": "cab2f5e1",
   "metadata": {},
   "source": [
    "## Удаление дубликатов."
   ]
  },
  {
   "cell_type": "code",
   "execution_count": 32,
   "id": "e1f9bcf9",
   "metadata": {},
   "outputs": [
    {
     "name": "stdout",
     "output_type": "stream",
     "text": [
      "Число дубликатов: 71\n",
      "Число полностью идентичных строк: 137\n",
      "Доля дубликатов из общей длины массива: 0.33%\n"
     ]
    }
   ],
   "source": [
    "# проверим дубликаты\n",
    "print('Число дубликатов:', df.duplicated().sum())\n",
    "print('Число полностью идентичных строк:', df.duplicated(keep = False).sum())\n",
    "print('Доля дубликатов из общей длины массива: {:.2%}'.format(df.duplicated().sum() / len(df)))"
   ]
  },
  {
   "cell_type": "code",
   "execution_count": 33,
   "id": "49a19262",
   "metadata": {},
   "outputs": [
    {
     "data": {
      "text/html": [
       "<div>\n",
       "<style scoped>\n",
       "    .dataframe tbody tr th:only-of-type {\n",
       "        vertical-align: middle;\n",
       "    }\n",
       "\n",
       "    .dataframe tbody tr th {\n",
       "        vertical-align: top;\n",
       "    }\n",
       "\n",
       "    .dataframe thead th {\n",
       "        text-align: right;\n",
       "    }\n",
       "</style>\n",
       "<table border=\"1\" class=\"dataframe\">\n",
       "  <thead>\n",
       "    <tr style=\"text-align: right;\">\n",
       "      <th></th>\n",
       "      <th>children</th>\n",
       "      <th>dob_years</th>\n",
       "      <th>education</th>\n",
       "      <th>education_id</th>\n",
       "      <th>family_status</th>\n",
       "      <th>family_status_id</th>\n",
       "      <th>gender</th>\n",
       "      <th>income_type</th>\n",
       "      <th>debt</th>\n",
       "      <th>total_income</th>\n",
       "      <th>purpose</th>\n",
       "      <th>years_employed</th>\n",
       "    </tr>\n",
       "  </thead>\n",
       "  <tbody>\n",
       "    <tr>\n",
       "      <th>7938</th>\n",
       "      <td>0</td>\n",
       "      <td>71</td>\n",
       "      <td>среднее</td>\n",
       "      <td>1</td>\n",
       "      <td>гражданский брак</td>\n",
       "      <td>1</td>\n",
       "      <td>F</td>\n",
       "      <td>пенсионер</td>\n",
       "      <td>0</td>\n",
       "      <td>0</td>\n",
       "      <td>на проведение свадьбы</td>\n",
       "      <td>0</td>\n",
       "    </tr>\n",
       "    <tr>\n",
       "      <th>9604</th>\n",
       "      <td>0</td>\n",
       "      <td>71</td>\n",
       "      <td>среднее</td>\n",
       "      <td>1</td>\n",
       "      <td>гражданский брак</td>\n",
       "      <td>1</td>\n",
       "      <td>F</td>\n",
       "      <td>пенсионер</td>\n",
       "      <td>0</td>\n",
       "      <td>0</td>\n",
       "      <td>на проведение свадьбы</td>\n",
       "      <td>0</td>\n",
       "    </tr>\n",
       "    <tr>\n",
       "      <th>6537</th>\n",
       "      <td>0</td>\n",
       "      <td>71</td>\n",
       "      <td>среднее</td>\n",
       "      <td>1</td>\n",
       "      <td>гражданский брак</td>\n",
       "      <td>1</td>\n",
       "      <td>F</td>\n",
       "      <td>пенсионер</td>\n",
       "      <td>0</td>\n",
       "      <td>0</td>\n",
       "      <td>на проведение свадьбы</td>\n",
       "      <td>0</td>\n",
       "    </tr>\n",
       "    <tr>\n",
       "      <th>5865</th>\n",
       "      <td>0</td>\n",
       "      <td>66</td>\n",
       "      <td>среднее</td>\n",
       "      <td>1</td>\n",
       "      <td>вдовец / вдова</td>\n",
       "      <td>2</td>\n",
       "      <td>F</td>\n",
       "      <td>пенсионер</td>\n",
       "      <td>0</td>\n",
       "      <td>0</td>\n",
       "      <td>операции со своей недвижимостью</td>\n",
       "      <td>0</td>\n",
       "    </tr>\n",
       "    <tr>\n",
       "      <th>9528</th>\n",
       "      <td>0</td>\n",
       "      <td>66</td>\n",
       "      <td>среднее</td>\n",
       "      <td>1</td>\n",
       "      <td>вдовец / вдова</td>\n",
       "      <td>2</td>\n",
       "      <td>F</td>\n",
       "      <td>пенсионер</td>\n",
       "      <td>0</td>\n",
       "      <td>0</td>\n",
       "      <td>операции со своей недвижимостью</td>\n",
       "      <td>0</td>\n",
       "    </tr>\n",
       "    <tr>\n",
       "      <th>20187</th>\n",
       "      <td>0</td>\n",
       "      <td>65</td>\n",
       "      <td>среднее</td>\n",
       "      <td>1</td>\n",
       "      <td>гражданский брак</td>\n",
       "      <td>1</td>\n",
       "      <td>F</td>\n",
       "      <td>пенсионер</td>\n",
       "      <td>0</td>\n",
       "      <td>0</td>\n",
       "      <td>сыграть свадьбу</td>\n",
       "      <td>0</td>\n",
       "    </tr>\n",
       "    <tr>\n",
       "      <th>13035</th>\n",
       "      <td>0</td>\n",
       "      <td>65</td>\n",
       "      <td>среднее</td>\n",
       "      <td>1</td>\n",
       "      <td>гражданский брак</td>\n",
       "      <td>1</td>\n",
       "      <td>F</td>\n",
       "      <td>пенсионер</td>\n",
       "      <td>0</td>\n",
       "      <td>0</td>\n",
       "      <td>сыграть свадьбу</td>\n",
       "      <td>0</td>\n",
       "    </tr>\n",
       "    <tr>\n",
       "      <th>7313</th>\n",
       "      <td>0</td>\n",
       "      <td>64</td>\n",
       "      <td>высшее</td>\n",
       "      <td>0</td>\n",
       "      <td>гражданский брак</td>\n",
       "      <td>1</td>\n",
       "      <td>F</td>\n",
       "      <td>пенсионер</td>\n",
       "      <td>0</td>\n",
       "      <td>0</td>\n",
       "      <td>на проведение свадьбы</td>\n",
       "      <td>0</td>\n",
       "    </tr>\n",
       "    <tr>\n",
       "      <th>20702</th>\n",
       "      <td>0</td>\n",
       "      <td>64</td>\n",
       "      <td>среднее</td>\n",
       "      <td>1</td>\n",
       "      <td>женат / замужем</td>\n",
       "      <td>0</td>\n",
       "      <td>F</td>\n",
       "      <td>пенсионер</td>\n",
       "      <td>0</td>\n",
       "      <td>0</td>\n",
       "      <td>дополнительное образование</td>\n",
       "      <td>0</td>\n",
       "    </tr>\n",
       "    <tr>\n",
       "      <th>12389</th>\n",
       "      <td>0</td>\n",
       "      <td>64</td>\n",
       "      <td>среднее</td>\n",
       "      <td>1</td>\n",
       "      <td>женат / замужем</td>\n",
       "      <td>0</td>\n",
       "      <td>F</td>\n",
       "      <td>пенсионер</td>\n",
       "      <td>0</td>\n",
       "      <td>0</td>\n",
       "      <td>дополнительное образование</td>\n",
       "      <td>0</td>\n",
       "    </tr>\n",
       "  </tbody>\n",
       "</table>\n",
       "</div>"
      ],
      "text/plain": [
       "       children  dob_years education  education_id     family_status  \\\n",
       "7938          0         71   среднее             1  гражданский брак   \n",
       "9604          0         71   среднее             1  гражданский брак   \n",
       "6537          0         71   среднее             1  гражданский брак   \n",
       "5865          0         66   среднее             1    вдовец / вдова   \n",
       "9528          0         66   среднее             1    вдовец / вдова   \n",
       "20187         0         65   среднее             1  гражданский брак   \n",
       "13035         0         65   среднее             1  гражданский брак   \n",
       "7313          0         64    высшее             0  гражданский брак   \n",
       "20702         0         64   среднее             1   женат / замужем   \n",
       "12389         0         64   среднее             1   женат / замужем   \n",
       "\n",
       "       family_status_id gender income_type  debt  total_income  \\\n",
       "7938                  1      F   пенсионер     0             0   \n",
       "9604                  1      F   пенсионер     0             0   \n",
       "6537                  1      F   пенсионер     0             0   \n",
       "5865                  2      F   пенсионер     0             0   \n",
       "9528                  2      F   пенсионер     0             0   \n",
       "20187                 1      F   пенсионер     0             0   \n",
       "13035                 1      F   пенсионер     0             0   \n",
       "7313                  1      F   пенсионер     0             0   \n",
       "20702                 0      F   пенсионер     0             0   \n",
       "12389                 0      F   пенсионер     0             0   \n",
       "\n",
       "                               purpose  years_employed  \n",
       "7938             на проведение свадьбы               0  \n",
       "9604             на проведение свадьбы               0  \n",
       "6537             на проведение свадьбы               0  \n",
       "5865   операции со своей недвижимостью               0  \n",
       "9528   операции со своей недвижимостью               0  \n",
       "20187                  сыграть свадьбу               0  \n",
       "13035                  сыграть свадьбу               0  \n",
       "7313             на проведение свадьбы               0  \n",
       "20702       дополнительное образование               0  \n",
       "12389       дополнительное образование               0  "
      ]
     },
     "execution_count": 33,
     "metadata": {},
     "output_type": "execute_result"
    }
   ],
   "source": [
    "# для наглядности посмотрим на них\n",
    "df[df.duplicated(keep = False)].sort_values('dob_years', ascending = False).head(10)"
   ]
  },
  {
   "cell_type": "code",
   "execution_count": 34,
   "id": "d33598bb",
   "metadata": {},
   "outputs": [],
   "source": [
    "# дубли могли возникнуть из-за ошибки валидации при загрузке на сервер, что должно проверяться в самом начале\n",
    "# Удалим их и сбросим идекс, т.к. такой процент не повлияет сильно на результат исследования\n",
    "df = df.drop_duplicates().reset_index(drop=True)"
   ]
  },
  {
   "cell_type": "code",
   "execution_count": 35,
   "id": "d6814621",
   "metadata": {},
   "outputs": [
    {
     "data": {
      "text/plain": [
       "0"
      ]
     },
     "execution_count": 35,
     "metadata": {},
     "output_type": "execute_result"
    }
   ],
   "source": [
    "# проверим\n",
    "df.duplicated().sum()"
   ]
  },
  {
   "cell_type": "code",
   "execution_count": 36,
   "id": "e097a0bc",
   "metadata": {},
   "outputs": [
    {
     "data": {
      "text/html": [
       "<div>\n",
       "<style scoped>\n",
       "    .dataframe tbody tr th:only-of-type {\n",
       "        vertical-align: middle;\n",
       "    }\n",
       "\n",
       "    .dataframe tbody tr th {\n",
       "        vertical-align: top;\n",
       "    }\n",
       "\n",
       "    .dataframe thead th {\n",
       "        text-align: right;\n",
       "    }\n",
       "</style>\n",
       "<table border=\"1\" class=\"dataframe\">\n",
       "  <thead>\n",
       "    <tr style=\"text-align: right;\">\n",
       "      <th></th>\n",
       "      <th>children</th>\n",
       "      <th>dob_years</th>\n",
       "      <th>education</th>\n",
       "      <th>education_id</th>\n",
       "      <th>family_status</th>\n",
       "      <th>family_status_id</th>\n",
       "      <th>gender</th>\n",
       "      <th>income_type</th>\n",
       "      <th>debt</th>\n",
       "      <th>total_income</th>\n",
       "      <th>purpose</th>\n",
       "      <th>years_employed</th>\n",
       "    </tr>\n",
       "  </thead>\n",
       "  <tbody>\n",
       "    <tr>\n",
       "      <th>0</th>\n",
       "      <td>1</td>\n",
       "      <td>42</td>\n",
       "      <td>высшее</td>\n",
       "      <td>0</td>\n",
       "      <td>женат / замужем</td>\n",
       "      <td>0</td>\n",
       "      <td>F</td>\n",
       "      <td>сотрудник</td>\n",
       "      <td>0</td>\n",
       "      <td>253875</td>\n",
       "      <td>покупка жилья</td>\n",
       "      <td>23</td>\n",
       "    </tr>\n",
       "    <tr>\n",
       "      <th>1</th>\n",
       "      <td>1</td>\n",
       "      <td>36</td>\n",
       "      <td>среднее</td>\n",
       "      <td>1</td>\n",
       "      <td>женат / замужем</td>\n",
       "      <td>0</td>\n",
       "      <td>F</td>\n",
       "      <td>сотрудник</td>\n",
       "      <td>0</td>\n",
       "      <td>112080</td>\n",
       "      <td>приобретение автомобиля</td>\n",
       "      <td>11</td>\n",
       "    </tr>\n",
       "    <tr>\n",
       "      <th>2</th>\n",
       "      <td>0</td>\n",
       "      <td>33</td>\n",
       "      <td>среднее</td>\n",
       "      <td>1</td>\n",
       "      <td>женат / замужем</td>\n",
       "      <td>0</td>\n",
       "      <td>M</td>\n",
       "      <td>сотрудник</td>\n",
       "      <td>0</td>\n",
       "      <td>145885</td>\n",
       "      <td>покупка жилья</td>\n",
       "      <td>15</td>\n",
       "    </tr>\n",
       "    <tr>\n",
       "      <th>3</th>\n",
       "      <td>3</td>\n",
       "      <td>32</td>\n",
       "      <td>среднее</td>\n",
       "      <td>1</td>\n",
       "      <td>женат / замужем</td>\n",
       "      <td>0</td>\n",
       "      <td>M</td>\n",
       "      <td>сотрудник</td>\n",
       "      <td>0</td>\n",
       "      <td>267628</td>\n",
       "      <td>дополнительное образование</td>\n",
       "      <td>11</td>\n",
       "    </tr>\n",
       "    <tr>\n",
       "      <th>4</th>\n",
       "      <td>0</td>\n",
       "      <td>53</td>\n",
       "      <td>среднее</td>\n",
       "      <td>1</td>\n",
       "      <td>гражданский брак</td>\n",
       "      <td>1</td>\n",
       "      <td>F</td>\n",
       "      <td>пенсионер</td>\n",
       "      <td>0</td>\n",
       "      <td>158616</td>\n",
       "      <td>сыграть свадьбу</td>\n",
       "      <td>932</td>\n",
       "    </tr>\n",
       "    <tr>\n",
       "      <th>5</th>\n",
       "      <td>0</td>\n",
       "      <td>27</td>\n",
       "      <td>высшее</td>\n",
       "      <td>0</td>\n",
       "      <td>гражданский брак</td>\n",
       "      <td>1</td>\n",
       "      <td>M</td>\n",
       "      <td>компаньон</td>\n",
       "      <td>0</td>\n",
       "      <td>255763</td>\n",
       "      <td>покупка жилья</td>\n",
       "      <td>2</td>\n",
       "    </tr>\n",
       "    <tr>\n",
       "      <th>6</th>\n",
       "      <td>0</td>\n",
       "      <td>43</td>\n",
       "      <td>высшее</td>\n",
       "      <td>0</td>\n",
       "      <td>женат / замужем</td>\n",
       "      <td>0</td>\n",
       "      <td>F</td>\n",
       "      <td>компаньон</td>\n",
       "      <td>0</td>\n",
       "      <td>240525</td>\n",
       "      <td>операции с жильем</td>\n",
       "      <td>7</td>\n",
       "    </tr>\n",
       "    <tr>\n",
       "      <th>7</th>\n",
       "      <td>0</td>\n",
       "      <td>50</td>\n",
       "      <td>среднее</td>\n",
       "      <td>1</td>\n",
       "      <td>женат / замужем</td>\n",
       "      <td>0</td>\n",
       "      <td>M</td>\n",
       "      <td>сотрудник</td>\n",
       "      <td>0</td>\n",
       "      <td>135823</td>\n",
       "      <td>образование</td>\n",
       "      <td>0</td>\n",
       "    </tr>\n",
       "    <tr>\n",
       "      <th>8</th>\n",
       "      <td>2</td>\n",
       "      <td>35</td>\n",
       "      <td>высшее</td>\n",
       "      <td>0</td>\n",
       "      <td>гражданский брак</td>\n",
       "      <td>1</td>\n",
       "      <td>F</td>\n",
       "      <td>сотрудник</td>\n",
       "      <td>0</td>\n",
       "      <td>95856</td>\n",
       "      <td>на проведение свадьбы</td>\n",
       "      <td>18</td>\n",
       "    </tr>\n",
       "    <tr>\n",
       "      <th>9</th>\n",
       "      <td>0</td>\n",
       "      <td>41</td>\n",
       "      <td>среднее</td>\n",
       "      <td>1</td>\n",
       "      <td>женат / замужем</td>\n",
       "      <td>0</td>\n",
       "      <td>M</td>\n",
       "      <td>сотрудник</td>\n",
       "      <td>0</td>\n",
       "      <td>144425</td>\n",
       "      <td>покупка жилья для семьи</td>\n",
       "      <td>5</td>\n",
       "    </tr>\n",
       "  </tbody>\n",
       "</table>\n",
       "</div>"
      ],
      "text/plain": [
       "   children  dob_years education  education_id     family_status  \\\n",
       "0         1         42    высшее             0   женат / замужем   \n",
       "1         1         36   среднее             1   женат / замужем   \n",
       "2         0         33   среднее             1   женат / замужем   \n",
       "3         3         32   среднее             1   женат / замужем   \n",
       "4         0         53   среднее             1  гражданский брак   \n",
       "5         0         27    высшее             0  гражданский брак   \n",
       "6         0         43    высшее             0   женат / замужем   \n",
       "7         0         50   среднее             1   женат / замужем   \n",
       "8         2         35    высшее             0  гражданский брак   \n",
       "9         0         41   среднее             1   женат / замужем   \n",
       "\n",
       "   family_status_id gender income_type  debt  total_income  \\\n",
       "0                 0      F   сотрудник     0        253875   \n",
       "1                 0      F   сотрудник     0        112080   \n",
       "2                 0      M   сотрудник     0        145885   \n",
       "3                 0      M   сотрудник     0        267628   \n",
       "4                 1      F   пенсионер     0        158616   \n",
       "5                 1      M   компаньон     0        255763   \n",
       "6                 0      F   компаньон     0        240525   \n",
       "7                 0      M   сотрудник     0        135823   \n",
       "8                 1      F   сотрудник     0         95856   \n",
       "9                 0      M   сотрудник     0        144425   \n",
       "\n",
       "                      purpose  years_employed  \n",
       "0               покупка жилья              23  \n",
       "1     приобретение автомобиля              11  \n",
       "2               покупка жилья              15  \n",
       "3  дополнительное образование              11  \n",
       "4             сыграть свадьбу             932  \n",
       "5               покупка жилья               2  \n",
       "6           операции с жильем               7  \n",
       "7                 образование               0  \n",
       "8       на проведение свадьбы              18  \n",
       "9     покупка жилья для семьи               5  "
      ]
     },
     "execution_count": 36,
     "metadata": {},
     "output_type": "execute_result"
    }
   ],
   "source": [
    "# Посмотрим общую структуры полученных данных после всех исправлений\n",
    "df.head(10)"
   ]
  },
  {
   "cell_type": "markdown",
   "id": "f4804790",
   "metadata": {},
   "source": [
    "## Формирование дополнительных датафреймов словарей, декомпозиция исходного датафрейма."
   ]
  },
  {
   "cell_type": "markdown",
   "id": "c66e1f08",
   "metadata": {},
   "source": [
    "**Создание новых датафреймов словарей**\n",
    "к которым можно будет обращаться по идентификатору"
   ]
  },
  {
   "cell_type": "code",
   "execution_count": 37,
   "id": "b561c1b8",
   "metadata": {},
   "outputs": [],
   "source": [
    "df_education = df[['education_id', 'education']]\n",
    "df_family_status = df[['family_status_id', 'family_status']]\n",
    "# удалим сразу дубликаты из созданных словарей\n",
    "df_education = df_education.drop_duplicates().reset_index(drop=True)\n",
    "df_family_status = df_family_status.drop_duplicates().reset_index(drop=True)"
   ]
  },
  {
   "cell_type": "code",
   "execution_count": 38,
   "id": "2460af01",
   "metadata": {
    "scrolled": true
   },
   "outputs": [
    {
     "data": {
      "text/html": [
       "<div>\n",
       "<style scoped>\n",
       "    .dataframe tbody tr th:only-of-type {\n",
       "        vertical-align: middle;\n",
       "    }\n",
       "\n",
       "    .dataframe tbody tr th {\n",
       "        vertical-align: top;\n",
       "    }\n",
       "\n",
       "    .dataframe thead th {\n",
       "        text-align: right;\n",
       "    }\n",
       "</style>\n",
       "<table border=\"1\" class=\"dataframe\">\n",
       "  <thead>\n",
       "    <tr style=\"text-align: right;\">\n",
       "      <th></th>\n",
       "      <th>education_id</th>\n",
       "      <th>education</th>\n",
       "    </tr>\n",
       "  </thead>\n",
       "  <tbody>\n",
       "    <tr>\n",
       "      <th>0</th>\n",
       "      <td>0</td>\n",
       "      <td>высшее</td>\n",
       "    </tr>\n",
       "    <tr>\n",
       "      <th>1</th>\n",
       "      <td>1</td>\n",
       "      <td>среднее</td>\n",
       "    </tr>\n",
       "    <tr>\n",
       "      <th>2</th>\n",
       "      <td>2</td>\n",
       "      <td>неоконченное высшее</td>\n",
       "    </tr>\n",
       "    <tr>\n",
       "      <th>3</th>\n",
       "      <td>3</td>\n",
       "      <td>начальное</td>\n",
       "    </tr>\n",
       "    <tr>\n",
       "      <th>4</th>\n",
       "      <td>4</td>\n",
       "      <td>ученая степень</td>\n",
       "    </tr>\n",
       "  </tbody>\n",
       "</table>\n",
       "</div>"
      ],
      "text/plain": [
       "   education_id            education\n",
       "0             0               высшее\n",
       "1             1              среднее\n",
       "2             2  неоконченное высшее\n",
       "3             3            начальное\n",
       "4             4       ученая степень"
      ]
     },
     "execution_count": 38,
     "metadata": {},
     "output_type": "execute_result"
    }
   ],
   "source": [
    "df_education"
   ]
  },
  {
   "cell_type": "code",
   "execution_count": 39,
   "id": "974b22f2",
   "metadata": {},
   "outputs": [
    {
     "data": {
      "text/html": [
       "<div>\n",
       "<style scoped>\n",
       "    .dataframe tbody tr th:only-of-type {\n",
       "        vertical-align: middle;\n",
       "    }\n",
       "\n",
       "    .dataframe tbody tr th {\n",
       "        vertical-align: top;\n",
       "    }\n",
       "\n",
       "    .dataframe thead th {\n",
       "        text-align: right;\n",
       "    }\n",
       "</style>\n",
       "<table border=\"1\" class=\"dataframe\">\n",
       "  <thead>\n",
       "    <tr style=\"text-align: right;\">\n",
       "      <th></th>\n",
       "      <th>family_status_id</th>\n",
       "      <th>family_status</th>\n",
       "    </tr>\n",
       "  </thead>\n",
       "  <tbody>\n",
       "    <tr>\n",
       "      <th>0</th>\n",
       "      <td>0</td>\n",
       "      <td>женат / замужем</td>\n",
       "    </tr>\n",
       "    <tr>\n",
       "      <th>1</th>\n",
       "      <td>1</td>\n",
       "      <td>гражданский брак</td>\n",
       "    </tr>\n",
       "    <tr>\n",
       "      <th>2</th>\n",
       "      <td>2</td>\n",
       "      <td>вдовец / вдова</td>\n",
       "    </tr>\n",
       "    <tr>\n",
       "      <th>3</th>\n",
       "      <td>3</td>\n",
       "      <td>в разводе</td>\n",
       "    </tr>\n",
       "    <tr>\n",
       "      <th>4</th>\n",
       "      <td>4</td>\n",
       "      <td>не женат / не замужем</td>\n",
       "    </tr>\n",
       "  </tbody>\n",
       "</table>\n",
       "</div>"
      ],
      "text/plain": [
       "   family_status_id          family_status\n",
       "0                 0        женат / замужем\n",
       "1                 1       гражданский брак\n",
       "2                 2         вдовец / вдова\n",
       "3                 3              в разводе\n",
       "4                 4  не женат / не замужем"
      ]
     },
     "execution_count": 39,
     "metadata": {},
     "output_type": "execute_result"
    }
   ],
   "source": [
    "df_family_status"
   ]
  },
  {
   "cell_type": "code",
   "execution_count": 40,
   "id": "faa33a03",
   "metadata": {},
   "outputs": [],
   "source": [
    "# удаляем не нужные столбцы из датафрейма\n",
    "df = df.drop(columns=['education', 'family_status'])"
   ]
  },
  {
   "cell_type": "markdown",
   "id": "12bd3567",
   "metadata": {},
   "source": [
    "**В качестве дополнительного критерия для банка**"
   ]
  },
  {
   "cell_type": "markdown",
   "id": "26218e53",
   "metadata": {},
   "source": [
    "1. Посмотрим, влияет ли пол, на невыполнения кредитных обязательств."
   ]
  },
  {
   "cell_type": "code",
   "execution_count": 41,
   "id": "c5f31fd8",
   "metadata": {},
   "outputs": [
    {
     "data": {
      "text/html": [
       "<div>\n",
       "<style scoped>\n",
       "    .dataframe tbody tr th:only-of-type {\n",
       "        vertical-align: middle;\n",
       "    }\n",
       "\n",
       "    .dataframe tbody tr th {\n",
       "        vertical-align: top;\n",
       "    }\n",
       "\n",
       "    .dataframe thead th {\n",
       "        text-align: right;\n",
       "    }\n",
       "</style>\n",
       "<table border=\"1\" class=\"dataframe\">\n",
       "  <thead>\n",
       "    <tr style=\"text-align: right;\">\n",
       "      <th></th>\n",
       "      <th>debt</th>\n",
       "    </tr>\n",
       "    <tr>\n",
       "      <th>gender</th>\n",
       "      <th></th>\n",
       "    </tr>\n",
       "  </thead>\n",
       "  <tbody>\n",
       "    <tr>\n",
       "      <th>F</th>\n",
       "      <td>0.070128</td>\n",
       "    </tr>\n",
       "    <tr>\n",
       "      <th>M</th>\n",
       "      <td>0.102624</td>\n",
       "    </tr>\n",
       "    <tr>\n",
       "      <th>XNA</th>\n",
       "      <td>0.000000</td>\n",
       "    </tr>\n",
       "  </tbody>\n",
       "</table>\n",
       "</div>"
      ],
      "text/plain": [
       "            debt\n",
       "gender          \n",
       "F       0.070128\n",
       "M       0.102624\n",
       "XNA     0.000000"
      ]
     },
     "execution_count": 41,
     "metadata": {},
     "output_type": "execute_result"
    }
   ],
   "source": [
    "gender_debt = df.pivot_table(index = ['gender'], values='debt', aggfunc = 'mean')\n",
    "gender_debt"
   ]
  },
  {
   "cell_type": "markdown",
   "id": "0b85ed4b",
   "metadata": {},
   "source": [
    "неожиданно, но примем во внимание"
   ]
  },
  {
   "cell_type": "markdown",
   "id": "0e8c1089",
   "metadata": {},
   "source": [
    "2. проверим возрастные группы"
   ]
  },
  {
   "cell_type": "code",
   "execution_count": 42,
   "id": "02f55d5b",
   "metadata": {
    "scrolled": true
   },
   "outputs": [],
   "source": [
    "# объеденим всех клиентов в группы по возрасту\n",
    "def average_age(dob_years):\n",
    "    if dob_years <=33:\n",
    "        return 'до 34'\n",
    "    if dob_years >=34 and dob_years <=43:\n",
    "        return '34-43'\n",
    "    if dob_years >=44 and dob_years <53:\n",
    "        return '44-53'\n",
    "    if dob_years >=53:\n",
    "        return '53+'\n",
    "df['average_age'] = df['dob_years'].apply(average_age)"
   ]
  },
  {
   "cell_type": "code",
   "execution_count": 43,
   "id": "3193de86",
   "metadata": {},
   "outputs": [
    {
     "data": {
      "text/html": [
       "<div>\n",
       "<style scoped>\n",
       "    .dataframe tbody tr th:only-of-type {\n",
       "        vertical-align: middle;\n",
       "    }\n",
       "\n",
       "    .dataframe tbody tr th {\n",
       "        vertical-align: top;\n",
       "    }\n",
       "\n",
       "    .dataframe thead th {\n",
       "        text-align: right;\n",
       "    }\n",
       "</style>\n",
       "<table border=\"1\" class=\"dataframe\">\n",
       "  <thead>\n",
       "    <tr style=\"text-align: right;\">\n",
       "      <th></th>\n",
       "      <th>debt</th>\n",
       "    </tr>\n",
       "    <tr>\n",
       "      <th>average_age</th>\n",
       "      <th></th>\n",
       "    </tr>\n",
       "  </thead>\n",
       "  <tbody>\n",
       "    <tr>\n",
       "      <th>34-43</th>\n",
       "      <td>0.085749</td>\n",
       "    </tr>\n",
       "    <tr>\n",
       "      <th>44-53</th>\n",
       "      <td>0.071476</td>\n",
       "    </tr>\n",
       "    <tr>\n",
       "      <th>53+</th>\n",
       "      <td>0.057578</td>\n",
       "    </tr>\n",
       "    <tr>\n",
       "      <th>до 34</th>\n",
       "      <td>0.108835</td>\n",
       "    </tr>\n",
       "  </tbody>\n",
       "</table>\n",
       "</div>"
      ],
      "text/plain": [
       "                 debt\n",
       "average_age          \n",
       "34-43        0.085749\n",
       "44-53        0.071476\n",
       "53+          0.057578\n",
       "до 34        0.108835"
      ]
     },
     "execution_count": 43,
     "metadata": {},
     "output_type": "execute_result"
    }
   ],
   "source": [
    "# теперь посмотри, что по возрасту, кто отдаёт долги вовремя\n",
    "df.pivot_table(index = ['average_age'], values ='debt', aggfunc = 'mean')"
   ]
  },
  {
   "cell_type": "markdown",
   "id": "b6175f53",
   "metadata": {},
   "source": [
    "После 50 становишься более ответственнен к своим обязательствам"
   ]
  },
  {
   "cell_type": "markdown",
   "id": "77204df0",
   "metadata": {},
   "source": [
    "## Категоризация дохода."
   ]
  },
  {
   "cell_type": "code",
   "execution_count": 44,
   "id": "dc0c4ced",
   "metadata": {},
   "outputs": [],
   "source": [
    "df['total_income_category'] = ''"
   ]
  },
  {
   "cell_type": "code",
   "execution_count": 45,
   "id": "9cec1e4d",
   "metadata": {},
   "outputs": [],
   "source": [
    "df.loc[df['total_income'] < 30000, 'total_income_category'] = 'E'\n",
    "df.loc[df['total_income'] > 30001, 'total_income_category'] = 'D'\n",
    "df.loc[df['total_income'] > 50001, 'total_income_category'] = 'C'\n",
    "df.loc[df['total_income'] > 200001, 'total_income_category'] = 'B'\n",
    "df.loc[df['total_income'] > 1000000, 'total_income_category'] = 'A'"
   ]
  },
  {
   "cell_type": "code",
   "execution_count": 46,
   "id": "4626b932",
   "metadata": {},
   "outputs": [
    {
     "data": {
      "text/html": [
       "<div>\n",
       "<style scoped>\n",
       "    .dataframe tbody tr th:only-of-type {\n",
       "        vertical-align: middle;\n",
       "    }\n",
       "\n",
       "    .dataframe tbody tr th {\n",
       "        vertical-align: top;\n",
       "    }\n",
       "\n",
       "    .dataframe thead th {\n",
       "        text-align: right;\n",
       "    }\n",
       "</style>\n",
       "<table border=\"1\" class=\"dataframe\">\n",
       "  <thead>\n",
       "    <tr style=\"text-align: right;\">\n",
       "      <th></th>\n",
       "      <th>children</th>\n",
       "      <th>dob_years</th>\n",
       "      <th>education_id</th>\n",
       "      <th>family_status_id</th>\n",
       "      <th>gender</th>\n",
       "      <th>income_type</th>\n",
       "      <th>debt</th>\n",
       "      <th>total_income</th>\n",
       "      <th>purpose</th>\n",
       "      <th>years_employed</th>\n",
       "      <th>average_age</th>\n",
       "      <th>total_income_category</th>\n",
       "    </tr>\n",
       "  </thead>\n",
       "  <tbody>\n",
       "    <tr>\n",
       "      <th>0</th>\n",
       "      <td>1</td>\n",
       "      <td>42</td>\n",
       "      <td>0</td>\n",
       "      <td>0</td>\n",
       "      <td>F</td>\n",
       "      <td>сотрудник</td>\n",
       "      <td>0</td>\n",
       "      <td>253875</td>\n",
       "      <td>покупка жилья</td>\n",
       "      <td>23</td>\n",
       "      <td>34-43</td>\n",
       "      <td>B</td>\n",
       "    </tr>\n",
       "    <tr>\n",
       "      <th>1</th>\n",
       "      <td>1</td>\n",
       "      <td>36</td>\n",
       "      <td>1</td>\n",
       "      <td>0</td>\n",
       "      <td>F</td>\n",
       "      <td>сотрудник</td>\n",
       "      <td>0</td>\n",
       "      <td>112080</td>\n",
       "      <td>приобретение автомобиля</td>\n",
       "      <td>11</td>\n",
       "      <td>34-43</td>\n",
       "      <td>C</td>\n",
       "    </tr>\n",
       "    <tr>\n",
       "      <th>2</th>\n",
       "      <td>0</td>\n",
       "      <td>33</td>\n",
       "      <td>1</td>\n",
       "      <td>0</td>\n",
       "      <td>M</td>\n",
       "      <td>сотрудник</td>\n",
       "      <td>0</td>\n",
       "      <td>145885</td>\n",
       "      <td>покупка жилья</td>\n",
       "      <td>15</td>\n",
       "      <td>до 34</td>\n",
       "      <td>C</td>\n",
       "    </tr>\n",
       "    <tr>\n",
       "      <th>3</th>\n",
       "      <td>3</td>\n",
       "      <td>32</td>\n",
       "      <td>1</td>\n",
       "      <td>0</td>\n",
       "      <td>M</td>\n",
       "      <td>сотрудник</td>\n",
       "      <td>0</td>\n",
       "      <td>267628</td>\n",
       "      <td>дополнительное образование</td>\n",
       "      <td>11</td>\n",
       "      <td>до 34</td>\n",
       "      <td>B</td>\n",
       "    </tr>\n",
       "    <tr>\n",
       "      <th>4</th>\n",
       "      <td>0</td>\n",
       "      <td>53</td>\n",
       "      <td>1</td>\n",
       "      <td>1</td>\n",
       "      <td>F</td>\n",
       "      <td>пенсионер</td>\n",
       "      <td>0</td>\n",
       "      <td>158616</td>\n",
       "      <td>сыграть свадьбу</td>\n",
       "      <td>932</td>\n",
       "      <td>53+</td>\n",
       "      <td>C</td>\n",
       "    </tr>\n",
       "  </tbody>\n",
       "</table>\n",
       "</div>"
      ],
      "text/plain": [
       "   children  dob_years  education_id  family_status_id gender income_type  \\\n",
       "0         1         42             0                 0      F   сотрудник   \n",
       "1         1         36             1                 0      F   сотрудник   \n",
       "2         0         33             1                 0      M   сотрудник   \n",
       "3         3         32             1                 0      M   сотрудник   \n",
       "4         0         53             1                 1      F   пенсионер   \n",
       "\n",
       "   debt  total_income                     purpose  years_employed average_age  \\\n",
       "0     0        253875               покупка жилья              23       34-43   \n",
       "1     0        112080     приобретение автомобиля              11       34-43   \n",
       "2     0        145885               покупка жилья              15       до 34   \n",
       "3     0        267628  дополнительное образование              11       до 34   \n",
       "4     0        158616             сыграть свадьбу             932         53+   \n",
       "\n",
       "  total_income_category  \n",
       "0                     B  \n",
       "1                     C  \n",
       "2                     C  \n",
       "3                     B  \n",
       "4                     C  "
      ]
     },
     "execution_count": 46,
     "metadata": {},
     "output_type": "execute_result"
    }
   ],
   "source": [
    "df.head()"
   ]
  },
  {
   "cell_type": "markdown",
   "id": "ca0d439b",
   "metadata": {},
   "source": [
    "## Категоризация целей кредита."
   ]
  },
  {
   "cell_type": "code",
   "execution_count": 47,
   "id": "b1760dbb",
   "metadata": {},
   "outputs": [
    {
     "data": {
      "text/plain": [
       "свадьба                                   791\n",
       "на проведение свадьбы                     768\n",
       "сыграть свадьбу                           765\n",
       "операции с недвижимостью                  675\n",
       "покупка коммерческой недвижимости         661\n",
       "операции с жильем                         652\n",
       "покупка жилья для сдачи                   651\n",
       "операции с коммерческой недвижимостью     650\n",
       "покупка жилья                             646\n",
       "жилье                                     646\n",
       "покупка жилья для семьи                   638\n",
       "строительство собственной недвижимости    635\n",
       "недвижимость                              633\n",
       "операции со своей недвижимостью           627\n",
       "строительство жилой недвижимости          624\n",
       "покупка недвижимости                      621\n",
       "покупка своего жилья                      620\n",
       "строительство недвижимости                619\n",
       "ремонт жилью                              607\n",
       "покупка жилой недвижимости                606\n",
       "на покупку своего автомобиля              505\n",
       "заняться высшим образованием              496\n",
       "автомобиль                                494\n",
       "сделка с подержанным автомобилем          486\n",
       "автомобили                                478\n",
       "свой автомобиль                           478\n",
       "на покупку подержанного автомобиля        478\n",
       "на покупку автомобиля                     471\n",
       "приобретение автомобиля                   461\n",
       "дополнительное образование                460\n",
       "сделка с автомобилем                      455\n",
       "высшее образование                        452\n",
       "образование                               447\n",
       "получение дополнительного образования     446\n",
       "получение образования                     442\n",
       "профильное образование                    436\n",
       "получение высшего образования             426\n",
       "заняться образованием                     408\n",
       "Name: purpose, dtype: int64"
      ]
     },
     "execution_count": 47,
     "metadata": {},
     "output_type": "execute_result"
    }
   ],
   "source": [
    "# посмотрим все варианты целей кредита\n",
    "df['purpose'].value_counts()"
   ]
  },
  {
   "cell_type": "markdown",
   "id": "b1f72fe4",
   "metadata": {},
   "source": [
    "Сгруппируем все возможные вариации целей на кредиты в 4 общие группы\n",
    " - операции с автомобилем\n",
    " - операции с недвижимостью\n",
    " - проведение свадьбы\n",
    " - получение образования"
   ]
  },
  {
   "cell_type": "code",
   "execution_count": 48,
   "id": "ce08eeaf",
   "metadata": {},
   "outputs": [],
   "source": [
    "# проведем в начале лемматизацию\n",
    "from pymystem3 import Mystem\n",
    "m = Mystem()\n",
    "\n",
    "def lemmatizator(i):\n",
    "    lemmas = m.lemmatize(i)                     \n",
    "    return lemmas\n",
    "\n",
    "lemmas = df['purpose'].apply(lemmatizator)\n"
   ]
  },
  {
   "cell_type": "code",
   "execution_count": 49,
   "id": "1937e70e",
   "metadata": {},
   "outputs": [
    {
     "data": {
      "text/html": [
       "<div>\n",
       "<style scoped>\n",
       "    .dataframe tbody tr th:only-of-type {\n",
       "        vertical-align: middle;\n",
       "    }\n",
       "\n",
       "    .dataframe tbody tr th {\n",
       "        vertical-align: top;\n",
       "    }\n",
       "\n",
       "    .dataframe thead th {\n",
       "        text-align: right;\n",
       "    }\n",
       "</style>\n",
       "<table border=\"1\" class=\"dataframe\">\n",
       "  <thead>\n",
       "    <tr style=\"text-align: right;\">\n",
       "      <th></th>\n",
       "      <th>children</th>\n",
       "      <th>dob_years</th>\n",
       "      <th>education_id</th>\n",
       "      <th>family_status_id</th>\n",
       "      <th>gender</th>\n",
       "      <th>income_type</th>\n",
       "      <th>debt</th>\n",
       "      <th>total_income</th>\n",
       "      <th>purpose</th>\n",
       "      <th>years_employed</th>\n",
       "      <th>average_age</th>\n",
       "      <th>total_income_category</th>\n",
       "      <th>purpose_category</th>\n",
       "    </tr>\n",
       "  </thead>\n",
       "  <tbody>\n",
       "    <tr>\n",
       "      <th>0</th>\n",
       "      <td>1</td>\n",
       "      <td>42</td>\n",
       "      <td>0</td>\n",
       "      <td>0</td>\n",
       "      <td>F</td>\n",
       "      <td>сотрудник</td>\n",
       "      <td>0</td>\n",
       "      <td>253875</td>\n",
       "      <td>покупка жилья</td>\n",
       "      <td>23</td>\n",
       "      <td>34-43</td>\n",
       "      <td>B</td>\n",
       "      <td>операции с недвижимостью</td>\n",
       "    </tr>\n",
       "    <tr>\n",
       "      <th>1</th>\n",
       "      <td>1</td>\n",
       "      <td>36</td>\n",
       "      <td>1</td>\n",
       "      <td>0</td>\n",
       "      <td>F</td>\n",
       "      <td>сотрудник</td>\n",
       "      <td>0</td>\n",
       "      <td>112080</td>\n",
       "      <td>приобретение автомобиля</td>\n",
       "      <td>11</td>\n",
       "      <td>34-43</td>\n",
       "      <td>C</td>\n",
       "      <td>операции с автомобилем</td>\n",
       "    </tr>\n",
       "    <tr>\n",
       "      <th>2</th>\n",
       "      <td>0</td>\n",
       "      <td>33</td>\n",
       "      <td>1</td>\n",
       "      <td>0</td>\n",
       "      <td>M</td>\n",
       "      <td>сотрудник</td>\n",
       "      <td>0</td>\n",
       "      <td>145885</td>\n",
       "      <td>покупка жилья</td>\n",
       "      <td>15</td>\n",
       "      <td>до 34</td>\n",
       "      <td>C</td>\n",
       "      <td>операции с недвижимостью</td>\n",
       "    </tr>\n",
       "    <tr>\n",
       "      <th>3</th>\n",
       "      <td>3</td>\n",
       "      <td>32</td>\n",
       "      <td>1</td>\n",
       "      <td>0</td>\n",
       "      <td>M</td>\n",
       "      <td>сотрудник</td>\n",
       "      <td>0</td>\n",
       "      <td>267628</td>\n",
       "      <td>дополнительное образование</td>\n",
       "      <td>11</td>\n",
       "      <td>до 34</td>\n",
       "      <td>B</td>\n",
       "      <td>получение образования</td>\n",
       "    </tr>\n",
       "    <tr>\n",
       "      <th>4</th>\n",
       "      <td>0</td>\n",
       "      <td>53</td>\n",
       "      <td>1</td>\n",
       "      <td>1</td>\n",
       "      <td>F</td>\n",
       "      <td>пенсионер</td>\n",
       "      <td>0</td>\n",
       "      <td>158616</td>\n",
       "      <td>сыграть свадьбу</td>\n",
       "      <td>932</td>\n",
       "      <td>53+</td>\n",
       "      <td>C</td>\n",
       "      <td>проведение свадьбы</td>\n",
       "    </tr>\n",
       "  </tbody>\n",
       "</table>\n",
       "</div>"
      ],
      "text/plain": [
       "   children  dob_years  education_id  family_status_id gender income_type  \\\n",
       "0         1         42             0                 0      F   сотрудник   \n",
       "1         1         36             1                 0      F   сотрудник   \n",
       "2         0         33             1                 0      M   сотрудник   \n",
       "3         3         32             1                 0      M   сотрудник   \n",
       "4         0         53             1                 1      F   пенсионер   \n",
       "\n",
       "   debt  total_income                     purpose  years_employed average_age  \\\n",
       "0     0        253875               покупка жилья              23       34-43   \n",
       "1     0        112080     приобретение автомобиля              11       34-43   \n",
       "2     0        145885               покупка жилья              15       до 34   \n",
       "3     0        267628  дополнительное образование              11       до 34   \n",
       "4     0        158616             сыграть свадьбу             932         53+   \n",
       "\n",
       "  total_income_category          purpose_category  \n",
       "0                     B  операции с недвижимостью  \n",
       "1                     C    операции с автомобилем  \n",
       "2                     C  операции с недвижимостью  \n",
       "3                     B     получение образования  \n",
       "4                     C        проведение свадьбы  "
      ]
     },
     "execution_count": 49,
     "metadata": {},
     "output_type": "execute_result"
    }
   ],
   "source": [
    "# добавим стобец с обобщение вариантов целей на кредит\n",
    "def repeat(i):\n",
    "    if 'свадьба' in i:\n",
    "        return 'проведение свадьбы'\n",
    "    elif 'автомобиль' in i:\n",
    "        return 'операции с автомобилем'\n",
    "    elif 'недвижимость' in i or 'жилье' in i:\n",
    "        return 'операции с недвижимостью'\n",
    "    elif 'образование' in i:\n",
    "        return 'получение образования'\n",
    "    else:\n",
    "        return 5\n",
    "    \n",
    "df['purpose_category'] = lemmas.apply(repeat)\n",
    "df.head() "
   ]
  },
  {
   "cell_type": "markdown",
   "id": "b6d3215d",
   "metadata": {},
   "source": [
    "# Ответы на вопросы."
   ]
  },
  {
   "cell_type": "markdown",
   "id": "0e841afb",
   "metadata": {},
   "source": [
    "##### Вопрос 1:"
   ]
  },
  {
   "cell_type": "markdown",
   "id": "0e5f3bbf",
   "metadata": {},
   "source": [
    "**Есть ли зависимость между количеством детей и возвратом кредита в срок?**"
   ]
  },
  {
   "cell_type": "code",
   "execution_count": 50,
   "id": "5042569b",
   "metadata": {},
   "outputs": [
    {
     "data": {
      "text/html": [
       "<div>\n",
       "<style scoped>\n",
       "    .dataframe tbody tr th:only-of-type {\n",
       "        vertical-align: middle;\n",
       "    }\n",
       "\n",
       "    .dataframe tbody tr th {\n",
       "        vertical-align: top;\n",
       "    }\n",
       "\n",
       "    .dataframe thead th {\n",
       "        text-align: right;\n",
       "    }\n",
       "</style>\n",
       "<table border=\"1\" class=\"dataframe\">\n",
       "  <thead>\n",
       "    <tr style=\"text-align: right;\">\n",
       "      <th></th>\n",
       "      <th>Всего записей</th>\n",
       "      <th>Процент невозврата</th>\n",
       "    </tr>\n",
       "    <tr>\n",
       "      <th>children</th>\n",
       "      <th></th>\n",
       "      <th></th>\n",
       "    </tr>\n",
       "  </thead>\n",
       "  <tbody>\n",
       "    <tr>\n",
       "      <th>0</th>\n",
       "      <td>14091.0</td>\n",
       "      <td>7.54%</td>\n",
       "    </tr>\n",
       "    <tr>\n",
       "      <th>1</th>\n",
       "      <td>4855.0</td>\n",
       "      <td>9.17%</td>\n",
       "    </tr>\n",
       "    <tr>\n",
       "      <th>2</th>\n",
       "      <td>2128.0</td>\n",
       "      <td>9.49%</td>\n",
       "    </tr>\n",
       "    <tr>\n",
       "      <th>3</th>\n",
       "      <td>330.0</td>\n",
       "      <td>8.18%</td>\n",
       "    </tr>\n",
       "    <tr>\n",
       "      <th>4</th>\n",
       "      <td>41.0</td>\n",
       "      <td>9.76%</td>\n",
       "    </tr>\n",
       "    <tr>\n",
       "      <th>5</th>\n",
       "      <td>9.0</td>\n",
       "      <td>0.00%</td>\n",
       "    </tr>\n",
       "  </tbody>\n",
       "</table>\n",
       "</div>"
      ],
      "text/plain": [
       "          Всего записей Процент невозврата\n",
       "children                                  \n",
       "0               14091.0              7.54%\n",
       "1                4855.0              9.17%\n",
       "2                2128.0              9.49%\n",
       "3                 330.0              8.18%\n",
       "4                  41.0              9.76%\n",
       "5                   9.0              0.00%"
      ]
     },
     "execution_count": 50,
     "metadata": {},
     "output_type": "execute_result"
    }
   ],
   "source": [
    "having_children = df.pivot_table(index = ['children'], values='debt', aggfunc = ('mean', lambda X: X.count()))\n",
    "\n",
    "def percent(x):\n",
    "    return \"{0:.2%}\".format(x)\n",
    "\n",
    "having_children['mean'] = having_children['mean'].apply(percent)\n",
    "having_children = having_children.rename(columns={\"<lambda_0>\": \"Всего записей\", \"mean\": \"Процент невозврата\"})\n",
    "having_children.sort_values(by='Всего записей', ascending=False)"
   ]
  },
  {
   "cell_type": "markdown",
   "id": "89cd835c",
   "metadata": {},
   "source": [
    "##### Вывод 1:"
   ]
  },
  {
   "cell_type": "markdown",
   "id": "cd57a8d3",
   "metadata": {},
   "source": [
    "По полученным данным, можно сделать вывод, что заёмщики без детей, чаще возвращают кредиты и не имею задолжности, возможно есть зависимость в том, что они имеют меньшие ежемесячные затраты. Больший процент с задолжностями у клиентов с детьми, предположу, что это может быть связано как раз с эти, могут возникать непредвиденные обстоятельства (например заболел ребёнок), при этом клиенты у которых 3 ребёнка, с кредитом рассчитываются более беспроблемно, возможно из-за большей ответственности. Говорить о низком проценте у клиентов с 5-ью детьми и самом высоком, у кого 4 ребенка, наверно не стоит, потому как достаточно малая выборка данных, но во внимание можно принять данный факт."
   ]
  },
  {
   "cell_type": "markdown",
   "id": "3d2cb578",
   "metadata": {},
   "source": [
    "##### Вопрос 2:"
   ]
  },
  {
   "cell_type": "markdown",
   "id": "11426131",
   "metadata": {},
   "source": [
    "**Есть ли зависимость между семейным положением и возвратом кредита в срок?**"
   ]
  },
  {
   "cell_type": "code",
   "execution_count": 51,
   "id": "e4879a74",
   "metadata": {},
   "outputs": [
    {
     "data": {
      "text/html": [
       "<div>\n",
       "<style scoped>\n",
       "    .dataframe tbody tr th:only-of-type {\n",
       "        vertical-align: middle;\n",
       "    }\n",
       "\n",
       "    .dataframe tbody tr th {\n",
       "        vertical-align: top;\n",
       "    }\n",
       "\n",
       "    .dataframe thead th {\n",
       "        text-align: right;\n",
       "    }\n",
       "</style>\n",
       "<table border=\"1\" class=\"dataframe\">\n",
       "  <thead>\n",
       "    <tr style=\"text-align: right;\">\n",
       "      <th></th>\n",
       "      <th>family_status_id</th>\n",
       "      <th>Всего записей</th>\n",
       "      <th>Процент невозврата</th>\n",
       "      <th>family_status</th>\n",
       "    </tr>\n",
       "  </thead>\n",
       "  <tbody>\n",
       "    <tr>\n",
       "      <th>4</th>\n",
       "      <td>4</td>\n",
       "      <td>2810.0</td>\n",
       "      <td>9.75%</td>\n",
       "      <td>не женат / не замужем</td>\n",
       "    </tr>\n",
       "    <tr>\n",
       "      <th>1</th>\n",
       "      <td>1</td>\n",
       "      <td>4151.0</td>\n",
       "      <td>9.35%</td>\n",
       "      <td>гражданский брак</td>\n",
       "    </tr>\n",
       "    <tr>\n",
       "      <th>0</th>\n",
       "      <td>0</td>\n",
       "      <td>12339.0</td>\n",
       "      <td>7.55%</td>\n",
       "      <td>женат / замужем</td>\n",
       "    </tr>\n",
       "    <tr>\n",
       "      <th>3</th>\n",
       "      <td>3</td>\n",
       "      <td>1195.0</td>\n",
       "      <td>7.11%</td>\n",
       "      <td>в разводе</td>\n",
       "    </tr>\n",
       "    <tr>\n",
       "      <th>2</th>\n",
       "      <td>2</td>\n",
       "      <td>959.0</td>\n",
       "      <td>6.57%</td>\n",
       "      <td>вдовец / вдова</td>\n",
       "    </tr>\n",
       "  </tbody>\n",
       "</table>\n",
       "</div>"
      ],
      "text/plain": [
       "   family_status_id  Всего записей Процент невозврата          family_status\n",
       "4                 4         2810.0              9.75%  не женат / не замужем\n",
       "1                 1         4151.0              9.35%       гражданский брак\n",
       "0                 0        12339.0              7.55%        женат / замужем\n",
       "3                 3         1195.0              7.11%              в разводе\n",
       "2                 2          959.0              6.57%         вдовец / вдова"
      ]
     },
     "execution_count": 51,
     "metadata": {},
     "output_type": "execute_result"
    }
   ],
   "source": [
    "family_status_duty = df.pivot_table(index = ['family_status_id'], values='debt', aggfunc = ('mean', lambda X: X.count()))\n",
    "\n",
    "family_status_duty = family_status_duty.merge(df_family_status, on='family_status_id', how='left') \n",
    "def percent(x):\n",
    "    return \"{0:.2%}\".format(x)\n",
    "\n",
    "family_status_duty['mean'] = family_status_duty['mean'].apply(percent)\n",
    "family_status_duty = family_status_duty.rename(columns={\"<lambda_0>\": \"Всего записей\", \"mean\": \"Процент невозврата\"})\n",
    "family_status_duty.sort_values(by='Процент невозврата', ascending=False)\n"
   ]
  },
  {
   "cell_type": "markdown",
   "id": "bb630907",
   "metadata": {},
   "source": [
    "##### Вывод 2:"
   ]
  },
  {
   "cell_type": "markdown",
   "id": "08367a3d",
   "metadata": {},
   "source": [
    "Группа клиентов 'вдовец / вдова' являются самыми ответственными клинтами. Минимальная разница с теми, кто был хоть раз в браке и на данный момент находится в разводе. Группой большего риска можно считать кто состоит в гражданском браке или не состоит в браке вовсе."
   ]
  },
  {
   "cell_type": "markdown",
   "id": "1fffc52e",
   "metadata": {},
   "source": [
    "##### Вопрос 3:"
   ]
  },
  {
   "cell_type": "markdown",
   "id": "8d27c180",
   "metadata": {},
   "source": [
    "**Есть ли зависимость между уровнем дохода и возвратом кредита в срок?**"
   ]
  },
  {
   "cell_type": "code",
   "execution_count": 52,
   "id": "f8dbbe38",
   "metadata": {},
   "outputs": [
    {
     "data": {
      "text/html": [
       "<div>\n",
       "<style scoped>\n",
       "    .dataframe tbody tr th:only-of-type {\n",
       "        vertical-align: middle;\n",
       "    }\n",
       "\n",
       "    .dataframe tbody tr th {\n",
       "        vertical-align: top;\n",
       "    }\n",
       "\n",
       "    .dataframe thead th {\n",
       "        text-align: right;\n",
       "    }\n",
       "</style>\n",
       "<table border=\"1\" class=\"dataframe\">\n",
       "  <thead>\n",
       "    <tr style=\"text-align: right;\">\n",
       "      <th></th>\n",
       "      <th>Всего записей</th>\n",
       "      <th>Вероятный невозврата</th>\n",
       "    </tr>\n",
       "    <tr>\n",
       "      <th>total_income_category</th>\n",
       "      <th></th>\n",
       "      <th></th>\n",
       "    </tr>\n",
       "  </thead>\n",
       "  <tbody>\n",
       "    <tr>\n",
       "      <th>D</th>\n",
       "      <td>350.0</td>\n",
       "      <td>6.00%</td>\n",
       "    </tr>\n",
       "    <tr>\n",
       "      <th>B</th>\n",
       "      <td>5040.0</td>\n",
       "      <td>7.06%</td>\n",
       "    </tr>\n",
       "    <tr>\n",
       "      <th>A</th>\n",
       "      <td>25.0</td>\n",
       "      <td>8.00%</td>\n",
       "    </tr>\n",
       "    <tr>\n",
       "      <th>E</th>\n",
       "      <td>2125.0</td>\n",
       "      <td>8.09%</td>\n",
       "    </tr>\n",
       "    <tr>\n",
       "      <th>C</th>\n",
       "      <td>13914.0</td>\n",
       "      <td>8.55%</td>\n",
       "    </tr>\n",
       "  </tbody>\n",
       "</table>\n",
       "</div>"
      ],
      "text/plain": [
       "                       Всего записей Вероятный невозврата\n",
       "total_income_category                                    \n",
       "D                              350.0                6.00%\n",
       "B                             5040.0                7.06%\n",
       "A                               25.0                8.00%\n",
       "E                             2125.0                8.09%\n",
       "C                            13914.0                8.55%"
      ]
     },
     "execution_count": 52,
     "metadata": {},
     "output_type": "execute_result"
    }
   ],
   "source": [
    "income_mean = df.pivot_table(index = ['total_income_category'], values='debt', aggfunc = ('mean', lambda X: X.count()))\n",
    "\n",
    "def percent(x):\n",
    "    return \"{0:.2%}\".format(x)\n",
    "\n",
    "income_mean['mean'] = income_mean['mean'].apply(percent)\n",
    "income_mean = income_mean.rename(columns={\"<lambda_0>\": \"Всего записей\", \"mean\": \"Вероятный невозврата\"})\n",
    "income_mean.sort_values(by='Вероятный невозврата', ascending=True)"
   ]
  },
  {
   "cell_type": "markdown",
   "id": "19433ebd",
   "metadata": {},
   "source": [
    "##### Вывод 3:"
   ]
  },
  {
   "cell_type": "markdown",
   "id": "46c69620",
   "metadata": {},
   "source": [
    "Из полученной таблицы, можно сделать следующие выводы, что клиентов с высоким доходом достаточно не много, но и процент должников среди них не высокий тем не менее, так же можно сказать о категори \"D\", где данный показатель является минимальным. Самой многочисленной группой являются клиенты, кто указал доход более 50000, при этом, они же являются теми, кто имеет задолжность, возможно это может быть связано с тем, что они завышают свой реальный среднемесячный доход, для получения большей суммы кредита, и после не справляются с его уплатой. \n",
    "Но группы слишком разнятся в кол-ве клиентов в них, возможно стоит либо увеличить выборку, либо изменить категори доходов, например разбить категорию \"C\" на более мелкие подгруппы."
   ]
  },
  {
   "cell_type": "markdown",
   "id": "46a4ce9f",
   "metadata": {},
   "source": [
    "##### Вопрос 4:"
   ]
  },
  {
   "cell_type": "markdown",
   "id": "e7c4f96f",
   "metadata": {},
   "source": [
    "**Как разные цели кредита влияют на его возврат в срок?**"
   ]
  },
  {
   "cell_type": "code",
   "execution_count": 53,
   "id": "fc1fe954",
   "metadata": {},
   "outputs": [
    {
     "data": {
      "text/html": [
       "<div>\n",
       "<style scoped>\n",
       "    .dataframe tbody tr th:only-of-type {\n",
       "        vertical-align: middle;\n",
       "    }\n",
       "\n",
       "    .dataframe tbody tr th {\n",
       "        vertical-align: top;\n",
       "    }\n",
       "\n",
       "    .dataframe thead th {\n",
       "        text-align: right;\n",
       "    }\n",
       "</style>\n",
       "<table border=\"1\" class=\"dataframe\">\n",
       "  <thead>\n",
       "    <tr style=\"text-align: right;\">\n",
       "      <th></th>\n",
       "      <th>Всего записей</th>\n",
       "      <th>Вероятный невозврата</th>\n",
       "    </tr>\n",
       "    <tr>\n",
       "      <th>purpose_category</th>\n",
       "      <th></th>\n",
       "      <th></th>\n",
       "    </tr>\n",
       "  </thead>\n",
       "  <tbody>\n",
       "    <tr>\n",
       "      <th>операции с недвижимостью</th>\n",
       "      <td>10811.0</td>\n",
       "      <td>7.23%</td>\n",
       "    </tr>\n",
       "    <tr>\n",
       "      <th>проведение свадьбы</th>\n",
       "      <td>2324.0</td>\n",
       "      <td>8.00%</td>\n",
       "    </tr>\n",
       "    <tr>\n",
       "      <th>получение образования</th>\n",
       "      <td>4013.0</td>\n",
       "      <td>9.22%</td>\n",
       "    </tr>\n",
       "    <tr>\n",
       "      <th>операции с автомобилем</th>\n",
       "      <td>4306.0</td>\n",
       "      <td>9.36%</td>\n",
       "    </tr>\n",
       "  </tbody>\n",
       "</table>\n",
       "</div>"
      ],
      "text/plain": [
       "                          Всего записей Вероятный невозврата\n",
       "purpose_category                                            \n",
       "операции с недвижимостью        10811.0                7.23%\n",
       "проведение свадьбы               2324.0                8.00%\n",
       "получение образования            4013.0                9.22%\n",
       "операции с автомобилем           4306.0                9.36%"
      ]
     },
     "execution_count": 53,
     "metadata": {},
     "output_type": "execute_result"
    }
   ],
   "source": [
    "purpose_ctgr = df.pivot_table(index = ['purpose_category'], values='debt', aggfunc = ('mean', lambda X: X.count()))\n",
    "\n",
    "def percent(x):\n",
    "    return \"{0:.2%}\".format(x)\n",
    "\n",
    "purpose_ctgr['mean'] = purpose_ctgr['mean'].apply(percent)\n",
    "purpose_ctgr = purpose_ctgr.rename(columns={\"<lambda_0>\": \"Всего записей\", \"mean\": \"Вероятный невозврата\"})\n",
    "purpose_ctgr.sort_values(by='Вероятный невозврата', ascending=True)"
   ]
  },
  {
   "cell_type": "markdown",
   "id": "7d25a40e",
   "metadata": {},
   "source": [
    "##### Вывод 4:"
   ]
  },
  {
   "cell_type": "markdown",
   "id": "6a930920",
   "metadata": {},
   "source": [
    "Самый высокий показатель по выполнению своих кредитеых обязательств у клиентов, чьей целью являлась недвижимость, возможно здесь причина в большей стабильности недвижимых объектов и меньшей потерей её в цене со временем, далее идут клиенты, кто брал кредит на проведение свадьбы. С высокой долей невыполнения своих кредитных обязательств являются клиенты с целью получения образования и приобретением авто."
   ]
  },
  {
   "cell_type": "markdown",
   "id": "8a0e2507",
   "metadata": {},
   "source": [
    "# Общий вывод:"
   ]
  },
  {
   "cell_type": "markdown",
   "id": "205315df",
   "metadata": {},
   "source": [
    "Портрет идеально клиента банка:\n",
    " - женщина\n",
    " - старше 50\n",
    " - либо без детей, либо больше 5\n",
    " - цель кредита - недвижимость\n",
    " - доход более 200к\n",
    " - вдова или в разводе"
   ]
  },
  {
   "cell_type": "markdown",
   "id": "8b9e5089",
   "metadata": {},
   "source": [
    "Или иначе, заёмщики состоящие в браке или уже в разводе более ответственно подходять к выплатам по кредитам. Необходимо тщательнее проверять предоставленные документы о доходах, но очевидно, что клиенты с высоким достатком более безопасные. Наличие детей несёт определенные риски. И цель кредита на недвижимость почти всегда более взвещенна а покупка автомобиля несёт свои риски, как риск на дороге, так и импульсивный позыв  на преобретение."
   ]
  }
 ],
 "metadata": {
  "ExecuteTimeLog": [
   {
    "duration": 411,
    "start_time": "2022-04-21T06:37:31.014Z"
   },
   {
    "duration": 62,
    "start_time": "2022-04-21T06:49:03.954Z"
   },
   {
    "duration": 2,
    "start_time": "2022-04-21T06:50:07.942Z"
   },
   {
    "duration": 74,
    "start_time": "2022-04-21T06:50:47.685Z"
   },
   {
    "duration": 17,
    "start_time": "2022-04-21T06:50:59.356Z"
   },
   {
    "duration": 13,
    "start_time": "2022-04-21T06:51:38.203Z"
   },
   {
    "duration": 13,
    "start_time": "2022-04-21T07:00:48.192Z"
   },
   {
    "duration": 12,
    "start_time": "2022-04-21T07:00:50.835Z"
   },
   {
    "duration": 14,
    "start_time": "2022-04-21T07:09:54.831Z"
   },
   {
    "duration": 14,
    "start_time": "2022-04-21T07:32:22.301Z"
   },
   {
    "duration": 16,
    "start_time": "2022-04-21T07:32:40.469Z"
   },
   {
    "duration": 2,
    "start_time": "2022-04-21T07:34:26.831Z"
   },
   {
    "duration": 84,
    "start_time": "2022-04-21T07:34:27.121Z"
   },
   {
    "duration": 21,
    "start_time": "2022-04-21T07:34:28.736Z"
   },
   {
    "duration": 19,
    "start_time": "2022-04-21T07:34:29.006Z"
   },
   {
    "duration": 22,
    "start_time": "2022-04-21T07:34:29.231Z"
   },
   {
    "duration": 2,
    "start_time": "2022-04-21T07:39:38.039Z"
   },
   {
    "duration": 3,
    "start_time": "2022-04-21T07:39:41.409Z"
   },
   {
    "duration": 3,
    "start_time": "2022-04-21T07:39:43.187Z"
   },
   {
    "duration": 56,
    "start_time": "2022-04-21T07:39:43.469Z"
   },
   {
    "duration": 20,
    "start_time": "2022-04-21T07:51:34.262Z"
   },
   {
    "duration": 34,
    "start_time": "2022-04-21T07:53:09.366Z"
   },
   {
    "duration": 3,
    "start_time": "2022-04-21T07:55:25.433Z"
   },
   {
    "duration": 60,
    "start_time": "2022-04-21T07:55:25.600Z"
   },
   {
    "duration": 14,
    "start_time": "2022-04-21T07:55:26.158Z"
   },
   {
    "duration": 13,
    "start_time": "2022-04-21T07:55:26.318Z"
   },
   {
    "duration": 14,
    "start_time": "2022-04-21T07:55:26.420Z"
   },
   {
    "duration": 30,
    "start_time": "2022-04-21T07:55:26.631Z"
   },
   {
    "duration": 3,
    "start_time": "2022-04-21T07:57:57.276Z"
   },
   {
    "duration": 61,
    "start_time": "2022-04-21T07:57:57.481Z"
   },
   {
    "duration": 2,
    "start_time": "2022-04-21T07:58:58.323Z"
   },
   {
    "duration": 73,
    "start_time": "2022-04-21T07:58:58.613Z"
   },
   {
    "duration": 3,
    "start_time": "2022-04-21T08:45:16.410Z"
   },
   {
    "duration": 59,
    "start_time": "2022-04-21T08:45:16.607Z"
   },
   {
    "duration": 13,
    "start_time": "2022-04-21T08:45:17.235Z"
   },
   {
    "duration": 14,
    "start_time": "2022-04-21T08:45:17.450Z"
   },
   {
    "duration": 16,
    "start_time": "2022-04-21T08:45:17.682Z"
   },
   {
    "duration": 36,
    "start_time": "2022-04-21T08:45:17.898Z"
   },
   {
    "duration": 3,
    "start_time": "2022-04-21T08:46:16.691Z"
   },
   {
    "duration": 60,
    "start_time": "2022-04-21T08:46:16.948Z"
   },
   {
    "duration": 13,
    "start_time": "2022-04-21T08:46:17.629Z"
   },
   {
    "duration": 13,
    "start_time": "2022-04-21T08:46:17.852Z"
   },
   {
    "duration": 15,
    "start_time": "2022-04-21T08:46:18.097Z"
   },
   {
    "duration": 28,
    "start_time": "2022-04-21T08:46:18.355Z"
   },
   {
    "duration": 359,
    "start_time": "2022-04-21T08:48:30.574Z"
   },
   {
    "duration": 62,
    "start_time": "2022-04-21T08:48:30.935Z"
   },
   {
    "duration": 19,
    "start_time": "2022-04-21T08:48:31.690Z"
   },
   {
    "duration": 13,
    "start_time": "2022-04-21T08:48:31.896Z"
   },
   {
    "duration": 15,
    "start_time": "2022-04-21T08:48:32.115Z"
   },
   {
    "duration": 29,
    "start_time": "2022-04-21T08:48:32.371Z"
   },
   {
    "duration": 69,
    "start_time": "2022-04-21T14:20:58.369Z"
   },
   {
    "duration": 6,
    "start_time": "2022-04-21T14:25:50.896Z"
   },
   {
    "duration": 10,
    "start_time": "2022-04-21T14:27:39.861Z"
   },
   {
    "duration": 87,
    "start_time": "2022-04-21T14:29:25.201Z"
   },
   {
    "duration": 4,
    "start_time": "2022-04-21T14:29:34.929Z"
   },
   {
    "duration": 7,
    "start_time": "2022-04-21T14:30:34.365Z"
   },
   {
    "duration": 7,
    "start_time": "2022-04-21T14:31:39.923Z"
   },
   {
    "duration": 13,
    "start_time": "2022-04-21T14:34:32.603Z"
   },
   {
    "duration": 11,
    "start_time": "2022-04-21T14:35:35.430Z"
   },
   {
    "duration": 10,
    "start_time": "2022-04-21T14:38:21.564Z"
   },
   {
    "duration": 4,
    "start_time": "2022-04-21T14:47:56.219Z"
   },
   {
    "duration": 7,
    "start_time": "2022-04-21T14:51:35.419Z"
   },
   {
    "duration": 9,
    "start_time": "2022-04-21T14:55:34.733Z"
   },
   {
    "duration": 10,
    "start_time": "2022-04-21T14:58:47.506Z"
   },
   {
    "duration": 14,
    "start_time": "2022-04-21T15:06:36.232Z"
   },
   {
    "duration": 3,
    "start_time": "2022-04-21T15:07:39.904Z"
   },
   {
    "duration": 13,
    "start_time": "2022-04-21T15:08:58.438Z"
   },
   {
    "duration": 4,
    "start_time": "2022-04-21T15:09:04.822Z"
   },
   {
    "duration": 19,
    "start_time": "2022-04-21T15:09:23.956Z"
   },
   {
    "duration": 9,
    "start_time": "2022-04-21T15:09:50.397Z"
   },
   {
    "duration": 14,
    "start_time": "2022-04-21T15:10:12.122Z"
   },
   {
    "duration": 4,
    "start_time": "2022-04-21T15:10:48.610Z"
   },
   {
    "duration": 12,
    "start_time": "2022-04-21T15:10:55.395Z"
   },
   {
    "duration": 14,
    "start_time": "2022-04-21T15:12:12.893Z"
   },
   {
    "duration": 10,
    "start_time": "2022-04-21T15:18:39.212Z"
   },
   {
    "duration": 4,
    "start_time": "2022-04-21T15:21:39.158Z"
   },
   {
    "duration": 456,
    "start_time": "2022-04-21T15:22:06.794Z"
   },
   {
    "duration": 95,
    "start_time": "2022-04-21T15:22:07.253Z"
   },
   {
    "duration": 25,
    "start_time": "2022-04-21T15:22:07.510Z"
   },
   {
    "duration": 15,
    "start_time": "2022-04-21T15:22:07.673Z"
   },
   {
    "duration": 23,
    "start_time": "2022-04-21T15:22:07.864Z"
   },
   {
    "duration": 33,
    "start_time": "2022-04-21T15:22:08.030Z"
   },
   {
    "duration": 6,
    "start_time": "2022-04-21T15:22:09.044Z"
   },
   {
    "duration": 9,
    "start_time": "2022-04-21T15:22:09.230Z"
   },
   {
    "duration": 4,
    "start_time": "2022-04-21T15:22:09.407Z"
   },
   {
    "duration": 6,
    "start_time": "2022-04-21T15:22:09.590Z"
   },
   {
    "duration": 7,
    "start_time": "2022-04-21T15:22:09.767Z"
   },
   {
    "duration": 9,
    "start_time": "2022-04-21T15:22:09.939Z"
   },
   {
    "duration": 4,
    "start_time": "2022-04-21T15:22:10.106Z"
   },
   {
    "duration": 7,
    "start_time": "2022-04-21T15:22:10.286Z"
   },
   {
    "duration": 12,
    "start_time": "2022-04-21T15:22:10.657Z"
   },
   {
    "duration": 13,
    "start_time": "2022-04-21T15:22:10.847Z"
   },
   {
    "duration": 5,
    "start_time": "2022-04-21T15:22:11.048Z"
   },
   {
    "duration": 79,
    "start_time": "2022-04-21T15:22:11.245Z"
   },
   {
    "duration": 13,
    "start_time": "2022-04-21T15:25:46.149Z"
   },
   {
    "duration": 3,
    "start_time": "2022-04-21T15:26:52.326Z"
   },
   {
    "duration": 73,
    "start_time": "2022-04-21T15:26:52.549Z"
   },
   {
    "duration": 17,
    "start_time": "2022-04-21T15:26:53.166Z"
   },
   {
    "duration": 19,
    "start_time": "2022-04-21T15:26:53.382Z"
   },
   {
    "duration": 19,
    "start_time": "2022-04-21T15:26:53.945Z"
   },
   {
    "duration": 40,
    "start_time": "2022-04-21T15:26:54.155Z"
   },
   {
    "duration": 372,
    "start_time": "2022-04-21T15:27:02.473Z"
   },
   {
    "duration": 63,
    "start_time": "2022-04-21T15:27:02.846Z"
   },
   {
    "duration": 24,
    "start_time": "2022-04-21T15:27:03.292Z"
   },
   {
    "duration": 12,
    "start_time": "2022-04-21T15:27:03.503Z"
   },
   {
    "duration": 15,
    "start_time": "2022-04-21T15:27:03.700Z"
   },
   {
    "duration": 45,
    "start_time": "2022-04-21T15:27:03.894Z"
   },
   {
    "duration": 4,
    "start_time": "2022-04-21T15:27:04.839Z"
   },
   {
    "duration": 9,
    "start_time": "2022-04-21T15:27:05.025Z"
   },
   {
    "duration": 5,
    "start_time": "2022-04-21T15:27:05.232Z"
   },
   {
    "duration": 6,
    "start_time": "2022-04-21T15:27:05.422Z"
   },
   {
    "duration": 6,
    "start_time": "2022-04-21T15:27:05.618Z"
   },
   {
    "duration": 7,
    "start_time": "2022-04-21T15:27:05.804Z"
   },
   {
    "duration": 4,
    "start_time": "2022-04-21T15:27:06.005Z"
   },
   {
    "duration": 5,
    "start_time": "2022-04-21T15:27:06.207Z"
   },
   {
    "duration": 11,
    "start_time": "2022-04-21T15:27:06.662Z"
   },
   {
    "duration": 10,
    "start_time": "2022-04-21T15:27:06.935Z"
   },
   {
    "duration": 5,
    "start_time": "2022-04-21T15:27:07.181Z"
   },
   {
    "duration": 79,
    "start_time": "2022-04-21T15:27:07.471Z"
   },
   {
    "duration": 17,
    "start_time": "2022-04-21T15:27:18.646Z"
   },
   {
    "duration": 11,
    "start_time": "2022-04-21T15:28:11.517Z"
   },
   {
    "duration": 6,
    "start_time": "2022-04-21T15:28:34.514Z"
   },
   {
    "duration": 12,
    "start_time": "2022-04-21T15:28:57.314Z"
   },
   {
    "duration": 13,
    "start_time": "2022-04-21T15:29:05.581Z"
   },
   {
    "duration": 12,
    "start_time": "2022-04-21T15:32:23.355Z"
   },
   {
    "duration": 3,
    "start_time": "2022-04-21T15:32:51.637Z"
   },
   {
    "duration": 63,
    "start_time": "2022-04-21T15:32:51.835Z"
   },
   {
    "duration": 464,
    "start_time": "2022-04-21T15:33:01.100Z"
   },
   {
    "duration": 81,
    "start_time": "2022-04-21T15:33:01.566Z"
   },
   {
    "duration": 29,
    "start_time": "2022-04-21T15:33:01.821Z"
   },
   {
    "duration": 17,
    "start_time": "2022-04-21T15:33:01.988Z"
   },
   {
    "duration": 17,
    "start_time": "2022-04-21T15:33:02.171Z"
   },
   {
    "duration": 31,
    "start_time": "2022-04-21T15:33:02.356Z"
   },
   {
    "duration": 6,
    "start_time": "2022-04-21T15:33:03.240Z"
   },
   {
    "duration": 9,
    "start_time": "2022-04-21T15:33:03.419Z"
   },
   {
    "duration": 4,
    "start_time": "2022-04-21T15:33:03.659Z"
   },
   {
    "duration": 6,
    "start_time": "2022-04-21T15:33:03.858Z"
   },
   {
    "duration": 5,
    "start_time": "2022-04-21T15:33:04.046Z"
   },
   {
    "duration": 11,
    "start_time": "2022-04-21T15:33:04.228Z"
   },
   {
    "duration": 4,
    "start_time": "2022-04-21T15:33:04.424Z"
   },
   {
    "duration": 5,
    "start_time": "2022-04-21T15:33:04.599Z"
   },
   {
    "duration": 11,
    "start_time": "2022-04-21T15:33:04.935Z"
   },
   {
    "duration": 12,
    "start_time": "2022-04-21T15:33:05.127Z"
   },
   {
    "duration": 4,
    "start_time": "2022-04-21T15:33:05.313Z"
   },
   {
    "duration": 84,
    "start_time": "2022-04-21T15:33:05.503Z"
   },
   {
    "duration": 12,
    "start_time": "2022-04-21T15:33:05.692Z"
   },
   {
    "duration": 15,
    "start_time": "2022-04-21T15:34:00.402Z"
   },
   {
    "duration": 4,
    "start_time": "2022-04-21T15:34:15.052Z"
   },
   {
    "duration": 14,
    "start_time": "2022-04-21T15:34:29.442Z"
   },
   {
    "duration": 12,
    "start_time": "2022-04-21T15:34:43.946Z"
   },
   {
    "duration": 170,
    "start_time": "2022-04-21T15:43:32.003Z"
   },
   {
    "duration": 11,
    "start_time": "2022-04-21T15:43:42.252Z"
   },
   {
    "duration": 16,
    "start_time": "2022-04-21T15:48:24.655Z"
   },
   {
    "duration": 550,
    "start_time": "2022-04-21T15:52:02.203Z"
   },
   {
    "duration": 74,
    "start_time": "2022-04-21T15:52:02.755Z"
   },
   {
    "duration": 21,
    "start_time": "2022-04-21T15:52:02.926Z"
   },
   {
    "duration": 14,
    "start_time": "2022-04-21T15:52:03.103Z"
   },
   {
    "duration": 16,
    "start_time": "2022-04-21T15:52:03.294Z"
   },
   {
    "duration": 31,
    "start_time": "2022-04-21T15:52:03.482Z"
   },
   {
    "duration": 10,
    "start_time": "2022-04-21T15:52:04.983Z"
   },
   {
    "duration": 7,
    "start_time": "2022-04-21T16:08:26.424Z"
   },
   {
    "duration": 10,
    "start_time": "2022-04-21T16:10:04.124Z"
   },
   {
    "duration": 7,
    "start_time": "2022-04-21T16:25:18.561Z"
   },
   {
    "duration": 6,
    "start_time": "2022-04-21T16:25:35.861Z"
   },
   {
    "duration": 9,
    "start_time": "2022-04-21T16:38:01.715Z"
   },
   {
    "duration": 8,
    "start_time": "2022-04-21T16:38:08.752Z"
   },
   {
    "duration": 6,
    "start_time": "2022-04-21T16:38:40.834Z"
   },
   {
    "duration": 6,
    "start_time": "2022-04-21T16:39:07.822Z"
   },
   {
    "duration": 6,
    "start_time": "2022-04-21T16:41:29.533Z"
   },
   {
    "duration": 6,
    "start_time": "2022-04-21T16:43:29.957Z"
   },
   {
    "duration": 6,
    "start_time": "2022-04-21T16:44:12.394Z"
   },
   {
    "duration": 8,
    "start_time": "2022-04-21T16:44:38.296Z"
   },
   {
    "duration": 5,
    "start_time": "2022-04-21T16:50:01.891Z"
   },
   {
    "duration": 80,
    "start_time": "2022-04-21T16:50:45.118Z"
   },
   {
    "duration": 6,
    "start_time": "2022-04-21T16:51:02.993Z"
   },
   {
    "duration": 8,
    "start_time": "2022-04-21T16:51:14.034Z"
   },
   {
    "duration": 396,
    "start_time": "2022-04-21T16:51:34.851Z"
   },
   {
    "duration": 67,
    "start_time": "2022-04-21T16:51:35.249Z"
   },
   {
    "duration": 25,
    "start_time": "2022-04-21T16:51:35.623Z"
   },
   {
    "duration": 12,
    "start_time": "2022-04-21T16:51:35.950Z"
   },
   {
    "duration": 15,
    "start_time": "2022-04-21T16:51:36.802Z"
   },
   {
    "duration": 35,
    "start_time": "2022-04-21T16:51:37.626Z"
   },
   {
    "duration": 11,
    "start_time": "2022-04-21T16:51:41.303Z"
   },
   {
    "duration": 9,
    "start_time": "2022-04-21T16:51:47.478Z"
   },
   {
    "duration": 6,
    "start_time": "2022-04-21T16:51:54.096Z"
   },
   {
    "duration": 414,
    "start_time": "2022-04-22T07:59:45.262Z"
   },
   {
    "duration": 70,
    "start_time": "2022-04-22T07:59:45.677Z"
   },
   {
    "duration": 19,
    "start_time": "2022-04-22T07:59:45.953Z"
   },
   {
    "duration": 12,
    "start_time": "2022-04-22T07:59:46.121Z"
   },
   {
    "duration": 15,
    "start_time": "2022-04-22T07:59:46.289Z"
   },
   {
    "duration": 28,
    "start_time": "2022-04-22T07:59:46.459Z"
   },
   {
    "duration": 11,
    "start_time": "2022-04-22T07:59:47.339Z"
   },
   {
    "duration": 6,
    "start_time": "2022-04-22T07:59:47.857Z"
   },
   {
    "duration": 9,
    "start_time": "2022-04-22T07:59:48.050Z"
   },
   {
    "duration": 3,
    "start_time": "2022-04-22T07:59:48.240Z"
   },
   {
    "duration": 4,
    "start_time": "2022-04-22T07:59:52.872Z"
   },
   {
    "duration": 5,
    "start_time": "2022-04-22T07:59:53.135Z"
   },
   {
    "duration": 4,
    "start_time": "2022-04-22T07:59:53.402Z"
   },
   {
    "duration": 5,
    "start_time": "2022-04-22T07:59:53.584Z"
   },
   {
    "duration": 5,
    "start_time": "2022-04-22T07:59:53.802Z"
   },
   {
    "duration": 7,
    "start_time": "2022-04-22T07:59:53.968Z"
   },
   {
    "duration": 4,
    "start_time": "2022-04-22T07:59:54.360Z"
   },
   {
    "duration": 6,
    "start_time": "2022-04-22T07:59:54.574Z"
   },
   {
    "duration": 8,
    "start_time": "2022-04-22T07:59:55.118Z"
   },
   {
    "duration": 9,
    "start_time": "2022-04-22T07:59:55.450Z"
   },
   {
    "duration": 4,
    "start_time": "2022-04-22T07:59:56.197Z"
   },
   {
    "duration": 3,
    "start_time": "2022-04-22T07:59:57.325Z"
   },
   {
    "duration": 4,
    "start_time": "2022-04-22T08:00:07.868Z"
   },
   {
    "duration": 13,
    "start_time": "2022-04-22T08:00:20.836Z"
   },
   {
    "duration": 2688,
    "start_time": "2022-04-22T08:05:53.057Z"
   },
   {
    "duration": 2620,
    "start_time": "2022-04-22T08:05:56.322Z"
   },
   {
    "duration": 8,
    "start_time": "2022-04-22T08:06:23.626Z"
   },
   {
    "duration": 7,
    "start_time": "2022-04-22T08:06:59.839Z"
   },
   {
    "duration": 2705,
    "start_time": "2022-04-22T08:07:16.647Z"
   },
   {
    "duration": 45,
    "start_time": "2022-04-22T08:07:34.013Z"
   },
   {
    "duration": 377,
    "start_time": "2022-04-22T08:07:56.210Z"
   },
   {
    "duration": 60,
    "start_time": "2022-04-22T08:07:56.588Z"
   },
   {
    "duration": 19,
    "start_time": "2022-04-22T08:07:56.649Z"
   },
   {
    "duration": 11,
    "start_time": "2022-04-22T08:07:56.670Z"
   },
   {
    "duration": 27,
    "start_time": "2022-04-22T08:07:56.683Z"
   },
   {
    "duration": 29,
    "start_time": "2022-04-22T08:07:56.711Z"
   },
   {
    "duration": 10,
    "start_time": "2022-04-22T08:07:56.742Z"
   },
   {
    "duration": 5,
    "start_time": "2022-04-22T08:07:56.753Z"
   },
   {
    "duration": 7,
    "start_time": "2022-04-22T08:07:56.760Z"
   },
   {
    "duration": 33,
    "start_time": "2022-04-22T08:07:56.769Z"
   },
   {
    "duration": 5,
    "start_time": "2022-04-22T08:07:56.804Z"
   },
   {
    "duration": 7,
    "start_time": "2022-04-22T08:07:56.810Z"
   },
   {
    "duration": 7,
    "start_time": "2022-04-22T08:07:56.818Z"
   },
   {
    "duration": 7,
    "start_time": "2022-04-22T08:07:56.827Z"
   },
   {
    "duration": 8,
    "start_time": "2022-04-22T08:07:56.836Z"
   },
   {
    "duration": 13,
    "start_time": "2022-04-22T08:07:56.845Z"
   },
   {
    "duration": 9,
    "start_time": "2022-04-22T08:07:56.860Z"
   },
   {
    "duration": 31,
    "start_time": "2022-04-22T08:07:56.871Z"
   },
   {
    "duration": 10,
    "start_time": "2022-04-22T08:07:56.904Z"
   },
   {
    "duration": 4,
    "start_time": "2022-04-22T08:07:56.916Z"
   },
   {
    "duration": 7,
    "start_time": "2022-04-22T08:07:56.921Z"
   },
   {
    "duration": 6,
    "start_time": "2022-04-22T08:07:56.930Z"
   },
   {
    "duration": 7,
    "start_time": "2022-04-22T08:07:56.937Z"
   },
   {
    "duration": 6,
    "start_time": "2022-04-22T08:08:11.739Z"
   },
   {
    "duration": 2946,
    "start_time": "2022-04-22T08:10:09.924Z"
   },
   {
    "duration": 366,
    "start_time": "2022-04-22T08:10:18.129Z"
   },
   {
    "duration": 60,
    "start_time": "2022-04-22T08:10:18.497Z"
   },
   {
    "duration": 19,
    "start_time": "2022-04-22T08:10:18.558Z"
   },
   {
    "duration": 12,
    "start_time": "2022-04-22T08:10:18.579Z"
   },
   {
    "duration": 15,
    "start_time": "2022-04-22T08:10:18.592Z"
   },
   {
    "duration": 26,
    "start_time": "2022-04-22T08:10:18.608Z"
   },
   {
    "duration": 34,
    "start_time": "2022-04-22T08:10:18.636Z"
   },
   {
    "duration": 4,
    "start_time": "2022-04-22T08:10:18.672Z"
   },
   {
    "duration": 8,
    "start_time": "2022-04-22T08:10:18.677Z"
   },
   {
    "duration": 3,
    "start_time": "2022-04-22T08:10:18.687Z"
   },
   {
    "duration": 9,
    "start_time": "2022-04-22T08:10:18.692Z"
   },
   {
    "duration": 10,
    "start_time": "2022-04-22T08:10:18.702Z"
   },
   {
    "duration": 6,
    "start_time": "2022-04-22T08:10:18.714Z"
   },
   {
    "duration": 7,
    "start_time": "2022-04-22T08:10:18.721Z"
   },
   {
    "duration": 6,
    "start_time": "2022-04-22T08:10:18.730Z"
   },
   {
    "duration": 7,
    "start_time": "2022-04-22T08:10:18.737Z"
   },
   {
    "duration": 4,
    "start_time": "2022-04-22T08:10:18.745Z"
   },
   {
    "duration": 12,
    "start_time": "2022-04-22T08:10:18.750Z"
   },
   {
    "duration": 10,
    "start_time": "2022-04-22T08:10:18.763Z"
   },
   {
    "duration": 3,
    "start_time": "2022-04-22T08:10:18.774Z"
   },
   {
    "duration": 24,
    "start_time": "2022-04-22T08:10:18.778Z"
   },
   {
    "duration": 5,
    "start_time": "2022-04-22T08:10:18.804Z"
   },
   {
    "duration": 8,
    "start_time": "2022-04-22T08:10:18.810Z"
   },
   {
    "duration": 6,
    "start_time": "2022-04-22T08:10:57.851Z"
   },
   {
    "duration": 64,
    "start_time": "2022-04-22T08:13:06.398Z"
   },
   {
    "duration": 9,
    "start_time": "2022-04-22T08:13:31.493Z"
   },
   {
    "duration": 6,
    "start_time": "2022-04-22T08:13:40.701Z"
   },
   {
    "duration": 8,
    "start_time": "2022-04-22T08:14:07.681Z"
   },
   {
    "duration": 6,
    "start_time": "2022-04-22T08:14:12.946Z"
   },
   {
    "duration": 407,
    "start_time": "2022-04-22T08:19:30.130Z"
   },
   {
    "duration": 60,
    "start_time": "2022-04-22T08:19:30.539Z"
   },
   {
    "duration": 19,
    "start_time": "2022-04-22T08:19:30.600Z"
   },
   {
    "duration": 17,
    "start_time": "2022-04-22T08:19:30.621Z"
   },
   {
    "duration": 29,
    "start_time": "2022-04-22T08:19:30.640Z"
   },
   {
    "duration": 39,
    "start_time": "2022-04-22T08:19:30.671Z"
   },
   {
    "duration": 12,
    "start_time": "2022-04-22T08:19:30.712Z"
   },
   {
    "duration": 7,
    "start_time": "2022-04-22T08:19:30.726Z"
   },
   {
    "duration": 4,
    "start_time": "2022-04-22T08:19:30.735Z"
   },
   {
    "duration": 6,
    "start_time": "2022-04-22T08:19:30.742Z"
   },
   {
    "duration": 7,
    "start_time": "2022-04-22T08:19:30.750Z"
   },
   {
    "duration": 7,
    "start_time": "2022-04-22T08:19:30.758Z"
   },
   {
    "duration": 34,
    "start_time": "2022-04-22T08:19:30.767Z"
   },
   {
    "duration": 6,
    "start_time": "2022-04-22T08:19:30.802Z"
   },
   {
    "duration": 13,
    "start_time": "2022-04-22T08:19:30.809Z"
   },
   {
    "duration": 12,
    "start_time": "2022-04-22T08:19:30.823Z"
   },
   {
    "duration": 22,
    "start_time": "2022-04-22T08:19:30.836Z"
   },
   {
    "duration": 24,
    "start_time": "2022-04-22T08:19:30.860Z"
   },
   {
    "duration": 6,
    "start_time": "2022-04-22T08:19:30.885Z"
   },
   {
    "duration": 10,
    "start_time": "2022-04-22T08:19:30.892Z"
   },
   {
    "duration": 8,
    "start_time": "2022-04-22T08:19:30.903Z"
   },
   {
    "duration": 15,
    "start_time": "2022-04-22T08:19:30.912Z"
   },
   {
    "duration": 337,
    "start_time": "2022-04-22T08:30:27.433Z"
   },
   {
    "duration": 8,
    "start_time": "2022-04-22T08:31:10.955Z"
   },
   {
    "duration": 6,
    "start_time": "2022-04-22T08:32:53.018Z"
   },
   {
    "duration": 9,
    "start_time": "2022-04-22T08:33:27.486Z"
   },
   {
    "duration": 3205,
    "start_time": "2022-04-22T08:35:57.916Z"
   },
   {
    "duration": 8,
    "start_time": "2022-04-22T08:36:01.123Z"
   },
   {
    "duration": 509,
    "start_time": "2022-04-22T08:36:11.703Z"
   },
   {
    "duration": 84,
    "start_time": "2022-04-22T08:36:12.214Z"
   },
   {
    "duration": 25,
    "start_time": "2022-04-22T08:36:12.300Z"
   },
   {
    "duration": 15,
    "start_time": "2022-04-22T08:36:12.327Z"
   },
   {
    "duration": 25,
    "start_time": "2022-04-22T08:36:12.345Z"
   },
   {
    "duration": 49,
    "start_time": "2022-04-22T08:36:12.372Z"
   },
   {
    "duration": 9,
    "start_time": "2022-04-22T08:36:12.423Z"
   },
   {
    "duration": 18,
    "start_time": "2022-04-22T08:36:12.434Z"
   },
   {
    "duration": 6,
    "start_time": "2022-04-22T08:36:12.454Z"
   },
   {
    "duration": 5,
    "start_time": "2022-04-22T08:36:12.462Z"
   },
   {
    "duration": 7,
    "start_time": "2022-04-22T08:36:12.469Z"
   },
   {
    "duration": 6,
    "start_time": "2022-04-22T08:36:12.477Z"
   },
   {
    "duration": 21,
    "start_time": "2022-04-22T08:36:12.485Z"
   },
   {
    "duration": 5,
    "start_time": "2022-04-22T08:36:12.510Z"
   },
   {
    "duration": 13,
    "start_time": "2022-04-22T08:36:12.517Z"
   },
   {
    "duration": 9,
    "start_time": "2022-04-22T08:36:12.531Z"
   },
   {
    "duration": 18,
    "start_time": "2022-04-22T08:36:12.541Z"
   },
   {
    "duration": 23,
    "start_time": "2022-04-22T08:36:12.560Z"
   },
   {
    "duration": 7,
    "start_time": "2022-04-22T08:36:12.584Z"
   },
   {
    "duration": 15,
    "start_time": "2022-04-22T08:36:12.593Z"
   },
   {
    "duration": 7,
    "start_time": "2022-04-22T08:36:12.610Z"
   },
   {
    "duration": 2982,
    "start_time": "2022-04-22T08:36:12.618Z"
   },
   {
    "duration": 6,
    "start_time": "2022-04-22T08:36:15.602Z"
   },
   {
    "duration": 443,
    "start_time": "2022-04-22T08:38:59.993Z"
   },
   {
    "duration": 70,
    "start_time": "2022-04-22T08:39:00.438Z"
   },
   {
    "duration": 18,
    "start_time": "2022-04-22T08:39:00.510Z"
   },
   {
    "duration": 11,
    "start_time": "2022-04-22T08:39:00.530Z"
   },
   {
    "duration": 17,
    "start_time": "2022-04-22T08:39:00.543Z"
   },
   {
    "duration": 51,
    "start_time": "2022-04-22T08:39:00.561Z"
   },
   {
    "duration": 10,
    "start_time": "2022-04-22T08:39:00.613Z"
   },
   {
    "duration": 7,
    "start_time": "2022-04-22T08:39:00.624Z"
   },
   {
    "duration": 10,
    "start_time": "2022-04-22T08:39:00.633Z"
   },
   {
    "duration": 19,
    "start_time": "2022-04-22T08:39:00.645Z"
   },
   {
    "duration": 11,
    "start_time": "2022-04-22T08:39:00.665Z"
   },
   {
    "duration": 16,
    "start_time": "2022-04-22T08:39:00.678Z"
   },
   {
    "duration": 17,
    "start_time": "2022-04-22T08:39:00.696Z"
   },
   {
    "duration": 22,
    "start_time": "2022-04-22T08:39:00.715Z"
   },
   {
    "duration": 10,
    "start_time": "2022-04-22T08:39:00.739Z"
   },
   {
    "duration": 9,
    "start_time": "2022-04-22T08:39:00.751Z"
   },
   {
    "duration": 16,
    "start_time": "2022-04-22T08:39:00.761Z"
   },
   {
    "duration": 15,
    "start_time": "2022-04-22T08:39:00.779Z"
   },
   {
    "duration": 6,
    "start_time": "2022-04-22T08:39:00.796Z"
   },
   {
    "duration": 18,
    "start_time": "2022-04-22T08:39:00.803Z"
   },
   {
    "duration": 15,
    "start_time": "2022-04-22T08:39:00.822Z"
   },
   {
    "duration": 1803,
    "start_time": "2022-04-22T08:39:00.838Z"
   },
   {
    "duration": 8,
    "start_time": "2022-04-22T08:39:02.643Z"
   },
   {
    "duration": 4,
    "start_time": "2022-04-22T08:39:02.653Z"
   },
   {
    "duration": 2980,
    "start_time": "2022-04-22T08:43:45.042Z"
   },
   {
    "duration": 403,
    "start_time": "2022-04-22T08:43:53.168Z"
   },
   {
    "duration": 64,
    "start_time": "2022-04-22T08:43:53.573Z"
   },
   {
    "duration": 17,
    "start_time": "2022-04-22T08:43:53.639Z"
   },
   {
    "duration": 11,
    "start_time": "2022-04-22T08:43:53.657Z"
   },
   {
    "duration": 15,
    "start_time": "2022-04-22T08:43:53.670Z"
   },
   {
    "duration": 46,
    "start_time": "2022-04-22T08:43:53.687Z"
   },
   {
    "duration": 8,
    "start_time": "2022-04-22T08:43:53.735Z"
   },
   {
    "duration": 9,
    "start_time": "2022-04-22T08:43:53.744Z"
   },
   {
    "duration": 5,
    "start_time": "2022-04-22T08:43:53.754Z"
   },
   {
    "duration": 6,
    "start_time": "2022-04-22T08:43:53.761Z"
   },
   {
    "duration": 6,
    "start_time": "2022-04-22T08:43:53.768Z"
   },
   {
    "duration": 4,
    "start_time": "2022-04-22T08:43:53.800Z"
   },
   {
    "duration": 22,
    "start_time": "2022-04-22T08:43:53.805Z"
   },
   {
    "duration": 9,
    "start_time": "2022-04-22T08:43:53.828Z"
   },
   {
    "duration": 8,
    "start_time": "2022-04-22T08:43:53.839Z"
   },
   {
    "duration": 14,
    "start_time": "2022-04-22T08:43:53.848Z"
   },
   {
    "duration": 7,
    "start_time": "2022-04-22T08:43:53.863Z"
   },
   {
    "duration": 9,
    "start_time": "2022-04-22T08:43:53.871Z"
   },
   {
    "duration": 3,
    "start_time": "2022-04-22T08:43:53.881Z"
   },
   {
    "duration": 9,
    "start_time": "2022-04-22T08:43:53.886Z"
   },
   {
    "duration": 8,
    "start_time": "2022-04-22T08:43:53.896Z"
   },
   {
    "duration": 15,
    "start_time": "2022-04-22T08:43:53.906Z"
   },
   {
    "duration": 5,
    "start_time": "2022-04-22T08:53:18.113Z"
   },
   {
    "duration": 6,
    "start_time": "2022-04-22T08:54:40.259Z"
   },
   {
    "duration": 9,
    "start_time": "2022-04-22T08:55:18.651Z"
   },
   {
    "duration": 2,
    "start_time": "2022-04-22T08:59:25.577Z"
   },
   {
    "duration": 11,
    "start_time": "2022-04-22T09:02:28.028Z"
   },
   {
    "duration": 7,
    "start_time": "2022-04-22T09:03:17.965Z"
   },
   {
    "duration": 6,
    "start_time": "2022-04-22T09:03:26.332Z"
   },
   {
    "duration": 5,
    "start_time": "2022-04-22T09:08:08.490Z"
   },
   {
    "duration": 65,
    "start_time": "2022-04-22T09:08:22.555Z"
   },
   {
    "duration": 11,
    "start_time": "2022-04-22T09:08:33.454Z"
   },
   {
    "duration": 13,
    "start_time": "2022-04-22T09:18:22.711Z"
   },
   {
    "duration": 7,
    "start_time": "2022-04-22T09:20:41.976Z"
   },
   {
    "duration": 7,
    "start_time": "2022-04-22T09:20:59.806Z"
   },
   {
    "duration": 7,
    "start_time": "2022-04-22T09:22:56.400Z"
   },
   {
    "duration": 7,
    "start_time": "2022-04-22T09:31:35.468Z"
   },
   {
    "duration": 5,
    "start_time": "2022-04-22T09:32:23.794Z"
   },
   {
    "duration": 8,
    "start_time": "2022-04-22T09:32:35.330Z"
   },
   {
    "duration": 27,
    "start_time": "2022-04-22T09:34:01.661Z"
   },
   {
    "duration": 15,
    "start_time": "2022-04-22T09:35:07.616Z"
   },
   {
    "duration": 0,
    "start_time": "2022-04-22T09:38:09.393Z"
   },
   {
    "duration": 8,
    "start_time": "2022-04-22T09:38:33.223Z"
   },
   {
    "duration": 5,
    "start_time": "2022-04-22T09:38:57.591Z"
   },
   {
    "duration": 10,
    "start_time": "2022-04-22T09:42:13.513Z"
   },
   {
    "duration": 9,
    "start_time": "2022-04-22T09:45:50.536Z"
   },
   {
    "duration": 12813,
    "start_time": "2022-04-22T09:47:12.530Z"
   },
   {
    "duration": 7,
    "start_time": "2022-04-22T09:47:37.677Z"
   },
   {
    "duration": 48,
    "start_time": "2022-04-22T09:51:02.637Z"
   },
   {
    "duration": 391,
    "start_time": "2022-04-22T09:51:19.223Z"
   },
   {
    "duration": 62,
    "start_time": "2022-04-22T09:51:19.616Z"
   },
   {
    "duration": 23,
    "start_time": "2022-04-22T09:51:19.904Z"
   },
   {
    "duration": 12,
    "start_time": "2022-04-22T09:51:20.058Z"
   },
   {
    "duration": 16,
    "start_time": "2022-04-22T09:51:20.217Z"
   },
   {
    "duration": 33,
    "start_time": "2022-04-22T09:51:20.392Z"
   },
   {
    "duration": 10,
    "start_time": "2022-04-22T09:51:21.229Z"
   },
   {
    "duration": 9,
    "start_time": "2022-04-22T09:51:21.726Z"
   },
   {
    "duration": 5,
    "start_time": "2022-04-22T09:51:21.902Z"
   },
   {
    "duration": 5,
    "start_time": "2022-04-22T09:51:22.407Z"
   },
   {
    "duration": 5,
    "start_time": "2022-04-22T09:51:22.583Z"
   },
   {
    "duration": 4,
    "start_time": "2022-04-22T09:51:22.754Z"
   },
   {
    "duration": 6,
    "start_time": "2022-04-22T09:51:22.938Z"
   },
   {
    "duration": 10,
    "start_time": "2022-04-22T09:51:23.106Z"
   },
   {
    "duration": 7,
    "start_time": "2022-04-22T09:51:23.295Z"
   },
   {
    "duration": 4,
    "start_time": "2022-04-22T09:51:23.469Z"
   },
   {
    "duration": 5,
    "start_time": "2022-04-22T09:51:23.659Z"
   },
   {
    "duration": 9,
    "start_time": "2022-04-22T09:51:24.030Z"
   },
   {
    "duration": 4,
    "start_time": "2022-04-22T09:51:24.205Z"
   },
   {
    "duration": 3,
    "start_time": "2022-04-22T09:51:24.382Z"
   },
   {
    "duration": 3,
    "start_time": "2022-04-22T09:51:24.549Z"
   },
   {
    "duration": 5,
    "start_time": "2022-04-22T09:51:24.888Z"
   },
   {
    "duration": 9,
    "start_time": "2022-04-22T09:51:25.066Z"
   },
   {
    "duration": 2,
    "start_time": "2022-04-22T09:51:25.237Z"
   },
   {
    "duration": 8,
    "start_time": "2022-04-22T09:51:25.576Z"
   },
   {
    "duration": 7,
    "start_time": "2022-04-22T09:51:25.748Z"
   },
   {
    "duration": 7,
    "start_time": "2022-04-22T09:51:26.102Z"
   },
   {
    "duration": 17,
    "start_time": "2022-04-22T09:51:26.273Z"
   },
   {
    "duration": 14,
    "start_time": "2022-04-22T09:51:26.456Z"
   },
   {
    "duration": 4,
    "start_time": "2022-04-22T09:51:26.818Z"
   },
   {
    "duration": 3,
    "start_time": "2022-04-22T10:01:18.395Z"
   },
   {
    "duration": 3,
    "start_time": "2022-04-22T10:02:09.418Z"
   },
   {
    "duration": 163,
    "start_time": "2022-04-22T10:02:14.440Z"
   },
   {
    "duration": 26,
    "start_time": "2022-04-22T10:03:45.492Z"
   },
   {
    "duration": 4,
    "start_time": "2022-04-22T10:04:10.025Z"
   },
   {
    "duration": 8,
    "start_time": "2022-04-22T10:04:32.174Z"
   },
   {
    "duration": 2,
    "start_time": "2022-04-22T10:04:51.970Z"
   },
   {
    "duration": 96,
    "start_time": "2022-04-22T10:04:52.151Z"
   },
   {
    "duration": 21,
    "start_time": "2022-04-22T10:04:52.688Z"
   },
   {
    "duration": 12,
    "start_time": "2022-04-22T10:04:52.868Z"
   },
   {
    "duration": 15,
    "start_time": "2022-04-22T10:04:53.047Z"
   },
   {
    "duration": 32,
    "start_time": "2022-04-22T10:04:53.228Z"
   },
   {
    "duration": 10,
    "start_time": "2022-04-22T10:04:54.777Z"
   },
   {
    "duration": 6,
    "start_time": "2022-04-22T10:04:55.722Z"
   },
   {
    "duration": 5,
    "start_time": "2022-04-22T10:04:55.932Z"
   },
   {
    "duration": 4,
    "start_time": "2022-04-22T10:04:56.540Z"
   },
   {
    "duration": 5,
    "start_time": "2022-04-22T10:04:56.744Z"
   },
   {
    "duration": 3,
    "start_time": "2022-04-22T10:04:56.942Z"
   },
   {
    "duration": 6,
    "start_time": "2022-04-22T10:04:57.412Z"
   },
   {
    "duration": 8,
    "start_time": "2022-04-22T10:04:57.608Z"
   },
   {
    "duration": 6,
    "start_time": "2022-04-22T10:04:57.777Z"
   },
   {
    "duration": 4,
    "start_time": "2022-04-22T10:04:57.958Z"
   },
   {
    "duration": 5,
    "start_time": "2022-04-22T10:04:58.156Z"
   },
   {
    "duration": 8,
    "start_time": "2022-04-22T10:04:58.679Z"
   },
   {
    "duration": 3,
    "start_time": "2022-04-22T10:04:58.867Z"
   },
   {
    "duration": 4,
    "start_time": "2022-04-22T10:04:59.078Z"
   },
   {
    "duration": 4,
    "start_time": "2022-04-22T10:05:00.842Z"
   },
   {
    "duration": 3,
    "start_time": "2022-04-22T10:05:01.317Z"
   },
   {
    "duration": 9,
    "start_time": "2022-04-22T10:05:01.563Z"
   },
   {
    "duration": 11,
    "start_time": "2022-04-22T10:05:15.413Z"
   },
   {
    "duration": 9,
    "start_time": "2022-04-22T10:05:28.607Z"
   },
   {
    "duration": 3,
    "start_time": "2022-04-22T10:05:37.561Z"
   },
   {
    "duration": 8,
    "start_time": "2022-04-22T10:05:38.310Z"
   },
   {
    "duration": 8,
    "start_time": "2022-04-22T10:06:07.579Z"
   },
   {
    "duration": 5,
    "start_time": "2022-04-22T10:06:40.432Z"
   },
   {
    "duration": 10,
    "start_time": "2022-04-22T10:06:40.920Z"
   },
   {
    "duration": 4,
    "start_time": "2022-04-22T10:06:46.745Z"
   },
   {
    "duration": 10,
    "start_time": "2022-04-22T10:06:47.958Z"
   },
   {
    "duration": 383,
    "start_time": "2022-04-22T10:07:27.751Z"
   },
   {
    "duration": 61,
    "start_time": "2022-04-22T10:07:28.136Z"
   },
   {
    "duration": 22,
    "start_time": "2022-04-22T10:07:28.199Z"
   },
   {
    "duration": 12,
    "start_time": "2022-04-22T10:07:28.223Z"
   },
   {
    "duration": 25,
    "start_time": "2022-04-22T10:07:28.236Z"
   },
   {
    "duration": 64,
    "start_time": "2022-04-22T10:07:28.263Z"
   },
   {
    "duration": 14,
    "start_time": "2022-04-22T10:07:28.329Z"
   },
   {
    "duration": 13,
    "start_time": "2022-04-22T10:07:28.345Z"
   },
   {
    "duration": 5,
    "start_time": "2022-04-22T10:07:28.359Z"
   },
   {
    "duration": 7,
    "start_time": "2022-04-22T10:07:28.366Z"
   },
   {
    "duration": 33,
    "start_time": "2022-04-22T10:07:28.374Z"
   },
   {
    "duration": 4,
    "start_time": "2022-04-22T10:07:28.409Z"
   },
   {
    "duration": 17,
    "start_time": "2022-04-22T10:07:28.414Z"
   },
   {
    "duration": 7,
    "start_time": "2022-04-22T10:07:28.433Z"
   },
   {
    "duration": 9,
    "start_time": "2022-04-22T10:07:28.441Z"
   },
   {
    "duration": 9,
    "start_time": "2022-04-22T10:07:28.451Z"
   },
   {
    "duration": 15,
    "start_time": "2022-04-22T10:07:28.462Z"
   },
   {
    "duration": 8,
    "start_time": "2022-04-22T10:07:28.479Z"
   },
   {
    "duration": 4,
    "start_time": "2022-04-22T10:07:28.503Z"
   },
   {
    "duration": 61,
    "start_time": "2022-04-22T10:07:28.509Z"
   },
   {
    "duration": 10,
    "start_time": "2022-04-22T10:07:28.572Z"
   },
   {
    "duration": 31,
    "start_time": "2022-04-22T10:07:28.583Z"
   },
   {
    "duration": 22,
    "start_time": "2022-04-22T10:07:28.617Z"
   },
   {
    "duration": 15,
    "start_time": "2022-04-22T10:07:28.641Z"
   },
   {
    "duration": 7,
    "start_time": "2022-04-22T10:07:28.658Z"
   },
   {
    "duration": 14,
    "start_time": "2022-04-22T10:07:28.666Z"
   },
   {
    "duration": 5,
    "start_time": "2022-04-22T10:07:28.681Z"
   },
   {
    "duration": 11,
    "start_time": "2022-04-22T10:07:28.690Z"
   },
   {
    "duration": 24,
    "start_time": "2022-04-22T10:07:28.704Z"
   },
   {
    "duration": 10,
    "start_time": "2022-04-22T10:07:28.730Z"
   },
   {
    "duration": 18,
    "start_time": "2022-04-22T10:07:28.742Z"
   },
   {
    "duration": 14,
    "start_time": "2022-04-22T10:07:28.762Z"
   },
   {
    "duration": 6,
    "start_time": "2022-04-22T10:07:28.778Z"
   },
   {
    "duration": 6,
    "start_time": "2022-04-22T10:08:51.161Z"
   },
   {
    "duration": 408,
    "start_time": "2022-04-22T10:08:55.781Z"
   },
   {
    "duration": 69,
    "start_time": "2022-04-22T10:08:56.191Z"
   },
   {
    "duration": 18,
    "start_time": "2022-04-22T10:08:56.261Z"
   },
   {
    "duration": 18,
    "start_time": "2022-04-22T10:08:56.280Z"
   },
   {
    "duration": 47,
    "start_time": "2022-04-22T10:08:56.300Z"
   },
   {
    "duration": 34,
    "start_time": "2022-04-22T10:08:56.348Z"
   },
   {
    "duration": 9,
    "start_time": "2022-04-22T10:08:56.383Z"
   },
   {
    "duration": 13,
    "start_time": "2022-04-22T10:08:56.393Z"
   },
   {
    "duration": 17,
    "start_time": "2022-04-22T10:08:56.408Z"
   },
   {
    "duration": 15,
    "start_time": "2022-04-22T10:08:56.426Z"
   },
   {
    "duration": 20,
    "start_time": "2022-04-22T10:08:56.442Z"
   },
   {
    "duration": 6,
    "start_time": "2022-04-22T10:08:56.463Z"
   },
   {
    "duration": 23,
    "start_time": "2022-04-22T10:08:56.470Z"
   },
   {
    "duration": 8,
    "start_time": "2022-04-22T10:08:56.495Z"
   },
   {
    "duration": 35,
    "start_time": "2022-04-22T10:08:56.504Z"
   },
   {
    "duration": 3,
    "start_time": "2022-04-22T10:08:56.541Z"
   },
   {
    "duration": 18,
    "start_time": "2022-04-22T10:08:56.546Z"
   },
   {
    "duration": 25,
    "start_time": "2022-04-22T10:08:56.566Z"
   },
   {
    "duration": 15,
    "start_time": "2022-04-22T10:08:56.593Z"
   },
   {
    "duration": 25,
    "start_time": "2022-04-22T10:08:56.609Z"
   },
   {
    "duration": 26,
    "start_time": "2022-04-22T10:08:56.636Z"
   },
   {
    "duration": 12,
    "start_time": "2022-04-22T10:08:56.663Z"
   },
   {
    "duration": 15,
    "start_time": "2022-04-22T10:08:56.676Z"
   },
   {
    "duration": 34,
    "start_time": "2022-04-22T10:08:56.692Z"
   },
   {
    "duration": 9,
    "start_time": "2022-04-22T10:08:56.727Z"
   },
   {
    "duration": 22,
    "start_time": "2022-04-22T10:08:56.738Z"
   },
   {
    "duration": 13,
    "start_time": "2022-04-22T10:08:56.762Z"
   },
   {
    "duration": 32,
    "start_time": "2022-04-22T10:08:56.776Z"
   },
   {
    "duration": 30,
    "start_time": "2022-04-22T10:08:56.809Z"
   },
   {
    "duration": 17,
    "start_time": "2022-04-22T10:08:56.840Z"
   },
   {
    "duration": 32,
    "start_time": "2022-04-22T10:08:56.858Z"
   },
   {
    "duration": 27,
    "start_time": "2022-04-22T10:08:56.891Z"
   },
   {
    "duration": 18,
    "start_time": "2022-04-22T10:08:56.920Z"
   },
   {
    "duration": 4,
    "start_time": "2022-04-22T10:09:04.288Z"
   },
   {
    "duration": 68,
    "start_time": "2022-04-22T10:09:42.170Z"
   },
   {
    "duration": 4,
    "start_time": "2022-04-22T10:09:50.962Z"
   },
   {
    "duration": 7,
    "start_time": "2022-04-22T10:09:52.751Z"
   },
   {
    "duration": 11,
    "start_time": "2022-04-22T10:10:31.879Z"
   },
   {
    "duration": 20,
    "start_time": "2022-04-22T10:10:45.720Z"
   },
   {
    "duration": 8,
    "start_time": "2022-04-22T10:11:04.870Z"
   },
   {
    "duration": 5,
    "start_time": "2022-04-22T10:15:03.337Z"
   },
   {
    "duration": 14,
    "start_time": "2022-04-22T10:15:17.345Z"
   },
   {
    "duration": 11,
    "start_time": "2022-04-22T10:15:27.157Z"
   },
   {
    "duration": 17,
    "start_time": "2022-04-22T10:16:27.844Z"
   },
   {
    "duration": 21,
    "start_time": "2022-04-22T10:18:35.698Z"
   },
   {
    "duration": 16,
    "start_time": "2022-04-22T10:18:49.756Z"
   },
   {
    "duration": 12,
    "start_time": "2022-04-22T10:19:43.856Z"
   },
   {
    "duration": 7,
    "start_time": "2022-04-22T10:21:01.619Z"
   },
   {
    "duration": 7,
    "start_time": "2022-04-22T10:21:12.820Z"
   },
   {
    "duration": 10,
    "start_time": "2022-04-22T10:21:56.513Z"
   },
   {
    "duration": 7,
    "start_time": "2022-04-22T10:22:04.854Z"
   },
   {
    "duration": 8,
    "start_time": "2022-04-22T10:22:11.272Z"
   },
   {
    "duration": 360,
    "start_time": "2022-04-22T10:23:05.034Z"
   },
   {
    "duration": 61,
    "start_time": "2022-04-22T10:23:05.396Z"
   },
   {
    "duration": 20,
    "start_time": "2022-04-22T10:23:05.459Z"
   },
   {
    "duration": 11,
    "start_time": "2022-04-22T10:23:05.481Z"
   },
   {
    "duration": 14,
    "start_time": "2022-04-22T10:23:05.500Z"
   },
   {
    "duration": 28,
    "start_time": "2022-04-22T10:23:05.516Z"
   },
   {
    "duration": 9,
    "start_time": "2022-04-22T10:23:05.545Z"
   },
   {
    "duration": 6,
    "start_time": "2022-04-22T10:23:05.555Z"
   },
   {
    "duration": 10,
    "start_time": "2022-04-22T10:23:05.562Z"
   },
   {
    "duration": 4,
    "start_time": "2022-04-22T10:23:05.600Z"
   },
   {
    "duration": 11,
    "start_time": "2022-04-22T10:23:05.606Z"
   },
   {
    "duration": 5,
    "start_time": "2022-04-22T10:23:05.618Z"
   },
   {
    "duration": 7,
    "start_time": "2022-04-22T10:23:05.624Z"
   },
   {
    "duration": 14,
    "start_time": "2022-04-22T10:23:05.633Z"
   },
   {
    "duration": 7,
    "start_time": "2022-04-22T10:23:05.649Z"
   },
   {
    "duration": 7,
    "start_time": "2022-04-22T10:23:05.658Z"
   },
   {
    "duration": 8,
    "start_time": "2022-04-22T10:23:05.666Z"
   },
   {
    "duration": 25,
    "start_time": "2022-04-22T10:23:05.675Z"
   },
   {
    "duration": 4,
    "start_time": "2022-04-22T10:23:05.701Z"
   },
   {
    "duration": 7,
    "start_time": "2022-04-22T10:23:05.706Z"
   },
   {
    "duration": 4,
    "start_time": "2022-04-22T10:23:05.715Z"
   },
   {
    "duration": 4,
    "start_time": "2022-04-22T10:23:05.721Z"
   },
   {
    "duration": 12,
    "start_time": "2022-04-22T10:23:05.727Z"
   },
   {
    "duration": 8,
    "start_time": "2022-04-22T10:23:05.741Z"
   },
   {
    "duration": 4,
    "start_time": "2022-04-22T10:23:05.751Z"
   },
   {
    "duration": 11,
    "start_time": "2022-04-22T10:23:05.756Z"
   },
   {
    "duration": 10,
    "start_time": "2022-04-22T10:23:05.768Z"
   },
   {
    "duration": 5,
    "start_time": "2022-04-22T10:23:05.800Z"
   },
   {
    "duration": 17,
    "start_time": "2022-04-22T10:23:05.806Z"
   },
   {
    "duration": 14,
    "start_time": "2022-04-22T10:23:05.825Z"
   },
   {
    "duration": 6,
    "start_time": "2022-04-22T10:23:05.841Z"
   },
   {
    "duration": 24,
    "start_time": "2022-04-22T10:23:05.848Z"
   },
   {
    "duration": 40,
    "start_time": "2022-04-22T10:23:05.874Z"
   },
   {
    "duration": 15,
    "start_time": "2022-04-22T10:23:05.915Z"
   },
   {
    "duration": 10,
    "start_time": "2022-04-22T10:23:05.932Z"
   },
   {
    "duration": 7,
    "start_time": "2022-04-22T10:23:35.256Z"
   },
   {
    "duration": 70,
    "start_time": "2022-04-22T10:24:01.644Z"
   },
   {
    "duration": 12,
    "start_time": "2022-04-22T10:24:19.844Z"
   },
   {
    "duration": 13,
    "start_time": "2022-04-22T10:24:39.304Z"
   },
   {
    "duration": 11,
    "start_time": "2022-04-22T10:25:41.707Z"
   },
   {
    "duration": 8,
    "start_time": "2022-04-22T10:26:13.805Z"
   },
   {
    "duration": 9,
    "start_time": "2022-04-22T10:26:44.192Z"
   },
   {
    "duration": 15,
    "start_time": "2022-04-22T10:27:05.298Z"
   },
   {
    "duration": 5,
    "start_time": "2022-04-22T10:27:24.123Z"
   },
   {
    "duration": 394,
    "start_time": "2022-04-22T10:27:40.009Z"
   },
   {
    "duration": 61,
    "start_time": "2022-04-22T10:27:40.406Z"
   },
   {
    "duration": 19,
    "start_time": "2022-04-22T10:27:40.469Z"
   },
   {
    "duration": 16,
    "start_time": "2022-04-22T10:27:40.490Z"
   },
   {
    "duration": 18,
    "start_time": "2022-04-22T10:27:40.507Z"
   },
   {
    "duration": 28,
    "start_time": "2022-04-22T10:27:40.527Z"
   },
   {
    "duration": 9,
    "start_time": "2022-04-22T10:27:40.556Z"
   },
   {
    "duration": 11,
    "start_time": "2022-04-22T10:27:40.566Z"
   },
   {
    "duration": 22,
    "start_time": "2022-04-22T10:27:40.579Z"
   },
   {
    "duration": 11,
    "start_time": "2022-04-22T10:27:40.604Z"
   },
   {
    "duration": 7,
    "start_time": "2022-04-22T10:27:40.616Z"
   },
   {
    "duration": 3,
    "start_time": "2022-04-22T10:27:40.625Z"
   },
   {
    "duration": 9,
    "start_time": "2022-04-22T10:27:40.629Z"
   },
   {
    "duration": 5,
    "start_time": "2022-04-22T10:27:40.640Z"
   },
   {
    "duration": 7,
    "start_time": "2022-04-22T10:27:40.646Z"
   },
   {
    "duration": 5,
    "start_time": "2022-04-22T10:27:40.654Z"
   },
   {
    "duration": 7,
    "start_time": "2022-04-22T10:27:40.660Z"
   },
   {
    "duration": 33,
    "start_time": "2022-04-22T10:27:40.668Z"
   },
   {
    "duration": 3,
    "start_time": "2022-04-22T10:27:40.702Z"
   },
   {
    "duration": 6,
    "start_time": "2022-04-22T10:27:40.707Z"
   },
   {
    "duration": 8,
    "start_time": "2022-04-22T10:27:40.714Z"
   },
   {
    "duration": 5,
    "start_time": "2022-04-22T10:27:40.723Z"
   },
   {
    "duration": 10,
    "start_time": "2022-04-22T10:27:40.729Z"
   },
   {
    "duration": 9,
    "start_time": "2022-04-22T10:27:40.741Z"
   },
   {
    "duration": 2,
    "start_time": "2022-04-22T10:27:40.751Z"
   },
   {
    "duration": 9,
    "start_time": "2022-04-22T10:27:40.754Z"
   },
   {
    "duration": 12,
    "start_time": "2022-04-22T10:27:40.765Z"
   },
   {
    "duration": 22,
    "start_time": "2022-04-22T10:27:40.780Z"
   },
   {
    "duration": 16,
    "start_time": "2022-04-22T10:27:40.804Z"
   },
   {
    "duration": 14,
    "start_time": "2022-04-22T10:27:40.821Z"
   },
   {
    "duration": 4,
    "start_time": "2022-04-22T10:27:40.836Z"
   },
   {
    "duration": 20,
    "start_time": "2022-04-22T10:27:40.842Z"
   },
   {
    "duration": 46,
    "start_time": "2022-04-22T10:27:40.863Z"
   },
   {
    "duration": 16,
    "start_time": "2022-04-22T10:27:40.910Z"
   },
   {
    "duration": 11,
    "start_time": "2022-04-22T10:27:40.928Z"
   },
   {
    "duration": 7,
    "start_time": "2022-04-22T10:27:45.463Z"
   },
   {
    "duration": 13,
    "start_time": "2022-04-22T10:28:36.893Z"
   },
   {
    "duration": 11,
    "start_time": "2022-04-22T10:28:49.896Z"
   },
   {
    "duration": 38,
    "start_time": "2022-04-22T11:58:56.132Z"
   },
   {
    "duration": 442,
    "start_time": "2022-04-22T11:59:02.181Z"
   },
   {
    "duration": 66,
    "start_time": "2022-04-22T11:59:02.632Z"
   },
   {
    "duration": 30,
    "start_time": "2022-04-22T11:59:02.699Z"
   },
   {
    "duration": 33,
    "start_time": "2022-04-22T11:59:02.731Z"
   },
   {
    "duration": 17,
    "start_time": "2022-04-22T11:59:02.765Z"
   },
   {
    "duration": 43,
    "start_time": "2022-04-22T11:59:02.784Z"
   },
   {
    "duration": 15,
    "start_time": "2022-04-22T11:59:02.829Z"
   },
   {
    "duration": 9,
    "start_time": "2022-04-22T11:59:02.845Z"
   },
   {
    "duration": 4,
    "start_time": "2022-04-22T11:59:02.857Z"
   },
   {
    "duration": 4,
    "start_time": "2022-04-22T11:59:02.865Z"
   },
   {
    "duration": 30,
    "start_time": "2022-04-22T11:59:02.871Z"
   },
   {
    "duration": 39,
    "start_time": "2022-04-22T11:59:02.902Z"
   },
   {
    "duration": 9,
    "start_time": "2022-04-22T11:59:02.943Z"
   },
   {
    "duration": 9,
    "start_time": "2022-04-22T11:59:02.954Z"
   },
   {
    "duration": 11,
    "start_time": "2022-04-22T11:59:02.965Z"
   },
   {
    "duration": 6,
    "start_time": "2022-04-22T11:59:02.978Z"
   },
   {
    "duration": 12,
    "start_time": "2022-04-22T11:59:02.985Z"
   },
   {
    "duration": 48,
    "start_time": "2022-04-22T11:59:02.999Z"
   },
   {
    "duration": 3,
    "start_time": "2022-04-22T11:59:03.049Z"
   },
   {
    "duration": 7,
    "start_time": "2022-04-22T11:59:03.054Z"
   },
   {
    "duration": 5,
    "start_time": "2022-04-22T11:59:03.063Z"
   },
   {
    "duration": 6,
    "start_time": "2022-04-22T11:59:03.069Z"
   },
   {
    "duration": 9,
    "start_time": "2022-04-22T11:59:03.077Z"
   },
   {
    "duration": 18,
    "start_time": "2022-04-22T11:59:03.087Z"
   },
   {
    "duration": 36,
    "start_time": "2022-04-22T11:59:03.106Z"
   },
   {
    "duration": 14,
    "start_time": "2022-04-22T11:59:03.143Z"
   },
   {
    "duration": 10,
    "start_time": "2022-04-22T11:59:03.159Z"
   },
   {
    "duration": 6,
    "start_time": "2022-04-22T11:59:03.172Z"
   },
   {
    "duration": 28,
    "start_time": "2022-04-22T11:59:03.180Z"
   },
   {
    "duration": 48,
    "start_time": "2022-04-22T11:59:03.211Z"
   },
   {
    "duration": 5,
    "start_time": "2022-04-22T11:59:03.260Z"
   },
   {
    "duration": 70,
    "start_time": "2022-04-22T11:59:03.266Z"
   },
   {
    "duration": 21,
    "start_time": "2022-04-22T11:59:03.338Z"
   },
   {
    "duration": 16,
    "start_time": "2022-04-22T11:59:03.360Z"
   },
   {
    "duration": 22,
    "start_time": "2022-04-22T11:59:03.378Z"
   },
   {
    "duration": 27,
    "start_time": "2022-04-22T12:01:31.827Z"
   },
   {
    "duration": 395,
    "start_time": "2022-04-22T12:01:42.460Z"
   },
   {
    "duration": 75,
    "start_time": "2022-04-22T12:01:42.857Z"
   },
   {
    "duration": 25,
    "start_time": "2022-04-22T12:01:43.129Z"
   },
   {
    "duration": 17,
    "start_time": "2022-04-22T12:01:43.296Z"
   },
   {
    "duration": 15,
    "start_time": "2022-04-22T12:01:43.460Z"
   },
   {
    "duration": 45,
    "start_time": "2022-04-22T12:01:43.628Z"
   },
   {
    "duration": 13,
    "start_time": "2022-04-22T12:01:44.329Z"
   },
   {
    "duration": 10,
    "start_time": "2022-04-22T12:01:44.772Z"
   },
   {
    "duration": 4,
    "start_time": "2022-04-22T12:01:44.932Z"
   },
   {
    "duration": 4,
    "start_time": "2022-04-22T12:01:45.441Z"
   },
   {
    "duration": 6,
    "start_time": "2022-04-22T12:01:45.601Z"
   },
   {
    "duration": 3,
    "start_time": "2022-04-22T12:01:45.779Z"
   },
   {
    "duration": 6,
    "start_time": "2022-04-22T12:01:45.953Z"
   },
   {
    "duration": 8,
    "start_time": "2022-04-22T12:01:46.121Z"
   },
   {
    "duration": 7,
    "start_time": "2022-04-22T12:01:46.290Z"
   },
   {
    "duration": 4,
    "start_time": "2022-04-22T12:01:46.458Z"
   },
   {
    "duration": 10,
    "start_time": "2022-04-22T12:01:46.600Z"
   },
   {
    "duration": 9,
    "start_time": "2022-04-22T12:01:46.924Z"
   },
   {
    "duration": 4,
    "start_time": "2022-04-22T12:01:47.087Z"
   },
   {
    "duration": 4,
    "start_time": "2022-04-22T12:01:47.295Z"
   },
   {
    "duration": 4,
    "start_time": "2022-04-22T12:01:47.425Z"
   },
   {
    "duration": 6,
    "start_time": "2022-04-22T12:01:47.819Z"
   },
   {
    "duration": 5,
    "start_time": "2022-04-22T12:01:49.077Z"
   },
   {
    "duration": 8,
    "start_time": "2022-04-22T12:01:49.651Z"
   },
   {
    "duration": 2,
    "start_time": "2022-04-22T12:01:49.861Z"
   },
   {
    "duration": 10,
    "start_time": "2022-04-22T12:01:50.228Z"
   },
   {
    "duration": 10,
    "start_time": "2022-04-22T12:01:50.417Z"
   },
   {
    "duration": 8,
    "start_time": "2022-04-22T12:01:50.807Z"
   },
   {
    "duration": 22,
    "start_time": "2022-04-22T12:01:51.273Z"
   },
   {
    "duration": 19,
    "start_time": "2022-04-22T12:01:51.570Z"
   },
   {
    "duration": 6,
    "start_time": "2022-04-22T12:01:53.230Z"
   },
   {
    "duration": 40,
    "start_time": "2022-04-22T12:01:54.449Z"
   },
   {
    "duration": 34,
    "start_time": "2022-04-22T12:01:57.426Z"
   },
   {
    "duration": 25,
    "start_time": "2022-04-22T12:02:14.970Z"
   },
   {
    "duration": 26,
    "start_time": "2022-04-22T12:02:39.729Z"
   },
   {
    "duration": 17,
    "start_time": "2022-04-22T12:02:40.238Z"
   },
   {
    "duration": 28,
    "start_time": "2022-04-22T12:05:28.325Z"
   },
   {
    "duration": 456,
    "start_time": "2022-04-22T12:05:47.036Z"
   },
   {
    "duration": 87,
    "start_time": "2022-04-22T12:05:47.494Z"
   },
   {
    "duration": 17,
    "start_time": "2022-04-22T12:05:47.584Z"
   },
   {
    "duration": 18,
    "start_time": "2022-04-22T12:05:47.605Z"
   },
   {
    "duration": 37,
    "start_time": "2022-04-22T12:05:47.625Z"
   },
   {
    "duration": 41,
    "start_time": "2022-04-22T12:05:47.664Z"
   },
   {
    "duration": 21,
    "start_time": "2022-04-22T12:05:47.707Z"
   },
   {
    "duration": 24,
    "start_time": "2022-04-22T12:05:47.731Z"
   },
   {
    "duration": 4,
    "start_time": "2022-04-22T12:05:47.757Z"
   },
   {
    "duration": 8,
    "start_time": "2022-04-22T12:05:47.763Z"
   },
   {
    "duration": 6,
    "start_time": "2022-04-22T12:05:47.773Z"
   },
   {
    "duration": 4,
    "start_time": "2022-04-22T12:05:47.781Z"
   },
   {
    "duration": 15,
    "start_time": "2022-04-22T12:05:47.787Z"
   },
   {
    "duration": 39,
    "start_time": "2022-04-22T12:05:47.805Z"
   },
   {
    "duration": 15,
    "start_time": "2022-04-22T12:05:47.845Z"
   },
   {
    "duration": 8,
    "start_time": "2022-04-22T12:05:47.862Z"
   },
   {
    "duration": 18,
    "start_time": "2022-04-22T12:05:47.872Z"
   },
   {
    "duration": 16,
    "start_time": "2022-04-22T12:05:47.891Z"
   },
   {
    "duration": 43,
    "start_time": "2022-04-22T12:05:47.909Z"
   },
   {
    "duration": 5,
    "start_time": "2022-04-22T12:05:47.954Z"
   },
   {
    "duration": 9,
    "start_time": "2022-04-22T12:05:47.961Z"
   },
   {
    "duration": 21,
    "start_time": "2022-04-22T12:05:47.971Z"
   },
   {
    "duration": 14,
    "start_time": "2022-04-22T12:05:47.993Z"
   },
   {
    "duration": 46,
    "start_time": "2022-04-22T12:05:48.009Z"
   },
   {
    "duration": 12,
    "start_time": "2022-04-22T12:05:48.057Z"
   },
   {
    "duration": 15,
    "start_time": "2022-04-22T12:05:48.071Z"
   },
   {
    "duration": 23,
    "start_time": "2022-04-22T12:05:48.087Z"
   },
   {
    "duration": 42,
    "start_time": "2022-04-22T12:05:48.111Z"
   },
   {
    "duration": 18,
    "start_time": "2022-04-22T12:05:48.155Z"
   },
   {
    "duration": 35,
    "start_time": "2022-04-22T12:05:48.175Z"
   },
   {
    "duration": 36,
    "start_time": "2022-04-22T12:05:48.212Z"
   },
   {
    "duration": 48,
    "start_time": "2022-04-22T12:05:48.249Z"
   },
   {
    "duration": 42,
    "start_time": "2022-04-22T12:05:48.298Z"
   },
   {
    "duration": 33,
    "start_time": "2022-04-22T12:05:48.343Z"
   },
   {
    "duration": 30,
    "start_time": "2022-04-22T12:05:48.378Z"
   },
   {
    "duration": 16,
    "start_time": "2022-04-22T12:05:48.410Z"
   },
   {
    "duration": 22,
    "start_time": "2022-04-22T12:06:06.563Z"
   },
   {
    "duration": 3146,
    "start_time": "2022-04-22T12:19:54.134Z"
   },
   {
    "duration": 13,
    "start_time": "2022-04-22T12:20:31.853Z"
   },
   {
    "duration": 471,
    "start_time": "2022-04-22T12:20:37.418Z"
   },
   {
    "duration": 84,
    "start_time": "2022-04-22T12:20:37.891Z"
   },
   {
    "duration": 21,
    "start_time": "2022-04-22T12:20:37.977Z"
   },
   {
    "duration": 39,
    "start_time": "2022-04-22T12:20:37.999Z"
   },
   {
    "duration": 24,
    "start_time": "2022-04-22T12:20:38.040Z"
   },
   {
    "duration": 54,
    "start_time": "2022-04-22T12:20:38.065Z"
   },
   {
    "duration": 13,
    "start_time": "2022-04-22T12:20:38.122Z"
   },
   {
    "duration": 7,
    "start_time": "2022-04-22T12:20:38.137Z"
   },
   {
    "duration": 4,
    "start_time": "2022-04-22T12:20:38.146Z"
   },
   {
    "duration": 6,
    "start_time": "2022-04-22T12:20:38.152Z"
   },
   {
    "duration": 12,
    "start_time": "2022-04-22T12:20:38.160Z"
   },
   {
    "duration": 10,
    "start_time": "2022-04-22T12:20:38.173Z"
   },
   {
    "duration": 9,
    "start_time": "2022-04-22T12:20:38.199Z"
   },
   {
    "duration": 22,
    "start_time": "2022-04-22T12:20:38.212Z"
   },
   {
    "duration": 13,
    "start_time": "2022-04-22T12:20:38.236Z"
   },
   {
    "duration": 6,
    "start_time": "2022-04-22T12:20:38.251Z"
   },
   {
    "duration": 10,
    "start_time": "2022-04-22T12:20:38.259Z"
   },
   {
    "duration": 13,
    "start_time": "2022-04-22T12:20:38.271Z"
   },
   {
    "duration": 5,
    "start_time": "2022-04-22T12:20:38.285Z"
   },
   {
    "duration": 4,
    "start_time": "2022-04-22T12:20:38.299Z"
   },
   {
    "duration": 23,
    "start_time": "2022-04-22T12:20:38.305Z"
   },
   {
    "duration": 8,
    "start_time": "2022-04-22T12:20:38.329Z"
   },
   {
    "duration": 10,
    "start_time": "2022-04-22T12:20:38.338Z"
   },
   {
    "duration": 10,
    "start_time": "2022-04-22T12:20:38.349Z"
   },
   {
    "duration": 5,
    "start_time": "2022-04-22T12:20:38.360Z"
   },
   {
    "duration": 9,
    "start_time": "2022-04-22T12:20:38.366Z"
   },
   {
    "duration": 9,
    "start_time": "2022-04-22T12:20:38.377Z"
   },
   {
    "duration": 14,
    "start_time": "2022-04-22T12:20:38.387Z"
   },
   {
    "duration": 40,
    "start_time": "2022-04-22T12:20:38.403Z"
   },
   {
    "duration": 16,
    "start_time": "2022-04-22T12:20:38.444Z"
   },
   {
    "duration": 6,
    "start_time": "2022-04-22T12:20:38.461Z"
   },
   {
    "duration": 69,
    "start_time": "2022-04-22T12:20:38.469Z"
   },
   {
    "duration": 26,
    "start_time": "2022-04-22T12:20:38.540Z"
   },
   {
    "duration": 49,
    "start_time": "2022-04-22T12:20:38.567Z"
   },
   {
    "duration": 22,
    "start_time": "2022-04-22T12:20:38.618Z"
   },
   {
    "duration": 15,
    "start_time": "2022-04-22T12:20:38.642Z"
   },
   {
    "duration": 3127,
    "start_time": "2022-04-22T12:20:38.659Z"
   },
   {
    "duration": 13,
    "start_time": "2022-04-22T12:21:16.770Z"
   },
   {
    "duration": 14,
    "start_time": "2022-04-22T12:21:58.993Z"
   },
   {
    "duration": 10,
    "start_time": "2022-04-22T12:22:12.930Z"
   },
   {
    "duration": 2987,
    "start_time": "2022-04-22T12:22:55.833Z"
   },
   {
    "duration": 11,
    "start_time": "2022-04-22T12:26:13.674Z"
   },
   {
    "duration": 450,
    "start_time": "2022-04-22T12:26:44.491Z"
   },
   {
    "duration": 84,
    "start_time": "2022-04-22T12:26:44.944Z"
   },
   {
    "duration": 27,
    "start_time": "2022-04-22T12:26:45.030Z"
   },
   {
    "duration": 19,
    "start_time": "2022-04-22T12:26:45.059Z"
   },
   {
    "duration": 44,
    "start_time": "2022-04-22T12:26:45.080Z"
   },
   {
    "duration": 45,
    "start_time": "2022-04-22T12:26:45.126Z"
   },
   {
    "duration": 16,
    "start_time": "2022-04-22T12:26:45.172Z"
   },
   {
    "duration": 9,
    "start_time": "2022-04-22T12:26:45.199Z"
   },
   {
    "duration": 9,
    "start_time": "2022-04-22T12:26:45.210Z"
   },
   {
    "duration": 10,
    "start_time": "2022-04-22T12:26:45.222Z"
   },
   {
    "duration": 12,
    "start_time": "2022-04-22T12:26:45.233Z"
   },
   {
    "duration": 5,
    "start_time": "2022-04-22T12:26:45.246Z"
   },
   {
    "duration": 7,
    "start_time": "2022-04-22T12:26:45.253Z"
   },
   {
    "duration": 5,
    "start_time": "2022-04-22T12:26:45.263Z"
   },
   {
    "duration": 32,
    "start_time": "2022-04-22T12:26:45.270Z"
   },
   {
    "duration": 25,
    "start_time": "2022-04-22T12:26:45.304Z"
   },
   {
    "duration": 7,
    "start_time": "2022-04-22T12:26:45.331Z"
   },
   {
    "duration": 11,
    "start_time": "2022-04-22T12:26:45.340Z"
   },
   {
    "duration": 3,
    "start_time": "2022-04-22T12:26:45.352Z"
   },
   {
    "duration": 12,
    "start_time": "2022-04-22T12:26:45.357Z"
   },
   {
    "duration": 6,
    "start_time": "2022-04-22T12:26:45.371Z"
   },
   {
    "duration": 7,
    "start_time": "2022-04-22T12:26:45.378Z"
   },
   {
    "duration": 7,
    "start_time": "2022-04-22T12:26:45.386Z"
   },
   {
    "duration": 21,
    "start_time": "2022-04-22T12:26:45.400Z"
   },
   {
    "duration": 10,
    "start_time": "2022-04-22T12:26:45.423Z"
   },
   {
    "duration": 13,
    "start_time": "2022-04-22T12:26:45.435Z"
   },
   {
    "duration": 9,
    "start_time": "2022-04-22T12:26:45.450Z"
   },
   {
    "duration": 5,
    "start_time": "2022-04-22T12:26:45.461Z"
   },
   {
    "duration": 20,
    "start_time": "2022-04-22T12:26:45.468Z"
   },
   {
    "duration": 30,
    "start_time": "2022-04-22T12:26:45.500Z"
   },
   {
    "duration": 6,
    "start_time": "2022-04-22T12:26:45.532Z"
   },
   {
    "duration": 42,
    "start_time": "2022-04-22T12:26:45.540Z"
   },
   {
    "duration": 48,
    "start_time": "2022-04-22T12:26:45.584Z"
   },
   {
    "duration": 28,
    "start_time": "2022-04-22T12:26:45.634Z"
   },
   {
    "duration": 39,
    "start_time": "2022-04-22T12:26:45.663Z"
   },
   {
    "duration": 16,
    "start_time": "2022-04-22T12:26:45.704Z"
   },
   {
    "duration": 10,
    "start_time": "2022-04-22T12:26:45.722Z"
   },
   {
    "duration": 6,
    "start_time": "2022-04-22T12:27:00.953Z"
   },
   {
    "duration": 7,
    "start_time": "2022-04-22T12:28:03.569Z"
   },
   {
    "duration": 9,
    "start_time": "2022-04-22T12:28:50.481Z"
   },
   {
    "duration": 8,
    "start_time": "2022-04-22T12:30:03.260Z"
   },
   {
    "duration": 5,
    "start_time": "2022-04-22T12:30:22.293Z"
   },
   {
    "duration": 6,
    "start_time": "2022-04-22T12:32:19.684Z"
   },
   {
    "duration": 15,
    "start_time": "2022-04-22T12:32:49.825Z"
   },
   {
    "duration": 6,
    "start_time": "2022-04-22T12:32:50.468Z"
   },
   {
    "duration": 8,
    "start_time": "2022-04-22T12:32:51.368Z"
   },
   {
    "duration": 761,
    "start_time": "2022-04-22T12:34:40.581Z"
   },
   {
    "duration": 452,
    "start_time": "2022-04-22T12:37:09.343Z"
   },
   {
    "duration": 79,
    "start_time": "2022-04-22T12:37:09.797Z"
   },
   {
    "duration": 19,
    "start_time": "2022-04-22T12:37:09.878Z"
   },
   {
    "duration": 26,
    "start_time": "2022-04-22T12:37:09.898Z"
   },
   {
    "duration": 37,
    "start_time": "2022-04-22T12:37:09.927Z"
   },
   {
    "duration": 30,
    "start_time": "2022-04-22T12:37:09.966Z"
   },
   {
    "duration": 34,
    "start_time": "2022-04-22T12:37:09.997Z"
   },
   {
    "duration": 32,
    "start_time": "2022-04-22T12:37:10.032Z"
   },
   {
    "duration": 4,
    "start_time": "2022-04-22T12:37:10.066Z"
   },
   {
    "duration": 9,
    "start_time": "2022-04-22T12:37:10.072Z"
   },
   {
    "duration": 8,
    "start_time": "2022-04-22T12:37:10.082Z"
   },
   {
    "duration": 7,
    "start_time": "2022-04-22T12:37:10.091Z"
   },
   {
    "duration": 56,
    "start_time": "2022-04-22T12:37:10.099Z"
   },
   {
    "duration": 6,
    "start_time": "2022-04-22T12:37:10.159Z"
   },
   {
    "duration": 12,
    "start_time": "2022-04-22T12:37:10.167Z"
   },
   {
    "duration": 4,
    "start_time": "2022-04-22T12:37:10.181Z"
   },
   {
    "duration": 9,
    "start_time": "2022-04-22T12:37:10.186Z"
   },
   {
    "duration": 12,
    "start_time": "2022-04-22T12:37:10.196Z"
   },
   {
    "duration": 37,
    "start_time": "2022-04-22T12:37:10.214Z"
   },
   {
    "duration": 9,
    "start_time": "2022-04-22T12:37:10.252Z"
   },
   {
    "duration": 6,
    "start_time": "2022-04-22T12:37:10.262Z"
   },
   {
    "duration": 5,
    "start_time": "2022-04-22T12:37:10.270Z"
   },
   {
    "duration": 7,
    "start_time": "2022-04-22T12:37:10.276Z"
   },
   {
    "duration": 10,
    "start_time": "2022-04-22T12:37:10.285Z"
   },
   {
    "duration": 2,
    "start_time": "2022-04-22T12:37:10.296Z"
   },
   {
    "duration": 53,
    "start_time": "2022-04-22T12:37:10.300Z"
   },
   {
    "duration": 11,
    "start_time": "2022-04-22T12:37:10.354Z"
   },
   {
    "duration": 7,
    "start_time": "2022-04-22T12:37:10.366Z"
   },
   {
    "duration": 17,
    "start_time": "2022-04-22T12:37:10.374Z"
   },
   {
    "duration": 27,
    "start_time": "2022-04-22T12:37:10.392Z"
   },
   {
    "duration": 30,
    "start_time": "2022-04-22T12:37:10.420Z"
   },
   {
    "duration": 73,
    "start_time": "2022-04-22T12:37:10.452Z"
   },
   {
    "duration": 33,
    "start_time": "2022-04-22T12:37:10.529Z"
   },
   {
    "duration": 25,
    "start_time": "2022-04-22T12:37:10.565Z"
   },
   {
    "duration": 31,
    "start_time": "2022-04-22T12:37:10.591Z"
   },
   {
    "duration": 27,
    "start_time": "2022-04-22T12:37:10.624Z"
   },
   {
    "duration": 15,
    "start_time": "2022-04-22T12:37:10.652Z"
   },
   {
    "duration": 5,
    "start_time": "2022-04-22T12:37:10.669Z"
   },
   {
    "duration": 7,
    "start_time": "2022-04-22T12:37:10.676Z"
   },
   {
    "duration": 1084,
    "start_time": "2022-04-22T12:37:10.685Z"
   },
   {
    "duration": 15,
    "start_time": "2022-04-22T12:41:53.673Z"
   },
   {
    "duration": 12,
    "start_time": "2022-04-22T12:42:08.459Z"
   },
   {
    "duration": 920,
    "start_time": "2022-04-22T12:42:20.270Z"
   },
   {
    "duration": 746,
    "start_time": "2022-04-22T12:43:05.143Z"
   },
   {
    "duration": 402,
    "start_time": "2022-04-22T12:43:20.724Z"
   },
   {
    "duration": 62,
    "start_time": "2022-04-22T12:43:21.130Z"
   },
   {
    "duration": 25,
    "start_time": "2022-04-22T12:43:21.194Z"
   },
   {
    "duration": 22,
    "start_time": "2022-04-22T12:43:21.223Z"
   },
   {
    "duration": 15,
    "start_time": "2022-04-22T12:43:21.247Z"
   },
   {
    "duration": 49,
    "start_time": "2022-04-22T12:43:21.263Z"
   },
   {
    "duration": 17,
    "start_time": "2022-04-22T12:43:21.314Z"
   },
   {
    "duration": 6,
    "start_time": "2022-04-22T12:43:21.333Z"
   },
   {
    "duration": 4,
    "start_time": "2022-04-22T12:43:21.341Z"
   },
   {
    "duration": 6,
    "start_time": "2022-04-22T12:43:21.347Z"
   },
   {
    "duration": 8,
    "start_time": "2022-04-22T12:43:21.355Z"
   },
   {
    "duration": 10,
    "start_time": "2022-04-22T12:43:21.364Z"
   },
   {
    "duration": 8,
    "start_time": "2022-04-22T12:43:21.376Z"
   },
   {
    "duration": 8,
    "start_time": "2022-04-22T12:43:21.403Z"
   },
   {
    "duration": 24,
    "start_time": "2022-04-22T12:43:21.413Z"
   },
   {
    "duration": 5,
    "start_time": "2022-04-22T12:43:21.438Z"
   },
   {
    "duration": 7,
    "start_time": "2022-04-22T12:43:21.445Z"
   },
   {
    "duration": 12,
    "start_time": "2022-04-22T12:43:21.453Z"
   },
   {
    "duration": 4,
    "start_time": "2022-04-22T12:43:21.466Z"
   },
   {
    "duration": 10,
    "start_time": "2022-04-22T12:43:21.472Z"
   },
   {
    "duration": 10,
    "start_time": "2022-04-22T12:43:21.483Z"
   },
   {
    "duration": 37,
    "start_time": "2022-04-22T12:43:21.494Z"
   },
   {
    "duration": 8,
    "start_time": "2022-04-22T12:43:21.532Z"
   },
   {
    "duration": 10,
    "start_time": "2022-04-22T12:43:21.541Z"
   },
   {
    "duration": 5,
    "start_time": "2022-04-22T12:43:21.553Z"
   },
   {
    "duration": 8,
    "start_time": "2022-04-22T12:43:21.560Z"
   },
   {
    "duration": 11,
    "start_time": "2022-04-22T12:43:21.570Z"
   },
   {
    "duration": 4,
    "start_time": "2022-04-22T12:43:21.583Z"
   },
   {
    "duration": 21,
    "start_time": "2022-04-22T12:43:21.589Z"
   },
   {
    "duration": 24,
    "start_time": "2022-04-22T12:43:21.612Z"
   },
   {
    "duration": 6,
    "start_time": "2022-04-22T12:43:21.638Z"
   },
   {
    "duration": 37,
    "start_time": "2022-04-22T12:43:21.646Z"
   },
   {
    "duration": 51,
    "start_time": "2022-04-22T12:43:21.685Z"
   },
   {
    "duration": 22,
    "start_time": "2022-04-22T12:43:21.738Z"
   },
   {
    "duration": 15,
    "start_time": "2022-04-22T12:43:21.761Z"
   },
   {
    "duration": 36,
    "start_time": "2022-04-22T12:43:21.778Z"
   },
   {
    "duration": 31,
    "start_time": "2022-04-22T12:43:21.816Z"
   },
   {
    "duration": 6,
    "start_time": "2022-04-22T12:43:21.849Z"
   },
   {
    "duration": 8,
    "start_time": "2022-04-22T12:43:21.856Z"
   },
   {
    "duration": 895,
    "start_time": "2022-04-22T12:43:21.866Z"
   },
   {
    "duration": 0,
    "start_time": "2022-04-22T12:43:22.763Z"
   },
   {
    "duration": 732,
    "start_time": "2022-04-22T12:45:20.020Z"
   },
   {
    "duration": 430,
    "start_time": "2022-04-22T12:46:24.226Z"
   },
   {
    "duration": 85,
    "start_time": "2022-04-22T12:46:24.658Z"
   },
   {
    "duration": 18,
    "start_time": "2022-04-22T12:46:24.744Z"
   },
   {
    "duration": 18,
    "start_time": "2022-04-22T12:46:24.764Z"
   },
   {
    "duration": 28,
    "start_time": "2022-04-22T12:46:24.799Z"
   },
   {
    "duration": 44,
    "start_time": "2022-04-22T12:46:24.828Z"
   },
   {
    "duration": 9,
    "start_time": "2022-04-22T12:46:24.874Z"
   },
   {
    "duration": 17,
    "start_time": "2022-04-22T12:46:24.884Z"
   },
   {
    "duration": 6,
    "start_time": "2022-04-22T12:46:24.908Z"
   },
   {
    "duration": 22,
    "start_time": "2022-04-22T12:46:24.916Z"
   },
   {
    "duration": 7,
    "start_time": "2022-04-22T12:46:24.940Z"
   },
   {
    "duration": 4,
    "start_time": "2022-04-22T12:46:24.949Z"
   },
   {
    "duration": 14,
    "start_time": "2022-04-22T12:46:24.955Z"
   },
   {
    "duration": 10,
    "start_time": "2022-04-22T12:46:24.972Z"
   },
   {
    "duration": 9,
    "start_time": "2022-04-22T12:46:24.984Z"
   },
   {
    "duration": 4,
    "start_time": "2022-04-22T12:46:24.994Z"
   },
   {
    "duration": 37,
    "start_time": "2022-04-22T12:46:25.000Z"
   },
   {
    "duration": 13,
    "start_time": "2022-04-22T12:46:25.039Z"
   },
   {
    "duration": 3,
    "start_time": "2022-04-22T12:46:25.054Z"
   },
   {
    "duration": 10,
    "start_time": "2022-04-22T12:46:25.059Z"
   },
   {
    "duration": 8,
    "start_time": "2022-04-22T12:46:25.070Z"
   },
   {
    "duration": 6,
    "start_time": "2022-04-22T12:46:25.079Z"
   },
   {
    "duration": 44,
    "start_time": "2022-04-22T12:46:25.086Z"
   },
   {
    "duration": 10,
    "start_time": "2022-04-22T12:46:25.132Z"
   },
   {
    "duration": 2,
    "start_time": "2022-04-22T12:46:25.143Z"
   },
   {
    "duration": 9,
    "start_time": "2022-04-22T12:46:25.147Z"
   },
   {
    "duration": 15,
    "start_time": "2022-04-22T12:46:25.158Z"
   },
   {
    "duration": 12,
    "start_time": "2022-04-22T12:46:25.174Z"
   },
   {
    "duration": 46,
    "start_time": "2022-04-22T12:46:25.188Z"
   },
   {
    "duration": 22,
    "start_time": "2022-04-22T12:46:25.235Z"
   },
   {
    "duration": 4,
    "start_time": "2022-04-22T12:46:25.259Z"
   },
   {
    "duration": 61,
    "start_time": "2022-04-22T12:46:25.265Z"
   },
   {
    "duration": 26,
    "start_time": "2022-04-22T12:46:25.332Z"
   },
   {
    "duration": 26,
    "start_time": "2022-04-22T12:46:25.360Z"
   },
   {
    "duration": 35,
    "start_time": "2022-04-22T12:46:25.388Z"
   },
   {
    "duration": 14,
    "start_time": "2022-04-22T12:46:25.425Z"
   },
   {
    "duration": 15,
    "start_time": "2022-04-22T12:46:25.440Z"
   },
   {
    "duration": 7,
    "start_time": "2022-04-22T12:46:25.456Z"
   },
   {
    "duration": 9,
    "start_time": "2022-04-22T12:46:25.465Z"
   },
   {
    "duration": 919,
    "start_time": "2022-04-22T12:46:25.475Z"
   },
   {
    "duration": 0,
    "start_time": "2022-04-22T12:46:26.396Z"
   },
   {
    "duration": 4,
    "start_time": "2022-04-22T12:46:57.655Z"
   },
   {
    "duration": 10,
    "start_time": "2022-04-22T12:47:15.043Z"
   },
   {
    "duration": 432,
    "start_time": "2022-04-22T12:47:53.834Z"
   },
   {
    "duration": 94,
    "start_time": "2022-04-22T12:47:54.268Z"
   },
   {
    "duration": 19,
    "start_time": "2022-04-22T12:47:54.364Z"
   },
   {
    "duration": 25,
    "start_time": "2022-04-22T12:47:54.385Z"
   },
   {
    "duration": 39,
    "start_time": "2022-04-22T12:47:54.413Z"
   },
   {
    "duration": 39,
    "start_time": "2022-04-22T12:47:54.454Z"
   },
   {
    "duration": 15,
    "start_time": "2022-04-22T12:47:54.494Z"
   },
   {
    "duration": 27,
    "start_time": "2022-04-22T12:47:54.512Z"
   },
   {
    "duration": 3,
    "start_time": "2022-04-22T12:47:54.541Z"
   },
   {
    "duration": 9,
    "start_time": "2022-04-22T12:47:54.546Z"
   },
   {
    "duration": 9,
    "start_time": "2022-04-22T12:47:54.557Z"
   },
   {
    "duration": 5,
    "start_time": "2022-04-22T12:47:54.568Z"
   },
   {
    "duration": 8,
    "start_time": "2022-04-22T12:47:54.574Z"
   },
   {
    "duration": 19,
    "start_time": "2022-04-22T12:47:54.586Z"
   },
   {
    "duration": 8,
    "start_time": "2022-04-22T12:47:54.606Z"
   },
   {
    "duration": 19,
    "start_time": "2022-04-22T12:47:54.615Z"
   },
   {
    "duration": 10,
    "start_time": "2022-04-22T12:47:54.635Z"
   },
   {
    "duration": 10,
    "start_time": "2022-04-22T12:47:54.646Z"
   },
   {
    "duration": 4,
    "start_time": "2022-04-22T12:47:54.657Z"
   },
   {
    "duration": 7,
    "start_time": "2022-04-22T12:47:54.662Z"
   },
   {
    "duration": 4,
    "start_time": "2022-04-22T12:47:54.671Z"
   },
   {
    "duration": 5,
    "start_time": "2022-04-22T12:47:54.677Z"
   },
   {
    "duration": 7,
    "start_time": "2022-04-22T12:47:54.684Z"
   },
   {
    "duration": 20,
    "start_time": "2022-04-22T12:47:54.692Z"
   },
   {
    "duration": 20,
    "start_time": "2022-04-22T12:47:54.714Z"
   },
   {
    "duration": 9,
    "start_time": "2022-04-22T12:47:54.736Z"
   },
   {
    "duration": 7,
    "start_time": "2022-04-22T12:47:54.746Z"
   },
   {
    "duration": 4,
    "start_time": "2022-04-22T12:47:54.755Z"
   },
   {
    "duration": 16,
    "start_time": "2022-04-22T12:47:54.761Z"
   },
   {
    "duration": 37,
    "start_time": "2022-04-22T12:47:54.778Z"
   },
   {
    "duration": 19,
    "start_time": "2022-04-22T12:47:54.817Z"
   },
   {
    "duration": 41,
    "start_time": "2022-04-22T12:47:54.838Z"
   },
   {
    "duration": 25,
    "start_time": "2022-04-22T12:47:54.881Z"
   },
   {
    "duration": 28,
    "start_time": "2022-04-22T12:47:54.907Z"
   },
   {
    "duration": 16,
    "start_time": "2022-04-22T12:47:54.937Z"
   },
   {
    "duration": 15,
    "start_time": "2022-04-22T12:47:54.954Z"
   },
   {
    "duration": 44,
    "start_time": "2022-04-22T12:47:54.970Z"
   },
   {
    "duration": 8,
    "start_time": "2022-04-22T12:47:55.016Z"
   },
   {
    "duration": 25,
    "start_time": "2022-04-22T12:47:55.027Z"
   },
   {
    "duration": 10,
    "start_time": "2022-04-22T12:47:55.054Z"
   },
   {
    "duration": 4,
    "start_time": "2022-04-22T12:57:56.330Z"
   },
   {
    "duration": 4,
    "start_time": "2022-04-22T12:57:57.734Z"
   },
   {
    "duration": 13,
    "start_time": "2022-04-22T12:58:10.778Z"
   },
   {
    "duration": 5,
    "start_time": "2022-04-22T12:59:10.959Z"
   },
   {
    "duration": 12,
    "start_time": "2022-04-22T12:59:11.574Z"
   },
   {
    "duration": 14,
    "start_time": "2022-04-22T13:00:25.035Z"
   },
   {
    "duration": 10,
    "start_time": "2022-04-22T13:00:26.537Z"
   },
   {
    "duration": 59,
    "start_time": "2022-04-22T13:03:34.231Z"
   },
   {
    "duration": 21,
    "start_time": "2022-04-22T13:03:48.600Z"
   },
   {
    "duration": 11,
    "start_time": "2022-04-22T13:11:14.998Z"
   },
   {
    "duration": 8,
    "start_time": "2022-04-22T13:12:43.577Z"
   },
   {
    "duration": 404,
    "start_time": "2022-04-22T13:12:59.083Z"
   },
   {
    "duration": 98,
    "start_time": "2022-04-22T13:12:59.489Z"
   },
   {
    "duration": 30,
    "start_time": "2022-04-22T13:12:59.588Z"
   },
   {
    "duration": 16,
    "start_time": "2022-04-22T13:12:59.621Z"
   },
   {
    "duration": 17,
    "start_time": "2022-04-22T13:12:59.638Z"
   },
   {
    "duration": 27,
    "start_time": "2022-04-22T13:12:59.656Z"
   },
   {
    "duration": 21,
    "start_time": "2022-04-22T13:12:59.685Z"
   },
   {
    "duration": 16,
    "start_time": "2022-04-22T13:12:59.708Z"
   },
   {
    "duration": 7,
    "start_time": "2022-04-22T13:12:59.726Z"
   },
   {
    "duration": 8,
    "start_time": "2022-04-22T13:12:59.736Z"
   },
   {
    "duration": 6,
    "start_time": "2022-04-22T13:12:59.746Z"
   },
   {
    "duration": 6,
    "start_time": "2022-04-22T13:12:59.754Z"
   },
   {
    "duration": 7,
    "start_time": "2022-04-22T13:12:59.762Z"
   },
   {
    "duration": 7,
    "start_time": "2022-04-22T13:12:59.771Z"
   },
   {
    "duration": 18,
    "start_time": "2022-04-22T13:12:59.801Z"
   },
   {
    "duration": 7,
    "start_time": "2022-04-22T13:12:59.821Z"
   },
   {
    "duration": 10,
    "start_time": "2022-04-22T13:12:59.829Z"
   },
   {
    "duration": 11,
    "start_time": "2022-04-22T13:12:59.840Z"
   },
   {
    "duration": 3,
    "start_time": "2022-04-22T13:12:59.853Z"
   },
   {
    "duration": 9,
    "start_time": "2022-04-22T13:12:59.857Z"
   },
   {
    "duration": 5,
    "start_time": "2022-04-22T13:12:59.868Z"
   },
   {
    "duration": 4,
    "start_time": "2022-04-22T13:12:59.875Z"
   },
   {
    "duration": 24,
    "start_time": "2022-04-22T13:12:59.881Z"
   },
   {
    "duration": 19,
    "start_time": "2022-04-22T13:12:59.908Z"
   },
   {
    "duration": 4,
    "start_time": "2022-04-22T13:12:59.928Z"
   },
   {
    "duration": 12,
    "start_time": "2022-04-22T13:12:59.934Z"
   },
   {
    "duration": 7,
    "start_time": "2022-04-22T13:12:59.947Z"
   },
   {
    "duration": 8,
    "start_time": "2022-04-22T13:12:59.957Z"
   },
   {
    "duration": 20,
    "start_time": "2022-04-22T13:12:59.966Z"
   },
   {
    "duration": 22,
    "start_time": "2022-04-22T13:12:59.988Z"
   },
   {
    "duration": 23,
    "start_time": "2022-04-22T13:13:00.012Z"
   },
   {
    "duration": 47,
    "start_time": "2022-04-22T13:13:00.037Z"
   },
   {
    "duration": 30,
    "start_time": "2022-04-22T13:13:00.085Z"
   },
   {
    "duration": 25,
    "start_time": "2022-04-22T13:13:00.118Z"
   },
   {
    "duration": 22,
    "start_time": "2022-04-22T13:13:00.144Z"
   },
   {
    "duration": 34,
    "start_time": "2022-04-22T13:13:00.168Z"
   },
   {
    "duration": 27,
    "start_time": "2022-04-22T13:13:00.205Z"
   },
   {
    "duration": 8,
    "start_time": "2022-04-22T13:13:00.233Z"
   },
   {
    "duration": 13,
    "start_time": "2022-04-22T13:13:00.243Z"
   },
   {
    "duration": 10,
    "start_time": "2022-04-22T13:13:00.258Z"
   },
   {
    "duration": 8,
    "start_time": "2022-04-22T13:13:00.269Z"
   },
   {
    "duration": 12,
    "start_time": "2022-04-22T13:13:00.279Z"
   },
   {
    "duration": 14,
    "start_time": "2022-04-22T13:13:00.293Z"
   },
   {
    "duration": 1079,
    "start_time": "2022-04-22T13:13:00.308Z"
   },
   {
    "duration": 827,
    "start_time": "2022-04-22T13:13:01.388Z"
   },
   {
    "duration": 3182,
    "start_time": "2022-04-22T13:13:46.087Z"
   },
   {
    "duration": 3165,
    "start_time": "2022-04-22T13:14:05.577Z"
   },
   {
    "duration": 3130,
    "start_time": "2022-04-22T13:14:27.696Z"
   },
   {
    "duration": 12,
    "start_time": "2022-04-22T13:23:45.927Z"
   },
   {
    "duration": 762,
    "start_time": "2022-04-22T13:27:15.749Z"
   },
   {
    "duration": 441,
    "start_time": "2022-04-22T13:29:09.159Z"
   },
   {
    "duration": 80,
    "start_time": "2022-04-22T13:29:09.604Z"
   },
   {
    "duration": 20,
    "start_time": "2022-04-22T13:29:09.686Z"
   },
   {
    "duration": 20,
    "start_time": "2022-04-22T13:29:09.709Z"
   },
   {
    "duration": 21,
    "start_time": "2022-04-22T13:29:09.730Z"
   },
   {
    "duration": 65,
    "start_time": "2022-04-22T13:29:09.753Z"
   },
   {
    "duration": 9,
    "start_time": "2022-04-22T13:29:09.820Z"
   },
   {
    "duration": 8,
    "start_time": "2022-04-22T13:29:09.831Z"
   },
   {
    "duration": 16,
    "start_time": "2022-04-22T13:29:09.840Z"
   },
   {
    "duration": 6,
    "start_time": "2022-04-22T13:29:09.860Z"
   },
   {
    "duration": 7,
    "start_time": "2022-04-22T13:29:09.867Z"
   },
   {
    "duration": 9,
    "start_time": "2022-04-22T13:29:09.876Z"
   },
   {
    "duration": 17,
    "start_time": "2022-04-22T13:29:09.886Z"
   },
   {
    "duration": 18,
    "start_time": "2022-04-22T13:29:09.905Z"
   },
   {
    "duration": 12,
    "start_time": "2022-04-22T13:29:09.924Z"
   },
   {
    "duration": 5,
    "start_time": "2022-04-22T13:29:09.938Z"
   },
   {
    "duration": 8,
    "start_time": "2022-04-22T13:29:09.944Z"
   },
   {
    "duration": 8,
    "start_time": "2022-04-22T13:29:09.954Z"
   },
   {
    "duration": 2,
    "start_time": "2022-04-22T13:29:09.964Z"
   },
   {
    "duration": 10,
    "start_time": "2022-04-22T13:29:09.968Z"
   },
   {
    "duration": 6,
    "start_time": "2022-04-22T13:29:09.980Z"
   },
   {
    "duration": 13,
    "start_time": "2022-04-22T13:29:09.988Z"
   },
   {
    "duration": 34,
    "start_time": "2022-04-22T13:29:10.003Z"
   },
   {
    "duration": 10,
    "start_time": "2022-04-22T13:29:10.039Z"
   },
   {
    "duration": 2,
    "start_time": "2022-04-22T13:29:10.051Z"
   },
   {
    "duration": 13,
    "start_time": "2022-04-22T13:29:10.055Z"
   },
   {
    "duration": 11,
    "start_time": "2022-04-22T13:29:10.070Z"
   },
   {
    "duration": 4,
    "start_time": "2022-04-22T13:29:10.084Z"
   },
   {
    "duration": 34,
    "start_time": "2022-04-22T13:29:10.089Z"
   },
   {
    "duration": 15,
    "start_time": "2022-04-22T13:29:10.125Z"
   },
   {
    "duration": 5,
    "start_time": "2022-04-22T13:29:10.141Z"
   },
   {
    "duration": 62,
    "start_time": "2022-04-22T13:29:10.148Z"
   },
   {
    "duration": 35,
    "start_time": "2022-04-22T13:29:10.216Z"
   },
   {
    "duration": 27,
    "start_time": "2022-04-22T13:29:10.253Z"
   },
   {
    "duration": 41,
    "start_time": "2022-04-22T13:29:10.282Z"
   },
   {
    "duration": 11,
    "start_time": "2022-04-22T13:29:10.325Z"
   },
   {
    "duration": 15,
    "start_time": "2022-04-22T13:29:10.338Z"
   },
   {
    "duration": 8,
    "start_time": "2022-04-22T13:29:10.354Z"
   },
   {
    "duration": 11,
    "start_time": "2022-04-22T13:29:10.364Z"
   },
   {
    "duration": 23,
    "start_time": "2022-04-22T13:29:10.377Z"
   },
   {
    "duration": 23,
    "start_time": "2022-04-22T13:29:10.402Z"
   },
   {
    "duration": 16,
    "start_time": "2022-04-22T13:29:10.427Z"
   },
   {
    "duration": 14,
    "start_time": "2022-04-22T13:29:10.444Z"
   },
   {
    "duration": 1028,
    "start_time": "2022-04-22T13:29:10.459Z"
   },
   {
    "duration": 3967,
    "start_time": "2022-04-22T13:29:11.489Z"
   },
   {
    "duration": 3,
    "start_time": "2022-04-22T13:29:15.459Z"
   },
   {
    "duration": 15,
    "start_time": "2022-04-22T13:29:30.214Z"
   },
   {
    "duration": 7,
    "start_time": "2022-04-22T13:33:55.142Z"
   },
   {
    "duration": 151,
    "start_time": "2022-04-22T13:40:45.108Z"
   },
   {
    "duration": 11,
    "start_time": "2022-04-22T13:42:31.520Z"
   },
   {
    "duration": 415,
    "start_time": "2022-04-22T13:42:45.016Z"
   },
   {
    "duration": 76,
    "start_time": "2022-04-22T13:42:45.433Z"
   },
   {
    "duration": 21,
    "start_time": "2022-04-22T13:42:45.511Z"
   },
   {
    "duration": 12,
    "start_time": "2022-04-22T13:42:45.533Z"
   },
   {
    "duration": 22,
    "start_time": "2022-04-22T13:42:45.547Z"
   },
   {
    "duration": 54,
    "start_time": "2022-04-22T13:42:45.571Z"
   },
   {
    "duration": 8,
    "start_time": "2022-04-22T13:42:45.627Z"
   },
   {
    "duration": 8,
    "start_time": "2022-04-22T13:42:45.637Z"
   },
   {
    "duration": 7,
    "start_time": "2022-04-22T13:42:45.646Z"
   },
   {
    "duration": 10,
    "start_time": "2022-04-22T13:42:45.654Z"
   },
   {
    "duration": 9,
    "start_time": "2022-04-22T13:42:45.665Z"
   },
   {
    "duration": 24,
    "start_time": "2022-04-22T13:42:45.676Z"
   },
   {
    "duration": 7,
    "start_time": "2022-04-22T13:42:45.703Z"
   },
   {
    "duration": 16,
    "start_time": "2022-04-22T13:42:45.714Z"
   },
   {
    "duration": 8,
    "start_time": "2022-04-22T13:42:45.732Z"
   },
   {
    "duration": 4,
    "start_time": "2022-04-22T13:42:45.742Z"
   },
   {
    "duration": 6,
    "start_time": "2022-04-22T13:42:45.747Z"
   },
   {
    "duration": 8,
    "start_time": "2022-04-22T13:42:45.754Z"
   },
   {
    "duration": 5,
    "start_time": "2022-04-22T13:42:45.764Z"
   },
   {
    "duration": 6,
    "start_time": "2022-04-22T13:42:45.770Z"
   },
   {
    "duration": 4,
    "start_time": "2022-04-22T13:42:45.800Z"
   },
   {
    "duration": 17,
    "start_time": "2022-04-22T13:42:45.807Z"
   },
   {
    "duration": 8,
    "start_time": "2022-04-22T13:42:45.825Z"
   },
   {
    "duration": 10,
    "start_time": "2022-04-22T13:42:45.835Z"
   },
   {
    "duration": 2,
    "start_time": "2022-04-22T13:42:45.847Z"
   },
   {
    "duration": 16,
    "start_time": "2022-04-22T13:42:45.851Z"
   },
   {
    "duration": 7,
    "start_time": "2022-04-22T13:42:45.869Z"
   },
   {
    "duration": 5,
    "start_time": "2022-04-22T13:42:45.878Z"
   },
   {
    "duration": 42,
    "start_time": "2022-04-22T13:42:45.885Z"
   },
   {
    "duration": 17,
    "start_time": "2022-04-22T13:42:45.929Z"
   },
   {
    "duration": 6,
    "start_time": "2022-04-22T13:42:45.948Z"
   },
   {
    "duration": 74,
    "start_time": "2022-04-22T13:42:45.956Z"
   },
   {
    "duration": 26,
    "start_time": "2022-04-22T13:42:46.031Z"
   },
   {
    "duration": 20,
    "start_time": "2022-04-22T13:42:46.059Z"
   },
   {
    "duration": 39,
    "start_time": "2022-04-22T13:42:46.081Z"
   },
   {
    "duration": 12,
    "start_time": "2022-04-22T13:42:46.122Z"
   },
   {
    "duration": 16,
    "start_time": "2022-04-22T13:42:46.135Z"
   },
   {
    "duration": 7,
    "start_time": "2022-04-22T13:42:46.153Z"
   },
   {
    "duration": 7,
    "start_time": "2022-04-22T13:42:46.162Z"
   },
   {
    "duration": 43,
    "start_time": "2022-04-22T13:42:46.171Z"
   },
   {
    "duration": 4,
    "start_time": "2022-04-22T13:42:46.218Z"
   },
   {
    "duration": 12,
    "start_time": "2022-04-22T13:42:46.223Z"
   },
   {
    "duration": 10,
    "start_time": "2022-04-22T13:42:46.236Z"
   },
   {
    "duration": 9,
    "start_time": "2022-04-22T13:42:46.248Z"
   },
   {
    "duration": 86,
    "start_time": "2022-04-22T13:42:46.259Z"
   },
   {
    "duration": 418,
    "start_time": "2022-04-22T13:54:11.122Z"
   },
   {
    "duration": 78,
    "start_time": "2022-04-22T13:54:11.542Z"
   },
   {
    "duration": 18,
    "start_time": "2022-04-22T13:54:11.622Z"
   },
   {
    "duration": 16,
    "start_time": "2022-04-22T13:54:11.643Z"
   },
   {
    "duration": 18,
    "start_time": "2022-04-22T13:54:11.661Z"
   },
   {
    "duration": 62,
    "start_time": "2022-04-22T13:54:11.681Z"
   },
   {
    "duration": 10,
    "start_time": "2022-04-22T13:54:11.745Z"
   },
   {
    "duration": 8,
    "start_time": "2022-04-22T13:54:11.757Z"
   },
   {
    "duration": 5,
    "start_time": "2022-04-22T13:54:11.766Z"
   },
   {
    "duration": 5,
    "start_time": "2022-04-22T13:54:11.813Z"
   },
   {
    "duration": 7,
    "start_time": "2022-04-22T13:54:11.820Z"
   },
   {
    "duration": 5,
    "start_time": "2022-04-22T13:54:11.829Z"
   },
   {
    "duration": 8,
    "start_time": "2022-04-22T13:54:11.836Z"
   },
   {
    "duration": 6,
    "start_time": "2022-04-22T13:54:11.846Z"
   },
   {
    "duration": 8,
    "start_time": "2022-04-22T13:54:11.854Z"
   },
   {
    "duration": 9,
    "start_time": "2022-04-22T13:54:11.863Z"
   },
   {
    "duration": 27,
    "start_time": "2022-04-22T13:54:11.874Z"
   },
   {
    "duration": 11,
    "start_time": "2022-04-22T13:54:11.903Z"
   },
   {
    "duration": 7,
    "start_time": "2022-04-22T13:54:11.917Z"
   },
   {
    "duration": 7,
    "start_time": "2022-04-22T13:54:11.926Z"
   },
   {
    "duration": 16,
    "start_time": "2022-04-22T13:54:11.935Z"
   },
   {
    "duration": 4,
    "start_time": "2022-04-22T13:54:11.952Z"
   },
   {
    "duration": 12,
    "start_time": "2022-04-22T13:54:11.958Z"
   },
   {
    "duration": 8,
    "start_time": "2022-04-22T13:54:11.971Z"
   },
   {
    "duration": 5,
    "start_time": "2022-04-22T13:54:11.981Z"
   },
   {
    "duration": 12,
    "start_time": "2022-04-22T13:54:12.003Z"
   },
   {
    "duration": 12,
    "start_time": "2022-04-22T13:54:12.017Z"
   },
   {
    "duration": 7,
    "start_time": "2022-04-22T13:54:12.033Z"
   },
   {
    "duration": 18,
    "start_time": "2022-04-22T13:54:12.041Z"
   },
   {
    "duration": 40,
    "start_time": "2022-04-22T13:54:12.060Z"
   },
   {
    "duration": 7,
    "start_time": "2022-04-22T13:54:12.108Z"
   },
   {
    "duration": 51,
    "start_time": "2022-04-22T13:54:12.117Z"
   },
   {
    "duration": 37,
    "start_time": "2022-04-22T13:54:12.170Z"
   },
   {
    "duration": 23,
    "start_time": "2022-04-22T13:54:12.209Z"
   },
   {
    "duration": 16,
    "start_time": "2022-04-22T13:54:12.234Z"
   },
   {
    "duration": 11,
    "start_time": "2022-04-22T13:54:12.251Z"
   },
   {
    "duration": 17,
    "start_time": "2022-04-22T13:54:12.264Z"
   },
   {
    "duration": 7,
    "start_time": "2022-04-22T13:54:12.301Z"
   },
   {
    "duration": 21,
    "start_time": "2022-04-22T13:54:12.310Z"
   },
   {
    "duration": 8,
    "start_time": "2022-04-22T13:54:12.332Z"
   },
   {
    "duration": 7,
    "start_time": "2022-04-22T13:54:12.341Z"
   },
   {
    "duration": 13,
    "start_time": "2022-04-22T13:54:12.350Z"
   },
   {
    "duration": 10,
    "start_time": "2022-04-22T13:54:12.364Z"
   },
   {
    "duration": 9,
    "start_time": "2022-04-22T13:54:12.376Z"
   },
   {
    "duration": 85,
    "start_time": "2022-04-22T13:54:12.386Z"
   },
   {
    "duration": 3863,
    "start_time": "2022-04-22T13:54:34.923Z"
   },
   {
    "duration": 3928,
    "start_time": "2022-04-22T13:55:37.078Z"
   },
   {
    "duration": 3801,
    "start_time": "2022-04-22T13:55:55.713Z"
   },
   {
    "duration": 418,
    "start_time": "2022-04-22T13:56:11.826Z"
   },
   {
    "duration": 64,
    "start_time": "2022-04-22T13:56:12.246Z"
   },
   {
    "duration": 20,
    "start_time": "2022-04-22T13:56:12.312Z"
   },
   {
    "duration": 11,
    "start_time": "2022-04-22T13:56:12.334Z"
   },
   {
    "duration": 14,
    "start_time": "2022-04-22T13:56:12.347Z"
   },
   {
    "duration": 63,
    "start_time": "2022-04-22T13:56:12.362Z"
   },
   {
    "duration": 9,
    "start_time": "2022-04-22T13:56:12.426Z"
   },
   {
    "duration": 7,
    "start_time": "2022-04-22T13:56:12.437Z"
   },
   {
    "duration": 4,
    "start_time": "2022-04-22T13:56:12.446Z"
   },
   {
    "duration": 6,
    "start_time": "2022-04-22T13:56:12.453Z"
   },
   {
    "duration": 10,
    "start_time": "2022-04-22T13:56:12.461Z"
   },
   {
    "duration": 27,
    "start_time": "2022-04-22T13:56:12.473Z"
   },
   {
    "duration": 8,
    "start_time": "2022-04-22T13:56:12.503Z"
   },
   {
    "duration": 18,
    "start_time": "2022-04-22T13:56:12.513Z"
   },
   {
    "duration": 7,
    "start_time": "2022-04-22T13:56:12.533Z"
   },
   {
    "duration": 4,
    "start_time": "2022-04-22T13:56:12.541Z"
   },
   {
    "duration": 9,
    "start_time": "2022-04-22T13:56:12.546Z"
   },
   {
    "duration": 8,
    "start_time": "2022-04-22T13:56:12.556Z"
   },
   {
    "duration": 3,
    "start_time": "2022-04-22T13:56:12.566Z"
   },
   {
    "duration": 32,
    "start_time": "2022-04-22T13:56:12.570Z"
   },
   {
    "duration": 4,
    "start_time": "2022-04-22T13:56:12.609Z"
   },
   {
    "duration": 7,
    "start_time": "2022-04-22T13:56:12.615Z"
   },
   {
    "duration": 7,
    "start_time": "2022-04-22T13:56:12.624Z"
   },
   {
    "duration": 10,
    "start_time": "2022-04-22T13:56:12.632Z"
   },
   {
    "duration": 3,
    "start_time": "2022-04-22T13:56:12.643Z"
   },
   {
    "duration": 8,
    "start_time": "2022-04-22T13:56:12.648Z"
   },
   {
    "duration": 7,
    "start_time": "2022-04-22T13:56:12.658Z"
   },
   {
    "duration": 8,
    "start_time": "2022-04-22T13:56:12.700Z"
   },
   {
    "duration": 38,
    "start_time": "2022-04-22T13:56:12.709Z"
   },
   {
    "duration": 21,
    "start_time": "2022-04-22T13:56:12.749Z"
   },
   {
    "duration": 5,
    "start_time": "2022-04-22T13:56:12.772Z"
   },
   {
    "duration": 70,
    "start_time": "2022-04-22T13:56:12.778Z"
   },
   {
    "duration": 25,
    "start_time": "2022-04-22T13:56:12.849Z"
   },
   {
    "duration": 47,
    "start_time": "2022-04-22T13:56:12.875Z"
   },
   {
    "duration": 22,
    "start_time": "2022-04-22T13:56:12.924Z"
   },
   {
    "duration": 14,
    "start_time": "2022-04-22T13:56:12.948Z"
   },
   {
    "duration": 30,
    "start_time": "2022-04-22T13:56:12.963Z"
   },
   {
    "duration": 12,
    "start_time": "2022-04-22T13:56:12.994Z"
   },
   {
    "duration": 20,
    "start_time": "2022-04-22T13:56:13.008Z"
   },
   {
    "duration": 7,
    "start_time": "2022-04-22T13:56:13.029Z"
   },
   {
    "duration": 6,
    "start_time": "2022-04-22T13:56:13.038Z"
   },
   {
    "duration": 10,
    "start_time": "2022-04-22T13:56:13.046Z"
   },
   {
    "duration": 10,
    "start_time": "2022-04-22T13:56:13.058Z"
   },
   {
    "duration": 7,
    "start_time": "2022-04-22T13:56:13.070Z"
   },
   {
    "duration": 4001,
    "start_time": "2022-04-22T13:56:13.079Z"
   },
   {
    "duration": 2782,
    "start_time": "2022-04-22T13:57:36.319Z"
   },
   {
    "duration": 17,
    "start_time": "2022-04-22T13:57:49.781Z"
   },
   {
    "duration": 22,
    "start_time": "2022-04-22T13:58:14.823Z"
   },
   {
    "duration": 3903,
    "start_time": "2022-04-22T13:59:05.699Z"
   },
   {
    "duration": 410,
    "start_time": "2022-04-22T13:59:24.330Z"
   },
   {
    "duration": 67,
    "start_time": "2022-04-22T13:59:24.742Z"
   },
   {
    "duration": 21,
    "start_time": "2022-04-22T13:59:24.811Z"
   },
   {
    "duration": 12,
    "start_time": "2022-04-22T13:59:24.834Z"
   },
   {
    "duration": 17,
    "start_time": "2022-04-22T13:59:24.847Z"
   },
   {
    "duration": 60,
    "start_time": "2022-04-22T13:59:24.866Z"
   },
   {
    "duration": 13,
    "start_time": "2022-04-22T13:59:24.928Z"
   },
   {
    "duration": 14,
    "start_time": "2022-04-22T13:59:24.943Z"
   },
   {
    "duration": 10,
    "start_time": "2022-04-22T13:59:24.958Z"
   },
   {
    "duration": 15,
    "start_time": "2022-04-22T13:59:24.970Z"
   },
   {
    "duration": 8,
    "start_time": "2022-04-22T13:59:24.986Z"
   },
   {
    "duration": 7,
    "start_time": "2022-04-22T13:59:24.995Z"
   },
   {
    "duration": 20,
    "start_time": "2022-04-22T13:59:25.004Z"
   },
   {
    "duration": 10,
    "start_time": "2022-04-22T13:59:25.026Z"
   },
   {
    "duration": 10,
    "start_time": "2022-04-22T13:59:25.037Z"
   },
   {
    "duration": 6,
    "start_time": "2022-04-22T13:59:25.049Z"
   },
   {
    "duration": 13,
    "start_time": "2022-04-22T13:59:25.056Z"
   },
   {
    "duration": 11,
    "start_time": "2022-04-22T13:59:25.071Z"
   },
   {
    "duration": 3,
    "start_time": "2022-04-22T13:59:25.083Z"
   },
   {
    "duration": 5,
    "start_time": "2022-04-22T13:59:25.088Z"
   },
   {
    "duration": 19,
    "start_time": "2022-04-22T13:59:25.095Z"
   },
   {
    "duration": 8,
    "start_time": "2022-04-22T13:59:25.116Z"
   },
   {
    "duration": 7,
    "start_time": "2022-04-22T13:59:25.125Z"
   },
   {
    "duration": 10,
    "start_time": "2022-04-22T13:59:25.133Z"
   },
   {
    "duration": 5,
    "start_time": "2022-04-22T13:59:25.144Z"
   },
   {
    "duration": 10,
    "start_time": "2022-04-22T13:59:25.150Z"
   },
   {
    "duration": 7,
    "start_time": "2022-04-22T13:59:25.161Z"
   },
   {
    "duration": 6,
    "start_time": "2022-04-22T13:59:25.171Z"
   },
   {
    "duration": 41,
    "start_time": "2022-04-22T13:59:25.178Z"
   },
   {
    "duration": 18,
    "start_time": "2022-04-22T13:59:25.222Z"
   },
   {
    "duration": 4,
    "start_time": "2022-04-22T13:59:25.242Z"
   },
   {
    "duration": 58,
    "start_time": "2022-04-22T13:59:25.248Z"
   },
   {
    "duration": 28,
    "start_time": "2022-04-22T13:59:25.309Z"
   },
   {
    "duration": 23,
    "start_time": "2022-04-22T13:59:25.339Z"
   },
   {
    "duration": 41,
    "start_time": "2022-04-22T13:59:25.364Z"
   },
   {
    "duration": 15,
    "start_time": "2022-04-22T13:59:25.406Z"
   },
   {
    "duration": 16,
    "start_time": "2022-04-22T13:59:25.422Z"
   },
   {
    "duration": 7,
    "start_time": "2022-04-22T13:59:25.440Z"
   },
   {
    "duration": 9,
    "start_time": "2022-04-22T13:59:25.449Z"
   },
   {
    "duration": 14,
    "start_time": "2022-04-22T13:59:25.460Z"
   },
   {
    "duration": 10,
    "start_time": "2022-04-22T13:59:25.475Z"
   },
   {
    "duration": 25,
    "start_time": "2022-04-22T13:59:25.486Z"
   },
   {
    "duration": 28,
    "start_time": "2022-04-22T13:59:25.513Z"
   },
   {
    "duration": 10,
    "start_time": "2022-04-22T13:59:25.543Z"
   },
   {
    "duration": 3877,
    "start_time": "2022-04-22T13:59:25.555Z"
   },
   {
    "duration": 2737,
    "start_time": "2022-04-22T13:59:49.035Z"
   },
   {
    "duration": 23,
    "start_time": "2022-04-22T14:00:11.782Z"
   },
   {
    "duration": 426,
    "start_time": "2022-04-22T14:00:36.057Z"
   },
   {
    "duration": 62,
    "start_time": "2022-04-22T14:00:36.484Z"
   },
   {
    "duration": 17,
    "start_time": "2022-04-22T14:00:36.548Z"
   },
   {
    "duration": 12,
    "start_time": "2022-04-22T14:00:36.567Z"
   },
   {
    "duration": 35,
    "start_time": "2022-04-22T14:00:36.581Z"
   },
   {
    "duration": 28,
    "start_time": "2022-04-22T14:00:36.618Z"
   },
   {
    "duration": 9,
    "start_time": "2022-04-22T14:00:36.648Z"
   },
   {
    "duration": 10,
    "start_time": "2022-04-22T14:00:36.658Z"
   },
   {
    "duration": 4,
    "start_time": "2022-04-22T14:00:36.669Z"
   },
   {
    "duration": 4,
    "start_time": "2022-04-22T14:00:36.700Z"
   },
   {
    "duration": 8,
    "start_time": "2022-04-22T14:00:36.706Z"
   },
   {
    "duration": 6,
    "start_time": "2022-04-22T14:00:36.715Z"
   },
   {
    "duration": 7,
    "start_time": "2022-04-22T14:00:36.722Z"
   },
   {
    "duration": 7,
    "start_time": "2022-04-22T14:00:36.730Z"
   },
   {
    "duration": 8,
    "start_time": "2022-04-22T14:00:36.739Z"
   },
   {
    "duration": 4,
    "start_time": "2022-04-22T14:00:36.748Z"
   },
   {
    "duration": 9,
    "start_time": "2022-04-22T14:00:36.753Z"
   },
   {
    "duration": 38,
    "start_time": "2022-04-22T14:00:36.763Z"
   },
   {
    "duration": 3,
    "start_time": "2022-04-22T14:00:36.802Z"
   },
   {
    "duration": 5,
    "start_time": "2022-04-22T14:00:36.807Z"
   },
   {
    "duration": 7,
    "start_time": "2022-04-22T14:00:36.814Z"
   },
   {
    "duration": 5,
    "start_time": "2022-04-22T14:00:36.822Z"
   },
   {
    "duration": 10,
    "start_time": "2022-04-22T14:00:36.829Z"
   },
   {
    "duration": 12,
    "start_time": "2022-04-22T14:00:36.840Z"
   },
   {
    "duration": 3,
    "start_time": "2022-04-22T14:00:36.854Z"
   },
   {
    "duration": 11,
    "start_time": "2022-04-22T14:00:36.858Z"
   },
   {
    "duration": 30,
    "start_time": "2022-04-22T14:00:36.870Z"
   },
   {
    "duration": 5,
    "start_time": "2022-04-22T14:00:36.905Z"
   },
   {
    "duration": 25,
    "start_time": "2022-04-22T14:00:36.912Z"
   },
   {
    "duration": 16,
    "start_time": "2022-04-22T14:00:36.938Z"
   },
   {
    "duration": 4,
    "start_time": "2022-04-22T14:00:36.956Z"
   },
   {
    "duration": 60,
    "start_time": "2022-04-22T14:00:36.962Z"
   },
   {
    "duration": 23,
    "start_time": "2022-04-22T14:00:37.024Z"
   },
   {
    "duration": 20,
    "start_time": "2022-04-22T14:00:37.048Z"
   },
   {
    "duration": 40,
    "start_time": "2022-04-22T14:00:37.070Z"
   },
   {
    "duration": 15,
    "start_time": "2022-04-22T14:00:37.112Z"
   },
   {
    "duration": 18,
    "start_time": "2022-04-22T14:00:37.129Z"
   },
   {
    "duration": 7,
    "start_time": "2022-04-22T14:00:37.149Z"
   },
   {
    "duration": 7,
    "start_time": "2022-04-22T14:00:37.158Z"
   },
   {
    "duration": 8,
    "start_time": "2022-04-22T14:00:37.166Z"
   },
   {
    "duration": 27,
    "start_time": "2022-04-22T14:00:37.175Z"
   },
   {
    "duration": 10,
    "start_time": "2022-04-22T14:00:37.203Z"
   },
   {
    "duration": 25,
    "start_time": "2022-04-22T14:00:37.214Z"
   },
   {
    "duration": 14,
    "start_time": "2022-04-22T14:00:37.240Z"
   },
   {
    "duration": 3732,
    "start_time": "2022-04-22T14:00:37.256Z"
   },
   {
    "duration": 35,
    "start_time": "2022-04-22T14:00:40.990Z"
   },
   {
    "duration": 440,
    "start_time": "2022-04-22T14:02:16.470Z"
   },
   {
    "duration": 77,
    "start_time": "2022-04-22T14:02:16.912Z"
   },
   {
    "duration": 23,
    "start_time": "2022-04-22T14:02:16.990Z"
   },
   {
    "duration": 11,
    "start_time": "2022-04-22T14:02:17.016Z"
   },
   {
    "duration": 16,
    "start_time": "2022-04-22T14:02:17.029Z"
   },
   {
    "duration": 28,
    "start_time": "2022-04-22T14:02:17.047Z"
   },
   {
    "duration": 11,
    "start_time": "2022-04-22T14:02:17.101Z"
   },
   {
    "duration": 6,
    "start_time": "2022-04-22T14:02:17.114Z"
   },
   {
    "duration": 10,
    "start_time": "2022-04-22T14:02:17.121Z"
   },
   {
    "duration": 8,
    "start_time": "2022-04-22T14:02:17.135Z"
   },
   {
    "duration": 5,
    "start_time": "2022-04-22T14:02:17.144Z"
   },
   {
    "duration": 2,
    "start_time": "2022-04-22T14:02:17.151Z"
   },
   {
    "duration": 9,
    "start_time": "2022-04-22T14:02:17.155Z"
   },
   {
    "duration": 38,
    "start_time": "2022-04-22T14:02:17.165Z"
   },
   {
    "duration": 7,
    "start_time": "2022-04-22T14:02:17.205Z"
   },
   {
    "duration": 4,
    "start_time": "2022-04-22T14:02:17.214Z"
   },
   {
    "duration": 8,
    "start_time": "2022-04-22T14:02:17.220Z"
   },
   {
    "duration": 8,
    "start_time": "2022-04-22T14:02:17.230Z"
   },
   {
    "duration": 6,
    "start_time": "2022-04-22T14:02:17.239Z"
   },
   {
    "duration": 7,
    "start_time": "2022-04-22T14:02:17.246Z"
   },
   {
    "duration": 7,
    "start_time": "2022-04-22T14:02:17.255Z"
   },
   {
    "duration": 37,
    "start_time": "2022-04-22T14:02:17.263Z"
   },
   {
    "duration": 7,
    "start_time": "2022-04-22T14:02:17.302Z"
   },
   {
    "duration": 9,
    "start_time": "2022-04-22T14:02:17.311Z"
   },
   {
    "duration": 9,
    "start_time": "2022-04-22T14:02:17.322Z"
   },
   {
    "duration": 11,
    "start_time": "2022-04-22T14:02:17.332Z"
   },
   {
    "duration": 8,
    "start_time": "2022-04-22T14:02:17.345Z"
   },
   {
    "duration": 9,
    "start_time": "2022-04-22T14:02:17.356Z"
   },
   {
    "duration": 44,
    "start_time": "2022-04-22T14:02:17.367Z"
   },
   {
    "duration": 16,
    "start_time": "2022-04-22T14:02:17.412Z"
   },
   {
    "duration": 8,
    "start_time": "2022-04-22T14:02:17.430Z"
   },
   {
    "duration": 46,
    "start_time": "2022-04-22T14:02:17.440Z"
   },
   {
    "duration": 38,
    "start_time": "2022-04-22T14:02:17.488Z"
   },
   {
    "duration": 29,
    "start_time": "2022-04-22T14:02:17.528Z"
   },
   {
    "duration": 17,
    "start_time": "2022-04-22T14:02:17.559Z"
   },
   {
    "duration": 11,
    "start_time": "2022-04-22T14:02:17.601Z"
   },
   {
    "duration": 22,
    "start_time": "2022-04-22T14:02:17.614Z"
   },
   {
    "duration": 8,
    "start_time": "2022-04-22T14:02:17.638Z"
   },
   {
    "duration": 11,
    "start_time": "2022-04-22T14:02:17.648Z"
   },
   {
    "duration": 6,
    "start_time": "2022-04-22T14:02:17.661Z"
   },
   {
    "duration": 39,
    "start_time": "2022-04-22T14:02:17.669Z"
   },
   {
    "duration": 16,
    "start_time": "2022-04-22T14:02:17.710Z"
   },
   {
    "duration": 14,
    "start_time": "2022-04-22T14:02:17.728Z"
   },
   {
    "duration": 10,
    "start_time": "2022-04-22T14:02:17.744Z"
   },
   {
    "duration": 4010,
    "start_time": "2022-04-22T14:02:17.756Z"
   },
   {
    "duration": 34,
    "start_time": "2022-04-22T14:02:21.768Z"
   },
   {
    "duration": 29,
    "start_time": "2022-04-22T14:03:11.851Z"
   },
   {
    "duration": 362,
    "start_time": "2022-04-22T14:03:36.646Z"
   },
   {
    "duration": 60,
    "start_time": "2022-04-22T14:03:37.010Z"
   },
   {
    "duration": 22,
    "start_time": "2022-04-22T14:03:37.072Z"
   },
   {
    "duration": 18,
    "start_time": "2022-04-22T14:03:37.095Z"
   },
   {
    "duration": 17,
    "start_time": "2022-04-22T14:03:37.116Z"
   },
   {
    "duration": 35,
    "start_time": "2022-04-22T14:03:37.135Z"
   },
   {
    "duration": 36,
    "start_time": "2022-04-22T14:03:37.171Z"
   },
   {
    "duration": 8,
    "start_time": "2022-04-22T14:03:37.209Z"
   },
   {
    "duration": 4,
    "start_time": "2022-04-22T14:03:37.218Z"
   },
   {
    "duration": 9,
    "start_time": "2022-04-22T14:03:37.224Z"
   },
   {
    "duration": 6,
    "start_time": "2022-04-22T14:03:37.235Z"
   },
   {
    "duration": 8,
    "start_time": "2022-04-22T14:03:37.242Z"
   },
   {
    "duration": 8,
    "start_time": "2022-04-22T14:03:37.252Z"
   },
   {
    "duration": 6,
    "start_time": "2022-04-22T14:03:37.263Z"
   },
   {
    "duration": 31,
    "start_time": "2022-04-22T14:03:37.270Z"
   },
   {
    "duration": 3,
    "start_time": "2022-04-22T14:03:37.302Z"
   },
   {
    "duration": 7,
    "start_time": "2022-04-22T14:03:37.307Z"
   },
   {
    "duration": 9,
    "start_time": "2022-04-22T14:03:37.316Z"
   },
   {
    "duration": 5,
    "start_time": "2022-04-22T14:03:37.326Z"
   },
   {
    "duration": 9,
    "start_time": "2022-04-22T14:03:37.333Z"
   },
   {
    "duration": 13,
    "start_time": "2022-04-22T14:03:37.344Z"
   },
   {
    "duration": 10,
    "start_time": "2022-04-22T14:03:37.358Z"
   },
   {
    "duration": 13,
    "start_time": "2022-04-22T14:03:37.370Z"
   },
   {
    "duration": 19,
    "start_time": "2022-04-22T14:03:37.385Z"
   },
   {
    "duration": 2,
    "start_time": "2022-04-22T14:03:37.406Z"
   },
   {
    "duration": 47,
    "start_time": "2022-04-22T14:03:37.410Z"
   },
   {
    "duration": 11,
    "start_time": "2022-04-22T14:03:37.459Z"
   },
   {
    "duration": 10,
    "start_time": "2022-04-22T14:03:37.471Z"
   },
   {
    "duration": 29,
    "start_time": "2022-04-22T14:03:37.483Z"
   },
   {
    "duration": 22,
    "start_time": "2022-04-22T14:03:37.514Z"
   },
   {
    "duration": 5,
    "start_time": "2022-04-22T14:03:37.538Z"
   },
   {
    "duration": 73,
    "start_time": "2022-04-22T14:03:37.544Z"
   },
   {
    "duration": 23,
    "start_time": "2022-04-22T14:03:37.618Z"
   },
   {
    "duration": 18,
    "start_time": "2022-04-22T14:03:37.643Z"
   },
   {
    "duration": 15,
    "start_time": "2022-04-22T14:03:37.662Z"
   },
   {
    "duration": 31,
    "start_time": "2022-04-22T14:03:37.678Z"
   },
   {
    "duration": 17,
    "start_time": "2022-04-22T14:03:37.711Z"
   },
   {
    "duration": 7,
    "start_time": "2022-04-22T14:03:37.730Z"
   },
   {
    "duration": 8,
    "start_time": "2022-04-22T14:03:37.739Z"
   },
   {
    "duration": 6,
    "start_time": "2022-04-22T14:03:37.748Z"
   },
   {
    "duration": 3,
    "start_time": "2022-04-22T14:03:37.757Z"
   },
   {
    "duration": 41,
    "start_time": "2022-04-22T14:03:37.762Z"
   },
   {
    "duration": 12,
    "start_time": "2022-04-22T14:03:37.805Z"
   },
   {
    "duration": 12,
    "start_time": "2022-04-22T14:03:37.818Z"
   },
   {
    "duration": 3727,
    "start_time": "2022-04-22T14:03:37.831Z"
   },
   {
    "duration": 20,
    "start_time": "2022-04-22T14:03:41.560Z"
   },
   {
    "duration": 452,
    "start_time": "2022-04-22T14:05:02.666Z"
   },
   {
    "duration": 63,
    "start_time": "2022-04-22T14:05:03.120Z"
   },
   {
    "duration": 19,
    "start_time": "2022-04-22T14:05:03.185Z"
   },
   {
    "duration": 21,
    "start_time": "2022-04-22T14:05:03.205Z"
   },
   {
    "duration": 19,
    "start_time": "2022-04-22T14:05:03.228Z"
   },
   {
    "duration": 39,
    "start_time": "2022-04-22T14:05:03.248Z"
   },
   {
    "duration": 23,
    "start_time": "2022-04-22T14:05:03.288Z"
   },
   {
    "duration": 8,
    "start_time": "2022-04-22T14:05:03.313Z"
   },
   {
    "duration": 9,
    "start_time": "2022-04-22T14:05:03.323Z"
   },
   {
    "duration": 6,
    "start_time": "2022-04-22T14:05:03.334Z"
   },
   {
    "duration": 9,
    "start_time": "2022-04-22T14:05:03.342Z"
   },
   {
    "duration": 4,
    "start_time": "2022-04-22T14:05:03.353Z"
   },
   {
    "duration": 7,
    "start_time": "2022-04-22T14:05:03.359Z"
   },
   {
    "duration": 8,
    "start_time": "2022-04-22T14:05:03.399Z"
   },
   {
    "duration": 10,
    "start_time": "2022-04-22T14:05:03.409Z"
   },
   {
    "duration": 4,
    "start_time": "2022-04-22T14:05:03.421Z"
   },
   {
    "duration": 7,
    "start_time": "2022-04-22T14:05:03.427Z"
   },
   {
    "duration": 24,
    "start_time": "2022-04-22T14:05:03.436Z"
   },
   {
    "duration": 3,
    "start_time": "2022-04-22T14:05:03.462Z"
   },
   {
    "duration": 13,
    "start_time": "2022-04-22T14:05:03.467Z"
   },
   {
    "duration": 23,
    "start_time": "2022-04-22T14:05:03.481Z"
   },
   {
    "duration": 8,
    "start_time": "2022-04-22T14:05:03.506Z"
   },
   {
    "duration": 11,
    "start_time": "2022-04-22T14:05:03.516Z"
   },
   {
    "duration": 11,
    "start_time": "2022-04-22T14:05:03.529Z"
   },
   {
    "duration": 3,
    "start_time": "2022-04-22T14:05:03.542Z"
   },
   {
    "duration": 14,
    "start_time": "2022-04-22T14:05:03.547Z"
   },
   {
    "duration": 8,
    "start_time": "2022-04-22T14:05:03.563Z"
   },
   {
    "duration": 30,
    "start_time": "2022-04-22T14:05:03.573Z"
   },
   {
    "duration": 20,
    "start_time": "2022-04-22T14:05:03.604Z"
   },
   {
    "duration": 16,
    "start_time": "2022-04-22T14:05:03.626Z"
   },
   {
    "duration": 5,
    "start_time": "2022-04-22T14:05:03.643Z"
   },
   {
    "duration": 63,
    "start_time": "2022-04-22T14:05:03.650Z"
   },
   {
    "duration": 25,
    "start_time": "2022-04-22T14:05:03.714Z"
   },
   {
    "duration": 19,
    "start_time": "2022-04-22T14:05:03.741Z"
   },
   {
    "duration": 39,
    "start_time": "2022-04-22T14:05:03.762Z"
   },
   {
    "duration": 10,
    "start_time": "2022-04-22T14:05:03.803Z"
   },
   {
    "duration": 19,
    "start_time": "2022-04-22T14:05:03.815Z"
   },
   {
    "duration": 5,
    "start_time": "2022-04-22T14:05:03.836Z"
   },
   {
    "duration": 10,
    "start_time": "2022-04-22T14:05:03.843Z"
   },
   {
    "duration": 8,
    "start_time": "2022-04-22T14:05:03.855Z"
   },
   {
    "duration": 5,
    "start_time": "2022-04-22T14:05:03.866Z"
   },
   {
    "duration": 27,
    "start_time": "2022-04-22T14:05:03.873Z"
   },
   {
    "duration": 10,
    "start_time": "2022-04-22T14:05:03.901Z"
   },
   {
    "duration": 9,
    "start_time": "2022-04-22T14:05:03.913Z"
   },
   {
    "duration": 3850,
    "start_time": "2022-04-22T14:05:03.923Z"
   },
   {
    "duration": 30,
    "start_time": "2022-04-22T14:05:07.774Z"
   },
   {
    "duration": 24,
    "start_time": "2022-04-22T14:14:47.572Z"
   },
   {
    "duration": 93,
    "start_time": "2022-04-22T14:22:21.660Z"
   },
   {
    "duration": 25,
    "start_time": "2022-04-22T14:22:48.311Z"
   },
   {
    "duration": 29,
    "start_time": "2022-04-22T14:22:59.653Z"
   },
   {
    "duration": 22,
    "start_time": "2022-04-22T14:23:13.683Z"
   },
   {
    "duration": 21,
    "start_time": "2022-04-22T14:23:23.916Z"
   },
   {
    "duration": 437,
    "start_time": "2022-04-22T15:20:22.991Z"
   },
   {
    "duration": 72,
    "start_time": "2022-04-22T15:20:23.429Z"
   },
   {
    "duration": 24,
    "start_time": "2022-04-22T15:20:23.502Z"
   },
   {
    "duration": 16,
    "start_time": "2022-04-22T15:20:23.528Z"
   },
   {
    "duration": 16,
    "start_time": "2022-04-22T15:20:23.545Z"
   },
   {
    "duration": 62,
    "start_time": "2022-04-22T15:20:23.562Z"
   },
   {
    "duration": 9,
    "start_time": "2022-04-22T15:20:23.627Z"
   },
   {
    "duration": 8,
    "start_time": "2022-04-22T15:20:23.637Z"
   },
   {
    "duration": 5,
    "start_time": "2022-04-22T15:20:23.646Z"
   },
   {
    "duration": 6,
    "start_time": "2022-04-22T15:20:23.653Z"
   },
   {
    "duration": 7,
    "start_time": "2022-04-22T15:20:23.660Z"
   },
   {
    "duration": 32,
    "start_time": "2022-04-22T15:20:23.668Z"
   },
   {
    "duration": 5,
    "start_time": "2022-04-22T15:20:23.702Z"
   },
   {
    "duration": 8,
    "start_time": "2022-04-22T15:20:23.708Z"
   },
   {
    "duration": 9,
    "start_time": "2022-04-22T15:20:23.717Z"
   },
   {
    "duration": 3,
    "start_time": "2022-04-22T15:20:23.728Z"
   },
   {
    "duration": 7,
    "start_time": "2022-04-22T15:20:23.733Z"
   },
   {
    "duration": 11,
    "start_time": "2022-04-22T15:20:23.741Z"
   },
   {
    "duration": 3,
    "start_time": "2022-04-22T15:20:23.754Z"
   },
   {
    "duration": 41,
    "start_time": "2022-04-22T15:20:23.759Z"
   },
   {
    "duration": 3,
    "start_time": "2022-04-22T15:20:23.802Z"
   },
   {
    "duration": 5,
    "start_time": "2022-04-22T15:20:23.807Z"
   },
   {
    "duration": 7,
    "start_time": "2022-04-22T15:20:23.814Z"
   },
   {
    "duration": 9,
    "start_time": "2022-04-22T15:20:23.822Z"
   },
   {
    "duration": 4,
    "start_time": "2022-04-22T15:20:23.832Z"
   },
   {
    "duration": 10,
    "start_time": "2022-04-22T15:20:23.838Z"
   },
   {
    "duration": 9,
    "start_time": "2022-04-22T15:20:23.849Z"
   },
   {
    "duration": 7,
    "start_time": "2022-04-22T15:20:23.862Z"
   },
   {
    "duration": 53,
    "start_time": "2022-04-22T15:20:23.871Z"
   },
   {
    "duration": 25,
    "start_time": "2022-04-22T15:20:23.927Z"
   },
   {
    "duration": 6,
    "start_time": "2022-04-22T15:20:23.954Z"
   },
   {
    "duration": 67,
    "start_time": "2022-04-22T15:20:23.961Z"
   },
   {
    "duration": 33,
    "start_time": "2022-04-22T15:20:24.030Z"
   },
   {
    "duration": 38,
    "start_time": "2022-04-22T15:20:24.065Z"
   },
   {
    "duration": 16,
    "start_time": "2022-04-22T15:20:24.104Z"
   },
   {
    "duration": 11,
    "start_time": "2022-04-22T15:20:24.121Z"
   },
   {
    "duration": 16,
    "start_time": "2022-04-22T15:20:24.133Z"
   },
   {
    "duration": 6,
    "start_time": "2022-04-22T15:20:24.150Z"
   },
   {
    "duration": 13,
    "start_time": "2022-04-22T15:20:24.157Z"
   },
   {
    "duration": 6,
    "start_time": "2022-04-22T15:20:24.171Z"
   },
   {
    "duration": 24,
    "start_time": "2022-04-22T15:20:24.178Z"
   },
   {
    "duration": 9,
    "start_time": "2022-04-22T15:20:24.204Z"
   },
   {
    "duration": 9,
    "start_time": "2022-04-22T15:20:24.214Z"
   },
   {
    "duration": 7,
    "start_time": "2022-04-22T15:20:24.225Z"
   },
   {
    "duration": 3676,
    "start_time": "2022-04-22T15:20:24.234Z"
   },
   {
    "duration": 21,
    "start_time": "2022-04-22T15:20:27.912Z"
   },
   {
    "duration": 35,
    "start_time": "2022-04-22T15:20:27.935Z"
   },
   {
    "duration": 427,
    "start_time": "2022-04-22T15:21:03.675Z"
   },
   {
    "duration": 68,
    "start_time": "2022-04-22T15:21:04.104Z"
   },
   {
    "duration": 18,
    "start_time": "2022-04-22T15:21:04.174Z"
   },
   {
    "duration": 16,
    "start_time": "2022-04-22T15:21:04.194Z"
   },
   {
    "duration": 31,
    "start_time": "2022-04-22T15:21:04.211Z"
   },
   {
    "duration": 28,
    "start_time": "2022-04-22T15:21:04.243Z"
   },
   {
    "duration": 10,
    "start_time": "2022-04-22T15:21:04.272Z"
   },
   {
    "duration": 11,
    "start_time": "2022-04-22T15:21:04.283Z"
   },
   {
    "duration": 4,
    "start_time": "2022-04-22T15:21:04.300Z"
   },
   {
    "duration": 6,
    "start_time": "2022-04-22T15:21:04.307Z"
   },
   {
    "duration": 9,
    "start_time": "2022-04-22T15:21:04.315Z"
   },
   {
    "duration": 6,
    "start_time": "2022-04-22T15:21:04.326Z"
   },
   {
    "duration": 6,
    "start_time": "2022-04-22T15:21:04.333Z"
   },
   {
    "duration": 8,
    "start_time": "2022-04-22T15:21:04.340Z"
   },
   {
    "duration": 11,
    "start_time": "2022-04-22T15:21:04.349Z"
   },
   {
    "duration": 8,
    "start_time": "2022-04-22T15:21:04.361Z"
   },
   {
    "duration": 30,
    "start_time": "2022-04-22T15:21:04.370Z"
   },
   {
    "duration": 8,
    "start_time": "2022-04-22T15:21:04.402Z"
   },
   {
    "duration": 3,
    "start_time": "2022-04-22T15:21:04.412Z"
   },
   {
    "duration": 6,
    "start_time": "2022-04-22T15:21:04.416Z"
   },
   {
    "duration": 9,
    "start_time": "2022-04-22T15:21:04.423Z"
   },
   {
    "duration": 9,
    "start_time": "2022-04-22T15:21:04.433Z"
   },
   {
    "duration": 9,
    "start_time": "2022-04-22T15:21:04.444Z"
   },
   {
    "duration": 10,
    "start_time": "2022-04-22T15:21:04.454Z"
   },
   {
    "duration": 6,
    "start_time": "2022-04-22T15:21:04.466Z"
   },
   {
    "duration": 31,
    "start_time": "2022-04-22T15:21:04.474Z"
   },
   {
    "duration": 7,
    "start_time": "2022-04-22T15:21:04.506Z"
   },
   {
    "duration": 9,
    "start_time": "2022-04-22T15:21:04.517Z"
   },
   {
    "duration": 21,
    "start_time": "2022-04-22T15:21:04.527Z"
   },
   {
    "duration": 14,
    "start_time": "2022-04-22T15:21:04.549Z"
   },
   {
    "duration": 9,
    "start_time": "2022-04-22T15:21:04.565Z"
   },
   {
    "duration": 61,
    "start_time": "2022-04-22T15:21:04.576Z"
   },
   {
    "duration": 23,
    "start_time": "2022-04-22T15:21:04.638Z"
   },
   {
    "duration": 37,
    "start_time": "2022-04-22T15:21:04.663Z"
   },
   {
    "duration": 23,
    "start_time": "2022-04-22T15:21:04.701Z"
   },
   {
    "duration": 11,
    "start_time": "2022-04-22T15:21:04.726Z"
   },
   {
    "duration": 14,
    "start_time": "2022-04-22T15:21:04.739Z"
   },
   {
    "duration": 6,
    "start_time": "2022-04-22T15:21:04.754Z"
   },
   {
    "duration": 38,
    "start_time": "2022-04-22T15:21:04.762Z"
   },
   {
    "duration": 4,
    "start_time": "2022-04-22T15:21:04.802Z"
   },
   {
    "duration": 6,
    "start_time": "2022-04-22T15:21:04.808Z"
   },
   {
    "duration": 13,
    "start_time": "2022-04-22T15:21:04.815Z"
   },
   {
    "duration": 9,
    "start_time": "2022-04-22T15:21:04.829Z"
   },
   {
    "duration": 12,
    "start_time": "2022-04-22T15:21:04.840Z"
   },
   {
    "duration": 3668,
    "start_time": "2022-04-22T15:21:04.853Z"
   },
   {
    "duration": 33,
    "start_time": "2022-04-22T15:21:08.523Z"
   },
   {
    "duration": 47,
    "start_time": "2022-04-22T15:21:08.558Z"
   },
   {
    "duration": 49,
    "start_time": "2022-04-23T06:39:29.290Z"
   },
   {
    "duration": 7,
    "start_time": "2022-04-23T06:43:47.522Z"
   },
   {
    "duration": 386,
    "start_time": "2022-04-23T06:43:54.623Z"
   },
   {
    "duration": 60,
    "start_time": "2022-04-23T06:43:55.012Z"
   },
   {
    "duration": 28,
    "start_time": "2022-04-23T06:43:55.074Z"
   },
   {
    "duration": 20,
    "start_time": "2022-04-23T06:43:55.103Z"
   },
   {
    "duration": 31,
    "start_time": "2022-04-23T06:43:55.126Z"
   },
   {
    "duration": 37,
    "start_time": "2022-04-23T06:43:55.159Z"
   },
   {
    "duration": 12,
    "start_time": "2022-04-23T06:43:55.198Z"
   },
   {
    "duration": 9,
    "start_time": "2022-04-23T06:43:55.212Z"
   },
   {
    "duration": 7,
    "start_time": "2022-04-23T06:43:55.223Z"
   },
   {
    "duration": 8,
    "start_time": "2022-04-23T06:43:55.232Z"
   },
   {
    "duration": 15,
    "start_time": "2022-04-23T06:43:55.242Z"
   },
   {
    "duration": 16,
    "start_time": "2022-04-23T06:43:55.259Z"
   },
   {
    "duration": 20,
    "start_time": "2022-04-23T06:43:55.277Z"
   },
   {
    "duration": 13,
    "start_time": "2022-04-23T06:43:55.300Z"
   },
   {
    "duration": 15,
    "start_time": "2022-04-23T06:43:55.314Z"
   },
   {
    "duration": 8,
    "start_time": "2022-04-23T06:43:55.330Z"
   },
   {
    "duration": 14,
    "start_time": "2022-04-23T06:43:55.339Z"
   },
   {
    "duration": 19,
    "start_time": "2022-04-23T06:43:55.354Z"
   },
   {
    "duration": 6,
    "start_time": "2022-04-23T06:43:55.375Z"
   },
   {
    "duration": 13,
    "start_time": "2022-04-23T06:43:55.382Z"
   },
   {
    "duration": 11,
    "start_time": "2022-04-23T06:43:55.397Z"
   },
   {
    "duration": 10,
    "start_time": "2022-04-23T06:43:55.410Z"
   },
   {
    "duration": 20,
    "start_time": "2022-04-23T06:43:55.422Z"
   },
   {
    "duration": 12,
    "start_time": "2022-04-23T06:43:55.444Z"
   },
   {
    "duration": 12,
    "start_time": "2022-04-23T06:43:55.458Z"
   },
   {
    "duration": 24,
    "start_time": "2022-04-23T06:43:55.471Z"
   },
   {
    "duration": 18,
    "start_time": "2022-04-23T06:43:55.496Z"
   },
   {
    "duration": 13,
    "start_time": "2022-04-23T06:43:55.515Z"
   },
   {
    "duration": 25,
    "start_time": "2022-04-23T06:43:55.530Z"
   },
   {
    "duration": 17,
    "start_time": "2022-04-23T06:43:55.556Z"
   },
   {
    "duration": 6,
    "start_time": "2022-04-23T06:43:55.574Z"
   },
   {
    "duration": 44,
    "start_time": "2022-04-23T06:43:55.593Z"
   },
   {
    "duration": 27,
    "start_time": "2022-04-23T06:43:55.639Z"
   },
   {
    "duration": 37,
    "start_time": "2022-04-23T06:43:55.668Z"
   },
   {
    "duration": 18,
    "start_time": "2022-04-23T06:43:55.707Z"
   },
   {
    "duration": 12,
    "start_time": "2022-04-23T06:43:55.727Z"
   },
   {
    "duration": 15,
    "start_time": "2022-04-23T06:43:55.741Z"
   },
   {
    "duration": 40,
    "start_time": "2022-04-23T06:43:55.758Z"
   },
   {
    "duration": 7,
    "start_time": "2022-04-23T06:43:55.801Z"
   },
   {
    "duration": 5,
    "start_time": "2022-04-23T06:43:55.810Z"
   },
   {
    "duration": 4,
    "start_time": "2022-04-23T06:43:55.818Z"
   },
   {
    "duration": 13,
    "start_time": "2022-04-23T06:43:55.823Z"
   },
   {
    "duration": 13,
    "start_time": "2022-04-23T06:43:55.837Z"
   },
   {
    "duration": 42,
    "start_time": "2022-04-23T06:43:55.852Z"
   },
   {
    "duration": 3956,
    "start_time": "2022-04-23T06:43:55.895Z"
   },
   {
    "duration": 23,
    "start_time": "2022-04-23T06:43:59.853Z"
   },
   {
    "duration": 41,
    "start_time": "2022-04-23T06:43:59.878Z"
   },
   {
    "duration": 88,
    "start_time": "2022-04-23T06:43:59.920Z"
   },
   {
    "duration": 7,
    "start_time": "2022-04-23T06:45:21.920Z"
   },
   {
    "duration": 8,
    "start_time": "2022-04-23T06:46:43.790Z"
   },
   {
    "duration": 8,
    "start_time": "2022-04-23T06:47:15.440Z"
   },
   {
    "duration": 7,
    "start_time": "2022-04-23T06:49:29.430Z"
   },
   {
    "duration": 1709,
    "start_time": "2022-04-23T06:53:53.009Z"
   },
   {
    "duration": 23,
    "start_time": "2022-04-23T06:55:02.055Z"
   },
   {
    "duration": 24,
    "start_time": "2022-04-23T06:55:23.705Z"
   },
   {
    "duration": 24,
    "start_time": "2022-04-23T06:55:55.431Z"
   },
   {
    "duration": 24,
    "start_time": "2022-04-23T06:56:17.226Z"
   },
   {
    "duration": 6,
    "start_time": "2022-04-23T07:01:16.182Z"
   },
   {
    "duration": 9,
    "start_time": "2022-04-23T07:08:09.642Z"
   },
   {
    "duration": 11,
    "start_time": "2022-04-23T07:08:10.545Z"
   },
   {
    "duration": 398,
    "start_time": "2022-04-23T07:10:54.048Z"
   },
   {
    "duration": 60,
    "start_time": "2022-04-23T07:10:54.448Z"
   },
   {
    "duration": 20,
    "start_time": "2022-04-23T07:10:54.696Z"
   },
   {
    "duration": 13,
    "start_time": "2022-04-23T07:10:54.854Z"
   },
   {
    "duration": 16,
    "start_time": "2022-04-23T07:10:55.047Z"
   },
   {
    "duration": 30,
    "start_time": "2022-04-23T07:10:55.249Z"
   },
   {
    "duration": 10,
    "start_time": "2022-04-23T07:10:56.464Z"
   },
   {
    "duration": 9,
    "start_time": "2022-04-23T07:10:57.690Z"
   },
   {
    "duration": 4,
    "start_time": "2022-04-23T07:10:57.872Z"
   },
   {
    "duration": 4,
    "start_time": "2022-04-23T07:10:59.244Z"
   },
   {
    "duration": 6,
    "start_time": "2022-04-23T07:10:59.529Z"
   },
   {
    "duration": 3,
    "start_time": "2022-04-23T07:10:59.767Z"
   },
   {
    "duration": 7,
    "start_time": "2022-04-23T07:11:00.007Z"
   },
   {
    "duration": 6,
    "start_time": "2022-04-23T07:11:00.203Z"
   },
   {
    "duration": 7,
    "start_time": "2022-04-23T07:11:00.423Z"
   },
   {
    "duration": 4,
    "start_time": "2022-04-23T07:11:00.640Z"
   },
   {
    "duration": 5,
    "start_time": "2022-04-23T07:11:01.276Z"
   },
   {
    "duration": 11,
    "start_time": "2022-04-23T07:11:02.378Z"
   },
   {
    "duration": 4,
    "start_time": "2022-04-23T07:11:02.694Z"
   },
   {
    "duration": 4,
    "start_time": "2022-04-23T07:11:03.372Z"
   },
   {
    "duration": 3,
    "start_time": "2022-04-23T07:11:03.669Z"
   },
   {
    "duration": 3,
    "start_time": "2022-04-23T07:11:04.243Z"
   },
   {
    "duration": 5,
    "start_time": "2022-04-23T07:11:06.300Z"
   },
   {
    "duration": 10,
    "start_time": "2022-04-23T07:11:07.105Z"
   },
   {
    "duration": 2,
    "start_time": "2022-04-23T07:11:07.433Z"
   },
   {
    "duration": 8,
    "start_time": "2022-04-23T07:11:08.160Z"
   },
   {
    "duration": 7,
    "start_time": "2022-04-23T07:11:08.458Z"
   },
   {
    "duration": 6,
    "start_time": "2022-04-23T07:11:10.124Z"
   },
   {
    "duration": 21,
    "start_time": "2022-04-23T07:11:10.132Z"
   },
   {
    "duration": 17,
    "start_time": "2022-04-23T07:11:10.154Z"
   },
   {
    "duration": 5,
    "start_time": "2022-04-23T07:11:11.406Z"
   },
   {
    "duration": 43,
    "start_time": "2022-04-23T07:11:12.878Z"
   },
   {
    "duration": 27,
    "start_time": "2022-04-23T07:11:16.687Z"
   },
   {
    "duration": 21,
    "start_time": "2022-04-23T07:11:17.369Z"
   },
   {
    "duration": 17,
    "start_time": "2022-04-23T07:11:17.984Z"
   },
   {
    "duration": 12,
    "start_time": "2022-04-23T07:11:18.279Z"
   },
   {
    "duration": 14,
    "start_time": "2022-04-23T07:11:20.123Z"
   },
   {
    "duration": 7,
    "start_time": "2022-04-23T07:11:20.408Z"
   },
   {
    "duration": 7,
    "start_time": "2022-04-23T07:11:20.813Z"
   },
   {
    "duration": 4,
    "start_time": "2022-04-23T07:11:21.265Z"
   },
   {
    "duration": 3,
    "start_time": "2022-04-23T07:11:22.426Z"
   },
   {
    "duration": 11,
    "start_time": "2022-04-23T07:11:22.745Z"
   },
   {
    "duration": 11,
    "start_time": "2022-04-23T07:11:23.478Z"
   },
   {
    "duration": 9,
    "start_time": "2022-04-23T07:14:13.415Z"
   },
   {
    "duration": 10,
    "start_time": "2022-04-23T07:14:14.243Z"
   },
   {
    "duration": 3,
    "start_time": "2022-04-23T07:14:23.201Z"
   },
   {
    "duration": 10,
    "start_time": "2022-04-23T07:14:23.585Z"
   },
   {
    "duration": 10,
    "start_time": "2022-04-23T07:14:25.263Z"
   },
   {
    "duration": 7,
    "start_time": "2022-04-23T07:14:43.537Z"
   },
   {
    "duration": 11,
    "start_time": "2022-04-23T07:14:44.073Z"
   },
   {
    "duration": 9,
    "start_time": "2022-04-23T07:14:59.291Z"
   },
   {
    "duration": 12,
    "start_time": "2022-04-23T07:15:00.755Z"
   },
   {
    "duration": 149,
    "start_time": "2022-04-23T07:20:55.388Z"
   },
   {
    "duration": 150,
    "start_time": "2022-04-23T07:26:56.569Z"
   },
   {
    "duration": 11,
    "start_time": "2022-04-23T07:26:57.443Z"
   },
   {
    "duration": 3,
    "start_time": "2022-04-23T07:27:41.088Z"
   },
   {
    "duration": 103,
    "start_time": "2022-04-23T07:27:41.487Z"
   },
   {
    "duration": 11,
    "start_time": "2022-04-23T07:27:42.286Z"
   },
   {
    "duration": 119,
    "start_time": "2022-04-23T07:32:25.281Z"
   },
   {
    "duration": 149,
    "start_time": "2022-04-23T07:32:37.669Z"
   },
   {
    "duration": 103,
    "start_time": "2022-04-23T07:32:44.841Z"
   },
   {
    "duration": 110,
    "start_time": "2022-04-23T07:32:53.231Z"
   },
   {
    "duration": 194,
    "start_time": "2022-04-23T07:33:20.942Z"
   },
   {
    "duration": 119,
    "start_time": "2022-04-23T07:34:06.741Z"
   },
   {
    "duration": 109,
    "start_time": "2022-04-23T07:34:49.205Z"
   },
   {
    "duration": 9,
    "start_time": "2022-04-23T07:39:52.019Z"
   },
   {
    "duration": 10,
    "start_time": "2022-04-23T07:39:54.416Z"
   },
   {
    "duration": 433,
    "start_time": "2022-04-23T07:40:01.517Z"
   },
   {
    "duration": 64,
    "start_time": "2022-04-23T07:40:01.952Z"
   },
   {
    "duration": 21,
    "start_time": "2022-04-23T07:40:02.018Z"
   },
   {
    "duration": 13,
    "start_time": "2022-04-23T07:40:02.041Z"
   },
   {
    "duration": 38,
    "start_time": "2022-04-23T07:40:02.056Z"
   },
   {
    "duration": 34,
    "start_time": "2022-04-23T07:40:02.096Z"
   },
   {
    "duration": 10,
    "start_time": "2022-04-23T07:40:02.131Z"
   },
   {
    "duration": 17,
    "start_time": "2022-04-23T07:40:02.143Z"
   },
   {
    "duration": 20,
    "start_time": "2022-04-23T07:40:02.162Z"
   },
   {
    "duration": 15,
    "start_time": "2022-04-23T07:40:02.185Z"
   },
   {
    "duration": 13,
    "start_time": "2022-04-23T07:40:02.201Z"
   },
   {
    "duration": 10,
    "start_time": "2022-04-23T07:40:02.216Z"
   },
   {
    "duration": 8,
    "start_time": "2022-04-23T07:40:02.228Z"
   },
   {
    "duration": 9,
    "start_time": "2022-04-23T07:40:02.238Z"
   },
   {
    "duration": 19,
    "start_time": "2022-04-23T07:40:02.249Z"
   },
   {
    "duration": 9,
    "start_time": "2022-04-23T07:40:02.270Z"
   },
   {
    "duration": 12,
    "start_time": "2022-04-23T07:40:02.281Z"
   },
   {
    "duration": 13,
    "start_time": "2022-04-23T07:40:02.295Z"
   },
   {
    "duration": 8,
    "start_time": "2022-04-23T07:40:02.310Z"
   },
   {
    "duration": 22,
    "start_time": "2022-04-23T07:40:02.320Z"
   },
   {
    "duration": 35,
    "start_time": "2022-04-23T07:40:02.344Z"
   },
   {
    "duration": 6,
    "start_time": "2022-04-23T07:40:02.380Z"
   },
   {
    "duration": 9,
    "start_time": "2022-04-23T07:40:02.388Z"
   },
   {
    "duration": 14,
    "start_time": "2022-04-23T07:40:02.398Z"
   },
   {
    "duration": 46,
    "start_time": "2022-04-23T07:40:02.414Z"
   },
   {
    "duration": 11,
    "start_time": "2022-04-23T07:40:02.462Z"
   },
   {
    "duration": 11,
    "start_time": "2022-04-23T07:40:02.475Z"
   },
   {
    "duration": 5,
    "start_time": "2022-04-23T07:40:02.490Z"
   },
   {
    "duration": 22,
    "start_time": "2022-04-23T07:40:02.496Z"
   },
   {
    "duration": 15,
    "start_time": "2022-04-23T07:40:02.520Z"
   },
   {
    "duration": 19,
    "start_time": "2022-04-23T07:40:02.537Z"
   },
   {
    "duration": 53,
    "start_time": "2022-04-23T07:40:02.557Z"
   },
   {
    "duration": 27,
    "start_time": "2022-04-23T07:40:02.611Z"
   },
   {
    "duration": 20,
    "start_time": "2022-04-23T07:40:02.640Z"
   },
   {
    "duration": 39,
    "start_time": "2022-04-23T07:40:02.662Z"
   },
   {
    "duration": 12,
    "start_time": "2022-04-23T07:40:02.702Z"
   },
   {
    "duration": 16,
    "start_time": "2022-04-23T07:40:02.716Z"
   },
   {
    "duration": 6,
    "start_time": "2022-04-23T07:40:02.733Z"
   },
   {
    "duration": 11,
    "start_time": "2022-04-23T07:40:02.741Z"
   },
   {
    "duration": 61,
    "start_time": "2022-04-23T07:40:02.754Z"
   },
   {
    "duration": 10,
    "start_time": "2022-04-23T07:40:02.817Z"
   },
   {
    "duration": 32,
    "start_time": "2022-04-23T07:40:02.829Z"
   },
   {
    "duration": 11,
    "start_time": "2022-04-23T07:40:02.863Z"
   },
   {
    "duration": 13,
    "start_time": "2022-04-23T07:40:02.876Z"
   },
   {
    "duration": 3991,
    "start_time": "2022-04-23T07:40:02.891Z"
   },
   {
    "duration": 23,
    "start_time": "2022-04-23T07:40:06.892Z"
   },
   {
    "duration": 41,
    "start_time": "2022-04-23T07:40:06.917Z"
   },
   {
    "duration": 35,
    "start_time": "2022-04-23T07:40:06.960Z"
   },
   {
    "duration": 5,
    "start_time": "2022-04-23T07:40:06.996Z"
   },
   {
    "duration": 32,
    "start_time": "2022-04-23T07:41:59.611Z"
   },
   {
    "duration": 33,
    "start_time": "2022-04-23T07:42:39.055Z"
   },
   {
    "duration": 30,
    "start_time": "2022-04-23T07:45:25.047Z"
   },
   {
    "duration": 33,
    "start_time": "2022-04-23T07:46:06.660Z"
   },
   {
    "duration": 34,
    "start_time": "2022-04-23T07:46:43.840Z"
   },
   {
    "duration": 34,
    "start_time": "2022-04-23T07:48:18.142Z"
   },
   {
    "duration": 35,
    "start_time": "2022-04-23T07:48:21.822Z"
   },
   {
    "duration": 25,
    "start_time": "2022-04-23T08:07:48.165Z"
   },
   {
    "duration": 73,
    "start_time": "2022-04-23T08:12:12.150Z"
   },
   {
    "duration": 13,
    "start_time": "2022-04-23T08:13:54.245Z"
   },
   {
    "duration": 18,
    "start_time": "2022-04-23T08:14:13.131Z"
   },
   {
    "duration": 22,
    "start_time": "2022-04-23T08:15:56.954Z"
   },
   {
    "duration": 23,
    "start_time": "2022-04-23T08:16:18.247Z"
   },
   {
    "duration": 14,
    "start_time": "2022-04-23T08:17:05.399Z"
   },
   {
    "duration": 22,
    "start_time": "2022-04-23T08:17:08.776Z"
   },
   {
    "duration": 119,
    "start_time": "2022-04-23T08:17:21.044Z"
   },
   {
    "duration": 14,
    "start_time": "2022-04-23T08:17:39.552Z"
   },
   {
    "duration": 14,
    "start_time": "2022-04-23T08:31:17.800Z"
   },
   {
    "duration": 23,
    "start_time": "2022-04-23T08:31:26.617Z"
   },
   {
    "duration": 390,
    "start_time": "2022-04-23T08:32:12.726Z"
   },
   {
    "duration": 60,
    "start_time": "2022-04-23T08:32:13.118Z"
   },
   {
    "duration": 26,
    "start_time": "2022-04-23T08:32:13.180Z"
   },
   {
    "duration": 13,
    "start_time": "2022-04-23T08:32:13.208Z"
   },
   {
    "duration": 17,
    "start_time": "2022-04-23T08:32:13.223Z"
   },
   {
    "duration": 53,
    "start_time": "2022-04-23T08:32:13.241Z"
   },
   {
    "duration": 11,
    "start_time": "2022-04-23T08:32:13.295Z"
   },
   {
    "duration": 7,
    "start_time": "2022-04-23T08:32:13.308Z"
   },
   {
    "duration": 4,
    "start_time": "2022-04-23T08:32:13.316Z"
   },
   {
    "duration": 5,
    "start_time": "2022-04-23T08:32:13.323Z"
   },
   {
    "duration": 11,
    "start_time": "2022-04-23T08:32:13.329Z"
   },
   {
    "duration": 5,
    "start_time": "2022-04-23T08:32:13.342Z"
   },
   {
    "duration": 12,
    "start_time": "2022-04-23T08:32:13.349Z"
   },
   {
    "duration": 32,
    "start_time": "2022-04-23T08:32:13.362Z"
   },
   {
    "duration": 8,
    "start_time": "2022-04-23T08:32:13.396Z"
   },
   {
    "duration": 8,
    "start_time": "2022-04-23T08:32:13.406Z"
   },
   {
    "duration": 12,
    "start_time": "2022-04-23T08:32:13.415Z"
   },
   {
    "duration": 22,
    "start_time": "2022-04-23T08:32:13.429Z"
   },
   {
    "duration": 9,
    "start_time": "2022-04-23T08:32:13.453Z"
   },
   {
    "duration": 16,
    "start_time": "2022-04-23T08:32:13.463Z"
   },
   {
    "duration": 9,
    "start_time": "2022-04-23T08:32:13.480Z"
   },
   {
    "duration": 12,
    "start_time": "2022-04-23T08:32:13.490Z"
   },
   {
    "duration": 12,
    "start_time": "2022-04-23T08:32:13.504Z"
   },
   {
    "duration": 17,
    "start_time": "2022-04-23T08:32:13.517Z"
   },
   {
    "duration": 9,
    "start_time": "2022-04-23T08:32:13.536Z"
   },
   {
    "duration": 14,
    "start_time": "2022-04-23T08:32:13.546Z"
   },
   {
    "duration": 12,
    "start_time": "2022-04-23T08:32:13.562Z"
   },
   {
    "duration": 7,
    "start_time": "2022-04-23T08:32:13.579Z"
   },
   {
    "duration": 20,
    "start_time": "2022-04-23T08:32:13.593Z"
   },
   {
    "duration": 16,
    "start_time": "2022-04-23T08:32:13.615Z"
   },
   {
    "duration": 10,
    "start_time": "2022-04-23T08:32:13.633Z"
   },
   {
    "duration": 64,
    "start_time": "2022-04-23T08:32:13.645Z"
   },
   {
    "duration": 27,
    "start_time": "2022-04-23T08:32:13.711Z"
   },
   {
    "duration": 22,
    "start_time": "2022-04-23T08:32:13.739Z"
   },
   {
    "duration": 39,
    "start_time": "2022-04-23T08:32:13.762Z"
   },
   {
    "duration": 13,
    "start_time": "2022-04-23T08:32:13.802Z"
   },
   {
    "duration": 17,
    "start_time": "2022-04-23T08:32:13.816Z"
   },
   {
    "duration": 7,
    "start_time": "2022-04-23T08:32:13.834Z"
   },
   {
    "duration": 8,
    "start_time": "2022-04-23T08:32:13.842Z"
   },
   {
    "duration": 6,
    "start_time": "2022-04-23T08:32:13.851Z"
   },
   {
    "duration": 35,
    "start_time": "2022-04-23T08:32:13.858Z"
   },
   {
    "duration": 10,
    "start_time": "2022-04-23T08:32:13.895Z"
   },
   {
    "duration": 10,
    "start_time": "2022-04-23T08:32:13.906Z"
   },
   {
    "duration": 10,
    "start_time": "2022-04-23T08:32:13.918Z"
   },
   {
    "duration": 3511,
    "start_time": "2022-04-23T08:32:13.929Z"
   },
   {
    "duration": 24,
    "start_time": "2022-04-23T08:32:17.442Z"
   },
   {
    "duration": 43,
    "start_time": "2022-04-23T08:32:17.468Z"
   },
   {
    "duration": 96,
    "start_time": "2022-04-23T08:32:17.513Z"
   },
   {
    "duration": 0,
    "start_time": "2022-04-23T08:32:17.610Z"
   },
   {
    "duration": 25,
    "start_time": "2022-04-23T08:32:40.623Z"
   },
   {
    "duration": 25,
    "start_time": "2022-04-23T08:33:09.959Z"
   },
   {
    "duration": 23,
    "start_time": "2022-04-23T08:33:38.676Z"
   },
   {
    "duration": 22,
    "start_time": "2022-04-23T08:33:45.747Z"
   },
   {
    "duration": 29,
    "start_time": "2022-04-23T08:34:05.147Z"
   },
   {
    "duration": 32,
    "start_time": "2022-04-23T08:34:29.426Z"
   },
   {
    "duration": 28,
    "start_time": "2022-04-23T08:34:41.239Z"
   },
   {
    "duration": 28,
    "start_time": "2022-04-23T08:34:49.374Z"
   },
   {
    "duration": 25,
    "start_time": "2022-04-23T08:46:30.116Z"
   },
   {
    "duration": 26,
    "start_time": "2022-04-23T08:46:35.572Z"
   },
   {
    "duration": 25,
    "start_time": "2022-04-23T08:54:33.989Z"
   },
   {
    "duration": 21,
    "start_time": "2022-04-23T08:57:03.915Z"
   },
   {
    "duration": 21,
    "start_time": "2022-04-23T08:57:07.785Z"
   },
   {
    "duration": 23,
    "start_time": "2022-04-23T08:57:17.750Z"
   },
   {
    "duration": 25,
    "start_time": "2022-04-23T08:59:20.958Z"
   },
   {
    "duration": 11,
    "start_time": "2022-04-23T09:10:52.983Z"
   },
   {
    "duration": 12,
    "start_time": "2022-04-23T09:11:12.768Z"
   },
   {
    "duration": 20,
    "start_time": "2022-04-23T09:11:22.439Z"
   },
   {
    "duration": 6,
    "start_time": "2022-04-23T09:13:10.084Z"
   },
   {
    "duration": 5,
    "start_time": "2022-04-23T09:19:10.308Z"
   },
   {
    "duration": 5,
    "start_time": "2022-04-23T09:20:11.391Z"
   },
   {
    "duration": 526,
    "start_time": "2022-04-23T09:20:18.693Z"
   },
   {
    "duration": 90,
    "start_time": "2022-04-23T09:20:19.222Z"
   },
   {
    "duration": 24,
    "start_time": "2022-04-23T09:20:19.315Z"
   },
   {
    "duration": 13,
    "start_time": "2022-04-23T09:20:19.341Z"
   },
   {
    "duration": 16,
    "start_time": "2022-04-23T09:20:19.356Z"
   },
   {
    "duration": 33,
    "start_time": "2022-04-23T09:20:19.392Z"
   },
   {
    "duration": 10,
    "start_time": "2022-04-23T09:20:19.427Z"
   },
   {
    "duration": 8,
    "start_time": "2022-04-23T09:20:19.439Z"
   },
   {
    "duration": 5,
    "start_time": "2022-04-23T09:20:19.449Z"
   },
   {
    "duration": 37,
    "start_time": "2022-04-23T09:20:19.457Z"
   },
   {
    "duration": 7,
    "start_time": "2022-04-23T09:20:19.496Z"
   },
   {
    "duration": 16,
    "start_time": "2022-04-23T09:20:19.504Z"
   },
   {
    "duration": 15,
    "start_time": "2022-04-23T09:20:19.522Z"
   },
   {
    "duration": 21,
    "start_time": "2022-04-23T09:20:19.539Z"
   },
   {
    "duration": 20,
    "start_time": "2022-04-23T09:20:19.561Z"
   },
   {
    "duration": 4,
    "start_time": "2022-04-23T09:20:19.583Z"
   },
   {
    "duration": 12,
    "start_time": "2022-04-23T09:20:19.589Z"
   },
   {
    "duration": 17,
    "start_time": "2022-04-23T09:20:19.603Z"
   },
   {
    "duration": 6,
    "start_time": "2022-04-23T09:20:19.622Z"
   },
   {
    "duration": 9,
    "start_time": "2022-04-23T09:20:19.630Z"
   },
   {
    "duration": 9,
    "start_time": "2022-04-23T09:20:19.641Z"
   },
   {
    "duration": 7,
    "start_time": "2022-04-23T09:20:19.652Z"
   },
   {
    "duration": 17,
    "start_time": "2022-04-23T09:20:19.661Z"
   },
   {
    "duration": 12,
    "start_time": "2022-04-23T09:20:19.681Z"
   },
   {
    "duration": 8,
    "start_time": "2022-04-23T09:20:19.695Z"
   },
   {
    "duration": 15,
    "start_time": "2022-04-23T09:20:19.705Z"
   },
   {
    "duration": 17,
    "start_time": "2022-04-23T09:20:19.721Z"
   },
   {
    "duration": 7,
    "start_time": "2022-04-23T09:20:19.742Z"
   },
   {
    "duration": 31,
    "start_time": "2022-04-23T09:20:19.750Z"
   },
   {
    "duration": 19,
    "start_time": "2022-04-23T09:20:19.783Z"
   },
   {
    "duration": 5,
    "start_time": "2022-04-23T09:20:19.804Z"
   },
   {
    "duration": 54,
    "start_time": "2022-04-23T09:20:19.811Z"
   },
   {
    "duration": 45,
    "start_time": "2022-04-23T09:20:19.867Z"
   },
   {
    "duration": 22,
    "start_time": "2022-04-23T09:20:19.913Z"
   },
   {
    "duration": 18,
    "start_time": "2022-04-23T09:20:19.937Z"
   },
   {
    "duration": 13,
    "start_time": "2022-04-23T09:20:19.957Z"
   },
   {
    "duration": 16,
    "start_time": "2022-04-23T09:20:19.993Z"
   },
   {
    "duration": 24,
    "start_time": "2022-04-23T09:20:20.011Z"
   },
   {
    "duration": 23,
    "start_time": "2022-04-23T09:20:20.037Z"
   },
   {
    "duration": 12,
    "start_time": "2022-04-23T09:20:20.062Z"
   },
   {
    "duration": 29,
    "start_time": "2022-04-23T09:20:20.076Z"
   },
   {
    "duration": 7,
    "start_time": "2022-04-23T09:20:20.107Z"
   },
   {
    "duration": 8,
    "start_time": "2022-04-23T09:20:20.116Z"
   },
   {
    "duration": 15,
    "start_time": "2022-04-23T09:20:20.126Z"
   },
   {
    "duration": 18,
    "start_time": "2022-04-23T09:20:20.143Z"
   },
   {
    "duration": 16,
    "start_time": "2022-04-23T09:20:20.163Z"
   },
   {
    "duration": 4537,
    "start_time": "2022-04-23T09:20:20.181Z"
   },
   {
    "duration": 24,
    "start_time": "2022-04-23T09:20:24.721Z"
   },
   {
    "duration": 45,
    "start_time": "2022-04-23T09:20:24.747Z"
   },
   {
    "duration": 27,
    "start_time": "2022-04-23T09:20:24.794Z"
   },
   {
    "duration": 23,
    "start_time": "2022-04-23T09:20:24.823Z"
   },
   {
    "duration": 50,
    "start_time": "2022-04-23T09:20:24.848Z"
   },
   {
    "duration": 24,
    "start_time": "2022-04-23T09:30:50.542Z"
   },
   {
    "duration": 28,
    "start_time": "2022-04-23T09:32:12.399Z"
   },
   {
    "duration": 30,
    "start_time": "2022-04-23T09:32:29.499Z"
   },
   {
    "duration": 74,
    "start_time": "2022-04-23T09:32:56.125Z"
   },
   {
    "duration": 446,
    "start_time": "2022-04-23T09:33:04.960Z"
   },
   {
    "duration": 65,
    "start_time": "2022-04-23T09:33:05.409Z"
   },
   {
    "duration": 29,
    "start_time": "2022-04-23T09:33:05.476Z"
   },
   {
    "duration": 13,
    "start_time": "2022-04-23T09:33:05.507Z"
   },
   {
    "duration": 19,
    "start_time": "2022-04-23T09:33:05.522Z"
   },
   {
    "duration": 57,
    "start_time": "2022-04-23T09:33:05.543Z"
   },
   {
    "duration": 11,
    "start_time": "2022-04-23T09:33:05.601Z"
   },
   {
    "duration": 8,
    "start_time": "2022-04-23T09:33:05.613Z"
   },
   {
    "duration": 8,
    "start_time": "2022-04-23T09:33:05.623Z"
   },
   {
    "duration": 6,
    "start_time": "2022-04-23T09:33:05.633Z"
   },
   {
    "duration": 17,
    "start_time": "2022-04-23T09:33:05.641Z"
   },
   {
    "duration": 8,
    "start_time": "2022-04-23T09:33:05.660Z"
   },
   {
    "duration": 23,
    "start_time": "2022-04-23T09:33:05.670Z"
   },
   {
    "duration": 6,
    "start_time": "2022-04-23T09:33:05.695Z"
   },
   {
    "duration": 12,
    "start_time": "2022-04-23T09:33:05.702Z"
   },
   {
    "duration": 28,
    "start_time": "2022-04-23T09:33:05.717Z"
   },
   {
    "duration": 12,
    "start_time": "2022-04-23T09:33:05.747Z"
   },
   {
    "duration": 17,
    "start_time": "2022-04-23T09:33:05.761Z"
   },
   {
    "duration": 4,
    "start_time": "2022-04-23T09:33:05.779Z"
   },
   {
    "duration": 12,
    "start_time": "2022-04-23T09:33:05.785Z"
   },
   {
    "duration": 8,
    "start_time": "2022-04-23T09:33:05.799Z"
   },
   {
    "duration": 11,
    "start_time": "2022-04-23T09:33:05.809Z"
   },
   {
    "duration": 14,
    "start_time": "2022-04-23T09:33:05.822Z"
   },
   {
    "duration": 19,
    "start_time": "2022-04-23T09:33:05.839Z"
   },
   {
    "duration": 4,
    "start_time": "2022-04-23T09:33:05.861Z"
   },
   {
    "duration": 22,
    "start_time": "2022-04-23T09:33:05.867Z"
   },
   {
    "duration": 12,
    "start_time": "2022-04-23T09:33:05.894Z"
   },
   {
    "duration": 17,
    "start_time": "2022-04-23T09:33:05.910Z"
   },
   {
    "duration": 21,
    "start_time": "2022-04-23T09:33:05.929Z"
   },
   {
    "duration": 17,
    "start_time": "2022-04-23T09:33:05.953Z"
   },
   {
    "duration": 23,
    "start_time": "2022-04-23T09:33:05.973Z"
   },
   {
    "duration": 50,
    "start_time": "2022-04-23T09:33:05.998Z"
   },
   {
    "duration": 44,
    "start_time": "2022-04-23T09:33:06.050Z"
   },
   {
    "duration": 22,
    "start_time": "2022-04-23T09:33:06.096Z"
   },
   {
    "duration": 19,
    "start_time": "2022-04-23T09:33:06.120Z"
   },
   {
    "duration": 13,
    "start_time": "2022-04-23T09:33:06.141Z"
   },
   {
    "duration": 50,
    "start_time": "2022-04-23T09:33:06.156Z"
   },
   {
    "duration": 6,
    "start_time": "2022-04-23T09:33:06.208Z"
   },
   {
    "duration": 11,
    "start_time": "2022-04-23T09:33:06.216Z"
   },
   {
    "duration": 7,
    "start_time": "2022-04-23T09:33:06.229Z"
   },
   {
    "duration": 27,
    "start_time": "2022-04-23T09:33:06.237Z"
   },
   {
    "duration": 42,
    "start_time": "2022-04-23T09:33:06.266Z"
   },
   {
    "duration": 4,
    "start_time": "2022-04-23T09:33:06.310Z"
   },
   {
    "duration": 18,
    "start_time": "2022-04-23T09:33:06.316Z"
   },
   {
    "duration": 18,
    "start_time": "2022-04-23T09:33:06.336Z"
   },
   {
    "duration": 22,
    "start_time": "2022-04-23T09:33:06.355Z"
   },
   {
    "duration": 4663,
    "start_time": "2022-04-23T09:33:06.378Z"
   },
   {
    "duration": 23,
    "start_time": "2022-04-23T09:33:11.044Z"
   },
   {
    "duration": 46,
    "start_time": "2022-04-23T09:33:11.069Z"
   },
   {
    "duration": 28,
    "start_time": "2022-04-23T09:33:11.117Z"
   },
   {
    "duration": 46,
    "start_time": "2022-04-23T09:33:11.147Z"
   },
   {
    "duration": 26,
    "start_time": "2022-04-23T09:33:11.195Z"
   },
   {
    "duration": 9,
    "start_time": "2022-04-23T09:34:04.502Z"
   },
   {
    "duration": 22,
    "start_time": "2022-04-23T09:35:01.857Z"
   },
   {
    "duration": 23,
    "start_time": "2022-04-23T09:35:41.037Z"
   },
   {
    "duration": 19,
    "start_time": "2022-04-23T09:35:45.394Z"
   },
   {
    "duration": 29,
    "start_time": "2022-04-23T09:36:36.780Z"
   },
   {
    "duration": 8,
    "start_time": "2022-04-23T09:37:55.531Z"
   },
   {
    "duration": 8,
    "start_time": "2022-04-23T09:38:02.966Z"
   },
   {
    "duration": 9,
    "start_time": "2022-04-23T09:38:57.806Z"
   },
   {
    "duration": 105,
    "start_time": "2022-04-23T09:39:06.280Z"
   },
   {
    "duration": 29,
    "start_time": "2022-04-23T09:39:13.158Z"
   },
   {
    "duration": 412,
    "start_time": "2022-04-23T09:39:21.504Z"
   },
   {
    "duration": 62,
    "start_time": "2022-04-23T09:39:21.918Z"
   },
   {
    "duration": 30,
    "start_time": "2022-04-23T09:39:21.982Z"
   },
   {
    "duration": 13,
    "start_time": "2022-04-23T09:39:22.014Z"
   },
   {
    "duration": 17,
    "start_time": "2022-04-23T09:39:22.029Z"
   },
   {
    "duration": 65,
    "start_time": "2022-04-23T09:39:22.047Z"
   },
   {
    "duration": 10,
    "start_time": "2022-04-23T09:39:22.114Z"
   },
   {
    "duration": 8,
    "start_time": "2022-04-23T09:39:22.126Z"
   },
   {
    "duration": 10,
    "start_time": "2022-04-23T09:39:22.136Z"
   },
   {
    "duration": 7,
    "start_time": "2022-04-23T09:39:22.149Z"
   },
   {
    "duration": 8,
    "start_time": "2022-04-23T09:39:22.158Z"
   },
   {
    "duration": 27,
    "start_time": "2022-04-23T09:39:22.167Z"
   },
   {
    "duration": 8,
    "start_time": "2022-04-23T09:39:22.196Z"
   },
   {
    "duration": 11,
    "start_time": "2022-04-23T09:39:22.206Z"
   },
   {
    "duration": 14,
    "start_time": "2022-04-23T09:39:22.219Z"
   },
   {
    "duration": 4,
    "start_time": "2022-04-23T09:39:22.235Z"
   },
   {
    "duration": 13,
    "start_time": "2022-04-23T09:39:22.241Z"
   },
   {
    "duration": 12,
    "start_time": "2022-04-23T09:39:22.255Z"
   },
   {
    "duration": 24,
    "start_time": "2022-04-23T09:39:22.268Z"
   },
   {
    "duration": 5,
    "start_time": "2022-04-23T09:39:22.294Z"
   },
   {
    "duration": 5,
    "start_time": "2022-04-23T09:39:22.301Z"
   },
   {
    "duration": 15,
    "start_time": "2022-04-23T09:39:22.307Z"
   },
   {
    "duration": 13,
    "start_time": "2022-04-23T09:39:22.324Z"
   },
   {
    "duration": 15,
    "start_time": "2022-04-23T09:39:22.339Z"
   },
   {
    "duration": 7,
    "start_time": "2022-04-23T09:39:22.355Z"
   },
   {
    "duration": 14,
    "start_time": "2022-04-23T09:39:22.363Z"
   },
   {
    "duration": 21,
    "start_time": "2022-04-23T09:39:22.378Z"
   },
   {
    "duration": 11,
    "start_time": "2022-04-23T09:39:22.404Z"
   },
   {
    "duration": 25,
    "start_time": "2022-04-23T09:39:22.417Z"
   },
   {
    "duration": 16,
    "start_time": "2022-04-23T09:39:22.444Z"
   },
   {
    "duration": 16,
    "start_time": "2022-04-23T09:39:22.462Z"
   },
   {
    "duration": 49,
    "start_time": "2022-04-23T09:39:22.480Z"
   },
   {
    "duration": 29,
    "start_time": "2022-04-23T09:39:22.531Z"
   },
   {
    "duration": 39,
    "start_time": "2022-04-23T09:39:22.563Z"
   },
   {
    "duration": 19,
    "start_time": "2022-04-23T09:39:22.604Z"
   },
   {
    "duration": 12,
    "start_time": "2022-04-23T09:39:22.625Z"
   },
   {
    "duration": 22,
    "start_time": "2022-04-23T09:39:22.638Z"
   },
   {
    "duration": 7,
    "start_time": "2022-04-23T09:39:22.661Z"
   },
   {
    "duration": 7,
    "start_time": "2022-04-23T09:39:22.693Z"
   },
   {
    "duration": 7,
    "start_time": "2022-04-23T09:39:22.701Z"
   },
   {
    "duration": 30,
    "start_time": "2022-04-23T09:39:22.709Z"
   },
   {
    "duration": 10,
    "start_time": "2022-04-23T09:39:22.740Z"
   },
   {
    "duration": 7,
    "start_time": "2022-04-23T09:39:22.751Z"
   },
   {
    "duration": 35,
    "start_time": "2022-04-23T09:39:22.759Z"
   },
   {
    "duration": 11,
    "start_time": "2022-04-23T09:39:22.796Z"
   },
   {
    "duration": 15,
    "start_time": "2022-04-23T09:39:22.809Z"
   },
   {
    "duration": 4049,
    "start_time": "2022-04-23T09:39:22.826Z"
   },
   {
    "duration": 37,
    "start_time": "2022-04-23T09:39:26.877Z"
   },
   {
    "duration": 48,
    "start_time": "2022-04-23T09:39:26.916Z"
   },
   {
    "duration": 26,
    "start_time": "2022-04-23T09:39:26.965Z"
   },
   {
    "duration": 23,
    "start_time": "2022-04-23T09:39:26.993Z"
   },
   {
    "duration": 27,
    "start_time": "2022-04-23T09:39:27.017Z"
   },
   {
    "duration": 28,
    "start_time": "2022-04-23T09:41:15.098Z"
   },
   {
    "duration": 26,
    "start_time": "2022-04-23T09:41:25.558Z"
   },
   {
    "duration": 22,
    "start_time": "2022-04-23T09:41:50.598Z"
   },
   {
    "duration": 122,
    "start_time": "2022-04-23T09:41:59.095Z"
   },
   {
    "duration": 105,
    "start_time": "2022-04-23T09:42:42.685Z"
   },
   {
    "duration": 15,
    "start_time": "2022-04-23T09:42:56.348Z"
   },
   {
    "duration": 14,
    "start_time": "2022-04-23T09:43:57.306Z"
   },
   {
    "duration": 16,
    "start_time": "2022-04-23T09:44:55.267Z"
   },
   {
    "duration": 103,
    "start_time": "2022-04-23T09:48:54.253Z"
   },
   {
    "duration": 113,
    "start_time": "2022-04-23T09:49:05.184Z"
   },
   {
    "duration": 107,
    "start_time": "2022-04-23T09:51:12.698Z"
   },
   {
    "duration": 110,
    "start_time": "2022-04-23T09:51:19.776Z"
   },
   {
    "duration": 118,
    "start_time": "2022-04-23T09:51:32.772Z"
   },
   {
    "duration": 3,
    "start_time": "2022-04-23T09:51:50.043Z"
   },
   {
    "duration": 16,
    "start_time": "2022-04-23T09:51:52.884Z"
   },
   {
    "duration": 416,
    "start_time": "2022-04-23T09:52:20.137Z"
   },
   {
    "duration": 60,
    "start_time": "2022-04-23T09:52:20.555Z"
   },
   {
    "duration": 20,
    "start_time": "2022-04-23T09:52:20.617Z"
   },
   {
    "duration": 17,
    "start_time": "2022-04-23T09:52:20.639Z"
   },
   {
    "duration": 46,
    "start_time": "2022-04-23T09:52:20.657Z"
   },
   {
    "duration": 34,
    "start_time": "2022-04-23T09:52:20.705Z"
   },
   {
    "duration": 10,
    "start_time": "2022-04-23T09:52:20.741Z"
   },
   {
    "duration": 13,
    "start_time": "2022-04-23T09:52:20.753Z"
   },
   {
    "duration": 26,
    "start_time": "2022-04-23T09:52:20.767Z"
   },
   {
    "duration": 18,
    "start_time": "2022-04-23T09:52:20.797Z"
   },
   {
    "duration": 7,
    "start_time": "2022-04-23T09:52:20.817Z"
   },
   {
    "duration": 23,
    "start_time": "2022-04-23T09:52:20.826Z"
   },
   {
    "duration": 13,
    "start_time": "2022-04-23T09:52:20.850Z"
   },
   {
    "duration": 10,
    "start_time": "2022-04-23T09:52:20.864Z"
   },
   {
    "duration": 17,
    "start_time": "2022-04-23T09:52:20.876Z"
   },
   {
    "duration": 15,
    "start_time": "2022-04-23T09:52:20.895Z"
   },
   {
    "duration": 19,
    "start_time": "2022-04-23T09:52:20.912Z"
   },
   {
    "duration": 26,
    "start_time": "2022-04-23T09:52:20.932Z"
   },
   {
    "duration": 23,
    "start_time": "2022-04-23T09:52:20.959Z"
   },
   {
    "duration": 32,
    "start_time": "2022-04-23T09:52:20.984Z"
   },
   {
    "duration": 10,
    "start_time": "2022-04-23T09:52:21.018Z"
   },
   {
    "duration": 27,
    "start_time": "2022-04-23T09:52:21.030Z"
   },
   {
    "duration": 15,
    "start_time": "2022-04-23T09:52:21.058Z"
   },
   {
    "duration": 33,
    "start_time": "2022-04-23T09:52:21.074Z"
   },
   {
    "duration": 24,
    "start_time": "2022-04-23T09:52:21.109Z"
   },
   {
    "duration": 18,
    "start_time": "2022-04-23T09:52:21.135Z"
   },
   {
    "duration": 26,
    "start_time": "2022-04-23T09:52:21.155Z"
   },
   {
    "duration": 43,
    "start_time": "2022-04-23T09:52:21.184Z"
   },
   {
    "duration": 48,
    "start_time": "2022-04-23T09:52:21.229Z"
   },
   {
    "duration": 24,
    "start_time": "2022-04-23T09:52:21.279Z"
   },
   {
    "duration": 35,
    "start_time": "2022-04-23T09:52:21.304Z"
   },
   {
    "duration": 59,
    "start_time": "2022-04-23T09:52:21.342Z"
   },
   {
    "duration": 27,
    "start_time": "2022-04-23T09:52:21.403Z"
   },
   {
    "duration": 32,
    "start_time": "2022-04-23T09:52:21.431Z"
   },
   {
    "duration": 37,
    "start_time": "2022-04-23T09:52:21.464Z"
   },
   {
    "duration": 22,
    "start_time": "2022-04-23T09:52:21.503Z"
   },
   {
    "duration": 39,
    "start_time": "2022-04-23T09:52:21.527Z"
   },
   {
    "duration": 17,
    "start_time": "2022-04-23T09:52:21.568Z"
   },
   {
    "duration": 23,
    "start_time": "2022-04-23T09:52:21.586Z"
   },
   {
    "duration": 14,
    "start_time": "2022-04-23T09:52:21.611Z"
   },
   {
    "duration": 41,
    "start_time": "2022-04-23T09:52:21.626Z"
   },
   {
    "duration": 20,
    "start_time": "2022-04-23T09:52:21.669Z"
   },
   {
    "duration": 33,
    "start_time": "2022-04-23T09:52:21.690Z"
   },
   {
    "duration": 19,
    "start_time": "2022-04-23T09:52:21.725Z"
   },
   {
    "duration": 26,
    "start_time": "2022-04-23T09:52:21.746Z"
   },
   {
    "duration": 50,
    "start_time": "2022-04-23T09:52:21.774Z"
   },
   {
    "duration": 32,
    "start_time": "2022-04-23T09:52:21.826Z"
   },
   {
    "duration": 4294,
    "start_time": "2022-04-23T09:52:21.860Z"
   },
   {
    "duration": 46,
    "start_time": "2022-04-23T09:52:26.156Z"
   },
   {
    "duration": 28,
    "start_time": "2022-04-23T09:52:26.204Z"
   },
   {
    "duration": 28,
    "start_time": "2022-04-23T09:52:26.234Z"
   },
   {
    "duration": 57,
    "start_time": "2022-04-23T09:52:26.264Z"
   },
   {
    "duration": 35,
    "start_time": "2022-04-23T09:52:26.323Z"
   },
   {
    "duration": 392,
    "start_time": "2022-04-23T10:05:03.419Z"
   },
   {
    "duration": 58,
    "start_time": "2022-04-23T10:05:03.813Z"
   },
   {
    "duration": 24,
    "start_time": "2022-04-23T10:05:03.873Z"
   },
   {
    "duration": 13,
    "start_time": "2022-04-23T10:05:03.899Z"
   },
   {
    "duration": 17,
    "start_time": "2022-04-23T10:05:03.914Z"
   },
   {
    "duration": 30,
    "start_time": "2022-04-23T10:05:03.932Z"
   },
   {
    "duration": 34,
    "start_time": "2022-04-23T10:05:03.964Z"
   },
   {
    "duration": 7,
    "start_time": "2022-04-23T10:05:04.000Z"
   },
   {
    "duration": 4,
    "start_time": "2022-04-23T10:05:04.009Z"
   },
   {
    "duration": 10,
    "start_time": "2022-04-23T10:05:04.016Z"
   },
   {
    "duration": 11,
    "start_time": "2022-04-23T10:05:04.028Z"
   },
   {
    "duration": 6,
    "start_time": "2022-04-23T10:05:04.040Z"
   },
   {
    "duration": 8,
    "start_time": "2022-04-23T10:05:04.047Z"
   },
   {
    "duration": 10,
    "start_time": "2022-04-23T10:05:04.057Z"
   },
   {
    "duration": 9,
    "start_time": "2022-04-23T10:05:04.093Z"
   },
   {
    "duration": 5,
    "start_time": "2022-04-23T10:05:04.104Z"
   },
   {
    "duration": 8,
    "start_time": "2022-04-23T10:05:04.111Z"
   },
   {
    "duration": 14,
    "start_time": "2022-04-23T10:05:04.121Z"
   },
   {
    "duration": 6,
    "start_time": "2022-04-23T10:05:04.137Z"
   },
   {
    "duration": 13,
    "start_time": "2022-04-23T10:05:04.144Z"
   },
   {
    "duration": 7,
    "start_time": "2022-04-23T10:05:04.159Z"
   },
   {
    "duration": 25,
    "start_time": "2022-04-23T10:05:04.167Z"
   },
   {
    "duration": 7,
    "start_time": "2022-04-23T10:05:04.194Z"
   },
   {
    "duration": 14,
    "start_time": "2022-04-23T10:05:04.202Z"
   },
   {
    "duration": 7,
    "start_time": "2022-04-23T10:05:04.217Z"
   },
   {
    "duration": 15,
    "start_time": "2022-04-23T10:05:04.226Z"
   },
   {
    "duration": 10,
    "start_time": "2022-04-23T10:05:04.242Z"
   },
   {
    "duration": 9,
    "start_time": "2022-04-23T10:05:04.256Z"
   },
   {
    "duration": 35,
    "start_time": "2022-04-23T10:05:04.267Z"
   },
   {
    "duration": 16,
    "start_time": "2022-04-23T10:05:04.304Z"
   },
   {
    "duration": 5,
    "start_time": "2022-04-23T10:05:04.321Z"
   },
   {
    "duration": 65,
    "start_time": "2022-04-23T10:05:04.328Z"
   },
   {
    "duration": 29,
    "start_time": "2022-04-23T10:05:04.394Z"
   },
   {
    "duration": 23,
    "start_time": "2022-04-23T10:05:04.424Z"
   },
   {
    "duration": 20,
    "start_time": "2022-04-23T10:05:04.449Z"
   },
   {
    "duration": 13,
    "start_time": "2022-04-23T10:05:04.493Z"
   },
   {
    "duration": 15,
    "start_time": "2022-04-23T10:05:04.507Z"
   },
   {
    "duration": 7,
    "start_time": "2022-04-23T10:05:04.524Z"
   },
   {
    "duration": 10,
    "start_time": "2022-04-23T10:05:04.532Z"
   },
   {
    "duration": 10,
    "start_time": "2022-04-23T10:05:04.543Z"
   },
   {
    "duration": 42,
    "start_time": "2022-04-23T10:05:04.555Z"
   },
   {
    "duration": 10,
    "start_time": "2022-04-23T10:05:04.598Z"
   },
   {
    "duration": 17,
    "start_time": "2022-04-23T10:05:04.610Z"
   },
   {
    "duration": 3,
    "start_time": "2022-04-23T10:05:04.629Z"
   },
   {
    "duration": 11,
    "start_time": "2022-04-23T10:05:04.634Z"
   },
   {
    "duration": 12,
    "start_time": "2022-04-23T10:05:04.647Z"
   },
   {
    "duration": 36,
    "start_time": "2022-04-23T10:05:04.661Z"
   },
   {
    "duration": 3766,
    "start_time": "2022-04-23T10:05:04.698Z"
   },
   {
    "duration": 37,
    "start_time": "2022-04-23T10:05:08.466Z"
   },
   {
    "duration": 27,
    "start_time": "2022-04-23T10:05:08.505Z"
   },
   {
    "duration": 27,
    "start_time": "2022-04-23T10:05:08.534Z"
   },
   {
    "duration": 46,
    "start_time": "2022-04-23T10:05:08.562Z"
   },
   {
    "duration": 26,
    "start_time": "2022-04-23T10:05:08.609Z"
   }
  ],
  "kernelspec": {
   "display_name": "Python 3 (ipykernel)",
   "language": "python",
   "name": "python3"
  },
  "language_info": {
   "codemirror_mode": {
    "name": "ipython",
    "version": 3
   },
   "file_extension": ".py",
   "mimetype": "text/x-python",
   "name": "python",
   "nbconvert_exporter": "python",
   "pygments_lexer": "ipython3",
   "version": "3.9.5"
  },
  "toc": {
   "base_numbering": "1",
   "nav_menu": {},
   "number_sections": true,
   "sideBar": true,
   "skip_h1_title": false,
   "title_cell": "Table of Contents",
   "title_sidebar": "Contents",
   "toc_cell": false,
   "toc_position": {
    "height": "calc(100% - 180px)",
    "left": "10px",
    "top": "150px",
    "width": "323.903px"
   },
   "toc_section_display": true,
   "toc_window_display": false
  }
 },
 "nbformat": 4,
 "nbformat_minor": 5
}

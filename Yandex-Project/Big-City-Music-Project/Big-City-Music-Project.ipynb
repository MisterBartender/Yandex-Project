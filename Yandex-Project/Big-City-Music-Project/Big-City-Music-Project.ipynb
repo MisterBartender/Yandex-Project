{
 "cells": [
  {
   "cell_type": "markdown",
   "metadata": {
    "id": "E0vqbgi9ay0H"
   },
   "source": [
    "# Яндекс.Музыка"
   ]
  },
  {
   "cell_type": "markdown",
   "metadata": {
    "id": "VUC88oWjTJw2"
   },
   "source": [
    "Сравнение Москвы и Петербурга окружено мифами. Например:\n",
    " * Москва — мегаполис, подчинённый жёсткому ритму рабочей недели;\n",
    " * Петербург — культурная столица, со своими вкусами.\n",
    "\n",
    "На данных Яндекс.Музыки вы сравните поведение пользователей двух столиц.\n",
    "\n",
    "**Цель исследования** — проверьте три гипотезы:\n",
    "1. Активность пользователей зависит от дня недели. Причём в Москве и Петербурге это проявляется по-разному.\n",
    "2. В понедельник утром в Москве преобладают одни жанры, а в Петербурге — другие. Так же и вечером пятницы преобладают разные жанры — в зависимости от города. \n",
    "3. Москва и Петербург предпочитают разные жанры музыки. В Москве чаще слушают поп-музыку, в Петербурге — русский рэп.\n",
    "\n",
    "**Ход исследования**\n",
    "\n",
    "Данные о поведении пользователей вы получите из файла `yandex_music_project.csv`. О качестве данных ничего не известно. Поэтому перед проверкой гипотез понадобится обзор данных. \n",
    "\n",
    "Вы проверите данные на ошибки и оцените их влияние на исследование. Затем, на этапе предобработки вы поищете возможность исправить самые критичные ошибки данных.\n",
    " \n",
    "Таким образом, исследование пройдёт в три этапа:\n",
    " 1. Обзор данных.\n",
    " 2. Предобработка данных.\n",
    " 3. Проверка гипотез.\n",
    "\n"
   ]
  },
  {
   "cell_type": "markdown",
   "metadata": {
    "id": "Ml1hmfXC_Zcs"
   },
   "source": [
    "## Обзор данных\n",
    "\n",
    "Составьте первое представление о данных Яндекс.Музыки.\n",
    "\n",
    "\n"
   ]
  },
  {
   "cell_type": "markdown",
   "metadata": {
    "id": "57eAOGIz_Zcs"
   },
   "source": [
    "Основной инструмент аналитика — `pandas`. Импортируйте эту библиотеку."
   ]
  },
  {
   "cell_type": "code",
   "execution_count": 1,
   "metadata": {
    "id": "AXN7PHPN_Zcs"
   },
   "outputs": [],
   "source": [
    "# импорт библиотеки pandas\n",
    "import pandas as pd"
   ]
  },
  {
   "cell_type": "markdown",
   "metadata": {
    "id": "SG23P8tt_Zcs"
   },
   "source": [
    "Прочитайте файл `yandex_music_project.csv` из папки `/datasets` и сохраните его в переменной `df`:"
   ]
  },
  {
   "cell_type": "code",
   "execution_count": 2,
   "metadata": {
    "id": "fFVu7vqh_Zct"
   },
   "outputs": [],
   "source": [
    "# чтение файла с данными и сохранение в df\n",
    "df = pd.read_csv('/datasets/yandex_music_project.csv')"
   ]
  },
  {
   "cell_type": "markdown",
   "metadata": {
    "id": "rDoOMd3uTqnZ"
   },
   "source": [
    "Выведите на экран первые десять строк таблицы:"
   ]
  },
  {
   "cell_type": "code",
   "execution_count": 3,
   "metadata": {
    "id": "oWTVX3gW_Zct",
    "scrolled": true
   },
   "outputs": [
    {
     "data": {
      "text/html": [
       "<div>\n",
       "<style scoped>\n",
       "    .dataframe tbody tr th:only-of-type {\n",
       "        vertical-align: middle;\n",
       "    }\n",
       "\n",
       "    .dataframe tbody tr th {\n",
       "        vertical-align: top;\n",
       "    }\n",
       "\n",
       "    .dataframe thead th {\n",
       "        text-align: right;\n",
       "    }\n",
       "</style>\n",
       "<table border=\"1\" class=\"dataframe\">\n",
       "  <thead>\n",
       "    <tr style=\"text-align: right;\">\n",
       "      <th></th>\n",
       "      <th>userID</th>\n",
       "      <th>Track</th>\n",
       "      <th>artist</th>\n",
       "      <th>genre</th>\n",
       "      <th>City</th>\n",
       "      <th>time</th>\n",
       "      <th>Day</th>\n",
       "    </tr>\n",
       "  </thead>\n",
       "  <tbody>\n",
       "    <tr>\n",
       "      <th>0</th>\n",
       "      <td>FFB692EC</td>\n",
       "      <td>Kamigata To Boots</td>\n",
       "      <td>The Mass Missile</td>\n",
       "      <td>rock</td>\n",
       "      <td>Saint-Petersburg</td>\n",
       "      <td>20:28:33</td>\n",
       "      <td>Wednesday</td>\n",
       "    </tr>\n",
       "    <tr>\n",
       "      <th>1</th>\n",
       "      <td>55204538</td>\n",
       "      <td>Delayed Because of Accident</td>\n",
       "      <td>Andreas Rönnberg</td>\n",
       "      <td>rock</td>\n",
       "      <td>Moscow</td>\n",
       "      <td>14:07:09</td>\n",
       "      <td>Friday</td>\n",
       "    </tr>\n",
       "    <tr>\n",
       "      <th>2</th>\n",
       "      <td>20EC38</td>\n",
       "      <td>Funiculì funiculà</td>\n",
       "      <td>Mario Lanza</td>\n",
       "      <td>pop</td>\n",
       "      <td>Saint-Petersburg</td>\n",
       "      <td>20:58:07</td>\n",
       "      <td>Wednesday</td>\n",
       "    </tr>\n",
       "    <tr>\n",
       "      <th>3</th>\n",
       "      <td>A3DD03C9</td>\n",
       "      <td>Dragons in the Sunset</td>\n",
       "      <td>Fire + Ice</td>\n",
       "      <td>folk</td>\n",
       "      <td>Saint-Petersburg</td>\n",
       "      <td>08:37:09</td>\n",
       "      <td>Monday</td>\n",
       "    </tr>\n",
       "    <tr>\n",
       "      <th>4</th>\n",
       "      <td>E2DC1FAE</td>\n",
       "      <td>Soul People</td>\n",
       "      <td>Space Echo</td>\n",
       "      <td>dance</td>\n",
       "      <td>Moscow</td>\n",
       "      <td>08:34:34</td>\n",
       "      <td>Monday</td>\n",
       "    </tr>\n",
       "    <tr>\n",
       "      <th>5</th>\n",
       "      <td>842029A1</td>\n",
       "      <td>Преданная</td>\n",
       "      <td>IMPERVTOR</td>\n",
       "      <td>rusrap</td>\n",
       "      <td>Saint-Petersburg</td>\n",
       "      <td>13:09:41</td>\n",
       "      <td>Friday</td>\n",
       "    </tr>\n",
       "    <tr>\n",
       "      <th>6</th>\n",
       "      <td>4CB90AA5</td>\n",
       "      <td>True</td>\n",
       "      <td>Roman Messer</td>\n",
       "      <td>dance</td>\n",
       "      <td>Moscow</td>\n",
       "      <td>13:00:07</td>\n",
       "      <td>Wednesday</td>\n",
       "    </tr>\n",
       "    <tr>\n",
       "      <th>7</th>\n",
       "      <td>F03E1C1F</td>\n",
       "      <td>Feeling This Way</td>\n",
       "      <td>Polina Griffith</td>\n",
       "      <td>dance</td>\n",
       "      <td>Moscow</td>\n",
       "      <td>20:47:49</td>\n",
       "      <td>Wednesday</td>\n",
       "    </tr>\n",
       "    <tr>\n",
       "      <th>8</th>\n",
       "      <td>8FA1D3BE</td>\n",
       "      <td>И вновь продолжается бой</td>\n",
       "      <td>NaN</td>\n",
       "      <td>ruspop</td>\n",
       "      <td>Moscow</td>\n",
       "      <td>09:17:40</td>\n",
       "      <td>Friday</td>\n",
       "    </tr>\n",
       "    <tr>\n",
       "      <th>9</th>\n",
       "      <td>E772D5C0</td>\n",
       "      <td>Pessimist</td>\n",
       "      <td>NaN</td>\n",
       "      <td>dance</td>\n",
       "      <td>Saint-Petersburg</td>\n",
       "      <td>21:20:49</td>\n",
       "      <td>Wednesday</td>\n",
       "    </tr>\n",
       "  </tbody>\n",
       "</table>\n",
       "</div>"
      ],
      "text/plain": [
       "     userID                        Track            artist   genre  \\\n",
       "0  FFB692EC            Kamigata To Boots  The Mass Missile    rock   \n",
       "1  55204538  Delayed Because of Accident  Andreas Rönnberg    rock   \n",
       "2    20EC38            Funiculì funiculà       Mario Lanza     pop   \n",
       "3  A3DD03C9        Dragons in the Sunset        Fire + Ice    folk   \n",
       "4  E2DC1FAE                  Soul People        Space Echo   dance   \n",
       "5  842029A1                    Преданная         IMPERVTOR  rusrap   \n",
       "6  4CB90AA5                         True      Roman Messer   dance   \n",
       "7  F03E1C1F             Feeling This Way   Polina Griffith   dance   \n",
       "8  8FA1D3BE     И вновь продолжается бой               NaN  ruspop   \n",
       "9  E772D5C0                    Pessimist               NaN   dance   \n",
       "\n",
       "             City        time        Day  \n",
       "0  Saint-Petersburg  20:28:33  Wednesday  \n",
       "1            Moscow  14:07:09     Friday  \n",
       "2  Saint-Petersburg  20:58:07  Wednesday  \n",
       "3  Saint-Petersburg  08:37:09     Monday  \n",
       "4            Moscow  08:34:34     Monday  \n",
       "5  Saint-Petersburg  13:09:41     Friday  \n",
       "6            Moscow  13:00:07  Wednesday  \n",
       "7            Moscow  20:47:49  Wednesday  \n",
       "8            Moscow  09:17:40     Friday  \n",
       "9  Saint-Petersburg  21:20:49  Wednesday  "
      ]
     },
     "metadata": {},
     "output_type": "display_data"
    }
   ],
   "source": [
    "# получение первых 10 строк таблицы df\n",
    "display(df.head(10))"
   ]
  },
  {
   "cell_type": "markdown",
   "metadata": {
    "id": "EO73Kwic_Zct"
   },
   "source": [
    "Одной командой получить общую информацию о таблице:"
   ]
  },
  {
   "cell_type": "code",
   "execution_count": 4,
   "metadata": {
    "id": "DSf2kIb-_Zct",
    "scrolled": true
   },
   "outputs": [
    {
     "name": "stdout",
     "output_type": "stream",
     "text": [
      "<class 'pandas.core.frame.DataFrame'>\n",
      "RangeIndex: 65079 entries, 0 to 65078\n",
      "Data columns (total 7 columns):\n",
      " #   Column    Non-Null Count  Dtype \n",
      "---  ------    --------------  ----- \n",
      " 0     userID  65079 non-null  object\n",
      " 1   Track     63848 non-null  object\n",
      " 2   artist    57876 non-null  object\n",
      " 3   genre     63881 non-null  object\n",
      " 4     City    65079 non-null  object\n",
      " 5   time      65079 non-null  object\n",
      " 6   Day       65079 non-null  object\n",
      "dtypes: object(7)\n",
      "memory usage: 3.5+ MB\n"
     ]
    }
   ],
   "source": [
    "# получение общей информации о данных в таблице df\n",
    "df.info()"
   ]
  },
  {
   "cell_type": "markdown",
   "metadata": {
    "id": "TaQ2Iwbr_Zct"
   },
   "source": [
    "Итак, в таблице семь столбцов. Тип данных во всех столбцах — `object`.\n",
    "\n",
    "Согласно документации к данным:\n",
    "* `userID` — идентификатор пользователя;\n",
    "* `Track` — название трека;  \n",
    "* `artist` — имя исполнителя;\n",
    "* `genre` — название жанра;\n",
    "* `City` — город пользователя;\n",
    "* `time` — время начала прослушивания;\n",
    "* `Day` — день недели.\n",
    "\n",
    "В названиях колонок видны три нарушения стиля:\n",
    "1. Строчные буквы сочетаются с прописными.\n",
    "2. Встречаются пробелы.\n",
    "3. Количество значений в столбцах различается. Значит, в данных есть пропущенные значения.\n"
   ]
  },
  {
   "cell_type": "markdown",
   "metadata": {
    "id": "MCB6-dXG_Zct"
   },
   "source": [
    "**Выводы**\n",
    "\n",
    "В каждой строке таблицы — данные о прослушанном треке. Часть колонок описывает саму композицию: название, исполнителя и жанр. Остальные данные рассказывают о пользователе: из какого он города, когда он слушал музыку. \n",
    "\n",
    "Предварительно можно утверждать, что, данных достаточно для проверки гипотез. Но встречаются пропуски в данных, а в названиях колонок — расхождения с хорошим стилем.\n",
    "\n",
    "Чтобы двигаться дальше, нужно устранить проблемы в данных."
   ]
  },
  {
   "cell_type": "markdown",
   "metadata": {
    "id": "SjYF6Ub9_Zct"
   },
   "source": [
    "## Предобработка данных\n",
    "Исправьте стиль в заголовках столбцов, исключите пропуски. Затем проверьте данные на дубликаты."
   ]
  },
  {
   "cell_type": "markdown",
   "metadata": {
    "id": "dIaKXr29_Zct"
   },
   "source": [
    "### Стиль заголовков\n",
    "Выведите на экран названия столбцов:"
   ]
  },
  {
   "cell_type": "code",
   "execution_count": 5,
   "metadata": {
    "id": "oKOTdF_Q_Zct"
   },
   "outputs": [
    {
     "data": {
      "text/plain": [
       "Index(['  userID', 'Track', 'artist', 'genre', '  City  ', 'time', 'Day'], dtype='object')"
      ]
     },
     "execution_count": 5,
     "metadata": {},
     "output_type": "execute_result"
    }
   ],
   "source": [
    "# перечень названий столбцов таблицы df\n",
    "df.columns"
   ]
  },
  {
   "cell_type": "markdown",
   "metadata": {
    "id": "FPZA3ki8xe7T"
   },
   "source": []
  },
  {
   "cell_type": "markdown",
   "metadata": {
    "id": "zj5534cv_Zct"
   },
   "source": [
    "Приведите названия в соответствие с хорошим стилем:\n",
    "* несколько слов в названии запишите в «змеином_регистре»,\n",
    "* все символы сделайте строчными,\n",
    "* устраните пробелы.\n",
    "\n",
    "Для этого переименуйте колонки так:\n",
    "* `'  userID'` → `'user_id'`;\n",
    "* `'Track'` → `'track'`;\n",
    "* `'  City  '` → `'city'`;\n",
    "* `'Day'` → `'day'`."
   ]
  },
  {
   "cell_type": "code",
   "execution_count": 6,
   "metadata": {
    "id": "ISlFqs5y_Zct"
   },
   "outputs": [],
   "source": [
    "# переименование столбцов\n",
    "df = df.rename(columns={'  userID':'user_id', 'Track':'track', '  City  ':'city', 'Day':'day'})"
   ]
  },
  {
   "cell_type": "markdown",
   "metadata": {
    "id": "1dqbh00J_Zct"
   },
   "source": [
    "Проверьте результат. Для этого ещё раз выведите на экран названия столбцов:"
   ]
  },
  {
   "cell_type": "code",
   "execution_count": 7,
   "metadata": {
    "id": "d4NOAmTW_Zct"
   },
   "outputs": [
    {
     "data": {
      "text/plain": [
       "Index(['user_id', 'track', 'artist', 'genre', 'city', 'time', 'day'], dtype='object')"
      ]
     },
     "execution_count": 7,
     "metadata": {},
     "output_type": "execute_result"
    }
   ],
   "source": [
    "# проверка результатов - перечень названий столбцов\n",
    "df.columns"
   ]
  },
  {
   "cell_type": "markdown",
   "metadata": {
    "id": "5ISfbcfY_Zct"
   },
   "source": [
    "### Пропуски значений\n",
    "Сначала посчитайте, сколько в таблице пропущенных значений. Для этого достаточно двух методов `pandas`:"
   ]
  },
  {
   "cell_type": "code",
   "execution_count": 8,
   "metadata": {
    "id": "RskX29qr_Zct"
   },
   "outputs": [
    {
     "data": {
      "text/plain": [
       "user_id       0\n",
       "track      1231\n",
       "artist     7203\n",
       "genre      1198\n",
       "city          0\n",
       "time          0\n",
       "day           0\n",
       "dtype: int64"
      ]
     },
     "execution_count": 8,
     "metadata": {},
     "output_type": "execute_result"
    }
   ],
   "source": [
    "df.isna().sum() # подсчёт пропусков"
   ]
  },
  {
   "cell_type": "markdown",
   "metadata": {
    "id": "qubhgnlO_Zct"
   },
   "source": [
    "Не все пропущенные значения влияют на исследование. Так в `track` и `artist` пропуски не важны для вашей работы. Достаточно заменить их явными обозначениями.\n",
    "\n",
    "Но пропуски в `genre` могут помешать сравнению музыкальных вкусов в Москве и Санкт-Петербурге. На практике было бы правильно установить причину пропусков и восстановить данные. Такой возможности нет в учебном проекте. Придётся:\n",
    "* заполнить и эти пропуски явными обозначениями,\n",
    "* оценить, насколько они повредят расчётам. "
   ]
  },
  {
   "cell_type": "markdown",
   "metadata": {
    "id": "fSv2laPA_Zct"
   },
   "source": [
    "Замените пропущенные значения в столбцах `track`, `artist` и `genre` на строку `'unknown'`. Для этого создайте список `columns_to_replace`, переберите его элементы циклом `for` и для каждого столбца выполните замену пропущенных значений:"
   ]
  },
  {
   "cell_type": "code",
   "execution_count": 9,
   "metadata": {
    "id": "KplB5qWs_Zct"
   },
   "outputs": [],
   "source": [
    "# перебор названий столбцов в цикле и замена пропущенных значений на 'unknown'\n",
    "columns_to_replace = ['track', 'artist', 'genre']\n",
    "for columns in columns_to_replace:\n",
    "    df[columns] = df[columns].fillna('unknown')"
   ]
  },
  {
   "cell_type": "markdown",
   "metadata": {
    "id": "Ilsm-MZo_Zct"
   },
   "source": [
    "Убедитесь, что в таблице не осталось пропусков. Для этого ещё раз посчитайте пропущенные значения."
   ]
  },
  {
   "cell_type": "code",
   "execution_count": 10,
   "metadata": {
    "id": "Tq4nYRX4_Zct"
   },
   "outputs": [
    {
     "data": {
      "text/plain": [
       "user_id    0\n",
       "track      0\n",
       "artist     0\n",
       "genre      0\n",
       "city       0\n",
       "time       0\n",
       "day        0\n",
       "dtype: int64"
      ]
     },
     "execution_count": 10,
     "metadata": {},
     "output_type": "execute_result"
    }
   ],
   "source": [
    "# подсчёт пропусков\n",
    "df.isna().sum()"
   ]
  },
  {
   "cell_type": "markdown",
   "metadata": {
    "id": "BWKRtBJ3_Zct"
   },
   "source": [
    "### Дубликаты\n",
    "Посчитайте явные дубликаты в таблице одной командой:"
   ]
  },
  {
   "cell_type": "code",
   "execution_count": 11,
   "metadata": {
    "id": "36eES_S0_Zct"
   },
   "outputs": [
    {
     "data": {
      "text/plain": [
       "3826"
      ]
     },
     "execution_count": 11,
     "metadata": {},
     "output_type": "execute_result"
    }
   ],
   "source": [
    "# подсчёт явных дубликатов\n",
    "df.duplicated().sum()"
   ]
  },
  {
   "cell_type": "markdown",
   "metadata": {
    "id": "Ot25h6XR_Zct"
   },
   "source": [
    "Вызовите специальный метод `pandas`, чтобы удалить явные дубликаты:"
   ]
  },
  {
   "cell_type": "code",
   "execution_count": 12,
   "metadata": {
    "id": "exFHq6tt_Zct"
   },
   "outputs": [],
   "source": [
    "# удаление явных дубликатов (с удалением старых индексов и формированием новых)\n",
    "df = df.drop_duplicates().reset_index(drop=True)"
   ]
  },
  {
   "cell_type": "markdown",
   "metadata": {
    "id": "Im2YwBEG_Zct"
   },
   "source": [
    "Ещё раз посчитайте явные дубликаты в таблице — убедитесь, что полностью от них избавились:"
   ]
  },
  {
   "cell_type": "code",
   "execution_count": 13,
   "metadata": {
    "id": "-8PuNWQ0_Zct",
    "scrolled": true
   },
   "outputs": [
    {
     "data": {
      "text/plain": [
       "0"
      ]
     },
     "execution_count": 13,
     "metadata": {},
     "output_type": "execute_result"
    }
   ],
   "source": [
    "# проверка на отсутствие дубликатов\n",
    "df.duplicated().sum()"
   ]
  },
  {
   "cell_type": "markdown",
   "metadata": {
    "id": "QlFBsxAr_Zct"
   },
   "source": [
    "Теперь избавьтесь от неявных дубликатов в колонке `genre`. Например, название одного и того же жанра может быть записано немного по-разному. Такие ошибки тоже повлияют на результат исследования."
   ]
  },
  {
   "cell_type": "markdown",
   "metadata": {
    "id": "eSjWwsOh_Zct"
   },
   "source": [
    "Выведите на экран список уникальных названий жанров, отсортированный в алфавитном порядке. Для этого:\n",
    "* извлеките нужный столбец датафрейма, \n",
    "* примените к нему метод сортировки,\n",
    "* для отсортированного столбца вызовите метод, который вернёт уникальные значения из столбца."
   ]
  },
  {
   "cell_type": "code",
   "execution_count": 14,
   "metadata": {
    "id": "JIUcqzZN_Zct"
   },
   "outputs": [
    {
     "data": {
      "text/plain": [
       "array(['acid', 'acoustic', 'action', 'adult', 'africa', 'afrikaans',\n",
       "       'alternative', 'alternativepunk', 'ambient', 'americana',\n",
       "       'animated', 'anime', 'arabesk', 'arabic', 'arena',\n",
       "       'argentinetango', 'art', 'audiobook', 'author', 'avantgarde',\n",
       "       'axé', 'baile', 'balkan', 'beats', 'bigroom', 'black', 'bluegrass',\n",
       "       'blues', 'bollywood', 'bossa', 'brazilian', 'breakbeat', 'breaks',\n",
       "       'broadway', 'cantautori', 'cantopop', 'canzone', 'caribbean',\n",
       "       'caucasian', 'celtic', 'chamber', 'chanson', 'children', 'chill',\n",
       "       'chinese', 'choral', 'christian', 'christmas', 'classical',\n",
       "       'classicmetal', 'club', 'colombian', 'comedy', 'conjazz',\n",
       "       'contemporary', 'country', 'cuban', 'dance', 'dancehall',\n",
       "       'dancepop', 'dark', 'death', 'deep', 'deutschrock', 'deutschspr',\n",
       "       'dirty', 'disco', 'dnb', 'documentary', 'downbeat', 'downtempo',\n",
       "       'drum', 'dub', 'dubstep', 'eastern', 'easy', 'electronic',\n",
       "       'electropop', 'emo', 'entehno', 'epicmetal', 'estrada', 'ethnic',\n",
       "       'eurofolk', 'european', 'experimental', 'extrememetal', 'fado',\n",
       "       'fairytail', 'film', 'fitness', 'flamenco', 'folk', 'folklore',\n",
       "       'folkmetal', 'folkrock', 'folktronica', 'forró', 'frankreich',\n",
       "       'französisch', 'french', 'funk', 'future', 'gangsta', 'garage',\n",
       "       'german', 'ghazal', 'gitarre', 'glitch', 'gospel', 'gothic',\n",
       "       'grime', 'grunge', 'gypsy', 'handsup', \"hard'n'heavy\", 'hardcore',\n",
       "       'hardstyle', 'hardtechno', 'hip', 'hip-hop', 'hiphop',\n",
       "       'historisch', 'holiday', 'hop', 'horror', 'house', 'hymn', 'idm',\n",
       "       'independent', 'indian', 'indie', 'indipop', 'industrial',\n",
       "       'inspirational', 'instrumental', 'international', 'irish', 'jam',\n",
       "       'japanese', 'jazz', 'jewish', 'jpop', 'jungle', 'k-pop',\n",
       "       'karadeniz', 'karaoke', 'kayokyoku', 'korean', 'laiko', 'latin',\n",
       "       'latino', 'leftfield', 'local', 'lounge', 'loungeelectronic',\n",
       "       'lovers', 'malaysian', 'mandopop', 'marschmusik', 'meditative',\n",
       "       'mediterranean', 'melodic', 'metal', 'metalcore', 'mexican',\n",
       "       'middle', 'minimal', 'miscellaneous', 'modern', 'mood', 'mpb',\n",
       "       'muslim', 'native', 'neoklassik', 'neue', 'new', 'newage',\n",
       "       'newwave', 'nu', 'nujazz', 'numetal', 'oceania', 'old', 'opera',\n",
       "       'orchestral', 'other', 'piano', 'podcasts', 'pop', 'popdance',\n",
       "       'popelectronic', 'popeurodance', 'poprussian', 'post',\n",
       "       'posthardcore', 'postrock', 'power', 'progmetal', 'progressive',\n",
       "       'psychedelic', 'punjabi', 'punk', 'quebecois', 'ragga', 'ram',\n",
       "       'rancheras', 'rap', 'rave', 'reggae', 'reggaeton', 'regional',\n",
       "       'relax', 'religious', 'retro', 'rhythm', 'rnb', 'rnr', 'rock',\n",
       "       'rockabilly', 'rockalternative', 'rockindie', 'rockother',\n",
       "       'romance', 'roots', 'ruspop', 'rusrap', 'rusrock', 'russian',\n",
       "       'salsa', 'samba', 'scenic', 'schlager', 'self', 'sertanejo',\n",
       "       'shanson', 'shoegazing', 'showtunes', 'singer', 'ska', 'skarock',\n",
       "       'slow', 'smooth', 'soft', 'soul', 'soulful', 'sound', 'soundtrack',\n",
       "       'southern', 'specialty', 'speech', 'spiritual', 'sport',\n",
       "       'stonerrock', 'surf', 'swing', 'synthpop', 'synthrock',\n",
       "       'sängerportrait', 'tango', 'tanzorchester', 'taraftar', 'tatar',\n",
       "       'tech', 'techno', 'teen', 'thrash', 'top', 'traditional',\n",
       "       'tradjazz', 'trance', 'tribal', 'trip', 'triphop', 'tropical',\n",
       "       'türk', 'türkçe', 'ukrrock', 'unknown', 'urban', 'uzbek',\n",
       "       'variété', 'vi', 'videogame', 'vocal', 'western', 'world',\n",
       "       'worldbeat', 'ïîï', 'электроника'], dtype=object)"
      ]
     },
     "execution_count": 14,
     "metadata": {},
     "output_type": "execute_result"
    }
   ],
   "source": [
    "# Просмотр уникальных названий жанров\n",
    "#print(sorted(df['genre'].unique())) !работает\n",
    "df['genre'].sort_values().unique()"
   ]
  },
  {
   "cell_type": "markdown",
   "metadata": {
    "id": "qej-Qmuo_Zct"
   },
   "source": [
    "Просмотрите список и найдите неявные дубликаты названия `hiphop`. Это могут быть названия с ошибками или альтернативные названия того же жанра.\n",
    "\n",
    "Вы увидите следующие неявные дубликаты:\n",
    "* *hip*,\n",
    "* *hop*,\n",
    "* *hip-hop*.\n",
    "\n",
    "Чтобы очистить от них таблицу, напишите функцию `replace_wrong_genres()` с двумя параметрами: \n",
    "* `wrong_genres` — список дубликатов,\n",
    "* `correct_genre` — строка с правильным значением.\n",
    "\n",
    "Функция должна исправить колонку `genre` в таблице `df`: заменить каждое значение из списка `wrong_genres` на значение из `correct_genre`."
   ]
  },
  {
   "cell_type": "code",
   "execution_count": 15,
   "metadata": {
    "id": "ErNDkmns_Zct"
   },
   "outputs": [],
   "source": [
    "# Функция для замены неявных дубликатов\n",
    "def replace_wrong_genres(wrong_genres, correct_genre): # на входе функции список неверных значений и с верным\n",
    "    for genres in wrong_genres: # перебор неверных значений\n",
    "        df['genre'] = df['genre'].replace(genres, correct_genre) # через replace() замена на верное значение\n"
   ]
  },
  {
   "cell_type": "markdown",
   "metadata": {
    "id": "aDoBJxbA_Zct"
   },
   "source": [
    "Вызовите `replace_wrong_genres()` и передайте ей такие аргументы, чтобы она устранила неявные дубликаты: вместо `hip`, `hop` и `hip-hop` в таблице должно быть значение `hiphop`:"
   ]
  },
  {
   "cell_type": "code",
   "execution_count": 16,
   "metadata": {
    "id": "YN5i2hpmSo09"
   },
   "outputs": [],
   "source": [
    "# Устранение неявных дубликатов\n",
    "duplicates = ['hip', 'hop', 'hip-hop'] # список дубликатов\n",
    "genre = 'hiphop' # верное\n",
    "replace_wrong_genres(duplicates, genre)\n",
    "\n",
    "duplicates = ['электроника']\n",
    "genre = 'electronic'\n",
    "replace_wrong_genres(duplicates, genre)\n",
    "\n",
    "\n",
    "#df['genre'] = df['genre'].replace('электроника', 'electronic') # или так в единичном случае"
   ]
  },
  {
   "cell_type": "markdown",
   "metadata": {
    "id": "zQKF16_RG15m"
   },
   "source": [
    "Проверьте, что заменили неправильные названия:\n",
    "\n",
    "*   hip\n",
    "*   hop\n",
    "*   hip-hop\n",
    "\n",
    "Выведите отсортированный список уникальных значений столбца `genre`:"
   ]
  },
  {
   "cell_type": "code",
   "execution_count": 17,
   "metadata": {
    "id": "wvixALnFG15m"
   },
   "outputs": [
    {
     "data": {
      "text/plain": [
       "array(['acid', 'acoustic', 'action', 'adult', 'africa', 'afrikaans',\n",
       "       'alternative', 'alternativepunk', 'ambient', 'americana',\n",
       "       'animated', 'anime', 'arabesk', 'arabic', 'arena',\n",
       "       'argentinetango', 'art', 'audiobook', 'author', 'avantgarde',\n",
       "       'axé', 'baile', 'balkan', 'beats', 'bigroom', 'black', 'bluegrass',\n",
       "       'blues', 'bollywood', 'bossa', 'brazilian', 'breakbeat', 'breaks',\n",
       "       'broadway', 'cantautori', 'cantopop', 'canzone', 'caribbean',\n",
       "       'caucasian', 'celtic', 'chamber', 'chanson', 'children', 'chill',\n",
       "       'chinese', 'choral', 'christian', 'christmas', 'classical',\n",
       "       'classicmetal', 'club', 'colombian', 'comedy', 'conjazz',\n",
       "       'contemporary', 'country', 'cuban', 'dance', 'dancehall',\n",
       "       'dancepop', 'dark', 'death', 'deep', 'deutschrock', 'deutschspr',\n",
       "       'dirty', 'disco', 'dnb', 'documentary', 'downbeat', 'downtempo',\n",
       "       'drum', 'dub', 'dubstep', 'eastern', 'easy', 'electronic',\n",
       "       'electropop', 'emo', 'entehno', 'epicmetal', 'estrada', 'ethnic',\n",
       "       'eurofolk', 'european', 'experimental', 'extrememetal', 'fado',\n",
       "       'fairytail', 'film', 'fitness', 'flamenco', 'folk', 'folklore',\n",
       "       'folkmetal', 'folkrock', 'folktronica', 'forró', 'frankreich',\n",
       "       'französisch', 'french', 'funk', 'future', 'gangsta', 'garage',\n",
       "       'german', 'ghazal', 'gitarre', 'glitch', 'gospel', 'gothic',\n",
       "       'grime', 'grunge', 'gypsy', 'handsup', \"hard'n'heavy\", 'hardcore',\n",
       "       'hardstyle', 'hardtechno', 'hiphop', 'historisch', 'holiday',\n",
       "       'horror', 'house', 'hymn', 'idm', 'independent', 'indian', 'indie',\n",
       "       'indipop', 'industrial', 'inspirational', 'instrumental',\n",
       "       'international', 'irish', 'jam', 'japanese', 'jazz', 'jewish',\n",
       "       'jpop', 'jungle', 'k-pop', 'karadeniz', 'karaoke', 'kayokyoku',\n",
       "       'korean', 'laiko', 'latin', 'latino', 'leftfield', 'local',\n",
       "       'lounge', 'loungeelectronic', 'lovers', 'malaysian', 'mandopop',\n",
       "       'marschmusik', 'meditative', 'mediterranean', 'melodic', 'metal',\n",
       "       'metalcore', 'mexican', 'middle', 'minimal', 'miscellaneous',\n",
       "       'modern', 'mood', 'mpb', 'muslim', 'native', 'neoklassik', 'neue',\n",
       "       'new', 'newage', 'newwave', 'nu', 'nujazz', 'numetal', 'oceania',\n",
       "       'old', 'opera', 'orchestral', 'other', 'piano', 'podcasts', 'pop',\n",
       "       'popdance', 'popelectronic', 'popeurodance', 'poprussian', 'post',\n",
       "       'posthardcore', 'postrock', 'power', 'progmetal', 'progressive',\n",
       "       'psychedelic', 'punjabi', 'punk', 'quebecois', 'ragga', 'ram',\n",
       "       'rancheras', 'rap', 'rave', 'reggae', 'reggaeton', 'regional',\n",
       "       'relax', 'religious', 'retro', 'rhythm', 'rnb', 'rnr', 'rock',\n",
       "       'rockabilly', 'rockalternative', 'rockindie', 'rockother',\n",
       "       'romance', 'roots', 'ruspop', 'rusrap', 'rusrock', 'russian',\n",
       "       'salsa', 'samba', 'scenic', 'schlager', 'self', 'sertanejo',\n",
       "       'shanson', 'shoegazing', 'showtunes', 'singer', 'ska', 'skarock',\n",
       "       'slow', 'smooth', 'soft', 'soul', 'soulful', 'sound', 'soundtrack',\n",
       "       'southern', 'specialty', 'speech', 'spiritual', 'sport',\n",
       "       'stonerrock', 'surf', 'swing', 'synthpop', 'synthrock',\n",
       "       'sängerportrait', 'tango', 'tanzorchester', 'taraftar', 'tatar',\n",
       "       'tech', 'techno', 'teen', 'thrash', 'top', 'traditional',\n",
       "       'tradjazz', 'trance', 'tribal', 'trip', 'triphop', 'tropical',\n",
       "       'türk', 'türkçe', 'ukrrock', 'unknown', 'urban', 'uzbek',\n",
       "       'variété', 'vi', 'videogame', 'vocal', 'western', 'world',\n",
       "       'worldbeat', 'ïîï'], dtype=object)"
      ]
     },
     "execution_count": 17,
     "metadata": {},
     "output_type": "execute_result"
    }
   ],
   "source": [
    "# Проверка на неявные дубликаты\n",
    "df['genre'].sort_values().unique()"
   ]
  },
  {
   "cell_type": "markdown",
   "metadata": {
    "id": "jz6a9-7HQUDd"
   },
   "source": [
    "**Выводы**\n",
    "\n",
    "Предобработка обнаружила три проблемы в данных:\n",
    "\n",
    "- нарушения в стиле заголовков,\n",
    "- пропущенные значения,\n",
    "- дубликаты — явные и неявные.\n",
    "\n",
    "Вы исправили заголовки, чтобы упростить работу с таблицей. Без дубликатов исследование станет более точным.\n",
    "\n",
    "Пропущенные значения вы заменили на `'unknown'`. Ещё предстоит увидеть, не повредят ли исследованию пропуски в колонке `genre`.\n",
    "\n",
    "Теперь можно перейти к проверке гипотез. "
   ]
  },
  {
   "cell_type": "markdown",
   "metadata": {
    "id": "WttZHXH0SqKk"
   },
   "source": [
    "## Проверка гипотез"
   ]
  },
  {
   "cell_type": "markdown",
   "metadata": {
    "id": "Im936VVi_Zcu"
   },
   "source": [
    "### Сравнение поведения пользователей двух столиц"
   ]
  },
  {
   "cell_type": "markdown",
   "metadata": {
    "id": "nwt_MuaL_Zcu"
   },
   "source": [
    "Первая гипотеза утверждает, что пользователи по-разному слушают музыку в Москве и Санкт-Петербурге. Проверьте это предположение по данным о трёх днях недели — понедельнике, среде и пятнице. Для этого:\n",
    "\n",
    "* Разделите пользователей Москвы и Санкт-Петербурга\n",
    "* Сравните, сколько треков послушала каждая группа пользователей в понедельник, среду и пятницу.\n"
   ]
  },
  {
   "cell_type": "markdown",
   "metadata": {
    "id": "8Dw_YMmT_Zcu"
   },
   "source": [
    "Для тренировки сначала выполните каждый из расчётов по отдельности. \n",
    "\n",
    "Оцените активность пользователей в каждом городе. Сгруппируйте данные по городу и посчитайте прослушивания в каждой группе.\n",
    "\n"
   ]
  },
  {
   "cell_type": "code",
   "execution_count": 18,
   "metadata": {
    "id": "0_Qs96oh_Zcu"
   },
   "outputs": [
    {
     "data": {
      "text/plain": [
       "city\n",
       "Moscow              42741\n",
       "Saint-Petersburg    18512\n",
       "Name: track, dtype: int64"
      ]
     },
     "execution_count": 18,
     "metadata": {},
     "output_type": "execute_result"
    }
   ],
   "source": [
    "# Подсчёт прослушиваний в каждом городе\n",
    "active_inhabitant = df.groupby('city')['track'].count()\n",
    "active_inhabitant\n",
    "\n"
   ]
  },
  {
   "cell_type": "markdown",
   "metadata": {
    "id": "dzli3w8o_Zcu"
   },
   "source": [
    "В Москве прослушиваний больше, чем в Петербурге. Из этого не следует, что московские пользователи чаще слушают музыку. Просто самих пользователей в Москве больше.\n",
    "\n",
    "Теперь сгруппируйте данные по дню недели и подсчитайте прослушивания в понедельник, среду и пятницу. Учтите, что в данных есть информация о прослушиваниях только за эти дни.\n"
   ]
  },
  {
   "cell_type": "code",
   "execution_count": 19,
   "metadata": {
    "id": "uZMKjiJz_Zcu"
   },
   "outputs": [
    {
     "data": {
      "text/plain": [
       "day\n",
       "Friday       21840\n",
       "Monday       21354\n",
       "Wednesday    18059\n",
       "Name: track, dtype: int64"
      ]
     },
     "execution_count": 19,
     "metadata": {},
     "output_type": "execute_result"
    }
   ],
   "source": [
    "# Подсчёт прослушиваний в каждый из трёх дней\n",
    "active_day = df.groupby('day')['track'].count()\n",
    "active_day"
   ]
  },
  {
   "cell_type": "markdown",
   "metadata": {
    "id": "cC2tNrlL_Zcu"
   },
   "source": [
    "В среднем пользователи из двух городов менее активны по средам. Но картина может измениться, если рассмотреть каждый город в отдельности."
   ]
  },
  {
   "cell_type": "markdown",
   "metadata": {
    "id": "POzs8bGa_Zcu"
   },
   "source": [
    "Вы видели, как работает группировка по городу и по дням недели. Теперь напишите функцию, которая объединит два эти расчёта.\n",
    "\n",
    "Создайте функцию `number_tracks()`, которая посчитает прослушивания для заданного дня и города. Ей понадобятся два параметра:\n",
    "* день недели,\n",
    "* название города.\n",
    "\n",
    "В функции сохраните в переменную строки исходной таблицы, у которых значение:\n",
    "  * в колонке `day` равно параметру `day`,\n",
    "  * в колонке `city` равно параметру `city`.\n",
    "\n",
    "Для этого примените последовательную фильтрацию с логической индексацией.\n",
    "\n",
    "Затем посчитайте значения в столбце `user_id` получившейся таблицы. Результат сохраните в новую переменную. Верните эту переменную из функции."
   ]
  },
  {
   "cell_type": "code",
   "execution_count": 20,
   "metadata": {
    "id": "Nz3GdQB1_Zcu"
   },
   "outputs": [],
   "source": [
    "# <создание функции number_tracks()>\n",
    "# Объявляется функция с двумя параметрами: day, city.\n",
    "# В переменной track_list сохраняются те строки таблицы df, для которых \n",
    "# значение в столбце 'day' равно параметру day и одновременно значение\n",
    "# в столбце 'city' равно параметру city (используйте последовательную фильтрацию\n",
    "# с помощью логической индексации).\n",
    "# В переменной track_list_count сохраняется число значений столбца 'user_id',\n",
    "# рассчитанное методом count() для таблицы track_list.\n",
    "# Функция возвращает число - значение track_list_count.\n",
    "\n",
    "# Функция для подсчёта прослушиваний для конкретного города и дня.\n",
    "# С помощью последовательной фильтрации с логической индексацией она \n",
    "# сначала получит из исходной таблицы строки с нужным днём,\n",
    "# затем из результата отфильтрует строки с нужным городом,\n",
    "# методом count() посчитает количество значений в колонке user_id. \n",
    "# Это количество функция вернёт в качестве результата\n",
    "def number_tracks(df, day, city):\n",
    "    track_list = df[(df['day'] == day) & (df['city'] == city)]\n",
    "    track_list_count = track_list['user_id'].count()\n",
    "    return track_list_count\n"
   ]
  },
  {
   "cell_type": "markdown",
   "metadata": {
    "id": "ytf7xFrFJQ2r"
   },
   "source": [
    "Вызовите `number_tracks()` шесть раз, меняя значение параметров — так, чтобы получить данные для каждого города в каждый из трёх дней."
   ]
  },
  {
   "cell_type": "code",
   "execution_count": 21,
   "metadata": {
    "id": "rJcRATNQ_Zcu"
   },
   "outputs": [
    {
     "data": {
      "text/plain": [
       "15740"
      ]
     },
     "execution_count": 21,
     "metadata": {},
     "output_type": "execute_result"
    }
   ],
   "source": [
    "# количество прослушиваний в Москве по понедельникам\n",
    "number_tracks(df, 'Monday', 'Moscow')"
   ]
  },
  {
   "cell_type": "code",
   "execution_count": 22,
   "metadata": {
    "id": "hq_ncZ5T_Zcu"
   },
   "outputs": [
    {
     "data": {
      "text/plain": [
       "5614"
      ]
     },
     "execution_count": 22,
     "metadata": {},
     "output_type": "execute_result"
    }
   ],
   "source": [
    "# количество прослушиваний в Санкт-Петербурге по понедельникам\n",
    "number_tracks(df, 'Monday', 'Saint-Petersburg')"
   ]
  },
  {
   "cell_type": "code",
   "execution_count": 23,
   "metadata": {
    "id": "_NTy2VPU_Zcu"
   },
   "outputs": [
    {
     "data": {
      "text/plain": [
       "11056"
      ]
     },
     "execution_count": 23,
     "metadata": {},
     "output_type": "execute_result"
    }
   ],
   "source": [
    "# количество прослушиваний в Москве по средам\n",
    "number_tracks(df, 'Wednesday', 'Moscow')"
   ]
  },
  {
   "cell_type": "code",
   "execution_count": 24,
   "metadata": {
    "id": "j2y3TAwo_Zcu"
   },
   "outputs": [
    {
     "data": {
      "text/plain": [
       "7003"
      ]
     },
     "execution_count": 24,
     "metadata": {},
     "output_type": "execute_result"
    }
   ],
   "source": [
    "# количество прослушиваний в Санкт-Петербурге по средам\n",
    "number_tracks(df, 'Wednesday', 'Saint-Petersburg')"
   ]
  },
  {
   "cell_type": "code",
   "execution_count": 25,
   "metadata": {
    "id": "vYDw5u_K_Zcu"
   },
   "outputs": [
    {
     "data": {
      "text/plain": [
       "15945"
      ]
     },
     "execution_count": 25,
     "metadata": {},
     "output_type": "execute_result"
    }
   ],
   "source": [
    "# количество прослушиваний в Москве по пятницам\n",
    "number_tracks(df, 'Friday', 'Moscow')"
   ]
  },
  {
   "cell_type": "code",
   "execution_count": 26,
   "metadata": {
    "id": "8_yzFtW3_Zcu"
   },
   "outputs": [
    {
     "data": {
      "text/plain": [
       "5895"
      ]
     },
     "execution_count": 26,
     "metadata": {},
     "output_type": "execute_result"
    }
   ],
   "source": [
    "# количество прослушиваний в Санкт-Петербурге по пятницам\n",
    "number_tracks(df, 'Friday', 'Saint-Petersburg')"
   ]
  },
  {
   "cell_type": "markdown",
   "metadata": {
    "id": "7QXffbO-_Zcu"
   },
   "source": [
    "Создайте c помощью конструктора `pd.DataFrame` таблицу, где\n",
    "* названия колонок — `['city', 'monday', 'wednesday', 'friday']`;\n",
    "* данные — результаты, которые вы получили с помощью `number_tracks`."
   ]
  },
  {
   "cell_type": "code",
   "execution_count": 27,
   "metadata": {
    "id": "APAcLpOr_Zcu",
    "scrolled": false
   },
   "outputs": [
    {
     "data": {
      "text/html": [
       "<div>\n",
       "<style scoped>\n",
       "    .dataframe tbody tr th:only-of-type {\n",
       "        vertical-align: middle;\n",
       "    }\n",
       "\n",
       "    .dataframe tbody tr th {\n",
       "        vertical-align: top;\n",
       "    }\n",
       "\n",
       "    .dataframe thead th {\n",
       "        text-align: right;\n",
       "    }\n",
       "</style>\n",
       "<table border=\"1\" class=\"dataframe\">\n",
       "  <thead>\n",
       "    <tr style=\"text-align: right;\">\n",
       "      <th></th>\n",
       "      <th>city</th>\n",
       "      <th>monday</th>\n",
       "      <th>wednesday</th>\n",
       "      <th>friday</th>\n",
       "    </tr>\n",
       "  </thead>\n",
       "  <tbody>\n",
       "    <tr>\n",
       "      <th>0</th>\n",
       "      <td>Moscow</td>\n",
       "      <td>15740</td>\n",
       "      <td>11056</td>\n",
       "      <td>15945</td>\n",
       "    </tr>\n",
       "    <tr>\n",
       "      <th>1</th>\n",
       "      <td>Saint-Petersburg</td>\n",
       "      <td>5614</td>\n",
       "      <td>7003</td>\n",
       "      <td>5895</td>\n",
       "    </tr>\n",
       "  </tbody>\n",
       "</table>\n",
       "</div>"
      ],
      "text/plain": [
       "               city  monday  wednesday  friday\n",
       "0            Moscow   15740      11056   15945\n",
       "1  Saint-Petersburg    5614       7003    5895"
      ]
     },
     "execution_count": 27,
     "metadata": {},
     "output_type": "execute_result"
    }
   ],
   "source": [
    "# Таблица с результатами\n",
    "data = [['Moscow', 15740, 11056, 15945],\n",
    "       ['Saint-Petersburg', 5614, 7003, 5895]]\n",
    "columns = ['city','monday','wednesday','friday']\n",
    "table = pd.DataFrame(data = data, columns = columns)\n",
    "table\n",
    "\n",
    "## судя по некоторым ответам на вопросы из задания 3.2 (в чате Slack) \n",
    "## таблицу составил не совсем верно, потому как при обращении к ней не удавалось продолжить"
   ]
  },
  {
   "cell_type": "markdown",
   "metadata": {
    "id": "-EgPIHYu_Zcu"
   },
   "source": [
    "**Выводы**\n",
    "\n",
    "Данные показывают разницу поведения пользователей:\n",
    "\n",
    "- В Москве пик прослушиваний приходится на понедельник и пятницу, а в среду заметен спад.\n",
    "- В Петербурге, наоборот, больше слушают музыку по средам. Активность в понедельник и пятницу здесь почти в равной мере уступает среде.\n",
    "\n",
    "Значит, данные говорят в пользу первой гипотезы."
   ]
  },
  {
   "cell_type": "markdown",
   "metadata": {
    "id": "atZAxtq4_Zcu"
   },
   "source": [
    "### Музыка в начале и в конце недели"
   ]
  },
  {
   "cell_type": "markdown",
   "metadata": {
    "id": "eXrQqXFH_Zcu"
   },
   "source": [
    "Согласно второй гипотезе, утром в понедельник в Москве преобладают одни жанры, а в Петербурге — другие. Так же и вечером пятницы преобладают разные жанры — в зависимости от города."
   ]
  },
  {
   "cell_type": "markdown",
   "metadata": {
    "id": "S8UcW6Hw_Zcu"
   },
   "source": [
    "Сохраните таблицы с данными в две переменные:\n",
    "* по Москве — в `moscow_general`;\n",
    "* по Санкт-Петербургу — в `spb_general`."
   ]
  },
  {
   "cell_type": "code",
   "execution_count": 28,
   "metadata": {
    "id": "qeaFfM_P_Zcu"
   },
   "outputs": [],
   "source": [
    "# получение таблицы moscow_general из тех строк таблицы df, \n",
    "# для которых значение в столбце 'city' равно 'Moscow'\n",
    "moscow_general=df[df['city'] == 'Moscow']"
   ]
  },
  {
   "cell_type": "code",
   "execution_count": 29,
   "metadata": {
    "id": "ORaVRKto_Zcu"
   },
   "outputs": [],
   "source": [
    "# получение таблицы spb_general из тех строк таблицы df,\n",
    "# для которых значение в столбце 'city' равно 'Saint-Petersburg'\n",
    "spb_general=df[df['city']=='Saint-Petersburg']"
   ]
  },
  {
   "cell_type": "markdown",
   "metadata": {
    "id": "MEJV-CX2_Zcu"
   },
   "source": [
    "Создайте функцию `genre_weekday()` с четырьмя параметрами:\n",
    "* таблица (датафрейм) с данными,\n",
    "* день недели,\n",
    "* начальная временная метка в формате 'hh:mm', \n",
    "* последняя временная метка в формате 'hh:mm'.\n",
    "\n",
    "Функция должна вернуть информацию о топ-10 жанров тех треков, которые прослушивали в указанный день, в промежутке между двумя отметками времени."
   ]
  },
  {
   "cell_type": "code",
   "execution_count": 30,
   "metadata": {
    "id": "laJT9BYl_Zcu"
   },
   "outputs": [],
   "source": [
    "# Объявление функции genre_weekday() с параметрами table, day, time1, time2,\n",
    "# которая возвращает информацию о самых популярных жанрах в указанный день в\n",
    "# заданное время:\n",
    "# 1) в переменную genre_df сохраняются те строки переданного датафрейма table, для\n",
    "#    которых одновременно:\n",
    "#    - значение в столбце day равно значению аргумента day\n",
    "#    - значение в столбце time больше значения аргумента time1\n",
    "#    - значение в столбце time меньше значения аргумента time2 \n",
    "#    Используйте последовательную фильтрацию с помощью логической индексации.\n",
    "# 2) сгруппировать датафрейм genre_df по столбцу genre, взять один из его\n",
    "#    столбцов и посчитать методом count() количество записей для каждого из\n",
    "#    присутствующих жанров, получившийся Series записать в переменную\n",
    "#    genre_df_count\n",
    "# 3) отсортировать genre_df_count по убыванию встречаемости и сохранить\n",
    "#    в переменную genre_df_sorted\n",
    "# 4) вернуть Series из 10 первых значений genre_df_sorted, это будут топ-10\n",
    "#    популярных жанров (в указанный день, в заданное время)\n",
    "def genre_weekday(df, day, time1, time2):\n",
    "    genre_df=df[df['day']==day]\n",
    "    genre_df=genre_df[genre_df['time']>time1]\n",
    "    genre_df=genre_df[genre_df['time']<=time2]\n",
    "    genre_df_count = genre_df.groupby('genre')['genre'].count().sort_values(ascending = False).head(10)\n",
    "    genre_df_sorted = genre_df_count\n",
    "    return genre_df_sorted\n"
   ]
  },
  {
   "cell_type": "markdown",
   "metadata": {
    "id": "la2s2_PF_Zcu"
   },
   "source": [
    "Cравните результаты функции `genre_weekday()` для Москвы и Санкт-Петербурга в понедельник утром (с 7:00 до 11:00) и в пятницу вечером (с 17:00 до 23:00):"
   ]
  },
  {
   "cell_type": "code",
   "execution_count": 31,
   "metadata": {
    "id": "yz7itPUQ_Zcu"
   },
   "outputs": [
    {
     "data": {
      "text/plain": [
       "genre\n",
       "pop            781\n",
       "dance          549\n",
       "electronic     480\n",
       "rock           474\n",
       "hiphop         286\n",
       "ruspop         186\n",
       "world          181\n",
       "rusrap         175\n",
       "alternative    164\n",
       "unknown        161\n",
       "Name: genre, dtype: int64"
      ]
     },
     "execution_count": 31,
     "metadata": {},
     "output_type": "execute_result"
    }
   ],
   "source": [
    "# вызов функции для утра понедельника в Москве (вместо df — таблица moscow_general)\n",
    "# объекты, хранящие время, являются строками и сравниваются как строки\n",
    "# пример вызова: genre_weekday(moscow_general, 'Monday', '07:00', '11:00')\n",
    "genre_weekday(moscow_general, 'Monday', '07:00', '11:00')"
   ]
  },
  {
   "cell_type": "code",
   "execution_count": 32,
   "metadata": {
    "id": "kwUcHPdy_Zcu"
   },
   "outputs": [
    {
     "data": {
      "text/plain": [
       "genre\n",
       "pop            218\n",
       "dance          182\n",
       "rock           162\n",
       "electronic     147\n",
       "hiphop          80\n",
       "ruspop          64\n",
       "alternative     58\n",
       "rusrap          55\n",
       "jazz            44\n",
       "classical       40\n",
       "Name: genre, dtype: int64"
      ]
     },
     "execution_count": 32,
     "metadata": {},
     "output_type": "execute_result"
    }
   ],
   "source": [
    "# вызов функции для утра понедельника в Петербурге (вместо df — таблица spb_general)\n",
    "genre_weekday(spb_general, 'Monday', '07:00:00', '11:00:00')"
   ]
  },
  {
   "cell_type": "code",
   "execution_count": 33,
   "metadata": {
    "id": "EzXVRE1o_Zcu"
   },
   "outputs": [
    {
     "data": {
      "text/plain": [
       "genre\n",
       "pop            713\n",
       "rock           517\n",
       "dance          495\n",
       "electronic     482\n",
       "hiphop         273\n",
       "world          208\n",
       "ruspop         170\n",
       "alternative    163\n",
       "classical      163\n",
       "rusrap         142\n",
       "Name: genre, dtype: int64"
      ]
     },
     "execution_count": 33,
     "metadata": {},
     "output_type": "execute_result"
    }
   ],
   "source": [
    "# вызов функции для вечера пятницы в Москве\n",
    "genre_weekday(moscow_general, 'Friday', '17:00:00', '23:00:00')"
   ]
  },
  {
   "cell_type": "code",
   "execution_count": 34,
   "metadata": {
    "id": "JZaEKu5v_Zcu",
    "scrolled": true
   },
   "outputs": [
    {
     "data": {
      "text/plain": [
       "genre\n",
       "pop            256\n",
       "electronic     216\n",
       "rock           216\n",
       "dance          210\n",
       "hiphop          97\n",
       "alternative     63\n",
       "jazz            61\n",
       "classical       60\n",
       "rusrap          59\n",
       "world           54\n",
       "Name: genre, dtype: int64"
      ]
     },
     "execution_count": 34,
     "metadata": {},
     "output_type": "execute_result"
    }
   ],
   "source": [
    "# вызов функции для вечера пятницы в Петербурге\n",
    "genre_weekday(spb_general, 'Friday', '17:00:00', '23:00:00')"
   ]
  },
  {
   "cell_type": "markdown",
   "metadata": {
    "id": "wrCe4MNX_Zcu"
   },
   "source": [
    "**Выводы**\n",
    "\n",
    "Если сравнить топ-10 жанров в понедельник утром, можно сделать такие выводы:\n",
    "\n",
    "1. В Москве и Петербурге слушают похожую музыку. Единственное отличие — в московский рейтинг вошёл жанр “world”, а в петербургский — джаз и классика.\n",
    "\n",
    "2. В Москве пропущенных значений оказалось так много, что значение `'unknown'` заняло десятое место среди самых популярных жанров. Значит, пропущенные значения занимают существенную долю в данных и угрожают достоверности исследования.\n",
    "\n",
    "Вечер пятницы не меняет эту картину. Некоторые жанры поднимаются немного выше, другие спускаются, но в целом топ-10 остаётся тем же самым.\n",
    "\n",
    "Таким образом, вторая гипотеза подтвердилась лишь частично:\n",
    "* Пользователи слушают похожую музыку в начале недели и в конце.\n",
    "* Разница между Москвой и Петербургом не слишком выражена. В Москве чаще слушают русскую популярную музыку, в Петербурге — джаз.\n",
    "\n",
    "Однако пропуски в данных ставят под сомнение этот результат. В Москве их так много, что рейтинг топ-10 мог бы выглядеть иначе, если бы не утерянные  данные о жанрах."
   ]
  },
  {
   "cell_type": "markdown",
   "metadata": {
    "id": "JolODAqr_Zcu"
   },
   "source": [
    "### Жанровые предпочтения в Москве и Петербурге\n",
    "\n",
    "Гипотеза: Петербург — столица рэпа, музыку этого жанра там слушают чаще, чем в Москве.  А Москва — город контрастов, в котором, тем не менее, преобладает поп-музыка."
   ]
  },
  {
   "cell_type": "markdown",
   "metadata": {
    "id": "DlegSvaT_Zcu"
   },
   "source": [
    "Сгруппируйте таблицу `moscow_general` по жанру и посчитайте прослушивания треков каждого жанра методом `count()`. Затем отсортируйте результат в порядке убывания и сохраните его в таблице `moscow_genres`."
   ]
  },
  {
   "cell_type": "code",
   "execution_count": 35,
   "metadata": {
    "id": "r19lIPke_Zcu"
   },
   "outputs": [],
   "source": [
    "# одной строкой: группировка таблицы moscow_general по столбцу 'genre', \n",
    "# подсчёт числа значений 'genre' в этой группировке методом count(), \n",
    "# сортировка получившегося Series в порядке убывания и сохранение в moscow_genres\n",
    "moscow_genres=moscow_general.groupby('genre')['genre'].count().sort_values(ascending = False)"
   ]
  },
  {
   "cell_type": "markdown",
   "metadata": {
    "id": "6kMuomxTiIr8"
   },
   "source": [
    "Выведите на экран первые десять строк `moscow_genres`:"
   ]
  },
  {
   "cell_type": "code",
   "execution_count": 36,
   "metadata": {
    "id": "WhCSooF8_Zcv"
   },
   "outputs": [
    {
     "data": {
      "text/plain": [
       "genre\n",
       "pop            5892\n",
       "dance          4435\n",
       "rock           3965\n",
       "electronic     3786\n",
       "hiphop         2096\n",
       "classical      1616\n",
       "world          1432\n",
       "alternative    1379\n",
       "ruspop         1372\n",
       "rusrap         1161\n",
       "Name: genre, dtype: int64"
      ]
     },
     "execution_count": 36,
     "metadata": {},
     "output_type": "execute_result"
    }
   ],
   "source": [
    "# просмотр первых 10 строк moscow_genres\n",
    "moscow_genres.head(10)"
   ]
  },
  {
   "cell_type": "markdown",
   "metadata": {
    "id": "cnPG2vnN_Zcv"
   },
   "source": [
    "Теперь повторите то же и для Петербурга.\n",
    "\n",
    "Сгруппируйте таблицу `spb_general` по жанру. Посчитайте прослушивания треков каждого жанра. Результат отсортируйте в порядке убывания и сохраните в таблице `spb_genres`:\n"
   ]
  },
  {
   "cell_type": "code",
   "execution_count": 37,
   "metadata": {
    "id": "gluLIpE7_Zcv"
   },
   "outputs": [],
   "source": [
    "# одной строкой: группировка таблицы spb_general по столбцу 'genre', \n",
    "# подсчёт числа значений 'genre' в этой группировке методом count(), \n",
    "# сортировка получившегося Series в порядке убывания и сохранение в spb_genres\n",
    "spb_genres=spb_general.groupby('genre')['genre'].count().sort_values(ascending=False)"
   ]
  },
  {
   "cell_type": "markdown",
   "metadata": {
    "id": "5Doha_ODgyQ8"
   },
   "source": [
    "Выведите на экран первые десять строк `spb_genres`:"
   ]
  },
  {
   "cell_type": "code",
   "execution_count": 38,
   "metadata": {
    "id": "uaGJHjVU_Zcv",
    "scrolled": true
   },
   "outputs": [
    {
     "data": {
      "text/plain": [
       "genre\n",
       "pop            2431\n",
       "dance          1932\n",
       "rock           1879\n",
       "electronic     1737\n",
       "hiphop          960\n",
       "alternative     649\n",
       "classical       646\n",
       "rusrap          564\n",
       "ruspop          538\n",
       "world           515\n",
       "Name: genre, dtype: int64"
      ]
     },
     "execution_count": 38,
     "metadata": {},
     "output_type": "execute_result"
    }
   ],
   "source": [
    "# просмотр первых 10 строк spb_genres\n",
    "spb_genres.head(10)"
   ]
  },
  {
   "cell_type": "markdown",
   "metadata": {
    "id": "RY51YJYu_Zcv"
   },
   "source": [
    "**Выводы**"
   ]
  },
  {
   "cell_type": "markdown",
   "metadata": {
    "id": "nVhnJEm__Zcv"
   },
   "source": [
    "Гипотеза частично подтвердилась:\n",
    "* Поп-музыка — самый популярный жанр в Москве, как и предполагала гипотеза. Более того, в топ-10 жанров встречается близкий жанр — русская популярная музыка.\n",
    "* Вопреки ожиданиям, рэп одинаково популярен в Москве и Петербурге. \n"
   ]
  },
  {
   "cell_type": "markdown",
   "metadata": {
    "id": "ykKQ0N65_Zcv"
   },
   "source": [
    "## Итоги исследования"
   ]
  },
  {
   "cell_type": "markdown",
   "metadata": {
    "id": "tjUwbHb3_Zcv"
   },
   "source": [
    "Вы проверили три гипотезы и установили:\n",
    "\n",
    "1. День недели по-разному влияет на активность пользователей в Москве и Петербурге. \n",
    "\n",
    "Первая гипотеза полностью подтвердилась.\n",
    "\n",
    "2. Музыкальные предпочтения не сильно меняются в течение недели — будь то Москва или Петербург. Небольшие различия заметны в начале недели, по понедельникам:\n",
    "* в Москве слушают музыку жанра “world”,\n",
    "* в Петербурге — джаз и классику.\n",
    "\n",
    "Таким образом, вторая гипотеза подтвердилась лишь отчасти. Этот результат мог оказаться иным, если бы не пропуски в данных.\n",
    "\n",
    "3. Во вкусах пользователей Москвы и Петербурга больше общего чем различий. Вопреки ожиданиям, предпочтения жанров в Петербурге напоминают московские.\n",
    "\n",
    "Третья гипотеза не подтвердилась. Если различия в предпочтениях и существуют, на основной массе пользователей они незаметны.\n",
    "\n",
    "**На практике исследования содержат проверки статистических гипотез.**\n",
    "Из данных одного сервиса не всегда можно сделать вывод о всех жителях города.\n",
    "Проверки статистических гипотез покажут, насколько они достоверны, исходя из имеющихся данных. \n",
    "С методами проверок гипотез вы ещё познакомитесь в следующих темах."
   ]
  }
 ],
 "metadata": {
  "ExecuteTimeLog": [
   {
    "duration": 64,
    "start_time": "2022-04-07T08:10:18.894Z"
   },
   {
    "duration": 9,
    "start_time": "2022-04-07T08:10:36.455Z"
   },
   {
    "duration": 447,
    "start_time": "2022-04-07T08:10:48.221Z"
   },
   {
    "duration": 163,
    "start_time": "2022-04-07T08:10:51.338Z"
   },
   {
    "duration": 8,
    "start_time": "2022-04-07T08:10:53.201Z"
   },
   {
    "duration": 16,
    "start_time": "2022-04-07T08:11:52.292Z"
   },
   {
    "duration": 31,
    "start_time": "2022-04-07T08:12:12.681Z"
   },
   {
    "duration": 31,
    "start_time": "2022-04-07T08:17:45.288Z"
   },
   {
    "duration": 3,
    "start_time": "2022-04-07T08:17:58.164Z"
   },
   {
    "duration": 14,
    "start_time": "2022-04-07T08:21:00.930Z"
   },
   {
    "duration": 4,
    "start_time": "2022-04-07T08:21:21.787Z"
   },
   {
    "duration": 25,
    "start_time": "2022-04-07T08:24:08.524Z"
   },
   {
    "duration": 351,
    "start_time": "2022-04-07T08:35:12.087Z"
   },
   {
    "duration": 20,
    "start_time": "2022-04-07T08:35:18.375Z"
   },
   {
    "duration": 25,
    "start_time": "2022-04-07T08:35:48.893Z"
   },
   {
    "duration": 69,
    "start_time": "2022-04-07T08:36:44.443Z"
   },
   {
    "duration": 10,
    "start_time": "2022-04-07T08:39:15.099Z"
   },
   {
    "duration": 8,
    "start_time": "2022-04-07T08:39:47.885Z"
   },
   {
    "duration": 84,
    "start_time": "2022-04-07T08:40:46.767Z"
   },
   {
    "duration": 66,
    "start_time": "2022-04-07T08:40:55.901Z"
   },
   {
    "duration": 2254,
    "start_time": "2022-04-07T08:42:41.335Z"
   },
   {
    "duration": 2133,
    "start_time": "2022-04-07T08:42:44.371Z"
   },
   {
    "duration": 7,
    "start_time": "2022-04-07T08:43:15.072Z"
   },
   {
    "duration": 127,
    "start_time": "2022-04-07T08:45:18.315Z"
   },
   {
    "duration": 8,
    "start_time": "2022-04-07T08:45:28.924Z"
   },
   {
    "duration": 10,
    "start_time": "2022-04-07T08:53:36.058Z"
   },
   {
    "duration": 8,
    "start_time": "2022-04-07T08:54:05.007Z"
   },
   {
    "duration": 41,
    "start_time": "2022-04-07T08:54:39.710Z"
   },
   {
    "duration": 10,
    "start_time": "2022-04-07T09:09:47.256Z"
   },
   {
    "duration": 17,
    "start_time": "2022-04-07T09:11:13.933Z"
   },
   {
    "duration": 157,
    "start_time": "2022-04-07T09:16:09.630Z"
   },
   {
    "duration": 147,
    "start_time": "2022-04-07T09:16:15.373Z"
   },
   {
    "duration": 49,
    "start_time": "2022-04-07T09:16:19.449Z"
   },
   {
    "duration": 10,
    "start_time": "2022-04-07T09:18:21.417Z"
   },
   {
    "duration": 41,
    "start_time": "2022-04-07T09:18:24.543Z"
   },
   {
    "duration": 2583,
    "start_time": "2022-04-07T09:21:11.033Z"
   },
   {
    "duration": 40,
    "start_time": "2022-04-07T09:21:14.273Z"
   },
   {
    "duration": 11,
    "start_time": "2022-04-07T09:21:59.733Z"
   },
   {
    "duration": 40,
    "start_time": "2022-04-07T09:22:03.485Z"
   },
   {
    "duration": 12,
    "start_time": "2022-04-07T09:26:30.158Z"
   },
   {
    "duration": 40,
    "start_time": "2022-04-07T09:26:32.764Z"
   },
   {
    "duration": 12,
    "start_time": "2022-04-07T09:29:36.892Z"
   },
   {
    "duration": 39,
    "start_time": "2022-04-07T09:29:39.475Z"
   },
   {
    "duration": 6,
    "start_time": "2022-04-07T09:51:59.400Z"
   },
   {
    "duration": 8,
    "start_time": "2022-04-07T10:03:17.156Z"
   },
   {
    "duration": 18,
    "start_time": "2022-04-07T10:03:31.208Z"
   },
   {
    "duration": 19,
    "start_time": "2022-04-07T10:04:12.621Z"
   },
   {
    "duration": 14,
    "start_time": "2022-04-07T10:06:08.658Z"
   },
   {
    "duration": 18,
    "start_time": "2022-04-07T10:06:17.266Z"
   },
   {
    "duration": 14,
    "start_time": "2022-04-07T10:07:00.186Z"
   },
   {
    "duration": 13,
    "start_time": "2022-04-07T10:07:46.096Z"
   },
   {
    "duration": 32,
    "start_time": "2022-04-07T10:07:55.176Z"
   },
   {
    "duration": 14,
    "start_time": "2022-04-07T10:09:06.901Z"
   },
   {
    "duration": 12,
    "start_time": "2022-04-07T10:09:29.381Z"
   },
   {
    "duration": 10,
    "start_time": "2022-04-07T10:09:33.784Z"
   },
   {
    "duration": 13,
    "start_time": "2022-04-07T10:09:55.224Z"
   },
   {
    "duration": 133,
    "start_time": "2022-04-07T10:18:28.672Z"
   },
   {
    "duration": 4,
    "start_time": "2022-04-07T10:18:33.741Z"
   },
   {
    "duration": 4,
    "start_time": "2022-04-07T10:22:16.004Z"
   },
   {
    "duration": 12,
    "start_time": "2022-04-07T10:22:18.188Z"
   },
   {
    "duration": 12,
    "start_time": "2022-04-07T10:22:19.212Z"
   },
   {
    "duration": 4,
    "start_time": "2022-04-07T10:24:05.035Z"
   },
   {
    "duration": 4,
    "start_time": "2022-04-07T10:24:22.407Z"
   },
   {
    "duration": 12,
    "start_time": "2022-04-07T10:24:23.782Z"
   },
   {
    "duration": 11,
    "start_time": "2022-04-07T10:24:24.325Z"
   },
   {
    "duration": 11,
    "start_time": "2022-04-07T10:24:24.719Z"
   },
   {
    "duration": 11,
    "start_time": "2022-04-07T10:24:25.012Z"
   },
   {
    "duration": 12,
    "start_time": "2022-04-07T10:24:27.112Z"
   },
   {
    "duration": 12,
    "start_time": "2022-04-07T10:24:27.522Z"
   },
   {
    "duration": 54,
    "start_time": "2022-04-07T10:25:07.755Z"
   },
   {
    "duration": 3,
    "start_time": "2022-04-07T10:25:19.776Z"
   },
   {
    "duration": 6,
    "start_time": "2022-04-07T10:25:22.148Z"
   },
   {
    "duration": 6,
    "start_time": "2022-04-07T10:25:36.793Z"
   },
   {
    "duration": 371,
    "start_time": "2022-04-07T10:26:19.483Z"
   },
   {
    "duration": 164,
    "start_time": "2022-04-07T10:26:19.856Z"
   },
   {
    "duration": 18,
    "start_time": "2022-04-07T10:26:20.223Z"
   },
   {
    "duration": 30,
    "start_time": "2022-04-07T10:26:20.594Z"
   },
   {
    "duration": 3,
    "start_time": "2022-04-07T10:26:21.865Z"
   },
   {
    "duration": 13,
    "start_time": "2022-04-07T10:26:22.734Z"
   },
   {
    "duration": 4,
    "start_time": "2022-04-07T10:26:23.215Z"
   },
   {
    "duration": 25,
    "start_time": "2022-04-07T10:26:23.666Z"
   },
   {
    "duration": 20,
    "start_time": "2022-04-07T10:26:24.269Z"
   },
   {
    "duration": 26,
    "start_time": "2022-04-07T10:26:24.669Z"
   },
   {
    "duration": 69,
    "start_time": "2022-04-07T10:26:25.415Z"
   },
   {
    "duration": 79,
    "start_time": "2022-04-07T10:26:26.012Z"
   },
   {
    "duration": 59,
    "start_time": "2022-04-07T10:26:27.212Z"
   },
   {
    "duration": 40,
    "start_time": "2022-04-07T10:26:28.448Z"
   },
   {
    "duration": 3,
    "start_time": "2022-04-07T10:26:33.717Z"
   },
   {
    "duration": 11,
    "start_time": "2022-04-07T10:26:34.604Z"
   },
   {
    "duration": 44,
    "start_time": "2022-04-07T10:26:35.700Z"
   },
   {
    "duration": 13,
    "start_time": "2022-04-07T10:26:38.375Z"
   },
   {
    "duration": 12,
    "start_time": "2022-04-07T10:26:40.339Z"
   },
   {
    "duration": 4,
    "start_time": "2022-04-07T10:26:43.250Z"
   },
   {
    "duration": 12,
    "start_time": "2022-04-07T10:26:44.408Z"
   },
   {
    "duration": 12,
    "start_time": "2022-04-07T10:31:10.721Z"
   },
   {
    "duration": 12,
    "start_time": "2022-04-07T10:33:50.544Z"
   },
   {
    "duration": 3,
    "start_time": "2022-04-07T10:33:54.527Z"
   },
   {
    "duration": 12,
    "start_time": "2022-04-07T10:33:55.572Z"
   },
   {
    "duration": 384,
    "start_time": "2022-04-07T10:34:20.866Z"
   },
   {
    "duration": 164,
    "start_time": "2022-04-07T10:34:21.252Z"
   },
   {
    "duration": 18,
    "start_time": "2022-04-07T10:34:21.586Z"
   },
   {
    "duration": 31,
    "start_time": "2022-04-07T10:34:21.958Z"
   },
   {
    "duration": 4,
    "start_time": "2022-04-07T10:34:22.886Z"
   },
   {
    "duration": 14,
    "start_time": "2022-04-07T10:34:23.434Z"
   },
   {
    "duration": 3,
    "start_time": "2022-04-07T10:34:23.805Z"
   },
   {
    "duration": 25,
    "start_time": "2022-04-07T10:34:24.202Z"
   },
   {
    "duration": 19,
    "start_time": "2022-04-07T10:34:25.339Z"
   },
   {
    "duration": 25,
    "start_time": "2022-04-07T10:34:25.833Z"
   },
   {
    "duration": 69,
    "start_time": "2022-04-07T10:34:27.716Z"
   },
   {
    "duration": 79,
    "start_time": "2022-04-07T10:34:28.816Z"
   },
   {
    "duration": 61,
    "start_time": "2022-04-07T10:34:30.254Z"
   },
   {
    "duration": 41,
    "start_time": "2022-04-07T10:34:30.924Z"
   },
   {
    "duration": 3,
    "start_time": "2022-04-07T10:34:31.414Z"
   },
   {
    "duration": 12,
    "start_time": "2022-04-07T10:34:31.845Z"
   },
   {
    "duration": 41,
    "start_time": "2022-04-07T10:34:32.262Z"
   },
   {
    "duration": 14,
    "start_time": "2022-04-07T10:34:33.783Z"
   },
   {
    "duration": 12,
    "start_time": "2022-04-07T10:34:34.538Z"
   },
   {
    "duration": 4,
    "start_time": "2022-04-07T10:34:35.785Z"
   },
   {
    "duration": 12,
    "start_time": "2022-04-07T10:34:36.469Z"
   },
   {
    "duration": 16,
    "start_time": "2022-04-07T10:34:36.729Z"
   },
   {
    "duration": 17,
    "start_time": "2022-04-07T10:34:39.082Z"
   },
   {
    "duration": 22,
    "start_time": "2022-04-07T10:34:39.703Z"
   },
   {
    "duration": 13,
    "start_time": "2022-04-07T10:34:40.216Z"
   },
   {
    "duration": 12,
    "start_time": "2022-04-07T10:34:42.033Z"
   },
   {
    "duration": 14,
    "start_time": "2022-04-07T10:35:39.933Z"
   },
   {
    "duration": 12,
    "start_time": "2022-04-07T10:35:51.163Z"
   },
   {
    "duration": 17,
    "start_time": "2022-04-07T10:35:59.414Z"
   },
   {
    "duration": 16,
    "start_time": "2022-04-07T10:36:09.190Z"
   },
   {
    "duration": 15,
    "start_time": "2022-04-07T10:36:09.540Z"
   },
   {
    "duration": 16,
    "start_time": "2022-04-07T10:36:11.355Z"
   },
   {
    "duration": 15,
    "start_time": "2022-04-07T10:36:11.373Z"
   },
   {
    "duration": 18,
    "start_time": "2022-04-07T10:36:12.275Z"
   },
   {
    "duration": 15,
    "start_time": "2022-04-07T10:36:13.077Z"
   },
   {
    "duration": 45,
    "start_time": "2022-04-08T12:29:18.014Z"
   },
   {
    "duration": 6,
    "start_time": "2022-04-08T12:29:23.131Z"
   },
   {
    "duration": 392,
    "start_time": "2022-04-08T12:29:37.672Z"
   },
   {
    "duration": 169,
    "start_time": "2022-04-08T12:29:38.320Z"
   },
   {
    "duration": 16,
    "start_time": "2022-04-08T12:29:39.112Z"
   },
   {
    "duration": 54,
    "start_time": "2022-04-08T12:29:39.707Z"
   },
   {
    "duration": 5,
    "start_time": "2022-04-08T12:29:40.742Z"
   },
   {
    "duration": 20,
    "start_time": "2022-04-08T12:29:41.289Z"
   },
   {
    "duration": 4,
    "start_time": "2022-04-08T12:29:41.669Z"
   },
   {
    "duration": 23,
    "start_time": "2022-04-08T12:29:42.019Z"
   },
   {
    "duration": 18,
    "start_time": "2022-04-08T12:29:42.519Z"
   },
   {
    "duration": 23,
    "start_time": "2022-04-08T12:29:42.875Z"
   },
   {
    "duration": 65,
    "start_time": "2022-04-08T12:29:43.226Z"
   },
   {
    "duration": 77,
    "start_time": "2022-04-08T12:29:43.602Z"
   },
   {
    "duration": 58,
    "start_time": "2022-04-08T12:29:43.969Z"
   },
   {
    "duration": 38,
    "start_time": "2022-04-08T12:29:44.769Z"
   },
   {
    "duration": 3,
    "start_time": "2022-04-08T12:29:45.216Z"
   },
   {
    "duration": 12,
    "start_time": "2022-04-08T12:29:45.685Z"
   },
   {
    "duration": 39,
    "start_time": "2022-04-08T12:29:46.039Z"
   },
   {
    "duration": 14,
    "start_time": "2022-04-08T12:29:47.259Z"
   },
   {
    "duration": 13,
    "start_time": "2022-04-08T12:29:47.662Z"
   },
   {
    "duration": 4,
    "start_time": "2022-04-08T12:29:48.310Z"
   },
   {
    "duration": 15,
    "start_time": "2022-04-08T12:29:48.758Z"
   },
   {
    "duration": 13,
    "start_time": "2022-04-08T12:29:49.183Z"
   },
   {
    "duration": 14,
    "start_time": "2022-04-08T12:29:49.486Z"
   },
   {
    "duration": 14,
    "start_time": "2022-04-08T12:29:49.749Z"
   },
   {
    "duration": 17,
    "start_time": "2022-04-08T12:29:50.007Z"
   },
   {
    "duration": 13,
    "start_time": "2022-04-08T12:29:50.369Z"
   },
   {
    "duration": 30,
    "start_time": "2022-04-08T12:29:51.222Z"
   },
   {
    "duration": 2,
    "start_time": "2022-04-08T12:29:52.981Z"
   },
   {
    "duration": 2,
    "start_time": "2022-04-08T12:29:53.359Z"
   },
   {
    "duration": 2,
    "start_time": "2022-04-08T12:29:54.716Z"
   },
   {
    "duration": 7,
    "start_time": "2022-04-08T12:35:05.094Z"
   },
   {
    "duration": 12,
    "start_time": "2022-04-08T12:35:35.339Z"
   },
   {
    "duration": 7,
    "start_time": "2022-04-08T12:41:55.954Z"
   },
   {
    "duration": 8,
    "start_time": "2022-04-08T12:45:15.343Z"
   },
   {
    "duration": 11,
    "start_time": "2022-04-08T12:47:21.550Z"
   },
   {
    "duration": 5,
    "start_time": "2022-04-08T12:54:27.501Z"
   },
   {
    "duration": 1732,
    "start_time": "2022-04-08T12:56:21.128Z"
   },
   {
    "duration": 0,
    "start_time": "2022-04-08T12:56:22.862Z"
   },
   {
    "duration": 1678,
    "start_time": "2022-04-08T12:56:23.068Z"
   },
   {
    "duration": 1759,
    "start_time": "2022-04-08T12:57:07.935Z"
   },
   {
    "duration": 11,
    "start_time": "2022-04-08T12:58:08.084Z"
   },
   {
    "duration": 9,
    "start_time": "2022-04-08T12:58:08.973Z"
   },
   {
    "duration": 3,
    "start_time": "2022-04-08T12:58:12.641Z"
   },
   {
    "duration": 1756,
    "start_time": "2022-04-08T12:58:15.241Z"
   },
   {
    "duration": 4,
    "start_time": "2022-04-08T13:00:16.233Z"
   },
   {
    "duration": 1759,
    "start_time": "2022-04-08T13:00:18.407Z"
   },
   {
    "duration": 4,
    "start_time": "2022-04-08T13:01:24.412Z"
   },
   {
    "duration": 1803,
    "start_time": "2022-04-08T13:01:25.785Z"
   },
   {
    "duration": 112,
    "start_time": "2022-04-08T13:04:14.033Z"
   },
   {
    "duration": 117,
    "start_time": "2022-04-08T13:04:46.631Z"
   },
   {
    "duration": 110,
    "start_time": "2022-04-08T13:05:04.365Z"
   },
   {
    "duration": 107,
    "start_time": "2022-04-08T13:05:18.783Z"
   },
   {
    "duration": 5,
    "start_time": "2022-04-08T13:05:37.533Z"
   },
   {
    "duration": 1731,
    "start_time": "2022-04-08T13:05:41.530Z"
   },
   {
    "duration": 123,
    "start_time": "2022-04-08T13:07:39.988Z"
   },
   {
    "duration": 4,
    "start_time": "2022-04-08T13:13:40.998Z"
   },
   {
    "duration": 1856,
    "start_time": "2022-04-08T13:13:43.470Z"
   },
   {
    "duration": 4,
    "start_time": "2022-04-08T13:14:07.591Z"
   },
   {
    "duration": 1775,
    "start_time": "2022-04-08T13:14:08.862Z"
   },
   {
    "duration": 4,
    "start_time": "2022-04-08T13:15:31.156Z"
   },
   {
    "duration": 1741,
    "start_time": "2022-04-08T13:15:32.702Z"
   },
   {
    "duration": 11,
    "start_time": "2022-04-08T13:16:02.344Z"
   },
   {
    "duration": 4,
    "start_time": "2022-04-08T13:17:13.098Z"
   },
   {
    "duration": 1690,
    "start_time": "2022-04-08T13:17:14.810Z"
   },
   {
    "duration": 4,
    "start_time": "2022-04-08T13:21:24.046Z"
   },
   {
    "duration": 3,
    "start_time": "2022-04-08T13:21:30.643Z"
   },
   {
    "duration": 1753,
    "start_time": "2022-04-08T13:21:43.824Z"
   },
   {
    "duration": 5,
    "start_time": "2022-04-08T13:22:02.545Z"
   },
   {
    "duration": 1735,
    "start_time": "2022-04-08T13:22:04.973Z"
   },
   {
    "duration": 6,
    "start_time": "2022-04-08T13:22:38.873Z"
   },
   {
    "duration": 1791,
    "start_time": "2022-04-08T13:22:40.330Z"
   },
   {
    "duration": 12,
    "start_time": "2022-04-08T13:22:50.834Z"
   },
   {
    "duration": 18,
    "start_time": "2022-04-08T13:22:54.116Z"
   },
   {
    "duration": 15,
    "start_time": "2022-04-08T13:22:55.152Z"
   },
   {
    "duration": 5,
    "start_time": "2022-04-08T13:22:59.131Z"
   },
   {
    "duration": 1705,
    "start_time": "2022-04-08T13:23:01.405Z"
   },
   {
    "duration": 379,
    "start_time": "2022-04-08T13:27:26.210Z"
   },
   {
    "duration": 141,
    "start_time": "2022-04-08T13:27:26.591Z"
   },
   {
    "duration": 16,
    "start_time": "2022-04-08T13:27:26.905Z"
   },
   {
    "duration": 29,
    "start_time": "2022-04-08T13:27:27.290Z"
   },
   {
    "duration": 4,
    "start_time": "2022-04-08T13:27:28.183Z"
   },
   {
    "duration": 13,
    "start_time": "2022-04-08T13:27:28.701Z"
   },
   {
    "duration": 3,
    "start_time": "2022-04-08T13:27:29.037Z"
   },
   {
    "duration": 24,
    "start_time": "2022-04-08T13:27:29.389Z"
   },
   {
    "duration": 18,
    "start_time": "2022-04-08T13:27:29.914Z"
   },
   {
    "duration": 26,
    "start_time": "2022-04-08T13:27:30.275Z"
   },
   {
    "duration": 65,
    "start_time": "2022-04-08T13:27:30.645Z"
   },
   {
    "duration": 84,
    "start_time": "2022-04-08T13:27:30.990Z"
   },
   {
    "duration": 60,
    "start_time": "2022-04-08T13:27:31.348Z"
   },
   {
    "duration": 37,
    "start_time": "2022-04-08T13:27:31.858Z"
   },
   {
    "duration": 3,
    "start_time": "2022-04-08T13:27:32.187Z"
   },
   {
    "duration": 11,
    "start_time": "2022-04-08T13:27:32.536Z"
   },
   {
    "duration": 42,
    "start_time": "2022-04-08T13:27:32.868Z"
   },
   {
    "duration": 13,
    "start_time": "2022-04-08T13:27:33.952Z"
   },
   {
    "duration": 11,
    "start_time": "2022-04-08T13:27:34.320Z"
   },
   {
    "duration": 4,
    "start_time": "2022-04-08T13:27:34.928Z"
   },
   {
    "duration": 16,
    "start_time": "2022-04-08T13:27:35.271Z"
   },
   {
    "duration": 16,
    "start_time": "2022-04-08T13:27:35.499Z"
   },
   {
    "duration": 20,
    "start_time": "2022-04-08T13:27:35.678Z"
   },
   {
    "duration": 19,
    "start_time": "2022-04-08T13:27:35.877Z"
   },
   {
    "duration": 25,
    "start_time": "2022-04-08T13:27:36.107Z"
   },
   {
    "duration": 18,
    "start_time": "2022-04-08T13:27:36.310Z"
   },
   {
    "duration": 13,
    "start_time": "2022-04-08T13:27:36.717Z"
   },
   {
    "duration": 11,
    "start_time": "2022-04-08T13:27:37.705Z"
   },
   {
    "duration": 9,
    "start_time": "2022-04-08T13:27:37.906Z"
   },
   {
    "duration": 4,
    "start_time": "2022-04-08T13:27:38.313Z"
   },
   {
    "duration": 1870,
    "start_time": "2022-04-08T13:27:38.766Z"
   },
   {
    "duration": 5,
    "start_time": "2022-04-08T13:29:38.728Z"
   },
   {
    "duration": 1939,
    "start_time": "2022-04-08T13:29:41.053Z"
   },
   {
    "duration": 4,
    "start_time": "2022-04-08T13:30:23.249Z"
   },
   {
    "duration": 25,
    "start_time": "2022-04-08T13:30:24.370Z"
   },
   {
    "duration": 6,
    "start_time": "2022-04-08T13:30:46.029Z"
   },
   {
    "duration": 33,
    "start_time": "2022-04-08T13:30:47.186Z"
   },
   {
    "duration": 4,
    "start_time": "2022-04-08T13:32:22.319Z"
   },
   {
    "duration": 32,
    "start_time": "2022-04-08T13:32:23.359Z"
   },
   {
    "duration": 20,
    "start_time": "2022-04-08T13:32:26.619Z"
   },
   {
    "duration": 26,
    "start_time": "2022-04-08T13:32:27.440Z"
   },
   {
    "duration": 12,
    "start_time": "2022-04-08T13:32:28.156Z"
   },
   {
    "duration": 4,
    "start_time": "2022-04-08T13:34:07.548Z"
   },
   {
    "duration": 1780,
    "start_time": "2022-04-08T13:34:08.761Z"
   },
   {
    "duration": 4,
    "start_time": "2022-04-08T13:34:16.148Z"
   },
   {
    "duration": 13,
    "start_time": "2022-04-08T13:34:17.455Z"
   },
   {
    "duration": 4,
    "start_time": "2022-04-08T13:34:35.966Z"
   },
   {
    "duration": 20,
    "start_time": "2022-04-08T13:34:36.898Z"
   },
   {
    "duration": 13,
    "start_time": "2022-04-08T13:34:37.918Z"
   },
   {
    "duration": 16,
    "start_time": "2022-04-08T13:34:38.280Z"
   },
   {
    "duration": 13,
    "start_time": "2022-04-08T13:34:38.632Z"
   },
   {
    "duration": 10,
    "start_time": "2022-04-08T13:37:44.700Z"
   },
   {
    "duration": 9,
    "start_time": "2022-04-08T13:37:56.725Z"
   },
   {
    "duration": 2,
    "start_time": "2022-04-08T13:38:01.418Z"
   },
   {
    "duration": 5,
    "start_time": "2022-04-08T13:38:11.924Z"
   },
   {
    "duration": 7,
    "start_time": "2022-04-08T13:38:34.397Z"
   },
   {
    "duration": 4,
    "start_time": "2022-04-08T13:38:54.977Z"
   },
   {
    "duration": 439,
    "start_time": "2022-04-18T13:08:40.784Z"
   },
   {
    "duration": 158,
    "start_time": "2022-04-18T13:08:41.225Z"
   },
   {
    "duration": 23,
    "start_time": "2022-04-18T13:08:41.385Z"
   },
   {
    "duration": 30,
    "start_time": "2022-04-18T13:08:41.411Z"
   },
   {
    "duration": 9,
    "start_time": "2022-04-18T13:08:41.443Z"
   },
   {
    "duration": 15,
    "start_time": "2022-04-18T13:08:41.453Z"
   },
   {
    "duration": 12,
    "start_time": "2022-04-18T13:08:41.469Z"
   },
   {
    "duration": 43,
    "start_time": "2022-04-18T13:08:41.482Z"
   },
   {
    "duration": 17,
    "start_time": "2022-04-18T13:08:41.527Z"
   },
   {
    "duration": 22,
    "start_time": "2022-04-18T13:08:41.547Z"
   },
   {
    "duration": 89,
    "start_time": "2022-04-18T13:08:41.571Z"
   },
   {
    "duration": 85,
    "start_time": "2022-04-18T13:08:41.662Z"
   },
   {
    "duration": 69,
    "start_time": "2022-04-18T13:08:41.750Z"
   },
   {
    "duration": 40,
    "start_time": "2022-04-18T13:08:41.821Z"
   },
   {
    "duration": 4,
    "start_time": "2022-04-18T13:08:41.863Z"
   },
   {
    "duration": 33,
    "start_time": "2022-04-18T13:08:41.869Z"
   },
   {
    "duration": 42,
    "start_time": "2022-04-18T13:08:41.904Z"
   },
   {
    "duration": 11,
    "start_time": "2022-04-18T13:08:41.948Z"
   },
   {
    "duration": 39,
    "start_time": "2022-04-18T13:08:41.961Z"
   },
   {
    "duration": 5,
    "start_time": "2022-04-18T13:08:42.002Z"
   },
   {
    "duration": 19,
    "start_time": "2022-04-18T13:08:42.009Z"
   },
   {
    "duration": 14,
    "start_time": "2022-04-18T13:08:42.030Z"
   },
   {
    "duration": 17,
    "start_time": "2022-04-18T13:08:42.045Z"
   },
   {
    "duration": 38,
    "start_time": "2022-04-18T13:08:42.063Z"
   },
   {
    "duration": 14,
    "start_time": "2022-04-18T13:08:42.103Z"
   },
   {
    "duration": 14,
    "start_time": "2022-04-18T13:08:42.119Z"
   },
   {
    "duration": 12,
    "start_time": "2022-04-18T13:08:42.135Z"
   },
   {
    "duration": 14,
    "start_time": "2022-04-18T13:08:42.151Z"
   },
   {
    "duration": 41,
    "start_time": "2022-04-18T13:08:42.166Z"
   },
   {
    "duration": 5,
    "start_time": "2022-04-18T13:08:42.209Z"
   },
   {
    "duration": 26,
    "start_time": "2022-04-18T13:08:42.216Z"
   },
   {
    "duration": 15,
    "start_time": "2022-04-18T13:08:42.243Z"
   },
   {
    "duration": 41,
    "start_time": "2022-04-18T13:08:42.260Z"
   },
   {
    "duration": 15,
    "start_time": "2022-04-18T13:08:42.303Z"
   },
   {
    "duration": 11,
    "start_time": "2022-04-18T13:08:42.320Z"
   },
   {
    "duration": 6,
    "start_time": "2022-04-18T13:08:42.333Z"
   },
   {
    "duration": 14,
    "start_time": "2022-04-18T13:08:42.340Z"
   },
   {
    "duration": 10,
    "start_time": "2022-04-18T13:08:42.356Z"
   },
   {
    "duration": 397,
    "start_time": "2022-04-18T13:29:20.309Z"
   },
   {
    "duration": 143,
    "start_time": "2022-04-18T13:29:20.708Z"
   },
   {
    "duration": 15,
    "start_time": "2022-04-18T13:29:20.853Z"
   },
   {
    "duration": 38,
    "start_time": "2022-04-18T13:29:20.870Z"
   },
   {
    "duration": 3,
    "start_time": "2022-04-18T13:29:20.909Z"
   },
   {
    "duration": 22,
    "start_time": "2022-04-18T13:29:20.914Z"
   },
   {
    "duration": 13,
    "start_time": "2022-04-18T13:29:20.938Z"
   },
   {
    "duration": 28,
    "start_time": "2022-04-18T13:29:20.952Z"
   },
   {
    "duration": 27,
    "start_time": "2022-04-18T13:29:20.981Z"
   },
   {
    "duration": 22,
    "start_time": "2022-04-18T13:29:21.011Z"
   },
   {
    "duration": 76,
    "start_time": "2022-04-18T13:29:21.035Z"
   },
   {
    "duration": 72,
    "start_time": "2022-04-18T13:29:21.112Z"
   },
   {
    "duration": 54,
    "start_time": "2022-04-18T13:29:21.200Z"
   },
   {
    "duration": 52,
    "start_time": "2022-04-18T13:29:21.255Z"
   },
   {
    "duration": 3,
    "start_time": "2022-04-18T13:29:21.309Z"
   },
   {
    "duration": 16,
    "start_time": "2022-04-18T13:29:21.314Z"
   },
   {
    "duration": 35,
    "start_time": "2022-04-18T13:29:21.331Z"
   },
   {
    "duration": 33,
    "start_time": "2022-04-18T13:29:21.367Z"
   },
   {
    "duration": 11,
    "start_time": "2022-04-18T13:29:21.402Z"
   },
   {
    "duration": 3,
    "start_time": "2022-04-18T13:29:21.415Z"
   },
   {
    "duration": 19,
    "start_time": "2022-04-18T13:29:21.420Z"
   },
   {
    "duration": 13,
    "start_time": "2022-04-18T13:29:21.440Z"
   },
   {
    "duration": 13,
    "start_time": "2022-04-18T13:29:21.454Z"
   },
   {
    "duration": 40,
    "start_time": "2022-04-18T13:29:21.468Z"
   },
   {
    "duration": 35,
    "start_time": "2022-04-18T13:29:21.509Z"
   },
   {
    "duration": 13,
    "start_time": "2022-04-18T13:29:21.546Z"
   },
   {
    "duration": 8,
    "start_time": "2022-04-18T13:29:21.563Z"
   },
   {
    "duration": 11,
    "start_time": "2022-04-18T13:29:21.573Z"
   },
   {
    "duration": 14,
    "start_time": "2022-04-18T13:29:21.586Z"
   },
   {
    "duration": 6,
    "start_time": "2022-04-18T13:29:21.601Z"
   },
   {
    "duration": 27,
    "start_time": "2022-04-18T13:29:21.608Z"
   },
   {
    "duration": 12,
    "start_time": "2022-04-18T13:29:21.636Z"
   },
   {
    "duration": 21,
    "start_time": "2022-04-18T13:29:21.650Z"
   },
   {
    "duration": 11,
    "start_time": "2022-04-18T13:29:21.673Z"
   },
   {
    "duration": 9,
    "start_time": "2022-04-18T13:29:21.701Z"
   },
   {
    "duration": 5,
    "start_time": "2022-04-18T13:29:21.712Z"
   },
   {
    "duration": 9,
    "start_time": "2022-04-18T13:29:21.719Z"
   },
   {
    "duration": 7,
    "start_time": "2022-04-18T13:29:21.729Z"
   },
   {
    "duration": 51,
    "start_time": "2022-04-20T12:02:19.994Z"
   },
   {
    "duration": 6,
    "start_time": "2022-04-20T12:02:27.965Z"
   },
   {
    "duration": 6,
    "start_time": "2022-04-20T12:02:29.102Z"
   },
   {
    "duration": 397,
    "start_time": "2022-04-20T12:03:18.526Z"
   },
   {
    "duration": 160,
    "start_time": "2022-04-20T12:03:19.500Z"
   },
   {
    "duration": 17,
    "start_time": "2022-04-20T12:03:20.750Z"
   },
   {
    "duration": 30,
    "start_time": "2022-04-20T12:03:22.293Z"
   },
   {
    "duration": 3,
    "start_time": "2022-04-20T12:03:25.337Z"
   },
   {
    "duration": 4,
    "start_time": "2022-04-20T12:03:31.982Z"
   },
   {
    "duration": 13,
    "start_time": "2022-04-20T12:03:39.185Z"
   },
   {
    "duration": 3,
    "start_time": "2022-04-20T12:03:41.699Z"
   },
   {
    "duration": 26,
    "start_time": "2022-04-20T12:03:43.591Z"
   },
   {
    "duration": 18,
    "start_time": "2022-04-20T12:03:45.267Z"
   },
   {
    "duration": 24,
    "start_time": "2022-04-20T12:03:46.401Z"
   },
   {
    "duration": 63,
    "start_time": "2022-04-20T12:03:47.616Z"
   },
   {
    "duration": 73,
    "start_time": "2022-04-20T12:03:48.335Z"
   },
   {
    "duration": 57,
    "start_time": "2022-04-20T12:03:49.093Z"
   },
   {
    "duration": 38,
    "start_time": "2022-04-20T12:03:50.788Z"
   },
   {
    "duration": 3,
    "start_time": "2022-04-20T12:03:52.370Z"
   },
   {
    "duration": 11,
    "start_time": "2022-04-20T12:04:03.027Z"
   },
   {
    "duration": 41,
    "start_time": "2022-04-20T12:04:17.035Z"
   },
   {
    "duration": 12,
    "start_time": "2022-04-20T12:04:20.708Z"
   },
   {
    "duration": 12,
    "start_time": "2022-04-20T12:04:21.381Z"
   },
   {
    "duration": 4,
    "start_time": "2022-04-20T12:04:22.888Z"
   },
   {
    "duration": 16,
    "start_time": "2022-04-20T12:04:24.034Z"
   },
   {
    "duration": 13,
    "start_time": "2022-04-20T12:04:24.846Z"
   },
   {
    "duration": 14,
    "start_time": "2022-04-20T12:04:24.860Z"
   },
   {
    "duration": 14,
    "start_time": "2022-04-20T12:04:25.100Z"
   },
   {
    "duration": 15,
    "start_time": "2022-04-20T12:04:25.621Z"
   },
   {
    "duration": 14,
    "start_time": "2022-04-20T12:04:26.049Z"
   },
   {
    "duration": 8,
    "start_time": "2022-04-20T12:04:28.069Z"
   },
   {
    "duration": 11,
    "start_time": "2022-04-20T12:05:28.734Z"
   },
   {
    "duration": 9,
    "start_time": "2022-04-20T12:05:28.920Z"
   },
   {
    "duration": 4,
    "start_time": "2022-04-20T12:05:29.442Z"
   },
   {
    "duration": 18,
    "start_time": "2022-04-20T12:05:29.974Z"
   },
   {
    "duration": 12,
    "start_time": "2022-04-20T12:05:30.166Z"
   },
   {
    "duration": 17,
    "start_time": "2022-04-20T12:05:30.345Z"
   },
   {
    "duration": 12,
    "start_time": "2022-04-20T12:05:30.542Z"
   },
   {
    "duration": 8,
    "start_time": "2022-04-20T12:05:31.702Z"
   },
   {
    "duration": 6,
    "start_time": "2022-04-20T12:05:32.341Z"
   },
   {
    "duration": 5,
    "start_time": "2022-04-20T12:05:32.778Z"
   },
   {
    "duration": 5,
    "start_time": "2022-04-20T12:05:33.236Z"
   },
   {
    "duration": 23,
    "start_time": "2022-04-20T12:06:20.984Z"
   },
   {
    "duration": 24,
    "start_time": "2022-04-20T12:06:31.578Z"
   },
   {
    "duration": 4,
    "start_time": "2022-04-20T12:06:37.169Z"
   },
   {
    "duration": 16,
    "start_time": "2022-04-20T12:09:02.565Z"
   },
   {
    "duration": 14,
    "start_time": "2022-04-20T12:09:02.751Z"
   },
   {
    "duration": 16,
    "start_time": "2022-04-20T12:09:02.947Z"
   },
   {
    "duration": 13,
    "start_time": "2022-04-20T12:09:03.137Z"
   },
   {
    "duration": 16,
    "start_time": "2022-04-20T12:09:03.318Z"
   },
   {
    "duration": 14,
    "start_time": "2022-04-20T12:09:03.515Z"
   },
   {
    "duration": 8,
    "start_time": "2022-04-20T12:09:04.448Z"
   },
   {
    "duration": 10,
    "start_time": "2022-04-20T12:10:30.120Z"
   },
   {
    "duration": 40,
    "start_time": "2022-04-20T12:12:53.251Z"
   },
   {
    "duration": 61,
    "start_time": "2022-04-20T12:14:04.000Z"
   },
   {
    "duration": 15,
    "start_time": "2022-04-20T12:14:19.554Z"
   },
   {
    "duration": 12,
    "start_time": "2022-04-20T12:14:25.363Z"
   },
   {
    "duration": 4,
    "start_time": "2022-04-20T12:16:34.773Z"
   },
   {
    "duration": 5,
    "start_time": "2022-04-20T12:16:41.401Z"
   },
   {
    "duration": 5,
    "start_time": "2022-04-20T12:23:20.989Z"
   },
   {
    "duration": 4,
    "start_time": "2022-04-20T12:23:26.571Z"
   },
   {
    "duration": 102,
    "start_time": "2022-04-20T12:23:58.372Z"
   },
   {
    "duration": 6,
    "start_time": "2022-04-20T12:24:16.695Z"
   },
   {
    "duration": 520,
    "start_time": "2022-04-20T12:24:52.332Z"
   },
   {
    "duration": 94,
    "start_time": "2022-04-20T12:24:54.944Z"
   },
   {
    "duration": 98,
    "start_time": "2022-04-20T12:25:57.022Z"
   },
   {
    "duration": 8,
    "start_time": "2022-04-20T12:26:25.171Z"
   },
   {
    "duration": 95,
    "start_time": "2022-04-20T12:26:26.561Z"
   },
   {
    "duration": 96,
    "start_time": "2022-04-20T12:27:46.311Z"
   },
   {
    "duration": 94,
    "start_time": "2022-04-20T12:28:01.810Z"
   },
   {
    "duration": 182,
    "start_time": "2022-04-20T12:28:13.974Z"
   },
   {
    "duration": 94,
    "start_time": "2022-04-20T12:28:57.761Z"
   },
   {
    "duration": 113,
    "start_time": "2022-04-20T12:29:15.326Z"
   },
   {
    "duration": 5,
    "start_time": "2022-04-20T12:36:50.287Z"
   },
   {
    "duration": 6,
    "start_time": "2022-04-20T12:37:02.339Z"
   },
   {
    "duration": 4,
    "start_time": "2022-04-20T12:37:10.798Z"
   },
   {
    "duration": 5,
    "start_time": "2022-04-20T12:37:15.819Z"
   },
   {
    "duration": 3,
    "start_time": "2022-04-20T12:37:27.025Z"
   },
   {
    "duration": 97,
    "start_time": "2022-04-20T12:43:49.717Z"
   },
   {
    "duration": 95,
    "start_time": "2022-04-20T12:44:20.470Z"
   },
   {
    "duration": 436,
    "start_time": "2022-04-20T18:56:30.988Z"
   },
   {
    "duration": 159,
    "start_time": "2022-04-20T18:56:31.426Z"
   },
   {
    "duration": 18,
    "start_time": "2022-04-20T18:56:31.587Z"
   },
   {
    "duration": 34,
    "start_time": "2022-04-20T18:56:31.607Z"
   },
   {
    "duration": 4,
    "start_time": "2022-04-20T18:56:31.642Z"
   },
   {
    "duration": 16,
    "start_time": "2022-04-20T18:56:31.648Z"
   },
   {
    "duration": 8,
    "start_time": "2022-04-20T18:56:31.666Z"
   },
   {
    "duration": 48,
    "start_time": "2022-04-20T18:56:31.676Z"
   },
   {
    "duration": 20,
    "start_time": "2022-04-20T18:56:31.725Z"
   },
   {
    "duration": 26,
    "start_time": "2022-04-20T18:56:31.748Z"
   },
   {
    "duration": 88,
    "start_time": "2022-04-20T18:56:31.776Z"
   },
   {
    "duration": 93,
    "start_time": "2022-04-20T18:56:31.866Z"
   },
   {
    "duration": 71,
    "start_time": "2022-04-20T18:56:31.961Z"
   },
   {
    "duration": 42,
    "start_time": "2022-04-20T18:56:32.034Z"
   },
   {
    "duration": 3,
    "start_time": "2022-04-20T18:56:32.078Z"
   },
   {
    "duration": 16,
    "start_time": "2022-04-20T18:56:32.082Z"
   },
   {
    "duration": 53,
    "start_time": "2022-04-20T18:56:32.100Z"
   },
   {
    "duration": 14,
    "start_time": "2022-04-20T18:56:32.154Z"
   },
   {
    "duration": 13,
    "start_time": "2022-04-20T18:56:32.170Z"
   },
   {
    "duration": 4,
    "start_time": "2022-04-20T18:56:32.185Z"
   },
   {
    "duration": 48,
    "start_time": "2022-04-20T18:56:32.190Z"
   },
   {
    "duration": 12,
    "start_time": "2022-04-20T18:56:32.240Z"
   },
   {
    "duration": 23,
    "start_time": "2022-04-20T18:56:32.254Z"
   },
   {
    "duration": 13,
    "start_time": "2022-04-20T18:56:32.279Z"
   },
   {
    "duration": 33,
    "start_time": "2022-04-20T18:56:32.294Z"
   },
   {
    "duration": 15,
    "start_time": "2022-04-20T18:56:32.328Z"
   },
   {
    "duration": 13,
    "start_time": "2022-04-20T18:56:32.345Z"
   },
   {
    "duration": 14,
    "start_time": "2022-04-20T18:56:32.362Z"
   },
   {
    "duration": 16,
    "start_time": "2022-04-20T18:56:32.378Z"
   },
   {
    "duration": 5,
    "start_time": "2022-04-20T18:56:32.396Z"
   },
   {
    "duration": 19,
    "start_time": "2022-04-20T18:56:32.422Z"
   },
   {
    "duration": 13,
    "start_time": "2022-04-20T18:56:32.442Z"
   },
   {
    "duration": 21,
    "start_time": "2022-04-20T18:56:32.456Z"
   },
   {
    "duration": 10,
    "start_time": "2022-04-20T18:56:32.479Z"
   },
   {
    "duration": 32,
    "start_time": "2022-04-20T18:56:32.491Z"
   },
   {
    "duration": 5,
    "start_time": "2022-04-20T18:56:32.524Z"
   },
   {
    "duration": 24,
    "start_time": "2022-04-20T18:56:32.531Z"
   },
   {
    "duration": 6,
    "start_time": "2022-04-20T18:56:32.556Z"
   },
   {
    "duration": 34,
    "start_time": "2022-04-20T18:57:10.589Z"
   }
  ],
  "colab": {
   "collapsed_sections": [
    "E0vqbgi9ay0H",
    "VUC88oWjTJw2"
   ],
   "name": "yandex_music_project.ipynb",
   "provenance": []
  },
  "kernelspec": {
   "display_name": "Python 3 (ipykernel)",
   "language": "python",
   "name": "python3"
  },
  "language_info": {
   "codemirror_mode": {
    "name": "ipython",
    "version": 3
   },
   "file_extension": ".py",
   "mimetype": "text/x-python",
   "name": "python",
   "nbconvert_exporter": "python",
   "pygments_lexer": "ipython3",
   "version": "3.9.5"
  },
  "toc": {
   "base_numbering": 1,
   "nav_menu": {},
   "number_sections": true,
   "sideBar": true,
   "skip_h1_title": true,
   "title_cell": "Table of Contents",
   "title_sidebar": "Contents",
   "toc_cell": false,
   "toc_position": {
    "height": "calc(100% - 180px)",
    "left": "10px",
    "top": "150px",
    "width": "286.903px"
   },
   "toc_section_display": true,
   "toc_window_display": true
  }
 },
 "nbformat": 4,
 "nbformat_minor": 1
}
